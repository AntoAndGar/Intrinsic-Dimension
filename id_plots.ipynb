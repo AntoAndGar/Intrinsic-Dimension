{
 "cells": [
  {
   "cell_type": "code",
   "execution_count": 1,
   "metadata": {},
   "outputs": [],
   "source": [
    "import numpy as np\n",
    "from matplotlib.pylab import *\n",
    "from numpy import random\n",
    "from collections import OrderedDict\n",
    "import json"
   ]
  },
  {
   "cell_type": "code",
   "execution_count": 2,
   "metadata": {},
   "outputs": [],
   "source": [
    "import json"
   ]
  },
  {
   "cell_type": "markdown",
   "metadata": {},
   "source": [
    "Most of the plots reproduce the results from the main paper, so to have a 1:1 comparison between figures, with my data, when possible the code is obtained from https://github.com/uber-research/intrinsic-dimension "
   ]
  },
  {
   "cell_type": "code",
   "execution_count": 3,
   "metadata": {},
   "outputs": [],
   "source": [
    "def figsize(width,height):\n",
    "    rcParams['figure.figsize'] = (width,height)"
   ]
  },
  {
   "cell_type": "code",
   "execution_count": 4,
   "metadata": {},
   "outputs": [],
   "source": [
    "def plot_perf_with_std(unique_dim, acc_mean, acc_std, acc_solved_mean, acc_solved_std, dim_solved_mean,dim_solved_std, baseline=None, logx=False,xlim_v=None, ylim_v=None, saveas=None):\n",
    "    plotfn = semilogx if logx else plot\n",
    "    figsize(10, 5)\n",
    "    #plt.rc('text', usetex=True)\n",
    "\n",
    "    dir_perf = acc_mean[0]\n",
    "    sub_perf = acc_mean[1:]\n",
    "    \n",
    "    if baseline!=None:\n",
    "        dir_perf=baseline\n",
    "\n",
    "    axhline(dir_perf, color=(0.0,0.0,0.0), ls='-', label='baseline')\n",
    "    axhline(.9 * dir_perf, color=(0.0,0.0,0.0), ls='--', label='90% baseline')\n",
    "    plotfn(unique_dim[1:], sub_perf, '-', mec='b', lw=3, mfc=(.7,.7,1), color=(.7,.7,1), ms=14)    \n",
    "    plotfn(unique_dim[1:], sub_perf, 'o', mec='b', lw=3, mfc=(.7,.7,1), color=(.7,.7,1), ms=14)\n",
    "    plotfn(dim_solved_mean, acc_solved_mean, 'o', mec='b', lw=3, mfc='b', ms=14)\n",
    "    \n",
    "    errorbar(unique_dim[1:],  sub_perf,  yerr=acc_solved_std, color='b',  alpha=0.5, capsize=8, elinewidth=5, markersize=8, capthick=2)\n",
    "    errorbar(dim_solved_mean,  acc_solved_mean,  xerr=dim_solved_std, color='r',  alpha=1.0, capsize=8, elinewidth=5, markersize=8, capthick=4)\n",
    "    if xlim_v!=None:\n",
    "        xlim(xlim_v)\n",
    "    if ylim_v!=None:\n",
    "        ylim(ylim_v)\n",
    "    xlabel('Subspace dim $d$')\n",
    "    ylabel('Validation accuracy')\n",
    "    tight_layout()\n",
    "    legend(loc=4)\n",
    "    #if saveas:\n",
    "    #    savefig('%s.png' % saveas)\n",
    "    #    savefig('%s.pdf' % saveas)"
   ]
  },
  {
   "cell_type": "code",
   "execution_count": 5,
   "metadata": {},
   "outputs": [],
   "source": [
    "def compt_dim_int(dat, baseline=None):\n",
    "    #performance with intrinsic dimension 0 (direct) \n",
    "    dir_perf = np.mean(dat[dat[:,0]==0,:],0)[1]\n",
    "    #dimension and performance with intrinsic dimension > 0 (subspace)\n",
    "    sub_perf = dat[dat[:,0]!=0,:]\n",
    "    \n",
    "    unique_dim = sorted(list(set(sub_perf[:,0])))\n",
    "    perf_mean = [np.mean(dat[dat[:,0]==d,:],0)[1] for d in unique_dim]\n",
    "\n",
    "    if baseline!=None:\n",
    "        dir_perf=baseline\n",
    "    for i in range(len(unique_dim)):\n",
    "        if perf_mean[i]>dir_perf*.90:\n",
    "            break\n",
    "    return unique_dim[i], perf_mean[i]"
   ]
  },
  {
   "cell_type": "code",
   "execution_count": 6,
   "metadata": {},
   "outputs": [],
   "source": [
    "def format_data(data_btsp, baseline=1.0):\n",
    "    print(data_btsp)\n",
    "    data_btsp = np.array(data_btsp)\n",
    "    print(data_btsp.shape)\n",
    "\n",
    "    unique_dim = sorted(list(set(data_btsp[:,0])))\n",
    "    print(unique_dim)\n",
    "\n",
    "    # bootstrap M samples\n",
    "    M = 100\n",
    "    acc_btrp=[]\n",
    "    for d in unique_dim:\n",
    "        idx_ = np.where(data_btsp[:,0]==d)[0]\n",
    "        rdm_seed = np.random.randint(1, size=M) #TODO: when you have data change this to 3 to have 3 different samples for id\n",
    "        acc_btrp.append([ [d, data_btsp[ idx_[i], 1]] for i in rdm_seed  ])\n",
    "    acc_btrp = np.array(acc_btrp)    \n",
    "    print(acc_btrp.shape)\n",
    "\n",
    "    d_int_array, acc_int_array = np.ones(M), np.ones(M)\n",
    "    for m in range(M):\n",
    "        d_int_, acc_int_ = compt_dim_int(acc_btrp[:,m,:], baseline=baseline)\n",
    "        d_int_array[m], acc_int_array[m] = d_int_, acc_int_\n",
    "        \n",
    "    print(d_int_array)\n",
    "\n",
    "    dim_solved_mean = np.mean(d_int_array)\n",
    "    dim_solved_std = np.std(d_int_array)\n",
    "    print(\"d_int: mean=\"+str(dim_solved_mean) + \", std=\" +str( dim_solved_std) )\n",
    "\n",
    "    acc_solved_mean = np.mean(acc_int_array)\n",
    "    acc_solved_std = np.std(acc_int_array)\n",
    "    print(\"d_int: mean=\"+str(acc_solved_mean) + \", std=\" +str( acc_solved_std) )\n",
    "\n",
    "    acc_mean = np.mean(acc_btrp[:,:,1], axis=1)\n",
    "    acc_std = np.std(acc_btrp[:,:,1], axis=1)\n",
    "    return unique_dim, acc_mean, acc_std, acc_solved_mean, acc_solved_std, dim_solved_mean, dim_solved_std"
   ]
  },
  {
   "cell_type": "markdown",
   "metadata": {},
   "source": [
    "# MNIST Results"
   ]
  },
  {
   "cell_type": "code",
   "execution_count": 7,
   "metadata": {},
   "outputs": [],
   "source": [
    "# MNIST global baseline\n",
    "BASELINE = 1.0"
   ]
  },
  {
   "cell_type": "markdown",
   "metadata": {},
   "source": [
    "## Fully Connected - Global Baseline"
   ]
  },
  {
   "cell_type": "code",
   "execution_count": 8,
   "metadata": {},
   "outputs": [],
   "source": [
    "with open('results_fc200.json') as f:\n",
    "    data = json.load(f)\n",
    "f.close()\n",
    "\n",
    "data_fcn200 = [] # 0 is the dimension of the full space and 100 is the local baseline accuracy\n",
    "for k,v in data.items():\n",
    "    data_fcn200.append([v['intrinsic_dimension'],v['best_accuracy']])"
   ]
  },
  {
   "cell_type": "code",
   "execution_count": 9,
   "metadata": {},
   "outputs": [
    {
     "name": "stdout",
     "output_type": "stream",
     "text": [
      "[[100, 0.5833], [200, 0.7451], [300, 0.8231], [400, 0.8636], [500, 0.8832], [600, 0.902], [700, 0.9004], [650, 0.8973], [675, 0.9002], [625, 0.8982], [800, 0.9137], [900, 0.9239], [1000, 0.9282], [1100, 0.9286], [1200, 0.9339], [1300, 0.9346], [525, 0.8862], [550, 0.889], [575, 0.8935], [0, 0.9817], [50, 0.4863], [10, 0.2289]]\n",
      "(22, 2)\n",
      "[0.0, 10.0, 50.0, 100.0, 200.0, 300.0, 400.0, 500.0, 525.0, 550.0, 575.0, 600.0, 625.0, 650.0, 675.0, 700.0, 800.0, 900.0, 1000.0, 1100.0, 1200.0, 1300.0]\n",
      "(22, 100, 2)\n",
      "[600. 600. 600. 600. 600. 600. 600. 600. 600. 600. 600. 600. 600. 600.\n",
      " 600. 600. 600. 600. 600. 600. 600. 600. 600. 600. 600. 600. 600. 600.\n",
      " 600. 600. 600. 600. 600. 600. 600. 600. 600. 600. 600. 600. 600. 600.\n",
      " 600. 600. 600. 600. 600. 600. 600. 600. 600. 600. 600. 600. 600. 600.\n",
      " 600. 600. 600. 600. 600. 600. 600. 600. 600. 600. 600. 600. 600. 600.\n",
      " 600. 600. 600. 600. 600. 600. 600. 600. 600. 600. 600. 600. 600. 600.\n",
      " 600. 600. 600. 600. 600. 600. 600. 600. 600. 600. 600. 600. 600. 600.\n",
      " 600. 600.]\n",
      "d_int: mean=600.0, std=0.0\n",
      "d_int: mean=0.9019999999999999, std=1.1102230246251565e-16\n"
     ]
    },
    {
     "data": {
      "image/png": "[encoded data removed]",
      "text/plain": [
       "<Figure size 720x360 with 1 Axes>"
      ]
     },
     "metadata": {
      "needs_background": "light"
     },
     "output_type": "display_data"
    }
   ],
   "source": [
    "unique_dim, acc_mean, acc_std, acc_solved_mean, acc_solved_std, dim_solved_mean, dim_solved_std = format_data(data_fcn200)\n",
    "plot_perf_with_std(unique_dim, acc_mean, acc_std, acc_solved_mean, acc_solved_std, dim_solved_mean, dim_solved_std, baseline=BASELINE, logx=False,xlim_v=[-10,1400], ylim_v=[0.0, 1.0], saveas='dim_mnist_mlp_2_200_std')"
   ]
  },
  {
   "cell_type": "markdown",
   "metadata": {},
   "source": [
    "## Fully Connected - Local Baseline"
   ]
  },
  {
   "cell_type": "code",
   "execution_count": 10,
   "metadata": {},
   "outputs": [
    {
     "name": "stdout",
     "output_type": "stream",
     "text": [
      "[[100, 0.5833], [200, 0.7451], [300, 0.8231], [400, 0.8636], [500, 0.8832], [600, 0.902], [700, 0.9004], [650, 0.8973], [675, 0.9002], [625, 0.8982], [800, 0.9137], [900, 0.9239], [1000, 0.9282], [1100, 0.9286], [1200, 0.9339], [1300, 0.9346], [525, 0.8862], [550, 0.889], [575, 0.8935], [0, 0.9817], [50, 0.4863], [10, 0.2289]]\n",
      "(22, 2)\n",
      "[0.0, 10.0, 50.0, 100.0, 200.0, 300.0, 400.0, 500.0, 525.0, 550.0, 575.0, 600.0, 625.0, 650.0, 675.0, 700.0, 800.0, 900.0, 1000.0, 1100.0, 1200.0, 1300.0]\n",
      "(22, 100, 2)\n",
      "[600. 600. 600. 600. 600. 600. 600. 600. 600. 600. 600. 600. 600. 600.\n",
      " 600. 600. 600. 600. 600. 600. 600. 600. 600. 600. 600. 600. 600. 600.\n",
      " 600. 600. 600. 600. 600. 600. 600. 600. 600. 600. 600. 600. 600. 600.\n",
      " 600. 600. 600. 600. 600. 600. 600. 600. 600. 600. 600. 600. 600. 600.\n",
      " 600. 600. 600. 600. 600. 600. 600. 600. 600. 600. 600. 600. 600. 600.\n",
      " 600. 600. 600. 600. 600. 600. 600. 600. 600. 600. 600. 600. 600. 600.\n",
      " 600. 600. 600. 600. 600. 600. 600. 600. 600. 600. 600. 600. 600. 600.\n",
      " 600. 600.]\n",
      "d_int: mean=600.0, std=0.0\n",
      "d_int: mean=0.9019999999999999, std=1.1102230246251565e-16\n"
     ]
    },
    {
     "data": {
      "image/png": "[encoded data removed]",
      "text/plain": [
       "<Figure size 720x360 with 1 Axes>"
      ]
     },
     "metadata": {
      "needs_background": "light"
     },
     "output_type": "display_data"
    }
   ],
   "source": [
    "unique_dim, acc_mean, acc_std, acc_solved_mean, acc_solved_std, dim_solved_mean, dim_solved_std = format_data(data_fcn200)\n",
    "plot_perf_with_std(unique_dim, acc_mean, acc_std, acc_solved_mean, acc_solved_std, dim_solved_mean, dim_solved_std, logx=False,xlim_v=[-10,1400], ylim_v=[0.0, 1.0], saveas='dim_mnist_mlp_2_200_std')"
   ]
  },
  {
   "cell_type": "markdown",
   "metadata": {},
   "source": [
    "## LeNet - Global Baseline "
   ]
  },
  {
   "cell_type": "code",
   "execution_count": 11,
   "metadata": {},
   "outputs": [],
   "source": [
    "with open('results/lenet/results_lenet_mnist.json') as f:\n",
    "    data = json.load(f)\n",
    "f.close()\n",
    "\n",
    "data_lenet_mnist = [] # 0 is the dimension of the full space and 100 is the global baseline accuracy (100%)\n",
    "for k,v in data.items():\n",
    "    data_lenet_mnist.append([v['intrinsic_dimension'],v['best_accuracy']])"
   ]
  },
  {
   "cell_type": "code",
   "execution_count": 12,
   "metadata": {},
   "outputs": [
    {
     "name": "stdout",
     "output_type": "stream",
     "text": [
      "[[10, 0.2362], [50, 0.6189], [100, 0.811], [200, 0.9228], [300, 0.9387], [500, 0.9656], [1000, 0.9764], [150, 0.8792], [400, 0.9523], [125, 0.8486], [175, 0.901], [225, 0.9295], [250, 0.9281], [275, 0.9351], [185, 0.8953], [190, 0.8937], [195, 0.9106], [205, 0.9057], [210, 0.9075], [0, 0.9892], [170, 0.9028], [165, 0.8901], [160, 0.8903], [180, 0.8931]]\n",
      "(24, 2)\n",
      "[0.0, 10.0, 50.0, 100.0, 125.0, 150.0, 160.0, 165.0, 170.0, 175.0, 180.0, 185.0, 190.0, 195.0, 200.0, 205.0, 210.0, 225.0, 250.0, 275.0, 300.0, 400.0, 500.0, 1000.0]\n",
      "(24, 100, 2)\n",
      "[170. 170. 170. 170. 170. 170. 170. 170. 170. 170. 170. 170. 170. 170.\n",
      " 170. 170. 170. 170. 170. 170. 170. 170. 170. 170. 170. 170. 170. 170.\n",
      " 170. 170. 170. 170. 170. 170. 170. 170. 170. 170. 170. 170. 170. 170.\n",
      " 170. 170. 170. 170. 170. 170. 170. 170. 170. 170. 170. 170. 170. 170.\n",
      " 170. 170. 170. 170. 170. 170. 170. 170. 170. 170. 170. 170. 170. 170.\n",
      " 170. 170. 170. 170. 170. 170. 170. 170. 170. 170. 170. 170. 170. 170.\n",
      " 170. 170. 170. 170. 170. 170. 170. 170. 170. 170. 170. 170. 170. 170.\n",
      " 170. 170.]\n",
      "d_int: mean=170.0, std=0.0\n",
      "d_int: mean=0.9027999999999997, std=3.3306690738754696e-16\n"
     ]
    },
    {
     "data": {
      "image/png": "[encoded data removed]",
      "text/plain": [
       "<Figure size 720x360 with 1 Axes>"
      ]
     },
     "metadata": {
      "needs_background": "light"
     },
     "output_type": "display_data"
    }
   ],
   "source": [
    "unique_dim, acc_mean, acc_std, acc_solved_mean, acc_solved_std, dim_solved_mean, dim_solved_std = format_data(data_lenet_mnist)\n",
    "plot_perf_with_std(unique_dim, acc_mean, acc_std, acc_solved_mean, acc_solved_std, dim_solved_mean,dim_solved_std, baseline=BASELINE, logx=False,xlim_v=[-2,450], ylim_v=[0.0,1.0], saveas='dim_mnist_mlp_2_200_std')"
   ]
  },
  {
   "cell_type": "markdown",
   "metadata": {},
   "source": [
    "## LeNet - Local Baseline "
   ]
  },
  {
   "cell_type": "code",
   "execution_count": 13,
   "metadata": {},
   "outputs": [
    {
     "name": "stdout",
     "output_type": "stream",
     "text": [
      "[[10, 0.2362], [50, 0.6189], [100, 0.811], [200, 0.9228], [300, 0.9387], [500, 0.9656], [1000, 0.9764], [150, 0.8792], [400, 0.9523], [125, 0.8486], [175, 0.901], [225, 0.9295], [250, 0.9281], [275, 0.9351], [185, 0.8953], [190, 0.8937], [195, 0.9106], [205, 0.9057], [210, 0.9075], [0, 0.9892], [170, 0.9028], [165, 0.8901], [160, 0.8903], [180, 0.8931]]\n",
      "(24, 2)\n",
      "[0.0, 10.0, 50.0, 100.0, 125.0, 150.0, 160.0, 165.0, 170.0, 175.0, 180.0, 185.0, 190.0, 195.0, 200.0, 205.0, 210.0, 225.0, 250.0, 275.0, 300.0, 400.0, 500.0, 1000.0]\n",
      "(24, 100, 2)\n",
      "[170. 170. 170. 170. 170. 170. 170. 170. 170. 170. 170. 170. 170. 170.\n",
      " 170. 170. 170. 170. 170. 170. 170. 170. 170. 170. 170. 170. 170. 170.\n",
      " 170. 170. 170. 170. 170. 170. 170. 170. 170. 170. 170. 170. 170. 170.\n",
      " 170. 170. 170. 170. 170. 170. 170. 170. 170. 170. 170. 170. 170. 170.\n",
      " 170. 170. 170. 170. 170. 170. 170. 170. 170. 170. 170. 170. 170. 170.\n",
      " 170. 170. 170. 170. 170. 170. 170. 170. 170. 170. 170. 170. 170. 170.\n",
      " 170. 170. 170. 170. 170. 170. 170. 170. 170. 170. 170. 170. 170. 170.\n",
      " 170. 170.]\n",
      "d_int: mean=170.0, std=0.0\n",
      "d_int: mean=0.9027999999999997, std=3.3306690738754696e-16\n"
     ]
    },
    {
     "data": {
      "image/png": "[encoded data removed]",
      "text/plain": [
       "<Figure size 720x360 with 1 Axes>"
      ]
     },
     "metadata": {
      "needs_background": "light"
     },
     "output_type": "display_data"
    }
   ],
   "source": [
    "unique_dim, acc_mean, acc_std, acc_solved_mean, acc_solved_std, dim_solved_mean, dim_solved_std = format_data(data_lenet_mnist)\n",
    "plot_perf_with_std(unique_dim, acc_mean, acc_std, acc_solved_mean, acc_solved_std, dim_solved_mean,dim_solved_std, logx=False,xlim_v=[-2,450], ylim_v=[0.0,1.0], saveas='dim_mnist_mlp_2_200_std')"
   ]
  },
  {
   "cell_type": "markdown",
   "metadata": {},
   "source": [
    "## Untied LeNet - Global Baseline"
   ]
  },
  {
   "cell_type": "code",
   "execution_count": 14,
   "metadata": {},
   "outputs": [],
   "source": [
    "with open('results/untied_lenet/results_untied_lenet_mnist.json') as f:\n",
    "    data = json.load(f)\n",
    "f.close()\n",
    "\n",
    "data_untied_lenet = [] # 0 is the dimension of the full space and 100 is the global baseline accuracy (100%)\n",
    "for k,v in data.items():\n",
    "    data_untied_lenet.append([v['intrinsic_dimension'],v['best_accuracy']])"
   ]
  },
  {
   "cell_type": "code",
   "execution_count": 15,
   "metadata": {},
   "outputs": [
    {
     "name": "stdout",
     "output_type": "stream",
     "text": [
      "[[100, 0.7273], [200, 0.8412], [300, 0.8769], [400, 0.9077], [500, 0.916], [600, 0.9303], [700, 0.9376], [800, 0.9387], [900, 0.9431], [1000, 0.9463], [1100, 0.9524], [1200, 0.9498], [1300, 0.9563], [0, 0.9868], [50, 0.527], [10, 0.1758], [350, 0.9003], [450, 0.9142]]\n",
      "(18, 2)\n",
      "[0.0, 10.0, 50.0, 100.0, 200.0, 300.0, 350.0, 400.0, 450.0, 500.0, 600.0, 700.0, 800.0, 900.0, 1000.0, 1100.0, 1200.0, 1300.0]\n",
      "(18, 100, 2)\n",
      "[350. 350. 350. 350. 350. 350. 350. 350. 350. 350. 350. 350. 350. 350.\n",
      " 350. 350. 350. 350. 350. 350. 350. 350. 350. 350. 350. 350. 350. 350.\n",
      " 350. 350. 350. 350. 350. 350. 350. 350. 350. 350. 350. 350. 350. 350.\n",
      " 350. 350. 350. 350. 350. 350. 350. 350. 350. 350. 350. 350. 350. 350.\n",
      " 350. 350. 350. 350. 350. 350. 350. 350. 350. 350. 350. 350. 350. 350.\n",
      " 350. 350. 350. 350. 350. 350. 350. 350. 350. 350. 350. 350. 350. 350.\n",
      " 350. 350. 350. 350. 350. 350. 350. 350. 350. 350. 350. 350. 350. 350.\n",
      " 350. 350.]\n",
      "d_int: mean=350.0, std=0.0\n",
      "d_int: mean=0.9002999999999999, std=1.1102230246251565e-16\n"
     ]
    },
    {
     "data": {
      "image/png": "[encoded data removed]",
      "text/plain": [
       "<Figure size 720x360 with 1 Axes>"
      ]
     },
     "metadata": {
      "needs_background": "light"
     },
     "output_type": "display_data"
    }
   ],
   "source": [
    "unique_dim, acc_mean, acc_std, acc_solved_mean, acc_solved_std, dim_solved_mean, dim_solved_std = format_data(data_untied_lenet)\n",
    "plot_perf_with_std(unique_dim, acc_mean, acc_std, acc_solved_mean, acc_solved_std, dim_solved_mean,dim_solved_std, baseline=BASELINE, logx=False, xlim_v=[-10,1400], ylim_v=[0.0,1.0], saveas='dim_mnist_mlp_2_200_std')"
   ]
  },
  {
   "cell_type": "markdown",
   "metadata": {},
   "source": [
    "## Untied LeNet - Local Baseline"
   ]
  },
  {
   "cell_type": "code",
   "execution_count": 16,
   "metadata": {},
   "outputs": [
    {
     "name": "stdout",
     "output_type": "stream",
     "text": [
      "[[100, 0.7273], [200, 0.8412], [300, 0.8769], [400, 0.9077], [500, 0.916], [600, 0.9303], [700, 0.9376], [800, 0.9387], [900, 0.9431], [1000, 0.9463], [1100, 0.9524], [1200, 0.9498], [1300, 0.9563], [0, 0.9868], [50, 0.527], [10, 0.1758], [350, 0.9003], [450, 0.9142]]\n",
      "(18, 2)\n",
      "[0.0, 10.0, 50.0, 100.0, 200.0, 300.0, 350.0, 400.0, 450.0, 500.0, 600.0, 700.0, 800.0, 900.0, 1000.0, 1100.0, 1200.0, 1300.0]\n",
      "(18, 100, 2)\n",
      "[350. 350. 350. 350. 350. 350. 350. 350. 350. 350. 350. 350. 350. 350.\n",
      " 350. 350. 350. 350. 350. 350. 350. 350. 350. 350. 350. 350. 350. 350.\n",
      " 350. 350. 350. 350. 350. 350. 350. 350. 350. 350. 350. 350. 350. 350.\n",
      " 350. 350. 350. 350. 350. 350. 350. 350. 350. 350. 350. 350. 350. 350.\n",
      " 350. 350. 350. 350. 350. 350. 350. 350. 350. 350. 350. 350. 350. 350.\n",
      " 350. 350. 350. 350. 350. 350. 350. 350. 350. 350. 350. 350. 350. 350.\n",
      " 350. 350. 350. 350. 350. 350. 350. 350. 350. 350. 350. 350. 350. 350.\n",
      " 350. 350.]\n",
      "d_int: mean=350.0, std=0.0\n",
      "d_int: mean=0.9002999999999999, std=1.1102230246251565e-16\n"
     ]
    },
    {
     "data": {
      "image/png": "[encoded data removed]",
      "text/plain": [
       "<Figure size 720x360 with 1 Axes>"
      ]
     },
     "metadata": {
      "needs_background": "light"
     },
     "output_type": "display_data"
    }
   ],
   "source": [
    "unique_dim, acc_mean, acc_std, acc_solved_mean, acc_solved_std, dim_solved_mean, dim_solved_std = format_data(data_untied_lenet)\n",
    "plot_perf_with_std(unique_dim, acc_mean, acc_std, acc_solved_mean, acc_solved_std, dim_solved_mean,dim_solved_std, logx=False, xlim_v=[-10,1400], ylim_v=[0.0,1.0], saveas='dim_mnist_mlp_2_200_std')"
   ]
  },
  {
   "cell_type": "markdown",
   "metadata": {},
   "source": [
    "## FC LeNet - Global Baseline"
   ]
  },
  {
   "cell_type": "code",
   "execution_count": 17,
   "metadata": {},
   "outputs": [],
   "source": [
    "with open('results/fc_lenet/results_fc_lenet_mnist.json') as f:\n",
    "    data = json.load(f)\n",
    "f.close()\n",
    "\n",
    "data_fc_lenet = [] # 0 is the dimension of the full space and 100 is the global baseline accuracy (100%)\n",
    "for k,v in data.items():\n",
    "    data_fc_lenet.append([v['intrinsic_dimension'],v['best_accuracy']])"
   ]
  },
  {
   "cell_type": "code",
   "execution_count": 18,
   "metadata": {},
   "outputs": [
    {
     "name": "stdout",
     "output_type": "stream",
     "text": [
      "[[400, 0.8323], [600, 0.8781], [800, 0.8815], [1000, 0.9037], [0, 0.9772], [10, 0.114], [200, 0.4067], [900, 0.9049], [1100, 0.9042], [300, 0.7605], [1200, 0.9116], [250, 0.6846], [1400, 0.9159], [50, 0.1135], [100, 0.1823]]\n",
      "(15, 2)\n",
      "[0.0, 10.0, 50.0, 100.0, 200.0, 250.0, 300.0, 400.0, 600.0, 800.0, 900.0, 1000.0, 1100.0, 1200.0, 1400.0]\n",
      "(15, 100, 2)\n",
      "[900. 900. 900. 900. 900. 900. 900. 900. 900. 900. 900. 900. 900. 900.\n",
      " 900. 900. 900. 900. 900. 900. 900. 900. 900. 900. 900. 900. 900. 900.\n",
      " 900. 900. 900. 900. 900. 900. 900. 900. 900. 900. 900. 900. 900. 900.\n",
      " 900. 900. 900. 900. 900. 900. 900. 900. 900. 900. 900. 900. 900. 900.\n",
      " 900. 900. 900. 900. 900. 900. 900. 900. 900. 900. 900. 900. 900. 900.\n",
      " 900. 900. 900. 900. 900. 900. 900. 900. 900. 900. 900. 900. 900. 900.\n",
      " 900. 900. 900. 900. 900. 900. 900. 900. 900. 900. 900. 900. 900. 900.\n",
      " 900. 900.]\n",
      "d_int: mean=900.0, std=0.0\n",
      "d_int: mean=0.9048999999999997, std=3.3306690738754696e-16\n"
     ]
    },
    {
     "data": {
      "image/png": "[encoded data removed]",
      "text/plain": [
       "<Figure size 720x360 with 1 Axes>"
      ]
     },
     "metadata": {
      "needs_background": "light"
     },
     "output_type": "display_data"
    }
   ],
   "source": [
    "unique_dim, acc_mean, acc_std, acc_solved_mean, acc_solved_std, dim_solved_mean, dim_solved_std = format_data(data_fc_lenet)\n",
    "plot_perf_with_std(unique_dim, acc_mean, acc_std, acc_solved_mean, acc_solved_std, dim_solved_mean,dim_solved_std, baseline=BASELINE, logx=False,xlim_v=[-10,1600], ylim_v=[0,1.0], saveas='dim_mnist_mlp_2_200_std')"
   ]
  },
  {
   "cell_type": "markdown",
   "metadata": {},
   "source": [
    "## FC LeNet - Local Baseline"
   ]
  },
  {
   "cell_type": "code",
   "execution_count": 19,
   "metadata": {},
   "outputs": [
    {
     "name": "stdout",
     "output_type": "stream",
     "text": [
      "[[400, 0.8323], [600, 0.8781], [800, 0.8815], [1000, 0.9037], [0, 0.9772], [10, 0.114], [200, 0.4067], [900, 0.9049], [1100, 0.9042], [300, 0.7605], [1200, 0.9116], [250, 0.6846], [1400, 0.9159], [50, 0.1135], [100, 0.1823]]\n",
      "(15, 2)\n",
      "[0.0, 10.0, 50.0, 100.0, 200.0, 250.0, 300.0, 400.0, 600.0, 800.0, 900.0, 1000.0, 1100.0, 1200.0, 1400.0]\n",
      "(15, 100, 2)\n",
      "[900. 900. 900. 900. 900. 900. 900. 900. 900. 900. 900. 900. 900. 900.\n",
      " 900. 900. 900. 900. 900. 900. 900. 900. 900. 900. 900. 900. 900. 900.\n",
      " 900. 900. 900. 900. 900. 900. 900. 900. 900. 900. 900. 900. 900. 900.\n",
      " 900. 900. 900. 900. 900. 900. 900. 900. 900. 900. 900. 900. 900. 900.\n",
      " 900. 900. 900. 900. 900. 900. 900. 900. 900. 900. 900. 900. 900. 900.\n",
      " 900. 900. 900. 900. 900. 900. 900. 900. 900. 900. 900. 900. 900. 900.\n",
      " 900. 900. 900. 900. 900. 900. 900. 900. 900. 900. 900. 900. 900. 900.\n",
      " 900. 900.]\n",
      "d_int: mean=900.0, std=0.0\n",
      "d_int: mean=0.9048999999999997, std=3.3306690738754696e-16\n"
     ]
    },
    {
     "data": {
      "image/png": "[encoded data removed]",
      "text/plain": [
       "<Figure size 720x360 with 1 Axes>"
      ]
     },
     "metadata": {
      "needs_background": "light"
     },
     "output_type": "display_data"
    }
   ],
   "source": [
    "unique_dim, acc_mean, acc_std, acc_solved_mean, acc_solved_std, dim_solved_mean, dim_solved_std = format_data(data_fc_lenet)\n",
    "plot_perf_with_std(unique_dim, acc_mean, acc_std, acc_solved_mean, acc_solved_std, dim_solved_mean,dim_solved_std, logx=False,xlim_v=[-10,1600], ylim_v=[0,1.0], saveas='dim_mnist_mlp_2_200_std')"
   ]
  },
  {
   "cell_type": "markdown",
   "metadata": {},
   "source": [
    "## FC Tied LeNet - Global Baseline"
   ]
  },
  {
   "cell_type": "code",
   "execution_count": 20,
   "metadata": {},
   "outputs": [],
   "source": [
    "with open('results/fc_tied_lenet/results_fc_tied_lenet_mnist.json') as f:\n",
    "    data = json.load(f)\n",
    "f.close()\n",
    "\n",
    "data_fc_tied_lenet = [] # 0 is the dimension of the full space and 100 is the global baseline accuracy (100%)\n",
    "for k,v in data.items():\n",
    "    data_fc_tied_lenet.append([v['intrinsic_dimension'],v['best_accuracy']])"
   ]
  },
  {
   "cell_type": "code",
   "execution_count": 21,
   "metadata": {},
   "outputs": [
    {
     "name": "stdout",
     "output_type": "stream",
     "text": [
      "[[0, 0.989], [10, 0.2285], [50, 0.5198], [100, 0.6856], [200, 0.8362], [300, 0.882], [400, 0.9036], [500, 0.9207], [600, 0.9348], [700, 0.9375], [800, 0.9456], [900, 0.9476], [1000, 0.9516], [1100, 0.9563], [1200, 0.9565], [1300, 0.9578], [1400, 0.9606]]\n",
      "(17, 2)\n",
      "[0.0, 10.0, 50.0, 100.0, 200.0, 300.0, 400.0, 500.0, 600.0, 700.0, 800.0, 900.0, 1000.0, 1100.0, 1200.0, 1300.0, 1400.0]\n",
      "(17, 100, 2)\n",
      "[400. 400. 400. 400. 400. 400. 400. 400. 400. 400. 400. 400. 400. 400.\n",
      " 400. 400. 400. 400. 400. 400. 400. 400. 400. 400. 400. 400. 400. 400.\n",
      " 400. 400. 400. 400. 400. 400. 400. 400. 400. 400. 400. 400. 400. 400.\n",
      " 400. 400. 400. 400. 400. 400. 400. 400. 400. 400. 400. 400. 400. 400.\n",
      " 400. 400. 400. 400. 400. 400. 400. 400. 400. 400. 400. 400. 400. 400.\n",
      " 400. 400. 400. 400. 400. 400. 400. 400. 400. 400. 400. 400. 400. 400.\n",
      " 400. 400. 400. 400. 400. 400. 400. 400. 400. 400. 400. 400. 400. 400.\n",
      " 400. 400.]\n",
      "d_int: mean=400.0, std=0.0\n",
      "d_int: mean=0.9036000000000002, std=2.220446049250313e-16\n"
     ]
    },
    {
     "data": {
      "image/png": "[encoded data removed]",
      "text/plain": [
       "<Figure size 720x360 with 1 Axes>"
      ]
     },
     "metadata": {
      "needs_background": "light"
     },
     "output_type": "display_data"
    }
   ],
   "source": [
    "unique_dim, acc_mean, acc_std, acc_solved_mean, acc_solved_std, dim_solved_mean, dim_solved_std = format_data(data_fc_tied_lenet)\n",
    "plot_perf_with_std(unique_dim, acc_mean, acc_std, acc_solved_mean, acc_solved_std, dim_solved_mean,dim_solved_std, baseline=BASELINE, logx=False,xlim_v=[-10,1450], ylim_v=[0,1.0], saveas='dim_mnist_mlp_2_200_std')"
   ]
  },
  {
   "cell_type": "markdown",
   "metadata": {},
   "source": [
    "## FC Tied LeNet - Local Baseline"
   ]
  },
  {
   "cell_type": "code",
   "execution_count": 22,
   "metadata": {},
   "outputs": [
    {
     "name": "stdout",
     "output_type": "stream",
     "text": [
      "[[0, 0.989], [10, 0.2285], [50, 0.5198], [100, 0.6856], [200, 0.8362], [300, 0.882], [400, 0.9036], [500, 0.9207], [600, 0.9348], [700, 0.9375], [800, 0.9456], [900, 0.9476], [1000, 0.9516], [1100, 0.9563], [1200, 0.9565], [1300, 0.9578], [1400, 0.9606]]\n",
      "(17, 2)\n",
      "[0.0, 10.0, 50.0, 100.0, 200.0, 300.0, 400.0, 500.0, 600.0, 700.0, 800.0, 900.0, 1000.0, 1100.0, 1200.0, 1300.0, 1400.0]\n",
      "(17, 100, 2)\n",
      "[400. 400. 400. 400. 400. 400. 400. 400. 400. 400. 400. 400. 400. 400.\n",
      " 400. 400. 400. 400. 400. 400. 400. 400. 400. 400. 400. 400. 400. 400.\n",
      " 400. 400. 400. 400. 400. 400. 400. 400. 400. 400. 400. 400. 400. 400.\n",
      " 400. 400. 400. 400. 400. 400. 400. 400. 400. 400. 400. 400. 400. 400.\n",
      " 400. 400. 400. 400. 400. 400. 400. 400. 400. 400. 400. 400. 400. 400.\n",
      " 400. 400. 400. 400. 400. 400. 400. 400. 400. 400. 400. 400. 400. 400.\n",
      " 400. 400. 400. 400. 400. 400. 400. 400. 400. 400. 400. 400. 400. 400.\n",
      " 400. 400.]\n",
      "d_int: mean=400.0, std=0.0\n",
      "d_int: mean=0.9036000000000002, std=2.220446049250313e-16\n"
     ]
    },
    {
     "data": {
      "image/png": "[encoded data removed]",
      "text/plain": [
       "<Figure size 720x360 with 1 Axes>"
      ]
     },
     "metadata": {
      "needs_background": "light"
     },
     "output_type": "display_data"
    }
   ],
   "source": [
    "unique_dim, acc_mean, acc_std, acc_solved_mean, acc_solved_std, dim_solved_mean, dim_solved_std = format_data(data_fc_tied_lenet)\n",
    "plot_perf_with_std(unique_dim, acc_mean, acc_std, acc_solved_mean, acc_solved_std, dim_solved_mean,dim_solved_std, logx=False,xlim_v=[-10,1450], ylim_v=[0,1.0], saveas='dim_mnist_mlp_2_200_std')"
   ]
  },
  {
   "cell_type": "markdown",
   "metadata": {},
   "source": [
    "# CIFAR10"
   ]
  },
  {
   "cell_type": "code",
   "execution_count": 23,
   "metadata": {},
   "outputs": [],
   "source": [
    "# CIFAR10 global baseline\n",
    "BASELINE = 0.58"
   ]
  },
  {
   "cell_type": "markdown",
   "metadata": {},
   "source": [
    "## Fully Connected - Global Baseline"
   ]
  },
  {
   "cell_type": "code",
   "execution_count": 24,
   "metadata": {},
   "outputs": [],
   "source": [
    "with open('results/fcn/results_fcn_cifar10.json') as f:\n",
    "    data = json.load(f)\n",
    "f.close()\n",
    "\n",
    "data_fcn_cifar10 = [] # 0 is the dimension of the full space and 100 is the global baseline accuracy (100%)\n",
    "for k,v in data.items():\n",
    "    data_fcn_cifar10.append([v['intrinsic_dimension'],v['best_accuracy']])"
   ]
  },
  {
   "cell_type": "code",
   "execution_count": 61,
   "metadata": {},
   "outputs": [
    {
     "name": "stdout",
     "output_type": "stream",
     "text": [
      "[[0, 0.5256], [10, 0.1242], [100, 0.2673], [250, 0.3318], [500, 0.3691], [1000, 0.4063], [1500, 0.43], [2000, 0.4438], [3000, 0.4574], [4000, 0.4733], [5000, 0.4747], [6000, 0.477], [6250, 0.485], [6500, 0.4859], [6750, 0.4807], [7000, 0.4866], [7500, 0.4838], [8000, 0.488], [8500, 0.4872], [9000, 0.4894], [9500, 0.4837], [10000, 0.4892], [12000, 0.4969]]\n",
      "(23, 2)\n",
      "[0.0, 10.0, 100.0, 250.0, 500.0, 1000.0, 1500.0, 2000.0, 3000.0, 4000.0, 5000.0, 6000.0, 6250.0, 6500.0, 6750.0, 7000.0, 7500.0, 8000.0, 8500.0, 9000.0, 9500.0, 10000.0, 12000.0]\n",
      "(23, 100, 2)\n",
      "[12000. 12000. 12000. 12000. 12000. 12000. 12000. 12000. 12000. 12000.\n",
      " 12000. 12000. 12000. 12000. 12000. 12000. 12000. 12000. 12000. 12000.\n",
      " 12000. 12000. 12000. 12000. 12000. 12000. 12000. 12000. 12000. 12000.\n",
      " 12000. 12000. 12000. 12000. 12000. 12000. 12000. 12000. 12000. 12000.\n",
      " 12000. 12000. 12000. 12000. 12000. 12000. 12000. 12000. 12000. 12000.\n",
      " 12000. 12000. 12000. 12000. 12000. 12000. 12000. 12000. 12000. 12000.\n",
      " 12000. 12000. 12000. 12000. 12000. 12000. 12000. 12000. 12000. 12000.\n",
      " 12000. 12000. 12000. 12000. 12000. 12000. 12000. 12000. 12000. 12000.\n",
      " 12000. 12000. 12000. 12000. 12000. 12000. 12000. 12000. 12000. 12000.\n",
      " 12000. 12000. 12000. 12000. 12000. 12000. 12000. 12000. 12000. 12000.]\n",
      "d_int: mean=12000.0, std=0.0\n",
      "d_int: mean=0.4968999999999999, std=1.1102230246251565e-16\n"
     ]
    },
    {
     "data": {
      "image/png": "[encoded data removed]",
      "text/plain": [
       "<Figure size 720x360 with 1 Axes>"
      ]
     },
     "metadata": {
      "needs_background": "light"
     },
     "output_type": "display_data"
    }
   ],
   "source": [
    "unique_dim, acc_mean, acc_std, acc_solved_mean, acc_solved_std, dim_solved_mean, dim_solved_std = format_data(data_fcn_cifar10, baseline=BASELINE)\n",
    "plot_perf_with_std(unique_dim, acc_mean, acc_std, acc_solved_mean, acc_solved_std, dim_solved_mean,dim_solved_std, baseline=BASELINE, logx=False,xlim_v=[-100,13000], ylim_v=[0,0.6], saveas='dim_mnist_mlp_2_200_std')"
   ]
  },
  {
   "cell_type": "markdown",
   "metadata": {},
   "source": [
    "## Fully Connected - Local Baseline"
   ]
  },
  {
   "cell_type": "code",
   "execution_count": 26,
   "metadata": {},
   "outputs": [
    {
     "name": "stdout",
     "output_type": "stream",
     "text": [
      "[[6000, 0.477], [7000, 0.4866], [8000, 0.488], [8500, 0.4872], [9000, 0.4894], [0, 0.5256], [9500, 0.4837], [10000, 0.4892], [10, 0.1242], [500, 0.3691], [1000, 0.4063], [1500, 0.43], [2000, 0.4438], [100, 0.2673], [250, 0.3318], [3000, 0.4574], [4000, 0.4733], [5000, 0.4747], [6250, 0.485], [6500, 0.4859], [6750, 0.4807], [7500, 0.4838], [12000, 0.4969]]\n",
      "(23, 2)\n",
      "[0.0, 10.0, 100.0, 250.0, 500.0, 1000.0, 1500.0, 2000.0, 3000.0, 4000.0, 5000.0, 6000.0, 6250.0, 6500.0, 6750.0, 7000.0, 7500.0, 8000.0, 8500.0, 9000.0, 9500.0, 10000.0, 12000.0]\n",
      "(23, 100, 2)\n",
      "[4000. 4000. 4000. 4000. 4000. 4000. 4000. 4000. 4000. 4000. 4000. 4000.\n",
      " 4000. 4000. 4000. 4000. 4000. 4000. 4000. 4000. 4000. 4000. 4000. 4000.\n",
      " 4000. 4000. 4000. 4000. 4000. 4000. 4000. 4000. 4000. 4000. 4000. 4000.\n",
      " 4000. 4000. 4000. 4000. 4000. 4000. 4000. 4000. 4000. 4000. 4000. 4000.\n",
      " 4000. 4000. 4000. 4000. 4000. 4000. 4000. 4000. 4000. 4000. 4000. 4000.\n",
      " 4000. 4000. 4000. 4000. 4000. 4000. 4000. 4000. 4000. 4000. 4000. 4000.\n",
      " 4000. 4000. 4000. 4000. 4000. 4000. 4000. 4000. 4000. 4000. 4000. 4000.\n",
      " 4000. 4000. 4000. 4000. 4000. 4000. 4000. 4000. 4000. 4000. 4000. 4000.\n",
      " 4000. 4000. 4000. 4000.]\n",
      "d_int: mean=4000.0, std=0.0\n",
      "d_int: mean=0.47330000000000005, std=5.551115123125783e-17\n"
     ]
    },
    {
     "data": {
      "image/png": "[encoded data removed]",
      "text/plain": [
       "<Figure size 720x360 with 1 Axes>"
      ]
     },
     "metadata": {
      "needs_background": "light"
     },
     "output_type": "display_data"
    }
   ],
   "source": [
    "unique_dim, acc_mean, acc_std, acc_solved_mean, acc_solved_std, dim_solved_mean, dim_solved_std = format_data(data_fcn_cifar10, baseline=acc_mean[0])\n",
    "plot_perf_with_std(unique_dim, acc_mean, acc_std, acc_solved_mean, acc_solved_std, dim_solved_mean,dim_solved_std, logx=False,xlim_v=[-100,10500], ylim_v=[0,0.6], saveas='dim_mnist_mlp_2_200_std')"
   ]
  },
  {
   "cell_type": "markdown",
   "metadata": {},
   "source": [
    "## LeNet - Global Baseline"
   ]
  },
  {
   "cell_type": "code",
   "execution_count": 27,
   "metadata": {},
   "outputs": [],
   "source": [
    "with open('results/lenet/results_lenet_cifar10.json') as f:\n",
    "    data = json.load(f)\n",
    "f.close()\n",
    "\n",
    "data_lenet_cifar = [] # 0 is the dimension of the full space and 100 is the global baseline accuracy (100%)\n",
    "for k,v in data.items():\n",
    "    data_lenet_cifar.append([v['intrinsic_dimension'],v['best_accuracy']])"
   ]
  },
  {
   "cell_type": "code",
   "execution_count": 28,
   "metadata": {},
   "outputs": [
    {
     "name": "stdout",
     "output_type": "stream",
     "text": [
      "[[50, 0.239], [100, 0.2909], [200, 0.3607], [300, 0.3868], [400, 0.4212], [500, 0.4295], [600, 0.451], [700, 0.4562], [800, 0.4578], [900, 0.4694], [1000, 0.4733], [1100, 0.4861], [1200, 0.5069], [1300, 0.4913], [1400, 0.499], [1500, 0.5073], [1600, 0.5103], [1700, 0.518], [1800, 0.4972], [1900, 0.503], [2000, 0.5155], [2100, 0.5364], [2200, 0.5193], [2300, 0.5331], [2400, 0.5207], [2500, 0.5252], [2600, 0.5418], [2700, 0.5325], [2800, 0.5316], [2900, 0.5414], [3000, 0.551], [3100, 0.5355], [3200, 0.5499], [3300, 0.5409], [3400, 0.5276], [3500, 0.5289], [3600, 0.5488], [3700, 0.5599], [3800, 0.5539], [3900, 0.544], [4000, 0.5425], [4100, 0.5562], [4200, 0.5434], [4300, 0.5518], [4400, 0.5578], [4500, 0.5553], [0, 0.5725], [10, 0.1024]]\n",
      "(48, 2)\n",
      "[0.0, 10.0, 50.0, 100.0, 200.0, 300.0, 400.0, 500.0, 600.0, 700.0, 800.0, 900.0, 1000.0, 1100.0, 1200.0, 1300.0, 1400.0, 1500.0, 1600.0, 1700.0, 1800.0, 1900.0, 2000.0, 2100.0, 2200.0, 2300.0, 2400.0, 2500.0, 2600.0, 2700.0, 2800.0, 2900.0, 3000.0, 3100.0, 3200.0, 3300.0, 3400.0, 3500.0, 3600.0, 3700.0, 3800.0, 3900.0, 4000.0, 4100.0, 4200.0, 4300.0, 4400.0, 4500.0]\n",
      "(48, 100, 2)\n",
      "[2100. 2100. 2100. 2100. 2100. 2100. 2100. 2100. 2100. 2100. 2100. 2100.\n",
      " 2100. 2100. 2100. 2100. 2100. 2100. 2100. 2100. 2100. 2100. 2100. 2100.\n",
      " 2100. 2100. 2100. 2100. 2100. 2100. 2100. 2100. 2100. 2100. 2100. 2100.\n",
      " 2100. 2100. 2100. 2100. 2100. 2100. 2100. 2100. 2100. 2100. 2100. 2100.\n",
      " 2100. 2100. 2100. 2100. 2100. 2100. 2100. 2100. 2100. 2100. 2100. 2100.\n",
      " 2100. 2100. 2100. 2100. 2100. 2100. 2100. 2100. 2100. 2100. 2100. 2100.\n",
      " 2100. 2100. 2100. 2100. 2100. 2100. 2100. 2100. 2100. 2100. 2100. 2100.\n",
      " 2100. 2100. 2100. 2100. 2100. 2100. 2100. 2100. 2100. 2100. 2100. 2100.\n",
      " 2100. 2100. 2100. 2100.]\n",
      "d_int: mean=2100.0, std=0.0\n",
      "d_int: mean=0.5364000000000001, std=1.1102230246251565e-16\n"
     ]
    },
    {
     "data": {
      "image/png": "[encoded data removed]",
      "text/plain": [
       "<Figure size 720x360 with 1 Axes>"
      ]
     },
     "metadata": {
      "needs_background": "light"
     },
     "output_type": "display_data"
    }
   ],
   "source": [
    "unique_dim, acc_mean, acc_std, acc_solved_mean, acc_solved_std, dim_solved_mean, dim_solved_std = format_data(data_lenet_cifar, baseline=BASELINE)\n",
    "plot_perf_with_std(unique_dim, acc_mean, acc_std, acc_solved_mean, acc_solved_std, dim_solved_mean,dim_solved_std, baseline=BASELINE, logx=False,xlim_v=[-50,4600], ylim_v=[0,0.62], saveas='dim_mnist_mlp_2_200_std')"
   ]
  },
  {
   "cell_type": "markdown",
   "metadata": {},
   "source": [
    "## LeNet - Local Baseline"
   ]
  },
  {
   "cell_type": "code",
   "execution_count": 29,
   "metadata": {},
   "outputs": [
    {
     "name": "stdout",
     "output_type": "stream",
     "text": [
      "[[50, 0.239], [100, 0.2909], [200, 0.3607], [300, 0.3868], [400, 0.4212], [500, 0.4295], [600, 0.451], [700, 0.4562], [800, 0.4578], [900, 0.4694], [1000, 0.4733], [1100, 0.4861], [1200, 0.5069], [1300, 0.4913], [1400, 0.499], [1500, 0.5073], [1600, 0.5103], [1700, 0.518], [1800, 0.4972], [1900, 0.503], [2000, 0.5155], [2100, 0.5364], [2200, 0.5193], [2300, 0.5331], [2400, 0.5207], [2500, 0.5252], [2600, 0.5418], [2700, 0.5325], [2800, 0.5316], [2900, 0.5414], [3000, 0.551], [3100, 0.5355], [3200, 0.5499], [3300, 0.5409], [3400, 0.5276], [3500, 0.5289], [3600, 0.5488], [3700, 0.5599], [3800, 0.5539], [3900, 0.544], [4000, 0.5425], [4100, 0.5562], [4200, 0.5434], [4300, 0.5518], [4400, 0.5578], [4500, 0.5553], [0, 0.5725], [10, 0.1024]]\n",
      "(48, 2)\n",
      "[0.0, 10.0, 50.0, 100.0, 200.0, 300.0, 400.0, 500.0, 600.0, 700.0, 800.0, 900.0, 1000.0, 1100.0, 1200.0, 1300.0, 1400.0, 1500.0, 1600.0, 1700.0, 1800.0, 1900.0, 2000.0, 2100.0, 2200.0, 2300.0, 2400.0, 2500.0, 2600.0, 2700.0, 2800.0, 2900.0, 3000.0, 3100.0, 3200.0, 3300.0, 3400.0, 3500.0, 3600.0, 3700.0, 3800.0, 3900.0, 4000.0, 4100.0, 4200.0, 4300.0, 4400.0, 4500.0]\n",
      "(48, 100, 2)\n",
      "[1700. 1700. 1700. 1700. 1700. 1700. 1700. 1700. 1700. 1700. 1700. 1700.\n",
      " 1700. 1700. 1700. 1700. 1700. 1700. 1700. 1700. 1700. 1700. 1700. 1700.\n",
      " 1700. 1700. 1700. 1700. 1700. 1700. 1700. 1700. 1700. 1700. 1700. 1700.\n",
      " 1700. 1700. 1700. 1700. 1700. 1700. 1700. 1700. 1700. 1700. 1700. 1700.\n",
      " 1700. 1700. 1700. 1700. 1700. 1700. 1700. 1700. 1700. 1700. 1700. 1700.\n",
      " 1700. 1700. 1700. 1700. 1700. 1700. 1700. 1700. 1700. 1700. 1700. 1700.\n",
      " 1700. 1700. 1700. 1700. 1700. 1700. 1700. 1700. 1700. 1700. 1700. 1700.\n",
      " 1700. 1700. 1700. 1700. 1700. 1700. 1700. 1700. 1700. 1700. 1700. 1700.\n",
      " 1700. 1700. 1700. 1700.]\n",
      "d_int: mean=1700.0, std=0.0\n",
      "d_int: mean=0.5179999999999999, std=1.1102230246251565e-16\n"
     ]
    },
    {
     "data": {
      "image/png": "[encoded data removed]",
      "text/plain": [
       "<Figure size 720x360 with 1 Axes>"
      ]
     },
     "metadata": {
      "needs_background": "light"
     },
     "output_type": "display_data"
    }
   ],
   "source": [
    "unique_dim, acc_mean, acc_std, acc_solved_mean, acc_solved_std, dim_solved_mean, dim_solved_std = format_data(data_lenet_cifar, baseline=acc_mean[0])\n",
    "plot_perf_with_std(unique_dim, acc_mean, acc_std, acc_solved_mean, acc_solved_std, dim_solved_mean,dim_solved_std, logx=False,xlim_v=[-50,4600], ylim_v=[0,0.62], saveas='dim_mnist_mlp_2_200_std')"
   ]
  },
  {
   "cell_type": "markdown",
   "metadata": {},
   "source": [
    "## Untied LeNet - Global Baseline"
   ]
  },
  {
   "cell_type": "code",
   "execution_count": 30,
   "metadata": {},
   "outputs": [],
   "source": [
    "with open('results/untied_lenet/results_untied_lenet_cifar10.json') as f:\n",
    "    data = json.load(f)\n",
    "f.close()\n",
    "\n",
    "data_untied_lenet_cifar = [] # 0 is the dimension of the full space and 100 is the global baseline accuracy (100%)\n",
    "for k,v in data.items():\n",
    "    data_untied_lenet_cifar.append([v['intrinsic_dimension'],v['best_accuracy']])"
   ]
  },
  {
   "cell_type": "code",
   "execution_count": 31,
   "metadata": {},
   "outputs": [
    {
     "name": "stdout",
     "output_type": "stream",
     "text": [
      "[[0, 0.5984], [10000, 0.4639], [15000, 0.4827], [20000, 0.5], [25000, 0.5022], [12500, 0.48], [5000, 0.4042], [2000, 0.1], [1000, 0.1], [100, 0.1], [10, 0.1], [7000, 0.4251], [500, 0.1], [0, 0.1], [30000, 0.5068], [35000, 0.5198], [40000, 0.5178]]\n",
      "(17, 2)\n",
      "[0.0, 10.0, 100.0, 500.0, 1000.0, 2000.0, 5000.0, 7000.0, 10000.0, 12500.0, 15000.0, 20000.0, 25000.0, 30000.0, 35000.0, 40000.0]\n",
      "(16, 100, 2)\n",
      "[40000. 40000. 40000. 40000. 40000. 40000. 40000. 40000. 40000. 40000.\n",
      " 40000. 40000. 40000. 40000. 40000. 40000. 40000. 40000. 40000. 40000.\n",
      " 40000. 40000. 40000. 40000. 40000. 40000. 40000. 40000. 40000. 40000.\n",
      " 40000. 40000. 40000. 40000. 40000. 40000. 40000. 40000. 40000. 40000.\n",
      " 40000. 40000. 40000. 40000. 40000. 40000. 40000. 40000. 40000. 40000.\n",
      " 40000. 40000. 40000. 40000. 40000. 40000. 40000. 40000. 40000. 40000.\n",
      " 40000. 40000. 40000. 40000. 40000. 40000. 40000. 40000. 40000. 40000.\n",
      " 40000. 40000. 40000. 40000. 40000. 40000. 40000. 40000. 40000. 40000.\n",
      " 40000. 40000. 40000. 40000. 40000. 40000. 40000. 40000. 40000. 40000.\n",
      " 40000. 40000. 40000. 40000. 40000. 40000. 40000. 40000. 40000. 40000.]\n",
      "d_int: mean=40000.0, std=0.0\n",
      "d_int: mean=0.5178000000000003, std=2.220446049250313e-16\n"
     ]
    },
    {
     "data": {
      "image/png": "[encoded data removed]",
      "text/plain": [
       "<Figure size 720x360 with 1 Axes>"
      ]
     },
     "metadata": {
      "needs_background": "light"
     },
     "output_type": "display_data"
    }
   ],
   "source": [
    "unique_dim, acc_mean, acc_std, acc_solved_mean, acc_solved_std, dim_solved_mean, dim_solved_std = format_data(data_untied_lenet_cifar, baseline=BASELINE)\n",
    "plot_perf_with_std(unique_dim, acc_mean, acc_std, acc_solved_mean, acc_solved_std, dim_solved_mean,dim_solved_std, baseline=BASELINE, logx=False,xlim_v=[-50,45000], ylim_v=[0,0.62], saveas='dim_mnist_mlp_2_200_std')"
   ]
  },
  {
   "cell_type": "markdown",
   "metadata": {},
   "source": [
    "## Untied LeNet - Local Baseline"
   ]
  },
  {
   "cell_type": "code",
   "execution_count": 32,
   "metadata": {},
   "outputs": [
    {
     "name": "stdout",
     "output_type": "stream",
     "text": [
      "[[0, 0.5984], [10000, 0.4639], [15000, 0.4827], [20000, 0.5], [25000, 0.5022], [12500, 0.48], [5000, 0.4042], [2000, 0.1], [1000, 0.1], [100, 0.1], [10, 0.1], [7000, 0.4251], [500, 0.1], [0, 0.1], [30000, 0.5068], [35000, 0.5198], [40000, 0.5178]]\n",
      "(17, 2)\n",
      "[0.0, 10.0, 100.0, 500.0, 1000.0, 2000.0, 5000.0, 7000.0, 10000.0, 12500.0, 15000.0, 20000.0, 25000.0, 30000.0, 35000.0, 40000.0]\n",
      "(16, 100, 2)\n",
      "[40000. 40000. 40000. 40000. 40000. 40000. 40000. 40000. 40000. 40000.\n",
      " 40000. 40000. 40000. 40000. 40000. 40000. 40000. 40000. 40000. 40000.\n",
      " 40000. 40000. 40000. 40000. 40000. 40000. 40000. 40000. 40000. 40000.\n",
      " 40000. 40000. 40000. 40000. 40000. 40000. 40000. 40000. 40000. 40000.\n",
      " 40000. 40000. 40000. 40000. 40000. 40000. 40000. 40000. 40000. 40000.\n",
      " 40000. 40000. 40000. 40000. 40000. 40000. 40000. 40000. 40000. 40000.\n",
      " 40000. 40000. 40000. 40000. 40000. 40000. 40000. 40000. 40000. 40000.\n",
      " 40000. 40000. 40000. 40000. 40000. 40000. 40000. 40000. 40000. 40000.\n",
      " 40000. 40000. 40000. 40000. 40000. 40000. 40000. 40000. 40000. 40000.\n",
      " 40000. 40000. 40000. 40000. 40000. 40000. 40000. 40000. 40000. 40000.]\n",
      "d_int: mean=40000.0, std=0.0\n",
      "d_int: mean=0.5178000000000003, std=2.220446049250313e-16\n"
     ]
    },
    {
     "data": {
      "image/png": "[encoded data removed]",
      "text/plain": [
       "<Figure size 720x360 with 1 Axes>"
      ]
     },
     "metadata": {
      "needs_background": "light"
     },
     "output_type": "display_data"
    }
   ],
   "source": [
    "unique_dim, acc_mean, acc_std, acc_solved_mean, acc_solved_std, dim_solved_mean, dim_solved_std = format_data(data_untied_lenet_cifar, baseline=acc_mean[0])\n",
    "plot_perf_with_std(unique_dim, acc_mean, acc_std, acc_solved_mean, acc_solved_std, dim_solved_mean,dim_solved_std, logx=False,xlim_v=[-50,45000], ylim_v=[0,0.62], saveas='dim_mnist_mlp_2_200_std')"
   ]
  },
  {
   "cell_type": "markdown",
   "metadata": {},
   "source": [
    "## FC LeNet - Gobal Baseline"
   ]
  },
  {
   "cell_type": "code",
   "execution_count": 33,
   "metadata": {},
   "outputs": [],
   "source": [
    "with open('results/fc_lenet/results_fc_lenet_cifar10.json') as f:\n",
    "    data = json.load(f)\n",
    "f.close()\n",
    "\n",
    "data_fc_lenet_cifar = [] # 0 is the dimension of the full space and 100 is the global baseline accuracy (100%)\n",
    "for k,v in data.items():\n",
    "    data_fc_lenet_cifar.append([v['intrinsic_dimension'],v['best_accuracy']])"
   ]
  },
  {
   "cell_type": "code",
   "execution_count": 34,
   "metadata": {},
   "outputs": [
    {
     "name": "stdout",
     "output_type": "stream",
     "text": [
      "[[0, 0.5516], [5000, 0.4513], [10, 0.1165], [500, 0.3628], [1000, 0.3966], [2000, 0.4221], [30000, 0.5024], [15000, 0.4891], [27000, 0.5005], [45000, 0.5069], [35000, 0.5006], [70000, 0.516], [55000, 0.5106], [50000, 0.5127]]\n",
      "(14, 2)\n",
      "[0.0, 10.0, 500.0, 1000.0, 2000.0, 5000.0, 15000.0, 27000.0, 30000.0, 35000.0, 45000.0, 50000.0, 55000.0, 70000.0]\n",
      "(14, 100, 2)\n",
      "[70000. 70000. 70000. 70000. 70000. 70000. 70000. 70000. 70000. 70000.\n",
      " 70000. 70000. 70000. 70000. 70000. 70000. 70000. 70000. 70000. 70000.\n",
      " 70000. 70000. 70000. 70000. 70000. 70000. 70000. 70000. 70000. 70000.\n",
      " 70000. 70000. 70000. 70000. 70000. 70000. 70000. 70000. 70000. 70000.\n",
      " 70000. 70000. 70000. 70000. 70000. 70000. 70000. 70000. 70000. 70000.\n",
      " 70000. 70000. 70000. 70000. 70000. 70000. 70000. 70000. 70000. 70000.\n",
      " 70000. 70000. 70000. 70000. 70000. 70000. 70000. 70000. 70000. 70000.\n",
      " 70000. 70000. 70000. 70000. 70000. 70000. 70000. 70000. 70000. 70000.\n",
      " 70000. 70000. 70000. 70000. 70000. 70000. 70000. 70000. 70000. 70000.\n",
      " 70000. 70000. 70000. 70000. 70000. 70000. 70000. 70000. 70000. 70000.]\n",
      "d_int: mean=70000.0, std=0.0\n",
      "d_int: mean=0.5159999999999999, std=1.1102230246251565e-16\n"
     ]
    },
    {
     "data": {
      "image/png": "[encoded data removed]",
      "text/plain": [
       "<Figure size 720x360 with 1 Axes>"
      ]
     },
     "metadata": {
      "needs_background": "light"
     },
     "output_type": "display_data"
    }
   ],
   "source": [
    "unique_dim, acc_mean, acc_std, acc_solved_mean, acc_solved_std, dim_solved_mean, dim_solved_std = format_data(data_fc_lenet_cifar, baseline=BASELINE)\n",
    "plot_perf_with_std(unique_dim, acc_mean, acc_std, acc_solved_mean, acc_solved_std, dim_solved_mean,dim_solved_std, baseline=BASELINE, logx=False,xlim_v=[-750,75000], ylim_v=[0,0.62], saveas='dim_mnist_mlp_2_200_std')"
   ]
  },
  {
   "cell_type": "markdown",
   "metadata": {},
   "source": [
    "## FC LeNet - Local Baseline"
   ]
  },
  {
   "cell_type": "code",
   "execution_count": 35,
   "metadata": {},
   "outputs": [
    {
     "name": "stdout",
     "output_type": "stream",
     "text": [
      "[[0, 0.5516], [5000, 0.4513], [10, 0.1165], [500, 0.3628], [1000, 0.3966], [2000, 0.4221], [30000, 0.5024], [15000, 0.4891], [27000, 0.5005], [45000, 0.5069], [35000, 0.5006], [70000, 0.516], [55000, 0.5106], [50000, 0.5127]]\n",
      "(14, 2)\n",
      "[0.0, 10.0, 500.0, 1000.0, 2000.0, 5000.0, 15000.0, 27000.0, 30000.0, 35000.0, 45000.0, 50000.0, 55000.0, 70000.0]\n",
      "(14, 100, 2)\n",
      "[27000. 27000. 27000. 27000. 27000. 27000. 27000. 27000. 27000. 27000.\n",
      " 27000. 27000. 27000. 27000. 27000. 27000. 27000. 27000. 27000. 27000.\n",
      " 27000. 27000. 27000. 27000. 27000. 27000. 27000. 27000. 27000. 27000.\n",
      " 27000. 27000. 27000. 27000. 27000. 27000. 27000. 27000. 27000. 27000.\n",
      " 27000. 27000. 27000. 27000. 27000. 27000. 27000. 27000. 27000. 27000.\n",
      " 27000. 27000. 27000. 27000. 27000. 27000. 27000. 27000. 27000. 27000.\n",
      " 27000. 27000. 27000. 27000. 27000. 27000. 27000. 27000. 27000. 27000.\n",
      " 27000. 27000. 27000. 27000. 27000. 27000. 27000. 27000. 27000. 27000.\n",
      " 27000. 27000. 27000. 27000. 27000. 27000. 27000. 27000. 27000. 27000.\n",
      " 27000. 27000. 27000. 27000. 27000. 27000. 27000. 27000. 27000. 27000.]\n",
      "d_int: mean=27000.0, std=0.0\n",
      "d_int: mean=0.5005, std=0.0\n"
     ]
    },
    {
     "data": {
      "image/png": "[encoded data removed]",
      "text/plain": [
       "<Figure size 720x360 with 1 Axes>"
      ]
     },
     "metadata": {
      "needs_background": "light"
     },
     "output_type": "display_data"
    }
   ],
   "source": [
    "unique_dim, acc_mean, acc_std, acc_solved_mean, acc_solved_std, dim_solved_mean, dim_solved_std = format_data(data_fc_lenet_cifar, baseline=acc_mean[0])\n",
    "plot_perf_with_std(unique_dim, acc_mean, acc_std, acc_solved_mean, acc_solved_std, dim_solved_mean,dim_solved_std, logx=False,xlim_v=[-750,75000], ylim_v=[0,0.62], saveas='dim_mnist_mlp_2_200_std')"
   ]
  },
  {
   "cell_type": "markdown",
   "metadata": {},
   "source": [
    "## FC Tied LeNet - Global Baseline"
   ]
  },
  {
   "cell_type": "code",
   "execution_count": 36,
   "metadata": {},
   "outputs": [],
   "source": [
    "with open('results/fc_tied_lenet/results_fc_tied_lenet_cifar10.json') as f:\n",
    "    data = json.load(f)\n",
    "f.close()\n",
    "\n",
    "data_fc_tied_lenet_cifar = [] # 0 is the dimension of the full space and 100 is the global baseline accuracy (100%)\n",
    "for k,v in data.items():\n",
    "    data_fc_tied_lenet_cifar.append([v['intrinsic_dimension'],v['best_accuracy']])"
   ]
  },
  {
   "cell_type": "code",
   "execution_count": 37,
   "metadata": {},
   "outputs": [
    {
     "name": "stdout",
     "output_type": "stream",
     "text": [
      "[[10, 0.1503], [0, 0.562], [100, 0.2674], [500, 0.3736], [1000, 0.42], [2000, 0.4441], [3000, 0.4591], [4000, 0.4723], [4000, 0.4775], [5000, 0.4928], [6000, 0.5027], [7000, 0.5019], [8000, 0.5094], [9000, 0.5127], [10000, 0.5197], [11000, 0.5214], [12000, 0.5226], [10, 0.1408], [100, 0.1513], [500, 0.3559], [1000, 0.4072], [2000, 0.4507], [15000, 0.5346], [0, 0.505]]\n",
      "(24, 2)\n",
      "[0.0, 10.0, 100.0, 500.0, 1000.0, 2000.0, 3000.0, 4000.0, 5000.0, 6000.0, 7000.0, 8000.0, 9000.0, 10000.0, 11000.0, 12000.0, 15000.0]\n",
      "(17, 100, 2)\n",
      "[12000. 12000. 12000. 12000. 12000. 12000. 12000. 12000. 12000. 12000.\n",
      " 12000. 12000. 12000. 12000. 12000. 12000. 12000. 12000. 12000. 12000.\n",
      " 12000. 12000. 12000. 12000. 12000. 12000. 12000. 12000. 12000. 12000.\n",
      " 12000. 12000. 12000. 12000. 12000. 12000. 12000. 12000. 12000. 12000.\n",
      " 12000. 12000. 12000. 12000. 12000. 12000. 12000. 12000. 12000. 12000.\n",
      " 12000. 12000. 12000. 12000. 12000. 12000. 12000. 12000. 12000. 12000.\n",
      " 12000. 12000. 12000. 12000. 12000. 12000. 12000. 12000. 12000. 12000.\n",
      " 12000. 12000. 12000. 12000. 12000. 12000. 12000. 12000. 12000. 12000.\n",
      " 12000. 12000. 12000. 12000. 12000. 12000. 12000. 12000. 12000. 12000.\n",
      " 12000. 12000. 12000. 12000. 12000. 12000. 12000. 12000. 12000. 12000.]\n",
      "d_int: mean=12000.0, std=0.0\n",
      "d_int: mean=0.5225999999999997, std=2.220446049250313e-16\n"
     ]
    },
    {
     "data": {
      "image/png": "[encoded data removed]",
      "text/plain": [
       "<Figure size 720x360 with 1 Axes>"
      ]
     },
     "metadata": {
      "needs_background": "light"
     },
     "output_type": "display_data"
    }
   ],
   "source": [
    "unique_dim, acc_mean, acc_std, acc_solved_mean, acc_solved_std, dim_solved_mean, dim_solved_std = format_data(data_fc_tied_lenet_cifar, baseline=BASELINE)\n",
    "plot_perf_with_std(unique_dim, acc_mean, acc_std, acc_solved_mean, acc_solved_std, dim_solved_mean,dim_solved_std, baseline=BASELINE, logx=False,xlim_v=[-170,16000], ylim_v=[0,0.62], saveas='dim_mnist_mlp_2_200_std')"
   ]
  },
  {
   "cell_type": "markdown",
   "metadata": {},
   "source": [
    "## FC Tied LeNet - Local Baseline"
   ]
  },
  {
   "cell_type": "code",
   "execution_count": 38,
   "metadata": {},
   "outputs": [
    {
     "name": "stdout",
     "output_type": "stream",
     "text": [
      "[[10, 0.1503], [0, 0.562], [100, 0.2674], [500, 0.3736], [1000, 0.42], [2000, 0.4441], [3000, 0.4591], [4000, 0.4723], [4000, 0.4775], [5000, 0.4928], [6000, 0.5027], [7000, 0.5019], [8000, 0.5094], [9000, 0.5127], [10000, 0.5197], [11000, 0.5214], [12000, 0.5226], [10, 0.1408], [100, 0.1513], [500, 0.3559], [1000, 0.4072], [2000, 0.4507], [15000, 0.5346], [0, 0.505]]\n",
      "(24, 2)\n",
      "[0.0, 10.0, 100.0, 500.0, 1000.0, 2000.0, 3000.0, 4000.0, 5000.0, 6000.0, 7000.0, 8000.0, 9000.0, 10000.0, 11000.0, 12000.0, 15000.0]\n",
      "(17, 100, 2)\n",
      "[8000. 8000. 8000. 8000. 8000. 8000. 8000. 8000. 8000. 8000. 8000. 8000.\n",
      " 8000. 8000. 8000. 8000. 8000. 8000. 8000. 8000. 8000. 8000. 8000. 8000.\n",
      " 8000. 8000. 8000. 8000. 8000. 8000. 8000. 8000. 8000. 8000. 8000. 8000.\n",
      " 8000. 8000. 8000. 8000. 8000. 8000. 8000. 8000. 8000. 8000. 8000. 8000.\n",
      " 8000. 8000. 8000. 8000. 8000. 8000. 8000. 8000. 8000. 8000. 8000. 8000.\n",
      " 8000. 8000. 8000. 8000. 8000. 8000. 8000. 8000. 8000. 8000. 8000. 8000.\n",
      " 8000. 8000. 8000. 8000. 8000. 8000. 8000. 8000. 8000. 8000. 8000. 8000.\n",
      " 8000. 8000. 8000. 8000. 8000. 8000. 8000. 8000. 8000. 8000. 8000. 8000.\n",
      " 8000. 8000. 8000. 8000.]\n",
      "d_int: mean=8000.0, std=0.0\n",
      "d_int: mean=0.5094000000000001, std=1.1102230246251565e-16\n"
     ]
    },
    {
     "data": {
      "image/png": "[encoded data removed]",
      "text/plain": [
       "<Figure size 720x360 with 1 Axes>"
      ]
     },
     "metadata": {
      "needs_background": "light"
     },
     "output_type": "display_data"
    }
   ],
   "source": [
    "unique_dim, acc_mean, acc_std, acc_solved_mean, acc_solved_std, dim_solved_mean, dim_solved_std = format_data(data_fc_tied_lenet_cifar, baseline=acc_mean[0])\n",
    "plot_perf_with_std(unique_dim, acc_mean, acc_std, acc_solved_mean, acc_solved_std, dim_solved_mean,dim_solved_std, logx=False,xlim_v=[-170,16000], ylim_v=[0,0.62], saveas='dim_mnist_mlp_2_200_std')"
   ]
  },
  {
   "cell_type": "markdown",
   "metadata": {},
   "source": [
    "## ResNet - Global Baseline"
   ]
  },
  {
   "cell_type": "code",
   "execution_count": 65,
   "metadata": {},
   "outputs": [],
   "source": [
    "with open('results/resnet/results_resnet_cifar10.json') as f:\n",
    "    data = json.load(f)\n",
    "f.close()\n",
    "\n",
    "data_resnet_cifar = [] # 0 is the dimension of the full space and 100 is the global baseline accuracy (100%)\n",
    "for k,v in data.items():\n",
    "    data_resnet_cifar.append([v['intrinsic_dimension'],v['best_accuracy']])"
   ]
  },
  {
   "cell_type": "code",
   "execution_count": 66,
   "metadata": {},
   "outputs": [
    {
     "name": "stdout",
     "output_type": "stream",
     "text": [
      "[[100, 0.3198], [1000, 0.5571], [0, 0.825], [10, 0.1609], [10000, 0.7361], [0, 0.7564], [100, 0.0592], [0, 0.6567], [12000, 0.748], [5000, 0.7094]]\n",
      "(10, 2)\n",
      "[0.0, 10.0, 100.0, 1000.0, 5000.0, 10000.0, 12000.0]\n",
      "(7, 100, 2)\n",
      "[1000. 1000. 1000. 1000. 1000. 1000. 1000. 1000. 1000. 1000. 1000. 1000.\n",
      " 1000. 1000. 1000. 1000. 1000. 1000. 1000. 1000. 1000. 1000. 1000. 1000.\n",
      " 1000. 1000. 1000. 1000. 1000. 1000. 1000. 1000. 1000. 1000. 1000. 1000.\n",
      " 1000. 1000. 1000. 1000. 1000. 1000. 1000. 1000. 1000. 1000. 1000. 1000.\n",
      " 1000. 1000. 1000. 1000. 1000. 1000. 1000. 1000. 1000. 1000. 1000. 1000.\n",
      " 1000. 1000. 1000. 1000. 1000. 1000. 1000. 1000. 1000. 1000. 1000. 1000.\n",
      " 1000. 1000. 1000. 1000. 1000. 1000. 1000. 1000. 1000. 1000. 1000. 1000.\n",
      " 1000. 1000. 1000. 1000. 1000. 1000. 1000. 1000. 1000. 1000. 1000. 1000.\n",
      " 1000. 1000. 1000. 1000.]\n",
      "d_int: mean=1000.0, std=0.0\n",
      "d_int: mean=0.5571, std=0.0\n"
     ]
    },
    {
     "data": {
      "image/png": "[encoded data removed]",
      "text/plain": [
       "<Figure size 720x360 with 1 Axes>"
      ]
     },
     "metadata": {
      "needs_background": "light"
     },
     "output_type": "display_data"
    }
   ],
   "source": [
    "unique_dim, acc_mean, acc_std, acc_solved_mean, acc_solved_std, dim_solved_mean, dim_solved_std = format_data(data_resnet_cifar, baseline=BASELINE)\n",
    "plot_perf_with_std(unique_dim, acc_mean, acc_std, acc_solved_mean, acc_solved_std, dim_solved_mean,dim_solved_std, baseline=BASELINE, logx=False,xlim_v=[-150,13000], ylim_v=[0,0.85], saveas='dim_mnist_mlp_2_200_std')"
   ]
  },
  {
   "cell_type": "markdown",
   "metadata": {},
   "source": [
    "## ResNet - Local Baseline"
   ]
  },
  {
   "cell_type": "code",
   "execution_count": 67,
   "metadata": {},
   "outputs": [
    {
     "name": "stdout",
     "output_type": "stream",
     "text": [
      "[[100, 0.3198], [1000, 0.5571], [0, 0.825], [10, 0.1609], [10000, 0.7361], [0, 0.7564], [100, 0.0592], [0, 0.6567], [12000, 0.748], [5000, 0.7094]]\n",
      "(10, 2)\n",
      "[0.0, 10.0, 100.0, 1000.0, 5000.0, 10000.0, 12000.0]\n",
      "(7, 100, 2)\n",
      "[12000. 12000. 12000. 12000. 12000. 12000. 12000. 12000. 12000. 12000.\n",
      " 12000. 12000. 12000. 12000. 12000. 12000. 12000. 12000. 12000. 12000.\n",
      " 12000. 12000. 12000. 12000. 12000. 12000. 12000. 12000. 12000. 12000.\n",
      " 12000. 12000. 12000. 12000. 12000. 12000. 12000. 12000. 12000. 12000.\n",
      " 12000. 12000. 12000. 12000. 12000. 12000. 12000. 12000. 12000. 12000.\n",
      " 12000. 12000. 12000. 12000. 12000. 12000. 12000. 12000. 12000. 12000.\n",
      " 12000. 12000. 12000. 12000. 12000. 12000. 12000. 12000. 12000. 12000.\n",
      " 12000. 12000. 12000. 12000. 12000. 12000. 12000. 12000. 12000. 12000.\n",
      " 12000. 12000. 12000. 12000. 12000. 12000. 12000. 12000. 12000. 12000.\n",
      " 12000. 12000. 12000. 12000. 12000. 12000. 12000. 12000. 12000. 12000.]\n",
      "d_int: mean=12000.0, std=0.0\n",
      "d_int: mean=0.7480000000000002, std=2.220446049250313e-16\n"
     ]
    },
    {
     "data": {
      "image/png": "[encoded data removed]",
      "text/plain": [
       "<Figure size 720x360 with 1 Axes>"
      ]
     },
     "metadata": {
      "needs_background": "light"
     },
     "output_type": "display_data"
    }
   ],
   "source": [
    "unique_dim, acc_mean, acc_std, acc_solved_mean, acc_solved_std, dim_solved_mean, dim_solved_std = format_data(data_resnet_cifar, baseline=acc_mean[0])\n",
    "plot_perf_with_std(unique_dim, acc_mean, acc_std, acc_solved_mean, acc_solved_std, dim_solved_mean,dim_solved_std, logx=False,xlim_v=[-150,13000], ylim_v=[0,0.85], saveas='dim_mnist_mlp_2_200_std')"
   ]
  },
  {
   "cell_type": "code",
   "execution_count": 42,
   "metadata": {},
   "outputs": [
    {
     "data": {
      "text/html": [
       "<div>\n",
       "<style scoped>\n",
       "    .dataframe tbody tr th:only-of-type {\n",
       "        vertical-align: middle;\n",
       "    }\n",
       "\n",
       "    .dataframe tbody tr th {\n",
       "        vertical-align: top;\n",
       "    }\n",
       "\n",
       "    .dataframe thead th {\n",
       "        text-align: right;\n",
       "    }\n",
       "</style>\n",
       "<table border=\"1\" class=\"dataframe\">\n",
       "  <thead>\n",
       "    <tr style=\"text-align: right;\">\n",
       "      <th></th>\n",
       "      <th>number_parameter</th>\n",
       "      <th>hidden_dimension</th>\n",
       "      <th>number_layers</th>\n",
       "      <th>intrinsic_dimension</th>\n",
       "      <th>epoch</th>\n",
       "      <th>validation_accuracy</th>\n",
       "      <th>learning_rate</th>\n",
       "      <th>best_epoch</th>\n",
       "      <th>best_accuracy</th>\n",
       "    </tr>\n",
       "  </thead>\n",
       "  <tbody>\n",
       "    <tr>\n",
       "      <th>fcn_model_h50_id50_lay0_lr0.05</th>\n",
       "      <td>39760.0</td>\n",
       "      <td>50.0</td>\n",
       "      <td>0.0</td>\n",
       "      <td>50.0</td>\n",
       "      <td>100.0</td>\n",
       "      <td>0.4479</td>\n",
       "      <td>0.050</td>\n",
       "      <td>58.0</td>\n",
       "      <td>0.4623</td>\n",
       "    </tr>\n",
       "    <tr>\n",
       "      <th>fcn_model_h50_id50_lay0_lr0.02</th>\n",
       "      <td>39760.0</td>\n",
       "      <td>50.0</td>\n",
       "      <td>0.0</td>\n",
       "      <td>50.0</td>\n",
       "      <td>100.0</td>\n",
       "      <td>0.4529</td>\n",
       "      <td>0.020</td>\n",
       "      <td>1.0</td>\n",
       "      <td>0.4636</td>\n",
       "    </tr>\n",
       "    <tr>\n",
       "      <th>fcn_model_h50_id50_lay0_lr0.01</th>\n",
       "      <td>39760.0</td>\n",
       "      <td>50.0</td>\n",
       "      <td>0.0</td>\n",
       "      <td>50.0</td>\n",
       "      <td>100.0</td>\n",
       "      <td>0.4561</td>\n",
       "      <td>0.010</td>\n",
       "      <td>4.0</td>\n",
       "      <td>0.4627</td>\n",
       "    </tr>\n",
       "    <tr>\n",
       "      <th>fcn_model_h50_id50_lay0_lr0.005</th>\n",
       "      <td>39760.0</td>\n",
       "      <td>50.0</td>\n",
       "      <td>0.0</td>\n",
       "      <td>50.0</td>\n",
       "      <td>100.0</td>\n",
       "      <td>0.4565</td>\n",
       "      <td>0.005</td>\n",
       "      <td>8.0</td>\n",
       "      <td>0.4642</td>\n",
       "    </tr>\n",
       "    <tr>\n",
       "      <th>fcn_model_h50_id50_lay0_lr0.001</th>\n",
       "      <td>39760.0</td>\n",
       "      <td>50.0</td>\n",
       "      <td>0.0</td>\n",
       "      <td>50.0</td>\n",
       "      <td>100.0</td>\n",
       "      <td>0.4585</td>\n",
       "      <td>0.001</td>\n",
       "      <td>44.0</td>\n",
       "      <td>0.4653</td>\n",
       "    </tr>\n",
       "    <tr>\n",
       "      <th>...</th>\n",
       "      <td>...</td>\n",
       "      <td>...</td>\n",
       "      <td>...</td>\n",
       "      <td>...</td>\n",
       "      <td>...</td>\n",
       "      <td>...</td>\n",
       "      <td>...</td>\n",
       "      <td>...</td>\n",
       "      <td>...</td>\n",
       "    </tr>\n",
       "    <tr>\n",
       "      <th>fcn_model_h200_id550_lay1_lr0.1_proj_dense_opt_sgd</th>\n",
       "      <td>199210.0</td>\n",
       "      <td>200.0</td>\n",
       "      <td>1.0</td>\n",
       "      <td>550.0</td>\n",
       "      <td>100.0</td>\n",
       "      <td>0.8736</td>\n",
       "      <td>0.100</td>\n",
       "      <td>40.0</td>\n",
       "      <td>0.8890</td>\n",
       "    </tr>\n",
       "    <tr>\n",
       "      <th>fcn_model_h200_id575_lay1_lr0.1_proj_dense_opt_sgd</th>\n",
       "      <td>199210.0</td>\n",
       "      <td>200.0</td>\n",
       "      <td>1.0</td>\n",
       "      <td>575.0</td>\n",
       "      <td>100.0</td>\n",
       "      <td>0.8181</td>\n",
       "      <td>0.100</td>\n",
       "      <td>56.0</td>\n",
       "      <td>0.8935</td>\n",
       "    </tr>\n",
       "    <tr>\n",
       "      <th>fcn_model_h200_id0_lay1_lr0.1_proj_dense_opt_sgd</th>\n",
       "      <td>199210.0</td>\n",
       "      <td>200.0</td>\n",
       "      <td>1.0</td>\n",
       "      <td>0.0</td>\n",
       "      <td>100.0</td>\n",
       "      <td>0.9814</td>\n",
       "      <td>0.100</td>\n",
       "      <td>80.0</td>\n",
       "      <td>0.9817</td>\n",
       "    </tr>\n",
       "    <tr>\n",
       "      <th>fcn_model_h200_id50_lay1_lr0.05_proj_dense_opt_sgd</th>\n",
       "      <td>199210.0</td>\n",
       "      <td>200.0</td>\n",
       "      <td>1.0</td>\n",
       "      <td>50.0</td>\n",
       "      <td>100.0</td>\n",
       "      <td>0.4695</td>\n",
       "      <td>0.050</td>\n",
       "      <td>29.0</td>\n",
       "      <td>0.4863</td>\n",
       "    </tr>\n",
       "    <tr>\n",
       "      <th>fcn_model_h200_id10_lay1_lr0.01_proj_dense_opt_sgd</th>\n",
       "      <td>199210.0</td>\n",
       "      <td>200.0</td>\n",
       "      <td>1.0</td>\n",
       "      <td>10.0</td>\n",
       "      <td>100.0</td>\n",
       "      <td>0.2169</td>\n",
       "      <td>0.010</td>\n",
       "      <td>27.0</td>\n",
       "      <td>0.2289</td>\n",
       "    </tr>\n",
       "  </tbody>\n",
       "</table>\n",
       "<p>516 rows × 9 columns</p>\n",
       "</div>"
      ],
      "text/plain": [
       "                                                    number_parameter  \\\n",
       "fcn_model_h50_id50_lay0_lr0.05                               39760.0   \n",
       "fcn_model_h50_id50_lay0_lr0.02                               39760.0   \n",
       "fcn_model_h50_id50_lay0_lr0.01                               39760.0   \n",
       "fcn_model_h50_id50_lay0_lr0.005                              39760.0   \n",
       "fcn_model_h50_id50_lay0_lr0.001                              39760.0   \n",
       "...                                                              ...   \n",
       "fcn_model_h200_id550_lay1_lr0.1_proj_dense_opt_sgd          199210.0   \n",
       "fcn_model_h200_id575_lay1_lr0.1_proj_dense_opt_sgd          199210.0   \n",
       "fcn_model_h200_id0_lay1_lr0.1_proj_dense_opt_sgd            199210.0   \n",
       "fcn_model_h200_id50_lay1_lr0.05_proj_dense_opt_sgd          199210.0   \n",
       "fcn_model_h200_id10_lay1_lr0.01_proj_dense_opt_sgd          199210.0   \n",
       "\n",
       "                                                    hidden_dimension  \\\n",
       "fcn_model_h50_id50_lay0_lr0.05                                  50.0   \n",
       "fcn_model_h50_id50_lay0_lr0.02                                  50.0   \n",
       "fcn_model_h50_id50_lay0_lr0.01                                  50.0   \n",
       "fcn_model_h50_id50_lay0_lr0.005                                 50.0   \n",
       "fcn_model_h50_id50_lay0_lr0.001                                 50.0   \n",
       "...                                                              ...   \n",
       "fcn_model_h200_id550_lay1_lr0.1_proj_dense_opt_sgd             200.0   \n",
       "fcn_model_h200_id575_lay1_lr0.1_proj_dense_opt_sgd             200.0   \n",
       "fcn_model_h200_id0_lay1_lr0.1_proj_dense_opt_sgd               200.0   \n",
       "fcn_model_h200_id50_lay1_lr0.05_proj_dense_opt_sgd             200.0   \n",
       "fcn_model_h200_id10_lay1_lr0.01_proj_dense_opt_sgd             200.0   \n",
       "\n",
       "                                                    number_layers  \\\n",
       "fcn_model_h50_id50_lay0_lr0.05                                0.0   \n",
       "fcn_model_h50_id50_lay0_lr0.02                                0.0   \n",
       "fcn_model_h50_id50_lay0_lr0.01                                0.0   \n",
       "fcn_model_h50_id50_lay0_lr0.005                               0.0   \n",
       "fcn_model_h50_id50_lay0_lr0.001                               0.0   \n",
       "...                                                           ...   \n",
       "fcn_model_h200_id550_lay1_lr0.1_proj_dense_opt_sgd            1.0   \n",
       "fcn_model_h200_id575_lay1_lr0.1_proj_dense_opt_sgd            1.0   \n",
       "fcn_model_h200_id0_lay1_lr0.1_proj_dense_opt_sgd              1.0   \n",
       "fcn_model_h200_id50_lay1_lr0.05_proj_dense_opt_sgd            1.0   \n",
       "fcn_model_h200_id10_lay1_lr0.01_proj_dense_opt_sgd            1.0   \n",
       "\n",
       "                                                    intrinsic_dimension  \\\n",
       "fcn_model_h50_id50_lay0_lr0.05                                     50.0   \n",
       "fcn_model_h50_id50_lay0_lr0.02                                     50.0   \n",
       "fcn_model_h50_id50_lay0_lr0.01                                     50.0   \n",
       "fcn_model_h50_id50_lay0_lr0.005                                    50.0   \n",
       "fcn_model_h50_id50_lay0_lr0.001                                    50.0   \n",
       "...                                                                 ...   \n",
       "fcn_model_h200_id550_lay1_lr0.1_proj_dense_opt_sgd                550.0   \n",
       "fcn_model_h200_id575_lay1_lr0.1_proj_dense_opt_sgd                575.0   \n",
       "fcn_model_h200_id0_lay1_lr0.1_proj_dense_opt_sgd                    0.0   \n",
       "fcn_model_h200_id50_lay1_lr0.05_proj_dense_opt_sgd                 50.0   \n",
       "fcn_model_h200_id10_lay1_lr0.01_proj_dense_opt_sgd                 10.0   \n",
       "\n",
       "                                                    epoch  \\\n",
       "fcn_model_h50_id50_lay0_lr0.05                      100.0   \n",
       "fcn_model_h50_id50_lay0_lr0.02                      100.0   \n",
       "fcn_model_h50_id50_lay0_lr0.01                      100.0   \n",
       "fcn_model_h50_id50_lay0_lr0.005                     100.0   \n",
       "fcn_model_h50_id50_lay0_lr0.001                     100.0   \n",
       "...                                                   ...   \n",
       "fcn_model_h200_id550_lay1_lr0.1_proj_dense_opt_sgd  100.0   \n",
       "fcn_model_h200_id575_lay1_lr0.1_proj_dense_opt_sgd  100.0   \n",
       "fcn_model_h200_id0_lay1_lr0.1_proj_dense_opt_sgd    100.0   \n",
       "fcn_model_h200_id50_lay1_lr0.05_proj_dense_opt_sgd  100.0   \n",
       "fcn_model_h200_id10_lay1_lr0.01_proj_dense_opt_sgd  100.0   \n",
       "\n",
       "                                                    validation_accuracy  \\\n",
       "fcn_model_h50_id50_lay0_lr0.05                                   0.4479   \n",
       "fcn_model_h50_id50_lay0_lr0.02                                   0.4529   \n",
       "fcn_model_h50_id50_lay0_lr0.01                                   0.4561   \n",
       "fcn_model_h50_id50_lay0_lr0.005                                  0.4565   \n",
       "fcn_model_h50_id50_lay0_lr0.001                                  0.4585   \n",
       "...                                                                 ...   \n",
       "fcn_model_h200_id550_lay1_lr0.1_proj_dense_opt_sgd               0.8736   \n",
       "fcn_model_h200_id575_lay1_lr0.1_proj_dense_opt_sgd               0.8181   \n",
       "fcn_model_h200_id0_lay1_lr0.1_proj_dense_opt_sgd                 0.9814   \n",
       "fcn_model_h200_id50_lay1_lr0.05_proj_dense_opt_sgd               0.4695   \n",
       "fcn_model_h200_id10_lay1_lr0.01_proj_dense_opt_sgd               0.2169   \n",
       "\n",
       "                                                    learning_rate  best_epoch  \\\n",
       "fcn_model_h50_id50_lay0_lr0.05                              0.050        58.0   \n",
       "fcn_model_h50_id50_lay0_lr0.02                              0.020         1.0   \n",
       "fcn_model_h50_id50_lay0_lr0.01                              0.010         4.0   \n",
       "fcn_model_h50_id50_lay0_lr0.005                             0.005         8.0   \n",
       "fcn_model_h50_id50_lay0_lr0.001                             0.001        44.0   \n",
       "...                                                           ...         ...   \n",
       "fcn_model_h200_id550_lay1_lr0.1_proj_dense_opt_sgd          0.100        40.0   \n",
       "fcn_model_h200_id575_lay1_lr0.1_proj_dense_opt_sgd          0.100        56.0   \n",
       "fcn_model_h200_id0_lay1_lr0.1_proj_dense_opt_sgd            0.100        80.0   \n",
       "fcn_model_h200_id50_lay1_lr0.05_proj_dense_opt_sgd          0.050        29.0   \n",
       "fcn_model_h200_id10_lay1_lr0.01_proj_dense_opt_sgd          0.010        27.0   \n",
       "\n",
       "                                                    best_accuracy  \n",
       "fcn_model_h50_id50_lay0_lr0.05                             0.4623  \n",
       "fcn_model_h50_id50_lay0_lr0.02                             0.4636  \n",
       "fcn_model_h50_id50_lay0_lr0.01                             0.4627  \n",
       "fcn_model_h50_id50_lay0_lr0.005                            0.4642  \n",
       "fcn_model_h50_id50_lay0_lr0.001                            0.4653  \n",
       "...                                                           ...  \n",
       "fcn_model_h200_id550_lay1_lr0.1_proj_dense_opt_sgd         0.8890  \n",
       "fcn_model_h200_id575_lay1_lr0.1_proj_dense_opt_sgd         0.8935  \n",
       "fcn_model_h200_id0_lay1_lr0.1_proj_dense_opt_sgd           0.9817  \n",
       "fcn_model_h200_id50_lay1_lr0.05_proj_dense_opt_sgd         0.4863  \n",
       "fcn_model_h200_id10_lay1_lr0.01_proj_dense_opt_sgd         0.2289  \n",
       "\n",
       "[516 rows x 9 columns]"
      ]
     },
     "execution_count": 42,
     "metadata": {},
     "output_type": "execute_result"
    }
   ],
   "source": [
    "import pandas as pd\n",
    "\n",
    "with open('results/fcn/results_fcn_mnist.json') as f:\n",
    "    data = json.load(f)\n",
    "f.close()\n",
    "\n",
    "df = pd.DataFrame.from_dict(data).transpose()\n",
    "df"
   ]
  },
  {
   "cell_type": "code",
   "execution_count": 43,
   "metadata": {},
   "outputs": [
    {
     "data": {
      "application/vnd.plotly.v1+json": {
       "config": {
        "plotlyServerURL": "https://plot.ly"
       },
       "data": [
        {
         "diagonal": {
          "visible": false
         },
         "dimensions": [
          {
           "axis": {
            "matches": true
           },
           "label": "number_parameter",
           "values": [
            39760,
            39760,
            39760,
            39760,
            39760,
            39760,
            39760,
            42310,
            42310,
            42310,
            42310,
            42310,
            42310,
            42310,
            44860,
            44860,
            44860,
            44860,
            44860,
            44860,
            44860,
            47410,
            47410,
            47410,
            47410,
            47410,
            47410,
            47410,
            49960,
            49960,
            49960,
            49960,
            49960,
            49960,
            49960,
            79510,
            79510,
            79510,
            79510,
            79510,
            79510,
            79510,
            89610,
            89610,
            89610,
            89610,
            89610,
            89610,
            89610,
            99710,
            99710,
            99710,
            99710,
            99710,
            99710,
            99710,
            109810,
            109810,
            109810,
            109810,
            109810,
            109810,
            109810,
            119910,
            119910,
            119910,
            119910,
            119910,
            119910,
            119910,
            159010,
            159010,
            159010,
            159010,
            159010,
            159010,
            159010,
            199210,
            199210,
            199210,
            199210,
            199210,
            199210,
            199210,
            239410,
            239410,
            239410,
            239410,
            239410,
            239410,
            279610,
            279610,
            279610,
            279610,
            279610,
            279610,
            319810,
            319810,
            319810,
            319810,
            319810,
            319810,
            318010,
            318010,
            318010,
            318010,
            318010,
            318010,
            318010,
            478410,
            478410,
            478410,
            478410,
            478410,
            478410,
            638810,
            638810,
            638810,
            638810,
            638810,
            638810,
            799210,
            799210,
            799210,
            799210,
            799210,
            959610,
            959610,
            959610,
            959610,
            959610,
            39760,
            39760,
            39760,
            39760,
            39760,
            39760,
            39760,
            42310,
            42310,
            42310,
            42310,
            42310,
            42310,
            42310,
            44860,
            44860,
            44860,
            44860,
            44860,
            44860,
            44860,
            47410,
            47410,
            47410,
            47410,
            47410,
            47410,
            47410,
            49960,
            49960,
            49960,
            49960,
            49960,
            49960,
            49960,
            79510,
            79510,
            79510,
            79510,
            79510,
            79510,
            79510,
            89610,
            89610,
            89610,
            89610,
            89610,
            89610,
            89610,
            99710,
            99710,
            99710,
            99710,
            99710,
            99710,
            99710,
            109810,
            109810,
            109810,
            109810,
            109810,
            109810,
            109810,
            119910,
            119910,
            119910,
            119910,
            119910,
            119910,
            119910,
            159010,
            159010,
            159010,
            159010,
            159010,
            159010,
            159010,
            199210,
            199210,
            199210,
            199210,
            199210,
            199210,
            199210,
            239410,
            239410,
            239410,
            239410,
            239410,
            239410,
            239410,
            279610,
            279610,
            279610,
            279610,
            279610,
            279610,
            279610,
            319810,
            319810,
            319810,
            319810,
            319810,
            319810,
            318010,
            318010,
            318010,
            318010,
            318010,
            318010,
            318010,
            478410,
            478410,
            478410,
            478410,
            478410,
            478410,
            478410,
            638810,
            638810,
            638810,
            638810,
            638810,
            638810,
            799210,
            799210,
            799210,
            799210,
            799210,
            799210,
            959610,
            959610,
            959610,
            959610,
            959610,
            959610,
            39760,
            39760,
            39760,
            39760,
            39760,
            39760,
            39760,
            42310,
            42310,
            42310,
            42310,
            42310,
            42310,
            42310,
            44860,
            44860,
            44860,
            44860,
            44860,
            44860,
            44860,
            47410,
            47410,
            47410,
            47410,
            47410,
            47410,
            47410,
            49960,
            49960,
            49960,
            49960,
            49960,
            49960,
            49960,
            79510,
            79510,
            79510,
            79510,
            79510,
            79510,
            79510,
            89610,
            89610,
            89610,
            89610,
            89610,
            89610,
            89610,
            99710,
            99710,
            99710,
            99710,
            99710,
            99710,
            99710,
            109810,
            109810,
            109810,
            109810,
            109810,
            109810,
            109810,
            119910,
            119910,
            119910,
            119910,
            119910,
            119910,
            119910,
            159010,
            159010,
            159010,
            159010,
            159010,
            159010,
            159010,
            199210,
            199210,
            199210,
            199210,
            199210,
            199210,
            199210,
            239410,
            239410,
            239410,
            239410,
            239410,
            239410,
            239410,
            279610,
            279610,
            279610,
            279610,
            279610,
            279610,
            279610,
            319810,
            319810,
            39760,
            39760,
            39760,
            39760,
            39760,
            39760,
            39760,
            39760,
            39760,
            39760,
            39760,
            39760,
            39760,
            39760,
            39760,
            39760,
            39760,
            39760,
            39760,
            39760,
            39760,
            39760,
            39760,
            39760,
            39760,
            39760,
            39760,
            39760,
            39760,
            39760,
            39760,
            39760,
            39760,
            39760,
            39760,
            79510,
            79510,
            79510,
            79510,
            42310,
            42310,
            42310,
            42310,
            42310,
            42310,
            42310,
            42310,
            42310,
            42310,
            42310,
            42310,
            42310,
            42310,
            42310,
            42310,
            42310,
            42310,
            42310,
            42310,
            42310,
            42310,
            42310,
            42310,
            42310,
            42310,
            42310,
            42310,
            42310,
            42310,
            42310,
            42310,
            42310,
            42310,
            42310,
            89610,
            89610,
            89610,
            89610,
            89610,
            89610,
            89610,
            89610,
            89610,
            89610,
            89610,
            89610,
            89610,
            89610,
            89610,
            89610,
            89610,
            89610,
            89610,
            89610,
            89610,
            89610,
            89610,
            89610,
            89610,
            89610,
            89610,
            89610,
            89610,
            89610,
            89610,
            89610,
            89610,
            89610,
            89610,
            199210,
            199210,
            199210,
            199210,
            199210,
            199210,
            199210,
            199210,
            199210,
            199210,
            199210,
            199210,
            199210,
            199210,
            199210,
            199210,
            199210,
            199210,
            199210,
            199210,
            199210,
            199210,
            199210,
            199210,
            199210,
            199210,
            199210,
            199210,
            199210,
            199210,
            199210,
            199210,
            199210,
            199210,
            199210,
            199210,
            199210,
            199210,
            199210,
            199210
           ]
          },
          {
           "axis": {
            "matches": true
           },
           "label": "hidden_dimension",
           "values": [
            50,
            50,
            50,
            50,
            50,
            50,
            50,
            50,
            50,
            50,
            50,
            50,
            50,
            50,
            50,
            50,
            50,
            50,
            50,
            50,
            50,
            50,
            50,
            50,
            50,
            50,
            50,
            50,
            50,
            50,
            50,
            50,
            50,
            50,
            50,
            100,
            100,
            100,
            100,
            100,
            100,
            100,
            100,
            100,
            100,
            100,
            100,
            100,
            100,
            100,
            100,
            100,
            100,
            100,
            100,
            100,
            100,
            100,
            100,
            100,
            100,
            100,
            100,
            100,
            100,
            100,
            100,
            100,
            100,
            100,
            200,
            200,
            200,
            200,
            200,
            200,
            200,
            200,
            200,
            200,
            200,
            200,
            200,
            200,
            200,
            200,
            200,
            200,
            200,
            200,
            200,
            200,
            200,
            200,
            200,
            200,
            200,
            200,
            200,
            200,
            200,
            200,
            400,
            400,
            400,
            400,
            400,
            400,
            400,
            400,
            400,
            400,
            400,
            400,
            400,
            400,
            400,
            400,
            400,
            400,
            400,
            400,
            400,
            400,
            400,
            400,
            400,
            400,
            400,
            400,
            400,
            50,
            50,
            50,
            50,
            50,
            50,
            50,
            50,
            50,
            50,
            50,
            50,
            50,
            50,
            50,
            50,
            50,
            50,
            50,
            50,
            50,
            50,
            50,
            50,
            50,
            50,
            50,
            50,
            50,
            50,
            50,
            50,
            50,
            50,
            50,
            100,
            100,
            100,
            100,
            100,
            100,
            100,
            100,
            100,
            100,
            100,
            100,
            100,
            100,
            100,
            100,
            100,
            100,
            100,
            100,
            100,
            100,
            100,
            100,
            100,
            100,
            100,
            100,
            100,
            100,
            100,
            100,
            100,
            100,
            100,
            200,
            200,
            200,
            200,
            200,
            200,
            200,
            200,
            200,
            200,
            200,
            200,
            200,
            200,
            200,
            200,
            200,
            200,
            200,
            200,
            200,
            200,
            200,
            200,
            200,
            200,
            200,
            200,
            200,
            200,
            200,
            200,
            200,
            200,
            400,
            400,
            400,
            400,
            400,
            400,
            400,
            400,
            400,
            400,
            400,
            400,
            400,
            400,
            400,
            400,
            400,
            400,
            400,
            400,
            400,
            400,
            400,
            400,
            400,
            400,
            400,
            400,
            400,
            400,
            400,
            400,
            50,
            50,
            50,
            50,
            50,
            50,
            50,
            50,
            50,
            50,
            50,
            50,
            50,
            50,
            50,
            50,
            50,
            50,
            50,
            50,
            50,
            50,
            50,
            50,
            50,
            50,
            50,
            50,
            50,
            50,
            50,
            50,
            50,
            50,
            50,
            100,
            100,
            100,
            100,
            100,
            100,
            100,
            100,
            100,
            100,
            100,
            100,
            100,
            100,
            100,
            100,
            100,
            100,
            100,
            100,
            100,
            100,
            100,
            100,
            100,
            100,
            100,
            100,
            100,
            100,
            100,
            100,
            100,
            100,
            100,
            200,
            200,
            200,
            200,
            200,
            200,
            200,
            200,
            200,
            200,
            200,
            200,
            200,
            200,
            200,
            200,
            200,
            200,
            200,
            200,
            200,
            200,
            200,
            200,
            200,
            200,
            200,
            200,
            200,
            200,
            50,
            50,
            50,
            50,
            50,
            50,
            50,
            50,
            50,
            50,
            50,
            50,
            50,
            50,
            50,
            50,
            50,
            50,
            50,
            50,
            50,
            50,
            50,
            50,
            50,
            50,
            50,
            50,
            50,
            50,
            50,
            50,
            50,
            50,
            50,
            100,
            100,
            100,
            100,
            50,
            50,
            50,
            50,
            50,
            50,
            50,
            50,
            50,
            50,
            50,
            50,
            50,
            50,
            50,
            50,
            50,
            50,
            50,
            50,
            50,
            50,
            50,
            50,
            50,
            50,
            50,
            50,
            50,
            50,
            50,
            50,
            50,
            50,
            50,
            100,
            100,
            100,
            100,
            100,
            100,
            100,
            100,
            100,
            100,
            100,
            100,
            100,
            100,
            100,
            100,
            100,
            100,
            100,
            100,
            100,
            100,
            100,
            100,
            100,
            100,
            100,
            100,
            100,
            100,
            100,
            100,
            100,
            100,
            100,
            200,
            200,
            200,
            200,
            200,
            200,
            200,
            200,
            200,
            200,
            200,
            200,
            200,
            200,
            200,
            200,
            200,
            200,
            200,
            200,
            200,
            200,
            200,
            200,
            200,
            200,
            200,
            200,
            200,
            200,
            200,
            200,
            200,
            200,
            200,
            200,
            200,
            200,
            200,
            200
           ]
          },
          {
           "axis": {
            "matches": true
           },
           "label": "number_layers",
           "values": [
            0,
            0,
            0,
            0,
            0,
            0,
            0,
            1,
            1,
            1,
            1,
            1,
            1,
            1,
            2,
            2,
            2,
            2,
            2,
            2,
            2,
            3,
            3,
            3,
            3,
            3,
            3,
            3,
            4,
            4,
            4,
            4,
            4,
            4,
            4,
            0,
            0,
            0,
            0,
            0,
            0,
            0,
            1,
            1,
            1,
            1,
            1,
            1,
            1,
            2,
            2,
            2,
            2,
            2,
            2,
            2,
            3,
            3,
            3,
            3,
            3,
            3,
            3,
            4,
            4,
            4,
            4,
            4,
            4,
            4,
            0,
            0,
            0,
            0,
            0,
            0,
            0,
            1,
            1,
            1,
            1,
            1,
            1,
            1,
            2,
            2,
            2,
            2,
            2,
            2,
            3,
            3,
            3,
            3,
            3,
            3,
            4,
            4,
            4,
            4,
            4,
            4,
            0,
            0,
            0,
            0,
            0,
            0,
            0,
            1,
            1,
            1,
            1,
            1,
            1,
            2,
            2,
            2,
            2,
            2,
            2,
            3,
            3,
            3,
            3,
            3,
            4,
            4,
            4,
            4,
            4,
            0,
            0,
            0,
            0,
            0,
            0,
            0,
            1,
            1,
            1,
            1,
            1,
            1,
            1,
            2,
            2,
            2,
            2,
            2,
            2,
            2,
            3,
            3,
            3,
            3,
            3,
            3,
            3,
            4,
            4,
            4,
            4,
            4,
            4,
            4,
            0,
            0,
            0,
            0,
            0,
            0,
            0,
            1,
            1,
            1,
            1,
            1,
            1,
            1,
            2,
            2,
            2,
            2,
            2,
            2,
            2,
            3,
            3,
            3,
            3,
            3,
            3,
            3,
            4,
            4,
            4,
            4,
            4,
            4,
            4,
            0,
            0,
            0,
            0,
            0,
            0,
            0,
            1,
            1,
            1,
            1,
            1,
            1,
            1,
            2,
            2,
            2,
            2,
            2,
            2,
            2,
            3,
            3,
            3,
            3,
            3,
            3,
            3,
            4,
            4,
            4,
            4,
            4,
            4,
            0,
            0,
            0,
            0,
            0,
            0,
            0,
            1,
            1,
            1,
            1,
            1,
            1,
            1,
            2,
            2,
            2,
            2,
            2,
            2,
            3,
            3,
            3,
            3,
            3,
            3,
            4,
            4,
            4,
            4,
            4,
            4,
            0,
            0,
            0,
            0,
            0,
            0,
            0,
            1,
            1,
            1,
            1,
            1,
            1,
            1,
            2,
            2,
            2,
            2,
            2,
            2,
            2,
            3,
            3,
            3,
            3,
            3,
            3,
            3,
            4,
            4,
            4,
            4,
            4,
            4,
            4,
            0,
            0,
            0,
            0,
            0,
            0,
            0,
            1,
            1,
            1,
            1,
            1,
            1,
            1,
            2,
            2,
            2,
            2,
            2,
            2,
            2,
            3,
            3,
            3,
            3,
            3,
            3,
            3,
            4,
            4,
            4,
            4,
            4,
            4,
            4,
            0,
            0,
            0,
            0,
            0,
            0,
            0,
            1,
            1,
            1,
            1,
            1,
            1,
            1,
            2,
            2,
            2,
            2,
            2,
            2,
            2,
            3,
            3,
            3,
            3,
            3,
            3,
            3,
            4,
            4,
            0,
            0,
            0,
            0,
            0,
            0,
            0,
            0,
            0,
            0,
            0,
            0,
            0,
            0,
            0,
            0,
            0,
            0,
            0,
            0,
            0,
            0,
            0,
            0,
            0,
            0,
            0,
            0,
            0,
            0,
            0,
            0,
            0,
            0,
            0,
            0,
            0,
            0,
            0,
            1,
            1,
            1,
            1,
            1,
            1,
            1,
            1,
            1,
            1,
            1,
            1,
            1,
            1,
            1,
            1,
            1,
            1,
            1,
            1,
            1,
            1,
            1,
            1,
            1,
            1,
            1,
            1,
            1,
            1,
            1,
            1,
            1,
            1,
            1,
            1,
            1,
            1,
            1,
            1,
            1,
            1,
            1,
            1,
            1,
            1,
            1,
            1,
            1,
            1,
            1,
            1,
            1,
            1,
            1,
            1,
            1,
            1,
            1,
            1,
            1,
            1,
            1,
            1,
            1,
            1,
            1,
            1,
            1,
            1,
            1,
            1,
            1,
            1,
            1,
            1,
            1,
            1,
            1,
            1,
            1,
            1,
            1,
            1,
            1,
            1,
            1,
            1,
            1,
            1,
            1,
            1,
            1,
            1,
            1,
            1,
            1,
            1,
            1,
            1,
            1,
            1,
            1,
            1,
            1,
            1,
            1,
            1,
            1,
            1
           ]
          },
          {
           "axis": {
            "matches": true
           },
           "label": "learning_rate",
           "values": [
            0.05,
            0.02,
            0.01,
            0.005,
            0.001,
            0.0005,
            0.0001,
            0.05,
            0.02,
            0.01,
            0.005,
            0.001,
            0.0005,
            0.0001,
            0.05,
            0.02,
            0.01,
            0.005,
            0.001,
            0.0005,
            0.0001,
            0.05,
            0.02,
            0.01,
            0.005,
            0.001,
            0.0005,
            0.0001,
            0.05,
            0.02,
            0.01,
            0.005,
            0.001,
            0.0005,
            0.0001,
            0.05,
            0.02,
            0.01,
            0.005,
            0.001,
            0.0005,
            0.0001,
            0.05,
            0.02,
            0.01,
            0.005,
            0.001,
            0.0005,
            0.0001,
            0.05,
            0.02,
            0.01,
            0.005,
            0.001,
            0.0005,
            0.0001,
            0.05,
            0.02,
            0.01,
            0.005,
            0.001,
            0.0005,
            0.0001,
            0.05,
            0.02,
            0.01,
            0.005,
            0.001,
            0.0005,
            0.0001,
            0.05,
            0.02,
            0.01,
            0.005,
            0.001,
            0.0005,
            0.0001,
            0.05,
            0.02,
            0.01,
            0.005,
            0.001,
            0.0005,
            0.0001,
            0.02,
            0.01,
            0.005,
            0.001,
            0.0005,
            0.0001,
            0.02,
            0.01,
            0.005,
            0.001,
            0.0005,
            0.0001,
            0.02,
            0.01,
            0.005,
            0.001,
            0.0005,
            0.0001,
            0.05,
            0.02,
            0.01,
            0.005,
            0.001,
            0.0005,
            0.0001,
            0.02,
            0.01,
            0.005,
            0.001,
            0.0005,
            0.0001,
            0.02,
            0.01,
            0.005,
            0.001,
            0.0005,
            0.0001,
            0.01,
            0.005,
            0.001,
            0.0005,
            0.0001,
            0.01,
            0.005,
            0.001,
            0.0005,
            0.0001,
            0.05,
            0.02,
            0.01,
            0.005,
            0.001,
            0.0005,
            0.0001,
            0.05,
            0.02,
            0.01,
            0.005,
            0.001,
            0.0005,
            0.0001,
            0.05,
            0.02,
            0.01,
            0.005,
            0.001,
            0.0005,
            0.0001,
            0.05,
            0.02,
            0.01,
            0.005,
            0.001,
            0.0005,
            0.0001,
            0.05,
            0.02,
            0.01,
            0.005,
            0.001,
            0.0005,
            0.0001,
            0.05,
            0.02,
            0.01,
            0.005,
            0.001,
            0.0005,
            0.0001,
            0.05,
            0.02,
            0.01,
            0.005,
            0.001,
            0.0005,
            0.0001,
            0.05,
            0.02,
            0.01,
            0.005,
            0.001,
            0.0005,
            0.0001,
            0.05,
            0.02,
            0.01,
            0.005,
            0.001,
            0.0005,
            0.0001,
            0.05,
            0.02,
            0.01,
            0.005,
            0.001,
            0.0005,
            0.0001,
            0.05,
            0.02,
            0.01,
            0.005,
            0.001,
            0.0005,
            0.0001,
            0.05,
            0.02,
            0.01,
            0.005,
            0.001,
            0.0005,
            0.0001,
            0.05,
            0.02,
            0.01,
            0.005,
            0.001,
            0.0005,
            0.0001,
            0.05,
            0.02,
            0.01,
            0.005,
            0.001,
            0.0005,
            0.0001,
            0.02,
            0.01,
            0.005,
            0.001,
            0.0005,
            0.0001,
            0.05,
            0.02,
            0.01,
            0.005,
            0.001,
            0.0005,
            0.0001,
            0.05,
            0.02,
            0.01,
            0.005,
            0.001,
            0.0005,
            0.0001,
            0.02,
            0.01,
            0.005,
            0.001,
            0.0005,
            0.0001,
            0.02,
            0.01,
            0.005,
            0.001,
            0.0005,
            0.0001,
            0.02,
            0.01,
            0.005,
            0.001,
            0.0005,
            0.0001,
            0.05,
            0.02,
            0.01,
            0.005,
            0.001,
            0.0005,
            0.0001,
            0.05,
            0.02,
            0.01,
            0.005,
            0.001,
            0.0005,
            0.0001,
            0.05,
            0.02,
            0.01,
            0.005,
            0.001,
            0.0005,
            0.0001,
            0.05,
            0.02,
            0.01,
            0.005,
            0.001,
            0.0005,
            0.0001,
            0.05,
            0.02,
            0.01,
            0.005,
            0.001,
            0.0005,
            0.0001,
            0.05,
            0.02,
            0.01,
            0.005,
            0.001,
            0.0005,
            0.0001,
            0.05,
            0.02,
            0.01,
            0.005,
            0.001,
            0.0005,
            0.0001,
            0.05,
            0.02,
            0.01,
            0.005,
            0.001,
            0.0005,
            0.0001,
            0.05,
            0.02,
            0.01,
            0.005,
            0.001,
            0.0005,
            0.0001,
            0.05,
            0.02,
            0.01,
            0.005,
            0.001,
            0.0005,
            0.0001,
            0.05,
            0.02,
            0.01,
            0.005,
            0.001,
            0.0005,
            0.0001,
            0.05,
            0.02,
            0.01,
            0.005,
            0.001,
            0.0005,
            0.0001,
            0.05,
            0.02,
            0.01,
            0.005,
            0.001,
            0.0005,
            0.0001,
            0.05,
            0.02,
            0.01,
            0.005,
            0.001,
            0.0005,
            0.0001,
            0.05,
            0.02,
            0.05,
            0.05,
            0.05,
            0.05,
            0.05,
            0.05,
            0.05,
            0.02,
            0.02,
            0.02,
            0.02,
            0.02,
            0.02,
            0.02,
            0.01,
            0.01,
            0.01,
            0.01,
            0.01,
            0.01,
            0.01,
            0.005,
            0.005,
            0.005,
            0.005,
            0.005,
            0.005,
            0.005,
            0.001,
            0.001,
            0.001,
            0.001,
            0.001,
            0.001,
            0.001,
            0.05,
            0.05,
            0.05,
            0.05,
            0.05,
            0.05,
            0.05,
            0.05,
            0.05,
            0.05,
            0.05,
            0.02,
            0.02,
            0.02,
            0.02,
            0.02,
            0.02,
            0.02,
            0.01,
            0.01,
            0.01,
            0.01,
            0.01,
            0.01,
            0.01,
            0.005,
            0.005,
            0.005,
            0.005,
            0.005,
            0.005,
            0.005,
            0.001,
            0.001,
            0.001,
            0.001,
            0.001,
            0.001,
            0.001,
            0.05,
            0.05,
            0.05,
            0.05,
            0.05,
            0.05,
            0.05,
            0.02,
            0.02,
            0.02,
            0.02,
            0.02,
            0.02,
            0.02,
            0.01,
            0.01,
            0.01,
            0.01,
            0.01,
            0.01,
            0.01,
            0.005,
            0.005,
            0.005,
            0.005,
            0.005,
            0.005,
            0.005,
            0.001,
            0.001,
            0.001,
            0.001,
            0.001,
            0.001,
            0.001,
            0.05,
            0.05,
            0.05,
            0.05,
            0.05,
            0.05,
            0.05,
            0.02,
            0.02,
            0.02,
            0.02,
            0.02,
            0.02,
            0.02,
            0.01,
            0.01,
            0.01,
            0.01,
            0.01,
            0.01,
            0.01,
            0.005,
            0.005,
            0.005,
            0.005,
            0.005,
            0.005,
            0.005,
            0.001,
            0.001,
            0.001,
            0.001,
            0.001,
            0.001,
            0.1,
            0.1,
            0.1,
            0.1,
            0.05,
            0.01
           ]
          },
          {
           "axis": {
            "matches": true
           },
           "label": "best_accuracy",
           "values": [
            0.4623,
            0.4636,
            0.4627,
            0.4642,
            0.4653,
            0.4651,
            0.4399,
            0.4724,
            0.4755,
            0.4778,
            0.4784,
            0.477,
            0.4714,
            0.3822,
            0.4775,
            0.5124,
            0.4995,
            0.4478,
            0.4551,
            0.4522,
            0.1909,
            0.4442,
            0.4292,
            0.4299,
            0.431,
            0.428,
            0.4258,
            0.1245,
            0.4567,
            0.485,
            0.497,
            0.4976,
            0.5011,
            0.3878,
            0.1147,
            0.4713,
            0.4944,
            0.4928,
            0.4917,
            0.4894,
            0.4882,
            0.4532,
            0.4916,
            0.5253,
            0.4884,
            0.4885,
            0.4755,
            0.4757,
            0.391,
            0.4648,
            0.5079,
            0.4892,
            0.4654,
            0.4649,
            0.4635,
            0.2003,
            0.4599,
            0.4826,
            0.4884,
            0.4927,
            0.4911,
            0.4902,
            0.1784,
            0.4211,
            0.4912,
            0.5016,
            0.4983,
            0.5009,
            0.4999,
            0.185,
            0.472,
            0.4715,
            0.4713,
            0.4717,
            0.4696,
            0.4695,
            0.4599,
            0.4863,
            0.5125,
            0.5052,
            0.5054,
            0.5052,
            0.4974,
            0.4968,
            0.4919,
            0.5072,
            0.4571,
            0.4614,
            0.4631,
            0.3428,
            0.4616,
            0.4623,
            0.4606,
            0.4762,
            0.4751,
            0.1139,
            0.4626,
            0.4911,
            0.4812,
            0.4641,
            0.437,
            0.1135,
            0.4376,
            0.4481,
            0.4489,
            0.4493,
            0.4512,
            0.4521,
            0.4522,
            0.4651,
            0.4768,
            0.4701,
            0.4693,
            0.4695,
            0.4633,
            0.4546,
            0.4493,
            0.4768,
            0.477,
            0.4783,
            0.4656,
            0.4584,
            0.4608,
            0.477,
            0.4763,
            0.4544,
            0.4252,
            0.4433,
            0.4299,
            0.4312,
            0.1913,
            0.6349,
            0.6375,
            0.6385,
            0.6372,
            0.6189,
            0.615,
            0.5845,
            0.6551,
            0.6556,
            0.6689,
            0.6312,
            0.6214,
            0.6176,
            0.5004,
            0.6446,
            0.6387,
            0.6493,
            0.649,
            0.6275,
            0.611,
            0.2306,
            0.6098,
            0.6639,
            0.6515,
            0.6478,
            0.6471,
            0.6355,
            0.1587,
            0.5904,
            0.6482,
            0.6437,
            0.6318,
            0.6229,
            0.1474,
            0.1182,
            0.6585,
            0.6603,
            0.66,
            0.6609,
            0.6587,
            0.6368,
            0.5781,
            0.6481,
            0.6416,
            0.6655,
            0.661,
            0.6615,
            0.6629,
            0.544,
            0.6433,
            0.6624,
            0.6645,
            0.6678,
            0.6648,
            0.6303,
            0.3381,
            0.6084,
            0.6202,
            0.6329,
            0.64,
            0.6396,
            0.6206,
            0.1771,
            0.5682,
            0.6138,
            0.6412,
            0.6584,
            0.6278,
            0.5871,
            0.1915,
            0.6359,
            0.6546,
            0.6561,
            0.6568,
            0.6459,
            0.6363,
            0.5916,
            0.6371,
            0.6498,
            0.6546,
            0.658,
            0.6497,
            0.6315,
            0.5905,
            0.5771,
            0.6288,
            0.6373,
            0.6427,
            0.6463,
            0.647,
            0.5948,
            0.5832,
            0.618,
            0.621,
            0.629,
            0.6288,
            0.627,
            0.1161,
            0.5916,
            0.6403,
            0.6358,
            0.638,
            0.628,
            0.1135,
            0.6251,
            0.6387,
            0.6422,
            0.643,
            0.6441,
            0.6435,
            0.6329,
            0.5847,
            0.6476,
            0.6447,
            0.6682,
            0.6587,
            0.6577,
            0.6134,
            0.6158,
            0.6272,
            0.6504,
            0.6526,
            0.6517,
            0.6203,
            0.606,
            0.6524,
            0.6681,
            0.6825,
            0.6472,
            0.3236,
            0.5765,
            0.6147,
            0.6427,
            0.6524,
            0.6384,
            0.1869,
            0.7858,
            0.7879,
            0.7864,
            0.7846,
            0.7777,
            0.7667,
            0.6957,
            0.797,
            0.8074,
            0.8031,
            0.7888,
            0.7819,
            0.7603,
            0.5578,
            0.7972,
            0.7933,
            0.7907,
            0.7786,
            0.7613,
            0.7357,
            0.2088,
            0.7703,
            0.7878,
            0.8076,
            0.8022,
            0.7587,
            0.696,
            0.1377,
            0.7333,
            0.7773,
            0.7828,
            0.7775,
            0.7173,
            0.1252,
            0.1253,
            0.7749,
            0.7853,
            0.781,
            0.7788,
            0.7738,
            0.764,
            0.7012,
            0.7946,
            0.7977,
            0.7975,
            0.7924,
            0.7789,
            0.7641,
            0.6689,
            0.7806,
            0.792,
            0.7931,
            0.7904,
            0.7747,
            0.7694,
            0.3044,
            0.7617,
            0.7794,
            0.7785,
            0.7947,
            0.7784,
            0.7563,
            0.1762,
            0.7461,
            0.7652,
            0.7766,
            0.7881,
            0.7779,
            0.3692,
            0.1823,
            0.7917,
            0.7951,
            0.7917,
            0.7894,
            0.7804,
            0.7603,
            0.6945,
            0.7909,
            0.8027,
            0.7903,
            0.7847,
            0.7737,
            0.7614,
            0.6904,
            0.7519,
            0.7819,
            0.7989,
            0.8095,
            0.8021,
            0.7961,
            0.4943,
            0.7323,
            0.7857,
            0.7983,
            0.7824,
            0.7838,
            0.7735,
            0.114,
            0.6754,
            0.748,
            0.8703,
            0.8926,
            0.8999,
            0.9108,
            0.9169,
            0.9293,
            0.9326,
            0.87,
            0.8888,
            0.8978,
            0.9065,
            0.9132,
            0.9229,
            0.9314,
            0.8646,
            0.8872,
            0.8942,
            0.9049,
            0.9125,
            0.92,
            0.9238,
            0.856,
            0.8852,
            0.8908,
            0.9031,
            0.908,
            0.9098,
            0.9176,
            0.8301,
            0.8642,
            0.8671,
            0.8773,
            0.8883,
            0.8866,
            0.8934,
            0.872,
            0.8907,
            0.9032,
            0.9161,
            0.8817,
            0.8939,
            0.9022,
            0.9209,
            0.9227,
            0.93,
            0.9369,
            0.8795,
            0.8927,
            0.9008,
            0.9132,
            0.9174,
            0.9305,
            0.935,
            0.8789,
            0.8867,
            0.9026,
            0.9115,
            0.9162,
            0.9272,
            0.9334,
            0.8726,
            0.8854,
            0.8963,
            0.9066,
            0.9137,
            0.923,
            0.9279,
            0.8596,
            0.8589,
            0.8798,
            0.8847,
            0.8898,
            0.8997,
            0.8974,
            0.8766,
            0.8924,
            0.9053,
            0.9193,
            0.9199,
            0.9319,
            0.9365,
            0.8757,
            0.8982,
            0.9098,
            0.9119,
            0.9242,
            0.9293,
            0.9362,
            0.8777,
            0.8943,
            0.9024,
            0.9121,
            0.9188,
            0.9275,
            0.9342,
            0.8694,
            0.892,
            0.9008,
            0.9078,
            0.9156,
            0.9247,
            0.9314,
            0.8561,
            0.8714,
            0.8848,
            0.8929,
            0.9001,
            0.9042,
            0.9119,
            0.8701,
            0.8938,
            0.9057,
            0.9096,
            0.9194,
            0.9297,
            0.9377,
            0.8781,
            0.8913,
            0.9052,
            0.9168,
            0.9185,
            0.9325,
            0.9344,
            0.8754,
            0.8932,
            0.9085,
            0.91,
            0.9212,
            0.9274,
            0.9312,
            0.8723,
            0.8902,
            0.9053,
            0.9094,
            0.9163,
            0.9281,
            0.9293,
            0.8563,
            0.8807,
            0.8934,
            0.9018,
            0.9034,
            0.9151,
            0.8862,
            0.889,
            0.8935,
            0.9817,
            0.4863,
            0.2289
           ]
          }
         ],
         "hovertemplate": "%{xaxis.title.text}=%{x}<br>%{yaxis.title.text}=%{y}<br>intrinsic_dimension=%{marker.color}<extra></extra>",
         "legendgroup": "",
         "marker": {
          "color": [
           50,
           50,
           50,
           50,
           50,
           50,
           50,
           50,
           50,
           50,
           50,
           50,
           50,
           50,
           50,
           50,
           50,
           50,
           50,
           50,
           50,
           50,
           50,
           50,
           50,
           50,
           50,
           50,
           50,
           50,
           50,
           50,
           50,
           50,
           50,
           50,
           50,
           50,
           50,
           50,
           50,
           50,
           50,
           50,
           50,
           50,
           50,
           50,
           50,
           50,
           50,
           50,
           50,
           50,
           50,
           50,
           50,
           50,
           50,
           50,
           50,
           50,
           50,
           50,
           50,
           50,
           50,
           50,
           50,
           50,
           50,
           50,
           50,
           50,
           50,
           50,
           50,
           50,
           50,
           50,
           50,
           50,
           50,
           50,
           50,
           50,
           50,
           50,
           50,
           50,
           50,
           50,
           50,
           50,
           50,
           50,
           50,
           50,
           50,
           50,
           50,
           50,
           50,
           50,
           50,
           50,
           50,
           50,
           50,
           50,
           50,
           50,
           50,
           50,
           50,
           50,
           50,
           50,
           50,
           50,
           50,
           50,
           50,
           50,
           50,
           50,
           50,
           50,
           50,
           50,
           50,
           100,
           100,
           100,
           100,
           100,
           100,
           100,
           100,
           100,
           100,
           100,
           100,
           100,
           100,
           100,
           100,
           100,
           100,
           100,
           100,
           100,
           100,
           100,
           100,
           100,
           100,
           100,
           100,
           100,
           100,
           100,
           100,
           100,
           100,
           100,
           100,
           100,
           100,
           100,
           100,
           100,
           100,
           100,
           100,
           100,
           100,
           100,
           100,
           100,
           100,
           100,
           100,
           100,
           100,
           100,
           100,
           100,
           100,
           100,
           100,
           100,
           100,
           100,
           100,
           100,
           100,
           100,
           100,
           100,
           100,
           100,
           100,
           100,
           100,
           100,
           100,
           100,
           100,
           100,
           100,
           100,
           100,
           100,
           100,
           100,
           100,
           100,
           100,
           100,
           100,
           100,
           100,
           100,
           100,
           100,
           100,
           100,
           100,
           100,
           100,
           100,
           100,
           100,
           100,
           100,
           100,
           100,
           100,
           100,
           100,
           100,
           100,
           100,
           100,
           100,
           100,
           100,
           100,
           100,
           100,
           100,
           100,
           100,
           100,
           100,
           100,
           100,
           100,
           100,
           100,
           100,
           100,
           100,
           100,
           100,
           100,
           200,
           200,
           200,
           200,
           200,
           200,
           200,
           200,
           200,
           200,
           200,
           200,
           200,
           200,
           200,
           200,
           200,
           200,
           200,
           200,
           200,
           200,
           200,
           200,
           200,
           200,
           200,
           200,
           200,
           200,
           200,
           200,
           200,
           200,
           200,
           200,
           200,
           200,
           200,
           200,
           200,
           200,
           200,
           200,
           200,
           200,
           200,
           200,
           200,
           200,
           200,
           200,
           200,
           200,
           200,
           200,
           200,
           200,
           200,
           200,
           200,
           200,
           200,
           200,
           200,
           200,
           200,
           200,
           200,
           200,
           200,
           200,
           200,
           200,
           200,
           200,
           200,
           200,
           200,
           200,
           200,
           200,
           200,
           200,
           200,
           200,
           200,
           200,
           200,
           200,
           200,
           200,
           200,
           200,
           200,
           200,
           200,
           200,
           200,
           200,
           400,
           500,
           600,
           700,
           800,
           1000,
           1200,
           400,
           500,
           600,
           700,
           800,
           1000,
           1200,
           400,
           500,
           600,
           700,
           800,
           1000,
           1200,
           400,
           500,
           600,
           700,
           800,
           1000,
           1200,
           400,
           500,
           600,
           700,
           800,
           1000,
           1200,
           400,
           500,
           600,
           700,
           400,
           500,
           600,
           700,
           800,
           1000,
           1200,
           400,
           500,
           600,
           700,
           800,
           1000,
           1200,
           400,
           500,
           600,
           700,
           800,
           1000,
           1200,
           400,
           500,
           600,
           700,
           800,
           1000,
           1200,
           400,
           500,
           600,
           700,
           800,
           1000,
           1200,
           400,
           500,
           600,
           700,
           800,
           1000,
           1200,
           400,
           500,
           600,
           700,
           800,
           1000,
           1200,
           400,
           500,
           600,
           700,
           800,
           1000,
           1200,
           400,
           500,
           600,
           700,
           800,
           1000,
           1200,
           400,
           500,
           600,
           700,
           800,
           1000,
           1200,
           400,
           500,
           600,
           700,
           800,
           1000,
           1200,
           400,
           500,
           600,
           700,
           800,
           1000,
           1200,
           400,
           500,
           600,
           700,
           800,
           1000,
           1200,
           400,
           500,
           600,
           700,
           800,
           1000,
           1200,
           400,
           500,
           600,
           700,
           800,
           1000,
           525,
           550,
           575,
           0,
           50,
           10
          ],
          "coloraxis": "coloraxis",
          "symbol": "circle"
         },
         "name": "",
         "showlegend": false,
         "type": "splom"
        }
       ],
       "layout": {
        "coloraxis": {
         "colorbar": {
          "title": {
           "text": "intrinsic_dimension"
          }
         },
         "colorscale": [
          [
           0,
           "#0d0887"
          ],
          [
           0.1111111111111111,
           "#46039f"
          ],
          [
           0.2222222222222222,
           "#7201a8"
          ],
          [
           0.3333333333333333,
           "#9c179e"
          ],
          [
           0.4444444444444444,
           "#bd3786"
          ],
          [
           0.5555555555555556,
           "#d8576b"
          ],
          [
           0.6666666666666666,
           "#ed7953"
          ],
          [
           0.7777777777777778,
           "#fb9f3a"
          ],
          [
           0.8888888888888888,
           "#fdca26"
          ],
          [
           1,
           "#f0f921"
          ]
         ]
        },
        "dragmode": "select",
        "height": 1000,
        "hovermode": "closest",
        "legend": {
         "tracegroupgap": 0
        },
        "margin": {
         "t": 60
        },
        "template": {
         "data": {
          "bar": [
           {
            "error_x": {
             "color": "#2a3f5f"
            },
            "error_y": {
             "color": "#2a3f5f"
            },
            "marker": {
             "line": {
              "color": "#E5ECF6",
              "width": 0.5
             },
             "pattern": {
              "fillmode": "overlay",
              "size": 10,
              "solidity": 0.2
             }
            },
            "type": "bar"
           }
          ],
          "barpolar": [
           {
            "marker": {
             "line": {
              "color": "#E5ECF6",
              "width": 0.5
             },
             "pattern": {
              "fillmode": "overlay",
              "size": 10,
              "solidity": 0.2
             }
            },
            "type": "barpolar"
           }
          ],
          "carpet": [
           {
            "aaxis": {
             "endlinecolor": "#2a3f5f",
             "gridcolor": "white",
             "linecolor": "white",
             "minorgridcolor": "white",
             "startlinecolor": "#2a3f5f"
            },
            "baxis": {
             "endlinecolor": "#2a3f5f",
             "gridcolor": "white",
             "linecolor": "white",
             "minorgridcolor": "white",
             "startlinecolor": "#2a3f5f"
            },
            "type": "carpet"
           }
          ],
          "choropleth": [
           {
            "colorbar": {
             "outlinewidth": 0,
             "ticks": ""
            },
            "type": "choropleth"
           }
          ],
          "contour": [
           {
            "colorbar": {
             "outlinewidth": 0,
             "ticks": ""
            },
            "colorscale": [
             [
              0,
              "#0d0887"
             ],
             [
              0.1111111111111111,
              "#46039f"
             ],
             [
              0.2222222222222222,
              "#7201a8"
             ],
             [
              0.3333333333333333,
              "#9c179e"
             ],
             [
              0.4444444444444444,
              "#bd3786"
             ],
             [
              0.5555555555555556,
              "#d8576b"
             ],
             [
              0.6666666666666666,
              "#ed7953"
             ],
             [
              0.7777777777777778,
              "#fb9f3a"
             ],
             [
              0.8888888888888888,
              "#fdca26"
             ],
             [
              1,
              "#f0f921"
             ]
            ],
            "type": "contour"
           }
          ],
          "contourcarpet": [
           {
            "colorbar": {
             "outlinewidth": 0,
             "ticks": ""
            },
            "type": "contourcarpet"
           }
          ],
          "heatmap": [
           {
            "colorbar": {
             "outlinewidth": 0,
             "ticks": ""
            },
            "colorscale": [
             [
              0,
              "#0d0887"
             ],
             [
              0.1111111111111111,
              "#46039f"
             ],
             [
              0.2222222222222222,
              "#7201a8"
             ],
             [
              0.3333333333333333,
              "#9c179e"
             ],
             [
              0.4444444444444444,
              "#bd3786"
             ],
             [
              0.5555555555555556,
              "#d8576b"
             ],
             [
              0.6666666666666666,
              "#ed7953"
             ],
             [
              0.7777777777777778,
              "#fb9f3a"
             ],
             [
              0.8888888888888888,
              "#fdca26"
             ],
             [
              1,
              "#f0f921"
             ]
            ],
            "type": "heatmap"
           }
          ],
          "heatmapgl": [
           {
            "colorbar": {
             "outlinewidth": 0,
             "ticks": ""
            },
            "colorscale": [
             [
              0,
              "#0d0887"
             ],
             [
              0.1111111111111111,
              "#46039f"
             ],
             [
              0.2222222222222222,
              "#7201a8"
             ],
             [
              0.3333333333333333,
              "#9c179e"
             ],
             [
              0.4444444444444444,
              "#bd3786"
             ],
             [
              0.5555555555555556,
              "#d8576b"
             ],
             [
              0.6666666666666666,
              "#ed7953"
             ],
             [
              0.7777777777777778,
              "#fb9f3a"
             ],
             [
              0.8888888888888888,
              "#fdca26"
             ],
             [
              1,
              "#f0f921"
             ]
            ],
            "type": "heatmapgl"
           }
          ],
          "histogram": [
           {
            "marker": {
             "pattern": {
              "fillmode": "overlay",
              "size": 10,
              "solidity": 0.2
             }
            },
            "type": "histogram"
           }
          ],
          "histogram2d": [
           {
            "colorbar": {
             "outlinewidth": 0,
             "ticks": ""
            },
            "colorscale": [
             [
              0,
              "#0d0887"
             ],
             [
              0.1111111111111111,
              "#46039f"
             ],
             [
              0.2222222222222222,
              "#7201a8"
             ],
             [
              0.3333333333333333,
              "#9c179e"
             ],
             [
              0.4444444444444444,
              "#bd3786"
             ],
             [
              0.5555555555555556,
              "#d8576b"
             ],
             [
              0.6666666666666666,
              "#ed7953"
             ],
             [
              0.7777777777777778,
              "#fb9f3a"
             ],
             [
              0.8888888888888888,
              "#fdca26"
             ],
             [
              1,
              "#f0f921"
             ]
            ],
            "type": "histogram2d"
           }
          ],
          "histogram2dcontour": [
           {
            "colorbar": {
             "outlinewidth": 0,
             "ticks": ""
            },
            "colorscale": [
             [
              0,
              "#0d0887"
             ],
             [
              0.1111111111111111,
              "#46039f"
             ],
             [
              0.2222222222222222,
              "#7201a8"
             ],
             [
              0.3333333333333333,
              "#9c179e"
             ],
             [
              0.4444444444444444,
              "#bd3786"
             ],
             [
              0.5555555555555556,
              "#d8576b"
             ],
             [
              0.6666666666666666,
              "#ed7953"
             ],
             [
              0.7777777777777778,
              "#fb9f3a"
             ],
             [
              0.8888888888888888,
              "#fdca26"
             ],
             [
              1,
              "#f0f921"
             ]
            ],
            "type": "histogram2dcontour"
           }
          ],
          "mesh3d": [
           {
            "colorbar": {
             "outlinewidth": 0,
             "ticks": ""
            },
            "type": "mesh3d"
           }
          ],
          "parcoords": [
           {
            "line": {
             "colorbar": {
              "outlinewidth": 0,
              "ticks": ""
             }
            },
            "type": "parcoords"
           }
          ],
          "pie": [
           {
            "automargin": true,
            "type": "pie"
           }
          ],
          "scatter": [
           {
            "fillpattern": {
             "fillmode": "overlay",
             "size": 10,
             "solidity": 0.2
            },
            "type": "scatter"
           }
          ],
          "scatter3d": [
           {
            "line": {
             "colorbar": {
              "outlinewidth": 0,
              "ticks": ""
             }
            },
            "marker": {
             "colorbar": {
              "outlinewidth": 0,
              "ticks": ""
             }
            },
            "type": "scatter3d"
           }
          ],
          "scattercarpet": [
           {
            "marker": {
             "colorbar": {
              "outlinewidth": 0,
              "ticks": ""
             }
            },
            "type": "scattercarpet"
           }
          ],
          "scattergeo": [
           {
            "marker": {
             "colorbar": {
              "outlinewidth": 0,
              "ticks": ""
             }
            },
            "type": "scattergeo"
           }
          ],
          "scattergl": [
           {
            "marker": {
             "colorbar": {
              "outlinewidth": 0,
              "ticks": ""
             }
            },
            "type": "scattergl"
           }
          ],
          "scattermapbox": [
           {
            "marker": {
             "colorbar": {
              "outlinewidth": 0,
              "ticks": ""
             }
            },
            "type": "scattermapbox"
           }
          ],
          "scatterpolar": [
           {
            "marker": {
             "colorbar": {
              "outlinewidth": 0,
              "ticks": ""
             }
            },
            "type": "scatterpolar"
           }
          ],
          "scatterpolargl": [
           {
            "marker": {
             "colorbar": {
              "outlinewidth": 0,
              "ticks": ""
             }
            },
            "type": "scatterpolargl"
           }
          ],
          "scatterternary": [
           {
            "marker": {
             "colorbar": {
              "outlinewidth": 0,
              "ticks": ""
             }
            },
            "type": "scatterternary"
           }
          ],
          "surface": [
           {
            "colorbar": {
             "outlinewidth": 0,
             "ticks": ""
            },
            "colorscale": [
             [
              0,
              "#0d0887"
             ],
             [
              0.1111111111111111,
              "#46039f"
             ],
             [
              0.2222222222222222,
              "#7201a8"
             ],
             [
              0.3333333333333333,
              "#9c179e"
             ],
             [
              0.4444444444444444,
              "#bd3786"
             ],
             [
              0.5555555555555556,
              "#d8576b"
             ],
             [
              0.6666666666666666,
              "#ed7953"
             ],
             [
              0.7777777777777778,
              "#fb9f3a"
             ],
             [
              0.8888888888888888,
              "#fdca26"
             ],
             [
              1,
              "#f0f921"
             ]
            ],
            "type": "surface"
           }
          ],
          "table": [
           {
            "cells": {
             "fill": {
              "color": "#EBF0F8"
             },
             "line": {
              "color": "white"
             }
            },
            "header": {
             "fill": {
              "color": "#C8D4E3"
             },
             "line": {
              "color": "white"
             }
            },
            "type": "table"
           }
          ]
         },
         "layout": {
          "annotationdefaults": {
           "arrowcolor": "#2a3f5f",
           "arrowhead": 0,
           "arrowwidth": 1
          },
          "autotypenumbers": "strict",
          "coloraxis": {
           "colorbar": {
            "outlinewidth": 0,
            "ticks": ""
           }
          },
          "colorscale": {
           "diverging": [
            [
             0,
             "#8e0152"
            ],
            [
             0.1,
             "#c51b7d"
            ],
            [
             0.2,
             "#de77ae"
            ],
            [
             0.3,
             "#f1b6da"
            ],
            [
             0.4,
             "#fde0ef"
            ],
            [
             0.5,
             "#f7f7f7"
            ],
            [
             0.6,
             "#e6f5d0"
            ],
            [
             0.7,
             "#b8e186"
            ],
            [
             0.8,
             "#7fbc41"
            ],
            [
             0.9,
             "#4d9221"
            ],
            [
             1,
             "#276419"
            ]
           ],
           "sequential": [
            [
             0,
             "#0d0887"
            ],
            [
             0.1111111111111111,
             "#46039f"
            ],
            [
             0.2222222222222222,
             "#7201a8"
            ],
            [
             0.3333333333333333,
             "#9c179e"
            ],
            [
             0.4444444444444444,
             "#bd3786"
            ],
            [
             0.5555555555555556,
             "#d8576b"
            ],
            [
             0.6666666666666666,
             "#ed7953"
            ],
            [
             0.7777777777777778,
             "#fb9f3a"
            ],
            [
             0.8888888888888888,
             "#fdca26"
            ],
            [
             1,
             "#f0f921"
            ]
           ],
           "sequentialminus": [
            [
             0,
             "#0d0887"
            ],
            [
             0.1111111111111111,
             "#46039f"
            ],
            [
             0.2222222222222222,
             "#7201a8"
            ],
            [
             0.3333333333333333,
             "#9c179e"
            ],
            [
             0.4444444444444444,
             "#bd3786"
            ],
            [
             0.5555555555555556,
             "#d8576b"
            ],
            [
             0.6666666666666666,
             "#ed7953"
            ],
            [
             0.7777777777777778,
             "#fb9f3a"
            ],
            [
             0.8888888888888888,
             "#fdca26"
            ],
            [
             1,
             "#f0f921"
            ]
           ]
          },
          "colorway": [
           "#636efa",
           "#EF553B",
           "#00cc96",
           "#ab63fa",
           "#FFA15A",
           "#19d3f3",
           "#FF6692",
           "#B6E880",
           "#FF97FF",
           "#FECB52"
          ],
          "font": {
           "color": "#2a3f5f"
          },
          "geo": {
           "bgcolor": "white",
           "lakecolor": "white",
           "landcolor": "#E5ECF6",
           "showlakes": true,
           "showland": true,
           "subunitcolor": "white"
          },
          "hoverlabel": {
           "align": "left"
          },
          "hovermode": "closest",
          "mapbox": {
           "style": "light"
          },
          "paper_bgcolor": "white",
          "plot_bgcolor": "#E5ECF6",
          "polar": {
           "angularaxis": {
            "gridcolor": "white",
            "linecolor": "white",
            "ticks": ""
           },
           "bgcolor": "#E5ECF6",
           "radialaxis": {
            "gridcolor": "white",
            "linecolor": "white",
            "ticks": ""
           }
          },
          "scene": {
           "xaxis": {
            "backgroundcolor": "#E5ECF6",
            "gridcolor": "white",
            "gridwidth": 2,
            "linecolor": "white",
            "showbackground": true,
            "ticks": "",
            "zerolinecolor": "white"
           },
           "yaxis": {
            "backgroundcolor": "#E5ECF6",
            "gridcolor": "white",
            "gridwidth": 2,
            "linecolor": "white",
            "showbackground": true,
            "ticks": "",
            "zerolinecolor": "white"
           },
           "zaxis": {
            "backgroundcolor": "#E5ECF6",
            "gridcolor": "white",
            "gridwidth": 2,
            "linecolor": "white",
            "showbackground": true,
            "ticks": "",
            "zerolinecolor": "white"
           }
          },
          "shapedefaults": {
           "line": {
            "color": "#2a3f5f"
           }
          },
          "ternary": {
           "aaxis": {
            "gridcolor": "white",
            "linecolor": "white",
            "ticks": ""
           },
           "baxis": {
            "gridcolor": "white",
            "linecolor": "white",
            "ticks": ""
           },
           "bgcolor": "#E5ECF6",
           "caxis": {
            "gridcolor": "white",
            "linecolor": "white",
            "ticks": ""
           }
          },
          "title": {
           "x": 0.05
          },
          "xaxis": {
           "automargin": true,
           "gridcolor": "white",
           "linecolor": "white",
           "ticks": "",
           "title": {
            "standoff": 15
           },
           "zerolinecolor": "white",
           "zerolinewidth": 2
          },
          "yaxis": {
           "automargin": true,
           "gridcolor": "white",
           "linecolor": "white",
           "ticks": "",
           "title": {
            "standoff": 15
           },
           "zerolinecolor": "white",
           "zerolinewidth": 2
          }
         }
        }
       }
      }
     },
     "metadata": {},
     "output_type": "display_data"
    }
   ],
   "source": [
    "import plotly.express as px\n",
    "fig = px.scatter_matrix(df,\n",
    "    dimensions=[\"number_parameter\", \"hidden_dimension\", \"number_layers\", \"learning_rate\", \"best_accuracy\"],\n",
    "    color=\"intrinsic_dimension\",)\n",
    "fig.update_layout(\n",
    "    dragmode='select',\n",
    "    height=1000,\n",
    "    hovermode='closest',\n",
    ")\n",
    "fig.update_traces(diagonal_visible=False)\n",
    "fig.show()"
   ]
  },
  {
   "cell_type": "code",
   "execution_count": 44,
   "metadata": {},
   "outputs": [
    {
     "data": {
      "application/vnd.plotly.v1+json": {
       "config": {
        "plotlyServerURL": "https://plot.ly"
       },
       "data": [
        {
         "marker": {
          "color": [
           50,
           50,
           50,
           50,
           50,
           50,
           50,
           50,
           50,
           50,
           50,
           50,
           50,
           50,
           50,
           50,
           50,
           50,
           50,
           50,
           50,
           50,
           50,
           50,
           50,
           50,
           50,
           50,
           50,
           50,
           50,
           50,
           50,
           50,
           50,
           50,
           50,
           50,
           50,
           50,
           50,
           50,
           50,
           50,
           50,
           50,
           50,
           50,
           50,
           50,
           50,
           50,
           50,
           50,
           50,
           50,
           50,
           50,
           50,
           50,
           50,
           50,
           50,
           50,
           50,
           50,
           50,
           50,
           50,
           50,
           50,
           50,
           50,
           50,
           50,
           50,
           50,
           50,
           50,
           50,
           50,
           50,
           50,
           50,
           50,
           50,
           50,
           50,
           50,
           50,
           50,
           50,
           50,
           50,
           50,
           50,
           50,
           50,
           50,
           50,
           50,
           50,
           50,
           50,
           50,
           50,
           50,
           50,
           50,
           50,
           50,
           50,
           50,
           50,
           50,
           50,
           50,
           50,
           50,
           50,
           50,
           50,
           50,
           50,
           50,
           50,
           50,
           50,
           50,
           50,
           50,
           100,
           100,
           100,
           100,
           100,
           100,
           100,
           100,
           100,
           100,
           100,
           100,
           100,
           100,
           100,
           100,
           100,
           100,
           100,
           100,
           100,
           100,
           100,
           100,
           100,
           100,
           100,
           100,
           100,
           100,
           100,
           100,
           100,
           100,
           100,
           100,
           100,
           100,
           100,
           100,
           100,
           100,
           100,
           100,
           100,
           100,
           100,
           100,
           100,
           100,
           100,
           100,
           100,
           100,
           100,
           100,
           100,
           100,
           100,
           100,
           100,
           100,
           100,
           100,
           100,
           100,
           100,
           100,
           100,
           100,
           100,
           100,
           100,
           100,
           100,
           100,
           100,
           100,
           100,
           100,
           100,
           100,
           100,
           100,
           100,
           100,
           100,
           100,
           100,
           100,
           100,
           100,
           100,
           100,
           100,
           100,
           100,
           100,
           100,
           100,
           100,
           100,
           100,
           100,
           100,
           100,
           100,
           100,
           100,
           100,
           100,
           100,
           100,
           100,
           100,
           100,
           100,
           100,
           100,
           100,
           100,
           100,
           100,
           100,
           100,
           100,
           100,
           100,
           100,
           100,
           100,
           100,
           100,
           100,
           100,
           100,
           200,
           200,
           200,
           200,
           200,
           200,
           200,
           200,
           200,
           200,
           200,
           200,
           200,
           200,
           200,
           200,
           200,
           200,
           200,
           200,
           200,
           200,
           200,
           200,
           200,
           200,
           200,
           200,
           200,
           200,
           200,
           200,
           200,
           200,
           200,
           200,
           200,
           200,
           200,
           200,
           200,
           200,
           200,
           200,
           200,
           200,
           200,
           200,
           200,
           200,
           200,
           200,
           200,
           200,
           200,
           200,
           200,
           200,
           200,
           200,
           200,
           200,
           200,
           200,
           200,
           200,
           200,
           200,
           200,
           200,
           200,
           200,
           200,
           200,
           200,
           200,
           200,
           200,
           200,
           200,
           200,
           200,
           200,
           200,
           200,
           200,
           200,
           200,
           200,
           200,
           200,
           200,
           200,
           200,
           200,
           200,
           200,
           200,
           200,
           200,
           400,
           500,
           600,
           700,
           800,
           1000,
           1200,
           400,
           500,
           600,
           700,
           800,
           1000,
           1200,
           400,
           500,
           600,
           700,
           800,
           1000,
           1200,
           400,
           500,
           600,
           700,
           800,
           1000,
           1200,
           400,
           500,
           600,
           700,
           800,
           1000,
           1200,
           400,
           500,
           600,
           700,
           400,
           500,
           600,
           700,
           800,
           1000,
           1200,
           400,
           500,
           600,
           700,
           800,
           1000,
           1200,
           400,
           500,
           600,
           700,
           800,
           1000,
           1200,
           400,
           500,
           600,
           700,
           800,
           1000,
           1200,
           400,
           500,
           600,
           700,
           800,
           1000,
           1200,
           400,
           500,
           600,
           700,
           800,
           1000,
           1200,
           400,
           500,
           600,
           700,
           800,
           1000,
           1200,
           400,
           500,
           600,
           700,
           800,
           1000,
           1200,
           400,
           500,
           600,
           700,
           800,
           1000,
           1200,
           400,
           500,
           600,
           700,
           800,
           1000,
           1200,
           400,
           500,
           600,
           700,
           800,
           1000,
           1200,
           400,
           500,
           600,
           700,
           800,
           1000,
           1200,
           400,
           500,
           600,
           700,
           800,
           1000,
           1200,
           400,
           500,
           600,
           700,
           800,
           1000,
           1200,
           400,
           500,
           600,
           700,
           800,
           1000,
           525,
           550,
           575,
           0,
           50,
           10
          ],
          "showscale": true,
          "size": [
           50,
           50,
           50,
           50,
           50,
           50,
           50,
           50,
           50,
           50,
           50,
           50,
           50,
           50,
           50,
           50,
           50,
           50,
           50,
           50,
           50,
           50,
           50,
           50,
           50,
           50,
           50,
           50,
           50,
           50,
           50,
           50,
           50,
           50,
           50,
           100,
           100,
           100,
           100,
           100,
           100,
           100,
           100,
           100,
           100,
           100,
           100,
           100,
           100,
           100,
           100,
           100,
           100,
           100,
           100,
           100,
           100,
           100,
           100,
           100,
           100,
           100,
           100,
           100,
           100,
           100,
           100,
           100,
           100,
           100,
           200,
           200,
           200,
           200,
           200,
           200,
           200,
           200,
           200,
           200,
           200,
           200,
           200,
           200,
           200,
           200,
           200,
           200,
           200,
           200,
           200,
           200,
           200,
           200,
           200,
           200,
           200,
           200,
           200,
           200,
           200,
           200,
           400,
           400,
           400,
           400,
           400,
           400,
           400,
           400,
           400,
           400,
           400,
           400,
           400,
           400,
           400,
           400,
           400,
           400,
           400,
           400,
           400,
           400,
           400,
           400,
           400,
           400,
           400,
           400,
           400,
           50,
           50,
           50,
           50,
           50,
           50,
           50,
           50,
           50,
           50,
           50,
           50,
           50,
           50,
           50,
           50,
           50,
           50,
           50,
           50,
           50,
           50,
           50,
           50,
           50,
           50,
           50,
           50,
           50,
           50,
           50,
           50,
           50,
           50,
           50,
           100,
           100,
           100,
           100,
           100,
           100,
           100,
           100,
           100,
           100,
           100,
           100,
           100,
           100,
           100,
           100,
           100,
           100,
           100,
           100,
           100,
           100,
           100,
           100,
           100,
           100,
           100,
           100,
           100,
           100,
           100,
           100,
           100,
           100,
           100,
           200,
           200,
           200,
           200,
           200,
           200,
           200,
           200,
           200,
           200,
           200,
           200,
           200,
           200,
           200,
           200,
           200,
           200,
           200,
           200,
           200,
           200,
           200,
           200,
           200,
           200,
           200,
           200,
           200,
           200,
           200,
           200,
           200,
           200,
           400,
           400,
           400,
           400,
           400,
           400,
           400,
           400,
           400,
           400,
           400,
           400,
           400,
           400,
           400,
           400,
           400,
           400,
           400,
           400,
           400,
           400,
           400,
           400,
           400,
           400,
           400,
           400,
           400,
           400,
           400,
           400,
           50,
           50,
           50,
           50,
           50,
           50,
           50,
           50,
           50,
           50,
           50,
           50,
           50,
           50,
           50,
           50,
           50,
           50,
           50,
           50,
           50,
           50,
           50,
           50,
           50,
           50,
           50,
           50,
           50,
           50,
           50,
           50,
           50,
           50,
           50,
           100,
           100,
           100,
           100,
           100,
           100,
           100,
           100,
           100,
           100,
           100,
           100,
           100,
           100,
           100,
           100,
           100,
           100,
           100,
           100,
           100,
           100,
           100,
           100,
           100,
           100,
           100,
           100,
           100,
           100,
           100,
           100,
           100,
           100,
           100,
           200,
           200,
           200,
           200,
           200,
           200,
           200,
           200,
           200,
           200,
           200,
           200,
           200,
           200,
           200,
           200,
           200,
           200,
           200,
           200,
           200,
           200,
           200,
           200,
           200,
           200,
           200,
           200,
           200,
           200,
           50,
           50,
           50,
           50,
           50,
           50,
           50,
           50,
           50,
           50,
           50,
           50,
           50,
           50,
           50,
           50,
           50,
           50,
           50,
           50,
           50,
           50,
           50,
           50,
           50,
           50,
           50,
           50,
           50,
           50,
           50,
           50,
           50,
           50,
           50,
           100,
           100,
           100,
           100,
           50,
           50,
           50,
           50,
           50,
           50,
           50,
           50,
           50,
           50,
           50,
           50,
           50,
           50,
           50,
           50,
           50,
           50,
           50,
           50,
           50,
           50,
           50,
           50,
           50,
           50,
           50,
           50,
           50,
           50,
           50,
           50,
           50,
           50,
           50,
           100,
           100,
           100,
           100,
           100,
           100,
           100,
           100,
           100,
           100,
           100,
           100,
           100,
           100,
           100,
           100,
           100,
           100,
           100,
           100,
           100,
           100,
           100,
           100,
           100,
           100,
           100,
           100,
           100,
           100,
           100,
           100,
           100,
           100,
           100,
           200,
           200,
           200,
           200,
           200,
           200,
           200,
           200,
           200,
           200,
           200,
           200,
           200,
           200,
           200,
           200,
           200,
           200,
           200,
           200,
           200,
           200,
           200,
           200,
           200,
           200,
           200,
           200,
           200,
           200,
           200,
           200,
           200,
           200,
           200,
           200,
           200,
           200,
           200,
           200
          ],
          "sizemin": 2,
          "sizemode": "area",
          "sizeref": 0.4444444444444444
         },
         "mode": "markers",
         "type": "scatter",
         "x": [
          0.4623,
          0.4636,
          0.4627,
          0.4642,
          0.4653,
          0.4651,
          0.4399,
          0.4724,
          0.4755,
          0.4778,
          0.4784,
          0.477,
          0.4714,
          0.3822,
          0.4775,
          0.5124,
          0.4995,
          0.4478,
          0.4551,
          0.4522,
          0.1909,
          0.4442,
          0.4292,
          0.4299,
          0.431,
          0.428,
          0.4258,
          0.1245,
          0.4567,
          0.485,
          0.497,
          0.4976,
          0.5011,
          0.3878,
          0.1147,
          0.4713,
          0.4944,
          0.4928,
          0.4917,
          0.4894,
          0.4882,
          0.4532,
          0.4916,
          0.5253,
          0.4884,
          0.4885,
          0.4755,
          0.4757,
          0.391,
          0.4648,
          0.5079,
          0.4892,
          0.4654,
          0.4649,
          0.4635,
          0.2003,
          0.4599,
          0.4826,
          0.4884,
          0.4927,
          0.4911,
          0.4902,
          0.1784,
          0.4211,
          0.4912,
          0.5016,
          0.4983,
          0.5009,
          0.4999,
          0.185,
          0.472,
          0.4715,
          0.4713,
          0.4717,
          0.4696,
          0.4695,
          0.4599,
          0.4863,
          0.5125,
          0.5052,
          0.5054,
          0.5052,
          0.4974,
          0.4968,
          0.4919,
          0.5072,
          0.4571,
          0.4614,
          0.4631,
          0.3428,
          0.4616,
          0.4623,
          0.4606,
          0.4762,
          0.4751,
          0.1139,
          0.4626,
          0.4911,
          0.4812,
          0.4641,
          0.437,
          0.1135,
          0.4376,
          0.4481,
          0.4489,
          0.4493,
          0.4512,
          0.4521,
          0.4522,
          0.4651,
          0.4768,
          0.4701,
          0.4693,
          0.4695,
          0.4633,
          0.4546,
          0.4493,
          0.4768,
          0.477,
          0.4783,
          0.4656,
          0.4584,
          0.4608,
          0.477,
          0.4763,
          0.4544,
          0.4252,
          0.4433,
          0.4299,
          0.4312,
          0.1913,
          0.6349,
          0.6375,
          0.6385,
          0.6372,
          0.6189,
          0.615,
          0.5845,
          0.6551,
          0.6556,
          0.6689,
          0.6312,
          0.6214,
          0.6176,
          0.5004,
          0.6446,
          0.6387,
          0.6493,
          0.649,
          0.6275,
          0.611,
          0.2306,
          0.6098,
          0.6639,
          0.6515,
          0.6478,
          0.6471,
          0.6355,
          0.1587,
          0.5904,
          0.6482,
          0.6437,
          0.6318,
          0.6229,
          0.1474,
          0.1182,
          0.6585,
          0.6603,
          0.66,
          0.6609,
          0.6587,
          0.6368,
          0.5781,
          0.6481,
          0.6416,
          0.6655,
          0.661,
          0.6615,
          0.6629,
          0.544,
          0.6433,
          0.6624,
          0.6645,
          0.6678,
          0.6648,
          0.6303,
          0.3381,
          0.6084,
          0.6202,
          0.6329,
          0.64,
          0.6396,
          0.6206,
          0.1771,
          0.5682,
          0.6138,
          0.6412,
          0.6584,
          0.6278,
          0.5871,
          0.1915,
          0.6359,
          0.6546,
          0.6561,
          0.6568,
          0.6459,
          0.6363,
          0.5916,
          0.6371,
          0.6498,
          0.6546,
          0.658,
          0.6497,
          0.6315,
          0.5905,
          0.5771,
          0.6288,
          0.6373,
          0.6427,
          0.6463,
          0.647,
          0.5948,
          0.5832,
          0.618,
          0.621,
          0.629,
          0.6288,
          0.627,
          0.1161,
          0.5916,
          0.6403,
          0.6358,
          0.638,
          0.628,
          0.1135,
          0.6251,
          0.6387,
          0.6422,
          0.643,
          0.6441,
          0.6435,
          0.6329,
          0.5847,
          0.6476,
          0.6447,
          0.6682,
          0.6587,
          0.6577,
          0.6134,
          0.6158,
          0.6272,
          0.6504,
          0.6526,
          0.6517,
          0.6203,
          0.606,
          0.6524,
          0.6681,
          0.6825,
          0.6472,
          0.3236,
          0.5765,
          0.6147,
          0.6427,
          0.6524,
          0.6384,
          0.1869,
          0.7858,
          0.7879,
          0.7864,
          0.7846,
          0.7777,
          0.7667,
          0.6957,
          0.797,
          0.8074,
          0.8031,
          0.7888,
          0.7819,
          0.7603,
          0.5578,
          0.7972,
          0.7933,
          0.7907,
          0.7786,
          0.7613,
          0.7357,
          0.2088,
          0.7703,
          0.7878,
          0.8076,
          0.8022,
          0.7587,
          0.696,
          0.1377,
          0.7333,
          0.7773,
          0.7828,
          0.7775,
          0.7173,
          0.1252,
          0.1253,
          0.7749,
          0.7853,
          0.781,
          0.7788,
          0.7738,
          0.764,
          0.7012,
          0.7946,
          0.7977,
          0.7975,
          0.7924,
          0.7789,
          0.7641,
          0.6689,
          0.7806,
          0.792,
          0.7931,
          0.7904,
          0.7747,
          0.7694,
          0.3044,
          0.7617,
          0.7794,
          0.7785,
          0.7947,
          0.7784,
          0.7563,
          0.1762,
          0.7461,
          0.7652,
          0.7766,
          0.7881,
          0.7779,
          0.3692,
          0.1823,
          0.7917,
          0.7951,
          0.7917,
          0.7894,
          0.7804,
          0.7603,
          0.6945,
          0.7909,
          0.8027,
          0.7903,
          0.7847,
          0.7737,
          0.7614,
          0.6904,
          0.7519,
          0.7819,
          0.7989,
          0.8095,
          0.8021,
          0.7961,
          0.4943,
          0.7323,
          0.7857,
          0.7983,
          0.7824,
          0.7838,
          0.7735,
          0.114,
          0.6754,
          0.748,
          0.8703,
          0.8926,
          0.8999,
          0.9108,
          0.9169,
          0.9293,
          0.9326,
          0.87,
          0.8888,
          0.8978,
          0.9065,
          0.9132,
          0.9229,
          0.9314,
          0.8646,
          0.8872,
          0.8942,
          0.9049,
          0.9125,
          0.92,
          0.9238,
          0.856,
          0.8852,
          0.8908,
          0.9031,
          0.908,
          0.9098,
          0.9176,
          0.8301,
          0.8642,
          0.8671,
          0.8773,
          0.8883,
          0.8866,
          0.8934,
          0.872,
          0.8907,
          0.9032,
          0.9161,
          0.8817,
          0.8939,
          0.9022,
          0.9209,
          0.9227,
          0.93,
          0.9369,
          0.8795,
          0.8927,
          0.9008,
          0.9132,
          0.9174,
          0.9305,
          0.935,
          0.8789,
          0.8867,
          0.9026,
          0.9115,
          0.9162,
          0.9272,
          0.9334,
          0.8726,
          0.8854,
          0.8963,
          0.9066,
          0.9137,
          0.923,
          0.9279,
          0.8596,
          0.8589,
          0.8798,
          0.8847,
          0.8898,
          0.8997,
          0.8974,
          0.8766,
          0.8924,
          0.9053,
          0.9193,
          0.9199,
          0.9319,
          0.9365,
          0.8757,
          0.8982,
          0.9098,
          0.9119,
          0.9242,
          0.9293,
          0.9362,
          0.8777,
          0.8943,
          0.9024,
          0.9121,
          0.9188,
          0.9275,
          0.9342,
          0.8694,
          0.892,
          0.9008,
          0.9078,
          0.9156,
          0.9247,
          0.9314,
          0.8561,
          0.8714,
          0.8848,
          0.8929,
          0.9001,
          0.9042,
          0.9119,
          0.8701,
          0.8938,
          0.9057,
          0.9096,
          0.9194,
          0.9297,
          0.9377,
          0.8781,
          0.8913,
          0.9052,
          0.9168,
          0.9185,
          0.9325,
          0.9344,
          0.8754,
          0.8932,
          0.9085,
          0.91,
          0.9212,
          0.9274,
          0.9312,
          0.8723,
          0.8902,
          0.9053,
          0.9094,
          0.9163,
          0.9281,
          0.9293,
          0.8563,
          0.8807,
          0.8934,
          0.9018,
          0.9034,
          0.9151,
          0.8862,
          0.889,
          0.8935,
          0.9817,
          0.4863,
          0.2289
         ],
         "y": [
          0.05,
          0.02,
          0.01,
          0.005,
          0.001,
          0.0005,
          0.0001,
          0.05,
          0.02,
          0.01,
          0.005,
          0.001,
          0.0005,
          0.0001,
          0.05,
          0.02,
          0.01,
          0.005,
          0.001,
          0.0005,
          0.0001,
          0.05,
          0.02,
          0.01,
          0.005,
          0.001,
          0.0005,
          0.0001,
          0.05,
          0.02,
          0.01,
          0.005,
          0.001,
          0.0005,
          0.0001,
          0.05,
          0.02,
          0.01,
          0.005,
          0.001,
          0.0005,
          0.0001,
          0.05,
          0.02,
          0.01,
          0.005,
          0.001,
          0.0005,
          0.0001,
          0.05,
          0.02,
          0.01,
          0.005,
          0.001,
          0.0005,
          0.0001,
          0.05,
          0.02,
          0.01,
          0.005,
          0.001,
          0.0005,
          0.0001,
          0.05,
          0.02,
          0.01,
          0.005,
          0.001,
          0.0005,
          0.0001,
          0.05,
          0.02,
          0.01,
          0.005,
          0.001,
          0.0005,
          0.0001,
          0.05,
          0.02,
          0.01,
          0.005,
          0.001,
          0.0005,
          0.0001,
          0.02,
          0.01,
          0.005,
          0.001,
          0.0005,
          0.0001,
          0.02,
          0.01,
          0.005,
          0.001,
          0.0005,
          0.0001,
          0.02,
          0.01,
          0.005,
          0.001,
          0.0005,
          0.0001,
          0.05,
          0.02,
          0.01,
          0.005,
          0.001,
          0.0005,
          0.0001,
          0.02,
          0.01,
          0.005,
          0.001,
          0.0005,
          0.0001,
          0.02,
          0.01,
          0.005,
          0.001,
          0.0005,
          0.0001,
          0.01,
          0.005,
          0.001,
          0.0005,
          0.0001,
          0.01,
          0.005,
          0.001,
          0.0005,
          0.0001,
          0.05,
          0.02,
          0.01,
          0.005,
          0.001,
          0.0005,
          0.0001,
          0.05,
          0.02,
          0.01,
          0.005,
          0.001,
          0.0005,
          0.0001,
          0.05,
          0.02,
          0.01,
          0.005,
          0.001,
          0.0005,
          0.0001,
          0.05,
          0.02,
          0.01,
          0.005,
          0.001,
          0.0005,
          0.0001,
          0.05,
          0.02,
          0.01,
          0.005,
          0.001,
          0.0005,
          0.0001,
          0.05,
          0.02,
          0.01,
          0.005,
          0.001,
          0.0005,
          0.0001,
          0.05,
          0.02,
          0.01,
          0.005,
          0.001,
          0.0005,
          0.0001,
          0.05,
          0.02,
          0.01,
          0.005,
          0.001,
          0.0005,
          0.0001,
          0.05,
          0.02,
          0.01,
          0.005,
          0.001,
          0.0005,
          0.0001,
          0.05,
          0.02,
          0.01,
          0.005,
          0.001,
          0.0005,
          0.0001,
          0.05,
          0.02,
          0.01,
          0.005,
          0.001,
          0.0005,
          0.0001,
          0.05,
          0.02,
          0.01,
          0.005,
          0.001,
          0.0005,
          0.0001,
          0.05,
          0.02,
          0.01,
          0.005,
          0.001,
          0.0005,
          0.0001,
          0.05,
          0.02,
          0.01,
          0.005,
          0.001,
          0.0005,
          0.0001,
          0.02,
          0.01,
          0.005,
          0.001,
          0.0005,
          0.0001,
          0.05,
          0.02,
          0.01,
          0.005,
          0.001,
          0.0005,
          0.0001,
          0.05,
          0.02,
          0.01,
          0.005,
          0.001,
          0.0005,
          0.0001,
          0.02,
          0.01,
          0.005,
          0.001,
          0.0005,
          0.0001,
          0.02,
          0.01,
          0.005,
          0.001,
          0.0005,
          0.0001,
          0.02,
          0.01,
          0.005,
          0.001,
          0.0005,
          0.0001,
          0.05,
          0.02,
          0.01,
          0.005,
          0.001,
          0.0005,
          0.0001,
          0.05,
          0.02,
          0.01,
          0.005,
          0.001,
          0.0005,
          0.0001,
          0.05,
          0.02,
          0.01,
          0.005,
          0.001,
          0.0005,
          0.0001,
          0.05,
          0.02,
          0.01,
          0.005,
          0.001,
          0.0005,
          0.0001,
          0.05,
          0.02,
          0.01,
          0.005,
          0.001,
          0.0005,
          0.0001,
          0.05,
          0.02,
          0.01,
          0.005,
          0.001,
          0.0005,
          0.0001,
          0.05,
          0.02,
          0.01,
          0.005,
          0.001,
          0.0005,
          0.0001,
          0.05,
          0.02,
          0.01,
          0.005,
          0.001,
          0.0005,
          0.0001,
          0.05,
          0.02,
          0.01,
          0.005,
          0.001,
          0.0005,
          0.0001,
          0.05,
          0.02,
          0.01,
          0.005,
          0.001,
          0.0005,
          0.0001,
          0.05,
          0.02,
          0.01,
          0.005,
          0.001,
          0.0005,
          0.0001,
          0.05,
          0.02,
          0.01,
          0.005,
          0.001,
          0.0005,
          0.0001,
          0.05,
          0.02,
          0.01,
          0.005,
          0.001,
          0.0005,
          0.0001,
          0.05,
          0.02,
          0.01,
          0.005,
          0.001,
          0.0005,
          0.0001,
          0.05,
          0.02,
          0.05,
          0.05,
          0.05,
          0.05,
          0.05,
          0.05,
          0.05,
          0.02,
          0.02,
          0.02,
          0.02,
          0.02,
          0.02,
          0.02,
          0.01,
          0.01,
          0.01,
          0.01,
          0.01,
          0.01,
          0.01,
          0.005,
          0.005,
          0.005,
          0.005,
          0.005,
          0.005,
          0.005,
          0.001,
          0.001,
          0.001,
          0.001,
          0.001,
          0.001,
          0.001,
          0.05,
          0.05,
          0.05,
          0.05,
          0.05,
          0.05,
          0.05,
          0.05,
          0.05,
          0.05,
          0.05,
          0.02,
          0.02,
          0.02,
          0.02,
          0.02,
          0.02,
          0.02,
          0.01,
          0.01,
          0.01,
          0.01,
          0.01,
          0.01,
          0.01,
          0.005,
          0.005,
          0.005,
          0.005,
          0.005,
          0.005,
          0.005,
          0.001,
          0.001,
          0.001,
          0.001,
          0.001,
          0.001,
          0.001,
          0.05,
          0.05,
          0.05,
          0.05,
          0.05,
          0.05,
          0.05,
          0.02,
          0.02,
          0.02,
          0.02,
          0.02,
          0.02,
          0.02,
          0.01,
          0.01,
          0.01,
          0.01,
          0.01,
          0.01,
          0.01,
          0.005,
          0.005,
          0.005,
          0.005,
          0.005,
          0.005,
          0.005,
          0.001,
          0.001,
          0.001,
          0.001,
          0.001,
          0.001,
          0.001,
          0.05,
          0.05,
          0.05,
          0.05,
          0.05,
          0.05,
          0.05,
          0.02,
          0.02,
          0.02,
          0.02,
          0.02,
          0.02,
          0.02,
          0.01,
          0.01,
          0.01,
          0.01,
          0.01,
          0.01,
          0.01,
          0.005,
          0.005,
          0.005,
          0.005,
          0.005,
          0.005,
          0.005,
          0.001,
          0.001,
          0.001,
          0.001,
          0.001,
          0.001,
          0.1,
          0.1,
          0.1,
          0.1,
          0.05,
          0.01
         ]
        }
       ],
       "layout": {
        "template": {
         "data": {
          "bar": [
           {
            "error_x": {
             "color": "#2a3f5f"
            },
            "error_y": {
             "color": "#2a3f5f"
            },
            "marker": {
             "line": {
              "color": "#E5ECF6",
              "width": 0.5
             },
             "pattern": {
              "fillmode": "overlay",
              "size": 10,
              "solidity": 0.2
             }
            },
            "type": "bar"
           }
          ],
          "barpolar": [
           {
            "marker": {
             "line": {
              "color": "#E5ECF6",
              "width": 0.5
             },
             "pattern": {
              "fillmode": "overlay",
              "size": 10,
              "solidity": 0.2
             }
            },
            "type": "barpolar"
           }
          ],
          "carpet": [
           {
            "aaxis": {
             "endlinecolor": "#2a3f5f",
             "gridcolor": "white",
             "linecolor": "white",
             "minorgridcolor": "white",
             "startlinecolor": "#2a3f5f"
            },
            "baxis": {
             "endlinecolor": "#2a3f5f",
             "gridcolor": "white",
             "linecolor": "white",
             "minorgridcolor": "white",
             "startlinecolor": "#2a3f5f"
            },
            "type": "carpet"
           }
          ],
          "choropleth": [
           {
            "colorbar": {
             "outlinewidth": 0,
             "ticks": ""
            },
            "type": "choropleth"
           }
          ],
          "contour": [
           {
            "colorbar": {
             "outlinewidth": 0,
             "ticks": ""
            },
            "colorscale": [
             [
              0,
              "#0d0887"
             ],
             [
              0.1111111111111111,
              "#46039f"
             ],
             [
              0.2222222222222222,
              "#7201a8"
             ],
             [
              0.3333333333333333,
              "#9c179e"
             ],
             [
              0.4444444444444444,
              "#bd3786"
             ],
             [
              0.5555555555555556,
              "#d8576b"
             ],
             [
              0.6666666666666666,
              "#ed7953"
             ],
             [
              0.7777777777777778,
              "#fb9f3a"
             ],
             [
              0.8888888888888888,
              "#fdca26"
             ],
             [
              1,
              "#f0f921"
             ]
            ],
            "type": "contour"
           }
          ],
          "contourcarpet": [
           {
            "colorbar": {
             "outlinewidth": 0,
             "ticks": ""
            },
            "type": "contourcarpet"
           }
          ],
          "heatmap": [
           {
            "colorbar": {
             "outlinewidth": 0,
             "ticks": ""
            },
            "colorscale": [
             [
              0,
              "#0d0887"
             ],
             [
              0.1111111111111111,
              "#46039f"
             ],
             [
              0.2222222222222222,
              "#7201a8"
             ],
             [
              0.3333333333333333,
              "#9c179e"
             ],
             [
              0.4444444444444444,
              "#bd3786"
             ],
             [
              0.5555555555555556,
              "#d8576b"
             ],
             [
              0.6666666666666666,
              "#ed7953"
             ],
             [
              0.7777777777777778,
              "#fb9f3a"
             ],
             [
              0.8888888888888888,
              "#fdca26"
             ],
             [
              1,
              "#f0f921"
             ]
            ],
            "type": "heatmap"
           }
          ],
          "heatmapgl": [
           {
            "colorbar": {
             "outlinewidth": 0,
             "ticks": ""
            },
            "colorscale": [
             [
              0,
              "#0d0887"
             ],
             [
              0.1111111111111111,
              "#46039f"
             ],
             [
              0.2222222222222222,
              "#7201a8"
             ],
             [
              0.3333333333333333,
              "#9c179e"
             ],
             [
              0.4444444444444444,
              "#bd3786"
             ],
             [
              0.5555555555555556,
              "#d8576b"
             ],
             [
              0.6666666666666666,
              "#ed7953"
             ],
             [
              0.7777777777777778,
              "#fb9f3a"
             ],
             [
              0.8888888888888888,
              "#fdca26"
             ],
             [
              1,
              "#f0f921"
             ]
            ],
            "type": "heatmapgl"
           }
          ],
          "histogram": [
           {
            "marker": {
             "pattern": {
              "fillmode": "overlay",
              "size": 10,
              "solidity": 0.2
             }
            },
            "type": "histogram"
           }
          ],
          "histogram2d": [
           {
            "colorbar": {
             "outlinewidth": 0,
             "ticks": ""
            },
            "colorscale": [
             [
              0,
              "#0d0887"
             ],
             [
              0.1111111111111111,
              "#46039f"
             ],
             [
              0.2222222222222222,
              "#7201a8"
             ],
             [
              0.3333333333333333,
              "#9c179e"
             ],
             [
              0.4444444444444444,
              "#bd3786"
             ],
             [
              0.5555555555555556,
              "#d8576b"
             ],
             [
              0.6666666666666666,
              "#ed7953"
             ],
             [
              0.7777777777777778,
              "#fb9f3a"
             ],
             [
              0.8888888888888888,
              "#fdca26"
             ],
             [
              1,
              "#f0f921"
             ]
            ],
            "type": "histogram2d"
           }
          ],
          "histogram2dcontour": [
           {
            "colorbar": {
             "outlinewidth": 0,
             "ticks": ""
            },
            "colorscale": [
             [
              0,
              "#0d0887"
             ],
             [
              0.1111111111111111,
              "#46039f"
             ],
             [
              0.2222222222222222,
              "#7201a8"
             ],
             [
              0.3333333333333333,
              "#9c179e"
             ],
             [
              0.4444444444444444,
              "#bd3786"
             ],
             [
              0.5555555555555556,
              "#d8576b"
             ],
             [
              0.6666666666666666,
              "#ed7953"
             ],
             [
              0.7777777777777778,
              "#fb9f3a"
             ],
             [
              0.8888888888888888,
              "#fdca26"
             ],
             [
              1,
              "#f0f921"
             ]
            ],
            "type": "histogram2dcontour"
           }
          ],
          "mesh3d": [
           {
            "colorbar": {
             "outlinewidth": 0,
             "ticks": ""
            },
            "type": "mesh3d"
           }
          ],
          "parcoords": [
           {
            "line": {
             "colorbar": {
              "outlinewidth": 0,
              "ticks": ""
             }
            },
            "type": "parcoords"
           }
          ],
          "pie": [
           {
            "automargin": true,
            "type": "pie"
           }
          ],
          "scatter": [
           {
            "fillpattern": {
             "fillmode": "overlay",
             "size": 10,
             "solidity": 0.2
            },
            "type": "scatter"
           }
          ],
          "scatter3d": [
           {
            "line": {
             "colorbar": {
              "outlinewidth": 0,
              "ticks": ""
             }
            },
            "marker": {
             "colorbar": {
              "outlinewidth": 0,
              "ticks": ""
             }
            },
            "type": "scatter3d"
           }
          ],
          "scattercarpet": [
           {
            "marker": {
             "colorbar": {
              "outlinewidth": 0,
              "ticks": ""
             }
            },
            "type": "scattercarpet"
           }
          ],
          "scattergeo": [
           {
            "marker": {
             "colorbar": {
              "outlinewidth": 0,
              "ticks": ""
             }
            },
            "type": "scattergeo"
           }
          ],
          "scattergl": [
           {
            "marker": {
             "colorbar": {
              "outlinewidth": 0,
              "ticks": ""
             }
            },
            "type": "scattergl"
           }
          ],
          "scattermapbox": [
           {
            "marker": {
             "colorbar": {
              "outlinewidth": 0,
              "ticks": ""
             }
            },
            "type": "scattermapbox"
           }
          ],
          "scatterpolar": [
           {
            "marker": {
             "colorbar": {
              "outlinewidth": 0,
              "ticks": ""
             }
            },
            "type": "scatterpolar"
           }
          ],
          "scatterpolargl": [
           {
            "marker": {
             "colorbar": {
              "outlinewidth": 0,
              "ticks": ""
             }
            },
            "type": "scatterpolargl"
           }
          ],
          "scatterternary": [
           {
            "marker": {
             "colorbar": {
              "outlinewidth": 0,
              "ticks": ""
             }
            },
            "type": "scatterternary"
           }
          ],
          "surface": [
           {
            "colorbar": {
             "outlinewidth": 0,
             "ticks": ""
            },
            "colorscale": [
             [
              0,
              "#0d0887"
             ],
             [
              0.1111111111111111,
              "#46039f"
             ],
             [
              0.2222222222222222,
              "#7201a8"
             ],
             [
              0.3333333333333333,
              "#9c179e"
             ],
             [
              0.4444444444444444,
              "#bd3786"
             ],
             [
              0.5555555555555556,
              "#d8576b"
             ],
             [
              0.6666666666666666,
              "#ed7953"
             ],
             [
              0.7777777777777778,
              "#fb9f3a"
             ],
             [
              0.8888888888888888,
              "#fdca26"
             ],
             [
              1,
              "#f0f921"
             ]
            ],
            "type": "surface"
           }
          ],
          "table": [
           {
            "cells": {
             "fill": {
              "color": "#EBF0F8"
             },
             "line": {
              "color": "white"
             }
            },
            "header": {
             "fill": {
              "color": "#C8D4E3"
             },
             "line": {
              "color": "white"
             }
            },
            "type": "table"
           }
          ]
         },
         "layout": {
          "annotationdefaults": {
           "arrowcolor": "#2a3f5f",
           "arrowhead": 0,
           "arrowwidth": 1
          },
          "autotypenumbers": "strict",
          "coloraxis": {
           "colorbar": {
            "outlinewidth": 0,
            "ticks": ""
           }
          },
          "colorscale": {
           "diverging": [
            [
             0,
             "#8e0152"
            ],
            [
             0.1,
             "#c51b7d"
            ],
            [
             0.2,
             "#de77ae"
            ],
            [
             0.3,
             "#f1b6da"
            ],
            [
             0.4,
             "#fde0ef"
            ],
            [
             0.5,
             "#f7f7f7"
            ],
            [
             0.6,
             "#e6f5d0"
            ],
            [
             0.7,
             "#b8e186"
            ],
            [
             0.8,
             "#7fbc41"
            ],
            [
             0.9,
             "#4d9221"
            ],
            [
             1,
             "#276419"
            ]
           ],
           "sequential": [
            [
             0,
             "#0d0887"
            ],
            [
             0.1111111111111111,
             "#46039f"
            ],
            [
             0.2222222222222222,
             "#7201a8"
            ],
            [
             0.3333333333333333,
             "#9c179e"
            ],
            [
             0.4444444444444444,
             "#bd3786"
            ],
            [
             0.5555555555555556,
             "#d8576b"
            ],
            [
             0.6666666666666666,
             "#ed7953"
            ],
            [
             0.7777777777777778,
             "#fb9f3a"
            ],
            [
             0.8888888888888888,
             "#fdca26"
            ],
            [
             1,
             "#f0f921"
            ]
           ],
           "sequentialminus": [
            [
             0,
             "#0d0887"
            ],
            [
             0.1111111111111111,
             "#46039f"
            ],
            [
             0.2222222222222222,
             "#7201a8"
            ],
            [
             0.3333333333333333,
             "#9c179e"
            ],
            [
             0.4444444444444444,
             "#bd3786"
            ],
            [
             0.5555555555555556,
             "#d8576b"
            ],
            [
             0.6666666666666666,
             "#ed7953"
            ],
            [
             0.7777777777777778,
             "#fb9f3a"
            ],
            [
             0.8888888888888888,
             "#fdca26"
            ],
            [
             1,
             "#f0f921"
            ]
           ]
          },
          "colorway": [
           "#636efa",
           "#EF553B",
           "#00cc96",
           "#ab63fa",
           "#FFA15A",
           "#19d3f3",
           "#FF6692",
           "#B6E880",
           "#FF97FF",
           "#FECB52"
          ],
          "font": {
           "color": "#2a3f5f"
          },
          "geo": {
           "bgcolor": "white",
           "lakecolor": "white",
           "landcolor": "#E5ECF6",
           "showlakes": true,
           "showland": true,
           "subunitcolor": "white"
          },
          "hoverlabel": {
           "align": "left"
          },
          "hovermode": "closest",
          "mapbox": {
           "style": "light"
          },
          "paper_bgcolor": "white",
          "plot_bgcolor": "#E5ECF6",
          "polar": {
           "angularaxis": {
            "gridcolor": "white",
            "linecolor": "white",
            "ticks": ""
           },
           "bgcolor": "#E5ECF6",
           "radialaxis": {
            "gridcolor": "white",
            "linecolor": "white",
            "ticks": ""
           }
          },
          "scene": {
           "xaxis": {
            "backgroundcolor": "#E5ECF6",
            "gridcolor": "white",
            "gridwidth": 2,
            "linecolor": "white",
            "showbackground": true,
            "ticks": "",
            "zerolinecolor": "white"
           },
           "yaxis": {
            "backgroundcolor": "#E5ECF6",
            "gridcolor": "white",
            "gridwidth": 2,
            "linecolor": "white",
            "showbackground": true,
            "ticks": "",
            "zerolinecolor": "white"
           },
           "zaxis": {
            "backgroundcolor": "#E5ECF6",
            "gridcolor": "white",
            "gridwidth": 2,
            "linecolor": "white",
            "showbackground": true,
            "ticks": "",
            "zerolinecolor": "white"
           }
          },
          "shapedefaults": {
           "line": {
            "color": "#2a3f5f"
           }
          },
          "ternary": {
           "aaxis": {
            "gridcolor": "white",
            "linecolor": "white",
            "ticks": ""
           },
           "baxis": {
            "gridcolor": "white",
            "linecolor": "white",
            "ticks": ""
           },
           "bgcolor": "#E5ECF6",
           "caxis": {
            "gridcolor": "white",
            "linecolor": "white",
            "ticks": ""
           }
          },
          "title": {
           "x": 0.05
          },
          "xaxis": {
           "automargin": true,
           "gridcolor": "white",
           "linecolor": "white",
           "ticks": "",
           "title": {
            "standoff": 15
           },
           "zerolinecolor": "white",
           "zerolinewidth": 2
          },
          "yaxis": {
           "automargin": true,
           "gridcolor": "white",
           "linecolor": "white",
           "ticks": "",
           "title": {
            "standoff": 15
           },
           "zerolinecolor": "white",
           "zerolinewidth": 2
          }
         }
        },
        "yaxis": {
         "type": "log"
        }
       }
      }
     },
     "metadata": {},
     "output_type": "display_data"
    }
   ],
   "source": [
    "import plotly.graph_objects as go\n",
    "\n",
    "sizeref = max(df[\"hidden_dimension\"])/(30**2)\n",
    "\n",
    "fig = go.Figure()\n",
    "\n",
    "fig.add_trace(go.Scatter(\n",
    "    y=df[\"learning_rate\"],\n",
    "    x=df[\"best_accuracy\"],\n",
    "    mode='markers',\n",
    "    marker=dict(\n",
    "        color=df[\"intrinsic_dimension\"], size=df[\"hidden_dimension\"],\n",
    "        sizemode = 'area', sizeref=sizeref,\n",
    "        sizemin=2, showscale = True\n",
    "        ),\n",
    "))\n",
    "fig.update_yaxes(type=\"log\")\n",
    "fig.show()"
   ]
  },
  {
   "cell_type": "code",
   "execution_count": 45,
   "metadata": {},
   "outputs": [
    {
     "data": {
      "application/vnd.plotly.v1+json": {
       "config": {
        "plotlyServerURL": "https://plot.ly"
       },
       "data": [
        {
         "marker": {
          "color": [
           0.05,
           0.02,
           0.01,
           0.005,
           0.001,
           0.0005,
           0.0001,
           0.05,
           0.02,
           0.01,
           0.005,
           0.001,
           0.0005,
           0.0001,
           0.05,
           0.02,
           0.01,
           0.005,
           0.001,
           0.0005,
           0.0001,
           0.05,
           0.02,
           0.01,
           0.005,
           0.001,
           0.0005,
           0.0001,
           0.05,
           0.02,
           0.01,
           0.005,
           0.001,
           0.0005,
           0.0001,
           0.05,
           0.02,
           0.01,
           0.005,
           0.001,
           0.0005,
           0.0001,
           0.05,
           0.02,
           0.01,
           0.005,
           0.001,
           0.0005,
           0.0001,
           0.05,
           0.02,
           0.01,
           0.005,
           0.001,
           0.0005,
           0.0001,
           0.05,
           0.02,
           0.01,
           0.005,
           0.001,
           0.0005,
           0.0001,
           0.05,
           0.02,
           0.01,
           0.005,
           0.001,
           0.0005,
           0.0001,
           0.05,
           0.02,
           0.01,
           0.005,
           0.001,
           0.0005,
           0.0001,
           0.05,
           0.02,
           0.01,
           0.005,
           0.001,
           0.0005,
           0.0001,
           0.02,
           0.01,
           0.005,
           0.001,
           0.0005,
           0.0001,
           0.02,
           0.01,
           0.005,
           0.001,
           0.0005,
           0.0001,
           0.02,
           0.01,
           0.005,
           0.001,
           0.0005,
           0.0001,
           0.05,
           0.02,
           0.01,
           0.005,
           0.001,
           0.0005,
           0.0001,
           0.02,
           0.01,
           0.005,
           0.001,
           0.0005,
           0.0001,
           0.02,
           0.01,
           0.005,
           0.001,
           0.0005,
           0.0001,
           0.01,
           0.005,
           0.001,
           0.0005,
           0.0001,
           0.01,
           0.005,
           0.001,
           0.0005,
           0.0001,
           0.05,
           0.02,
           0.01,
           0.005,
           0.001,
           0.0005,
           0.0001,
           0.05,
           0.02,
           0.01,
           0.005,
           0.001,
           0.0005,
           0.0001,
           0.05,
           0.02,
           0.01,
           0.005,
           0.001,
           0.0005,
           0.0001,
           0.05,
           0.02,
           0.01,
           0.005,
           0.001,
           0.0005,
           0.0001,
           0.05,
           0.02,
           0.01,
           0.005,
           0.001,
           0.0005,
           0.0001,
           0.05,
           0.02,
           0.01,
           0.005,
           0.001,
           0.0005,
           0.0001,
           0.05,
           0.02,
           0.01,
           0.005,
           0.001,
           0.0005,
           0.0001,
           0.05,
           0.02,
           0.01,
           0.005,
           0.001,
           0.0005,
           0.0001,
           0.05,
           0.02,
           0.01,
           0.005,
           0.001,
           0.0005,
           0.0001,
           0.05,
           0.02,
           0.01,
           0.005,
           0.001,
           0.0005,
           0.0001,
           0.05,
           0.02,
           0.01,
           0.005,
           0.001,
           0.0005,
           0.0001,
           0.05,
           0.02,
           0.01,
           0.005,
           0.001,
           0.0005,
           0.0001,
           0.05,
           0.02,
           0.01,
           0.005,
           0.001,
           0.0005,
           0.0001,
           0.05,
           0.02,
           0.01,
           0.005,
           0.001,
           0.0005,
           0.0001,
           0.02,
           0.01,
           0.005,
           0.001,
           0.0005,
           0.0001,
           0.05,
           0.02,
           0.01,
           0.005,
           0.001,
           0.0005,
           0.0001,
           0.05,
           0.02,
           0.01,
           0.005,
           0.001,
           0.0005,
           0.0001,
           0.02,
           0.01,
           0.005,
           0.001,
           0.0005,
           0.0001,
           0.02,
           0.01,
           0.005,
           0.001,
           0.0005,
           0.0001,
           0.02,
           0.01,
           0.005,
           0.001,
           0.0005,
           0.0001,
           0.05,
           0.02,
           0.01,
           0.005,
           0.001,
           0.0005,
           0.0001,
           0.05,
           0.02,
           0.01,
           0.005,
           0.001,
           0.0005,
           0.0001,
           0.05,
           0.02,
           0.01,
           0.005,
           0.001,
           0.0005,
           0.0001,
           0.05,
           0.02,
           0.01,
           0.005,
           0.001,
           0.0005,
           0.0001,
           0.05,
           0.02,
           0.01,
           0.005,
           0.001,
           0.0005,
           0.0001,
           0.05,
           0.02,
           0.01,
           0.005,
           0.001,
           0.0005,
           0.0001,
           0.05,
           0.02,
           0.01,
           0.005,
           0.001,
           0.0005,
           0.0001,
           0.05,
           0.02,
           0.01,
           0.005,
           0.001,
           0.0005,
           0.0001,
           0.05,
           0.02,
           0.01,
           0.005,
           0.001,
           0.0005,
           0.0001,
           0.05,
           0.02,
           0.01,
           0.005,
           0.001,
           0.0005,
           0.0001,
           0.05,
           0.02,
           0.01,
           0.005,
           0.001,
           0.0005,
           0.0001,
           0.05,
           0.02,
           0.01,
           0.005,
           0.001,
           0.0005,
           0.0001,
           0.05,
           0.02,
           0.01,
           0.005,
           0.001,
           0.0005,
           0.0001,
           0.05,
           0.02,
           0.01,
           0.005,
           0.001,
           0.0005,
           0.0001,
           0.05,
           0.02,
           0.05,
           0.05,
           0.05,
           0.05,
           0.05,
           0.05,
           0.05,
           0.02,
           0.02,
           0.02,
           0.02,
           0.02,
           0.02,
           0.02,
           0.01,
           0.01,
           0.01,
           0.01,
           0.01,
           0.01,
           0.01,
           0.005,
           0.005,
           0.005,
           0.005,
           0.005,
           0.005,
           0.005,
           0.001,
           0.001,
           0.001,
           0.001,
           0.001,
           0.001,
           0.001,
           0.05,
           0.05,
           0.05,
           0.05,
           0.05,
           0.05,
           0.05,
           0.05,
           0.05,
           0.05,
           0.05,
           0.02,
           0.02,
           0.02,
           0.02,
           0.02,
           0.02,
           0.02,
           0.01,
           0.01,
           0.01,
           0.01,
           0.01,
           0.01,
           0.01,
           0.005,
           0.005,
           0.005,
           0.005,
           0.005,
           0.005,
           0.005,
           0.001,
           0.001,
           0.001,
           0.001,
           0.001,
           0.001,
           0.001,
           0.05,
           0.05,
           0.05,
           0.05,
           0.05,
           0.05,
           0.05,
           0.02,
           0.02,
           0.02,
           0.02,
           0.02,
           0.02,
           0.02,
           0.01,
           0.01,
           0.01,
           0.01,
           0.01,
           0.01,
           0.01,
           0.005,
           0.005,
           0.005,
           0.005,
           0.005,
           0.005,
           0.005,
           0.001,
           0.001,
           0.001,
           0.001,
           0.001,
           0.001,
           0.001,
           0.05,
           0.05,
           0.05,
           0.05,
           0.05,
           0.05,
           0.05,
           0.02,
           0.02,
           0.02,
           0.02,
           0.02,
           0.02,
           0.02,
           0.01,
           0.01,
           0.01,
           0.01,
           0.01,
           0.01,
           0.01,
           0.005,
           0.005,
           0.005,
           0.005,
           0.005,
           0.005,
           0.005,
           0.001,
           0.001,
           0.001,
           0.001,
           0.001,
           0.001,
           0.1,
           0.1,
           0.1,
           0.1,
           0.05,
           0.01
          ],
          "showscale": true,
          "size": [
           50,
           50,
           50,
           50,
           50,
           50,
           50,
           50,
           50,
           50,
           50,
           50,
           50,
           50,
           50,
           50,
           50,
           50,
           50,
           50,
           50,
           50,
           50,
           50,
           50,
           50,
           50,
           50,
           50,
           50,
           50,
           50,
           50,
           50,
           50,
           100,
           100,
           100,
           100,
           100,
           100,
           100,
           100,
           100,
           100,
           100,
           100,
           100,
           100,
           100,
           100,
           100,
           100,
           100,
           100,
           100,
           100,
           100,
           100,
           100,
           100,
           100,
           100,
           100,
           100,
           100,
           100,
           100,
           100,
           100,
           200,
           200,
           200,
           200,
           200,
           200,
           200,
           200,
           200,
           200,
           200,
           200,
           200,
           200,
           200,
           200,
           200,
           200,
           200,
           200,
           200,
           200,
           200,
           200,
           200,
           200,
           200,
           200,
           200,
           200,
           200,
           200,
           400,
           400,
           400,
           400,
           400,
           400,
           400,
           400,
           400,
           400,
           400,
           400,
           400,
           400,
           400,
           400,
           400,
           400,
           400,
           400,
           400,
           400,
           400,
           400,
           400,
           400,
           400,
           400,
           400,
           50,
           50,
           50,
           50,
           50,
           50,
           50,
           50,
           50,
           50,
           50,
           50,
           50,
           50,
           50,
           50,
           50,
           50,
           50,
           50,
           50,
           50,
           50,
           50,
           50,
           50,
           50,
           50,
           50,
           50,
           50,
           50,
           50,
           50,
           50,
           100,
           100,
           100,
           100,
           100,
           100,
           100,
           100,
           100,
           100,
           100,
           100,
           100,
           100,
           100,
           100,
           100,
           100,
           100,
           100,
           100,
           100,
           100,
           100,
           100,
           100,
           100,
           100,
           100,
           100,
           100,
           100,
           100,
           100,
           100,
           200,
           200,
           200,
           200,
           200,
           200,
           200,
           200,
           200,
           200,
           200,
           200,
           200,
           200,
           200,
           200,
           200,
           200,
           200,
           200,
           200,
           200,
           200,
           200,
           200,
           200,
           200,
           200,
           200,
           200,
           200,
           200,
           200,
           200,
           400,
           400,
           400,
           400,
           400,
           400,
           400,
           400,
           400,
           400,
           400,
           400,
           400,
           400,
           400,
           400,
           400,
           400,
           400,
           400,
           400,
           400,
           400,
           400,
           400,
           400,
           400,
           400,
           400,
           400,
           400,
           400,
           50,
           50,
           50,
           50,
           50,
           50,
           50,
           50,
           50,
           50,
           50,
           50,
           50,
           50,
           50,
           50,
           50,
           50,
           50,
           50,
           50,
           50,
           50,
           50,
           50,
           50,
           50,
           50,
           50,
           50,
           50,
           50,
           50,
           50,
           50,
           100,
           100,
           100,
           100,
           100,
           100,
           100,
           100,
           100,
           100,
           100,
           100,
           100,
           100,
           100,
           100,
           100,
           100,
           100,
           100,
           100,
           100,
           100,
           100,
           100,
           100,
           100,
           100,
           100,
           100,
           100,
           100,
           100,
           100,
           100,
           200,
           200,
           200,
           200,
           200,
           200,
           200,
           200,
           200,
           200,
           200,
           200,
           200,
           200,
           200,
           200,
           200,
           200,
           200,
           200,
           200,
           200,
           200,
           200,
           200,
           200,
           200,
           200,
           200,
           200,
           50,
           50,
           50,
           50,
           50,
           50,
           50,
           50,
           50,
           50,
           50,
           50,
           50,
           50,
           50,
           50,
           50,
           50,
           50,
           50,
           50,
           50,
           50,
           50,
           50,
           50,
           50,
           50,
           50,
           50,
           50,
           50,
           50,
           50,
           50,
           100,
           100,
           100,
           100,
           50,
           50,
           50,
           50,
           50,
           50,
           50,
           50,
           50,
           50,
           50,
           50,
           50,
           50,
           50,
           50,
           50,
           50,
           50,
           50,
           50,
           50,
           50,
           50,
           50,
           50,
           50,
           50,
           50,
           50,
           50,
           50,
           50,
           50,
           50,
           100,
           100,
           100,
           100,
           100,
           100,
           100,
           100,
           100,
           100,
           100,
           100,
           100,
           100,
           100,
           100,
           100,
           100,
           100,
           100,
           100,
           100,
           100,
           100,
           100,
           100,
           100,
           100,
           100,
           100,
           100,
           100,
           100,
           100,
           100,
           200,
           200,
           200,
           200,
           200,
           200,
           200,
           200,
           200,
           200,
           200,
           200,
           200,
           200,
           200,
           200,
           200,
           200,
           200,
           200,
           200,
           200,
           200,
           200,
           200,
           200,
           200,
           200,
           200,
           200,
           200,
           200,
           200,
           200,
           200,
           200,
           200,
           200,
           200,
           200
          ],
          "sizemin": 2,
          "sizemode": "area",
          "sizeref": 0.4444444444444444
         },
         "mode": "markers",
         "type": "scatter3d",
         "x": [
          39760,
          39760,
          39760,
          39760,
          39760,
          39760,
          39760,
          42310,
          42310,
          42310,
          42310,
          42310,
          42310,
          42310,
          44860,
          44860,
          44860,
          44860,
          44860,
          44860,
          44860,
          47410,
          47410,
          47410,
          47410,
          47410,
          47410,
          47410,
          49960,
          49960,
          49960,
          49960,
          49960,
          49960,
          49960,
          79510,
          79510,
          79510,
          79510,
          79510,
          79510,
          79510,
          89610,
          89610,
          89610,
          89610,
          89610,
          89610,
          89610,
          99710,
          99710,
          99710,
          99710,
          99710,
          99710,
          99710,
          109810,
          109810,
          109810,
          109810,
          109810,
          109810,
          109810,
          119910,
          119910,
          119910,
          119910,
          119910,
          119910,
          119910,
          159010,
          159010,
          159010,
          159010,
          159010,
          159010,
          159010,
          199210,
          199210,
          199210,
          199210,
          199210,
          199210,
          199210,
          239410,
          239410,
          239410,
          239410,
          239410,
          239410,
          279610,
          279610,
          279610,
          279610,
          279610,
          279610,
          319810,
          319810,
          319810,
          319810,
          319810,
          319810,
          318010,
          318010,
          318010,
          318010,
          318010,
          318010,
          318010,
          478410,
          478410,
          478410,
          478410,
          478410,
          478410,
          638810,
          638810,
          638810,
          638810,
          638810,
          638810,
          799210,
          799210,
          799210,
          799210,
          799210,
          959610,
          959610,
          959610,
          959610,
          959610,
          39760,
          39760,
          39760,
          39760,
          39760,
          39760,
          39760,
          42310,
          42310,
          42310,
          42310,
          42310,
          42310,
          42310,
          44860,
          44860,
          44860,
          44860,
          44860,
          44860,
          44860,
          47410,
          47410,
          47410,
          47410,
          47410,
          47410,
          47410,
          49960,
          49960,
          49960,
          49960,
          49960,
          49960,
          49960,
          79510,
          79510,
          79510,
          79510,
          79510,
          79510,
          79510,
          89610,
          89610,
          89610,
          89610,
          89610,
          89610,
          89610,
          99710,
          99710,
          99710,
          99710,
          99710,
          99710,
          99710,
          109810,
          109810,
          109810,
          109810,
          109810,
          109810,
          109810,
          119910,
          119910,
          119910,
          119910,
          119910,
          119910,
          119910,
          159010,
          159010,
          159010,
          159010,
          159010,
          159010,
          159010,
          199210,
          199210,
          199210,
          199210,
          199210,
          199210,
          199210,
          239410,
          239410,
          239410,
          239410,
          239410,
          239410,
          239410,
          279610,
          279610,
          279610,
          279610,
          279610,
          279610,
          279610,
          319810,
          319810,
          319810,
          319810,
          319810,
          319810,
          318010,
          318010,
          318010,
          318010,
          318010,
          318010,
          318010,
          478410,
          478410,
          478410,
          478410,
          478410,
          478410,
          478410,
          638810,
          638810,
          638810,
          638810,
          638810,
          638810,
          799210,
          799210,
          799210,
          799210,
          799210,
          799210,
          959610,
          959610,
          959610,
          959610,
          959610,
          959610,
          39760,
          39760,
          39760,
          39760,
          39760,
          39760,
          39760,
          42310,
          42310,
          42310,
          42310,
          42310,
          42310,
          42310,
          44860,
          44860,
          44860,
          44860,
          44860,
          44860,
          44860,
          47410,
          47410,
          47410,
          47410,
          47410,
          47410,
          47410,
          49960,
          49960,
          49960,
          49960,
          49960,
          49960,
          49960,
          79510,
          79510,
          79510,
          79510,
          79510,
          79510,
          79510,
          89610,
          89610,
          89610,
          89610,
          89610,
          89610,
          89610,
          99710,
          99710,
          99710,
          99710,
          99710,
          99710,
          99710,
          109810,
          109810,
          109810,
          109810,
          109810,
          109810,
          109810,
          119910,
          119910,
          119910,
          119910,
          119910,
          119910,
          119910,
          159010,
          159010,
          159010,
          159010,
          159010,
          159010,
          159010,
          199210,
          199210,
          199210,
          199210,
          199210,
          199210,
          199210,
          239410,
          239410,
          239410,
          239410,
          239410,
          239410,
          239410,
          279610,
          279610,
          279610,
          279610,
          279610,
          279610,
          279610,
          319810,
          319810,
          39760,
          39760,
          39760,
          39760,
          39760,
          39760,
          39760,
          39760,
          39760,
          39760,
          39760,
          39760,
          39760,
          39760,
          39760,
          39760,
          39760,
          39760,
          39760,
          39760,
          39760,
          39760,
          39760,
          39760,
          39760,
          39760,
          39760,
          39760,
          39760,
          39760,
          39760,
          39760,
          39760,
          39760,
          39760,
          79510,
          79510,
          79510,
          79510,
          42310,
          42310,
          42310,
          42310,
          42310,
          42310,
          42310,
          42310,
          42310,
          42310,
          42310,
          42310,
          42310,
          42310,
          42310,
          42310,
          42310,
          42310,
          42310,
          42310,
          42310,
          42310,
          42310,
          42310,
          42310,
          42310,
          42310,
          42310,
          42310,
          42310,
          42310,
          42310,
          42310,
          42310,
          42310,
          89610,
          89610,
          89610,
          89610,
          89610,
          89610,
          89610,
          89610,
          89610,
          89610,
          89610,
          89610,
          89610,
          89610,
          89610,
          89610,
          89610,
          89610,
          89610,
          89610,
          89610,
          89610,
          89610,
          89610,
          89610,
          89610,
          89610,
          89610,
          89610,
          89610,
          89610,
          89610,
          89610,
          89610,
          89610,
          199210,
          199210,
          199210,
          199210,
          199210,
          199210,
          199210,
          199210,
          199210,
          199210,
          199210,
          199210,
          199210,
          199210,
          199210,
          199210,
          199210,
          199210,
          199210,
          199210,
          199210,
          199210,
          199210,
          199210,
          199210,
          199210,
          199210,
          199210,
          199210,
          199210,
          199210,
          199210,
          199210,
          199210,
          199210,
          199210,
          199210,
          199210,
          199210,
          199210
         ],
         "y": [
          50,
          50,
          50,
          50,
          50,
          50,
          50,
          50,
          50,
          50,
          50,
          50,
          50,
          50,
          50,
          50,
          50,
          50,
          50,
          50,
          50,
          50,
          50,
          50,
          50,
          50,
          50,
          50,
          50,
          50,
          50,
          50,
          50,
          50,
          50,
          50,
          50,
          50,
          50,
          50,
          50,
          50,
          50,
          50,
          50,
          50,
          50,
          50,
          50,
          50,
          50,
          50,
          50,
          50,
          50,
          50,
          50,
          50,
          50,
          50,
          50,
          50,
          50,
          50,
          50,
          50,
          50,
          50,
          50,
          50,
          50,
          50,
          50,
          50,
          50,
          50,
          50,
          50,
          50,
          50,
          50,
          50,
          50,
          50,
          50,
          50,
          50,
          50,
          50,
          50,
          50,
          50,
          50,
          50,
          50,
          50,
          50,
          50,
          50,
          50,
          50,
          50,
          50,
          50,
          50,
          50,
          50,
          50,
          50,
          50,
          50,
          50,
          50,
          50,
          50,
          50,
          50,
          50,
          50,
          50,
          50,
          50,
          50,
          50,
          50,
          50,
          50,
          50,
          50,
          50,
          50,
          100,
          100,
          100,
          100,
          100,
          100,
          100,
          100,
          100,
          100,
          100,
          100,
          100,
          100,
          100,
          100,
          100,
          100,
          100,
          100,
          100,
          100,
          100,
          100,
          100,
          100,
          100,
          100,
          100,
          100,
          100,
          100,
          100,
          100,
          100,
          100,
          100,
          100,
          100,
          100,
          100,
          100,
          100,
          100,
          100,
          100,
          100,
          100,
          100,
          100,
          100,
          100,
          100,
          100,
          100,
          100,
          100,
          100,
          100,
          100,
          100,
          100,
          100,
          100,
          100,
          100,
          100,
          100,
          100,
          100,
          100,
          100,
          100,
          100,
          100,
          100,
          100,
          100,
          100,
          100,
          100,
          100,
          100,
          100,
          100,
          100,
          100,
          100,
          100,
          100,
          100,
          100,
          100,
          100,
          100,
          100,
          100,
          100,
          100,
          100,
          100,
          100,
          100,
          100,
          100,
          100,
          100,
          100,
          100,
          100,
          100,
          100,
          100,
          100,
          100,
          100,
          100,
          100,
          100,
          100,
          100,
          100,
          100,
          100,
          100,
          100,
          100,
          100,
          100,
          100,
          100,
          100,
          100,
          100,
          100,
          100,
          200,
          200,
          200,
          200,
          200,
          200,
          200,
          200,
          200,
          200,
          200,
          200,
          200,
          200,
          200,
          200,
          200,
          200,
          200,
          200,
          200,
          200,
          200,
          200,
          200,
          200,
          200,
          200,
          200,
          200,
          200,
          200,
          200,
          200,
          200,
          200,
          200,
          200,
          200,
          200,
          200,
          200,
          200,
          200,
          200,
          200,
          200,
          200,
          200,
          200,
          200,
          200,
          200,
          200,
          200,
          200,
          200,
          200,
          200,
          200,
          200,
          200,
          200,
          200,
          200,
          200,
          200,
          200,
          200,
          200,
          200,
          200,
          200,
          200,
          200,
          200,
          200,
          200,
          200,
          200,
          200,
          200,
          200,
          200,
          200,
          200,
          200,
          200,
          200,
          200,
          200,
          200,
          200,
          200,
          200,
          200,
          200,
          200,
          200,
          200,
          400,
          500,
          600,
          700,
          800,
          1000,
          1200,
          400,
          500,
          600,
          700,
          800,
          1000,
          1200,
          400,
          500,
          600,
          700,
          800,
          1000,
          1200,
          400,
          500,
          600,
          700,
          800,
          1000,
          1200,
          400,
          500,
          600,
          700,
          800,
          1000,
          1200,
          400,
          500,
          600,
          700,
          400,
          500,
          600,
          700,
          800,
          1000,
          1200,
          400,
          500,
          600,
          700,
          800,
          1000,
          1200,
          400,
          500,
          600,
          700,
          800,
          1000,
          1200,
          400,
          500,
          600,
          700,
          800,
          1000,
          1200,
          400,
          500,
          600,
          700,
          800,
          1000,
          1200,
          400,
          500,
          600,
          700,
          800,
          1000,
          1200,
          400,
          500,
          600,
          700,
          800,
          1000,
          1200,
          400,
          500,
          600,
          700,
          800,
          1000,
          1200,
          400,
          500,
          600,
          700,
          800,
          1000,
          1200,
          400,
          500,
          600,
          700,
          800,
          1000,
          1200,
          400,
          500,
          600,
          700,
          800,
          1000,
          1200,
          400,
          500,
          600,
          700,
          800,
          1000,
          1200,
          400,
          500,
          600,
          700,
          800,
          1000,
          1200,
          400,
          500,
          600,
          700,
          800,
          1000,
          1200,
          400,
          500,
          600,
          700,
          800,
          1000,
          525,
          550,
          575,
          0,
          50,
          10
         ],
         "z": [
          0.4623,
          0.4636,
          0.4627,
          0.4642,
          0.4653,
          0.4651,
          0.4399,
          0.4724,
          0.4755,
          0.4778,
          0.4784,
          0.477,
          0.4714,
          0.3822,
          0.4775,
          0.5124,
          0.4995,
          0.4478,
          0.4551,
          0.4522,
          0.1909,
          0.4442,
          0.4292,
          0.4299,
          0.431,
          0.428,
          0.4258,
          0.1245,
          0.4567,
          0.485,
          0.497,
          0.4976,
          0.5011,
          0.3878,
          0.1147,
          0.4713,
          0.4944,
          0.4928,
          0.4917,
          0.4894,
          0.4882,
          0.4532,
          0.4916,
          0.5253,
          0.4884,
          0.4885,
          0.4755,
          0.4757,
          0.391,
          0.4648,
          0.5079,
          0.4892,
          0.4654,
          0.4649,
          0.4635,
          0.2003,
          0.4599,
          0.4826,
          0.4884,
          0.4927,
          0.4911,
          0.4902,
          0.1784,
          0.4211,
          0.4912,
          0.5016,
          0.4983,
          0.5009,
          0.4999,
          0.185,
          0.472,
          0.4715,
          0.4713,
          0.4717,
          0.4696,
          0.4695,
          0.4599,
          0.4863,
          0.5125,
          0.5052,
          0.5054,
          0.5052,
          0.4974,
          0.4968,
          0.4919,
          0.5072,
          0.4571,
          0.4614,
          0.4631,
          0.3428,
          0.4616,
          0.4623,
          0.4606,
          0.4762,
          0.4751,
          0.1139,
          0.4626,
          0.4911,
          0.4812,
          0.4641,
          0.437,
          0.1135,
          0.4376,
          0.4481,
          0.4489,
          0.4493,
          0.4512,
          0.4521,
          0.4522,
          0.4651,
          0.4768,
          0.4701,
          0.4693,
          0.4695,
          0.4633,
          0.4546,
          0.4493,
          0.4768,
          0.477,
          0.4783,
          0.4656,
          0.4584,
          0.4608,
          0.477,
          0.4763,
          0.4544,
          0.4252,
          0.4433,
          0.4299,
          0.4312,
          0.1913,
          0.6349,
          0.6375,
          0.6385,
          0.6372,
          0.6189,
          0.615,
          0.5845,
          0.6551,
          0.6556,
          0.6689,
          0.6312,
          0.6214,
          0.6176,
          0.5004,
          0.6446,
          0.6387,
          0.6493,
          0.649,
          0.6275,
          0.611,
          0.2306,
          0.6098,
          0.6639,
          0.6515,
          0.6478,
          0.6471,
          0.6355,
          0.1587,
          0.5904,
          0.6482,
          0.6437,
          0.6318,
          0.6229,
          0.1474,
          0.1182,
          0.6585,
          0.6603,
          0.66,
          0.6609,
          0.6587,
          0.6368,
          0.5781,
          0.6481,
          0.6416,
          0.6655,
          0.661,
          0.6615,
          0.6629,
          0.544,
          0.6433,
          0.6624,
          0.6645,
          0.6678,
          0.6648,
          0.6303,
          0.3381,
          0.6084,
          0.6202,
          0.6329,
          0.64,
          0.6396,
          0.6206,
          0.1771,
          0.5682,
          0.6138,
          0.6412,
          0.6584,
          0.6278,
          0.5871,
          0.1915,
          0.6359,
          0.6546,
          0.6561,
          0.6568,
          0.6459,
          0.6363,
          0.5916,
          0.6371,
          0.6498,
          0.6546,
          0.658,
          0.6497,
          0.6315,
          0.5905,
          0.5771,
          0.6288,
          0.6373,
          0.6427,
          0.6463,
          0.647,
          0.5948,
          0.5832,
          0.618,
          0.621,
          0.629,
          0.6288,
          0.627,
          0.1161,
          0.5916,
          0.6403,
          0.6358,
          0.638,
          0.628,
          0.1135,
          0.6251,
          0.6387,
          0.6422,
          0.643,
          0.6441,
          0.6435,
          0.6329,
          0.5847,
          0.6476,
          0.6447,
          0.6682,
          0.6587,
          0.6577,
          0.6134,
          0.6158,
          0.6272,
          0.6504,
          0.6526,
          0.6517,
          0.6203,
          0.606,
          0.6524,
          0.6681,
          0.6825,
          0.6472,
          0.3236,
          0.5765,
          0.6147,
          0.6427,
          0.6524,
          0.6384,
          0.1869,
          0.7858,
          0.7879,
          0.7864,
          0.7846,
          0.7777,
          0.7667,
          0.6957,
          0.797,
          0.8074,
          0.8031,
          0.7888,
          0.7819,
          0.7603,
          0.5578,
          0.7972,
          0.7933,
          0.7907,
          0.7786,
          0.7613,
          0.7357,
          0.2088,
          0.7703,
          0.7878,
          0.8076,
          0.8022,
          0.7587,
          0.696,
          0.1377,
          0.7333,
          0.7773,
          0.7828,
          0.7775,
          0.7173,
          0.1252,
          0.1253,
          0.7749,
          0.7853,
          0.781,
          0.7788,
          0.7738,
          0.764,
          0.7012,
          0.7946,
          0.7977,
          0.7975,
          0.7924,
          0.7789,
          0.7641,
          0.6689,
          0.7806,
          0.792,
          0.7931,
          0.7904,
          0.7747,
          0.7694,
          0.3044,
          0.7617,
          0.7794,
          0.7785,
          0.7947,
          0.7784,
          0.7563,
          0.1762,
          0.7461,
          0.7652,
          0.7766,
          0.7881,
          0.7779,
          0.3692,
          0.1823,
          0.7917,
          0.7951,
          0.7917,
          0.7894,
          0.7804,
          0.7603,
          0.6945,
          0.7909,
          0.8027,
          0.7903,
          0.7847,
          0.7737,
          0.7614,
          0.6904,
          0.7519,
          0.7819,
          0.7989,
          0.8095,
          0.8021,
          0.7961,
          0.4943,
          0.7323,
          0.7857,
          0.7983,
          0.7824,
          0.7838,
          0.7735,
          0.114,
          0.6754,
          0.748,
          0.8703,
          0.8926,
          0.8999,
          0.9108,
          0.9169,
          0.9293,
          0.9326,
          0.87,
          0.8888,
          0.8978,
          0.9065,
          0.9132,
          0.9229,
          0.9314,
          0.8646,
          0.8872,
          0.8942,
          0.9049,
          0.9125,
          0.92,
          0.9238,
          0.856,
          0.8852,
          0.8908,
          0.9031,
          0.908,
          0.9098,
          0.9176,
          0.8301,
          0.8642,
          0.8671,
          0.8773,
          0.8883,
          0.8866,
          0.8934,
          0.872,
          0.8907,
          0.9032,
          0.9161,
          0.8817,
          0.8939,
          0.9022,
          0.9209,
          0.9227,
          0.93,
          0.9369,
          0.8795,
          0.8927,
          0.9008,
          0.9132,
          0.9174,
          0.9305,
          0.935,
          0.8789,
          0.8867,
          0.9026,
          0.9115,
          0.9162,
          0.9272,
          0.9334,
          0.8726,
          0.8854,
          0.8963,
          0.9066,
          0.9137,
          0.923,
          0.9279,
          0.8596,
          0.8589,
          0.8798,
          0.8847,
          0.8898,
          0.8997,
          0.8974,
          0.8766,
          0.8924,
          0.9053,
          0.9193,
          0.9199,
          0.9319,
          0.9365,
          0.8757,
          0.8982,
          0.9098,
          0.9119,
          0.9242,
          0.9293,
          0.9362,
          0.8777,
          0.8943,
          0.9024,
          0.9121,
          0.9188,
          0.9275,
          0.9342,
          0.8694,
          0.892,
          0.9008,
          0.9078,
          0.9156,
          0.9247,
          0.9314,
          0.8561,
          0.8714,
          0.8848,
          0.8929,
          0.9001,
          0.9042,
          0.9119,
          0.8701,
          0.8938,
          0.9057,
          0.9096,
          0.9194,
          0.9297,
          0.9377,
          0.8781,
          0.8913,
          0.9052,
          0.9168,
          0.9185,
          0.9325,
          0.9344,
          0.8754,
          0.8932,
          0.9085,
          0.91,
          0.9212,
          0.9274,
          0.9312,
          0.8723,
          0.8902,
          0.9053,
          0.9094,
          0.9163,
          0.9281,
          0.9293,
          0.8563,
          0.8807,
          0.8934,
          0.9018,
          0.9034,
          0.9151,
          0.8862,
          0.889,
          0.8935,
          0.9817,
          0.4863,
          0.2289
         ]
        }
       ],
       "layout": {
        "legend": {
         "x": 0.01,
         "xanchor": "left",
         "y": 0.99,
         "yanchor": "top"
        },
        "template": {
         "data": {
          "bar": [
           {
            "error_x": {
             "color": "#2a3f5f"
            },
            "error_y": {
             "color": "#2a3f5f"
            },
            "marker": {
             "line": {
              "color": "#E5ECF6",
              "width": 0.5
             },
             "pattern": {
              "fillmode": "overlay",
              "size": 10,
              "solidity": 0.2
             }
            },
            "type": "bar"
           }
          ],
          "barpolar": [
           {
            "marker": {
             "line": {
              "color": "#E5ECF6",
              "width": 0.5
             },
             "pattern": {
              "fillmode": "overlay",
              "size": 10,
              "solidity": 0.2
             }
            },
            "type": "barpolar"
           }
          ],
          "carpet": [
           {
            "aaxis": {
             "endlinecolor": "#2a3f5f",
             "gridcolor": "white",
             "linecolor": "white",
             "minorgridcolor": "white",
             "startlinecolor": "#2a3f5f"
            },
            "baxis": {
             "endlinecolor": "#2a3f5f",
             "gridcolor": "white",
             "linecolor": "white",
             "minorgridcolor": "white",
             "startlinecolor": "#2a3f5f"
            },
            "type": "carpet"
           }
          ],
          "choropleth": [
           {
            "colorbar": {
             "outlinewidth": 0,
             "ticks": ""
            },
            "type": "choropleth"
           }
          ],
          "contour": [
           {
            "colorbar": {
             "outlinewidth": 0,
             "ticks": ""
            },
            "colorscale": [
             [
              0,
              "#0d0887"
             ],
             [
              0.1111111111111111,
              "#46039f"
             ],
             [
              0.2222222222222222,
              "#7201a8"
             ],
             [
              0.3333333333333333,
              "#9c179e"
             ],
             [
              0.4444444444444444,
              "#bd3786"
             ],
             [
              0.5555555555555556,
              "#d8576b"
             ],
             [
              0.6666666666666666,
              "#ed7953"
             ],
             [
              0.7777777777777778,
              "#fb9f3a"
             ],
             [
              0.8888888888888888,
              "#fdca26"
             ],
             [
              1,
              "#f0f921"
             ]
            ],
            "type": "contour"
           }
          ],
          "contourcarpet": [
           {
            "colorbar": {
             "outlinewidth": 0,
             "ticks": ""
            },
            "type": "contourcarpet"
           }
          ],
          "heatmap": [
           {
            "colorbar": {
             "outlinewidth": 0,
             "ticks": ""
            },
            "colorscale": [
             [
              0,
              "#0d0887"
             ],
             [
              0.1111111111111111,
              "#46039f"
             ],
             [
              0.2222222222222222,
              "#7201a8"
             ],
             [
              0.3333333333333333,
              "#9c179e"
             ],
             [
              0.4444444444444444,
              "#bd3786"
             ],
             [
              0.5555555555555556,
              "#d8576b"
             ],
             [
              0.6666666666666666,
              "#ed7953"
             ],
             [
              0.7777777777777778,
              "#fb9f3a"
             ],
             [
              0.8888888888888888,
              "#fdca26"
             ],
             [
              1,
              "#f0f921"
             ]
            ],
            "type": "heatmap"
           }
          ],
          "heatmapgl": [
           {
            "colorbar": {
             "outlinewidth": 0,
             "ticks": ""
            },
            "colorscale": [
             [
              0,
              "#0d0887"
             ],
             [
              0.1111111111111111,
              "#46039f"
             ],
             [
              0.2222222222222222,
              "#7201a8"
             ],
             [
              0.3333333333333333,
              "#9c179e"
             ],
             [
              0.4444444444444444,
              "#bd3786"
             ],
             [
              0.5555555555555556,
              "#d8576b"
             ],
             [
              0.6666666666666666,
              "#ed7953"
             ],
             [
              0.7777777777777778,
              "#fb9f3a"
             ],
             [
              0.8888888888888888,
              "#fdca26"
             ],
             [
              1,
              "#f0f921"
             ]
            ],
            "type": "heatmapgl"
           }
          ],
          "histogram": [
           {
            "marker": {
             "pattern": {
              "fillmode": "overlay",
              "size": 10,
              "solidity": 0.2
             }
            },
            "type": "histogram"
           }
          ],
          "histogram2d": [
           {
            "colorbar": {
             "outlinewidth": 0,
             "ticks": ""
            },
            "colorscale": [
             [
              0,
              "#0d0887"
             ],
             [
              0.1111111111111111,
              "#46039f"
             ],
             [
              0.2222222222222222,
              "#7201a8"
             ],
             [
              0.3333333333333333,
              "#9c179e"
             ],
             [
              0.4444444444444444,
              "#bd3786"
             ],
             [
              0.5555555555555556,
              "#d8576b"
             ],
             [
              0.6666666666666666,
              "#ed7953"
             ],
             [
              0.7777777777777778,
              "#fb9f3a"
             ],
             [
              0.8888888888888888,
              "#fdca26"
             ],
             [
              1,
              "#f0f921"
             ]
            ],
            "type": "histogram2d"
           }
          ],
          "histogram2dcontour": [
           {
            "colorbar": {
             "outlinewidth": 0,
             "ticks": ""
            },
            "colorscale": [
             [
              0,
              "#0d0887"
             ],
             [
              0.1111111111111111,
              "#46039f"
             ],
             [
              0.2222222222222222,
              "#7201a8"
             ],
             [
              0.3333333333333333,
              "#9c179e"
             ],
             [
              0.4444444444444444,
              "#bd3786"
             ],
             [
              0.5555555555555556,
              "#d8576b"
             ],
             [
              0.6666666666666666,
              "#ed7953"
             ],
             [
              0.7777777777777778,
              "#fb9f3a"
             ],
             [
              0.8888888888888888,
              "#fdca26"
             ],
             [
              1,
              "#f0f921"
             ]
            ],
            "type": "histogram2dcontour"
           }
          ],
          "mesh3d": [
           {
            "colorbar": {
             "outlinewidth": 0,
             "ticks": ""
            },
            "type": "mesh3d"
           }
          ],
          "parcoords": [
           {
            "line": {
             "colorbar": {
              "outlinewidth": 0,
              "ticks": ""
             }
            },
            "type": "parcoords"
           }
          ],
          "pie": [
           {
            "automargin": true,
            "type": "pie"
           }
          ],
          "scatter": [
           {
            "fillpattern": {
             "fillmode": "overlay",
             "size": 10,
             "solidity": 0.2
            },
            "type": "scatter"
           }
          ],
          "scatter3d": [
           {
            "line": {
             "colorbar": {
              "outlinewidth": 0,
              "ticks": ""
             }
            },
            "marker": {
             "colorbar": {
              "outlinewidth": 0,
              "ticks": ""
             }
            },
            "type": "scatter3d"
           }
          ],
          "scattercarpet": [
           {
            "marker": {
             "colorbar": {
              "outlinewidth": 0,
              "ticks": ""
             }
            },
            "type": "scattercarpet"
           }
          ],
          "scattergeo": [
           {
            "marker": {
             "colorbar": {
              "outlinewidth": 0,
              "ticks": ""
             }
            },
            "type": "scattergeo"
           }
          ],
          "scattergl": [
           {
            "marker": {
             "colorbar": {
              "outlinewidth": 0,
              "ticks": ""
             }
            },
            "type": "scattergl"
           }
          ],
          "scattermapbox": [
           {
            "marker": {
             "colorbar": {
              "outlinewidth": 0,
              "ticks": ""
             }
            },
            "type": "scattermapbox"
           }
          ],
          "scatterpolar": [
           {
            "marker": {
             "colorbar": {
              "outlinewidth": 0,
              "ticks": ""
             }
            },
            "type": "scatterpolar"
           }
          ],
          "scatterpolargl": [
           {
            "marker": {
             "colorbar": {
              "outlinewidth": 0,
              "ticks": ""
             }
            },
            "type": "scatterpolargl"
           }
          ],
          "scatterternary": [
           {
            "marker": {
             "colorbar": {
              "outlinewidth": 0,
              "ticks": ""
             }
            },
            "type": "scatterternary"
           }
          ],
          "surface": [
           {
            "colorbar": {
             "outlinewidth": 0,
             "ticks": ""
            },
            "colorscale": [
             [
              0,
              "#0d0887"
             ],
             [
              0.1111111111111111,
              "#46039f"
             ],
             [
              0.2222222222222222,
              "#7201a8"
             ],
             [
              0.3333333333333333,
              "#9c179e"
             ],
             [
              0.4444444444444444,
              "#bd3786"
             ],
             [
              0.5555555555555556,
              "#d8576b"
             ],
             [
              0.6666666666666666,
              "#ed7953"
             ],
             [
              0.7777777777777778,
              "#fb9f3a"
             ],
             [
              0.8888888888888888,
              "#fdca26"
             ],
             [
              1,
              "#f0f921"
             ]
            ],
            "type": "surface"
           }
          ],
          "table": [
           {
            "cells": {
             "fill": {
              "color": "#EBF0F8"
             },
             "line": {
              "color": "white"
             }
            },
            "header": {
             "fill": {
              "color": "#C8D4E3"
             },
             "line": {
              "color": "white"
             }
            },
            "type": "table"
           }
          ]
         },
         "layout": {
          "annotationdefaults": {
           "arrowcolor": "#2a3f5f",
           "arrowhead": 0,
           "arrowwidth": 1
          },
          "autotypenumbers": "strict",
          "coloraxis": {
           "colorbar": {
            "outlinewidth": 0,
            "ticks": ""
           }
          },
          "colorscale": {
           "diverging": [
            [
             0,
             "#8e0152"
            ],
            [
             0.1,
             "#c51b7d"
            ],
            [
             0.2,
             "#de77ae"
            ],
            [
             0.3,
             "#f1b6da"
            ],
            [
             0.4,
             "#fde0ef"
            ],
            [
             0.5,
             "#f7f7f7"
            ],
            [
             0.6,
             "#e6f5d0"
            ],
            [
             0.7,
             "#b8e186"
            ],
            [
             0.8,
             "#7fbc41"
            ],
            [
             0.9,
             "#4d9221"
            ],
            [
             1,
             "#276419"
            ]
           ],
           "sequential": [
            [
             0,
             "#0d0887"
            ],
            [
             0.1111111111111111,
             "#46039f"
            ],
            [
             0.2222222222222222,
             "#7201a8"
            ],
            [
             0.3333333333333333,
             "#9c179e"
            ],
            [
             0.4444444444444444,
             "#bd3786"
            ],
            [
             0.5555555555555556,
             "#d8576b"
            ],
            [
             0.6666666666666666,
             "#ed7953"
            ],
            [
             0.7777777777777778,
             "#fb9f3a"
            ],
            [
             0.8888888888888888,
             "#fdca26"
            ],
            [
             1,
             "#f0f921"
            ]
           ],
           "sequentialminus": [
            [
             0,
             "#0d0887"
            ],
            [
             0.1111111111111111,
             "#46039f"
            ],
            [
             0.2222222222222222,
             "#7201a8"
            ],
            [
             0.3333333333333333,
             "#9c179e"
            ],
            [
             0.4444444444444444,
             "#bd3786"
            ],
            [
             0.5555555555555556,
             "#d8576b"
            ],
            [
             0.6666666666666666,
             "#ed7953"
            ],
            [
             0.7777777777777778,
             "#fb9f3a"
            ],
            [
             0.8888888888888888,
             "#fdca26"
            ],
            [
             1,
             "#f0f921"
            ]
           ]
          },
          "colorway": [
           "#636efa",
           "#EF553B",
           "#00cc96",
           "#ab63fa",
           "#FFA15A",
           "#19d3f3",
           "#FF6692",
           "#B6E880",
           "#FF97FF",
           "#FECB52"
          ],
          "font": {
           "color": "#2a3f5f"
          },
          "geo": {
           "bgcolor": "white",
           "lakecolor": "white",
           "landcolor": "#E5ECF6",
           "showlakes": true,
           "showland": true,
           "subunitcolor": "white"
          },
          "hoverlabel": {
           "align": "left"
          },
          "hovermode": "closest",
          "mapbox": {
           "style": "light"
          },
          "paper_bgcolor": "white",
          "plot_bgcolor": "#E5ECF6",
          "polar": {
           "angularaxis": {
            "gridcolor": "white",
            "linecolor": "white",
            "ticks": ""
           },
           "bgcolor": "#E5ECF6",
           "radialaxis": {
            "gridcolor": "white",
            "linecolor": "white",
            "ticks": ""
           }
          },
          "scene": {
           "xaxis": {
            "backgroundcolor": "#E5ECF6",
            "gridcolor": "white",
            "gridwidth": 2,
            "linecolor": "white",
            "showbackground": true,
            "ticks": "",
            "zerolinecolor": "white"
           },
           "yaxis": {
            "backgroundcolor": "#E5ECF6",
            "gridcolor": "white",
            "gridwidth": 2,
            "linecolor": "white",
            "showbackground": true,
            "ticks": "",
            "zerolinecolor": "white"
           },
           "zaxis": {
            "backgroundcolor": "#E5ECF6",
            "gridcolor": "white",
            "gridwidth": 2,
            "linecolor": "white",
            "showbackground": true,
            "ticks": "",
            "zerolinecolor": "white"
           }
          },
          "shapedefaults": {
           "line": {
            "color": "#2a3f5f"
           }
          },
          "ternary": {
           "aaxis": {
            "gridcolor": "white",
            "linecolor": "white",
            "ticks": ""
           },
           "baxis": {
            "gridcolor": "white",
            "linecolor": "white",
            "ticks": ""
           },
           "bgcolor": "#E5ECF6",
           "caxis": {
            "gridcolor": "white",
            "linecolor": "white",
            "ticks": ""
           }
          },
          "title": {
           "x": 0.05
          },
          "xaxis": {
           "automargin": true,
           "gridcolor": "white",
           "linecolor": "white",
           "ticks": "",
           "title": {
            "standoff": 15
           },
           "zerolinecolor": "white",
           "zerolinewidth": 2
          },
          "yaxis": {
           "automargin": true,
           "gridcolor": "white",
           "linecolor": "white",
           "ticks": "",
           "title": {
            "standoff": 15
           },
           "zerolinecolor": "white",
           "zerolinewidth": 2
          }
         }
        }
       }
      }
     },
     "metadata": {},
     "output_type": "display_data"
    }
   ],
   "source": [
    "sizeref = max(df['hidden_dimension'])/(30**2)\n",
    "\n",
    "fig = go.Figure()\n",
    "\n",
    "fig.add_trace(go.Scatter3d(\n",
    "    x=df['number_parameter'],\n",
    "    y=df['intrinsic_dimension'],\n",
    "    z=df['best_accuracy'],\n",
    "    mode='markers',\n",
    "    marker=dict(\n",
    "        color=df['learning_rate'], size=df['hidden_dimension'],\n",
    "        sizemode = 'area', sizeref=sizeref,\n",
    "        sizemin=2, showscale = True\n",
    "        ),\n",
    "#    error_y=dict(\n",
    "#            type='data', # value of error bar given in data coordinates\n",
    "#            array=[1, 2, 3, 4, 5],\n",
    "#            visible=True),\n",
    "))\n",
    "\n",
    "fig.update_layout(\n",
    "    legend=dict(\n",
    "        yanchor=\"top\",\n",
    "        y=0.99,\n",
    "        xanchor=\"left\",\n",
    "        x=0.01,\n",
    "        )\n",
    "    )\n",
    "\n",
    "fig.show()"
   ]
  },
  {
   "cell_type": "code",
   "execution_count": 46,
   "metadata": {},
   "outputs": [],
   "source": [
    "def compute_d_int(dat, perf_b=None):\n",
    "    dir_perf = np.mean(dat[dat[:,0]==0,:],0)[1]\n",
    "    sub_perf = dat[dat[:,0]!=0,:]\n",
    "    \n",
    "    unique_dim = sorted(list(set(sub_perf[:,0])))\n",
    "    perf_mean = [np.mean(dat[dat[:,0]==d,:],0)[1] for d in unique_dim]\n",
    "    \n",
    "    if perf_b!=None:\n",
    "        dir_perf = perf_b\n",
    "        \n",
    "    for i in range(len(unique_dim)):\n",
    "        if perf_mean[i]>dir_perf*.90:\n",
    "            print(\"d_int=\"+str(unique_dim[i]) + \", acc=\" +str( perf_mean[i] )) \n",
    "            solved = array([unique_dim[i], perf_mean[i]])\n",
    "            break\n",
    "        elif perf_mean[-1]<dir_perf*.90:\n",
    "            solved = array([unique_dim[-1], perf_mean[-1]])\n",
    "            print(\"d_int=\"+str(unique_dim[-1]) + \", acc=\" +str( perf_mean[-1] ) + \"(Warning: larger d should be considered)\")\n",
    "            break\n",
    "        \n",
    "    return solved, unique_dim, perf_mean"
   ]
  },
  {
   "cell_type": "code",
   "execution_count": 47,
   "metadata": {},
   "outputs": [],
   "source": [
    "def plot_convnet_ff(dat_lenet, dat_lenet_untied, dat_lenet_mlp,dat_lenet_fctie,  perf_b=1.0, logx=True, limit=None, saveas=None):\n",
    "    \n",
    "    plotfn = semilogx if logx else plot\n",
    "    leg = OrderedDict()\n",
    "    \n",
    "    axhline(perf_b, color=(.7,.7,.7), ls='-')\n",
    "    hhd = axhline(.9 * perf_b, color=(.7,.7,.7), ls='--')\n",
    "\n",
    "    solved, unique_dim, perf_mean = compute_d_int(dat_lenet, perf_b)\n",
    "    hh, = plotfn(unique_dim, perf_mean, 'o-', color='k',  mfc=(.7,.7,1), ms=14)\n",
    "    plotfn(solved[0], solved[1], 'o-', color='k', ms=15)\n",
    "    leg[hh] = 'Standard LeNet'\n",
    "\n",
    "    solved, unique_dim, perf_mean = compute_d_int(dat_lenet_untied, perf_b)\n",
    "    hh, = plotfn(unique_dim, perf_mean, 'o-', color='g', mfc=(.7,.7,1), ms=14)\n",
    "    plotfn(solved[0], solved[1], 'o-', color='g', ms=15)    \n",
    "    leg[hh] = 'Untied-LeNet'    \n",
    "\n",
    "    solved, unique_dim, perf_mean = compute_d_int(dat_lenet_fctie, perf_b)\n",
    "    hh, = plotfn(unique_dim, perf_mean, 'o-', color='b', mfc=(.7,.7,1), ms=14)\n",
    "    plotfn(solved[0], solved[1], 'o', color='b', ms=15)\n",
    "    leg[hh] = 'FCTied-LeNet'    \n",
    "    \n",
    "    solved, unique_dim, perf_mean = compute_d_int(dat_lenet_mlp, perf_b)\n",
    "    hh, = plotfn(unique_dim, perf_mean, 'o-', color='r', mfc=(.7,.7,1), ms=14)\n",
    "    plotfn(solved[0], solved[1], 'o', color='r', ms=15)\n",
    "    leg[hh] = 'FC-LeNet'\n",
    "\n",
    "\n",
    "    \n",
    "    leg[hhd] = 'threshold'\n",
    "\n",
    "    xlabel('Intrinsic dim $d$')\n",
    "    ylabel('Validation accuracy')\n",
    "    ax = axis()\n",
    "    tight_layout()\n",
    "    if limit.any() != None:\n",
    "        axis([limit[0], limit[1], limit[2], limit[3]])\n",
    "    legend(leg.keys(), leg.values(),loc=4)\n",
    "    #legend?\n",
    "    \n",
    "    if saveas:\n",
    "        savefig('%s.png' % saveas)\n",
    "        savefig('%s.pdf' % saveas)    \n",
    "    "
   ]
  },
  {
   "cell_type": "code",
   "execution_count": 48,
   "metadata": {},
   "outputs": [
    {
     "name": "stdout",
     "output_type": "stream",
     "text": [
      "Individual Baseline:\n"
     ]
    },
    {
     "ename": "NameError",
     "evalue": "name 'data_mnist_lenet' is not defined",
     "output_type": "error",
     "traceback": [
      "\u001b[1;31m---------------------------------------------------------------------------\u001b[0m",
      "\u001b[1;31mNameError\u001b[0m                                 Traceback (most recent call last)",
      "\u001b[1;32md:\\Antonio\\Sapienza\\Deep Learning & AAI\\Intrinsic_Dimension\\Intrinsic-Dimension\\id_plots.ipynb Cella 73\u001b[0m in \u001b[0;36m<cell line: 2>\u001b[1;34m()\u001b[0m\n\u001b[0;32m      <a href='vscode-notebook-cell:/d%3A/Antonio/Sapienza/Deep%20Learning%20%26%20AAI/Intrinsic_Dimension/Intrinsic-Dimension/id_plots.ipynb#Y132sZmlsZQ%3D%3D?line=0'>1</a>\u001b[0m \u001b[39mprint\u001b[39m(\u001b[39m\"\u001b[39m\u001b[39mIndividual Baseline:\u001b[39m\u001b[39m\"\u001b[39m)\n\u001b[1;32m----> <a href='vscode-notebook-cell:/d%3A/Antonio/Sapienza/Deep%20Learning%20%26%20AAI/Intrinsic_Dimension/Intrinsic-Dimension/id_plots.ipynb#Y132sZmlsZQ%3D%3D?line=1'>2</a>\u001b[0m compute_d_int(data_mnist_lenet, perf_b\u001b[39m=\u001b[39m\u001b[39mNone\u001b[39;00m)\n\u001b[0;32m      <a href='vscode-notebook-cell:/d%3A/Antonio/Sapienza/Deep%20Learning%20%26%20AAI/Intrinsic_Dimension/Intrinsic-Dimension/id_plots.ipynb#Y132sZmlsZQ%3D%3D?line=2'>3</a>\u001b[0m compute_d_int(mnist_Untied_LeNet, perf_b\u001b[39m=\u001b[39m\u001b[39mNone\u001b[39;00m)\n\u001b[0;32m      <a href='vscode-notebook-cell:/d%3A/Antonio/Sapienza/Deep%20Learning%20%26%20AAI/Intrinsic_Dimension/Intrinsic-Dimension/id_plots.ipynb#Y132sZmlsZQ%3D%3D?line=3'>4</a>\u001b[0m compute_d_int(mnist_MLP_LeNet, perf_b\u001b[39m=\u001b[39m\u001b[39mNone\u001b[39;00m)\n",
      "\u001b[1;31mNameError\u001b[0m: name 'data_mnist_lenet' is not defined"
     ]
    }
   ],
   "source": [
    "print(\"Individual Baseline:\")\n",
    "compute_d_int(data_mnist_lenet, perf_b=None)\n",
    "compute_d_int(mnist_Untied_LeNet, perf_b=None)\n",
    "compute_d_int(mnist_MLP_LeNet, perf_b=None)\n",
    "compute_d_int(mnist_FCTie_LeNet, perf_b=None)\n",
    "\n",
    "print(\"Global Baseline:\")\n",
    "perf_b = 1.0\n",
    "plot_convnet_ff(data_mnist_lenet, mnist_Untied_LeNet, mnist_MLP_LeNet, mnist_FCTie_LeNet, perf_b, logx=True, limit=np.array([50,10000,0.4,1.0]), saveas='mnist_lenet_variants')"
   ]
  },
  {
   "cell_type": "code",
   "execution_count": null,
   "metadata": {},
   "outputs": [],
   "source": [
    "with open('results/fc_lenet/results_fc_lenet_mnist_dense.json') as f:\n",
    "    data = json.load(f)\n",
    "f.close()\n",
    "\n",
    "data_fc_lenet_dense = [[0,100]] # 0 is the dimension of the full space and 100 is the global baseline accuracy (100%)\n",
    "for k,v in data.items():\n",
    "    data_fc_lenet_dense.append([v['intrinsic_dimension'],v['best_accuracy']])"
   ]
  },
  {
   "cell_type": "code",
   "execution_count": null,
   "metadata": {},
   "outputs": [],
   "source": [
    "def plot_convnet_ff(dat_lenet, dat_lenet_untied, perf_b=1.0, logx=True, limit=None, saveas=None):\n",
    "    \n",
    "    plotfn = semilogx if logx else plot\n",
    "    leg = OrderedDict()\n",
    "    \n",
    "    axhline(perf_b, color=(.7,.7,.7), ls='-')\n",
    "    hhd = axhline(.9 * perf_b, color=(.7,.7,.7), ls='--')\n",
    "\n",
    "    solved, unique_dim, perf_mean = compute_d_int(dat_lenet, perf_b)\n",
    "    hh, = plotfn(unique_dim, perf_mean, 'o-', color='k',  mfc=(.7,.7,1), ms=14)\n",
    "    plotfn(solved[0], solved[1], 'o-', color='k', ms=15)\n",
    "    leg[hh] = 'Fc LeNet Dense'\n",
    "    \n",
    "    solved, unique_dim, perf_mean = compute_d_int(dat_lenet_untied, perf_b)\n",
    "    hh, = plotfn(unique_dim, perf_mean, 'o-', color='g', mfc=(.7,.7,1), ms=14)\n",
    "    plotfn(solved[0], solved[1], 'o-', color='g', ms=15)    \n",
    "    leg[hh] = 'Fc LeNet Fastfood' \n",
    "\n",
    "    leg[hhd] = 'threshold'\n",
    "\n",
    "    xlabel('Intrinsic dim $d$')\n",
    "    ylabel('Validation accuracy')\n",
    "    ax = axis()\n",
    "    tight_layout()\n",
    "    if limit.any() != None:\n",
    "        axis([limit[0], limit[1], limit[2], limit[3]])\n",
    "    legend(leg.keys(), leg.values(),loc=4)"
   ]
  },
  {
   "cell_type": "code",
   "execution_count": null,
   "metadata": {},
   "outputs": [
    {
     "name": "stdout",
     "output_type": "stream",
     "text": [
      "Individual Baseline:\n"
     ]
    },
    {
     "ename": "TypeError",
     "evalue": "list indices must be integers or slices, not tuple",
     "output_type": "error",
     "traceback": [
      "\u001b[1;31m---------------------------------------------------------------------------\u001b[0m",
      "\u001b[1;31mTypeError\u001b[0m                                 Traceback (most recent call last)",
      "\u001b[1;32md:\\Antonio\\Sapienza\\Deep Learning & AAI\\Intrinsic_Dimension\\Intrinsic-Dimension\\id_plots.ipynb Cella 50\u001b[0m in \u001b[0;36m<cell line: 2>\u001b[1;34m()\u001b[0m\n\u001b[0;32m      <a href='vscode-notebook-cell:/d%3A/Antonio/Sapienza/Deep%20Learning%20%26%20AAI/Intrinsic_Dimension/Intrinsic-Dimension/id_plots.ipynb#X66sZmlsZQ%3D%3D?line=0'>1</a>\u001b[0m \u001b[39mprint\u001b[39m(\u001b[39m\"\u001b[39m\u001b[39mIndividual Baseline:\u001b[39m\u001b[39m\"\u001b[39m)\n\u001b[1;32m----> <a href='vscode-notebook-cell:/d%3A/Antonio/Sapienza/Deep%20Learning%20%26%20AAI/Intrinsic_Dimension/Intrinsic-Dimension/id_plots.ipynb#X66sZmlsZQ%3D%3D?line=1'>2</a>\u001b[0m compute_d_int(data_fc_lenet_dense, perf_b\u001b[39m=\u001b[39;49m\u001b[39mNone\u001b[39;49;00m)\n\u001b[0;32m      <a href='vscode-notebook-cell:/d%3A/Antonio/Sapienza/Deep%20Learning%20%26%20AAI/Intrinsic_Dimension/Intrinsic-Dimension/id_plots.ipynb#X66sZmlsZQ%3D%3D?line=2'>3</a>\u001b[0m compute_d_int(data_fc_lenet, perf_b\u001b[39m=\u001b[39m\u001b[39mNone\u001b[39;00m)\n\u001b[0;32m      <a href='vscode-notebook-cell:/d%3A/Antonio/Sapienza/Deep%20Learning%20%26%20AAI/Intrinsic_Dimension/Intrinsic-Dimension/id_plots.ipynb#X66sZmlsZQ%3D%3D?line=4'>5</a>\u001b[0m \u001b[39mprint\u001b[39m(\u001b[39m\"\u001b[39m\u001b[39mGlobal Baseline:\u001b[39m\u001b[39m\"\u001b[39m)\n",
      "\u001b[1;32md:\\Antonio\\Sapienza\\Deep Learning & AAI\\Intrinsic_Dimension\\Intrinsic-Dimension\\id_plots.ipynb Cella 50\u001b[0m in \u001b[0;36mcompute_d_int\u001b[1;34m(dat, perf_b)\u001b[0m\n\u001b[0;32m      <a href='vscode-notebook-cell:/d%3A/Antonio/Sapienza/Deep%20Learning%20%26%20AAI/Intrinsic_Dimension/Intrinsic-Dimension/id_plots.ipynb#X66sZmlsZQ%3D%3D?line=0'>1</a>\u001b[0m \u001b[39mdef\u001b[39;00m \u001b[39mcompute_d_int\u001b[39m(dat, perf_b\u001b[39m=\u001b[39m\u001b[39mNone\u001b[39;00m):\n\u001b[1;32m----> <a href='vscode-notebook-cell:/d%3A/Antonio/Sapienza/Deep%20Learning%20%26%20AAI/Intrinsic_Dimension/Intrinsic-Dimension/id_plots.ipynb#X66sZmlsZQ%3D%3D?line=1'>2</a>\u001b[0m     dir_perf \u001b[39m=\u001b[39m np\u001b[39m.\u001b[39mmean(dat[dat[:,\u001b[39m0\u001b[39;49m]\u001b[39m==\u001b[39m\u001b[39m0\u001b[39m,:],\u001b[39m0\u001b[39m)[\u001b[39m1\u001b[39m]\n\u001b[0;32m      <a href='vscode-notebook-cell:/d%3A/Antonio/Sapienza/Deep%20Learning%20%26%20AAI/Intrinsic_Dimension/Intrinsic-Dimension/id_plots.ipynb#X66sZmlsZQ%3D%3D?line=2'>3</a>\u001b[0m     sub_perf \u001b[39m=\u001b[39m dat[dat[:,\u001b[39m0\u001b[39m]\u001b[39m!=\u001b[39m\u001b[39m0\u001b[39m,:]\n\u001b[0;32m      <a href='vscode-notebook-cell:/d%3A/Antonio/Sapienza/Deep%20Learning%20%26%20AAI/Intrinsic_Dimension/Intrinsic-Dimension/id_plots.ipynb#X66sZmlsZQ%3D%3D?line=4'>5</a>\u001b[0m     unique_dim \u001b[39m=\u001b[39m \u001b[39msorted\u001b[39m(\u001b[39mlist\u001b[39m(\u001b[39mset\u001b[39m(sub_perf[:,\u001b[39m0\u001b[39m])))\n",
      "\u001b[1;31mTypeError\u001b[0m: list indices must be integers or slices, not tuple"
     ]
    }
   ],
   "source": [
    "print(\"Individual Baseline:\")\n",
    "compute_d_int(data_fc_lenet_dense, perf_b=None)\n",
    "compute_d_int(data_fc_lenet, perf_b=None)\n",
    "\n",
    "print(\"Global Baseline:\")\n",
    "perf_b = 1.0\n",
    "plot_convnet_ff(data_fc_lenet_dense, data_fc_lenet, perf_b, logx=True, limit=np.array([50,10000,0.4,1.0]))"
   ]
  },
  {
   "cell_type": "code",
   "execution_count": 49,
   "metadata": {},
   "outputs": [
    {
     "name": "stdout",
     "output_type": "stream",
     "text": [
      "[[0, 0.9817], [10, 0.2289], [50, 0.4863], [100, 0.5833], [200, 0.7451], [300, 0.8231], [400, 0.8636], [500, 0.8832], [525, 0.8862], [550, 0.889], [575, 0.8935], [600, 0.902], [625, 0.8982], [650, 0.8973], [675, 0.9002], [700, 0.9004], [800, 0.9137], [900, 0.9239], [1000, 0.9282], [1100, 0.9286], [1200, 0.9339], [1300, 0.9346]]\n"
     ]
    }
   ],
   "source": [
    "data_fcn200.sort()\n",
    "print(data_fcn200)\n",
    "int_dim_fcn200 = [k for k,v in data_fcn200]\n",
    "acc_fcn200 = [v for k,v in data_fcn200]"
   ]
  },
  {
   "cell_type": "code",
   "execution_count": 50,
   "metadata": {},
   "outputs": [
    {
     "name": "stdout",
     "output_type": "stream",
     "text": [
      "[[0, 0.9892], [10, 0.2362], [50, 0.6189], [100, 0.811], [125, 0.8486], [150, 0.8792], [160, 0.8903], [165, 0.8901], [170, 0.9028], [175, 0.901], [180, 0.8931], [185, 0.8953], [190, 0.8937], [195, 0.9106], [200, 0.9228], [205, 0.9057], [210, 0.9075], [225, 0.9295], [250, 0.9281], [275, 0.9351], [300, 0.9387], [400, 0.9523], [500, 0.9656], [1000, 0.9764]]\n"
     ]
    }
   ],
   "source": [
    "data_lenet_mnist.sort()\n",
    "print(data_lenet_mnist)\n",
    "int_dim_lenet = [k for k,v in data_lenet_mnist]\n",
    "acc_lenet = [v for k,v in data_lenet_mnist]"
   ]
  },
  {
   "cell_type": "code",
   "execution_count": 51,
   "metadata": {},
   "outputs": [
    {
     "name": "stdout",
     "output_type": "stream",
     "text": [
      "[[0, 0.9868], [10, 0.1758], [50, 0.527], [100, 0.7273], [200, 0.8412], [300, 0.8769], [350, 0.9003], [400, 0.9077], [450, 0.9142], [500, 0.916], [600, 0.9303], [700, 0.9376], [800, 0.9387], [900, 0.9431], [1000, 0.9463], [1100, 0.9524], [1200, 0.9498], [1300, 0.9563]]\n"
     ]
    }
   ],
   "source": [
    "data_untied_lenet.sort()\n",
    "print(data_untied_lenet)\n",
    "int_dim_untied_lenet = [k for k,v in data_untied_lenet]\n",
    "acc_untied_lenet = [v for k,v in data_untied_lenet]"
   ]
  },
  {
   "cell_type": "code",
   "execution_count": 52,
   "metadata": {},
   "outputs": [
    {
     "name": "stdout",
     "output_type": "stream",
     "text": [
      "[[0, 0.9772], [10, 0.114], [50, 0.1135], [100, 0.1823], [200, 0.4067], [250, 0.6846], [300, 0.7605], [400, 0.8323], [600, 0.8781], [800, 0.8815], [900, 0.9049], [1000, 0.9037], [1100, 0.9042], [1200, 0.9116], [1400, 0.9159]]\n"
     ]
    }
   ],
   "source": [
    "data_fc_lenet.sort()\n",
    "print(data_fc_lenet)\n",
    "int_dim_fc_lenet = [k for k,v in data_fc_lenet]\n",
    "acc_fc_lenet = [v for k,v in data_fc_lenet]"
   ]
  },
  {
   "cell_type": "code",
   "execution_count": 53,
   "metadata": {},
   "outputs": [
    {
     "name": "stdout",
     "output_type": "stream",
     "text": [
      "[[0, 0.989], [10, 0.2285], [50, 0.5198], [100, 0.6856], [200, 0.8362], [300, 0.882], [400, 0.9036], [500, 0.9207], [600, 0.9348], [700, 0.9375], [800, 0.9456], [900, 0.9476], [1000, 0.9516], [1100, 0.9563], [1200, 0.9565], [1300, 0.9578], [1400, 0.9606]]\n"
     ]
    }
   ],
   "source": [
    "data_fc_tied_lenet.sort()\n",
    "print(data_fc_tied_lenet)\n",
    "int_dim_fc_tied_lenet = [k for k,v in data_fc_tied_lenet]\n",
    "acc_fc_tied_lenet = [v for k,v in data_fc_tied_lenet]"
   ]
  },
  {
   "cell_type": "code",
   "execution_count": 54,
   "metadata": {},
   "outputs": [
    {
     "data": {
      "application/vnd.plotly.v1+json": {
       "config": {
        "plotlyServerURL": "https://plot.ly"
       },
       "data": [
        {
         "line": {
          "color": "firebrick",
          "width": 1
         },
         "mode": "lines+markers",
         "name": "FCN",
         "type": "scatter",
         "x": [
          10,
          50,
          100,
          200,
          300,
          400,
          500,
          525,
          550,
          575,
          600,
          625,
          650,
          675,
          700,
          800,
          900,
          1000,
          1100,
          1200,
          1300
         ],
         "y": [
          0.2289,
          0.4863,
          0.5833,
          0.7451,
          0.8231,
          0.8636,
          0.8832,
          0.8862,
          0.889,
          0.8935,
          0.902,
          0.8982,
          0.8973,
          0.9002,
          0.9004,
          0.9137,
          0.9239,
          0.9282,
          0.9286,
          0.9339,
          0.9346
         ]
        },
        {
         "line": {
          "color": "blue",
          "width": 1
         },
         "mode": "lines+markers",
         "name": "LeNet",
         "type": "scatter",
         "x": [
          10,
          50,
          100,
          125,
          150,
          160,
          165,
          170,
          175,
          180,
          185,
          190,
          195,
          200,
          205,
          210,
          225,
          250,
          275,
          300,
          400,
          500,
          1000
         ],
         "y": [
          0.2362,
          0.6189,
          0.811,
          0.8486,
          0.8792,
          0.8903,
          0.8901,
          0.9028,
          0.901,
          0.8931,
          0.8953,
          0.8937,
          0.9106,
          0.9228,
          0.9057,
          0.9075,
          0.9295,
          0.9281,
          0.9351,
          0.9387,
          0.9523,
          0.9656,
          0.9764
         ]
        },
        {
         "line": {
          "color": "green",
          "width": 1
         },
         "mode": "lines+markers",
         "name": "Untied LeNet",
         "type": "scatter",
         "x": [
          10,
          50,
          100,
          200,
          300,
          350,
          400,
          450,
          500,
          600,
          700,
          800,
          900,
          1000,
          1100,
          1200,
          1300
         ],
         "y": [
          0.1758,
          0.527,
          0.7273,
          0.8412,
          0.8769,
          0.9003,
          0.9077,
          0.9142,
          0.916,
          0.9303,
          0.9376,
          0.9387,
          0.9431,
          0.9463,
          0.9524,
          0.9498,
          0.9563
         ]
        },
        {
         "line": {
          "color": "black",
          "width": 1
         },
         "mode": "lines+markers",
         "name": "FC LeNet",
         "type": "scatter",
         "x": [
          10,
          50,
          100,
          200,
          250,
          300,
          400,
          600,
          800,
          900,
          1000,
          1100,
          1200,
          1400
         ],
         "y": [
          0.114,
          0.1135,
          0.1823,
          0.4067,
          0.6846,
          0.7605,
          0.8323,
          0.8781,
          0.8815,
          0.9049,
          0.9037,
          0.9042,
          0.9116,
          0.9159
         ]
        },
        {
         "line": {
          "color": "purple",
          "width": 1
         },
         "mode": "lines+markers",
         "name": "FC Tied LeNet",
         "type": "scatter",
         "x": [
          10,
          50,
          100,
          200,
          300,
          400,
          500,
          600,
          700,
          800,
          900,
          1000,
          1100,
          1200,
          1300,
          1400
         ],
         "y": [
          0.2285,
          0.5198,
          0.6856,
          0.8362,
          0.882,
          0.9036,
          0.9207,
          0.9348,
          0.9375,
          0.9456,
          0.9476,
          0.9516,
          0.9563,
          0.9565,
          0.9578,
          0.9606
         ]
        },
        {
         "line": {
          "color": "black",
          "dash": "dot",
          "width": 2
         },
         "mode": "lines",
         "name": "Threshold",
         "type": "scatter",
         "x": [
          0,
          1400
         ],
         "y": [
          0.9,
          0.9
         ]
        }
       ],
       "layout": {
        "template": {
         "data": {
          "bar": [
           {
            "error_x": {
             "color": "#2a3f5f"
            },
            "error_y": {
             "color": "#2a3f5f"
            },
            "marker": {
             "line": {
              "color": "#E5ECF6",
              "width": 0.5
             },
             "pattern": {
              "fillmode": "overlay",
              "size": 10,
              "solidity": 0.2
             }
            },
            "type": "bar"
           }
          ],
          "barpolar": [
           {
            "marker": {
             "line": {
              "color": "#E5ECF6",
              "width": 0.5
             },
             "pattern": {
              "fillmode": "overlay",
              "size": 10,
              "solidity": 0.2
             }
            },
            "type": "barpolar"
           }
          ],
          "carpet": [
           {
            "aaxis": {
             "endlinecolor": "#2a3f5f",
             "gridcolor": "white",
             "linecolor": "white",
             "minorgridcolor": "white",
             "startlinecolor": "#2a3f5f"
            },
            "baxis": {
             "endlinecolor": "#2a3f5f",
             "gridcolor": "white",
             "linecolor": "white",
             "minorgridcolor": "white",
             "startlinecolor": "#2a3f5f"
            },
            "type": "carpet"
           }
          ],
          "choropleth": [
           {
            "colorbar": {
             "outlinewidth": 0,
             "ticks": ""
            },
            "type": "choropleth"
           }
          ],
          "contour": [
           {
            "colorbar": {
             "outlinewidth": 0,
             "ticks": ""
            },
            "colorscale": [
             [
              0,
              "#0d0887"
             ],
             [
              0.1111111111111111,
              "#46039f"
             ],
             [
              0.2222222222222222,
              "#7201a8"
             ],
             [
              0.3333333333333333,
              "#9c179e"
             ],
             [
              0.4444444444444444,
              "#bd3786"
             ],
             [
              0.5555555555555556,
              "#d8576b"
             ],
             [
              0.6666666666666666,
              "#ed7953"
             ],
             [
              0.7777777777777778,
              "#fb9f3a"
             ],
             [
              0.8888888888888888,
              "#fdca26"
             ],
             [
              1,
              "#f0f921"
             ]
            ],
            "type": "contour"
           }
          ],
          "contourcarpet": [
           {
            "colorbar": {
             "outlinewidth": 0,
             "ticks": ""
            },
            "type": "contourcarpet"
           }
          ],
          "heatmap": [
           {
            "colorbar": {
             "outlinewidth": 0,
             "ticks": ""
            },
            "colorscale": [
             [
              0,
              "#0d0887"
             ],
             [
              0.1111111111111111,
              "#46039f"
             ],
             [
              0.2222222222222222,
              "#7201a8"
             ],
             [
              0.3333333333333333,
              "#9c179e"
             ],
             [
              0.4444444444444444,
              "#bd3786"
             ],
             [
              0.5555555555555556,
              "#d8576b"
             ],
             [
              0.6666666666666666,
              "#ed7953"
             ],
             [
              0.7777777777777778,
              "#fb9f3a"
             ],
             [
              0.8888888888888888,
              "#fdca26"
             ],
             [
              1,
              "#f0f921"
             ]
            ],
            "type": "heatmap"
           }
          ],
          "heatmapgl": [
           {
            "colorbar": {
             "outlinewidth": 0,
             "ticks": ""
            },
            "colorscale": [
             [
              0,
              "#0d0887"
             ],
             [
              0.1111111111111111,
              "#46039f"
             ],
             [
              0.2222222222222222,
              "#7201a8"
             ],
             [
              0.3333333333333333,
              "#9c179e"
             ],
             [
              0.4444444444444444,
              "#bd3786"
             ],
             [
              0.5555555555555556,
              "#d8576b"
             ],
             [
              0.6666666666666666,
              "#ed7953"
             ],
             [
              0.7777777777777778,
              "#fb9f3a"
             ],
             [
              0.8888888888888888,
              "#fdca26"
             ],
             [
              1,
              "#f0f921"
             ]
            ],
            "type": "heatmapgl"
           }
          ],
          "histogram": [
           {
            "marker": {
             "pattern": {
              "fillmode": "overlay",
              "size": 10,
              "solidity": 0.2
             }
            },
            "type": "histogram"
           }
          ],
          "histogram2d": [
           {
            "colorbar": {
             "outlinewidth": 0,
             "ticks": ""
            },
            "colorscale": [
             [
              0,
              "#0d0887"
             ],
             [
              0.1111111111111111,
              "#46039f"
             ],
             [
              0.2222222222222222,
              "#7201a8"
             ],
             [
              0.3333333333333333,
              "#9c179e"
             ],
             [
              0.4444444444444444,
              "#bd3786"
             ],
             [
              0.5555555555555556,
              "#d8576b"
             ],
             [
              0.6666666666666666,
              "#ed7953"
             ],
             [
              0.7777777777777778,
              "#fb9f3a"
             ],
             [
              0.8888888888888888,
              "#fdca26"
             ],
             [
              1,
              "#f0f921"
             ]
            ],
            "type": "histogram2d"
           }
          ],
          "histogram2dcontour": [
           {
            "colorbar": {
             "outlinewidth": 0,
             "ticks": ""
            },
            "colorscale": [
             [
              0,
              "#0d0887"
             ],
             [
              0.1111111111111111,
              "#46039f"
             ],
             [
              0.2222222222222222,
              "#7201a8"
             ],
             [
              0.3333333333333333,
              "#9c179e"
             ],
             [
              0.4444444444444444,
              "#bd3786"
             ],
             [
              0.5555555555555556,
              "#d8576b"
             ],
             [
              0.6666666666666666,
              "#ed7953"
             ],
             [
              0.7777777777777778,
              "#fb9f3a"
             ],
             [
              0.8888888888888888,
              "#fdca26"
             ],
             [
              1,
              "#f0f921"
             ]
            ],
            "type": "histogram2dcontour"
           }
          ],
          "mesh3d": [
           {
            "colorbar": {
             "outlinewidth": 0,
             "ticks": ""
            },
            "type": "mesh3d"
           }
          ],
          "parcoords": [
           {
            "line": {
             "colorbar": {
              "outlinewidth": 0,
              "ticks": ""
             }
            },
            "type": "parcoords"
           }
          ],
          "pie": [
           {
            "automargin": true,
            "type": "pie"
           }
          ],
          "scatter": [
           {
            "fillpattern": {
             "fillmode": "overlay",
             "size": 10,
             "solidity": 0.2
            },
            "type": "scatter"
           }
          ],
          "scatter3d": [
           {
            "line": {
             "colorbar": {
              "outlinewidth": 0,
              "ticks": ""
             }
            },
            "marker": {
             "colorbar": {
              "outlinewidth": 0,
              "ticks": ""
             }
            },
            "type": "scatter3d"
           }
          ],
          "scattercarpet": [
           {
            "marker": {
             "colorbar": {
              "outlinewidth": 0,
              "ticks": ""
             }
            },
            "type": "scattercarpet"
           }
          ],
          "scattergeo": [
           {
            "marker": {
             "colorbar": {
              "outlinewidth": 0,
              "ticks": ""
             }
            },
            "type": "scattergeo"
           }
          ],
          "scattergl": [
           {
            "marker": {
             "colorbar": {
              "outlinewidth": 0,
              "ticks": ""
             }
            },
            "type": "scattergl"
           }
          ],
          "scattermapbox": [
           {
            "marker": {
             "colorbar": {
              "outlinewidth": 0,
              "ticks": ""
             }
            },
            "type": "scattermapbox"
           }
          ],
          "scatterpolar": [
           {
            "marker": {
             "colorbar": {
              "outlinewidth": 0,
              "ticks": ""
             }
            },
            "type": "scatterpolar"
           }
          ],
          "scatterpolargl": [
           {
            "marker": {
             "colorbar": {
              "outlinewidth": 0,
              "ticks": ""
             }
            },
            "type": "scatterpolargl"
           }
          ],
          "scatterternary": [
           {
            "marker": {
             "colorbar": {
              "outlinewidth": 0,
              "ticks": ""
             }
            },
            "type": "scatterternary"
           }
          ],
          "surface": [
           {
            "colorbar": {
             "outlinewidth": 0,
             "ticks": ""
            },
            "colorscale": [
             [
              0,
              "#0d0887"
             ],
             [
              0.1111111111111111,
              "#46039f"
             ],
             [
              0.2222222222222222,
              "#7201a8"
             ],
             [
              0.3333333333333333,
              "#9c179e"
             ],
             [
              0.4444444444444444,
              "#bd3786"
             ],
             [
              0.5555555555555556,
              "#d8576b"
             ],
             [
              0.6666666666666666,
              "#ed7953"
             ],
             [
              0.7777777777777778,
              "#fb9f3a"
             ],
             [
              0.8888888888888888,
              "#fdca26"
             ],
             [
              1,
              "#f0f921"
             ]
            ],
            "type": "surface"
           }
          ],
          "table": [
           {
            "cells": {
             "fill": {
              "color": "#EBF0F8"
             },
             "line": {
              "color": "white"
             }
            },
            "header": {
             "fill": {
              "color": "#C8D4E3"
             },
             "line": {
              "color": "white"
             }
            },
            "type": "table"
           }
          ]
         },
         "layout": {
          "annotationdefaults": {
           "arrowcolor": "#2a3f5f",
           "arrowhead": 0,
           "arrowwidth": 1
          },
          "autotypenumbers": "strict",
          "coloraxis": {
           "colorbar": {
            "outlinewidth": 0,
            "ticks": ""
           }
          },
          "colorscale": {
           "diverging": [
            [
             0,
             "#8e0152"
            ],
            [
             0.1,
             "#c51b7d"
            ],
            [
             0.2,
             "#de77ae"
            ],
            [
             0.3,
             "#f1b6da"
            ],
            [
             0.4,
             "#fde0ef"
            ],
            [
             0.5,
             "#f7f7f7"
            ],
            [
             0.6,
             "#e6f5d0"
            ],
            [
             0.7,
             "#b8e186"
            ],
            [
             0.8,
             "#7fbc41"
            ],
            [
             0.9,
             "#4d9221"
            ],
            [
             1,
             "#276419"
            ]
           ],
           "sequential": [
            [
             0,
             "#0d0887"
            ],
            [
             0.1111111111111111,
             "#46039f"
            ],
            [
             0.2222222222222222,
             "#7201a8"
            ],
            [
             0.3333333333333333,
             "#9c179e"
            ],
            [
             0.4444444444444444,
             "#bd3786"
            ],
            [
             0.5555555555555556,
             "#d8576b"
            ],
            [
             0.6666666666666666,
             "#ed7953"
            ],
            [
             0.7777777777777778,
             "#fb9f3a"
            ],
            [
             0.8888888888888888,
             "#fdca26"
            ],
            [
             1,
             "#f0f921"
            ]
           ],
           "sequentialminus": [
            [
             0,
             "#0d0887"
            ],
            [
             0.1111111111111111,
             "#46039f"
            ],
            [
             0.2222222222222222,
             "#7201a8"
            ],
            [
             0.3333333333333333,
             "#9c179e"
            ],
            [
             0.4444444444444444,
             "#bd3786"
            ],
            [
             0.5555555555555556,
             "#d8576b"
            ],
            [
             0.6666666666666666,
             "#ed7953"
            ],
            [
             0.7777777777777778,
             "#fb9f3a"
            ],
            [
             0.8888888888888888,
             "#fdca26"
            ],
            [
             1,
             "#f0f921"
            ]
           ]
          },
          "colorway": [
           "#636efa",
           "#EF553B",
           "#00cc96",
           "#ab63fa",
           "#FFA15A",
           "#19d3f3",
           "#FF6692",
           "#B6E880",
           "#FF97FF",
           "#FECB52"
          ],
          "font": {
           "color": "#2a3f5f"
          },
          "geo": {
           "bgcolor": "white",
           "lakecolor": "white",
           "landcolor": "#E5ECF6",
           "showlakes": true,
           "showland": true,
           "subunitcolor": "white"
          },
          "hoverlabel": {
           "align": "left"
          },
          "hovermode": "closest",
          "mapbox": {
           "style": "light"
          },
          "paper_bgcolor": "white",
          "plot_bgcolor": "#E5ECF6",
          "polar": {
           "angularaxis": {
            "gridcolor": "white",
            "linecolor": "white",
            "ticks": ""
           },
           "bgcolor": "#E5ECF6",
           "radialaxis": {
            "gridcolor": "white",
            "linecolor": "white",
            "ticks": ""
           }
          },
          "scene": {
           "xaxis": {
            "backgroundcolor": "#E5ECF6",
            "gridcolor": "white",
            "gridwidth": 2,
            "linecolor": "white",
            "showbackground": true,
            "ticks": "",
            "zerolinecolor": "white"
           },
           "yaxis": {
            "backgroundcolor": "#E5ECF6",
            "gridcolor": "white",
            "gridwidth": 2,
            "linecolor": "white",
            "showbackground": true,
            "ticks": "",
            "zerolinecolor": "white"
           },
           "zaxis": {
            "backgroundcolor": "#E5ECF6",
            "gridcolor": "white",
            "gridwidth": 2,
            "linecolor": "white",
            "showbackground": true,
            "ticks": "",
            "zerolinecolor": "white"
           }
          },
          "shapedefaults": {
           "line": {
            "color": "#2a3f5f"
           }
          },
          "ternary": {
           "aaxis": {
            "gridcolor": "white",
            "linecolor": "white",
            "ticks": ""
           },
           "baxis": {
            "gridcolor": "white",
            "linecolor": "white",
            "ticks": ""
           },
           "bgcolor": "#E5ECF6",
           "caxis": {
            "gridcolor": "white",
            "linecolor": "white",
            "ticks": ""
           }
          },
          "title": {
           "x": 0.05
          },
          "xaxis": {
           "automargin": true,
           "gridcolor": "white",
           "linecolor": "white",
           "ticks": "",
           "title": {
            "standoff": 15
           },
           "zerolinecolor": "white",
           "zerolinewidth": 2
          },
          "yaxis": {
           "automargin": true,
           "gridcolor": "white",
           "linecolor": "white",
           "ticks": "",
           "title": {
            "standoff": 15
           },
           "zerolinecolor": "white",
           "zerolinewidth": 2
          }
         }
        },
        "title": {
         "text": "Intrinsic Dimension MNIST"
        }
       }
      }
     },
     "metadata": {},
     "output_type": "display_data"
    }
   ],
   "source": [
    "import plotly.graph_objects as go\n",
    "\n",
    "fig = go.Figure()\n",
    "fig.add_trace(go.Scatter(x=int_dim_fcn200[1:], y=acc_fcn200[1:], mode='lines+markers', name = 'FCN',\n",
    "                         line=dict(color='firebrick', width=1)))\n",
    "fig.add_trace(go.Scatter(x=int_dim_lenet[1:], y=acc_lenet[1:], mode='lines+markers', name = 'LeNet',\n",
    "                         line=dict(color='blue', width=1)))\n",
    "fig.add_trace(go.Scatter(x=int_dim_untied_lenet[1:], y=acc_untied_lenet[1:], mode='lines+markers', name = 'Untied LeNet',\n",
    "                         line=dict(color='green', width=1)))\n",
    "fig.add_trace(go.Scatter(x=int_dim_fc_lenet[1:], y=acc_fc_lenet[1:], mode='lines+markers', name = 'FC LeNet',\n",
    "                         line=dict(color='black', width=1)))\n",
    "fig.add_trace(go.Scatter(x=int_dim_fc_tied_lenet[1:], y=acc_fc_tied_lenet[1:], mode='lines+markers', name = 'FC Tied LeNet',\n",
    "                         line=dict(color='purple', width=1)))\n",
    "fig.add_trace(go.Scatter(x=[0, 1400], y=[0.9, 0.9], mode='lines', name = 'Threshold', line=dict(color='black', width=2, dash='dot')))\n",
    "fig.update_layout(\n",
    "    title=\"Intrinsic Dimension MNIST\",\n",
    "    )"
   ]
  },
  {
   "cell_type": "code",
   "execution_count": 55,
   "metadata": {},
   "outputs": [
    {
     "name": "stdout",
     "output_type": "stream",
     "text": [
      "[[0, 0.5256], [10, 0.1242], [100, 0.2673], [250, 0.3318], [500, 0.3691], [1000, 0.4063], [1500, 0.43], [2000, 0.4438], [3000, 0.4574], [4000, 0.4733], [5000, 0.4747], [6000, 0.477], [6250, 0.485], [6500, 0.4859], [6750, 0.4807], [7000, 0.4866], [7500, 0.4838], [8000, 0.488], [8500, 0.4872], [9000, 0.4894], [9500, 0.4837], [10000, 0.4892], [12000, 0.4969]]\n"
     ]
    }
   ],
   "source": [
    "data_fcn_cifar10.sort()\n",
    "print(data_fcn_cifar10)\n",
    "int_dim_fcn_cifar10 = [k for k,v in data_fcn_cifar10 if k != 0]\n",
    "acc_fcn_cifar10 = [v for k,v in data_fcn_cifar10 if k != 0]"
   ]
  },
  {
   "cell_type": "code",
   "execution_count": 56,
   "metadata": {},
   "outputs": [
    {
     "name": "stdout",
     "output_type": "stream",
     "text": [
      "[[0, 0.5725], [10, 0.1024], [50, 0.239], [100, 0.2909], [200, 0.3607], [300, 0.3868], [400, 0.4212], [500, 0.4295], [600, 0.451], [700, 0.4562], [800, 0.4578], [900, 0.4694], [1000, 0.4733], [1100, 0.4861], [1200, 0.5069], [1300, 0.4913], [1400, 0.499], [1500, 0.5073], [1600, 0.5103], [1700, 0.518], [1800, 0.4972], [1900, 0.503], [2000, 0.5155], [2100, 0.5364], [2200, 0.5193], [2300, 0.5331], [2400, 0.5207], [2500, 0.5252], [2600, 0.5418], [2700, 0.5325], [2800, 0.5316], [2900, 0.5414], [3000, 0.551], [3100, 0.5355], [3200, 0.5499], [3300, 0.5409], [3400, 0.5276], [3500, 0.5289], [3600, 0.5488], [3700, 0.5599], [3800, 0.5539], [3900, 0.544], [4000, 0.5425], [4100, 0.5562], [4200, 0.5434], [4300, 0.5518], [4400, 0.5578], [4500, 0.5553]]\n"
     ]
    }
   ],
   "source": [
    "data_lenet_cifar.sort()\n",
    "print(data_lenet_cifar)\n",
    "int_dim_lenet_cifar10 = [k for k,v in data_lenet_cifar if k != 0]\n",
    "acc_lenet_cifar10 = [v for k,v in data_lenet_cifar if k != 0]"
   ]
  },
  {
   "cell_type": "code",
   "execution_count": 57,
   "metadata": {},
   "outputs": [
    {
     "name": "stdout",
     "output_type": "stream",
     "text": [
      "[[0, 0.1], [0, 0.5984], [10, 0.1], [100, 0.1], [500, 0.1], [1000, 0.1], [2000, 0.1], [5000, 0.4042], [7000, 0.4251], [10000, 0.4639], [12500, 0.48], [15000, 0.4827], [20000, 0.5], [25000, 0.5022], [30000, 0.5068], [35000, 0.5198], [40000, 0.5178]]\n"
     ]
    }
   ],
   "source": [
    "data_untied_lenet_cifar.sort()\n",
    "print(data_untied_lenet_cifar)\n",
    "int_dim_untied_lenet_cifar10 = [k for k,v in data_untied_lenet_cifar if k != 0]\n",
    "acc_untied_lenet_cifar10 = [v for k,v in data_untied_lenet_cifar if k != 0]"
   ]
  },
  {
   "cell_type": "code",
   "execution_count": 58,
   "metadata": {},
   "outputs": [
    {
     "name": "stdout",
     "output_type": "stream",
     "text": [
      "[[0, 0.5516], [10, 0.1165], [500, 0.3628], [1000, 0.3966], [2000, 0.4221], [5000, 0.4513], [15000, 0.4891], [27000, 0.5005], [30000, 0.5024], [35000, 0.5006], [45000, 0.5069], [50000, 0.5127], [55000, 0.5106], [70000, 0.516]]\n"
     ]
    }
   ],
   "source": [
    "data_fc_lenet_cifar.sort()\n",
    "print(data_fc_lenet_cifar)\n",
    "int_dim_fc_lenet_cifar10 = [k for k,v in data_fc_lenet_cifar if k != 0]\n",
    "acc_fc_lenet_cifar10 = [v for k,v in data_fc_lenet_cifar if k != 0]"
   ]
  },
  {
   "cell_type": "code",
   "execution_count": 59,
   "metadata": {},
   "outputs": [
    {
     "name": "stdout",
     "output_type": "stream",
     "text": [
      "[[0, 0.505], [0, 0.562], [10, 0.1408], [10, 0.1503], [100, 0.1513], [100, 0.2674], [500, 0.3559], [500, 0.3736], [1000, 0.4072], [1000, 0.42], [2000, 0.4441], [2000, 0.4507], [3000, 0.4591], [4000, 0.4723], [4000, 0.4775], [5000, 0.4928], [6000, 0.5027], [7000, 0.5019], [8000, 0.5094], [9000, 0.5127], [10000, 0.5197], [11000, 0.5214], [12000, 0.5226], [15000, 0.5346]]\n"
     ]
    }
   ],
   "source": [
    "data_fc_tied_lenet_cifar\n",
    "data_fc_tied_lenet_cifar.sort()\n",
    "print(data_fc_tied_lenet_cifar)\n",
    "int_dim_fc_tied_lenet_cifar10 = [k for k,v in data_fc_tied_lenet_cifar if k != 0]\n",
    "acc_fc_tied_lenet_cifar10 = [v for k,v in data_fc_tied_lenet_cifar if k != 0]"
   ]
  },
  {
   "cell_type": "code",
   "execution_count": 60,
   "metadata": {},
   "outputs": [
    {
     "data": {
      "application/vnd.plotly.v1+json": {
       "config": {
        "plotlyServerURL": "https://plot.ly"
       },
       "data": [
        {
         "line": {
          "color": "firebrick",
          "width": 1
         },
         "mode": "lines+markers",
         "name": "FCN",
         "type": "scatter",
         "x": [
          10,
          100,
          250,
          500,
          1000,
          1500,
          2000,
          3000,
          4000,
          5000,
          6000,
          6250,
          6500,
          6750,
          7000,
          7500,
          8000,
          8500,
          9000,
          9500,
          10000,
          12000
         ],
         "y": [
          0.1242,
          0.2673,
          0.3318,
          0.3691,
          0.4063,
          0.43,
          0.4438,
          0.4574,
          0.4733,
          0.4747,
          0.477,
          0.485,
          0.4859,
          0.4807,
          0.4866,
          0.4838,
          0.488,
          0.4872,
          0.4894,
          0.4837,
          0.4892,
          0.4969
         ]
        },
        {
         "line": {
          "color": "blue",
          "width": 1
         },
         "mode": "lines+markers",
         "name": "LeNet",
         "type": "scatter",
         "x": [
          10,
          50,
          100,
          200,
          300,
          400,
          500,
          600,
          700,
          800,
          900,
          1000,
          1100,
          1200,
          1300,
          1400,
          1500,
          1600,
          1700,
          1800,
          1900,
          2000,
          2100,
          2200,
          2300,
          2400,
          2500,
          2600,
          2700,
          2800,
          2900,
          3000,
          3100,
          3200,
          3300,
          3400,
          3500,
          3600,
          3700,
          3800,
          3900,
          4000,
          4100,
          4200,
          4300,
          4400,
          4500
         ],
         "y": [
          0.1024,
          0.239,
          0.2909,
          0.3607,
          0.3868,
          0.4212,
          0.4295,
          0.451,
          0.4562,
          0.4578,
          0.4694,
          0.4733,
          0.4861,
          0.5069,
          0.4913,
          0.499,
          0.5073,
          0.5103,
          0.518,
          0.4972,
          0.503,
          0.5155,
          0.5364,
          0.5193,
          0.5331,
          0.5207,
          0.5252,
          0.5418,
          0.5325,
          0.5316,
          0.5414,
          0.551,
          0.5355,
          0.5499,
          0.5409,
          0.5276,
          0.5289,
          0.5488,
          0.5599,
          0.5539,
          0.544,
          0.5425,
          0.5562,
          0.5434,
          0.5518,
          0.5578,
          0.5553
         ]
        },
        {
         "line": {
          "color": "green",
          "width": 1
         },
         "mode": "lines+markers",
         "name": "Untied LeNet",
         "type": "scatter",
         "x": [
          10,
          100,
          500,
          1000,
          2000,
          5000,
          7000,
          10000,
          12500,
          15000,
          20000,
          25000,
          30000,
          35000,
          40000
         ],
         "y": [
          0.1,
          0.1,
          0.1,
          0.1,
          0.1,
          0.4042,
          0.4251,
          0.4639,
          0.48,
          0.4827,
          0.5,
          0.5022,
          0.5068,
          0.5198,
          0.5178
         ]
        },
        {
         "line": {
          "color": "black",
          "width": 1
         },
         "mode": "lines+markers",
         "name": "FC LeNet",
         "type": "scatter",
         "x": [
          10,
          500,
          1000,
          2000,
          5000,
          15000,
          27000,
          30000,
          35000,
          45000,
          50000,
          55000,
          70000
         ],
         "y": [
          0.1165,
          0.3628,
          0.3966,
          0.4221,
          0.4513,
          0.4891,
          0.5005,
          0.5024,
          0.5006,
          0.5069,
          0.5127,
          0.5106,
          0.516
         ]
        },
        {
         "line": {
          "color": "purple",
          "width": 1
         },
         "mode": "lines+markers",
         "name": "FC Tied LeNet",
         "type": "scatter",
         "x": [
          10,
          10,
          100,
          100,
          500,
          500,
          1000,
          1000,
          2000,
          2000,
          3000,
          4000,
          4000,
          5000,
          6000,
          7000,
          8000,
          9000,
          10000,
          11000,
          12000,
          15000
         ],
         "y": [
          0.1408,
          0.1503,
          0.1513,
          0.2674,
          0.3559,
          0.3736,
          0.4072,
          0.42,
          0.4441,
          0.4507,
          0.4591,
          0.4723,
          0.4775,
          0.4928,
          0.5027,
          0.5019,
          0.5094,
          0.5127,
          0.5197,
          0.5214,
          0.5226,
          0.5346
         ]
        },
        {
         "line": {
          "color": "black",
          "dash": "dot",
          "width": 2
         },
         "mode": "lines",
         "name": "Threshold",
         "type": "scatter",
         "x": [
          0,
          70000
         ],
         "y": [
          0.52,
          0.52
         ]
        }
       ],
       "layout": {
        "template": {
         "data": {
          "bar": [
           {
            "error_x": {
             "color": "#2a3f5f"
            },
            "error_y": {
             "color": "#2a3f5f"
            },
            "marker": {
             "line": {
              "color": "#E5ECF6",
              "width": 0.5
             },
             "pattern": {
              "fillmode": "overlay",
              "size": 10,
              "solidity": 0.2
             }
            },
            "type": "bar"
           }
          ],
          "barpolar": [
           {
            "marker": {
             "line": {
              "color": "#E5ECF6",
              "width": 0.5
             },
             "pattern": {
              "fillmode": "overlay",
              "size": 10,
              "solidity": 0.2
             }
            },
            "type": "barpolar"
           }
          ],
          "carpet": [
           {
            "aaxis": {
             "endlinecolor": "#2a3f5f",
             "gridcolor": "white",
             "linecolor": "white",
             "minorgridcolor": "white",
             "startlinecolor": "#2a3f5f"
            },
            "baxis": {
             "endlinecolor": "#2a3f5f",
             "gridcolor": "white",
             "linecolor": "white",
             "minorgridcolor": "white",
             "startlinecolor": "#2a3f5f"
            },
            "type": "carpet"
           }
          ],
          "choropleth": [
           {
            "colorbar": {
             "outlinewidth": 0,
             "ticks": ""
            },
            "type": "choropleth"
           }
          ],
          "contour": [
           {
            "colorbar": {
             "outlinewidth": 0,
             "ticks": ""
            },
            "colorscale": [
             [
              0,
              "#0d0887"
             ],
             [
              0.1111111111111111,
              "#46039f"
             ],
             [
              0.2222222222222222,
              "#7201a8"
             ],
             [
              0.3333333333333333,
              "#9c179e"
             ],
             [
              0.4444444444444444,
              "#bd3786"
             ],
             [
              0.5555555555555556,
              "#d8576b"
             ],
             [
              0.6666666666666666,
              "#ed7953"
             ],
             [
              0.7777777777777778,
              "#fb9f3a"
             ],
             [
              0.8888888888888888,
              "#fdca26"
             ],
             [
              1,
              "#f0f921"
             ]
            ],
            "type": "contour"
           }
          ],
          "contourcarpet": [
           {
            "colorbar": {
             "outlinewidth": 0,
             "ticks": ""
            },
            "type": "contourcarpet"
           }
          ],
          "heatmap": [
           {
            "colorbar": {
             "outlinewidth": 0,
             "ticks": ""
            },
            "colorscale": [
             [
              0,
              "#0d0887"
             ],
             [
              0.1111111111111111,
              "#46039f"
             ],
             [
              0.2222222222222222,
              "#7201a8"
             ],
             [
              0.3333333333333333,
              "#9c179e"
             ],
             [
              0.4444444444444444,
              "#bd3786"
             ],
             [
              0.5555555555555556,
              "#d8576b"
             ],
             [
              0.6666666666666666,
              "#ed7953"
             ],
             [
              0.7777777777777778,
              "#fb9f3a"
             ],
             [
              0.8888888888888888,
              "#fdca26"
             ],
             [
              1,
              "#f0f921"
             ]
            ],
            "type": "heatmap"
           }
          ],
          "heatmapgl": [
           {
            "colorbar": {
             "outlinewidth": 0,
             "ticks": ""
            },
            "colorscale": [
             [
              0,
              "#0d0887"
             ],
             [
              0.1111111111111111,
              "#46039f"
             ],
             [
              0.2222222222222222,
              "#7201a8"
             ],
             [
              0.3333333333333333,
              "#9c179e"
             ],
             [
              0.4444444444444444,
              "#bd3786"
             ],
             [
              0.5555555555555556,
              "#d8576b"
             ],
             [
              0.6666666666666666,
              "#ed7953"
             ],
             [
              0.7777777777777778,
              "#fb9f3a"
             ],
             [
              0.8888888888888888,
              "#fdca26"
             ],
             [
              1,
              "#f0f921"
             ]
            ],
            "type": "heatmapgl"
           }
          ],
          "histogram": [
           {
            "marker": {
             "pattern": {
              "fillmode": "overlay",
              "size": 10,
              "solidity": 0.2
             }
            },
            "type": "histogram"
           }
          ],
          "histogram2d": [
           {
            "colorbar": {
             "outlinewidth": 0,
             "ticks": ""
            },
            "colorscale": [
             [
              0,
              "#0d0887"
             ],
             [
              0.1111111111111111,
              "#46039f"
             ],
             [
              0.2222222222222222,
              "#7201a8"
             ],
             [
              0.3333333333333333,
              "#9c179e"
             ],
             [
              0.4444444444444444,
              "#bd3786"
             ],
             [
              0.5555555555555556,
              "#d8576b"
             ],
             [
              0.6666666666666666,
              "#ed7953"
             ],
             [
              0.7777777777777778,
              "#fb9f3a"
             ],
             [
              0.8888888888888888,
              "#fdca26"
             ],
             [
              1,
              "#f0f921"
             ]
            ],
            "type": "histogram2d"
           }
          ],
          "histogram2dcontour": [
           {
            "colorbar": {
             "outlinewidth": 0,
             "ticks": ""
            },
            "colorscale": [
             [
              0,
              "#0d0887"
             ],
             [
              0.1111111111111111,
              "#46039f"
             ],
             [
              0.2222222222222222,
              "#7201a8"
             ],
             [
              0.3333333333333333,
              "#9c179e"
             ],
             [
              0.4444444444444444,
              "#bd3786"
             ],
             [
              0.5555555555555556,
              "#d8576b"
             ],
             [
              0.6666666666666666,
              "#ed7953"
             ],
             [
              0.7777777777777778,
              "#fb9f3a"
             ],
             [
              0.8888888888888888,
              "#fdca26"
             ],
             [
              1,
              "#f0f921"
             ]
            ],
            "type": "histogram2dcontour"
           }
          ],
          "mesh3d": [
           {
            "colorbar": {
             "outlinewidth": 0,
             "ticks": ""
            },
            "type": "mesh3d"
           }
          ],
          "parcoords": [
           {
            "line": {
             "colorbar": {
              "outlinewidth": 0,
              "ticks": ""
             }
            },
            "type": "parcoords"
           }
          ],
          "pie": [
           {
            "automargin": true,
            "type": "pie"
           }
          ],
          "scatter": [
           {
            "fillpattern": {
             "fillmode": "overlay",
             "size": 10,
             "solidity": 0.2
            },
            "type": "scatter"
           }
          ],
          "scatter3d": [
           {
            "line": {
             "colorbar": {
              "outlinewidth": 0,
              "ticks": ""
             }
            },
            "marker": {
             "colorbar": {
              "outlinewidth": 0,
              "ticks": ""
             }
            },
            "type": "scatter3d"
           }
          ],
          "scattercarpet": [
           {
            "marker": {
             "colorbar": {
              "outlinewidth": 0,
              "ticks": ""
             }
            },
            "type": "scattercarpet"
           }
          ],
          "scattergeo": [
           {
            "marker": {
             "colorbar": {
              "outlinewidth": 0,
              "ticks": ""
             }
            },
            "type": "scattergeo"
           }
          ],
          "scattergl": [
           {
            "marker": {
             "colorbar": {
              "outlinewidth": 0,
              "ticks": ""
             }
            },
            "type": "scattergl"
           }
          ],
          "scattermapbox": [
           {
            "marker": {
             "colorbar": {
              "outlinewidth": 0,
              "ticks": ""
             }
            },
            "type": "scattermapbox"
           }
          ],
          "scatterpolar": [
           {
            "marker": {
             "colorbar": {
              "outlinewidth": 0,
              "ticks": ""
             }
            },
            "type": "scatterpolar"
           }
          ],
          "scatterpolargl": [
           {
            "marker": {
             "colorbar": {
              "outlinewidth": 0,
              "ticks": ""
             }
            },
            "type": "scatterpolargl"
           }
          ],
          "scatterternary": [
           {
            "marker": {
             "colorbar": {
              "outlinewidth": 0,
              "ticks": ""
             }
            },
            "type": "scatterternary"
           }
          ],
          "surface": [
           {
            "colorbar": {
             "outlinewidth": 0,
             "ticks": ""
            },
            "colorscale": [
             [
              0,
              "#0d0887"
             ],
             [
              0.1111111111111111,
              "#46039f"
             ],
             [
              0.2222222222222222,
              "#7201a8"
             ],
             [
              0.3333333333333333,
              "#9c179e"
             ],
             [
              0.4444444444444444,
              "#bd3786"
             ],
             [
              0.5555555555555556,
              "#d8576b"
             ],
             [
              0.6666666666666666,
              "#ed7953"
             ],
             [
              0.7777777777777778,
              "#fb9f3a"
             ],
             [
              0.8888888888888888,
              "#fdca26"
             ],
             [
              1,
              "#f0f921"
             ]
            ],
            "type": "surface"
           }
          ],
          "table": [
           {
            "cells": {
             "fill": {
              "color": "#EBF0F8"
             },
             "line": {
              "color": "white"
             }
            },
            "header": {
             "fill": {
              "color": "#C8D4E3"
             },
             "line": {
              "color": "white"
             }
            },
            "type": "table"
           }
          ]
         },
         "layout": {
          "annotationdefaults": {
           "arrowcolor": "#2a3f5f",
           "arrowhead": 0,
           "arrowwidth": 1
          },
          "autotypenumbers": "strict",
          "coloraxis": {
           "colorbar": {
            "outlinewidth": 0,
            "ticks": ""
           }
          },
          "colorscale": {
           "diverging": [
            [
             0,
             "#8e0152"
            ],
            [
             0.1,
             "#c51b7d"
            ],
            [
             0.2,
             "#de77ae"
            ],
            [
             0.3,
             "#f1b6da"
            ],
            [
             0.4,
             "#fde0ef"
            ],
            [
             0.5,
             "#f7f7f7"
            ],
            [
             0.6,
             "#e6f5d0"
            ],
            [
             0.7,
             "#b8e186"
            ],
            [
             0.8,
             "#7fbc41"
            ],
            [
             0.9,
             "#4d9221"
            ],
            [
             1,
             "#276419"
            ]
           ],
           "sequential": [
            [
             0,
             "#0d0887"
            ],
            [
             0.1111111111111111,
             "#46039f"
            ],
            [
             0.2222222222222222,
             "#7201a8"
            ],
            [
             0.3333333333333333,
             "#9c179e"
            ],
            [
             0.4444444444444444,
             "#bd3786"
            ],
            [
             0.5555555555555556,
             "#d8576b"
            ],
            [
             0.6666666666666666,
             "#ed7953"
            ],
            [
             0.7777777777777778,
             "#fb9f3a"
            ],
            [
             0.8888888888888888,
             "#fdca26"
            ],
            [
             1,
             "#f0f921"
            ]
           ],
           "sequentialminus": [
            [
             0,
             "#0d0887"
            ],
            [
             0.1111111111111111,
             "#46039f"
            ],
            [
             0.2222222222222222,
             "#7201a8"
            ],
            [
             0.3333333333333333,
             "#9c179e"
            ],
            [
             0.4444444444444444,
             "#bd3786"
            ],
            [
             0.5555555555555556,
             "#d8576b"
            ],
            [
             0.6666666666666666,
             "#ed7953"
            ],
            [
             0.7777777777777778,
             "#fb9f3a"
            ],
            [
             0.8888888888888888,
             "#fdca26"
            ],
            [
             1,
             "#f0f921"
            ]
           ]
          },
          "colorway": [
           "#636efa",
           "#EF553B",
           "#00cc96",
           "#ab63fa",
           "#FFA15A",
           "#19d3f3",
           "#FF6692",
           "#B6E880",
           "#FF97FF",
           "#FECB52"
          ],
          "font": {
           "color": "#2a3f5f"
          },
          "geo": {
           "bgcolor": "white",
           "lakecolor": "white",
           "landcolor": "#E5ECF6",
           "showlakes": true,
           "showland": true,
           "subunitcolor": "white"
          },
          "hoverlabel": {
           "align": "left"
          },
          "hovermode": "closest",
          "mapbox": {
           "style": "light"
          },
          "paper_bgcolor": "white",
          "plot_bgcolor": "#E5ECF6",
          "polar": {
           "angularaxis": {
            "gridcolor": "white",
            "linecolor": "white",
            "ticks": ""
           },
           "bgcolor": "#E5ECF6",
           "radialaxis": {
            "gridcolor": "white",
            "linecolor": "white",
            "ticks": ""
           }
          },
          "scene": {
           "xaxis": {
            "backgroundcolor": "#E5ECF6",
            "gridcolor": "white",
            "gridwidth": 2,
            "linecolor": "white",
            "showbackground": true,
            "ticks": "",
            "zerolinecolor": "white"
           },
           "yaxis": {
            "backgroundcolor": "#E5ECF6",
            "gridcolor": "white",
            "gridwidth": 2,
            "linecolor": "white",
            "showbackground": true,
            "ticks": "",
            "zerolinecolor": "white"
           },
           "zaxis": {
            "backgroundcolor": "#E5ECF6",
            "gridcolor": "white",
            "gridwidth": 2,
            "linecolor": "white",
            "showbackground": true,
            "ticks": "",
            "zerolinecolor": "white"
           }
          },
          "shapedefaults": {
           "line": {
            "color": "#2a3f5f"
           }
          },
          "ternary": {
           "aaxis": {
            "gridcolor": "white",
            "linecolor": "white",
            "ticks": ""
           },
           "baxis": {
            "gridcolor": "white",
            "linecolor": "white",
            "ticks": ""
           },
           "bgcolor": "#E5ECF6",
           "caxis": {
            "gridcolor": "white",
            "linecolor": "white",
            "ticks": ""
           }
          },
          "title": {
           "x": 0.05
          },
          "xaxis": {
           "automargin": true,
           "gridcolor": "white",
           "linecolor": "white",
           "ticks": "",
           "title": {
            "standoff": 15
           },
           "zerolinecolor": "white",
           "zerolinewidth": 2
          },
          "yaxis": {
           "automargin": true,
           "gridcolor": "white",
           "linecolor": "white",
           "ticks": "",
           "title": {
            "standoff": 15
           },
           "zerolinecolor": "white",
           "zerolinewidth": 2
          }
         }
        },
        "title": {
         "text": "Intrinsic Dimension Cifar10"
        }
       }
      }
     },
     "metadata": {},
     "output_type": "display_data"
    }
   ],
   "source": [
    "fig = go.Figure()\n",
    "fig.add_trace(go.Scatter(x=int_dim_fcn_cifar10, y=acc_fcn_cifar10, mode='lines+markers', name = 'FCN',\n",
    "                         line=dict(color='firebrick', width=1)))\n",
    "fig.add_trace(go.Scatter(x=int_dim_lenet_cifar10, y=acc_lenet_cifar10, mode='lines+markers', name = 'LeNet',\n",
    "                         line=dict(color='blue', width=1)))\n",
    "fig.add_trace(go.Scatter(x=int_dim_untied_lenet_cifar10, y=acc_untied_lenet_cifar10, mode='lines+markers', name = 'Untied LeNet',\n",
    "                         line=dict(color='green', width=1)))\n",
    "fig.add_trace(go.Scatter(x=int_dim_fc_lenet_cifar10, y=acc_fc_lenet_cifar10, mode='lines+markers', name = 'FC LeNet',\n",
    "                         line=dict(color='black', width=1)))\n",
    "fig.add_trace(go.Scatter(x=int_dim_fc_tied_lenet_cifar10, y=acc_fc_tied_lenet_cifar10, mode='lines+markers', name = 'FC Tied LeNet',\n",
    "                         line=dict(color='purple', width=1)))\n",
    "fig.add_trace(go.Scatter(x=[0, 70000], y=[0.52, 0.52], mode='lines', name = 'Threshold', line=dict(color='black', width=2, dash='dot')))\n",
    "fig.update_layout(\n",
    "    title=\"Intrinsic Dimension Cifar10\",\n",
    "    )"
   ]
  }
 ],
 "metadata": {
  "kernelspec": {
   "display_name": "Python 3.9.12 64-bit",
   "language": "python",
   "name": "python3"
  },
  "language_info": {
   "codemirror_mode": {
    "name": "ipython",
    "version": 3
   },
   "file_extension": ".py",
   "mimetype": "text/x-python",
   "name": "python",
   "nbconvert_exporter": "python",
   "pygments_lexer": "ipython3",
   "version": "3.9.12"
  },
  "orig_nbformat": 4,
  "vscode": {
   "interpreter": {
    "hash": "e13549091eeb6d212316983f0d9bb375e4ef3e549472c705cc2bde65fe2521f7"
   }
  }
 },
 "nbformat": 4,
 "nbformat_minor": 2
}
