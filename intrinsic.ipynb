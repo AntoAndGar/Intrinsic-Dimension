{
 "cells": [
  {
   "cell_type": "code",
   "execution_count": 1,
   "metadata": {},
   "outputs": [
    {
     "name": "stdout",
     "output_type": "stream",
     "text": [
      "GPU is available\n"
     ]
    }
   ],
   "source": [
    "import torch\n",
    "import torch.nn as nn\n",
    "import torch.nn.functional as F\n",
    "import torch.optim as optim\n",
    "import torchvision.models as models\n",
    "import numpy as np\n",
    "from torchvision import models, transforms\n",
    "from torch.utils.data import DataLoader\n",
    "from torchvision.datasets import MNIST, CIFAR10\n",
    "import matplotlib.pyplot as plt\n",
    "import plotly.express as px\n",
    "import plotly.graph_objects as go\n",
    "from tqdm import tqdm\n",
    "import json\n",
    "\n",
    "if torch.cuda.is_available():\n",
    "    device = torch.device(\"cuda\")\n",
    "    print(\"GPU is available\")\n",
    "else:\n",
    "    device = torch.device(\"cpu\")\n",
    "    print(\"GPU is not available\")\n",
    "\n",
    "# add reproducibility stuff\n",
    "torch.manual_seed(42)\n",
    "torch.cuda.manual_seed_all(42)\n",
    "np.random.seed(42)\n",
    "torch.backends.cudnn.deterministic = True\n",
    "torch.backends.cudnn.benchmark = False\n"
   ]
  },
  {
   "cell_type": "code",
   "execution_count": 2,
   "metadata": {},
   "outputs": [],
   "source": [
    "def fastfood_vars(DD, device=0):\n",
    "    \"\"\"\n",
    "    Returns parameters for fast food transform\n",
    "    :param DD: desired dimension\n",
    "    :return:\n",
    "    \"\"\"\n",
    "    ll = int(np.ceil(np.log(DD) / np.log(2)))\n",
    "    LL = 2**ll\n",
    "\n",
    "    # Binary scaling matrix where $B_{i,i} \\in \\{\\pm 1 \\}$ drawn iid\n",
    "    BB = torch.FloatTensor(LL).uniform_(0, 2).type(torch.LongTensor)\n",
    "    BB = (BB * 2 - 1).type(torch.FloatTensor).to(device)\n",
    "    BB.requires_grad = False\n",
    "\n",
    "    # Random permutation matrix\n",
    "    Pi = torch.LongTensor(np.random.permutation(LL)).to(device)\n",
    "    Pi.requires_grad = False\n",
    "\n",
    "    # Gaussian scaling matrix, whose elements $G_{i,i} \\sim \\mathcal{N}(0, 1)$\n",
    "    GG = (\n",
    "        torch.FloatTensor(\n",
    "            LL,\n",
    "        )\n",
    "        .normal_()\n",
    "        .to(device)\n",
    "    )\n",
    "    GG.requires_grad = False\n",
    "\n",
    "    divisor = torch.sqrt(LL * torch.sum(torch.pow(GG, 2)))\n",
    "\n",
    "    return [BB, Pi, GG, divisor, LL]\n"
   ]
  },
  {
   "cell_type": "code",
   "execution_count": 3,
   "metadata": {},
   "outputs": [],
   "source": [
    "def fast_walsh_hadamard_torched(x, axis=0, normalize=False):\n",
    "    \"\"\"\n",
    "    Performs fast Walsh Hadamard transform\n",
    "    :param x:\n",
    "    :param axis:\n",
    "    :param normalize:\n",
    "    :return:\n",
    "    \"\"\"\n",
    "    orig_shape = x.size()\n",
    "    assert axis >= 0 and axis < len(\n",
    "        orig_shape\n",
    "    ), \"For a vector of shape %s, axis must be in [0, %d] but it is %d\" % (\n",
    "        orig_shape,\n",
    "        len(orig_shape) - 1,\n",
    "        axis,\n",
    "    )\n",
    "    h_dim = orig_shape[axis]\n",
    "    h_dim_exp = int(round(np.log(h_dim) / np.log(2)))\n",
    "    assert h_dim == 2**h_dim_exp, (\n",
    "        \"hadamard can only be computed over axis with size that is a power of two, but\"\n",
    "        \" chosen axis %d has size %d\" % (axis, h_dim)\n",
    "    )\n",
    "\n",
    "    working_shape_pre = [int(np.prod(orig_shape[:axis]))]  # prod of empty array is 1 :)\n",
    "    working_shape_post = [\n",
    "        int(np.prod(orig_shape[axis + 1 :]))\n",
    "    ]  # prod of empty array is 1 :)\n",
    "    working_shape_mid = [2] * h_dim_exp\n",
    "    working_shape = working_shape_pre + working_shape_mid + working_shape_post\n",
    "\n",
    "    ret = x.view(working_shape)\n",
    "\n",
    "    for ii in range(h_dim_exp):\n",
    "        dim = ii + 1\n",
    "        arrs = torch.chunk(ret, 2, dim=dim)\n",
    "        assert len(arrs) == 2\n",
    "        ret = torch.cat((arrs[0] + arrs[1], arrs[0] - arrs[1]), axis=dim)\n",
    "\n",
    "    if normalize:\n",
    "        ret = ret / torch.sqrt(float(h_dim))\n",
    "\n",
    "    ret = ret.view(orig_shape)\n",
    "\n",
    "    return ret\n"
   ]
  },
  {
   "cell_type": "code",
   "execution_count": 4,
   "metadata": {},
   "outputs": [],
   "source": [
    "def fastfood_torched(x, DD, param_list=None, device=0):\n",
    "    \"\"\"\n",
    "    Fastfood transform\n",
    "    :param x: array of dd dimension\n",
    "    :param DD: desired dimension\n",
    "    :return:\n",
    "    \"\"\"\n",
    "    dd = x.size(0)\n",
    "\n",
    "    if not param_list:\n",
    "\n",
    "        BB, Pi, GG, divisor, LL = fastfood_vars(DD, device=device)\n",
    "\n",
    "    else:\n",
    "\n",
    "        BB, Pi, GG, divisor, LL = param_list\n",
    "\n",
    "    # Padd x if needed\n",
    "    dd_pad = F.pad(x, pad=(0, LL - dd), value=0, mode=\"constant\")\n",
    "\n",
    "    # From left to right HGPiH(BX), where H is Walsh-Hadamard matrix\n",
    "    mul_1 = torch.mul(BB, dd_pad)\n",
    "    # HGPi(HBX)\n",
    "    mul_2 = fast_walsh_hadamard_torched(mul_1, 0, normalize=False)\n",
    "\n",
    "    # HG(PiHBX)\n",
    "    mul_3 = mul_2[Pi]\n",
    "\n",
    "    # H(GPiHBX)\n",
    "    mul_4 = torch.mul(mul_3, GG)\n",
    "\n",
    "    # (HGPiHBX)\n",
    "    mul_5 = fast_walsh_hadamard_torched(mul_4, 0, normalize=False)\n",
    "\n",
    "    ret = torch.div(mul_5[:DD], divisor * np.sqrt(float(DD) / LL))\n",
    "\n",
    "    return ret\n"
   ]
  },
  {
   "cell_type": "code",
   "execution_count": 5,
   "metadata": {},
   "outputs": [],
   "source": [
    "class FastfoodWrapper(nn.Module):\n",
    "    def __init__(self, module, intrinsic_dimension, device):\n",
    "        \"\"\"\n",
    "        Wrapper to estimate the intrinsic dimensionality of the\n",
    "        objective landscape for a specific task given a specific model using FastFood transform\n",
    "        :param module: pytorch nn.Module\n",
    "        :param intrinsic_dimension: dimensionality within which we search for solution\n",
    "        :param device: cuda device id\n",
    "        \"\"\"\n",
    "        super(FastfoodWrapper, self).__init__()\n",
    "\n",
    "        # Hide this from inspection by get_parameters()\n",
    "        self.m = [module]\n",
    "\n",
    "        self.name_base_localname = []\n",
    "\n",
    "        # Stores the initial value: \\theta_{0}^{D}\n",
    "        self.initial_value = dict()\n",
    "\n",
    "        # Fastfood parameters\n",
    "        self.fastfood_params = {}\n",
    "\n",
    "        # Parameter vector that is updated\n",
    "        # Initialised with zeros as per text: \\theta^{d}\n",
    "        V = nn.Parameter(torch.zeros((intrinsic_dimension)).to(device))\n",
    "        self.register_parameter(\"V\", V)\n",
    "        v_size = (intrinsic_dimension,)\n",
    "\n",
    "        # Iterate over layers in the module\n",
    "        for name, param in module.named_parameters():\n",
    "            # If param requires grad update\n",
    "            if param.requires_grad:\n",
    "\n",
    "                # Saves the initial values of the initialised parameters from param.data and sets them to no grad.\n",
    "                # (initial values are the 'origin' of the search)\n",
    "                self.initial_value[name] = v0 = (\n",
    "                    param.clone().detach().requires_grad_(False).to(device)\n",
    "                )\n",
    "\n",
    "                # Generate fastfood parameters\n",
    "                DD = np.prod(v0.size())\n",
    "                self.fastfood_params[name] = fastfood_vars(DD, device)\n",
    "\n",
    "                base, localname = module, name\n",
    "                while \".\" in localname:\n",
    "                    prefix, localname = localname.split(\".\", 1)\n",
    "                    base = base.__getattr__(prefix)\n",
    "                self.name_base_localname.append((name, base, localname))\n",
    "\n",
    "        for name, base, localname in self.name_base_localname:\n",
    "            delattr(base, localname)\n",
    "\n",
    "    def forward(self, x):\n",
    "        # Iterate over layers\n",
    "        for name, base, localname in self.name_base_localname:\n",
    "\n",
    "            init_shape = self.initial_value[name].size()\n",
    "            DD = np.prod(init_shape)\n",
    "\n",
    "            # Fastfood transform te replace dence P\n",
    "            ray = fastfood_torched(self.V, DD, self.fastfood_params[name]).view(\n",
    "                init_shape\n",
    "            )\n",
    "\n",
    "            param = self.initial_value[name] + ray\n",
    "\n",
    "            setattr(base, localname, param)\n",
    "\n",
    "        # Pass through the model, by getting hte module from a list self.m\n",
    "        module = self.m[0]\n",
    "        x = module(x)\n",
    "        return x\n"
   ]
  },
  {
   "cell_type": "code",
   "execution_count": 6,
   "metadata": {},
   "outputs": [],
   "source": [
    "class DenseWrap(nn.Module):\n",
    "    def __init__(self, module, intrinsic_dimension, device):\n",
    "        \"\"\"\n",
    "        Wrapper to estimate the intrinsic dimensionality of the\n",
    "        objective landscape for a specific task given a specific model\n",
    "        :param module: pytorch nn.Module\n",
    "        :param intrinsic_dimension: dimensionality within which we search for solution\n",
    "        :param device: cuda device id\n",
    "        \"\"\"\n",
    "        super(DenseWrap, self).__init__()\n",
    "\n",
    "        # Hide this from inspection by get_parameters()\n",
    "        self.m = [module]\n",
    "\n",
    "        self.name_base_localname = []\n",
    "\n",
    "        # Stores the initial value: \\theta_{0}^{D}\n",
    "        self.initial_value = dict()\n",
    "\n",
    "        # Stores the randomly generated projection matrix P\n",
    "        self.random_matrix = dict()\n",
    "\n",
    "        # Parameter vector that is updated, initialised with zeros as per text: \\theta^{d}\n",
    "        V = nn.Parameter(torch.zeros((intrinsic_dimension, 1)).to(device))\n",
    "        self.register_parameter(\"V\", V)\n",
    "        v_size = (intrinsic_dimension,)\n",
    "\n",
    "        # Iterates over layers in the Neural Network\n",
    "        for name, param in module.named_parameters():\n",
    "            # If the parameter requires gradient update\n",
    "            if param.requires_grad:\n",
    "\n",
    "                # Saves the initial values of the initialised parameters from param.data and sets them to no grad.\n",
    "                # (initial values are the 'origin' of the search)\n",
    "                self.initial_value[name] = v0 = (\n",
    "                    param.clone().detach().requires_grad_(False).to(device)\n",
    "                )\n",
    "\n",
    "                # If v0.size() is [4, 3], then below operation makes it [4, 3, v_size]\n",
    "                matrix_size = v0.size() + v_size\n",
    "\n",
    "                # Generates random projection matrices P, sets them to no grad\n",
    "                self.random_matrix[name] = (\n",
    "                    torch.randn(matrix_size, requires_grad=False).to(device)\n",
    "                    / intrinsic_dimension**0.5\n",
    "                )\n",
    "\n",
    "                # NOTE!: lines below are not clear!\n",
    "                base, localname = module, name\n",
    "                while \".\" in localname:\n",
    "                    prefix, localname = localname.split(\".\", 1)\n",
    "                    base = base.__getattr__(prefix)\n",
    "                self.name_base_localname.append((name, base, localname))\n",
    "\n",
    "        for name, base, localname in self.name_base_localname:\n",
    "            delattr(base, localname)\n",
    "\n",
    "    def forward(self, x):\n",
    "        # Iterate over the layers\n",
    "        for name, base, localname in self.name_base_localname:\n",
    "\n",
    "            # Product between matrix P and \\theta^{d}\n",
    "            ray = torch.matmul(self.random_matrix[name], self.V)\n",
    "\n",
    "            # Add the \\theta_{0}^{D} to P \\dot \\theta^{d}\n",
    "            param = self.initial_value[name] + torch.squeeze(ray, -1)\n",
    "\n",
    "            setattr(base, localname, param)\n",
    "\n",
    "        # Pass through the model, by getting the module from a list self.m\n",
    "        module = self.m[0]\n",
    "        x = module(x)\n",
    "        return x\n"
   ]
  },
  {
   "cell_type": "code",
   "execution_count": 7,
   "metadata": {},
   "outputs": [
    {
     "data": {
      "text/plain": [
       "'class Classifier(nn.Module):\\n    def __init__(self, input_dim, n_classes):\\n        super(Classifier, self).__init__()\\n        self.fc = nn.Linear(input_dim, n_classes)\\n        self.maxpool = nn.AdaptiveMaxPool2d(1)\\n\\n    def forward(self, x):\\n        x = self.maxpool(x)\\n        x = x.reshape(x.size(0), -1)\\n        x = self.fc(x)\\n        return x\\n\\n\\ndef get_resnet(encoder_name, num_classes, pretrained=False):\\n    assert encoder_name in [\\n        \"resnet18\",\\n        \"resnet50\",\\n    ], \"{} is a wrong encoder name!\".format(encoder_name)\\n    if encoder_name == \"resnet18\":\\n        model = models.resnet18(pretrained=pretrained)\\n        latent_dim = 512\\n    else:\\n        model = models.resnet50(pretrained=pretrained)\\n        latent_dim = 2048\\n    children = list(model.children())[:-2] + [Classifier(latent_dim, num_classes)]\\n    model = torch.nn.Sequential(*children)\\n    return model\\n\\n\\n# Get model and wrap it in fastfood\\nmodel = get_resnet(\"resnet18\", num_classes=YOUR_NUMBER_OF_CLASSES).cuda()\\nmodel = FastfoodWrapper(model, intrinsic_dimension=100, device=device)'"
      ]
     },
     "execution_count": 7,
     "metadata": {},
     "output_type": "execute_result"
    }
   ],
   "source": [
    "# implementig the code from the paper https://arxiv.org/abs/1804.08838 in pytorch\n",
    "\"\"\"class Classifier(nn.Module):\n",
    "    def __init__(self, input_dim, n_classes):\n",
    "        super(Classifier, self).__init__()\n",
    "        self.fc = nn.Linear(input_dim, n_classes)\n",
    "        self.maxpool = nn.AdaptiveMaxPool2d(1)\n",
    "\n",
    "    def forward(self, x):\n",
    "        x = self.maxpool(x)\n",
    "        x = x.reshape(x.size(0), -1)\n",
    "        x = self.fc(x)\n",
    "        return x\n",
    "\n",
    "\n",
    "def get_resnet(encoder_name, num_classes, pretrained=False):\n",
    "    assert encoder_name in [\n",
    "        \"resnet18\",\n",
    "        \"resnet50\",\n",
    "    ], \"{} is a wrong encoder name!\".format(encoder_name)\n",
    "    if encoder_name == \"resnet18\":\n",
    "        model = models.resnet18(pretrained=pretrained)\n",
    "        latent_dim = 512\n",
    "    else:\n",
    "        model = models.resnet50(pretrained=pretrained)\n",
    "        latent_dim = 2048\n",
    "    children = list(model.children())[:-2] + [Classifier(latent_dim, num_classes)]\n",
    "    model = torch.nn.Sequential(*children)\n",
    "    return model\n",
    "\n",
    "\n",
    "# Get model and wrap it in fastfood\n",
    "model = get_resnet(\"resnet18\", num_classes=YOUR_NUMBER_OF_CLASSES).cuda()\n",
    "model = FastfoodWrapper(model, intrinsic_dimension=100, device=device)\"\"\"\n"
   ]
  },
  {
   "cell_type": "code",
   "execution_count": 8,
   "metadata": {},
   "outputs": [
    {
     "name": "stdout",
     "output_type": "stream",
     "text": [
      "Files already downloaded and verified\n",
      "Files already downloaded and verified\n"
     ]
    }
   ],
   "source": [
    "BATCH_SIZE = 128\n",
    "DATASET_NAME = \"CIFAR10\"\n",
    "\n",
    "img_transform = transforms.Compose(\n",
    "    [transforms.ToTensor()]\n",
    ")\n",
    "\n",
    "train_dataset = None\n",
    "test_dataset = None\n",
    "if DATASET_NAME == \"MNIST\":\n",
    "    train_dataset = MNIST(\n",
    "        root=\"./data/MNIST\", download=True, train=True, transform=img_transform\n",
    "    )\n",
    "    test_dataset = MNIST(\n",
    "    root=\"./data/MNIST\", download=True, train=False, transform=img_transform\n",
    "    )\n",
    "elif DATASET_NAME == \"CIFAR10\":\n",
    "    train_dataset = CIFAR10(\n",
    "    root=\"./data/CIFAR10\", download=True, train=True, transform=img_transform\n",
    "    )\n",
    "    test_dataset = CIFAR10(\n",
    "    root=\"./data/CIFAR10\", download=True, train=False, transform=img_transform\n",
    "    )\n",
    "else:\n",
    "    raise Exception(\"Name of dataset not in: [MNIST, CIFAR10]\")\n",
    "\n"
   ]
  },
  {
   "cell_type": "code",
   "execution_count": 9,
   "metadata": {},
   "outputs": [
    {
     "data": {
      "application/vnd.plotly.v1+json": {
       "config": {
        "plotlyServerURL": "https://plot.ly"
       },
       "data": [
        {
         "hovertemplate": "x: %{x}<br>y: %{y}<br>color: [%{z[0]}, %{z[1]}, %{z[2]}]<extra></extra>",
         "name": "0",
         "source": "data:image/png;base64,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",
         "type": "image",
         "xaxis": "x",
         "yaxis": "y"
        }
       ],
       "layout": {
        "margin": {
         "t": 60
        },
        "template": {
         "data": {
          "bar": [
           {
            "error_x": {
             "color": "#2a3f5f"
            },
            "error_y": {
             "color": "#2a3f5f"
            },
            "marker": {
             "line": {
              "color": "#E5ECF6",
              "width": 0.5
             },
             "pattern": {
              "fillmode": "overlay",
              "size": 10,
              "solidity": 0.2
             }
            },
            "type": "bar"
           }
          ],
          "barpolar": [
           {
            "marker": {
             "line": {
              "color": "#E5ECF6",
              "width": 0.5
             },
             "pattern": {
              "fillmode": "overlay",
              "size": 10,
              "solidity": 0.2
             }
            },
            "type": "barpolar"
           }
          ],
          "carpet": [
           {
            "aaxis": {
             "endlinecolor": "#2a3f5f",
             "gridcolor": "white",
             "linecolor": "white",
             "minorgridcolor": "white",
             "startlinecolor": "#2a3f5f"
            },
            "baxis": {
             "endlinecolor": "#2a3f5f",
             "gridcolor": "white",
             "linecolor": "white",
             "minorgridcolor": "white",
             "startlinecolor": "#2a3f5f"
            },
            "type": "carpet"
           }
          ],
          "choropleth": [
           {
            "colorbar": {
             "outlinewidth": 0,
             "ticks": ""
            },
            "type": "choropleth"
           }
          ],
          "contour": [
           {
            "colorbar": {
             "outlinewidth": 0,
             "ticks": ""
            },
            "colorscale": [
             [
              0,
              "#0d0887"
             ],
             [
              0.1111111111111111,
              "#46039f"
             ],
             [
              0.2222222222222222,
              "#7201a8"
             ],
             [
              0.3333333333333333,
              "#9c179e"
             ],
             [
              0.4444444444444444,
              "#bd3786"
             ],
             [
              0.5555555555555556,
              "#d8576b"
             ],
             [
              0.6666666666666666,
              "#ed7953"
             ],
             [
              0.7777777777777778,
              "#fb9f3a"
             ],
             [
              0.8888888888888888,
              "#fdca26"
             ],
             [
              1,
              "#f0f921"
             ]
            ],
            "type": "contour"
           }
          ],
          "contourcarpet": [
           {
            "colorbar": {
             "outlinewidth": 0,
             "ticks": ""
            },
            "type": "contourcarpet"
           }
          ],
          "heatmap": [
           {
            "colorbar": {
             "outlinewidth": 0,
             "ticks": ""
            },
            "colorscale": [
             [
              0,
              "#0d0887"
             ],
             [
              0.1111111111111111,
              "#46039f"
             ],
             [
              0.2222222222222222,
              "#7201a8"
             ],
             [
              0.3333333333333333,
              "#9c179e"
             ],
             [
              0.4444444444444444,
              "#bd3786"
             ],
             [
              0.5555555555555556,
              "#d8576b"
             ],
             [
              0.6666666666666666,
              "#ed7953"
             ],
             [
              0.7777777777777778,
              "#fb9f3a"
             ],
             [
              0.8888888888888888,
              "#fdca26"
             ],
             [
              1,
              "#f0f921"
             ]
            ],
            "type": "heatmap"
           }
          ],
          "heatmapgl": [
           {
            "colorbar": {
             "outlinewidth": 0,
             "ticks": ""
            },
            "colorscale": [
             [
              0,
              "#0d0887"
             ],
             [
              0.1111111111111111,
              "#46039f"
             ],
             [
              0.2222222222222222,
              "#7201a8"
             ],
             [
              0.3333333333333333,
              "#9c179e"
             ],
             [
              0.4444444444444444,
              "#bd3786"
             ],
             [
              0.5555555555555556,
              "#d8576b"
             ],
             [
              0.6666666666666666,
              "#ed7953"
             ],
             [
              0.7777777777777778,
              "#fb9f3a"
             ],
             [
              0.8888888888888888,
              "#fdca26"
             ],
             [
              1,
              "#f0f921"
             ]
            ],
            "type": "heatmapgl"
           }
          ],
          "histogram": [
           {
            "marker": {
             "pattern": {
              "fillmode": "overlay",
              "size": 10,
              "solidity": 0.2
             }
            },
            "type": "histogram"
           }
          ],
          "histogram2d": [
           {
            "colorbar": {
             "outlinewidth": 0,
             "ticks": ""
            },
            "colorscale": [
             [
              0,
              "#0d0887"
             ],
             [
              0.1111111111111111,
              "#46039f"
             ],
             [
              0.2222222222222222,
              "#7201a8"
             ],
             [
              0.3333333333333333,
              "#9c179e"
             ],
             [
              0.4444444444444444,
              "#bd3786"
             ],
             [
              0.5555555555555556,
              "#d8576b"
             ],
             [
              0.6666666666666666,
              "#ed7953"
             ],
             [
              0.7777777777777778,
              "#fb9f3a"
             ],
             [
              0.8888888888888888,
              "#fdca26"
             ],
             [
              1,
              "#f0f921"
             ]
            ],
            "type": "histogram2d"
           }
          ],
          "histogram2dcontour": [
           {
            "colorbar": {
             "outlinewidth": 0,
             "ticks": ""
            },
            "colorscale": [
             [
              0,
              "#0d0887"
             ],
             [
              0.1111111111111111,
              "#46039f"
             ],
             [
              0.2222222222222222,
              "#7201a8"
             ],
             [
              0.3333333333333333,
              "#9c179e"
             ],
             [
              0.4444444444444444,
              "#bd3786"
             ],
             [
              0.5555555555555556,
              "#d8576b"
             ],
             [
              0.6666666666666666,
              "#ed7953"
             ],
             [
              0.7777777777777778,
              "#fb9f3a"
             ],
             [
              0.8888888888888888,
              "#fdca26"
             ],
             [
              1,
              "#f0f921"
             ]
            ],
            "type": "histogram2dcontour"
           }
          ],
          "mesh3d": [
           {
            "colorbar": {
             "outlinewidth": 0,
             "ticks": ""
            },
            "type": "mesh3d"
           }
          ],
          "parcoords": [
           {
            "line": {
             "colorbar": {
              "outlinewidth": 0,
              "ticks": ""
             }
            },
            "type": "parcoords"
           }
          ],
          "pie": [
           {
            "automargin": true,
            "type": "pie"
           }
          ],
          "scatter": [
           {
            "fillpattern": {
             "fillmode": "overlay",
             "size": 10,
             "solidity": 0.2
            },
            "type": "scatter"
           }
          ],
          "scatter3d": [
           {
            "line": {
             "colorbar": {
              "outlinewidth": 0,
              "ticks": ""
             }
            },
            "marker": {
             "colorbar": {
              "outlinewidth": 0,
              "ticks": ""
             }
            },
            "type": "scatter3d"
           }
          ],
          "scattercarpet": [
           {
            "marker": {
             "colorbar": {
              "outlinewidth": 0,
              "ticks": ""
             }
            },
            "type": "scattercarpet"
           }
          ],
          "scattergeo": [
           {
            "marker": {
             "colorbar": {
              "outlinewidth": 0,
              "ticks": ""
             }
            },
            "type": "scattergeo"
           }
          ],
          "scattergl": [
           {
            "marker": {
             "colorbar": {
              "outlinewidth": 0,
              "ticks": ""
             }
            },
            "type": "scattergl"
           }
          ],
          "scattermapbox": [
           {
            "marker": {
             "colorbar": {
              "outlinewidth": 0,
              "ticks": ""
             }
            },
            "type": "scattermapbox"
           }
          ],
          "scatterpolar": [
           {
            "marker": {
             "colorbar": {
              "outlinewidth": 0,
              "ticks": ""
             }
            },
            "type": "scatterpolar"
           }
          ],
          "scatterpolargl": [
           {
            "marker": {
             "colorbar": {
              "outlinewidth": 0,
              "ticks": ""
             }
            },
            "type": "scatterpolargl"
           }
          ],
          "scatterternary": [
           {
            "marker": {
             "colorbar": {
              "outlinewidth": 0,
              "ticks": ""
             }
            },
            "type": "scatterternary"
           }
          ],
          "surface": [
           {
            "colorbar": {
             "outlinewidth": 0,
             "ticks": ""
            },
            "colorscale": [
             [
              0,
              "#0d0887"
             ],
             [
              0.1111111111111111,
              "#46039f"
             ],
             [
              0.2222222222222222,
              "#7201a8"
             ],
             [
              0.3333333333333333,
              "#9c179e"
             ],
             [
              0.4444444444444444,
              "#bd3786"
             ],
             [
              0.5555555555555556,
              "#d8576b"
             ],
             [
              0.6666666666666666,
              "#ed7953"
             ],
             [
              0.7777777777777778,
              "#fb9f3a"
             ],
             [
              0.8888888888888888,
              "#fdca26"
             ],
             [
              1,
              "#f0f921"
             ]
            ],
            "type": "surface"
           }
          ],
          "table": [
           {
            "cells": {
             "fill": {
              "color": "#EBF0F8"
             },
             "line": {
              "color": "white"
             }
            },
            "header": {
             "fill": {
              "color": "#C8D4E3"
             },
             "line": {
              "color": "white"
             }
            },
            "type": "table"
           }
          ]
         },
         "layout": {
          "annotationdefaults": {
           "arrowcolor": "#2a3f5f",
           "arrowhead": 0,
           "arrowwidth": 1
          },
          "autotypenumbers": "strict",
          "coloraxis": {
           "colorbar": {
            "outlinewidth": 0,
            "ticks": ""
           }
          },
          "colorscale": {
           "diverging": [
            [
             0,
             "#8e0152"
            ],
            [
             0.1,
             "#c51b7d"
            ],
            [
             0.2,
             "#de77ae"
            ],
            [
             0.3,
             "#f1b6da"
            ],
            [
             0.4,
             "#fde0ef"
            ],
            [
             0.5,
             "#f7f7f7"
            ],
            [
             0.6,
             "#e6f5d0"
            ],
            [
             0.7,
             "#b8e186"
            ],
            [
             0.8,
             "#7fbc41"
            ],
            [
             0.9,
             "#4d9221"
            ],
            [
             1,
             "#276419"
            ]
           ],
           "sequential": [
            [
             0,
             "#0d0887"
            ],
            [
             0.1111111111111111,
             "#46039f"
            ],
            [
             0.2222222222222222,
             "#7201a8"
            ],
            [
             0.3333333333333333,
             "#9c179e"
            ],
            [
             0.4444444444444444,
             "#bd3786"
            ],
            [
             0.5555555555555556,
             "#d8576b"
            ],
            [
             0.6666666666666666,
             "#ed7953"
            ],
            [
             0.7777777777777778,
             "#fb9f3a"
            ],
            [
             0.8888888888888888,
             "#fdca26"
            ],
            [
             1,
             "#f0f921"
            ]
           ],
           "sequentialminus": [
            [
             0,
             "#0d0887"
            ],
            [
             0.1111111111111111,
             "#46039f"
            ],
            [
             0.2222222222222222,
             "#7201a8"
            ],
            [
             0.3333333333333333,
             "#9c179e"
            ],
            [
             0.4444444444444444,
             "#bd3786"
            ],
            [
             0.5555555555555556,
             "#d8576b"
            ],
            [
             0.6666666666666666,
             "#ed7953"
            ],
            [
             0.7777777777777778,
             "#fb9f3a"
            ],
            [
             0.8888888888888888,
             "#fdca26"
            ],
            [
             1,
             "#f0f921"
            ]
           ]
          },
          "colorway": [
           "#636efa",
           "#EF553B",
           "#00cc96",
           "#ab63fa",
           "#FFA15A",
           "#19d3f3",
           "#FF6692",
           "#B6E880",
           "#FF97FF",
           "#FECB52"
          ],
          "font": {
           "color": "#2a3f5f"
          },
          "geo": {
           "bgcolor": "white",
           "lakecolor": "white",
           "landcolor": "#E5ECF6",
           "showlakes": true,
           "showland": true,
           "subunitcolor": "white"
          },
          "hoverlabel": {
           "align": "left"
          },
          "hovermode": "closest",
          "mapbox": {
           "style": "light"
          },
          "paper_bgcolor": "white",
          "plot_bgcolor": "#E5ECF6",
          "polar": {
           "angularaxis": {
            "gridcolor": "white",
            "linecolor": "white",
            "ticks": ""
           },
           "bgcolor": "#E5ECF6",
           "radialaxis": {
            "gridcolor": "white",
            "linecolor": "white",
            "ticks": ""
           }
          },
          "scene": {
           "xaxis": {
            "backgroundcolor": "#E5ECF6",
            "gridcolor": "white",
            "gridwidth": 2,
            "linecolor": "white",
            "showbackground": true,
            "ticks": "",
            "zerolinecolor": "white"
           },
           "yaxis": {
            "backgroundcolor": "#E5ECF6",
            "gridcolor": "white",
            "gridwidth": 2,
            "linecolor": "white",
            "showbackground": true,
            "ticks": "",
            "zerolinecolor": "white"
           },
           "zaxis": {
            "backgroundcolor": "#E5ECF6",
            "gridcolor": "white",
            "gridwidth": 2,
            "linecolor": "white",
            "showbackground": true,
            "ticks": "",
            "zerolinecolor": "white"
           }
          },
          "shapedefaults": {
           "line": {
            "color": "#2a3f5f"
           }
          },
          "ternary": {
           "aaxis": {
            "gridcolor": "white",
            "linecolor": "white",
            "ticks": ""
           },
           "baxis": {
            "gridcolor": "white",
            "linecolor": "white",
            "ticks": ""
           },
           "bgcolor": "#E5ECF6",
           "caxis": {
            "gridcolor": "white",
            "linecolor": "white",
            "ticks": ""
           }
          },
          "title": {
           "x": 0.05
          },
          "xaxis": {
           "automargin": true,
           "gridcolor": "white",
           "linecolor": "white",
           "ticks": "",
           "title": {
            "standoff": 15
           },
           "zerolinecolor": "white",
           "zerolinewidth": 2
          },
          "yaxis": {
           "automargin": true,
           "gridcolor": "white",
           "linecolor": "white",
           "ticks": "",
           "title": {
            "standoff": 15
           },
           "zerolinecolor": "white",
           "zerolinewidth": 2
          }
         }
        },
        "xaxis": {
         "anchor": "y",
         "domain": [
          0,
          1
         ]
        },
        "yaxis": {
         "anchor": "x",
         "domain": [
          0,
          1
         ]
        }
       }
      }
     },
     "metadata": {},
     "output_type": "display_data"
    }
   ],
   "source": [
    "if DATASET_NAME == \"MNIST\":\n",
    "    channel_in = 1\n",
    "    input_dim = 28*28*channel_in\n",
    "    output_dim = 10\n",
    "    idx = 0 # @param {type:\"slider\", min:0, max:59999, step:1}\n",
    "else:\n",
    "    channel_in = 3\n",
    "    input_dim = 32*32*channel_in\n",
    "    output_dim = 10\n",
    "    idx = 0 # @param {type:\"slider\", min:0, max:49999, step:1}\n",
    "\n",
    "px.imshow(train_dataset.data[idx])"
   ]
  },
  {
   "cell_type": "code",
   "execution_count": 10,
   "metadata": {},
   "outputs": [],
   "source": [
    "# Class for a Fully Connected Network\n",
    "class FullyConnectedNetwork(nn.Module):\n",
    "    def __init__(self, input_dim, hidden_dim, output_dim, num_layers):\n",
    "        super(FullyConnectedNetwork, self).__init__()\n",
    "        self.num_layers = num_layers\n",
    "        self.fc_in = nn.Linear(input_dim, hidden_dim)\n",
    "        if num_layers > 0:\n",
    "            self.fcs = nn.ModuleList([nn.Linear(hidden_dim, hidden_dim) for _ in range(num_layers)])\n",
    "        self.fc_out = nn.Linear(hidden_dim, output_dim)\n",
    "\n",
    "    def forward(self, x):\n",
    "        x = torch.flatten(x, start_dim=1)\n",
    "        x = F.relu(self.fc_in(x))\n",
    "        if self.num_layers > 0:\n",
    "            for fc in self.fcs: \n",
    "                x = F.relu(fc(x))\n",
    "        x = self.fc_out(x)\n",
    "        return x\n"
   ]
  },
  {
   "cell_type": "code",
   "execution_count": 15,
   "metadata": {},
   "outputs": [],
   "source": [
    "# Class for Standard LeNet Network, reference http://vision.stanford.edu/cs598_spring07/papers/Lecun98.pdf with some modification to follow the same number of parameters as the main paper for the task does\n",
    "class LeNet(nn.Module):\n",
    "    def __init__(self, input_dim, output_dim):\n",
    "        super(LeNet, self).__init__()\n",
    "        # 6 kernels 5x5\n",
    "        self.conv1 = nn.Conv2d(input_dim, 6, 5, padding='valid',)\n",
    "        # max-pooling over 2x2\n",
    "        self.pool1 = nn.MaxPool2d(2, stride=2)\n",
    "        # 16 kernels 5x5\n",
    "        self.conv2 = nn.Conv2d(6, 16, 5, padding='valid')\n",
    "        # max-pooling over 2x2\n",
    "        self.pool2 = nn.MaxPool2d(2, stride=2)\n",
    "        # 120 kernels 4x4 to match the dimensionality of the fully connected network\n",
    "        self.conv3 = nn.Conv2d(16, 120, 5,)\n",
    "        # 120 fully connected neurons, too many parameter in this case w.r.t. the paper\n",
    "        #self.fc1 = nn.Linear(16 * 5 * 5, 120,)\n",
    "        self.flat = nn.Flatten(start_dim=1)\n",
    "        # 84 fully connected neurons\n",
    "        self.fc2 = nn.Linear(120, 84)\n",
    "        # 10 fully connected neurons\n",
    "        self.fc3 = nn.Linear(84, output_dim,)\n",
    "\n",
    "    def forward(self, x):\n",
    "        #x = x.view(-1, 1, 28, 28)\n",
    "        print(x.shape)\n",
    "        x = self.conv1(x)\n",
    "        print(x.shape)\n",
    "        x = self.pool1(F.relu(x))\n",
    "        print(x.shape)\n",
    "        x = self.pool2(F.relu(self.conv2(x)))\n",
    "        print(x.shape)\n",
    "        x = F.relu(self.conv3(x))\n",
    "        x = self.flat(x)\n",
    "        #x = F.relu(self.fc1(x))\n",
    "        x = F.relu(self.fc2(x))\n",
    "        x = self.fc3(x)\n",
    "        return x\n"
   ]
  },
  {
   "cell_type": "code",
   "execution_count": 7,
   "metadata": {},
   "outputs": [],
   "source": [
    "from torch.nn.modules.utils import _pair\n",
    "\n",
    "# from https://discuss.pytorch.org/t/locally-connected-layers/26979\n",
    "class LocallyConnected2d(nn.Module):\n",
    "    def __init__(self, in_channels, out_channels, output_size, kernel_size, stride=1, bias=True):\n",
    "        super(LocallyConnected2d, self).__init__()\n",
    "        output_size = _pair(output_size)\n",
    "        self.weight = nn.Parameter(\n",
    "            nn.init.kaiming_normal_(torch.randn(1, out_channels, in_channels, output_size[0], output_size[1], kernel_size**2), nonlinearity='relu')\n",
    "        )\n",
    "        if bias:\n",
    "            self.bias = nn.Parameter(nn.init.kaiming_normal_(\n",
    "                torch.randn(1, out_channels, output_size[0], output_size[1]), nonlinearity='relu')\n",
    "            )\n",
    "        else:\n",
    "            self.register_parameter('bias', None)\n",
    "        self.kernel_size = _pair(kernel_size)\n",
    "        self.stride = _pair(stride)\n",
    "        \n",
    "    def forward(self, x):\n",
    "        _, c, h, w = x.size()\n",
    "        kh, kw = self.kernel_size\n",
    "        dh, dw = self.stride\n",
    "        x = x.unfold(2, kh, dh).unfold(3, kw, dw)\n",
    "        x = x.contiguous().view(*x.size()[:-2], -1)\n",
    "        # Sum in in_channel and kernel_size dims\n",
    "        out = (x.unsqueeze(1) * self.weight).sum([2, -1])\n",
    "        if self.bias is not None:\n",
    "            out += self.bias\n",
    "        return out\n",
    "\n",
    "# Class for Untied LeNet Network\n",
    "class Untied_LeNet(nn.Module):\n",
    "    def __init__(self, input_dim, output_dim):\n",
    "        super(Untied_LeNet, self).__init__()\n",
    "        # 6 kernels 5x5\n",
    "        self.conv1 = LocallyConnected2d(input_dim, 6, (24,24), 5)\n",
    "        # max-pooling over 2x2\n",
    "        self.pool1 = nn.MaxPool2d(2, stride=2)\n",
    "        # 16 kernels 5x5\n",
    "        self.conv2 = LocallyConnected2d(6, 16, (8,8), 5)\n",
    "        # max-pooling over 2x2\n",
    "        self.pool2 = nn.MaxPool2d(2, stride=2)\n",
    "        # 120 kernels 4x4 to match the dimensionality of the fully connected network\n",
    "        self.conv3 = LocallyConnected2d(16, 120, (1,1), 4)\n",
    "        # 120 fully connected neurons, too many parameter in this case w.r.t. the paper\n",
    "        #self.fc1 = nn.Linear(16 * 5 * 5, 120,)\n",
    "        self.flat = nn.Flatten(start_dim=1)\n",
    "        # 84 fully connected neurons\n",
    "        self.fc2 = nn.Linear(120, 84)\n",
    "        # 10 fully connected neurons\n",
    "        self.fc3 = nn.Linear(84, output_dim,)\n",
    "\n",
    "    def forward(self, x):\n",
    "        #x = x.view(-1, 1, 28, 28)\n",
    "        x = self.pool1(F.relu(self.conv1(x)))\n",
    "        x = self.pool2(F.relu(self.conv2(x)))\n",
    "        x = F.relu(self.conv3(x))\n",
    "        x = self.flat(x)\n",
    "        #x = F.relu(self.fc1(x))\n",
    "        x = F.relu(self.fc2(x))\n",
    "        x = self.fc3(x)\n",
    "        return x"
   ]
  },
  {
   "cell_type": "code",
   "execution_count": 10,
   "metadata": {},
   "outputs": [],
   "source": [
    "# Class for FC-LeNet Network\n",
    "class FcLeNet(nn.Module):\n",
    "    def __init__(self, input_dim, output_dim):\n",
    "        super(FcLeNet, self).__init__()\n",
    "        # 6 kernels 5x5\n",
    "        self.fcconv1 = nn.Linear(input_dim, 3456)\n",
    "        # max-pooling over 2x2\n",
    "        self.pool1 = nn.MaxPool2d(2, stride=2)\n",
    "        # 16 kernels 5x5\n",
    "        self.fcconv2 = nn.Linear(864, 1024)\n",
    "        # max-pooling over 2x2\n",
    "        self.pool2 = nn.MaxPool2d(2, stride=2)\n",
    "        # 120 kernels 4x4 to match the dimensionality of the fully connected network\n",
    "        self.fcconv3 = nn.Linear(256, 120)\n",
    "        # 120 fully connected neurons, too many parameter in this case w.r.t. the paper\n",
    "        #self.fc1 = nn.Linear(16 * 5 * 5, 120,)\n",
    "        self.flat = nn.Flatten(start_dim=1)\n",
    "        # 84 fully connected neurons\n",
    "        self.fc2 = nn.Linear(120, 84)\n",
    "        # 10 fully connected neurons\n",
    "        self.fc3 = nn.Linear(84, output_dim,)\n",
    "\n",
    "    def forward(self, x):\n",
    "        x = torch.flatten(x, start_dim=1)\n",
    "        x = self.pool1(F.relu(self.fcconv1(x)).view(-1,6,24,24))\n",
    "        x = self.flat(x)\n",
    "        x = self.pool2(F.relu(self.fcconv2(x)).view(-1,16,8,8))\n",
    "        x = self.flat(x)\n",
    "        x = F.relu(self.fcconv3(x))\n",
    "        #x = F.relu(self.fc1(x))\n",
    "        x = F.relu(self.fc2(x))\n",
    "        x = self.fc3(x)\n",
    "        return x\n"
   ]
  },
  {
   "cell_type": "code",
   "execution_count": 22,
   "metadata": {},
   "outputs": [],
   "source": [
    "# Class for FCTied-LeNet\n",
    "class FCTied_LeNet(nn.Module):\n",
    "    def __init__(self, input_dim, output_dim):\n",
    "        super(FCTied_LeNet, self).__init__()\n",
    "        # 6 kernels 5x5\n",
    "        self.conv1 = nn.Conv2d(input_dim, 6, 55, padding='same',)\n",
    "        # max-pooling over 2x2\n",
    "        self.pool1 = nn.MaxPool2d(2, stride=2)\n",
    "        # 16 kernels 5x5\n",
    "        self.conv2 = nn.Conv2d(6, 16, 27, padding='same')\n",
    "        # max-pooling over 2x2\n",
    "        self.pool2 = nn.MaxPool2d(2, stride=2)\n",
    "        # 120 kernels 4x4 to match the dimensionality of the fully connected network\n",
    "        self.conv3 = nn.Conv2d(16, 120, 7,)\n",
    "        # 120 fully connected neurons, too many parameter in this case w.r.t. the paper\n",
    "        #self.fc1 = nn.Linear(16 * 5 * 5, 120,)\n",
    "        self.flat = nn.Flatten(start_dim=1)\n",
    "        # 84 fully connected neurons\n",
    "        self.fc2 = nn.Linear(120, 84)\n",
    "        # 10 fully connected neurons\n",
    "        self.fc3 = nn.Linear(84, output_dim,)\n",
    "\n",
    "    def forward(self, x):\n",
    "        x = x.view(-1, 1, 28, 28)\n",
    "        x = self.pool1(F.relu(self.conv1(x)))\n",
    "        x = self.pool2(F.relu(self.conv2(x)))\n",
    "        x = F.relu(self.conv3(x))\n",
    "        x = self.flat(x)\n",
    "        #x = F.relu(self.fc1(x))\n",
    "        x = F.relu(self.fc2(x))\n",
    "        x = self.fc3(x)\n",
    "        return x\n"
   ]
  },
  {
   "cell_type": "code",
   "execution_count": 11,
   "metadata": {},
   "outputs": [
    {
     "name": "stdout",
     "output_type": "stream",
     "text": [
      "Number of parameters:  199210\n"
     ]
    }
   ],
   "source": [
    "hidden_dim = 200\n",
    "num_layers = 1\n",
    "model = FullyConnectedNetwork(input_dim, hidden_dim, output_dim, num_layers)\n",
    "model.to(device)\n",
    "\n",
    "num_params = sum(p.numel() for p in model.parameters() if p.requires_grad)\n",
    "print(\"Number of parameters: \", num_params)\n",
    "\n",
    "#save information to file\n",
    "with open('results.txt', 'a') as f:\n",
    "    f.write(\"\\n##############################################\")\n",
    "    f.write(f\"\\nNumber_of_parameters: {num_params}\")\n",
    "    f.write(f\"\\nhidden_dim: {hidden_dim}\")\n",
    "    f.write(f\"\\nnum_layers: {num_layers}\")\n",
    "f.close()\n"
   ]
  },
  {
   "cell_type": "code",
   "execution_count": 12,
   "metadata": {},
   "outputs": [
    {
     "name": "stdout",
     "output_type": "stream",
     "text": [
      "FullyConnectedNetwork(\n",
      "  (fc_in): Linear(in_features=784, out_features=200, bias=True)\n",
      "  (fcs): ModuleList(\n",
      "    (0): Linear(in_features=200, out_features=200, bias=True)\n",
      "  )\n",
      "  (fc_out): Linear(in_features=200, out_features=10, bias=True)\n",
      ")\n"
     ]
    }
   ],
   "source": [
    "modules = [module for module in model.modules()]\n",
    "# Print Model Summary\n",
    "print(modules[0])"
   ]
  },
  {
   "cell_type": "code",
   "execution_count": 16,
   "metadata": {},
   "outputs": [
    {
     "name": "stdout",
     "output_type": "stream",
     "text": [
      "Number of parameters: 62006\n"
     ]
    }
   ],
   "source": [
    "model = LeNet(channel_in, output_dim)\n",
    "model.to(device)\n",
    "\n",
    "num_params = sum(p.numel() for p in model.parameters() if p.requires_grad)\n",
    "print(\"Number of parameters: %d\" % num_params)\n",
    "\n",
    "with open('results.txt', 'a') as f:\n",
    "    f.write(\"\\n##############################################\")\n",
    "    f.write(f\"\\nNumber_of_parameters: {num_params}\")\n",
    "    f.write(\"\\ntype: LeNet\")\n",
    "f.close()"
   ]
  },
  {
   "cell_type": "code",
   "execution_count": 12,
   "metadata": {},
   "outputs": [
    {
     "name": "stdout",
     "output_type": "stream",
     "text": [
      "LeNet(\n",
      "  (conv1): Conv2d(3, 6, kernel_size=(5, 5), stride=(1, 1), padding=valid)\n",
      "  (pool1): MaxPool2d(kernel_size=2, stride=2, padding=0, dilation=1, ceil_mode=False)\n",
      "  (conv2): Conv2d(6, 16, kernel_size=(5, 5), stride=(1, 1), padding=valid)\n",
      "  (pool2): MaxPool2d(kernel_size=2, stride=2, padding=0, dilation=1, ceil_mode=False)\n",
      "  (conv3): Conv2d(16, 120, kernel_size=(4, 4), stride=(1, 1))\n",
      "  (flat): Flatten(start_dim=1, end_dim=-1)\n",
      "  (fc2): Linear(in_features=120, out_features=84, bias=True)\n",
      "  (fc3): Linear(in_features=84, out_features=10, bias=True)\n",
      ")\n"
     ]
    }
   ],
   "source": [
    "modules = [module for module in model.modules()]\n",
    "# Print Model Summary\n",
    "print(modules[0])"
   ]
  },
  {
   "cell_type": "code",
   "execution_count": 9,
   "metadata": {},
   "outputs": [
    {
     "name": "stdout",
     "output_type": "stream",
     "text": [
      "Number of parameters: 286334\n"
     ]
    }
   ],
   "source": [
    "model = Untied_LeNet(channel_in, output_dim)\n",
    "model.to(device)\n",
    "\n",
    "num_params = sum(p.numel() for p in model.parameters() if p.requires_grad)\n",
    "print(\"Number of parameters: %d\" % num_params)"
   ]
  },
  {
   "cell_type": "code",
   "execution_count": 11,
   "metadata": {},
   "outputs": [
    {
     "name": "stdout",
     "output_type": "stream",
     "text": [
      "Number of parameters: 3640574\n"
     ]
    }
   ],
   "source": [
    "model = FcLeNet(input_dim, output_dim)\n",
    "model.to(device)\n",
    "\n",
    "num_params = sum(p.numel() for p in model.parameters() if p.requires_grad)\n",
    "print(\"Number of parameters: %d\" % num_params)\n"
   ]
  },
  {
   "cell_type": "code",
   "execution_count": 12,
   "metadata": {},
   "outputs": [
    {
     "name": "stdout",
     "output_type": "stream",
     "text": [
      "FcLeNet(\n",
      "  (fcconv1): Linear(in_features=784, out_features=3456, bias=True)\n",
      "  (pool1): MaxPool2d(kernel_size=2, stride=2, padding=0, dilation=1, ceil_mode=False)\n",
      "  (fcconv2): Linear(in_features=864, out_features=1024, bias=True)\n",
      "  (pool2): MaxPool2d(kernel_size=2, stride=2, padding=0, dilation=1, ceil_mode=False)\n",
      "  (fcconv3): Linear(in_features=256, out_features=120, bias=True)\n",
      "  (flat): Flatten(start_dim=1, end_dim=-1)\n",
      "  (fc2): Linear(in_features=120, out_features=84, bias=True)\n",
      "  (fc3): Linear(in_features=84, out_features=10, bias=True)\n",
      ")\n"
     ]
    }
   ],
   "source": [
    "modules = [module for module in model.modules()]\n",
    "# Print Model Summary\n",
    "print(modules[0])"
   ]
  },
  {
   "cell_type": "code",
   "execution_count": 12,
   "metadata": {},
   "outputs": [
    {
     "ename": "NameError",
     "evalue": "name 'FCTied_LeNet' is not defined",
     "output_type": "error",
     "traceback": [
      "\u001b[1;31m---------------------------------------------------------------------------\u001b[0m",
      "\u001b[1;31mNameError\u001b[0m                                 Traceback (most recent call last)",
      "\u001b[1;32md:\\Antonio\\Sapienza\\Deep Learning & AAI\\Intrinsic_Dimension\\Intrinsic-Dimension\\intrinsic.ipynb Cella 20\u001b[0m in \u001b[0;36m<cell line: 1>\u001b[1;34m()\u001b[0m\n\u001b[1;32m----> <a href='vscode-notebook-cell:/d%3A/Antonio/Sapienza/Deep%20Learning%20%26%20AAI/Intrinsic_Dimension/Intrinsic-Dimension/intrinsic.ipynb#X25sZmlsZQ%3D%3D?line=0'>1</a>\u001b[0m model \u001b[39m=\u001b[39m FCTied_LeNet(channel_in, output_dim)\n\u001b[0;32m      <a href='vscode-notebook-cell:/d%3A/Antonio/Sapienza/Deep%20Learning%20%26%20AAI/Intrinsic_Dimension/Intrinsic-Dimension/intrinsic.ipynb#X25sZmlsZQ%3D%3D?line=1'>2</a>\u001b[0m model\u001b[39m.\u001b[39mto(device)\n\u001b[0;32m      <a href='vscode-notebook-cell:/d%3A/Antonio/Sapienza/Deep%20Learning%20%26%20AAI/Intrinsic_Dimension/Intrinsic-Dimension/intrinsic.ipynb#X25sZmlsZQ%3D%3D?line=3'>4</a>\u001b[0m num_params \u001b[39m=\u001b[39m \u001b[39msum\u001b[39m(p\u001b[39m.\u001b[39mnumel() \u001b[39mfor\u001b[39;00m p \u001b[39min\u001b[39;00m model\u001b[39m.\u001b[39mparameters() \u001b[39mif\u001b[39;00m p\u001b[39m.\u001b[39mrequires_grad)\n",
      "\u001b[1;31mNameError\u001b[0m: name 'FCTied_LeNet' is not defined"
     ]
    }
   ],
   "source": [
    "model = FCTied_LeNet(channel_in, output_dim)\n",
    "model.to(device)\n",
    "\n",
    "num_params = sum(p.numel() for p in model.parameters() if p.requires_grad)\n",
    "print(\"Number of parameters: %d\" % num_params)"
   ]
  },
  {
   "cell_type": "code",
   "execution_count": 17,
   "metadata": {},
   "outputs": [
    {
     "name": "stdout",
     "output_type": "stream",
     "text": [
      "Number of parameters: 150\n"
     ]
    }
   ],
   "source": [
    "intrinsic_dim = 150\n",
    "model_intrinsic = DenseWrap(model, intrinsic_dimension=intrinsic_dim, device=device)\n",
    "num_params_intrinsic = sum(p.numel() for p in model_intrinsic.parameters() if p.requires_grad)\n",
    "print(\"Number of parameters: %d\" % num_params_intrinsic)\n",
    "with open('results.txt', 'a') as f:\n",
    "    f.write(f\"\\nintrinsic_dim: {intrinsic_dim}\")\n",
    "f.close()"
   ]
  },
  {
   "cell_type": "code",
   "execution_count": 18,
   "metadata": {},
   "outputs": [
    {
     "name": "stderr",
     "output_type": "stream",
     "text": [
      "Train Epoch: 1 [ 128/50000 \tLoss: 2.303157]:   0%|          | 1/391 [00:00<01:13,  5.32it/s]"
     ]
    },
    {
     "name": "stdout",
     "output_type": "stream",
     "text": [
      "torch.Size([128, 3, 32, 32])\n",
      "torch.Size([128, 6, 28, 28])\n",
      "torch.Size([128, 6, 14, 14])\n",
      "torch.Size([128, 16, 5, 5])\n",
      "torch.Size([128, 3, 32, 32])\n",
      "torch.Size([128, 6, 28, 28])\n",
      "torch.Size([128, 6, 14, 14])\n",
      "torch.Size([128, 16, 5, 5])\n"
     ]
    },
    {
     "name": "stderr",
     "output_type": "stream",
     "text": [
      "Train Epoch: 1 [ 2560/50000 \tLoss: 2.300147]:   5%|▌         | 20/391 [00:00<00:05, 66.09it/s]"
     ]
    },
    {
     "name": "stdout",
     "output_type": "stream",
     "text": [
      "torch.Size([128, 3, 32, 32])\n",
      "torch.Size([128, 6, 28, 28])\n",
      "torch.Size([128, 6, 14, 14])\n",
      "torch.Size([128, 16, 5, 5])\n",
      "torch.Size([128, 3, 32, 32])\n",
      "torch.Size([128, 6, 28, 28])\n",
      "torch.Size([128, 6, 14, 14])\n",
      "torch.Size([128, 16, 5, 5])\n",
      "torch.Size([128, 3, 32, 32])\n",
      "torch.Size([128, 6, 28, 28])\n",
      "torch.Size([128, 6, 14, 14])\n",
      "torch.Size([128, 16, 5, 5])\n",
      "torch.Size([128, 3, 32, 32])\n",
      "torch.Size([128, 6, 28, 28])\n",
      "torch.Size([128, 6, 14, 14])\n",
      "torch.Size([128, 16, 5, 5])\n",
      "torch.Size([128, 3, 32, 32])\n",
      "torch.Size([128, 6, 28, 28])\n",
      "torch.Size([128, 6, 14, 14])\n",
      "torch.Size([128, 16, 5, 5])\n",
      "torch.Size([128, 3, 32, 32])\n",
      "torch.Size([128, 6, 28, 28])\n",
      "torch.Size([128, 6, 14, 14])\n",
      "torch.Size([128, 16, 5, 5])\n",
      "torch.Size([128, 3, 32, 32])\n",
      "torch.Size([128, 6, 28, 28])\n",
      "torch.Size([128, 6, 14, 14])\n",
      "torch.Size([128, 16, 5, 5])\n",
      "torch.Size([128, 3, 32, 32])\n",
      "torch.Size([128, 6, 28, 28])\n",
      "torch.Size([128, 6, 14, 14])\n",
      "torch.Size([128, 16, 5, 5])\n",
      "torch.Size([128, 3, 32, 32])\n",
      "torch.Size([128, 6, 28, 28])\n",
      "torch.Size([128, 6, 14, 14])\n",
      "torch.Size([128, 16, 5, 5])\n",
      "torch.Size([128, 3, 32, 32])\n",
      "torch.Size([128, 6, 28, 28])\n",
      "torch.Size([128, 6, 14, 14])\n",
      "torch.Size([128, 16, 5, 5])\n",
      "torch.Size([128, 3, 32, 32])\n",
      "torch.Size([128, 6, 28, 28])\n",
      "torch.Size([128, 6, 14, 14])\n",
      "torch.Size([128, 16, 5, 5])\n",
      "torch.Size([128, 3, 32, 32])\n",
      "torch.Size([128, 6, 28, 28])\n",
      "torch.Size([128, 6, 14, 14])\n",
      "torch.Size([128, 16, 5, 5])\n",
      "torch.Size([128, 3, 32, 32])\n",
      "torch.Size([128, 6, 28, 28])\n",
      "torch.Size([128, 6, 14, 14])\n",
      "torch.Size([128, 16, 5, 5])\n",
      "torch.Size([128, 3, 32, 32])\n",
      "torch.Size([128, 6, 28, 28])\n",
      "torch.Size([128, 6, 14, 14])\n",
      "torch.Size([128, 16, 5, 5])\n",
      "torch.Size([128, 3, 32, 32])\n",
      "torch.Size([128, 6, 28, 28])\n",
      "torch.Size([128, 6, 14, 14])\n",
      "torch.Size([128, 16, 5, 5])\n",
      "torch.Size([128, 3, 32, 32])\n",
      "torch.Size([128, 6, 28, 28])\n",
      "torch.Size([128, 6, 14, 14])\n",
      "torch.Size([128, 16, 5, 5])\n",
      "torch.Size([128, 3, 32, 32])\n",
      "torch.Size([128, 6, 28, 28])\n",
      "torch.Size([128, 6, 14, 14])\n",
      "torch.Size([128, 16, 5, 5])\n",
      "torch.Size([128, 3, 32, 32])\n",
      "torch.Size([128, 6, 28, 28])\n",
      "torch.Size([128, 6, 14, 14])\n",
      "torch.Size([128, 16, 5, 5])\n",
      "torch.Size([128, 3, 32, 32])\n",
      "torch.Size([128, 6, 28, 28])\n",
      "torch.Size([128, 6, 14, 14])\n",
      "torch.Size([128, 16, 5, 5])\n"
     ]
    },
    {
     "name": "stderr",
     "output_type": "stream",
     "text": [
      "Train Epoch: 1 [ 5632/50000 \tLoss: 2.306211]:   8%|▊         | 33/391 [00:00<00:04, 86.89it/s]"
     ]
    },
    {
     "name": "stdout",
     "output_type": "stream",
     "text": [
      "torch.Size([128, 3, 32, 32])\n",
      "torch.Size([128, 6, 28, 28])\n",
      "torch.Size([128, 6, 14, 14])\n",
      "torch.Size([128, 16, 5, 5])\n",
      "torch.Size([128, 3, 32, 32])\n",
      "torch.Size([128, 6, 28, 28])\n",
      "torch.Size([128, 6, 14, 14])\n",
      "torch.Size([128, 16, 5, 5])\n",
      "torch.Size([128, 3, 32, 32])\n",
      "torch.Size([128, 6, 28, 28])\n",
      "torch.Size([128, 6, 14, 14])\n",
      "torch.Size([128, 16, 5, 5])\n",
      "torch.Size([128, 3, 32, 32])\n",
      "torch.Size([128, 6, 28, 28])\n",
      "torch.Size([128, 6, 14, 14])\n",
      "torch.Size([128, 16, 5, 5])\n",
      "torch.Size([128, 3, 32, 32])\n",
      "torch.Size([128, 6, 28, 28])\n",
      "torch.Size([128, 6, 14, 14])\n",
      "torch.Size([128, 16, 5, 5])\n",
      "torch.Size([128, 3, 32, 32])\n",
      "torch.Size([128, 6, 28, 28])\n",
      "torch.Size([128, 6, 14, 14])\n",
      "torch.Size([128, 16, 5, 5])\n",
      "torch.Size([128, 3, 32, 32])\n",
      "torch.Size([128, 6, 28, 28])\n",
      "torch.Size([128, 6, 14, 14])\n",
      "torch.Size([128, 16, 5, 5])\n",
      "torch.Size([128, 3, 32, 32])\n",
      "torch.Size([128, 6, 28, 28])\n",
      "torch.Size([128, 6, 14, 14])\n",
      "torch.Size([128, 16, 5, 5])\n",
      "torch.Size([128, 3, 32, 32])\n",
      "torch.Size([128, 6, 28, 28])\n",
      "torch.Size([128, 6, 14, 14])\n",
      "torch.Size([128, 16, 5, 5])\n",
      "torch.Size([128, 3, 32, 32])\n",
      "torch.Size([128, 6, 28, 28])\n",
      "torch.Size([128, 6, 14, 14])\n",
      "torch.Size([128, 16, 5, 5])\n",
      "torch.Size([128, 3, 32, 32])\n",
      "torch.Size([128, 6, 28, 28])\n",
      "torch.Size([128, 6, 14, 14])\n",
      "torch.Size([128, 16, 5, 5])\n",
      "torch.Size([128, 3, 32, 32])\n",
      "torch.Size([128, 6, 28, 28])\n",
      "torch.Size([128, 6, 14, 14])\n",
      "torch.Size([128, 16, 5, 5])\n",
      "torch.Size([128, 3, 32, 32])\n",
      "torch.Size([128, 6, 28, 28])\n",
      "torch.Size([128, 6, 14, 14])\n",
      "torch.Size([128, 16, 5, 5])\n",
      "torch.Size([128, 3, 32, 32])\n",
      "torch.Size([128, 6, 28, 28])\n",
      "torch.Size([128, 6, 14, 14])\n",
      "torch.Size([128, 16, 5, 5])\n",
      "torch.Size([128, 3, 32, 32])\n",
      "torch.Size([128, 6, 28, 28])\n",
      "torch.Size([128, 6, 14, 14])\n",
      "torch.Size([128, 16, 5, 5])\n",
      "torch.Size([128, 3, 32, 32])\n",
      "torch.Size([128, 6, 28, 28])\n",
      "torch.Size([128, 6, 14, 14])\n",
      "torch.Size([128, 16, 5, 5])\n",
      "torch.Size([128, 3, 32, 32])\n",
      "torch.Size([128, 6, 28, 28])\n",
      "torch.Size([128, 6, 14, 14])\n",
      "torch.Size([128, 16, 5, 5])\n",
      "torch.Size([128, 3, 32, 32])\n",
      "torch.Size([128, 6, 28, 28])\n",
      "torch.Size([128, 6, 14, 14])\n",
      "torch.Size([128, 16, 5, 5])\n",
      "torch.Size([128, 3, 32, 32])\n",
      "torch.Size([128, 6, 28, 28])\n",
      "torch.Size([128, 6, 14, 14])\n",
      "torch.Size([128, 16, 5, 5])\n",
      "torch.Size([128, 3, 32, 32])\n",
      "torch.Size([128, 6, 28, 28])\n",
      "torch.Size([128, 6, 14, 14])\n",
      "torch.Size([128, 16, 5, 5])\n",
      "torch.Size([128, 3, 32, 32])\n",
      "torch.Size([128, 6, 28, 28])\n",
      "torch.Size([128, 6, 14, 14])\n",
      "torch.Size([128, 16, 5, 5])\n",
      "torch.Size([128, 3, 32, 32])\n",
      "torch.Size([128, 6, 28, 28])\n",
      "torch.Size([128, 6, 14, 14])\n",
      "torch.Size([128, 16, 5, 5])\n",
      "torch.Size([128, 3, 32, 32])\n",
      "torch.Size([128, 6, 28, 28])\n",
      "torch.Size([128, 6, 14, 14])\n",
      "torch.Size([128, 16, 5, 5])\n",
      "torch.Size([128, 3, 32, 32])\n",
      "torch.Size([128, 6, 28, 28])\n",
      "torch.Size([128, 6, 14, 14])\n",
      "torch.Size([128, 16, 5, 5])\n"
     ]
    },
    {
     "name": "stderr",
     "output_type": "stream",
     "text": [
      "Train Epoch: 1 [ 8832/50000 \tLoss: 2.305226]:  16%|█▌        | 61/391 [00:00<00:02, 112.81it/s]"
     ]
    },
    {
     "name": "stdout",
     "output_type": "stream",
     "text": [
      "torch.Size([128, 3, 32, 32])\n",
      "torch.Size([128, 6, 28, 28])\n",
      "torch.Size([128, 6, 14, 14])\n",
      "torch.Size([128, 16, 5, 5])\n",
      "torch.Size([128, 3, 32, 32])\n",
      "torch.Size([128, 6, 28, 28])\n",
      "torch.Size([128, 6, 14, 14])\n",
      "torch.Size([128, 16, 5, 5])\n",
      "torch.Size([128, 3, 32, 32])\n",
      "torch.Size([128, 6, 28, 28])\n",
      "torch.Size([128, 6, 14, 14])\n",
      "torch.Size([128, 16, 5, 5])\n",
      "torch.Size([128, 3, 32, 32])\n",
      "torch.Size([128, 6, 28, 28])\n",
      "torch.Size([128, 6, 14, 14])\n",
      "torch.Size([128, 16, 5, 5])\n",
      "torch.Size([128, 3, 32, 32])\n",
      "torch.Size([128, 6, 28, 28])\n",
      "torch.Size([128, 6, 14, 14])\n",
      "torch.Size([128, 16, 5, 5])\n",
      "torch.Size([128, 3, 32, 32])\n",
      "torch.Size([128, 6, 28, 28])\n",
      "torch.Size([128, 6, 14, 14])\n",
      "torch.Size([128, 16, 5, 5])\n",
      "torch.Size([128, 3, 32, 32])\n",
      "torch.Size([128, 6, 28, 28])\n",
      "torch.Size([128, 6, 14, 14])\n",
      "torch.Size([128, 16, 5, 5])\n",
      "torch.Size([128, 3, 32, 32])\n",
      "torch.Size([128, 6, 28, 28])\n",
      "torch.Size([128, 6, 14, 14])\n",
      "torch.Size([128, 16, 5, 5])\n",
      "torch.Size([128, 3, 32, 32])\n",
      "torch.Size([128, 6, 28, 28])\n",
      "torch.Size([128, 6, 14, 14])\n",
      "torch.Size([128, 16, 5, 5])\n",
      "torch.Size([128, 3, 32, 32])\n",
      "torch.Size([128, 6, 28, 28])\n",
      "torch.Size([128, 6, 14, 14])\n",
      "torch.Size([128, 16, 5, 5])\n",
      "torch.Size([128, 3, 32, 32])\n",
      "torch.Size([128, 6, 28, 28])\n",
      "torch.Size([128, 6, 14, 14])\n",
      "torch.Size([128, 16, 5, 5])\n",
      "torch.Size([128, 3, 32, 32])\n",
      "torch.Size([128, 6, 28, 28])\n",
      "torch.Size([128, 6, 14, 14])\n",
      "torch.Size([128, 16, 5, 5])\n",
      "torch.Size([128, 3, 32, 32])\n",
      "torch.Size([128, 6, 28, 28])\n",
      "torch.Size([128, 6, 14, 14])\n",
      "torch.Size([128, 16, 5, 5])\n",
      "torch.Size([128, 3, 32, 32])\n",
      "torch.Size([128, 6, 28, 28])\n",
      "torch.Size([128, 6, 14, 14])\n",
      "torch.Size([128, 16, 5, 5])\n",
      "torch.Size([128, 3, 32, 32])\n",
      "torch.Size([128, 6, 28, 28])\n",
      "torch.Size([128, 6, 14, 14])\n",
      "torch.Size([128, 16, 5, 5])\n",
      "torch.Size([128, 3, 32, 32])\n",
      "torch.Size([128, 6, 28, 28])\n",
      "torch.Size([128, 6, 14, 14])\n",
      "torch.Size([128, 16, 5, 5])\n",
      "torch.Size([128, 3, 32, 32])\n",
      "torch.Size([128, 6, 28, 28])\n",
      "torch.Size([128, 6, 14, 14])\n",
      "torch.Size([128, 16, 5, 5])\n",
      "torch.Size([128, 3, 32, 32])\n",
      "torch.Size([128, 6, 28, 28])\n",
      "torch.Size([128, 6, 14, 14])\n",
      "torch.Size([128, 16, 5, 5])\n",
      "torch.Size([128, 3, 32, 32])\n",
      "torch.Size([128, 6, 28, 28])\n",
      "torch.Size([128, 6, 14, 14])\n",
      "torch.Size([128, 16, 5, 5])\n",
      "torch.Size([128, 3, 32, 32])\n",
      "torch.Size([128, 6, 28, 28])\n",
      "torch.Size([128, 6, 14, 14])\n",
      "torch.Size([128, 16, 5, 5])\n",
      "torch.Size([128, 3, 32, 32])\n",
      "torch.Size([128, 6, 28, 28])\n",
      "torch.Size([128, 6, 14, 14])\n",
      "torch.Size([128, 16, 5, 5])\n",
      "torch.Size([128, 3, 32, 32])\n",
      "torch.Size([128, 6, 28, 28])\n",
      "torch.Size([128, 6, 14, 14])\n",
      "torch.Size([128, 16, 5, 5])\n",
      "torch.Size([128, 3, 32, 32])\n",
      "torch.Size([128, 6, 28, 28])\n",
      "torch.Size([128, 6, 14, 14])\n",
      "torch.Size([128, 16, 5, 5])\n",
      "torch.Size([128, 3, 32, 32])\n",
      "torch.Size([128, 6, 28, 28])\n",
      "torch.Size([128, 6, 14, 14])\n",
      "torch.Size([128, 16, 5, 5])\n",
      "torch.Size([128, 3, 32, 32])\n",
      "torch.Size([128, 6, 28, 28])\n",
      "torch.Size([128, 6, 14, 14])\n",
      "torch.Size([128, 16, 5, 5])\n"
     ]
    },
    {
     "name": "stderr",
     "output_type": "stream",
     "text": [
      "Train Epoch: 1 [ 12288/50000 \tLoss: 2.297648]:  23%|██▎       | 90/391 [00:00<00:02, 127.74it/s]"
     ]
    },
    {
     "name": "stdout",
     "output_type": "stream",
     "text": [
      "torch.Size([128, 3, 32, 32])\n",
      "torch.Size([128, 6, 28, 28])\n",
      "torch.Size([128, 6, 14, 14])\n",
      "torch.Size([128, 16, 5, 5])\n",
      "torch.Size([128, 3, 32, 32])\n",
      "torch.Size([128, 6, 28, 28])\n",
      "torch.Size([128, 6, 14, 14])\n",
      "torch.Size([128, 16, 5, 5])\n",
      "torch.Size([128, 3, 32, 32])\n",
      "torch.Size([128, 6, 28, 28])\n",
      "torch.Size([128, 6, 14, 14])\n",
      "torch.Size([128, 16, 5, 5])\n",
      "torch.Size([128, 3, 32, 32])\n",
      "torch.Size([128, 6, 28, 28])\n",
      "torch.Size([128, 6, 14, 14])\n",
      "torch.Size([128, 16, 5, 5])\n",
      "torch.Size([128, 3, 32, 32])\n",
      "torch.Size([128, 6, 28, 28])\n",
      "torch.Size([128, 6, 14, 14])\n",
      "torch.Size([128, 16, 5, 5])\n",
      "torch.Size([128, 3, 32, 32])\n",
      "torch.Size([128, 6, 28, 28])\n",
      "torch.Size([128, 6, 14, 14])\n",
      "torch.Size([128, 16, 5, 5])\n",
      "torch.Size([128, 3, 32, 32])\n",
      "torch.Size([128, 6, 28, 28])\n",
      "torch.Size([128, 6, 14, 14])\n",
      "torch.Size([128, 16, 5, 5])\n",
      "torch.Size([128, 3, 32, 32])\n",
      "torch.Size([128, 6, 28, 28])\n",
      "torch.Size([128, 6, 14, 14])\n",
      "torch.Size([128, 16, 5, 5])\n",
      "torch.Size([128, 3, 32, 32])\n",
      "torch.Size([128, 6, 28, 28])\n",
      "torch.Size([128, 6, 14, 14])\n",
      "torch.Size([128, 16, 5, 5])\n",
      "torch.Size([128, 3, 32, 32])\n",
      "torch.Size([128, 6, 28, 28])\n",
      "torch.Size([128, 6, 14, 14])\n",
      "torch.Size([128, 16, 5, 5])\n",
      "torch.Size([128, 3, 32, 32])\n",
      "torch.Size([128, 6, 28, 28])\n",
      "torch.Size([128, 6, 14, 14])\n",
      "torch.Size([128, 16, 5, 5])\n",
      "torch.Size([128, 3, 32, 32])\n",
      "torch.Size([128, 6, 28, 28])\n",
      "torch.Size([128, 6, 14, 14])\n",
      "torch.Size([128, 16, 5, 5])\n",
      "torch.Size([128, 3, 32, 32])\n",
      "torch.Size([128, 6, 28, 28])\n",
      "torch.Size([128, 6, 14, 14])\n",
      "torch.Size([128, 16, 5, 5])\n",
      "torch.Size([128, 3, 32, 32])\n",
      "torch.Size([128, 6, 28, 28])\n",
      "torch.Size([128, 6, 14, 14])\n",
      "torch.Size([128, 16, 5, 5])\n",
      "torch.Size([128, 3, 32, 32])\n",
      "torch.Size([128, 6, 28, 28])\n",
      "torch.Size([128, 6, 14, 14])\n",
      "torch.Size([128, 16, 5, 5])\n",
      "torch.Size([128, 3, 32, 32])\n",
      "torch.Size([128, 6, 28, 28])\n",
      "torch.Size([128, 6, 14, 14])\n",
      "torch.Size([128, 16, 5, 5])\n",
      "torch.Size([128, 3, 32, 32])\n",
      "torch.Size([128, 6, 28, 28])\n",
      "torch.Size([128, 6, 14, 14])\n",
      "torch.Size([128, 16, 5, 5])\n",
      "torch.Size([128, 3, 32, 32])\n",
      "torch.Size([128, 6, 28, 28])\n",
      "torch.Size([128, 6, 14, 14])\n",
      "torch.Size([128, 16, 5, 5])\n",
      "torch.Size([128, 3, 32, 32])\n",
      "torch.Size([128, 6, 28, 28])\n",
      "torch.Size([128, 6, 14, 14])\n",
      "torch.Size([128, 16, 5, 5])\n",
      "torch.Size([128, 3, 32, 32])\n",
      "torch.Size([128, 6, 28, 28])\n",
      "torch.Size([128, 6, 14, 14])\n",
      "torch.Size([128, 16, 5, 5])\n",
      "torch.Size([128, 3, 32, 32])\n",
      "torch.Size([128, 6, 28, 28])\n",
      "torch.Size([128, 6, 14, 14])\n",
      "torch.Size([128, 16, 5, 5])\n",
      "torch.Size([128, 3, 32, 32])\n",
      "torch.Size([128, 6, 28, 28])\n",
      "torch.Size([128, 6, 14, 14])\n",
      "torch.Size([128, 16, 5, 5])\n",
      "torch.Size([128, 3, 32, 32])\n",
      "torch.Size([128, 6, 28, 28])\n",
      "torch.Size([128, 6, 14, 14])\n",
      "torch.Size([128, 16, 5, 5])\n",
      "torch.Size([128, 3, 32, 32])\n",
      "torch.Size([128, 6, 28, 28])\n",
      "torch.Size([128, 6, 14, 14])\n",
      "torch.Size([128, 16, 5, 5])\n",
      "torch.Size([128, 3, 32, 32])\n",
      "torch.Size([128, 6, 28, 28])\n",
      "torch.Size([128, 6, 14, 14])\n",
      "torch.Size([128, 16, 5, 5])\n",
      "torch.Size([128, 3, 32, 32])\n",
      "torch.Size([128, 6, 28, 28])\n",
      "torch.Size([128, 6, 14, 14])\n",
      "torch.Size([128, 16, 5, 5])\n",
      "torch.Size([128, 3, 32, 32])\n",
      "torch.Size([128, 6, 28, 28])\n",
      "torch.Size([128, 6, 14, 14])\n",
      "torch.Size([128, 16, 5, 5])\n"
     ]
    },
    {
     "name": "stderr",
     "output_type": "stream",
     "text": [
      "Train Epoch: 1 [ 15616/50000 \tLoss: 2.297792]:  30%|███       | 118/391 [00:01<00:02, 133.31it/s]"
     ]
    },
    {
     "name": "stdout",
     "output_type": "stream",
     "text": [
      "torch.Size([128, 3, 32, 32])\n",
      "torch.Size([128, 6, 28, 28])\n",
      "torch.Size([128, 6, 14, 14])\n",
      "torch.Size([128, 16, 5, 5])\n",
      "torch.Size([128, 3, 32, 32])\n",
      "torch.Size([128, 6, 28, 28])\n",
      "torch.Size([128, 6, 14, 14])\n",
      "torch.Size([128, 16, 5, 5])\n",
      "torch.Size([128, 3, 32, 32])\n",
      "torch.Size([128, 6, 28, 28])\n",
      "torch.Size([128, 6, 14, 14])\n",
      "torch.Size([128, 16, 5, 5])\n",
      "torch.Size([128, 3, 32, 32])\n",
      "torch.Size([128, 6, 28, 28])\n",
      "torch.Size([128, 6, 14, 14])\n",
      "torch.Size([128, 16, 5, 5])\n",
      "torch.Size([128, 3, 32, 32])\n",
      "torch.Size([128, 6, 28, 28])\n",
      "torch.Size([128, 6, 14, 14])\n",
      "torch.Size([128, 16, 5, 5])\n",
      "torch.Size([128, 3, 32, 32])\n",
      "torch.Size([128, 6, 28, 28])\n",
      "torch.Size([128, 6, 14, 14])\n",
      "torch.Size([128, 16, 5, 5])\n",
      "torch.Size([128, 3, 32, 32])\n",
      "torch.Size([128, 6, 28, 28])\n",
      "torch.Size([128, 6, 14, 14])\n",
      "torch.Size([128, 16, 5, 5])\n",
      "torch.Size([128, 3, 32, 32])\n",
      "torch.Size([128, 6, 28, 28])\n",
      "torch.Size([128, 6, 14, 14])\n",
      "torch.Size([128, 16, 5, 5])\n",
      "torch.Size([128, 3, 32, 32])\n",
      "torch.Size([128, 6, 28, 28])\n",
      "torch.Size([128, 6, 14, 14])\n",
      "torch.Size([128, 16, 5, 5])\n",
      "torch.Size([128, 3, 32, 32])\n",
      "torch.Size([128, 6, 28, 28])\n",
      "torch.Size([128, 6, 14, 14])\n",
      "torch.Size([128, 16, 5, 5])\n",
      "torch.Size([128, 3, 32, 32])\n",
      "torch.Size([128, 6, 28, 28])\n",
      "torch.Size([128, 6, 14, 14])\n",
      "torch.Size([128, 16, 5, 5])\n",
      "torch.Size([128, 3, 32, 32])\n",
      "torch.Size([128, 6, 28, 28])\n",
      "torch.Size([128, 6, 14, 14])\n",
      "torch.Size([128, 16, 5, 5])\n",
      "torch.Size([128, 3, 32, 32])\n",
      "torch.Size([128, 6, 28, 28])\n",
      "torch.Size([128, 6, 14, 14])\n",
      "torch.Size([128, 16, 5, 5])\n",
      "torch.Size([128, 3, 32, 32])\n",
      "torch.Size([128, 6, 28, 28])\n",
      "torch.Size([128, 6, 14, 14])\n",
      "torch.Size([128, 16, 5, 5])\n",
      "torch.Size([128, 3, 32, 32])\n",
      "torch.Size([128, 6, 28, 28])\n",
      "torch.Size([128, 6, 14, 14])\n",
      "torch.Size([128, 16, 5, 5])\n",
      "torch.Size([128, 3, 32, 32])\n",
      "torch.Size([128, 6, 28, 28])\n",
      "torch.Size([128, 6, 14, 14])\n",
      "torch.Size([128, 16, 5, 5])\n",
      "torch.Size([128, 3, 32, 32])\n",
      "torch.Size([128, 6, 28, 28])\n",
      "torch.Size([128, 6, 14, 14])\n",
      "torch.Size([128, 16, 5, 5])\n",
      "torch.Size([128, 3, 32, 32])\n",
      "torch.Size([128, 6, 28, 28])\n",
      "torch.Size([128, 6, 14, 14])\n",
      "torch.Size([128, 16, 5, 5])\n",
      "torch.Size([128, 3, 32, 32])\n",
      "torch.Size([128, 6, 28, 28])\n",
      "torch.Size([128, 6, 14, 14])\n",
      "torch.Size([128, 16, 5, 5])\n",
      "torch.Size([128, 3, 32, 32])\n",
      "torch.Size([128, 6, 28, 28])\n",
      "torch.Size([128, 6, 14, 14])\n",
      "torch.Size([128, 16, 5, 5])\n",
      "torch.Size([128, 3, 32, 32])\n",
      "torch.Size([128, 6, 28, 28])\n",
      "torch.Size([128, 6, 14, 14])\n",
      "torch.Size([128, 16, 5, 5])\n",
      "torch.Size([128, 3, 32, 32])\n",
      "torch.Size([128, 6, 28, 28])\n",
      "torch.Size([128, 6, 14, 14])\n",
      "torch.Size([128, 16, 5, 5])\n",
      "torch.Size([128, 3, 32, 32])\n",
      "torch.Size([128, 6, 28, 28])\n",
      "torch.Size([128, 6, 14, 14])\n",
      "torch.Size([128, 16, 5, 5])\n",
      "torch.Size([128, 3, 32, 32])\n",
      "torch.Size([128, 6, 28, 28])\n",
      "torch.Size([128, 6, 14, 14])\n",
      "torch.Size([128, 16, 5, 5])\n",
      "torch.Size([128, 3, 32, 32])\n",
      "torch.Size([128, 6, 28, 28])\n",
      "torch.Size([128, 6, 14, 14])\n",
      "torch.Size([128, 16, 5, 5])\n",
      "torch.Size([128, 3, 32, 32])\n",
      "torch.Size([128, 6, 28, 28])\n",
      "torch.Size([128, 6, 14, 14])\n",
      "torch.Size([128, 16, 5, 5])\n"
     ]
    },
    {
     "name": "stderr",
     "output_type": "stream",
     "text": [
      "Train Epoch: 1 [ 18944/50000 \tLoss: 2.306632]:  38%|███▊      | 147/391 [00:01<00:01, 136.24it/s]"
     ]
    },
    {
     "name": "stdout",
     "output_type": "stream",
     "text": [
      "torch.Size([128, 3, 32, 32])\n",
      "torch.Size([128, 6, 28, 28])\n",
      "torch.Size([128, 6, 14, 14])\n",
      "torch.Size([128, 16, 5, 5])\n",
      "torch.Size([128, 3, 32, 32])\n",
      "torch.Size([128, 6, 28, 28])\n",
      "torch.Size([128, 6, 14, 14])\n",
      "torch.Size([128, 16, 5, 5])\n",
      "torch.Size([128, 3, 32, 32])\n",
      "torch.Size([128, 6, 28, 28])\n",
      "torch.Size([128, 6, 14, 14])\n",
      "torch.Size([128, 16, 5, 5])\n",
      "torch.Size([128, 3, 32, 32])\n",
      "torch.Size([128, 6, 28, 28])\n",
      "torch.Size([128, 6, 14, 14])\n",
      "torch.Size([128, 16, 5, 5])\n",
      "torch.Size([128, 3, 32, 32])\n",
      "torch.Size([128, 6, 28, 28])\n",
      "torch.Size([128, 6, 14, 14])\n",
      "torch.Size([128, 16, 5, 5])\n",
      "torch.Size([128, 3, 32, 32])\n",
      "torch.Size([128, 6, 28, 28])\n",
      "torch.Size([128, 6, 14, 14])\n",
      "torch.Size([128, 16, 5, 5])\n",
      "torch.Size([128, 3, 32, 32])\n",
      "torch.Size([128, 6, 28, 28])\n",
      "torch.Size([128, 6, 14, 14])\n",
      "torch.Size([128, 16, 5, 5])\n",
      "torch.Size([128, 3, 32, 32])\n",
      "torch.Size([128, 6, 28, 28])\n",
      "torch.Size([128, 6, 14, 14])\n",
      "torch.Size([128, 16, 5, 5])\n",
      "torch.Size([128, 3, 32, 32])\n",
      "torch.Size([128, 6, 28, 28])\n",
      "torch.Size([128, 6, 14, 14])\n",
      "torch.Size([128, 16, 5, 5])\n",
      "torch.Size([128, 3, 32, 32])\n",
      "torch.Size([128, 6, 28, 28])\n",
      "torch.Size([128, 6, 14, 14])\n",
      "torch.Size([128, 16, 5, 5])\n",
      "torch.Size([128, 3, 32, 32])\n",
      "torch.Size([128, 6, 28, 28])\n",
      "torch.Size([128, 6, 14, 14])\n",
      "torch.Size([128, 16, 5, 5])\n",
      "torch.Size([128, 3, 32, 32])\n",
      "torch.Size([128, 6, 28, 28])\n",
      "torch.Size([128, 6, 14, 14])\n",
      "torch.Size([128, 16, 5, 5])\n",
      "torch.Size([128, 3, 32, 32])\n",
      "torch.Size([128, 6, 28, 28])\n",
      "torch.Size([128, 6, 14, 14])\n",
      "torch.Size([128, 16, 5, 5])\n",
      "torch.Size([128, 3, 32, 32])\n",
      "torch.Size([128, 6, 28, 28])\n",
      "torch.Size([128, 6, 14, 14])\n",
      "torch.Size([128, 16, 5, 5])\n",
      "torch.Size([128, 3, 32, 32])\n",
      "torch.Size([128, 6, 28, 28])\n",
      "torch.Size([128, 6, 14, 14])\n",
      "torch.Size([128, 16, 5, 5])\n",
      "torch.Size([128, 3, 32, 32])\n",
      "torch.Size([128, 6, 28, 28])\n",
      "torch.Size([128, 6, 14, 14])\n",
      "torch.Size([128, 16, 5, 5])\n",
      "torch.Size([128, 3, 32, 32])\n",
      "torch.Size([128, 6, 28, 28])\n",
      "torch.Size([128, 6, 14, 14])\n",
      "torch.Size([128, 16, 5, 5])\n",
      "torch.Size([128, 3, 32, 32])\n",
      "torch.Size([128, 6, 28, 28])\n",
      "torch.Size([128, 6, 14, 14])\n",
      "torch.Size([128, 16, 5, 5])\n",
      "torch.Size([128, 3, 32, 32])\n",
      "torch.Size([128, 6, 28, 28])\n",
      "torch.Size([128, 6, 14, 14])\n",
      "torch.Size([128, 16, 5, 5])\n",
      "torch.Size([128, 3, 32, 32])\n",
      "torch.Size([128, 6, 28, 28])\n",
      "torch.Size([128, 6, 14, 14])\n",
      "torch.Size([128, 16, 5, 5])\n",
      "torch.Size([128, 3, 32, 32])\n",
      "torch.Size([128, 6, 28, 28])\n",
      "torch.Size([128, 6, 14, 14])\n",
      "torch.Size([128, 16, 5, 5])\n",
      "torch.Size([128, 3, 32, 32])\n",
      "torch.Size([128, 6, 28, 28])\n",
      "torch.Size([128, 6, 14, 14])\n",
      "torch.Size([128, 16, 5, 5])\n",
      "torch.Size([128, 3, 32, 32])\n",
      "torch.Size([128, 6, 28, 28])\n",
      "torch.Size([128, 6, 14, 14])\n",
      "torch.Size([128, 16, 5, 5])\n",
      "torch.Size([128, 3, 32, 32])\n",
      "torch.Size([128, 6, 28, 28])\n",
      "torch.Size([128, 6, 14, 14])\n",
      "torch.Size([128, 16, 5, 5])\n",
      "torch.Size([128, 3, 32, 32])\n",
      "torch.Size([128, 6, 28, 28])\n",
      "torch.Size([128, 6, 14, 14])\n",
      "torch.Size([128, 16, 5, 5])\n",
      "torch.Size([128, 3, 32, 32])\n",
      "torch.Size([128, 6, 28, 28])\n",
      "torch.Size([128, 6, 14, 14])\n",
      "torch.Size([128, 16, 5, 5])\n"
     ]
    },
    {
     "name": "stderr",
     "output_type": "stream",
     "text": [
      "Train Epoch: 1 [ 22272/50000 \tLoss: 2.299867]:  41%|████      | 161/391 [00:01<00:01, 135.75it/s]"
     ]
    },
    {
     "name": "stdout",
     "output_type": "stream",
     "text": [
      "torch.Size([128, 3, 32, 32])\n",
      "torch.Size([128, 6, 28, 28])\n",
      "torch.Size([128, 6, 14, 14])\n",
      "torch.Size([128, 16, 5, 5])\n",
      "torch.Size([128, 3, 32, 32])\n",
      "torch.Size([128, 6, 28, 28])\n",
      "torch.Size([128, 6, 14, 14])\n",
      "torch.Size([128, 16, 5, 5])\n",
      "torch.Size([128, 3, 32, 32])\n",
      "torch.Size([128, 6, 28, 28])\n",
      "torch.Size([128, 6, 14, 14])\n",
      "torch.Size([128, 16, 5, 5])\n",
      "torch.Size([128, 3, 32, 32])\n",
      "torch.Size([128, 6, 28, 28])\n",
      "torch.Size([128, 6, 14, 14])\n",
      "torch.Size([128, 16, 5, 5])\n",
      "torch.Size([128, 3, 32, 32])\n",
      "torch.Size([128, 6, 28, 28])\n",
      "torch.Size([128, 6, 14, 14])\n",
      "torch.Size([128, 16, 5, 5])\n",
      "torch.Size([128, 3, 32, 32])\n",
      "torch.Size([128, 6, 28, 28])\n",
      "torch.Size([128, 6, 14, 14])\n",
      "torch.Size([128, 16, 5, 5])\n",
      "torch.Size([128, 3, 32, 32])\n",
      "torch.Size([128, 6, 28, 28])\n",
      "torch.Size([128, 6, 14, 14])\n",
      "torch.Size([128, 16, 5, 5])\n",
      "torch.Size([128, 3, 32, 32])\n",
      "torch.Size([128, 6, 28, 28])\n",
      "torch.Size([128, 6, 14, 14])\n",
      "torch.Size([128, 16, 5, 5])\n",
      "torch.Size([128, 3, 32, 32])\n",
      "torch.Size([128, 6, 28, 28])\n",
      "torch.Size([128, 6, 14, 14])\n",
      "torch.Size([128, 16, 5, 5])\n",
      "torch.Size([128, 3, 32, 32])\n",
      "torch.Size([128, 6, 28, 28])\n",
      "torch.Size([128, 6, 14, 14])\n",
      "torch.Size([128, 16, 5, 5])\n",
      "torch.Size([128, 3, 32, 32])\n",
      "torch.Size([128, 6, 28, 28])\n",
      "torch.Size([128, 6, 14, 14])\n",
      "torch.Size([128, 16, 5, 5])\n",
      "torch.Size([128, 3, 32, 32])\n",
      "torch.Size([128, 6, 28, 28])\n",
      "torch.Size([128, 6, 14, 14])\n",
      "torch.Size([128, 16, 5, 5])\n",
      "torch.Size([128, 3, 32, 32])\n",
      "torch.Size([128, 6, 28, 28])\n",
      "torch.Size([128, 6, 14, 14])\n",
      "torch.Size([128, 16, 5, 5])\n",
      "torch.Size([128, 3, 32, 32])\n",
      "torch.Size([128, 6, 28, 28])\n",
      "torch.Size([128, 6, 14, 14])\n",
      "torch.Size([128, 16, 5, 5])\n",
      "torch.Size([128, 3, 32, 32])\n",
      "torch.Size([128, 6, 28, 28])\n",
      "torch.Size([128, 6, 14, 14])\n",
      "torch.Size([128, 16, 5, 5])\n",
      "torch.Size([128, 3, 32, 32])\n",
      "torch.Size([128, 6, 28, 28])\n",
      "torch.Size([128, 6, 14, 14])\n",
      "torch.Size([128, 16, 5, 5])\n",
      "torch.Size([128, 3, 32, 32])\n",
      "torch.Size([128, 6, 28, 28])\n",
      "torch.Size([128, 6, 14, 14])\n",
      "torch.Size([128, 16, 5, 5])\n",
      "torch.Size([128, 3, 32, 32])\n",
      "torch.Size([128, 6, 28, 28])\n",
      "torch.Size([128, 6, 14, 14])\n",
      "torch.Size([128, 16, 5, 5])\n",
      "torch.Size([128, 3, 32, 32])\n",
      "torch.Size([128, 6, 28, 28])\n",
      "torch.Size([128, 6, 14, 14])\n",
      "torch.Size([128, 16, 5, 5])\n",
      "torch.Size([128, 3, 32, 32])\n",
      "torch.Size([128, 6, 28, 28])\n",
      "torch.Size([128, 6, 14, 14])\n",
      "torch.Size([128, 16, 5, 5])\n",
      "torch.Size([128, 3, 32, 32])\n",
      "torch.Size([128, 6, 28, 28])\n",
      "torch.Size([128, 6, 14, 14])\n",
      "torch.Size([128, 16, 5, 5])\n",
      "torch.Size([128, 3, 32, 32])\n",
      "torch.Size([128, 6, 28, 28])\n",
      "torch.Size([128, 6, 14, 14])\n",
      "torch.Size([128, 16, 5, 5])\n",
      "torch.Size([128, 3, 32, 32])\n",
      "torch.Size([128, 6, 28, 28])\n",
      "torch.Size([128, 6, 14, 14])\n",
      "torch.Size([128, 16, 5, 5])\n",
      "torch.Size([128, 3, 32, 32])\n",
      "torch.Size([128, 6, 28, 28])\n",
      "torch.Size([128, 6, 14, 14])\n",
      "torch.Size([128, 16, 5, 5])\n",
      "torch.Size([128, 3, 32, 32])\n",
      "torch.Size([128, 6, 28, 28])\n",
      "torch.Size([128, 6, 14, 14])\n",
      "torch.Size([128, 16, 5, 5])\n",
      "torch.Size([128, 3, 32, 32])\n",
      "torch.Size([128, 6, 28, 28])\n",
      "torch.Size([128, 6, 14, 14])\n",
      "torch.Size([128, 16, 5, 5])\n"
     ]
    },
    {
     "name": "stderr",
     "output_type": "stream",
     "text": [
      "Train Epoch: 1 [ 25600/50000 \tLoss: 2.308383]:  49%|████▊     | 190/391 [00:01<00:01, 137.55it/s]"
     ]
    },
    {
     "name": "stdout",
     "output_type": "stream",
     "text": [
      "torch.Size([128, 3, 32, 32])\n",
      "torch.Size([128, 6, 28, 28])\n",
      "torch.Size([128, 6, 14, 14])\n",
      "torch.Size([128, 16, 5, 5])\n",
      "torch.Size([128, 3, 32, 32])\n",
      "torch.Size([128, 6, 28, 28])\n",
      "torch.Size([128, 6, 14, 14])\n",
      "torch.Size([128, 16, 5, 5])\n",
      "torch.Size([128, 3, 32, 32])\n",
      "torch.Size([128, 6, 28, 28])\n",
      "torch.Size([128, 6, 14, 14])\n",
      "torch.Size([128, 16, 5, 5])\n",
      "torch.Size([128, 3, 32, 32])\n",
      "torch.Size([128, 6, 28, 28])\n",
      "torch.Size([128, 6, 14, 14])\n",
      "torch.Size([128, 16, 5, 5])\n",
      "torch.Size([128, 3, 32, 32])\n",
      "torch.Size([128, 6, 28, 28])\n",
      "torch.Size([128, 6, 14, 14])\n",
      "torch.Size([128, 16, 5, 5])\n",
      "torch.Size([128, 3, 32, 32])\n",
      "torch.Size([128, 6, 28, 28])\n",
      "torch.Size([128, 6, 14, 14])\n",
      "torch.Size([128, 16, 5, 5])\n",
      "torch.Size([128, 3, 32, 32])\n",
      "torch.Size([128, 6, 28, 28])\n",
      "torch.Size([128, 6, 14, 14])\n",
      "torch.Size([128, 16, 5, 5])\n",
      "torch.Size([128, 3, 32, 32])\n",
      "torch.Size([128, 6, 28, 28])\n",
      "torch.Size([128, 6, 14, 14])\n",
      "torch.Size([128, 16, 5, 5])\n",
      "torch.Size([128, 3, 32, 32])\n",
      "torch.Size([128, 6, 28, 28])\n",
      "torch.Size([128, 6, 14, 14])\n",
      "torch.Size([128, 16, 5, 5])\n",
      "torch.Size([128, 3, 32, 32])\n",
      "torch.Size([128, 6, 28, 28])\n",
      "torch.Size([128, 6, 14, 14])\n",
      "torch.Size([128, 16, 5, 5])\n",
      "torch.Size([128, 3, 32, 32])\n",
      "torch.Size([128, 6, 28, 28])\n",
      "torch.Size([128, 6, 14, 14])\n",
      "torch.Size([128, 16, 5, 5])\n",
      "torch.Size([128, 3, 32, 32])\n",
      "torch.Size([128, 6, 28, 28])\n",
      "torch.Size([128, 6, 14, 14])\n",
      "torch.Size([128, 16, 5, 5])\n",
      "torch.Size([128, 3, 32, 32])\n",
      "torch.Size([128, 6, 28, 28])\n",
      "torch.Size([128, 6, 14, 14])\n",
      "torch.Size([128, 16, 5, 5])\n",
      "torch.Size([128, 3, 32, 32])\n",
      "torch.Size([128, 6, 28, 28])\n",
      "torch.Size([128, 6, 14, 14])\n",
      "torch.Size([128, 16, 5, 5])\n",
      "torch.Size([128, 3, 32, 32])\n",
      "torch.Size([128, 6, 28, 28])\n",
      "torch.Size([128, 6, 14, 14])\n",
      "torch.Size([128, 16, 5, 5])\n",
      "torch.Size([128, 3, 32, 32])\n",
      "torch.Size([128, 6, 28, 28])\n",
      "torch.Size([128, 6, 14, 14])\n",
      "torch.Size([128, 16, 5, 5])\n",
      "torch.Size([128, 3, 32, 32])\n",
      "torch.Size([128, 6, 28, 28])\n",
      "torch.Size([128, 6, 14, 14])\n",
      "torch.Size([128, 16, 5, 5])\n",
      "torch.Size([128, 3, 32, 32])\n",
      "torch.Size([128, 6, 28, 28])\n",
      "torch.Size([128, 6, 14, 14])\n",
      "torch.Size([128, 16, 5, 5])\n",
      "torch.Size([128, 3, 32, 32])\n",
      "torch.Size([128, 6, 28, 28])\n",
      "torch.Size([128, 6, 14, 14])\n",
      "torch.Size([128, 16, 5, 5])\n",
      "torch.Size([128, 3, 32, 32])\n",
      "torch.Size([128, 6, 28, 28])\n",
      "torch.Size([128, 6, 14, 14])\n",
      "torch.Size([128, 16, 5, 5])\n",
      "torch.Size([128, 3, 32, 32])\n",
      "torch.Size([128, 6, 28, 28])\n",
      "torch.Size([128, 6, 14, 14])\n",
      "torch.Size([128, 16, 5, 5])\n",
      "torch.Size([128, 3, 32, 32])\n",
      "torch.Size([128, 6, 28, 28])\n",
      "torch.Size([128, 6, 14, 14])\n",
      "torch.Size([128, 16, 5, 5])\n",
      "torch.Size([128, 3, 32, 32])\n",
      "torch.Size([128, 6, 28, 28])\n",
      "torch.Size([128, 6, 14, 14])\n",
      "torch.Size([128, 16, 5, 5])\n",
      "torch.Size([128, 3, 32, 32])\n",
      "torch.Size([128, 6, 28, 28])\n",
      "torch.Size([128, 6, 14, 14])\n",
      "torch.Size([128, 16, 5, 5])\n",
      "torch.Size([128, 3, 32, 32])\n",
      "torch.Size([128, 6, 28, 28])\n",
      "torch.Size([128, 6, 14, 14])\n",
      "torch.Size([128, 16, 5, 5])\n",
      "torch.Size([128, 3, 32, 32])\n",
      "torch.Size([128, 6, 28, 28])\n",
      "torch.Size([128, 6, 14, 14])\n",
      "torch.Size([128, 16, 5, 5])\n"
     ]
    },
    {
     "name": "stderr",
     "output_type": "stream",
     "text": [
      "Train Epoch: 1 [ 28928/50000 \tLoss: 2.306080]:  56%|█████▌    | 219/391 [00:01<00:01, 138.72it/s]"
     ]
    },
    {
     "name": "stdout",
     "output_type": "stream",
     "text": [
      "torch.Size([128, 3, 32, 32])\n",
      "torch.Size([128, 6, 28, 28])\n",
      "torch.Size([128, 6, 14, 14])\n",
      "torch.Size([128, 16, 5, 5])\n",
      "torch.Size([128, 3, 32, 32])\n",
      "torch.Size([128, 6, 28, 28])\n",
      "torch.Size([128, 6, 14, 14])\n",
      "torch.Size([128, 16, 5, 5])\n",
      "torch.Size([128, 3, 32, 32])\n",
      "torch.Size([128, 6, 28, 28])\n",
      "torch.Size([128, 6, 14, 14])\n",
      "torch.Size([128, 16, 5, 5])\n",
      "torch.Size([128, 3, 32, 32])\n",
      "torch.Size([128, 6, 28, 28])\n",
      "torch.Size([128, 6, 14, 14])\n",
      "torch.Size([128, 16, 5, 5])\n",
      "torch.Size([128, 3, 32, 32])\n",
      "torch.Size([128, 6, 28, 28])\n",
      "torch.Size([128, 6, 14, 14])\n",
      "torch.Size([128, 16, 5, 5])\n",
      "torch.Size([128, 3, 32, 32])\n",
      "torch.Size([128, 6, 28, 28])\n",
      "torch.Size([128, 6, 14, 14])\n",
      "torch.Size([128, 16, 5, 5])\n",
      "torch.Size([128, 3, 32, 32])\n",
      "torch.Size([128, 6, 28, 28])\n",
      "torch.Size([128, 6, 14, 14])\n",
      "torch.Size([128, 16, 5, 5])\n",
      "torch.Size([128, 3, 32, 32])\n",
      "torch.Size([128, 6, 28, 28])\n",
      "torch.Size([128, 6, 14, 14])\n",
      "torch.Size([128, 16, 5, 5])\n",
      "torch.Size([128, 3, 32, 32])\n",
      "torch.Size([128, 6, 28, 28])\n",
      "torch.Size([128, 6, 14, 14])\n",
      "torch.Size([128, 16, 5, 5])\n",
      "torch.Size([128, 3, 32, 32])\n",
      "torch.Size([128, 6, 28, 28])\n",
      "torch.Size([128, 6, 14, 14])\n",
      "torch.Size([128, 16, 5, 5])\n",
      "torch.Size([128, 3, 32, 32])\n",
      "torch.Size([128, 6, 28, 28])\n",
      "torch.Size([128, 6, 14, 14])\n",
      "torch.Size([128, 16, 5, 5])\n",
      "torch.Size([128, 3, 32, 32])\n",
      "torch.Size([128, 6, 28, 28])\n",
      "torch.Size([128, 6, 14, 14])\n",
      "torch.Size([128, 16, 5, 5])\n",
      "torch.Size([128, 3, 32, 32])\n",
      "torch.Size([128, 6, 28, 28])\n",
      "torch.Size([128, 6, 14, 14])\n",
      "torch.Size([128, 16, 5, 5])\n",
      "torch.Size([128, 3, 32, 32])\n",
      "torch.Size([128, 6, 28, 28])\n",
      "torch.Size([128, 6, 14, 14])\n",
      "torch.Size([128, 16, 5, 5])\n",
      "torch.Size([128, 3, 32, 32])\n",
      "torch.Size([128, 6, 28, 28])\n",
      "torch.Size([128, 6, 14, 14])\n",
      "torch.Size([128, 16, 5, 5])\n",
      "torch.Size([128, 3, 32, 32])\n",
      "torch.Size([128, 6, 28, 28])\n",
      "torch.Size([128, 6, 14, 14])\n",
      "torch.Size([128, 16, 5, 5])\n",
      "torch.Size([128, 3, 32, 32])\n",
      "torch.Size([128, 6, 28, 28])\n",
      "torch.Size([128, 6, 14, 14])\n",
      "torch.Size([128, 16, 5, 5])\n",
      "torch.Size([128, 3, 32, 32])\n",
      "torch.Size([128, 6, 28, 28])\n",
      "torch.Size([128, 6, 14, 14])\n",
      "torch.Size([128, 16, 5, 5])\n",
      "torch.Size([128, 3, 32, 32])\n",
      "torch.Size([128, 6, 28, 28])\n",
      "torch.Size([128, 6, 14, 14])\n",
      "torch.Size([128, 16, 5, 5])\n",
      "torch.Size([128, 3, 32, 32])\n",
      "torch.Size([128, 6, 28, 28])\n",
      "torch.Size([128, 6, 14, 14])\n",
      "torch.Size([128, 16, 5, 5])\n",
      "torch.Size([128, 3, 32, 32])\n",
      "torch.Size([128, 6, 28, 28])\n",
      "torch.Size([128, 6, 14, 14])\n",
      "torch.Size([128, 16, 5, 5])\n",
      "torch.Size([128, 3, 32, 32])\n",
      "torch.Size([128, 6, 28, 28])\n",
      "torch.Size([128, 6, 14, 14])\n",
      "torch.Size([128, 16, 5, 5])\n",
      "torch.Size([128, 3, 32, 32])\n",
      "torch.Size([128, 6, 28, 28])\n",
      "torch.Size([128, 6, 14, 14])\n",
      "torch.Size([128, 16, 5, 5])\n",
      "torch.Size([128, 3, 32, 32])\n",
      "torch.Size([128, 6, 28, 28])\n",
      "torch.Size([128, 6, 14, 14])\n",
      "torch.Size([128, 16, 5, 5])\n",
      "torch.Size([128, 3, 32, 32])\n",
      "torch.Size([128, 6, 28, 28])\n",
      "torch.Size([128, 6, 14, 14])\n",
      "torch.Size([128, 16, 5, 5])\n",
      "torch.Size([128, 3, 32, 32])\n",
      "torch.Size([128, 6, 28, 28])\n",
      "torch.Size([128, 6, 14, 14])\n",
      "torch.Size([128, 16, 5, 5])\n"
     ]
    },
    {
     "name": "stderr",
     "output_type": "stream",
     "text": [
      "Train Epoch: 1 [ 32128/50000 \tLoss: 2.305287]:  63%|██████▎   | 247/391 [00:02<00:01, 137.86it/s]"
     ]
    },
    {
     "name": "stdout",
     "output_type": "stream",
     "text": [
      "torch.Size([128, 3, 32, 32])\n",
      "torch.Size([128, 6, 28, 28])\n",
      "torch.Size([128, 6, 14, 14])\n",
      "torch.Size([128, 16, 5, 5])\n",
      "torch.Size([128, 3, 32, 32])\n",
      "torch.Size([128, 6, 28, 28])\n",
      "torch.Size([128, 6, 14, 14])\n",
      "torch.Size([128, 16, 5, 5])\n",
      "torch.Size([128, 3, 32, 32])\n",
      "torch.Size([128, 6, 28, 28])\n",
      "torch.Size([128, 6, 14, 14])\n",
      "torch.Size([128, 16, 5, 5])\n",
      "torch.Size([128, 3, 32, 32])\n",
      "torch.Size([128, 6, 28, 28])\n",
      "torch.Size([128, 6, 14, 14])\n",
      "torch.Size([128, 16, 5, 5])\n",
      "torch.Size([128, 3, 32, 32])\n",
      "torch.Size([128, 6, 28, 28])\n",
      "torch.Size([128, 6, 14, 14])\n",
      "torch.Size([128, 16, 5, 5])\n",
      "torch.Size([128, 3, 32, 32])\n",
      "torch.Size([128, 6, 28, 28])\n",
      "torch.Size([128, 6, 14, 14])\n",
      "torch.Size([128, 16, 5, 5])\n",
      "torch.Size([128, 3, 32, 32])\n",
      "torch.Size([128, 6, 28, 28])\n",
      "torch.Size([128, 6, 14, 14])\n",
      "torch.Size([128, 16, 5, 5])\n",
      "torch.Size([128, 3, 32, 32])\n",
      "torch.Size([128, 6, 28, 28])\n",
      "torch.Size([128, 6, 14, 14])\n",
      "torch.Size([128, 16, 5, 5])\n",
      "torch.Size([128, 3, 32, 32])\n",
      "torch.Size([128, 6, 28, 28])\n",
      "torch.Size([128, 6, 14, 14])\n",
      "torch.Size([128, 16, 5, 5])\n",
      "torch.Size([128, 3, 32, 32])\n",
      "torch.Size([128, 6, 28, 28])\n",
      "torch.Size([128, 6, 14, 14])\n",
      "torch.Size([128, 16, 5, 5])\n",
      "torch.Size([128, 3, 32, 32])\n",
      "torch.Size([128, 6, 28, 28])\n",
      "torch.Size([128, 6, 14, 14])\n",
      "torch.Size([128, 16, 5, 5])\n",
      "torch.Size([128, 3, 32, 32])\n",
      "torch.Size([128, 6, 28, 28])\n",
      "torch.Size([128, 6, 14, 14])\n",
      "torch.Size([128, 16, 5, 5])\n",
      "torch.Size([128, 3, 32, 32])\n",
      "torch.Size([128, 6, 28, 28])\n",
      "torch.Size([128, 6, 14, 14])\n",
      "torch.Size([128, 16, 5, 5])\n",
      "torch.Size([128, 3, 32, 32])\n",
      "torch.Size([128, 6, 28, 28])\n",
      "torch.Size([128, 6, 14, 14])\n",
      "torch.Size([128, 16, 5, 5])\n",
      "torch.Size([128, 3, 32, 32])\n",
      "torch.Size([128, 6, 28, 28])\n",
      "torch.Size([128, 6, 14, 14])\n",
      "torch.Size([128, 16, 5, 5])\n",
      "torch.Size([128, 3, 32, 32])\n",
      "torch.Size([128, 6, 28, 28])\n",
      "torch.Size([128, 6, 14, 14])\n",
      "torch.Size([128, 16, 5, 5])\n",
      "torch.Size([128, 3, 32, 32])\n",
      "torch.Size([128, 6, 28, 28])\n",
      "torch.Size([128, 6, 14, 14])\n",
      "torch.Size([128, 16, 5, 5])\n",
      "torch.Size([128, 3, 32, 32])\n",
      "torch.Size([128, 6, 28, 28])\n",
      "torch.Size([128, 6, 14, 14])\n",
      "torch.Size([128, 16, 5, 5])\n",
      "torch.Size([128, 3, 32, 32])\n",
      "torch.Size([128, 6, 28, 28])\n",
      "torch.Size([128, 6, 14, 14])\n",
      "torch.Size([128, 16, 5, 5])\n",
      "torch.Size([128, 3, 32, 32])\n",
      "torch.Size([128, 6, 28, 28])\n",
      "torch.Size([128, 6, 14, 14])\n",
      "torch.Size([128, 16, 5, 5])\n",
      "torch.Size([128, 3, 32, 32])\n",
      "torch.Size([128, 6, 28, 28])\n",
      "torch.Size([128, 6, 14, 14])\n",
      "torch.Size([128, 16, 5, 5])\n",
      "torch.Size([128, 3, 32, 32])\n",
      "torch.Size([128, 6, 28, 28])\n",
      "torch.Size([128, 6, 14, 14])\n",
      "torch.Size([128, 16, 5, 5])\n",
      "torch.Size([128, 3, 32, 32])\n",
      "torch.Size([128, 6, 28, 28])\n",
      "torch.Size([128, 6, 14, 14])\n",
      "torch.Size([128, 16, 5, 5])\n",
      "torch.Size([128, 3, 32, 32])\n",
      "torch.Size([128, 6, 28, 28])\n",
      "torch.Size([128, 6, 14, 14])\n",
      "torch.Size([128, 16, 5, 5])\n",
      "torch.Size([128, 3, 32, 32])\n",
      "torch.Size([128, 6, 28, 28])\n",
      "torch.Size([128, 6, 14, 14])\n",
      "torch.Size([128, 16, 5, 5])\n"
     ]
    },
    {
     "name": "stderr",
     "output_type": "stream",
     "text": [
      "Train Epoch: 1 [ 35456/50000 \tLoss: 2.295831]:  70%|███████   | 275/391 [00:02<00:00, 136.75it/s]"
     ]
    },
    {
     "name": "stdout",
     "output_type": "stream",
     "text": [
      "torch.Size([128, 3, 32, 32])\n",
      "torch.Size([128, 6, 28, 28])\n",
      "torch.Size([128, 6, 14, 14])\n",
      "torch.Size([128, 16, 5, 5])\n",
      "torch.Size([128, 3, 32, 32])\n",
      "torch.Size([128, 6, 28, 28])\n",
      "torch.Size([128, 6, 14, 14])\n",
      "torch.Size([128, 16, 5, 5])\n",
      "torch.Size([128, 3, 32, 32])\n",
      "torch.Size([128, 6, 28, 28])\n",
      "torch.Size([128, 6, 14, 14])\n",
      "torch.Size([128, 16, 5, 5])\n",
      "torch.Size([128, 3, 32, 32])\n",
      "torch.Size([128, 6, 28, 28])\n",
      "torch.Size([128, 6, 14, 14])\n",
      "torch.Size([128, 16, 5, 5])\n",
      "torch.Size([128, 3, 32, 32])\n",
      "torch.Size([128, 6, 28, 28])\n",
      "torch.Size([128, 6, 14, 14])\n",
      "torch.Size([128, 16, 5, 5])\n",
      "torch.Size([128, 3, 32, 32])\n",
      "torch.Size([128, 6, 28, 28])\n",
      "torch.Size([128, 6, 14, 14])\n",
      "torch.Size([128, 16, 5, 5])\n",
      "torch.Size([128, 3, 32, 32])\n",
      "torch.Size([128, 6, 28, 28])\n",
      "torch.Size([128, 6, 14, 14])\n",
      "torch.Size([128, 16, 5, 5])\n",
      "torch.Size([128, 3, 32, 32])\n",
      "torch.Size([128, 6, 28, 28])\n",
      "torch.Size([128, 6, 14, 14])\n",
      "torch.Size([128, 16, 5, 5])\n",
      "torch.Size([128, 3, 32, 32])\n",
      "torch.Size([128, 6, 28, 28])\n",
      "torch.Size([128, 6, 14, 14])\n",
      "torch.Size([128, 16, 5, 5])\n",
      "torch.Size([128, 3, 32, 32])\n",
      "torch.Size([128, 6, 28, 28])\n",
      "torch.Size([128, 6, 14, 14])\n",
      "torch.Size([128, 16, 5, 5])\n",
      "torch.Size([128, 3, 32, 32])\n",
      "torch.Size([128, 6, 28, 28])\n",
      "torch.Size([128, 6, 14, 14])\n",
      "torch.Size([128, 16, 5, 5])\n",
      "torch.Size([128, 3, 32, 32])\n",
      "torch.Size([128, 6, 28, 28])\n",
      "torch.Size([128, 6, 14, 14])\n",
      "torch.Size([128, 16, 5, 5])\n",
      "torch.Size([128, 3, 32, 32])\n",
      "torch.Size([128, 6, 28, 28])\n",
      "torch.Size([128, 6, 14, 14])\n",
      "torch.Size([128, 16, 5, 5])\n",
      "torch.Size([128, 3, 32, 32])\n",
      "torch.Size([128, 6, 28, 28])\n",
      "torch.Size([128, 6, 14, 14])\n",
      "torch.Size([128, 16, 5, 5])\n",
      "torch.Size([128, 3, 32, 32])\n",
      "torch.Size([128, 6, 28, 28])\n",
      "torch.Size([128, 6, 14, 14])\n",
      "torch.Size([128, 16, 5, 5])\n",
      "torch.Size([128, 3, 32, 32])\n",
      "torch.Size([128, 6, 28, 28])\n",
      "torch.Size([128, 6, 14, 14])\n",
      "torch.Size([128, 16, 5, 5])\n",
      "torch.Size([128, 3, 32, 32])\n",
      "torch.Size([128, 6, 28, 28])\n",
      "torch.Size([128, 6, 14, 14])\n",
      "torch.Size([128, 16, 5, 5])\n",
      "torch.Size([128, 3, 32, 32])\n",
      "torch.Size([128, 6, 28, 28])\n",
      "torch.Size([128, 6, 14, 14])\n",
      "torch.Size([128, 16, 5, 5])\n",
      "torch.Size([128, 3, 32, 32])\n",
      "torch.Size([128, 6, 28, 28])\n",
      "torch.Size([128, 6, 14, 14])\n",
      "torch.Size([128, 16, 5, 5])\n",
      "torch.Size([128, 3, 32, 32])\n",
      "torch.Size([128, 6, 28, 28])\n",
      "torch.Size([128, 6, 14, 14])\n",
      "torch.Size([128, 16, 5, 5])\n",
      "torch.Size([128, 3, 32, 32])\n",
      "torch.Size([128, 6, 28, 28])\n",
      "torch.Size([128, 6, 14, 14])\n",
      "torch.Size([128, 16, 5, 5])\n",
      "torch.Size([128, 3, 32, 32])\n",
      "torch.Size([128, 6, 28, 28])\n",
      "torch.Size([128, 6, 14, 14])\n",
      "torch.Size([128, 16, 5, 5])\n",
      "torch.Size([128, 3, 32, 32])\n",
      "torch.Size([128, 6, 28, 28])\n",
      "torch.Size([128, 6, 14, 14])\n",
      "torch.Size([128, 16, 5, 5])\n",
      "torch.Size([128, 3, 32, 32])\n",
      "torch.Size([128, 6, 28, 28])\n",
      "torch.Size([128, 6, 14, 14])\n",
      "torch.Size([128, 16, 5, 5])\n",
      "torch.Size([128, 3, 32, 32])\n",
      "torch.Size([128, 6, 28, 28])\n",
      "torch.Size([128, 6, 14, 14])\n",
      "torch.Size([128, 16, 5, 5])\n",
      "torch.Size([128, 3, 32, 32])\n",
      "torch.Size([128, 6, 28, 28])\n",
      "torch.Size([128, 6, 14, 14])\n",
      "torch.Size([128, 16, 5, 5])\n"
     ]
    },
    {
     "name": "stderr",
     "output_type": "stream",
     "text": [
      "Train Epoch: 1 [ 38656/50000 \tLoss: 2.302664]:  74%|███████▍  | 289/391 [00:02<00:00, 136.10it/s]"
     ]
    },
    {
     "name": "stdout",
     "output_type": "stream",
     "text": [
      "torch.Size([128, 3, 32, 32])\n",
      "torch.Size([128, 6, 28, 28])\n",
      "torch.Size([128, 6, 14, 14])\n",
      "torch.Size([128, 16, 5, 5])\n",
      "torch.Size([128, 3, 32, 32])\n",
      "torch.Size([128, 6, 28, 28])\n",
      "torch.Size([128, 6, 14, 14])\n",
      "torch.Size([128, 16, 5, 5])\n",
      "torch.Size([128, 3, 32, 32])\n",
      "torch.Size([128, 6, 28, 28])\n",
      "torch.Size([128, 6, 14, 14])\n",
      "torch.Size([128, 16, 5, 5])\n",
      "torch.Size([128, 3, 32, 32])\n",
      "torch.Size([128, 6, 28, 28])\n",
      "torch.Size([128, 6, 14, 14])\n",
      "torch.Size([128, 16, 5, 5])\n",
      "torch.Size([128, 3, 32, 32])\n",
      "torch.Size([128, 6, 28, 28])\n",
      "torch.Size([128, 6, 14, 14])\n",
      "torch.Size([128, 16, 5, 5])\n",
      "torch.Size([128, 3, 32, 32])\n",
      "torch.Size([128, 6, 28, 28])\n",
      "torch.Size([128, 6, 14, 14])\n",
      "torch.Size([128, 16, 5, 5])\n",
      "torch.Size([128, 3, 32, 32])\n",
      "torch.Size([128, 6, 28, 28])\n",
      "torch.Size([128, 6, 14, 14])\n",
      "torch.Size([128, 16, 5, 5])\n",
      "torch.Size([128, 3, 32, 32])\n",
      "torch.Size([128, 6, 28, 28])\n",
      "torch.Size([128, 6, 14, 14])\n",
      "torch.Size([128, 16, 5, 5])\n",
      "torch.Size([128, 3, 32, 32])\n",
      "torch.Size([128, 6, 28, 28])\n",
      "torch.Size([128, 6, 14, 14])\n",
      "torch.Size([128, 16, 5, 5])\n",
      "torch.Size([128, 3, 32, 32])\n",
      "torch.Size([128, 6, 28, 28])\n",
      "torch.Size([128, 6, 14, 14])\n",
      "torch.Size([128, 16, 5, 5])\n",
      "torch.Size([128, 3, 32, 32])\n",
      "torch.Size([128, 6, 28, 28])\n",
      "torch.Size([128, 6, 14, 14])\n",
      "torch.Size([128, 16, 5, 5])\n",
      "torch.Size([128, 3, 32, 32])\n",
      "torch.Size([128, 6, 28, 28])\n",
      "torch.Size([128, 6, 14, 14])\n",
      "torch.Size([128, 16, 5, 5])\n",
      "torch.Size([128, 3, 32, 32])\n",
      "torch.Size([128, 6, 28, 28])\n",
      "torch.Size([128, 6, 14, 14])\n",
      "torch.Size([128, 16, 5, 5])\n",
      "torch.Size([128, 3, 32, 32])\n",
      "torch.Size([128, 6, 28, 28])\n",
      "torch.Size([128, 6, 14, 14])\n",
      "torch.Size([128, 16, 5, 5])\n",
      "torch.Size([128, 3, 32, 32])\n",
      "torch.Size([128, 6, 28, 28])\n",
      "torch.Size([128, 6, 14, 14])\n",
      "torch.Size([128, 16, 5, 5])\n",
      "torch.Size([128, 3, 32, 32])\n",
      "torch.Size([128, 6, 28, 28])\n",
      "torch.Size([128, 6, 14, 14])\n",
      "torch.Size([128, 16, 5, 5])\n",
      "torch.Size([128, 3, 32, 32])\n",
      "torch.Size([128, 6, 28, 28])\n",
      "torch.Size([128, 6, 14, 14])\n",
      "torch.Size([128, 16, 5, 5])\n",
      "torch.Size([128, 3, 32, 32])\n",
      "torch.Size([128, 6, 28, 28])\n",
      "torch.Size([128, 6, 14, 14])\n",
      "torch.Size([128, 16, 5, 5])\n",
      "torch.Size([128, 3, 32, 32])\n",
      "torch.Size([128, 6, 28, 28])\n",
      "torch.Size([128, 6, 14, 14])\n",
      "torch.Size([128, 16, 5, 5])\n",
      "torch.Size([128, 3, 32, 32])\n",
      "torch.Size([128, 6, 28, 28])\n",
      "torch.Size([128, 6, 14, 14])\n",
      "torch.Size([128, 16, 5, 5])\n",
      "torch.Size([128, 3, 32, 32])\n",
      "torch.Size([128, 6, 28, 28])\n",
      "torch.Size([128, 6, 14, 14])\n",
      "torch.Size([128, 16, 5, 5])\n",
      "torch.Size([128, 3, 32, 32])\n",
      "torch.Size([128, 6, 28, 28])\n",
      "torch.Size([128, 6, 14, 14])\n",
      "torch.Size([128, 16, 5, 5])\n",
      "torch.Size([128, 3, 32, 32])\n",
      "torch.Size([128, 6, 28, 28])\n",
      "torch.Size([128, 6, 14, 14])\n",
      "torch.Size([128, 16, 5, 5])\n",
      "torch.Size([128, 3, 32, 32])\n",
      "torch.Size([128, 6, 28, 28])\n",
      "torch.Size([128, 6, 14, 14])\n",
      "torch.Size([128, 16, 5, 5])\n",
      "torch.Size([128, 3, 32, 32])\n",
      "torch.Size([128, 6, 28, 28])\n",
      "torch.Size([128, 6, 14, 14])\n",
      "torch.Size([128, 16, 5, 5])\n"
     ]
    },
    {
     "name": "stderr",
     "output_type": "stream",
     "text": [
      "Train Epoch: 1 [ 41984/50000 \tLoss: 2.306463]:  81%|████████  | 317/391 [00:02<00:00, 135.78it/s]"
     ]
    },
    {
     "name": "stdout",
     "output_type": "stream",
     "text": [
      "torch.Size([128, 3, 32, 32])\n",
      "torch.Size([128, 6, 28, 28])\n",
      "torch.Size([128, 6, 14, 14])\n",
      "torch.Size([128, 16, 5, 5])\n",
      "torch.Size([128, 3, 32, 32])\n",
      "torch.Size([128, 6, 28, 28])\n",
      "torch.Size([128, 6, 14, 14])\n",
      "torch.Size([128, 16, 5, 5])\n",
      "torch.Size([128, 3, 32, 32])\n",
      "torch.Size([128, 6, 28, 28])\n",
      "torch.Size([128, 6, 14, 14])\n",
      "torch.Size([128, 16, 5, 5])\n",
      "torch.Size([128, 3, 32, 32])\n",
      "torch.Size([128, 6, 28, 28])\n",
      "torch.Size([128, 6, 14, 14])\n",
      "torch.Size([128, 16, 5, 5])\n",
      "torch.Size([128, 3, 32, 32])\n",
      "torch.Size([128, 6, 28, 28])\n",
      "torch.Size([128, 6, 14, 14])\n",
      "torch.Size([128, 16, 5, 5])\n",
      "torch.Size([128, 3, 32, 32])\n",
      "torch.Size([128, 6, 28, 28])\n",
      "torch.Size([128, 6, 14, 14])\n",
      "torch.Size([128, 16, 5, 5])\n",
      "torch.Size([128, 3, 32, 32])\n",
      "torch.Size([128, 6, 28, 28])\n",
      "torch.Size([128, 6, 14, 14])\n",
      "torch.Size([128, 16, 5, 5])\n",
      "torch.Size([128, 3, 32, 32])\n",
      "torch.Size([128, 6, 28, 28])\n",
      "torch.Size([128, 6, 14, 14])\n",
      "torch.Size([128, 16, 5, 5])\n",
      "torch.Size([128, 3, 32, 32])\n",
      "torch.Size([128, 6, 28, 28])\n",
      "torch.Size([128, 6, 14, 14])\n",
      "torch.Size([128, 16, 5, 5])\n",
      "torch.Size([128, 3, 32, 32])\n",
      "torch.Size([128, 6, 28, 28])\n",
      "torch.Size([128, 6, 14, 14])\n",
      "torch.Size([128, 16, 5, 5])\n",
      "torch.Size([128, 3, 32, 32])\n",
      "torch.Size([128, 6, 28, 28])\n",
      "torch.Size([128, 6, 14, 14])\n",
      "torch.Size([128, 16, 5, 5])\n",
      "torch.Size([128, 3, 32, 32])\n",
      "torch.Size([128, 6, 28, 28])\n",
      "torch.Size([128, 6, 14, 14])\n",
      "torch.Size([128, 16, 5, 5])\n",
      "torch.Size([128, 3, 32, 32])\n",
      "torch.Size([128, 6, 28, 28])\n",
      "torch.Size([128, 6, 14, 14])\n",
      "torch.Size([128, 16, 5, 5])\n",
      "torch.Size([128, 3, 32, 32])\n",
      "torch.Size([128, 6, 28, 28])\n",
      "torch.Size([128, 6, 14, 14])\n",
      "torch.Size([128, 16, 5, 5])\n",
      "torch.Size([128, 3, 32, 32])\n",
      "torch.Size([128, 6, 28, 28])\n",
      "torch.Size([128, 6, 14, 14])\n",
      "torch.Size([128, 16, 5, 5])\n",
      "torch.Size([128, 3, 32, 32])\n",
      "torch.Size([128, 6, 28, 28])\n",
      "torch.Size([128, 6, 14, 14])\n",
      "torch.Size([128, 16, 5, 5])\n",
      "torch.Size([128, 3, 32, 32])\n",
      "torch.Size([128, 6, 28, 28])\n",
      "torch.Size([128, 6, 14, 14])\n",
      "torch.Size([128, 16, 5, 5])\n",
      "torch.Size([128, 3, 32, 32])\n",
      "torch.Size([128, 6, 28, 28])\n",
      "torch.Size([128, 6, 14, 14])\n",
      "torch.Size([128, 16, 5, 5])\n",
      "torch.Size([128, 3, 32, 32])\n",
      "torch.Size([128, 6, 28, 28])\n",
      "torch.Size([128, 6, 14, 14])\n",
      "torch.Size([128, 16, 5, 5])\n",
      "torch.Size([128, 3, 32, 32])\n",
      "torch.Size([128, 6, 28, 28])\n",
      "torch.Size([128, 6, 14, 14])\n",
      "torch.Size([128, 16, 5, 5])\n",
      "torch.Size([128, 3, 32, 32])\n",
      "torch.Size([128, 6, 28, 28])\n",
      "torch.Size([128, 6, 14, 14])\n",
      "torch.Size([128, 16, 5, 5])\n",
      "torch.Size([128, 3, 32, 32])\n",
      "torch.Size([128, 6, 28, 28])\n",
      "torch.Size([128, 6, 14, 14])\n",
      "torch.Size([128, 16, 5, 5])\n",
      "torch.Size([128, 3, 32, 32])\n",
      "torch.Size([128, 6, 28, 28])\n",
      "torch.Size([128, 6, 14, 14])\n",
      "torch.Size([128, 16, 5, 5])\n",
      "torch.Size([128, 3, 32, 32])\n",
      "torch.Size([128, 6, 28, 28])\n",
      "torch.Size([128, 6, 14, 14])\n",
      "torch.Size([128, 16, 5, 5])\n",
      "torch.Size([128, 3, 32, 32])\n",
      "torch.Size([128, 6, 28, 28])\n",
      "torch.Size([128, 6, 14, 14])\n",
      "torch.Size([128, 16, 5, 5])\n",
      "torch.Size([128, 3, 32, 32])\n",
      "torch.Size([128, 6, 28, 28])\n",
      "torch.Size([128, 6, 14, 14])\n",
      "torch.Size([128, 16, 5, 5])\n"
     ]
    },
    {
     "name": "stderr",
     "output_type": "stream",
     "text": [
      "Train Epoch: 1 [ 45440/50000 \tLoss: 2.299818]:  89%|████████▊ | 347/391 [00:02<00:00, 139.02it/s]"
     ]
    },
    {
     "name": "stdout",
     "output_type": "stream",
     "text": [
      "torch.Size([128, 3, 32, 32])\n",
      "torch.Size([128, 6, 28, 28])\n",
      "torch.Size([128, 6, 14, 14])\n",
      "torch.Size([128, 16, 5, 5])\n",
      "torch.Size([128, 3, 32, 32])\n",
      "torch.Size([128, 6, 28, 28])\n",
      "torch.Size([128, 6, 14, 14])\n",
      "torch.Size([128, 16, 5, 5])\n",
      "torch.Size([128, 3, 32, 32])\n",
      "torch.Size([128, 6, 28, 28])\n",
      "torch.Size([128, 6, 14, 14])\n",
      "torch.Size([128, 16, 5, 5])\n",
      "torch.Size([128, 3, 32, 32])\n",
      "torch.Size([128, 6, 28, 28])\n",
      "torch.Size([128, 6, 14, 14])\n",
      "torch.Size([128, 16, 5, 5])\n",
      "torch.Size([128, 3, 32, 32])\n",
      "torch.Size([128, 6, 28, 28])\n",
      "torch.Size([128, 6, 14, 14])\n",
      "torch.Size([128, 16, 5, 5])\n",
      "torch.Size([128, 3, 32, 32])\n",
      "torch.Size([128, 6, 28, 28])\n",
      "torch.Size([128, 6, 14, 14])\n",
      "torch.Size([128, 16, 5, 5])\n",
      "torch.Size([128, 3, 32, 32])\n",
      "torch.Size([128, 6, 28, 28])\n",
      "torch.Size([128, 6, 14, 14])\n",
      "torch.Size([128, 16, 5, 5])\n",
      "torch.Size([128, 3, 32, 32])\n",
      "torch.Size([128, 6, 28, 28])\n",
      "torch.Size([128, 6, 14, 14])\n",
      "torch.Size([128, 16, 5, 5])\n",
      "torch.Size([128, 3, 32, 32])\n",
      "torch.Size([128, 6, 28, 28])\n",
      "torch.Size([128, 6, 14, 14])\n",
      "torch.Size([128, 16, 5, 5])\n",
      "torch.Size([128, 3, 32, 32])\n",
      "torch.Size([128, 6, 28, 28])\n",
      "torch.Size([128, 6, 14, 14])\n",
      "torch.Size([128, 16, 5, 5])\n",
      "torch.Size([128, 3, 32, 32])\n",
      "torch.Size([128, 6, 28, 28])\n",
      "torch.Size([128, 6, 14, 14])\n",
      "torch.Size([128, 16, 5, 5])\n",
      "torch.Size([128, 3, 32, 32])\n",
      "torch.Size([128, 6, 28, 28])\n",
      "torch.Size([128, 6, 14, 14])\n",
      "torch.Size([128, 16, 5, 5])\n",
      "torch.Size([128, 3, 32, 32])\n",
      "torch.Size([128, 6, 28, 28])\n",
      "torch.Size([128, 6, 14, 14])\n",
      "torch.Size([128, 16, 5, 5])\n",
      "torch.Size([128, 3, 32, 32])\n",
      "torch.Size([128, 6, 28, 28])\n",
      "torch.Size([128, 6, 14, 14])\n",
      "torch.Size([128, 16, 5, 5])\n",
      "torch.Size([128, 3, 32, 32])\n",
      "torch.Size([128, 6, 28, 28])\n",
      "torch.Size([128, 6, 14, 14])\n",
      "torch.Size([128, 16, 5, 5])\n",
      "torch.Size([128, 3, 32, 32])\n",
      "torch.Size([128, 6, 28, 28])\n",
      "torch.Size([128, 6, 14, 14])\n",
      "torch.Size([128, 16, 5, 5])\n",
      "torch.Size([128, 3, 32, 32])\n",
      "torch.Size([128, 6, 28, 28])\n",
      "torch.Size([128, 6, 14, 14])\n",
      "torch.Size([128, 16, 5, 5])\n",
      "torch.Size([128, 3, 32, 32])\n",
      "torch.Size([128, 6, 28, 28])\n",
      "torch.Size([128, 6, 14, 14])\n",
      "torch.Size([128, 16, 5, 5])\n",
      "torch.Size([128, 3, 32, 32])\n",
      "torch.Size([128, 6, 28, 28])\n",
      "torch.Size([128, 6, 14, 14])\n",
      "torch.Size([128, 16, 5, 5])\n",
      "torch.Size([128, 3, 32, 32])\n",
      "torch.Size([128, 6, 28, 28])\n",
      "torch.Size([128, 6, 14, 14])\n",
      "torch.Size([128, 16, 5, 5])\n",
      "torch.Size([128, 3, 32, 32])\n",
      "torch.Size([128, 6, 28, 28])\n",
      "torch.Size([128, 6, 14, 14])\n",
      "torch.Size([128, 16, 5, 5])\n",
      "torch.Size([128, 3, 32, 32])\n",
      "torch.Size([128, 6, 28, 28])\n",
      "torch.Size([128, 6, 14, 14])\n",
      "torch.Size([128, 16, 5, 5])\n",
      "torch.Size([128, 3, 32, 32])\n",
      "torch.Size([128, 6, 28, 28])\n",
      "torch.Size([128, 6, 14, 14])\n",
      "torch.Size([128, 16, 5, 5])\n",
      "torch.Size([128, 3, 32, 32])\n",
      "torch.Size([128, 6, 28, 28])\n",
      "torch.Size([128, 6, 14, 14])\n",
      "torch.Size([128, 16, 5, 5])\n",
      "torch.Size([128, 3, 32, 32])\n",
      "torch.Size([128, 6, 28, 28])\n",
      "torch.Size([128, 6, 14, 14])\n",
      "torch.Size([128, 16, 5, 5])\n",
      "torch.Size([128, 3, 32, 32])\n",
      "torch.Size([128, 6, 28, 28])\n",
      "torch.Size([128, 6, 14, 14])\n",
      "torch.Size([128, 16, 5, 5])\n",
      "torch.Size([128, 3, 32, 32])\n",
      "torch.Size([128, 6, 28, 28])\n",
      "torch.Size([128, 6, 14, 14])\n",
      "torch.Size([128, 16, 5, 5])\n"
     ]
    },
    {
     "name": "stderr",
     "output_type": "stream",
     "text": [
      "Train Epoch: 1 [ 48768/50000 \tLoss: 2.307637]:  96%|█████████▋| 377/391 [00:03<00:00, 139.66it/s]"
     ]
    },
    {
     "name": "stdout",
     "output_type": "stream",
     "text": [
      "torch.Size([128, 3, 32, 32])\n",
      "torch.Size([128, 6, 28, 28])\n",
      "torch.Size([128, 6, 14, 14])\n",
      "torch.Size([128, 16, 5, 5])\n",
      "torch.Size([128, 3, 32, 32])\n",
      "torch.Size([128, 6, 28, 28])\n",
      "torch.Size([128, 6, 14, 14])\n",
      "torch.Size([128, 16, 5, 5])\n",
      "torch.Size([128, 3, 32, 32])\n",
      "torch.Size([128, 6, 28, 28])\n",
      "torch.Size([128, 6, 14, 14])\n",
      "torch.Size([128, 16, 5, 5])\n",
      "torch.Size([128, 3, 32, 32])\n",
      "torch.Size([128, 6, 28, 28])\n",
      "torch.Size([128, 6, 14, 14])\n",
      "torch.Size([128, 16, 5, 5])\n",
      "torch.Size([128, 3, 32, 32])\n",
      "torch.Size([128, 6, 28, 28])\n",
      "torch.Size([128, 6, 14, 14])\n",
      "torch.Size([128, 16, 5, 5])\n",
      "torch.Size([128, 3, 32, 32])\n",
      "torch.Size([128, 6, 28, 28])\n",
      "torch.Size([128, 6, 14, 14])\n",
      "torch.Size([128, 16, 5, 5])\n",
      "torch.Size([128, 3, 32, 32])\n",
      "torch.Size([128, 6, 28, 28])\n",
      "torch.Size([128, 6, 14, 14])\n",
      "torch.Size([128, 16, 5, 5])\n",
      "torch.Size([128, 3, 32, 32])\n",
      "torch.Size([128, 6, 28, 28])\n",
      "torch.Size([128, 6, 14, 14])\n",
      "torch.Size([128, 16, 5, 5])\n",
      "torch.Size([128, 3, 32, 32])\n",
      "torch.Size([128, 6, 28, 28])\n",
      "torch.Size([128, 6, 14, 14])\n",
      "torch.Size([128, 16, 5, 5])\n",
      "torch.Size([128, 3, 32, 32])\n",
      "torch.Size([128, 6, 28, 28])\n",
      "torch.Size([128, 6, 14, 14])\n",
      "torch.Size([128, 16, 5, 5])\n",
      "torch.Size([128, 3, 32, 32])\n",
      "torch.Size([128, 6, 28, 28])\n",
      "torch.Size([128, 6, 14, 14])\n",
      "torch.Size([128, 16, 5, 5])\n",
      "torch.Size([128, 3, 32, 32])\n",
      "torch.Size([128, 6, 28, 28])\n",
      "torch.Size([128, 6, 14, 14])\n",
      "torch.Size([128, 16, 5, 5])\n",
      "torch.Size([128, 3, 32, 32])\n",
      "torch.Size([128, 6, 28, 28])\n",
      "torch.Size([128, 6, 14, 14])\n",
      "torch.Size([128, 16, 5, 5])\n",
      "torch.Size([128, 3, 32, 32])\n",
      "torch.Size([128, 6, 28, 28])\n",
      "torch.Size([128, 6, 14, 14])\n",
      "torch.Size([128, 16, 5, 5])\n",
      "torch.Size([128, 3, 32, 32])\n",
      "torch.Size([128, 6, 28, 28])\n",
      "torch.Size([128, 6, 14, 14])\n",
      "torch.Size([128, 16, 5, 5])\n",
      "torch.Size([128, 3, 32, 32])\n",
      "torch.Size([128, 6, 28, 28])\n",
      "torch.Size([128, 6, 14, 14])\n",
      "torch.Size([128, 16, 5, 5])\n",
      "torch.Size([128, 3, 32, 32])\n",
      "torch.Size([128, 6, 28, 28])\n",
      "torch.Size([128, 6, 14, 14])\n",
      "torch.Size([128, 16, 5, 5])\n",
      "torch.Size([128, 3, 32, 32])\n",
      "torch.Size([128, 6, 28, 28])\n",
      "torch.Size([128, 6, 14, 14])\n",
      "torch.Size([128, 16, 5, 5])\n",
      "torch.Size([128, 3, 32, 32])\n",
      "torch.Size([128, 6, 28, 28])\n",
      "torch.Size([128, 6, 14, 14])\n",
      "torch.Size([128, 16, 5, 5])\n",
      "torch.Size([128, 3, 32, 32])\n",
      "torch.Size([128, 6, 28, 28])\n",
      "torch.Size([128, 6, 14, 14])\n",
      "torch.Size([128, 16, 5, 5])\n",
      "torch.Size([128, 3, 32, 32])\n",
      "torch.Size([128, 6, 28, 28])\n",
      "torch.Size([128, 6, 14, 14])\n",
      "torch.Size([128, 16, 5, 5])\n",
      "torch.Size([128, 3, 32, 32])\n",
      "torch.Size([128, 6, 28, 28])\n",
      "torch.Size([128, 6, 14, 14])\n",
      "torch.Size([128, 16, 5, 5])\n",
      "torch.Size([128, 3, 32, 32])\n",
      "torch.Size([128, 6, 28, 28])\n",
      "torch.Size([128, 6, 14, 14])\n",
      "torch.Size([128, 16, 5, 5])\n",
      "torch.Size([128, 3, 32, 32])\n",
      "torch.Size([128, 6, 28, 28])\n",
      "torch.Size([128, 6, 14, 14])\n",
      "torch.Size([128, 16, 5, 5])\n",
      "torch.Size([128, 3, 32, 32])\n",
      "torch.Size([128, 6, 28, 28])\n",
      "torch.Size([128, 6, 14, 14])\n",
      "torch.Size([128, 16, 5, 5])\n",
      "torch.Size([128, 3, 32, 32])\n",
      "torch.Size([128, 6, 28, 28])\n",
      "torch.Size([128, 6, 14, 14])\n",
      "torch.Size([128, 16, 5, 5])\n"
     ]
    },
    {
     "name": "stderr",
     "output_type": "stream",
     "text": [
      "Train Epoch: 1 [ 31200/50000 \tLoss: 2.300783]: 100%|██████████| 391/391 [00:03<00:00, 125.44it/s]\n"
     ]
    },
    {
     "name": "stdout",
     "output_type": "stream",
     "text": [
      "torch.Size([128, 3, 32, 32])\n",
      "torch.Size([128, 6, 28, 28])\n",
      "torch.Size([128, 6, 14, 14])\n",
      "torch.Size([128, 16, 5, 5])\n",
      "torch.Size([128, 3, 32, 32])\n",
      "torch.Size([128, 6, 28, 28])\n",
      "torch.Size([128, 6, 14, 14])\n",
      "torch.Size([128, 16, 5, 5])\n",
      "torch.Size([128, 3, 32, 32])\n",
      "torch.Size([128, 6, 28, 28])\n",
      "torch.Size([128, 6, 14, 14])\n",
      "torch.Size([128, 16, 5, 5])\n",
      "torch.Size([128, 3, 32, 32])\n",
      "torch.Size([128, 6, 28, 28])\n",
      "torch.Size([128, 6, 14, 14])\n",
      "torch.Size([128, 16, 5, 5])\n",
      "torch.Size([128, 3, 32, 32])\n",
      "torch.Size([128, 6, 28, 28])\n",
      "torch.Size([128, 6, 14, 14])\n",
      "torch.Size([128, 16, 5, 5])\n",
      "torch.Size([128, 3, 32, 32])\n",
      "torch.Size([128, 6, 28, 28])\n",
      "torch.Size([128, 6, 14, 14])\n",
      "torch.Size([128, 16, 5, 5])\n",
      "torch.Size([128, 3, 32, 32])\n",
      "torch.Size([128, 6, 28, 28])\n",
      "torch.Size([128, 6, 14, 14])\n",
      "torch.Size([128, 16, 5, 5])\n",
      "torch.Size([128, 3, 32, 32])\n",
      "torch.Size([128, 6, 28, 28])\n",
      "torch.Size([128, 6, 14, 14])\n",
      "torch.Size([128, 16, 5, 5])\n",
      "torch.Size([80, 3, 32, 32])\n",
      "torch.Size([80, 6, 28, 28])\n",
      "torch.Size([80, 6, 14, 14])\n",
      "torch.Size([80, 16, 5, 5])\n"
     ]
    },
    {
     "name": "stderr",
     "output_type": "stream",
     "text": [
      "Test Epoch: 1 [2432/10000 \tLoss: 46.032489, Accuracy: 269/10000 (2.69%):  11%|█▏        | 9/79 [00:00<00:00, 89.11it/s]"
     ]
    },
    {
     "name": "stdout",
     "output_type": "stream",
     "text": [
      "torch.Size([128, 3, 32, 32])\n",
      "torch.Size([128, 6, 28, 28])\n",
      "torch.Size([128, 6, 14, 14])\n",
      "torch.Size([128, 16, 5, 5])\n",
      "torch.Size([128, 3, 32, 32])\n",
      "torch.Size([128, 6, 28, 28])\n",
      "torch.Size([128, 6, 14, 14])\n",
      "torch.Size([128, 16, 5, 5])\n",
      "torch.Size([128, 3, 32, 32])\n",
      "torch.Size([128, 6, 28, 28])\n",
      "torch.Size([128, 6, 14, 14])\n",
      "torch.Size([128, 16, 5, 5])\n",
      "torch.Size([128, 3, 32, 32])\n",
      "torch.Size([128, 6, 28, 28])\n",
      "torch.Size([128, 6, 14, 14])\n",
      "torch.Size([128, 16, 5, 5])\n",
      "torch.Size([128, 3, 32, 32])\n",
      "torch.Size([128, 6, 28, 28])\n",
      "torch.Size([128, 6, 14, 14])\n",
      "torch.Size([128, 16, 5, 5])\n",
      "torch.Size([128, 3, 32, 32])\n",
      "torch.Size([128, 6, 28, 28])\n",
      "torch.Size([128, 6, 14, 14])\n",
      "torch.Size([128, 16, 5, 5])\n",
      "torch.Size([128, 3, 32, 32])\n",
      "torch.Size([128, 6, 28, 28])\n",
      "torch.Size([128, 6, 14, 14])\n",
      "torch.Size([128, 16, 5, 5])\n",
      "torch.Size([128, 3, 32, 32])\n",
      "torch.Size([128, 6, 28, 28])\n",
      "torch.Size([128, 6, 14, 14])\n",
      "torch.Size([128, 16, 5, 5])\n",
      "torch.Size([128, 3, 32, 32])\n",
      "torch.Size([128, 6, 28, 28])\n",
      "torch.Size([128, 6, 14, 14])\n",
      "torch.Size([128, 16, 5, 5])\n",
      "torch.Size([128, 3, 32, 32])\n",
      "torch.Size([128, 6, 28, 28])\n",
      "torch.Size([128, 6, 14, 14])\n",
      "torch.Size([128, 16, 5, 5])\n",
      "torch.Size([128, 3, 32, 32])\n",
      "torch.Size([128, 6, 28, 28])\n",
      "torch.Size([128, 6, 14, 14])\n",
      "torch.Size([128, 16, 5, 5])\n",
      "torch.Size([128, 3, 32, 32])\n",
      "torch.Size([128, 6, 28, 28])\n",
      "torch.Size([128, 6, 14, 14])\n",
      "torch.Size([128, 16, 5, 5])\n",
      "torch.Size([128, 3, 32, 32])\n",
      "torch.Size([128, 6, 28, 28])\n",
      "torch.Size([128, 6, 14, 14])\n",
      "torch.Size([128, 16, 5, 5])\n",
      "torch.Size([128, 3, 32, 32])\n",
      "torch.Size([128, 6, 28, 28])\n",
      "torch.Size([128, 6, 14, 14])\n",
      "torch.Size([128, 16, 5, 5])\n",
      "torch.Size([128, 3, 32, 32])\n",
      "torch.Size([128, 6, 28, 28])\n",
      "torch.Size([128, 6, 14, 14])\n",
      "torch.Size([128, 16, 5, 5])\n",
      "torch.Size([128, 3, 32, 32])\n",
      "torch.Size([128, 6, 28, 28])\n",
      "torch.Size([128, 6, 14, 14])\n",
      "torch.Size([128, 16, 5, 5])\n",
      "torch.Size([128, 3, 32, 32])\n",
      "torch.Size([128, 6, 28, 28])\n",
      "torch.Size([128, 6, 14, 14])\n",
      "torch.Size([128, 16, 5, 5])\n",
      "torch.Size([128, 3, 32, 32])\n",
      "torch.Size([128, 6, 28, 28])\n",
      "torch.Size([128, 6, 14, 14])\n",
      "torch.Size([128, 16, 5, 5])\n",
      "torch.Size([128, 3, 32, 32])\n",
      "torch.Size([128, 6, 28, 28])\n",
      "torch.Size([128, 6, 14, 14])\n",
      "torch.Size([128, 16, 5, 5])\n",
      "torch.Size([128, 3, 32, 32])\n",
      "torch.Size([128, 6, 28, 28])\n",
      "torch.Size([128, 6, 14, 14])\n",
      "torch.Size([128, 16, 5, 5])\n"
     ]
    },
    {
     "name": "stderr",
     "output_type": "stream",
     "text": [
      "Test Epoch: 1 [4736/10000 \tLoss: 87.485102, Accuracy: 511/10000 (5.11%):  47%|████▋     | 37/79 [00:00<00:00, 101.37it/s]"
     ]
    },
    {
     "name": "stdout",
     "output_type": "stream",
     "text": [
      "torch.Size([128, 3, 32, 32])\n",
      "torch.Size([128, 6, 28, 28])\n",
      "torch.Size([128, 6, 14, 14])\n",
      "torch.Size([128, 16, 5, 5])\n",
      "torch.Size([128, 3, 32, 32])\n",
      "torch.Size([128, 6, 28, 28])\n",
      "torch.Size([128, 6, 14, 14])\n",
      "torch.Size([128, 16, 5, 5])\n",
      "torch.Size([128, 3, 32, 32])\n",
      "torch.Size([128, 6, 28, 28])\n",
      "torch.Size([128, 6, 14, 14])\n",
      "torch.Size([128, 16, 5, 5])\n",
      "torch.Size([128, 3, 32, 32])\n",
      "torch.Size([128, 6, 28, 28])\n",
      "torch.Size([128, 6, 14, 14])\n",
      "torch.Size([128, 16, 5, 5])\n",
      "torch.Size([128, 3, 32, 32])\n",
      "torch.Size([128, 6, 28, 28])\n",
      "torch.Size([128, 6, 14, 14])\n",
      "torch.Size([128, 16, 5, 5])\n",
      "torch.Size([128, 3, 32, 32])\n",
      "torch.Size([128, 6, 28, 28])\n",
      "torch.Size([128, 6, 14, 14])\n",
      "torch.Size([128, 16, 5, 5])\n",
      "torch.Size([128, 3, 32, 32])\n",
      "torch.Size([128, 6, 28, 28])\n",
      "torch.Size([128, 6, 14, 14])\n",
      "torch.Size([128, 16, 5, 5])\n",
      "torch.Size([128, 3, 32, 32])\n",
      "torch.Size([128, 6, 28, 28])\n",
      "torch.Size([128, 6, 14, 14])\n",
      "torch.Size([128, 16, 5, 5])\n",
      "torch.Size([128, 3, 32, 32])\n",
      "torch.Size([128, 6, 28, 28])\n",
      "torch.Size([128, 6, 14, 14])\n",
      "torch.Size([128, 16, 5, 5])\n",
      "torch.Size([128, 3, 32, 32])\n",
      "torch.Size([128, 6, 28, 28])\n",
      "torch.Size([128, 6, 14, 14])\n",
      "torch.Size([128, 16, 5, 5])\n",
      "torch.Size([128, 3, 32, 32])\n",
      "torch.Size([128, 6, 28, 28])\n",
      "torch.Size([128, 6, 14, 14])\n",
      "torch.Size([128, 16, 5, 5])\n",
      "torch.Size([128, 3, 32, 32])\n",
      "torch.Size([128, 6, 28, 28])\n",
      "torch.Size([128, 6, 14, 14])\n",
      "torch.Size([128, 16, 5, 5])\n",
      "torch.Size([128, 3, 32, 32])\n",
      "torch.Size([128, 6, 28, 28])\n",
      "torch.Size([128, 6, 14, 14])\n",
      "torch.Size([128, 16, 5, 5])\n",
      "torch.Size([128, 3, 32, 32])\n",
      "torch.Size([128, 6, 28, 28])\n",
      "torch.Size([128, 6, 14, 14])\n",
      "torch.Size([128, 16, 5, 5])\n",
      "torch.Size([128, 3, 32, 32])\n",
      "torch.Size([128, 6, 28, 28])\n",
      "torch.Size([128, 6, 14, 14])\n",
      "torch.Size([128, 16, 5, 5])\n",
      "torch.Size([128, 3, 32, 32])\n",
      "torch.Size([128, 6, 28, 28])\n",
      "torch.Size([128, 6, 14, 14])\n",
      "torch.Size([128, 16, 5, 5])\n",
      "torch.Size([128, 3, 32, 32])\n",
      "torch.Size([128, 6, 28, 28])\n",
      "torch.Size([128, 6, 14, 14])\n",
      "torch.Size([128, 16, 5, 5])\n",
      "torch.Size([128, 3, 32, 32])\n",
      "torch.Size([128, 6, 28, 28])\n",
      "torch.Size([128, 6, 14, 14])\n",
      "torch.Size([128, 16, 5, 5])\n"
     ]
    },
    {
     "name": "stderr",
     "output_type": "stream",
     "text": [
      "\n"
     ]
    }
   ],
   "source": [
    "#torch.autograd.set_detect_anomaly(True) #this line can have huge performance impact\n",
    "# train the model\n",
    "from logging import raiseExceptions\n",
    "\n",
    "# training step\n",
    "\n",
    "def train(model, train_loader, optimizer, epoch):\n",
    "    model.train()\n",
    "    #train_loss_averager = make_averager()  # mantain a running average of the loss\n",
    "\n",
    "    # TRAIN\n",
    "    tqdm_iterator = tqdm(\n",
    "        enumerate(train_loader),\n",
    "        total=len(train_loader),\n",
    "        desc=\"\",\n",
    "        leave=True,)\n",
    "\n",
    "    len_tr_dl_ds = len(train_loader.dataset)\n",
    "\n",
    "    for batch_idx, (data, target) in tqdm_iterator:\n",
    "        data, target = data.to(device, non_blocking=True), target.to(device, non_blocking=True)\n",
    "        output = model(data)\n",
    "        loss = F.cross_entropy(output, target)\n",
    "        model.zero_grad(set_to_none=True)\n",
    "        loss.backward()\n",
    "        optimizer.step()\n",
    "        optimizer.zero_grad(set_to_none=True)\n",
    "\n",
    "        #train_loss_averager(loss.item())\n",
    "        tqdm_iterator.set_description(\n",
    "            f\"Train Epoch: {epoch} [ {batch_idx * len(data)}/{len_tr_dl_ds} \\tLoss: {loss.item():.6f}]\"\n",
    "        )\n",
    "        tqdm_iterator.refresh()  # to show immediately the update\n",
    "    tqdm_iterator.close()\n",
    "\n",
    "    if np.isnan(loss.item()):\n",
    "        print(\"Loss is nan\")\n",
    "        raise Exception(\"Loss is nan\")\n",
    "        exit()\n",
    "\n",
    "\n",
    "# testing step\n",
    "def test(model, test_loader):\n",
    "    model.eval()\n",
    "    test_loss = 0\n",
    "    correct = 0\n",
    "\n",
    "    tqdm_iterator = tqdm(\n",
    "        enumerate(test_loader),\n",
    "        total=len(test_loader),\n",
    "        desc=\"\",\n",
    "        leave=True,)\n",
    "\n",
    "    len_ts_dl_ds = len(test_loader.dataset)\n",
    "\n",
    "    with torch.no_grad():\n",
    "        for batch_idx, (data, target) in tqdm_iterator:\n",
    "            data, target = data.to(device, non_blocking=True), target.to(device, non_blocking=True)\n",
    "            output = model(data)\n",
    "            test_loss += F.cross_entropy(output, target).item()  # sum up batch loss\n",
    "            # get the index of the max probability\n",
    "            pred = output.max(1, keepdim=True)[1]\n",
    "            correct += pred.eq(target.view_as(pred)).cpu().sum().item()\n",
    "            tqdm_iterator.set_description(\n",
    "            f\"Test Epoch: {epoch} [{batch_idx * len(data)}/{len_ts_dl_ds} \\tLoss: {test_loss:.6f}, Accuracy: {correct}/{len_ts_dl_ds} ({100.0 * correct / len_ts_dl_ds}%)\"\n",
    "        )\n",
    "    tqdm_iterator.refresh()  # to show immediately the update\n",
    "    test_loss /= len(test_loader.dataset)\n",
    "    print(f\"Validation Average loss: {test_loss:.6f}\")\n",
    "    \n",
    "    tqdm_iterator.close()\n",
    "    \n",
    "    # show an histogram of the weights of the model\n",
    "    \"\"\"start = -1\n",
    "    stop = 1\n",
    "    bins = 30\n",
    "    for param in model.parameters():\n",
    "        if param.requires_grad:\n",
    "            \n",
    "            hist = torch.histc(param.data, bins = bins, min = start, max = stop)\n",
    "            x = np.arange(start, stop, (stop-start)/bins)\n",
    "            plt.bar(x, hist.cpu(), align='center')\n",
    "            plt.ylabel('Frequency')\n",
    "            plt.show() \"\"\"\n",
    "\n",
    "    return correct / len(test_loader.dataset)\n",
    "\n",
    "if __name__ == \"__main__\":\n",
    "    learning_rate = 0.01\n",
    "    optimizer = optim.SGD(model_intrinsic.parameters(), lr=learning_rate)\n",
    "    # download and load MNIST Dataset\n",
    "    train_dataloader = DataLoader(train_dataset, batch_size=BATCH_SIZE, shuffle=True, num_workers = 4, pin_memory=True, persistent_workers=True)\n",
    "    test_dataloader = DataLoader(test_dataset, batch_size=BATCH_SIZE, shuffle=True, num_workers = 2, pin_memory=True, persistent_workers=True)\n",
    "    # train the model\n",
    "    best_acc, best_epoch = 0, 0\n",
    "    for epoch in range(1, 101):\n",
    "        train(model_intrinsic, train_dataloader, optimizer, epoch)\n",
    "        accuracy = test(model_intrinsic, test_dataloader)\n",
    "        print(\"Validation Accuracy: {}\".format(accuracy))\n",
    "        #save information to file\n",
    "        with open('results.txt', 'a') as f:\n",
    "            f.write(f\"\\nEpoch: {epoch}\")\n",
    "            f.write(f\"\\nValidation Accuracy: {accuracy}\")\n",
    "        f.close()\n",
    "        if accuracy > best_acc:\n",
    "            best_acc = accuracy\n",
    "            best_epoch = epoch\n",
    "            if best_acc >= 0.90:\n",
    "                torch.save(model_intrinsic.state_dict(), f\"lenet_mnist_{intrinsic_dim}.pt\")\n",
    "                #torch.save(model_intrinsic.state_dict(), f\"model_best_h{hidden_dim}_id{intrinsic_dim}_lay{num_layers}.pt\")\n",
    "                \"\"\" j = None\n",
    "                with open('results.json', 'r') as f:\n",
    "                    j = json.load(f)\n",
    "                f.close()\n",
    "                with open('results.json', 'w') as f:\n",
    "                    j[f\"fcmodel_h{hidden_dim}_id{intrinsic_dim}_lay{num_layers}\"] = {\"number_parameter\": num_params, \"hidden_dimension\": hidden_dim, \"number_layers\": num_layers, \"intrinsic_dimension\": intrinsic_dim, \"epoch\": epoch, \"validation_accuracy\": accuracy}\n",
    "                    json.dump(j, f, indent=4, separators=(',', ': ')) \n",
    "                break \"\"\"\n",
    "\n",
    "    j = None\n",
    "    with open('results_lenet.json', 'r') as f:\n",
    "        j = json.load(f)\n",
    "    f.close()\n",
    "    with open('results_lenet.json', 'w') as f:\n",
    "        j[f\"lenet_model_id{intrinsic_dim}_lr{learning_rate}\"] = {\"number_parameter\": num_params, \"intrinsic_dimension\": intrinsic_dim, \"epoch\": epoch, \n",
    "        \"validation_accuracy\": accuracy, \"learning_rate\": learning_rate, \"best_epoch\": best_epoch, \"best_accuracy\": best_acc}\n",
    "        json.dump(j, f, indent=4, separators=(',', ': '))\n",
    "    f.close()\n",
    "\n",
    "    \"\"\" j = None\n",
    "    with open('results_lenet.json', 'r') as f:\n",
    "        j = json.load(f)\n",
    "    f.close()\n",
    "    with open('results_lenet.json', 'w') as f:\n",
    "        j[f\"fcmodel_h{hidden_dim}_id{intrinsic_dim}_lay{num_layers}_lr{learning_rate}\"] = {\"number_parameter\": num_params, \n",
    "        \"hidden_dimension\": hidden_dim, \"number_layers\": num_layers, \"intrinsic_dimension\": intrinsic_dim, \"epoch\": epoch, \n",
    "        \"validation_accuracy\": accuracy, \"learning_rate\": learning_rate, \"best_epoch\": best_epoch, \"best_accuracy\": best_acc}\n",
    "        json.dump(j, f, indent=4, separators=(',', ': '))\n",
    "    f.close() \"\"\"\n",
    "\"\"\"     j = None\n",
    "    with open('results.json', 'r') as f:\n",
    "        j = json.load(f)\n",
    "    f.close()\n",
    "    with open('results.json', 'w') as f:\n",
    "        j[f\"fcmodel_h{hidden_dim}_id{intrinsic_dim}_lay{num_layers}\"] = {\"number_parameter\": num_params, \"hidden_dimension\": hidden_dim, \"number_layers\": num_layers, \"intrinsic_dimension\": intrinsic_dim, \"epoch\": epoch, \"validation_accuracy\": accuracy}\n",
    "        json.dump(j, f, indent=4, separators=(',', ': ')) \"\"\"\n"
   ]
  },
  {
   "cell_type": "code",
   "execution_count": 60,
   "metadata": {},
   "outputs": [
    {
     "data": {
      "application/vnd.plotly.v1+json": {
       "config": {
        "plotlyServerURL": "https://plot.ly"
       },
       "data": [
        {
         "error_y": {
          "array": [
           1,
           2,
           3,
           4,
           5
          ],
          "type": "data",
          "visible": true
         },
         "marker": {
          "color": [
           1,
           2,
           3,
           4,
           5
          ],
          "showscale": true,
          "size": 30
         },
         "mode": "markers",
         "name": "layer width: 50",
         "type": "scatter",
         "x": [
          1,
          3.2,
          5.4,
          7.6,
          9.8
         ],
         "y": [
          1,
          3.2,
          5.4,
          7.6,
          9.8
         ]
        },
        {
         "error_y": {
          "array": [
           1,
           2,
           3,
           4,
           5
          ],
          "type": "data",
          "visible": true
         },
         "marker": {
          "color": [
           1,
           2,
           3,
           4,
           5
          ],
          "showscale": true,
          "size": 55
         },
         "mode": "markers",
         "name": "layer width: 100",
         "type": "scatter",
         "x": [
          1,
          3.2,
          5.4,
          7.6,
          9.8
         ],
         "y": [
          1,
          3.2,
          5.4,
          7.6,
          9.8
         ]
        },
        {
         "error_y": {
          "array": [
           1,
           2,
           3,
           4,
           5
          ],
          "type": "data",
          "visible": true
         },
         "marker": {
          "color": [
           1,
           2,
           3,
           4,
           5
          ],
          "showscale": true,
          "size": 70
         },
         "mode": "markers",
         "name": "layer width: 200",
         "type": "scatter",
         "x": [
          1,
          3.2,
          5.4,
          7.6,
          9.8
         ],
         "y": [
          1,
          3.2,
          5.4,
          7.6,
          9.8
         ]
        },
        {
         "error_y": {
          "array": [
           1,
           2,
           3,
           4,
           5
          ],
          "type": "data",
          "visible": true
         },
         "marker": {
          "color": [
           1,
           2,
           3,
           4,
           5
          ],
          "showscale": true,
          "size": 90
         },
         "mode": "markers",
         "name": "layer width: 400",
         "type": "scatter",
         "x": [
          1,
          3.2,
          5.4,
          7.6,
          9.8
         ],
         "y": [
          1,
          3.2,
          5.4,
          7.6,
          9.8
         ]
        }
       ],
       "layout": {
        "legend": {
         "x": 0.01,
         "xanchor": "left",
         "y": 0.99,
         "yanchor": "top"
        },
        "template": {
         "data": {
          "bar": [
           {
            "error_x": {
             "color": "#2a3f5f"
            },
            "error_y": {
             "color": "#2a3f5f"
            },
            "marker": {
             "line": {
              "color": "#E5ECF6",
              "width": 0.5
             },
             "pattern": {
              "fillmode": "overlay",
              "size": 10,
              "solidity": 0.2
             }
            },
            "type": "bar"
           }
          ],
          "barpolar": [
           {
            "marker": {
             "line": {
              "color": "#E5ECF6",
              "width": 0.5
             },
             "pattern": {
              "fillmode": "overlay",
              "size": 10,
              "solidity": 0.2
             }
            },
            "type": "barpolar"
           }
          ],
          "carpet": [
           {
            "aaxis": {
             "endlinecolor": "#2a3f5f",
             "gridcolor": "white",
             "linecolor": "white",
             "minorgridcolor": "white",
             "startlinecolor": "#2a3f5f"
            },
            "baxis": {
             "endlinecolor": "#2a3f5f",
             "gridcolor": "white",
             "linecolor": "white",
             "minorgridcolor": "white",
             "startlinecolor": "#2a3f5f"
            },
            "type": "carpet"
           }
          ],
          "choropleth": [
           {
            "colorbar": {
             "outlinewidth": 0,
             "ticks": ""
            },
            "type": "choropleth"
           }
          ],
          "contour": [
           {
            "colorbar": {
             "outlinewidth": 0,
             "ticks": ""
            },
            "colorscale": [
             [
              0,
              "#0d0887"
             ],
             [
              0.1111111111111111,
              "#46039f"
             ],
             [
              0.2222222222222222,
              "#7201a8"
             ],
             [
              0.3333333333333333,
              "#9c179e"
             ],
             [
              0.4444444444444444,
              "#bd3786"
             ],
             [
              0.5555555555555556,
              "#d8576b"
             ],
             [
              0.6666666666666666,
              "#ed7953"
             ],
             [
              0.7777777777777778,
              "#fb9f3a"
             ],
             [
              0.8888888888888888,
              "#fdca26"
             ],
             [
              1,
              "#f0f921"
             ]
            ],
            "type": "contour"
           }
          ],
          "contourcarpet": [
           {
            "colorbar": {
             "outlinewidth": 0,
             "ticks": ""
            },
            "type": "contourcarpet"
           }
          ],
          "heatmap": [
           {
            "colorbar": {
             "outlinewidth": 0,
             "ticks": ""
            },
            "colorscale": [
             [
              0,
              "#0d0887"
             ],
             [
              0.1111111111111111,
              "#46039f"
             ],
             [
              0.2222222222222222,
              "#7201a8"
             ],
             [
              0.3333333333333333,
              "#9c179e"
             ],
             [
              0.4444444444444444,
              "#bd3786"
             ],
             [
              0.5555555555555556,
              "#d8576b"
             ],
             [
              0.6666666666666666,
              "#ed7953"
             ],
             [
              0.7777777777777778,
              "#fb9f3a"
             ],
             [
              0.8888888888888888,
              "#fdca26"
             ],
             [
              1,
              "#f0f921"
             ]
            ],
            "type": "heatmap"
           }
          ],
          "heatmapgl": [
           {
            "colorbar": {
             "outlinewidth": 0,
             "ticks": ""
            },
            "colorscale": [
             [
              0,
              "#0d0887"
             ],
             [
              0.1111111111111111,
              "#46039f"
             ],
             [
              0.2222222222222222,
              "#7201a8"
             ],
             [
              0.3333333333333333,
              "#9c179e"
             ],
             [
              0.4444444444444444,
              "#bd3786"
             ],
             [
              0.5555555555555556,
              "#d8576b"
             ],
             [
              0.6666666666666666,
              "#ed7953"
             ],
             [
              0.7777777777777778,
              "#fb9f3a"
             ],
             [
              0.8888888888888888,
              "#fdca26"
             ],
             [
              1,
              "#f0f921"
             ]
            ],
            "type": "heatmapgl"
           }
          ],
          "histogram": [
           {
            "marker": {
             "pattern": {
              "fillmode": "overlay",
              "size": 10,
              "solidity": 0.2
             }
            },
            "type": "histogram"
           }
          ],
          "histogram2d": [
           {
            "colorbar": {
             "outlinewidth": 0,
             "ticks": ""
            },
            "colorscale": [
             [
              0,
              "#0d0887"
             ],
             [
              0.1111111111111111,
              "#46039f"
             ],
             [
              0.2222222222222222,
              "#7201a8"
             ],
             [
              0.3333333333333333,
              "#9c179e"
             ],
             [
              0.4444444444444444,
              "#bd3786"
             ],
             [
              0.5555555555555556,
              "#d8576b"
             ],
             [
              0.6666666666666666,
              "#ed7953"
             ],
             [
              0.7777777777777778,
              "#fb9f3a"
             ],
             [
              0.8888888888888888,
              "#fdca26"
             ],
             [
              1,
              "#f0f921"
             ]
            ],
            "type": "histogram2d"
           }
          ],
          "histogram2dcontour": [
           {
            "colorbar": {
             "outlinewidth": 0,
             "ticks": ""
            },
            "colorscale": [
             [
              0,
              "#0d0887"
             ],
             [
              0.1111111111111111,
              "#46039f"
             ],
             [
              0.2222222222222222,
              "#7201a8"
             ],
             [
              0.3333333333333333,
              "#9c179e"
             ],
             [
              0.4444444444444444,
              "#bd3786"
             ],
             [
              0.5555555555555556,
              "#d8576b"
             ],
             [
              0.6666666666666666,
              "#ed7953"
             ],
             [
              0.7777777777777778,
              "#fb9f3a"
             ],
             [
              0.8888888888888888,
              "#fdca26"
             ],
             [
              1,
              "#f0f921"
             ]
            ],
            "type": "histogram2dcontour"
           }
          ],
          "mesh3d": [
           {
            "colorbar": {
             "outlinewidth": 0,
             "ticks": ""
            },
            "type": "mesh3d"
           }
          ],
          "parcoords": [
           {
            "line": {
             "colorbar": {
              "outlinewidth": 0,
              "ticks": ""
             }
            },
            "type": "parcoords"
           }
          ],
          "pie": [
           {
            "automargin": true,
            "type": "pie"
           }
          ],
          "scatter": [
           {
            "fillpattern": {
             "fillmode": "overlay",
             "size": 10,
             "solidity": 0.2
            },
            "type": "scatter"
           }
          ],
          "scatter3d": [
           {
            "line": {
             "colorbar": {
              "outlinewidth": 0,
              "ticks": ""
             }
            },
            "marker": {
             "colorbar": {
              "outlinewidth": 0,
              "ticks": ""
             }
            },
            "type": "scatter3d"
           }
          ],
          "scattercarpet": [
           {
            "marker": {
             "colorbar": {
              "outlinewidth": 0,
              "ticks": ""
             }
            },
            "type": "scattercarpet"
           }
          ],
          "scattergeo": [
           {
            "marker": {
             "colorbar": {
              "outlinewidth": 0,
              "ticks": ""
             }
            },
            "type": "scattergeo"
           }
          ],
          "scattergl": [
           {
            "marker": {
             "colorbar": {
              "outlinewidth": 0,
              "ticks": ""
             }
            },
            "type": "scattergl"
           }
          ],
          "scattermapbox": [
           {
            "marker": {
             "colorbar": {
              "outlinewidth": 0,
              "ticks": ""
             }
            },
            "type": "scattermapbox"
           }
          ],
          "scatterpolar": [
           {
            "marker": {
             "colorbar": {
              "outlinewidth": 0,
              "ticks": ""
             }
            },
            "type": "scatterpolar"
           }
          ],
          "scatterpolargl": [
           {
            "marker": {
             "colorbar": {
              "outlinewidth": 0,
              "ticks": ""
             }
            },
            "type": "scatterpolargl"
           }
          ],
          "scatterternary": [
           {
            "marker": {
             "colorbar": {
              "outlinewidth": 0,
              "ticks": ""
             }
            },
            "type": "scatterternary"
           }
          ],
          "surface": [
           {
            "colorbar": {
             "outlinewidth": 0,
             "ticks": ""
            },
            "colorscale": [
             [
              0,
              "#0d0887"
             ],
             [
              0.1111111111111111,
              "#46039f"
             ],
             [
              0.2222222222222222,
              "#7201a8"
             ],
             [
              0.3333333333333333,
              "#9c179e"
             ],
             [
              0.4444444444444444,
              "#bd3786"
             ],
             [
              0.5555555555555556,
              "#d8576b"
             ],
             [
              0.6666666666666666,
              "#ed7953"
             ],
             [
              0.7777777777777778,
              "#fb9f3a"
             ],
             [
              0.8888888888888888,
              "#fdca26"
             ],
             [
              1,
              "#f0f921"
             ]
            ],
            "type": "surface"
           }
          ],
          "table": [
           {
            "cells": {
             "fill": {
              "color": "#EBF0F8"
             },
             "line": {
              "color": "white"
             }
            },
            "header": {
             "fill": {
              "color": "#C8D4E3"
             },
             "line": {
              "color": "white"
             }
            },
            "type": "table"
           }
          ]
         },
         "layout": {
          "annotationdefaults": {
           "arrowcolor": "#2a3f5f",
           "arrowhead": 0,
           "arrowwidth": 1
          },
          "autotypenumbers": "strict",
          "coloraxis": {
           "colorbar": {
            "outlinewidth": 0,
            "ticks": ""
           }
          },
          "colorscale": {
           "diverging": [
            [
             0,
             "#8e0152"
            ],
            [
             0.1,
             "#c51b7d"
            ],
            [
             0.2,
             "#de77ae"
            ],
            [
             0.3,
             "#f1b6da"
            ],
            [
             0.4,
             "#fde0ef"
            ],
            [
             0.5,
             "#f7f7f7"
            ],
            [
             0.6,
             "#e6f5d0"
            ],
            [
             0.7,
             "#b8e186"
            ],
            [
             0.8,
             "#7fbc41"
            ],
            [
             0.9,
             "#4d9221"
            ],
            [
             1,
             "#276419"
            ]
           ],
           "sequential": [
            [
             0,
             "#0d0887"
            ],
            [
             0.1111111111111111,
             "#46039f"
            ],
            [
             0.2222222222222222,
             "#7201a8"
            ],
            [
             0.3333333333333333,
             "#9c179e"
            ],
            [
             0.4444444444444444,
             "#bd3786"
            ],
            [
             0.5555555555555556,
             "#d8576b"
            ],
            [
             0.6666666666666666,
             "#ed7953"
            ],
            [
             0.7777777777777778,
             "#fb9f3a"
            ],
            [
             0.8888888888888888,
             "#fdca26"
            ],
            [
             1,
             "#f0f921"
            ]
           ],
           "sequentialminus": [
            [
             0,
             "#0d0887"
            ],
            [
             0.1111111111111111,
             "#46039f"
            ],
            [
             0.2222222222222222,
             "#7201a8"
            ],
            [
             0.3333333333333333,
             "#9c179e"
            ],
            [
             0.4444444444444444,
             "#bd3786"
            ],
            [
             0.5555555555555556,
             "#d8576b"
            ],
            [
             0.6666666666666666,
             "#ed7953"
            ],
            [
             0.7777777777777778,
             "#fb9f3a"
            ],
            [
             0.8888888888888888,
             "#fdca26"
            ],
            [
             1,
             "#f0f921"
            ]
           ]
          },
          "colorway": [
           "#636efa",
           "#EF553B",
           "#00cc96",
           "#ab63fa",
           "#FFA15A",
           "#19d3f3",
           "#FF6692",
           "#B6E880",
           "#FF97FF",
           "#FECB52"
          ],
          "font": {
           "color": "#2a3f5f"
          },
          "geo": {
           "bgcolor": "white",
           "lakecolor": "white",
           "landcolor": "#E5ECF6",
           "showlakes": true,
           "showland": true,
           "subunitcolor": "white"
          },
          "hoverlabel": {
           "align": "left"
          },
          "hovermode": "closest",
          "mapbox": {
           "style": "light"
          },
          "paper_bgcolor": "white",
          "plot_bgcolor": "#E5ECF6",
          "polar": {
           "angularaxis": {
            "gridcolor": "white",
            "linecolor": "white",
            "ticks": ""
           },
           "bgcolor": "#E5ECF6",
           "radialaxis": {
            "gridcolor": "white",
            "linecolor": "white",
            "ticks": ""
           }
          },
          "scene": {
           "xaxis": {
            "backgroundcolor": "#E5ECF6",
            "gridcolor": "white",
            "gridwidth": 2,
            "linecolor": "white",
            "showbackground": true,
            "ticks": "",
            "zerolinecolor": "white"
           },
           "yaxis": {
            "backgroundcolor": "#E5ECF6",
            "gridcolor": "white",
            "gridwidth": 2,
            "linecolor": "white",
            "showbackground": true,
            "ticks": "",
            "zerolinecolor": "white"
           },
           "zaxis": {
            "backgroundcolor": "#E5ECF6",
            "gridcolor": "white",
            "gridwidth": 2,
            "linecolor": "white",
            "showbackground": true,
            "ticks": "",
            "zerolinecolor": "white"
           }
          },
          "shapedefaults": {
           "line": {
            "color": "#2a3f5f"
           }
          },
          "ternary": {
           "aaxis": {
            "gridcolor": "white",
            "linecolor": "white",
            "ticks": ""
           },
           "baxis": {
            "gridcolor": "white",
            "linecolor": "white",
            "ticks": ""
           },
           "bgcolor": "#E5ECF6",
           "caxis": {
            "gridcolor": "white",
            "linecolor": "white",
            "ticks": ""
           }
          },
          "title": {
           "x": 0.05
          },
          "xaxis": {
           "automargin": true,
           "gridcolor": "white",
           "linecolor": "white",
           "ticks": "",
           "title": {
            "standoff": 15
           },
           "zerolinecolor": "white",
           "zerolinewidth": 2
          },
          "yaxis": {
           "automargin": true,
           "gridcolor": "white",
           "linecolor": "white",
           "ticks": "",
           "title": {
            "standoff": 15
           },
           "zerolinecolor": "white",
           "zerolinewidth": 2
          }
         }
        }
       }
      }
     },
     "metadata": {},
     "output_type": "display_data"
    }
   ],
   "source": [
    "fig = go.Figure()\n",
    "\n",
    "fig.add_trace(go.Scatter(\n",
    "    x=[1, 3.2, 5.4, 7.6, 9.8],\n",
    "    y=[1, 3.2, 5.4, 7.6, 9.8],\n",
    "    mode='markers',\n",
    "    marker=dict(\n",
    "        color=[1, 2, 3, 4, 5],\n",
    "        size=30,\n",
    "        showscale=True\n",
    "        ),\n",
    "    error_y=dict(\n",
    "            type='data', # value of error bar given in data coordinates\n",
    "            array=[1, 2, 3, 4, 5],\n",
    "            visible=True),\n",
    "    name='layer width: 50'\n",
    "))\n",
    "\n",
    "fig.add_trace(go.Scatter(\n",
    "    x=[1, 3.2, 5.4, 7.6, 9.8],\n",
    "    y=[1, 3.2, 5.4, 7.6, 9.8],\n",
    "    mode='markers',\n",
    "    marker=dict(\n",
    "        color=[1, 2, 3, 4, 5],\n",
    "        size=55,\n",
    "        showscale=True\n",
    "        ),\n",
    "    error_y=dict(\n",
    "            type='data', # value of error bar given in data coordinates\n",
    "            array=[1, 2, 3, 4, 5],\n",
    "            visible=True),\n",
    "    name='layer width: 100'\n",
    "))\n",
    "\n",
    "fig.add_trace(go.Scatter(\n",
    "    x=[1, 3.2, 5.4, 7.6, 9.8],\n",
    "    y=[1, 3.2, 5.4, 7.6, 9.8],\n",
    "    mode='markers',\n",
    "    marker=dict(\n",
    "        color=[1, 2, 3, 4, 5],\n",
    "        size=70,\n",
    "        showscale=True\n",
    "        ),\n",
    "    error_y=dict(\n",
    "            type='data', # value of error bar given in data coordinates\n",
    "            array=[1, 2, 3, 4, 5],\n",
    "            visible=True),\n",
    "    name='layer width: 200'\n",
    "))\n",
    "\n",
    "fig.add_trace(go.Scatter(\n",
    "    x=[1, 3.2, 5.4, 7.6, 9.8],\n",
    "    y=[1, 3.2, 5.4, 7.6, 9.8],\n",
    "    mode='markers',\n",
    "    marker=dict(\n",
    "        color=[1, 2, 3, 4, 5],\n",
    "        size=90,\n",
    "        showscale=True\n",
    "        ),\n",
    "    error_y=dict(\n",
    "            type='data', # value of error bar given in data coordinates\n",
    "            array=[1, 2, 3, 4, 5],\n",
    "            visible=True),\n",
    "    name='layer width: 400'\n",
    "))\n",
    "\n",
    "fig.update_layout(legend=dict(\n",
    "    yanchor=\"top\",\n",
    "    y=0.99,\n",
    "    xanchor=\"left\",\n",
    "    x=0.01\n",
    "))\n",
    "\n",
    "fig.show()"
   ]
  }
 ],
 "metadata": {
  "kernelspec": {
   "display_name": "Python 3.9.12 64-bit",
   "language": "python",
   "name": "python3"
  },
  "language_info": {
   "codemirror_mode": {
    "name": "ipython",
    "version": 3
   },
   "file_extension": ".py",
   "mimetype": "text/x-python",
   "name": "python",
   "nbconvert_exporter": "python",
   "pygments_lexer": "ipython3",
   "version": "3.9.12"
  },
  "orig_nbformat": 4,
  "vscode": {
   "interpreter": {
    "hash": "e13549091eeb6d212316983f0d9bb375e4ef3e549472c705cc2bde65fe2521f7"
   }
  }
 },
 "nbformat": 4,
 "nbformat_minor": 2
}
