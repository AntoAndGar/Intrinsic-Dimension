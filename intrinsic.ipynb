{
 "cells": [
  {
   "cell_type": "code",
   "execution_count": 1,
   "metadata": {},
   "outputs": [
    {
     "name": "stderr",
     "output_type": "stream",
     "text": [
      "d:\\Antonio\\python\\lib\\site-packages\\tqdm\\auto.py:22: TqdmWarning: IProgress not found. Please update jupyter and ipywidgets. See https://ipywidgets.readthedocs.io/en/stable/user_install.html\n",
      "  from .autonotebook import tqdm as notebook_tqdm\n"
     ]
    },
    {
     "name": "stdout",
     "output_type": "stream",
     "text": [
      "GPU is available\n"
     ]
    }
   ],
   "source": [
    "import torch\n",
    "import torch.nn as nn\n",
    "import torch.nn.functional as F\n",
    "import torch.optim as optim\n",
    "import torchvision.models as models\n",
    "import numpy as np\n",
    "from torchvision import models, transforms\n",
    "from torch.utils.data import DataLoader\n",
    "from torchvision.datasets import MNIST, CIFAR10\n",
    "import matplotlib.pyplot as plt\n",
    "\n",
    "if torch.cuda.is_available():\n",
    "    device = torch.device(\"cuda\")\n",
    "    print(\"GPU is available\")\n",
    "else:\n",
    "    device = torch.device(\"cpu\")\n",
    "    print(\"GPU is not available\")\n",
    "\n",
    "# add reproducibility stuff\n",
    "torch.manual_seed(42)\n",
    "torch.cuda.manual_seed_all(42)\n",
    "np.random.seed(42)\n",
    "torch.backends.cudnn.deterministic = True\n",
    "torch.backends.cudnn.benchmark = False\n"
   ]
  },
  {
   "cell_type": "code",
   "execution_count": 2,
   "metadata": {},
   "outputs": [],
   "source": [
    "def fastfood_vars(DD, device=0):\n",
    "    \"\"\"\n",
    "    Returns parameters for fast food transform\n",
    "    :param DD: desired dimension\n",
    "    :return:\n",
    "    \"\"\"\n",
    "    ll = int(np.ceil(np.log(DD) / np.log(2)))\n",
    "    LL = 2**ll\n",
    "\n",
    "    # Binary scaling matrix where $B_{i,i} \\in \\{\\pm 1 \\}$ drawn iid\n",
    "    BB = torch.FloatTensor(LL).uniform_(0, 2).type(torch.LongTensor)\n",
    "    BB = (BB * 2 - 1).type(torch.FloatTensor).to(device)\n",
    "    BB.requires_grad = False\n",
    "\n",
    "    # Random permutation matrix\n",
    "    Pi = torch.LongTensor(np.random.permutation(LL)).to(device)\n",
    "    Pi.requires_grad = False\n",
    "\n",
    "    # Gaussian scaling matrix, whose elements $G_{i,i} \\sim \\mathcal{N}(0, 1)$\n",
    "    GG = (\n",
    "        torch.FloatTensor(\n",
    "            LL,\n",
    "        )\n",
    "        .normal_()\n",
    "        .to(device)\n",
    "    )\n",
    "    GG.requires_grad = False\n",
    "\n",
    "    divisor = torch.sqrt(LL * torch.sum(torch.pow(GG, 2)))\n",
    "\n",
    "    return [BB, Pi, GG, divisor, LL]\n"
   ]
  },
  {
   "cell_type": "code",
   "execution_count": null,
   "metadata": {},
   "outputs": [],
   "source": [
    "def fast_walsh_hadamard_torched(x, axis=0, normalize=False):\n",
    "    \"\"\"\n",
    "    Performs fast Walsh Hadamard transform\n",
    "    :param x:\n",
    "    :param axis:\n",
    "    :param normalize:\n",
    "    :return:\n",
    "    \"\"\"\n",
    "    orig_shape = x.size()\n",
    "    assert axis >= 0 and axis < len(\n",
    "        orig_shape\n",
    "    ), \"For a vector of shape %s, axis must be in [0, %d] but it is %d\" % (\n",
    "        orig_shape,\n",
    "        len(orig_shape) - 1,\n",
    "        axis,\n",
    "    )\n",
    "    h_dim = orig_shape[axis]\n",
    "    h_dim_exp = int(round(np.log(h_dim) / np.log(2)))\n",
    "    assert h_dim == 2**h_dim_exp, (\n",
    "        \"hadamard can only be computed over axis with size that is a power of two, but\"\n",
    "        \" chosen axis %d has size %d\" % (axis, h_dim)\n",
    "    )\n",
    "\n",
    "    working_shape_pre = [int(np.prod(orig_shape[:axis]))]  # prod of empty array is 1 :)\n",
    "    working_shape_post = [\n",
    "        int(np.prod(orig_shape[axis + 1 :]))\n",
    "    ]  # prod of empty array is 1 :)\n",
    "    working_shape_mid = [2] * h_dim_exp\n",
    "    working_shape = working_shape_pre + working_shape_mid + working_shape_post\n",
    "\n",
    "    ret = x.view(working_shape)\n",
    "\n",
    "    for ii in range(h_dim_exp):\n",
    "        dim = ii + 1\n",
    "        arrs = torch.chunk(ret, 2, dim=dim)\n",
    "        assert len(arrs) == 2\n",
    "        ret = torch.cat((arrs[0] + arrs[1], arrs[0] - arrs[1]), axis=dim)\n",
    "\n",
    "    if normalize:\n",
    "        ret = ret / torch.sqrt(float(h_dim))\n",
    "\n",
    "    ret = ret.view(orig_shape)\n",
    "\n",
    "    return ret\n"
   ]
  },
  {
   "cell_type": "code",
   "execution_count": null,
   "metadata": {},
   "outputs": [],
   "source": [
    "def fastfood_torched(x, DD, param_list=None, device=0):\n",
    "    \"\"\"\n",
    "    Fastfood transform\n",
    "    :param x: array of dd dimension\n",
    "    :param DD: desired dimension\n",
    "    :return:\n",
    "    \"\"\"\n",
    "    dd = x.size(0)\n",
    "\n",
    "    if not param_list:\n",
    "\n",
    "        BB, Pi, GG, divisor, LL = fastfood_vars(DD, device=device)\n",
    "\n",
    "    else:\n",
    "\n",
    "        BB, Pi, GG, divisor, LL = param_list\n",
    "\n",
    "    # Padd x if needed\n",
    "    dd_pad = F.pad(x, pad=(0, LL - dd), value=0, mode=\"constant\")\n",
    "\n",
    "    # From left to right HGPiH(BX), where H is Walsh-Hadamard matrix\n",
    "    mul_1 = torch.mul(BB, dd_pad)\n",
    "    # HGPi(HBX)\n",
    "    mul_2 = fast_walsh_hadamard_torched(mul_1, 0, normalize=False)\n",
    "\n",
    "    # HG(PiHBX)\n",
    "    mul_3 = mul_2[Pi]\n",
    "\n",
    "    # H(GPiHBX)\n",
    "    mul_4 = torch.mul(mul_3, GG)\n",
    "\n",
    "    # (HGPiHBX)\n",
    "    mul_5 = fast_walsh_hadamard_torched(mul_4, 0, normalize=False)\n",
    "\n",
    "    ret = torch.div(mul_5[:DD], divisor * np.sqrt(float(DD) / LL))\n",
    "\n",
    "    return ret\n"
   ]
  },
  {
   "cell_type": "code",
   "execution_count": 2,
   "metadata": {},
   "outputs": [],
   "source": [
    "class FastfoodWrapper(nn.Module):\n",
    "    def __init__(self, module, intrinsic_dimension, device):\n",
    "        \"\"\"\n",
    "        Wrapper to estimate the intrinsic dimensionality of the\n",
    "        objective landscape for a specific task given a specific model using FastFood transform\n",
    "        :param module: pytorch nn.Module\n",
    "        :param intrinsic_dimension: dimensionality within which we search for solution\n",
    "        :param device: cuda device id\n",
    "        \"\"\"\n",
    "        super(FastfoodWrapper, self).__init__()\n",
    "\n",
    "        # Hide this from inspection by get_parameters()\n",
    "        self.m = [module]\n",
    "\n",
    "        self.name_base_localname = []\n",
    "\n",
    "        # Stores the initial value: \\theta_{0}^{D}\n",
    "        self.initial_value = dict()\n",
    "\n",
    "        # Fastfood parameters\n",
    "        self.fastfood_params = {}\n",
    "\n",
    "        # Parameter vector that is updated\n",
    "        # Initialised with zeros as per text: \\theta^{d}\n",
    "        V = nn.Parameter(torch.zeros((intrinsic_dimension)).to(device))\n",
    "        self.register_parameter(\"V\", V)\n",
    "        v_size = (intrinsic_dimension,)\n",
    "\n",
    "        # Iterate over layers in the module\n",
    "        for name, param in module.named_parameters():\n",
    "            # If param requires grad update\n",
    "            if param.requires_grad:\n",
    "\n",
    "                # Saves the initial values of the initialised parameters from param.data and sets them to no grad.\n",
    "                # (initial values are the 'origin' of the search)\n",
    "                self.initial_value[name] = v0 = (\n",
    "                    param.clone().detach().requires_grad_(False).to(device)\n",
    "                )\n",
    "\n",
    "                # Generate fastfood parameters\n",
    "                DD = np.prod(v0.size())\n",
    "                self.fastfood_params[name] = fastfood_vars(DD, device)\n",
    "\n",
    "                base, localname = module, name\n",
    "                while \".\" in localname:\n",
    "                    prefix, localname = localname.split(\".\", 1)\n",
    "                    base = base.__getattr__(prefix)\n",
    "                self.name_base_localname.append((name, base, localname))\n",
    "\n",
    "        for name, base, localname in self.name_base_localname:\n",
    "            delattr(base, localname)\n",
    "\n",
    "    def forward(self, x):\n",
    "        # Iterate over layers\n",
    "        for name, base, localname in self.name_base_localname:\n",
    "\n",
    "            init_shape = self.initial_value[name].size()\n",
    "            DD = np.prod(init_shape)\n",
    "\n",
    "            # Fastfood transform te replace dence P\n",
    "            ray = fastfood_torched(self.V, DD, self.fastfood_params[name]).view(\n",
    "                init_shape\n",
    "            )\n",
    "\n",
    "            param = self.initial_value[name] + ray\n",
    "\n",
    "            setattr(base, localname, param)\n",
    "\n",
    "        # Pass through the model, by getting hte module from a list self.m\n",
    "        module = self.m[0]\n",
    "        x = module(x)\n",
    "        return x\n"
   ]
  },
  {
   "cell_type": "code",
   "execution_count": 2,
   "metadata": {},
   "outputs": [],
   "source": [
    "class DenseWrap(nn.Module):\n",
    "    def __init__(self, module, intrinsic_dimension, device):\n",
    "        \"\"\"\n",
    "        Wrapper to estimate the intrinsic dimensionality of the\n",
    "        objective landscape for a specific task given a specific model\n",
    "        :param module: pytorch nn.Module\n",
    "        :param intrinsic_dimension: dimensionality within which we search for solution\n",
    "        :param device: cuda device id\n",
    "        \"\"\"\n",
    "        super(DenseWrap, self).__init__()\n",
    "\n",
    "        # Hide this from inspection by get_parameters()\n",
    "        self.m = [module]\n",
    "\n",
    "        self.name_base_localname = []\n",
    "\n",
    "        # Stores the initial value: \\theta_{0}^{D}\n",
    "        self.initial_value = dict()\n",
    "\n",
    "        # Stores the randomly generated projection matrix P\n",
    "        self.random_matrix = dict()\n",
    "\n",
    "        # Parameter vector that is updated, initialised with zeros as per text: \\theta^{d}\n",
    "        V = nn.Parameter(torch.zeros((intrinsic_dimension, 1)).to(device))\n",
    "        self.register_parameter(\"V\", V)\n",
    "        v_size = (intrinsic_dimension,)\n",
    "\n",
    "        # Iterates over layers in the Neural Network\n",
    "        for name, param in module.named_parameters():\n",
    "            # If the parameter requires gradient update\n",
    "            if param.requires_grad:\n",
    "\n",
    "                # Saves the initial values of the initialised parameters from param.data and sets them to no grad.\n",
    "                # (initial values are the 'origin' of the search)\n",
    "                self.initial_value[name] = v0 = (\n",
    "                    param.clone().detach().requires_grad_(False).to(device)\n",
    "                )\n",
    "\n",
    "                # If v0.size() is [4, 3], then below operation makes it [4, 3, v_size]\n",
    "                matrix_size = v0.size() + v_size\n",
    "\n",
    "                # Generates random projection matrices P, sets them to no grad\n",
    "                self.random_matrix[name] = (\n",
    "                    torch.randn(matrix_size, requires_grad=False).to(device)\n",
    "                    / intrinsic_dimension**0.5\n",
    "                )\n",
    "\n",
    "                # NOTE!: lines below are not clear!\n",
    "                base, localname = module, name\n",
    "                while \".\" in localname:\n",
    "                    prefix, localname = localname.split(\".\", 1)\n",
    "                    base = base.__getattr__(prefix)\n",
    "                self.name_base_localname.append((name, base, localname))\n",
    "\n",
    "        for name, base, localname in self.name_base_localname:\n",
    "            delattr(base, localname)\n",
    "\n",
    "    def forward(self, x):\n",
    "        # Iterate over the layers\n",
    "        for name, base, localname in self.name_base_localname:\n",
    "\n",
    "            # Product between matrix P and \\theta^{d}\n",
    "            ray = torch.matmul(self.random_matrix[name], self.V)\n",
    "\n",
    "            # Add the \\theta_{0}^{D} to P \\dot \\theta^{d}\n",
    "            param = self.initial_value[name] + torch.squeeze(ray, -1)\n",
    "\n",
    "            setattr(base, localname, param)\n",
    "\n",
    "        # Pass through the model, by getting the module from a list self.m\n",
    "        module = self.m[0]\n",
    "        x = module(x)\n",
    "        return x\n"
   ]
  },
  {
   "cell_type": "code",
   "execution_count": 8,
   "metadata": {},
   "outputs": [
    {
     "ename": "NameError",
     "evalue": "name 'YOUR_NUMBER_OF_CLASSES' is not defined",
     "output_type": "error",
     "traceback": [
      "\u001b[0;31m---------------------------------------------------------------------------\u001b[0m",
      "\u001b[0;31mNameError\u001b[0m                                 Traceback (most recent call last)",
      "\u001b[1;32m/home/ant/All/Sapienza/Deep Learning & AAI/Intrinsic-Dimension/intrinsic.ipynb Cell 7\u001b[0m in \u001b[0;36m<cell line: 32>\u001b[0;34m()\u001b[0m\n\u001b[1;32m     <a href='vscode-notebook-cell:/home/ant/All/Sapienza/Deep%20Learning%20%26%20AAI/Intrinsic-Dimension/intrinsic.ipynb#W6sZmlsZQ%3D%3D?line=27'>28</a>\u001b[0m     \u001b[39mreturn\u001b[39;00m model\n\u001b[1;32m     <a href='vscode-notebook-cell:/home/ant/All/Sapienza/Deep%20Learning%20%26%20AAI/Intrinsic-Dimension/intrinsic.ipynb#W6sZmlsZQ%3D%3D?line=30'>31</a>\u001b[0m \u001b[39m# Get model and wrap it in fastfood\u001b[39;00m\n\u001b[0;32m---> <a href='vscode-notebook-cell:/home/ant/All/Sapienza/Deep%20Learning%20%26%20AAI/Intrinsic-Dimension/intrinsic.ipynb#W6sZmlsZQ%3D%3D?line=31'>32</a>\u001b[0m model \u001b[39m=\u001b[39m get_resnet(\u001b[39m\"\u001b[39m\u001b[39mresnet18\u001b[39m\u001b[39m\"\u001b[39m, num_classes\u001b[39m=\u001b[39mYOUR_NUMBER_OF_CLASSES)\u001b[39m.\u001b[39mcuda()\n\u001b[1;32m     <a href='vscode-notebook-cell:/home/ant/All/Sapienza/Deep%20Learning%20%26%20AAI/Intrinsic-Dimension/intrinsic.ipynb#W6sZmlsZQ%3D%3D?line=32'>33</a>\u001b[0m model \u001b[39m=\u001b[39m FastfoodWrapper(model, intrinsic_dimension\u001b[39m=\u001b[39m\u001b[39m100\u001b[39m, device\u001b[39m=\u001b[39mdevice)\n",
      "\u001b[0;31mNameError\u001b[0m: name 'YOUR_NUMBER_OF_CLASSES' is not defined"
     ]
    }
   ],
   "source": [
    "# implementig the code from the paper https://arxiv.org/abs/1804.08838 in pytorch\n",
    "class Classifier(nn.Module):\n",
    "    def __init__(self, input_dim, n_classes):\n",
    "        super(Classifier, self).__init__()\n",
    "        self.fc = nn.Linear(input_dim, n_classes)\n",
    "        self.maxpool = nn.AdaptiveMaxPool2d(1)\n",
    "\n",
    "    def forward(self, x):\n",
    "        x = self.maxpool(x)\n",
    "        x = x.reshape(x.size(0), -1)\n",
    "        x = self.fc(x)\n",
    "        return x\n",
    "\n",
    "\n",
    "def get_resnet(encoder_name, num_classes, pretrained=False):\n",
    "    assert encoder_name in [\n",
    "        \"resnet18\",\n",
    "        \"resnet50\",\n",
    "    ], \"{} is a wrong encoder name!\".format(encoder_name)\n",
    "    if encoder_name == \"resnet18\":\n",
    "        model = models.resnet18(pretrained=pretrained)\n",
    "        latent_dim = 512\n",
    "    else:\n",
    "        model = models.resnet50(pretrained=pretrained)\n",
    "        latent_dim = 2048\n",
    "    children = list(model.children())[:-2] + [Classifier(latent_dim, num_classes)]\n",
    "    model = torch.nn.Sequential(*children)\n",
    "    return model\n",
    "\n",
    "\n",
    "# Get model and wrap it in fastfood\n",
    "model = get_resnet(\"resnet18\", num_classes=YOUR_NUMBER_OF_CLASSES).cuda()\n",
    "model = FastfoodWrapper(model, intrinsic_dimension=100, device=device)\n"
   ]
  },
  {
   "cell_type": "code",
   "execution_count": 3,
   "metadata": {},
   "outputs": [],
   "source": [
    "# Class for a Fully Connected Network\n",
    "class FullyConnectedNetwork(nn.Module):\n",
    "    def __init__(self, input_dim, hidden_dim, output_dim):\n",
    "        super(FullyConnectedNetwork, self).__init__()\n",
    "        self.fc = nn.Linear(input_dim, hidden_dim)\n",
    "        self.fc1 = nn.Linear(hidden_dim, hidden_dim)\n",
    "        self.fc2 = nn.Linear(hidden_dim, output_dim)\n",
    "\n",
    "    def forward(self, x):\n",
    "        x = torch.flatten(x)\n",
    "        x = F.relu(self.fc(x))\n",
    "        x = F.relu(self.fc1(x))\n",
    "        x = self.fc2(x)\n",
    "        return x\n"
   ]
  },
  {
   "cell_type": "code",
   "execution_count": 5,
   "metadata": {},
   "outputs": [],
   "source": [
    "# Class for Standard LeNet Network, reference http://vision.stanford.edu/cs598_spring07/papers/Lecun98.pdf with some modification to follow the same number of parameters as the main paper for the task does\n",
    "class LeNet(nn.Module):\n",
    "    def __init__(self, input_dim, output_dim):\n",
    "        super(LeNet, self).__init__()\n",
    "        # 6 kernels 5x5\n",
    "        self.conv1 = nn.Conv2d(input_dim, 6, 5, padding='valid',)\n",
    "        # max-pooling over 2x2\n",
    "        self.pool1 = nn.MaxPool2d(2, stride=2)\n",
    "        # 16 kernels 5x5\n",
    "        self.conv2 = nn.Conv2d(6, 16, 5, padding='valid')\n",
    "        # max-pooling over 2x2\n",
    "        self.pool2 = nn.MaxPool2d(2, stride=2)\n",
    "        # 120 kernels 4x4 to match the dimensionality of the fully connected network\n",
    "        self.conv3 = nn.Conv2d(16, 120, 4,)\n",
    "        # 120 fully connected neurons, too many parameter in this case w.r.t. the paper\n",
    "        #self.fc1 = nn.Linear(16 * 5 * 5, 120,)\n",
    "        self.flat = nn.Flatten(start_dim=1)\n",
    "        # 84 fully connected neurons\n",
    "        self.fc2 = nn.Linear(120, 84)\n",
    "        # 10 fully connected neurons\n",
    "        self.fc3 = nn.Linear(84, output_dim,)\n",
    "\n",
    "    def forward(self, x):\n",
    "        #x = x.view(-1, 1, 28, 28)\n",
    "        x = self.pool1(F.relu(self.conv1(x)))\n",
    "        x = self.pool2(F.relu(self.conv2(x)))\n",
    "        x = F.relu(self.conv3(x))\n",
    "        x = self.flat(x)\n",
    "        #x = F.relu(self.fc1(x))\n",
    "        x = F.relu(self.fc2(x))\n",
    "        x = self.fc3(x)\n",
    "        return x\n"
   ]
  },
  {
   "cell_type": "code",
   "execution_count": 7,
   "metadata": {},
   "outputs": [],
   "source": [
    "from torch.nn.modules.utils import _pair\n",
    "\n",
    "# from https://discuss.pytorch.org/t/locally-connected-layers/26979\n",
    "class LocallyConnected2d(nn.Module):\n",
    "    def __init__(self, in_channels, out_channels, output_size, kernel_size, stride=1, bias=True):\n",
    "        super(LocallyConnected2d, self).__init__()\n",
    "        output_size = _pair(output_size)\n",
    "        self.weight = nn.Parameter(\n",
    "            nn.init.kaiming_normal_(torch.randn(1, out_channels, in_channels, output_size[0], output_size[1], kernel_size**2), nonlinearity='relu')\n",
    "        )\n",
    "        if bias:\n",
    "            self.bias = nn.Parameter(nn.init.kaiming_normal_(\n",
    "                torch.randn(1, out_channels, output_size[0], output_size[1]), nonlinearity='relu')\n",
    "            )\n",
    "        else:\n",
    "            self.register_parameter('bias', None)\n",
    "        self.kernel_size = _pair(kernel_size)\n",
    "        self.stride = _pair(stride)\n",
    "        \n",
    "    def forward(self, x):\n",
    "        _, c, h, w = x.size()\n",
    "        kh, kw = self.kernel_size\n",
    "        dh, dw = self.stride\n",
    "        x = x.unfold(2, kh, dh).unfold(3, kw, dw)\n",
    "        x = x.contiguous().view(*x.size()[:-2], -1)\n",
    "        # Sum in in_channel and kernel_size dims\n",
    "        out = (x.unsqueeze(1) * self.weight).sum([2, -1])\n",
    "        if self.bias is not None:\n",
    "            out += self.bias\n",
    "        return out\n",
    "\n",
    "# Class for Untied LeNet Network\n",
    "class Untied_LeNet(nn.Module):\n",
    "    def __init__(self, input_dim, output_dim):\n",
    "        super(Untied_LeNet, self).__init__()\n",
    "        # 6 kernels 5x5\n",
    "        self.conv1 = LocallyConnected2d(input_dim, 6, (24,24), 5)\n",
    "        # max-pooling over 2x2\n",
    "        self.pool1 = nn.MaxPool2d(2, stride=2)\n",
    "        # 16 kernels 5x5\n",
    "        self.conv2 = LocallyConnected2d(6, 16, (8,8), 5)\n",
    "        # max-pooling over 2x2\n",
    "        self.pool2 = nn.MaxPool2d(2, stride=2)\n",
    "        # 120 kernels 4x4 to match the dimensionality of the fully connected network\n",
    "        self.conv3 = LocallyConnected2d(16, 120, (1,1), 4)\n",
    "        # 120 fully connected neurons, too many parameter in this case w.r.t. the paper\n",
    "        #self.fc1 = nn.Linear(16 * 5 * 5, 120,)\n",
    "        self.flat = nn.Flatten(start_dim=1)\n",
    "        # 84 fully connected neurons\n",
    "        self.fc2 = nn.Linear(120, 84)\n",
    "        # 10 fully connected neurons\n",
    "        self.fc3 = nn.Linear(84, output_dim,)\n",
    "\n",
    "    def forward(self, x):\n",
    "        x = x.view(-1, 1, 28, 28)\n",
    "        x = self.pool1(F.relu(self.conv1(x)))\n",
    "        x = self.pool2(F.relu(self.conv2(x)))\n",
    "        x = F.relu(self.conv3(x))\n",
    "        x = self.flat(x)\n",
    "        #x = F.relu(self.fc1(x))\n",
    "        x = F.relu(self.fc2(x))\n",
    "        x = self.fc3(x)\n",
    "        return x"
   ]
  },
  {
   "cell_type": "code",
   "execution_count": 30,
   "metadata": {},
   "outputs": [],
   "source": [
    "# Class for FC-LeNet Network\n",
    "class FcLeNet(nn.Module):\n",
    "    def __init__(self, input_dim, output_dim):\n",
    "        super(FcLeNet, self).__init__()\n",
    "        # 6 kernels 5x5\n",
    "        self.fcconv1 = nn.Linear(input_dim, 3456)\n",
    "        # max-pooling over 2x2\n",
    "        self.pool1 = nn.MaxPool2d(2, stride=2)\n",
    "        # 16 kernels 5x5\n",
    "        self.fcconv2 = nn.Linear(864, 1024)\n",
    "        # max-pooling over 2x2\n",
    "        self.pool2 = nn.MaxPool2d(2, stride=2)\n",
    "        # 120 kernels 4x4 to match the dimensionality of the fully connected network\n",
    "        self.fcconv3 = nn.Linear(256, 120)\n",
    "        # 120 fully connected neurons, too many parameter in this case w.r.t. the paper\n",
    "        #self.fc1 = nn.Linear(16 * 5 * 5, 120,)\n",
    "        self.flat = nn.Flatten(start_dim=1)\n",
    "        # 84 fully connected neurons\n",
    "        self.fc2 = nn.Linear(120, 84)\n",
    "        # 10 fully connected neurons\n",
    "        self.fc3 = nn.Linear(84, output_dim,)\n",
    "\n",
    "    def forward(self, x):\n",
    "        x = self.pool1(F.relu(self.fcconv1(x)).view(-1,6,24,24))\n",
    "        x = self.flat(x)\n",
    "        x = self.pool2(F.relu(self.fcconv2(x)).view(-1,16,8,8))\n",
    "        x = self.flat(x)\n",
    "        x = F.relu(self.fcconv3(x))\n",
    "        #x = F.relu(self.fc1(x))\n",
    "        x = F.relu(self.fc2(x))\n",
    "        x = self.fc3(x)\n",
    "        return x\n"
   ]
  },
  {
   "cell_type": "code",
   "execution_count": 22,
   "metadata": {},
   "outputs": [],
   "source": [
    "# Class for FCTied-LeNet\n",
    "class FCTied_LeNet(nn.Module):\n",
    "    def __init__(self, input_dim, output_dim):\n",
    "        super(FCTied_LeNet, self).__init__()\n",
    "        # 6 kernels 5x5\n",
    "        self.conv1 = nn.Conv2d(input_dim, 6, 55, padding='same',)\n",
    "        # max-pooling over 2x2\n",
    "        self.pool1 = nn.MaxPool2d(2, stride=2)\n",
    "        # 16 kernels 5x5\n",
    "        self.conv2 = nn.Conv2d(6, 16, 27, padding='same')\n",
    "        # max-pooling over 2x2\n",
    "        self.pool2 = nn.MaxPool2d(2, stride=2)\n",
    "        # 120 kernels 4x4 to match the dimensionality of the fully connected network\n",
    "        self.conv3 = nn.Conv2d(16, 120, 7,)\n",
    "        # 120 fully connected neurons, too many parameter in this case w.r.t. the paper\n",
    "        #self.fc1 = nn.Linear(16 * 5 * 5, 120,)\n",
    "        self.flat = nn.Flatten(start_dim=1)\n",
    "        # 84 fully connected neurons\n",
    "        self.fc2 = nn.Linear(120, 84)\n",
    "        # 10 fully connected neurons\n",
    "        self.fc3 = nn.Linear(84, output_dim,)\n",
    "\n",
    "    def forward(self, x):\n",
    "        x = x.view(-1, 1, 28, 28)\n",
    "        x = self.pool1(F.relu(self.conv1(x)))\n",
    "        x = self.pool2(F.relu(self.conv2(x)))\n",
    "        x = F.relu(self.conv3(x))\n",
    "        x = self.flat(x)\n",
    "        #x = F.relu(self.fc1(x))\n",
    "        x = F.relu(self.fc2(x))\n",
    "        x = self.fc3(x)\n",
    "        return x\n"
   ]
  },
  {
   "cell_type": "code",
   "execution_count": 4,
   "metadata": {},
   "outputs": [],
   "source": [
    "BATCH_SIZE = 128\n",
    "DATASET_NAME = \"MNIST\"\n",
    "\n",
    "img_transform = transforms.Compose(\n",
    "    [transforms.ToTensor()]\n",
    ")\n",
    "\n",
    "train_dataset = None\n",
    "test_dataset = None\n",
    "if DATASET_NAME == \"MNIST\":\n",
    "    train_dataset = MNIST(\n",
    "        root=\"./data/MNIST\", download=True, train=True, transform=img_transform\n",
    "    )\n",
    "    test_dataset = MNIST(\n",
    "    root=\"./data/MNIST\", download=True, train=False, transform=img_transform\n",
    "    )\n",
    "elif DATASET_NAME == \"CIFAR10\":\n",
    "    train_dataset = CIFAR10(\n",
    "    root=\"./data/CIFAR10\", download=True, train=True, transform=img_transform\n",
    "    )\n",
    "    test_dataset = CIFAR10(\n",
    "    root=\"./data/CIFAR10\", download=True, train=False, transform=img_transform\n",
    "    )\n",
    "else:\n",
    "    raise Exception(\"Name of dataset not in: [MNIST, CIFAR10]\")\n",
    "\n",
    "\n",
    "# download and load MNIST Dataset\n",
    "\n",
    "train_dataloader = DataLoader(train_dataset, batch_size=BATCH_SIZE, shuffle=True, num_workers = 4, pin_memory=True, persistent_workers=True)\n",
    "\n",
    "test_dataloader = DataLoader(test_dataset, batch_size=BATCH_SIZE, shuffle=True, num_workers = 4, pin_memory=True, persistent_workers=True)\n"
   ]
  },
  {
   "cell_type": "code",
   "execution_count": 15,
   "metadata": {},
   "outputs": [
    {
     "name": "stdout",
     "output_type": "stream",
     "text": [
      "Number of parameters: 199210\n"
     ]
    }
   ],
   "source": [
    "model = FullyConnectedNetwork(28 * 28, 200, 10)\n",
    "model.to(device)\n",
    "\n",
    "num_params = sum(p.numel() for p in model.parameters() if p.requires_grad)\n",
    "print(\"Number of parameters: %d\" % num_params)\n"
   ]
  },
  {
   "cell_type": "code",
   "execution_count": 6,
   "metadata": {},
   "outputs": [
    {
     "name": "stdout",
     "output_type": "stream",
     "text": [
      "Number of parameters: 44426\n"
     ]
    }
   ],
   "source": [
    "model = LeNet(1, 10)\n",
    "model.to(device)\n",
    "\n",
    "num_params = sum(p.numel() for p in model.parameters() if p.requires_grad)\n",
    "print(\"Number of parameters: %d\" % num_params)"
   ]
  },
  {
   "cell_type": "code",
   "execution_count": 9,
   "metadata": {},
   "outputs": [
    {
     "name": "stdout",
     "output_type": "stream",
     "text": [
      "Number of parameters: 286334\n"
     ]
    }
   ],
   "source": [
    "model = Untied_LeNet(1, 10)\n",
    "model.to(device)\n",
    "\n",
    "num_params = sum(p.numel() for p in model.parameters() if p.requires_grad)\n",
    "print(\"Number of parameters: %d\" % num_params)"
   ]
  },
  {
   "cell_type": "code",
   "execution_count": 31,
   "metadata": {},
   "outputs": [
    {
     "name": "stdout",
     "output_type": "stream",
     "text": [
      "Number of parameters: 3640574\n"
     ]
    }
   ],
   "source": [
    "model = FcLeNet(28 * 28, 10)\n",
    "model.to(device)\n",
    "\n",
    "num_params = sum(p.numel() for p in model.parameters() if p.requires_grad)\n",
    "print(\"Number of parameters: %d\" % num_params)\n"
   ]
  },
  {
   "cell_type": "code",
   "execution_count": 23,
   "metadata": {},
   "outputs": [
    {
     "name": "stdout",
     "output_type": "stream",
     "text": [
      "Number of parameters: 193370\n"
     ]
    }
   ],
   "source": [
    "model = FCTied_LeNet(1, 10)\n",
    "model.to(device)\n",
    "\n",
    "num_params = sum(p.numel() for p in model.parameters() if p.requires_grad)\n",
    "print(\"Number of parameters: %d\" % num_params)"
   ]
  },
  {
   "cell_type": "code",
   "execution_count": 7,
   "metadata": {},
   "outputs": [
    {
     "name": "stdout",
     "output_type": "stream",
     "text": [
      "Number of parameters: 300\n"
     ]
    }
   ],
   "source": [
    "model_intrinsic = DenseWrap(model, intrinsic_dimension=300, device=device)\n",
    "num_params = sum(p.numel() for p in model_intrinsic.parameters() if p.requires_grad)\n",
    "print(\"Number of parameters: %d\" % num_params)\n"
   ]
  },
  {
   "cell_type": "code",
   "execution_count": 8,
   "metadata": {},
   "outputs": [
    {
     "name": "stdout",
     "output_type": "stream",
     "text": [
      "Train Epoch: 1 [0/60000 (0%)]\tLoss: 2.305696\n",
      "Train Epoch: 1 [5760/60000 (10%)]\tLoss: 2.302441\n",
      "Train Epoch: 1 [11520/60000 (19%)]\tLoss: 2.301994\n",
      "Train Epoch: 1 [17280/60000 (29%)]\tLoss: 2.294209\n",
      "Train Epoch: 1 [23040/60000 (38%)]\tLoss: 2.303139\n",
      "Train Epoch: 1 [28800/60000 (48%)]\tLoss: 2.303961\n",
      "Train Epoch: 1 [34560/60000 (58%)]\tLoss: 2.300750\n",
      "Train Epoch: 1 [40320/60000 (67%)]\tLoss: 2.290099\n",
      "Train Epoch: 1 [46080/60000 (77%)]\tLoss: 2.283188\n",
      "Train Epoch: 1 [51840/60000 (86%)]\tLoss: 2.281610\n",
      "Train Epoch: 1 [57600/60000 (96%)]\tLoss: 2.277975\n",
      "\n",
      "Test set: Average loss: 0.0180, Accuracy: 3822/10000 (38%)\n",
      "\n"
     ]
    },
    {
     "data": {
      "image/png": "[encoded data removed]",
      "text/plain": [
       "<Figure size 432x288 with 1 Axes>"
      ]
     },
     "metadata": {
      "needs_background": "light"
     },
     "output_type": "display_data"
    },
    {
     "name": "stdout",
     "output_type": "stream",
     "text": [
      "Accuracy: 0.3822\n",
      "Train Epoch: 2 [0/60000 (0%)]\tLoss: 2.281492\n",
      "Train Epoch: 2 [5760/60000 (10%)]\tLoss: 2.270535\n",
      "Train Epoch: 2 [11520/60000 (19%)]\tLoss: 2.248452\n",
      "Train Epoch: 2 [17280/60000 (29%)]\tLoss: 2.248853\n",
      "Train Epoch: 2 [23040/60000 (38%)]\tLoss: 2.209548\n",
      "Train Epoch: 2 [28800/60000 (48%)]\tLoss: 2.178071\n",
      "Train Epoch: 2 [34560/60000 (58%)]\tLoss: 1.999739\n",
      "Train Epoch: 2 [40320/60000 (67%)]\tLoss: 1.404322\n",
      "Train Epoch: 2 [46080/60000 (77%)]\tLoss: 0.849721\n",
      "Train Epoch: 2 [51840/60000 (86%)]\tLoss: 0.932342\n",
      "Train Epoch: 2 [57600/60000 (96%)]\tLoss: 0.755438\n",
      "\n",
      "Test set: Average loss: 0.0048, Accuracy: 8098/10000 (81%)\n",
      "\n"
     ]
    },
    {
     "data": {
      "image/png": "[encoded data removed]",
      "text/plain": [
       "<Figure size 432x288 with 1 Axes>"
      ]
     },
     "metadata": {
      "needs_background": "light"
     },
     "output_type": "display_data"
    },
    {
     "name": "stdout",
     "output_type": "stream",
     "text": [
      "Accuracy: 0.8098\n",
      "Train Epoch: 3 [0/60000 (0%)]\tLoss: 0.520865\n",
      "Train Epoch: 3 [5760/60000 (10%)]\tLoss: 0.596885\n",
      "Train Epoch: 3 [11520/60000 (19%)]\tLoss: 0.463350\n",
      "Train Epoch: 3 [17280/60000 (29%)]\tLoss: 0.380757\n",
      "Train Epoch: 3 [23040/60000 (38%)]\tLoss: 0.488017\n",
      "Train Epoch: 3 [28800/60000 (48%)]\tLoss: 0.782555\n",
      "Train Epoch: 3 [34560/60000 (58%)]\tLoss: 0.629712\n",
      "Train Epoch: 3 [40320/60000 (67%)]\tLoss: 0.331593\n",
      "Train Epoch: 3 [46080/60000 (77%)]\tLoss: 0.590634\n",
      "Train Epoch: 3 [51840/60000 (86%)]\tLoss: 0.364017\n",
      "Train Epoch: 3 [57600/60000 (96%)]\tLoss: 0.499982\n",
      "\n",
      "Test set: Average loss: 0.0028, Accuracy: 8926/10000 (89%)\n",
      "\n"
     ]
    },
    {
     "data": {
      "image/png": "[encoded data removed]",
      "text/plain": [
       "<Figure size 432x288 with 1 Axes>"
      ]
     },
     "metadata": {
      "needs_background": "light"
     },
     "output_type": "display_data"
    },
    {
     "name": "stdout",
     "output_type": "stream",
     "text": [
      "Accuracy: 0.8926\n",
      "Train Epoch: 4 [0/60000 (0%)]\tLoss: 0.407507\n",
      "Train Epoch: 4 [5760/60000 (10%)]\tLoss: 0.441640\n",
      "Train Epoch: 4 [11520/60000 (19%)]\tLoss: 0.478177\n",
      "Train Epoch: 4 [17280/60000 (29%)]\tLoss: 0.385638\n",
      "Train Epoch: 4 [23040/60000 (38%)]\tLoss: 0.321505\n",
      "Train Epoch: 4 [28800/60000 (48%)]\tLoss: 0.656941\n",
      "Train Epoch: 4 [34560/60000 (58%)]\tLoss: 0.508158\n",
      "Train Epoch: 4 [40320/60000 (67%)]\tLoss: 0.371059\n",
      "Train Epoch: 4 [46080/60000 (77%)]\tLoss: 0.264074\n",
      "Train Epoch: 4 [51840/60000 (86%)]\tLoss: 0.400626\n",
      "Train Epoch: 4 [57600/60000 (96%)]\tLoss: 0.354493\n",
      "\n",
      "Test set: Average loss: 0.0029, Accuracy: 8856/10000 (89%)\n",
      "\n"
     ]
    },
    {
     "data": {
      "image/png": "[encoded data removed]",
      "text/plain": [
       "<Figure size 432x288 with 1 Axes>"
      ]
     },
     "metadata": {
      "needs_background": "light"
     },
     "output_type": "display_data"
    },
    {
     "name": "stdout",
     "output_type": "stream",
     "text": [
      "Accuracy: 0.8856\n",
      "Train Epoch: 5 [0/60000 (0%)]\tLoss: 0.412843\n",
      "Train Epoch: 5 [5760/60000 (10%)]\tLoss: 0.408531\n",
      "Train Epoch: 5 [11520/60000 (19%)]\tLoss: 0.479668\n",
      "Train Epoch: 5 [17280/60000 (29%)]\tLoss: 0.274714\n",
      "Train Epoch: 5 [23040/60000 (38%)]\tLoss: 0.236795\n",
      "Train Epoch: 5 [28800/60000 (48%)]\tLoss: 0.338432\n",
      "Train Epoch: 5 [34560/60000 (58%)]\tLoss: 0.434682\n",
      "Train Epoch: 5 [40320/60000 (67%)]\tLoss: 0.242292\n",
      "Train Epoch: 5 [46080/60000 (77%)]\tLoss: 0.341710\n",
      "Train Epoch: 5 [51840/60000 (86%)]\tLoss: 0.215576\n",
      "Train Epoch: 5 [57600/60000 (96%)]\tLoss: 0.261626\n",
      "\n",
      "Test set: Average loss: 0.0022, Accuracy: 9123/10000 (91%)\n",
      "\n"
     ]
    },
    {
     "data": {
      "image/png": "[encoded data removed]",
      "text/plain": [
       "<Figure size 432x288 with 1 Axes>"
      ]
     },
     "metadata": {
      "needs_background": "light"
     },
     "output_type": "display_data"
    },
    {
     "name": "stdout",
     "output_type": "stream",
     "text": [
      "Accuracy: 0.9123\n",
      "Train Epoch: 6 [0/60000 (0%)]\tLoss: 0.340257\n",
      "Train Epoch: 6 [5760/60000 (10%)]\tLoss: 0.280358\n",
      "Train Epoch: 6 [11520/60000 (19%)]\tLoss: 0.354835\n",
      "Train Epoch: 6 [17280/60000 (29%)]\tLoss: 0.441928\n",
      "Train Epoch: 6 [23040/60000 (38%)]\tLoss: 0.297903\n",
      "Train Epoch: 6 [28800/60000 (48%)]\tLoss: 0.281357\n",
      "Train Epoch: 6 [34560/60000 (58%)]\tLoss: 0.218700\n",
      "Train Epoch: 6 [40320/60000 (67%)]\tLoss: 0.356989\n",
      "Train Epoch: 6 [46080/60000 (77%)]\tLoss: 0.423575\n",
      "Train Epoch: 6 [51840/60000 (86%)]\tLoss: 0.232553\n",
      "Train Epoch: 6 [57600/60000 (96%)]\tLoss: 0.496144\n",
      "\n",
      "Test set: Average loss: 0.0021, Accuracy: 9194/10000 (92%)\n",
      "\n"
     ]
    },
    {
     "data": {
      "image/png": "[encoded data removed]",
      "text/plain": [
       "<Figure size 432x288 with 1 Axes>"
      ]
     },
     "metadata": {
      "needs_background": "light"
     },
     "output_type": "display_data"
    },
    {
     "name": "stdout",
     "output_type": "stream",
     "text": [
      "Accuracy: 0.9194\n",
      "Train Epoch: 7 [0/60000 (0%)]\tLoss: 0.244482\n",
      "Train Epoch: 7 [5760/60000 (10%)]\tLoss: 0.384645\n",
      "Train Epoch: 7 [11520/60000 (19%)]\tLoss: 0.386311\n",
      "Train Epoch: 7 [17280/60000 (29%)]\tLoss: 0.391764\n",
      "Train Epoch: 7 [23040/60000 (38%)]\tLoss: 0.441116\n",
      "Train Epoch: 7 [28800/60000 (48%)]\tLoss: 0.226599\n",
      "Train Epoch: 7 [34560/60000 (58%)]\tLoss: 0.211707\n",
      "Train Epoch: 7 [40320/60000 (67%)]\tLoss: 0.303923\n",
      "Train Epoch: 7 [46080/60000 (77%)]\tLoss: 0.371255\n",
      "Train Epoch: 7 [51840/60000 (86%)]\tLoss: 0.395382\n",
      "Train Epoch: 7 [57600/60000 (96%)]\tLoss: 0.140501\n",
      "\n",
      "Test set: Average loss: 0.0023, Accuracy: 9100/10000 (91%)\n",
      "\n"
     ]
    },
    {
     "data": {
      "image/png": "[encoded data removed]",
      "text/plain": [
       "<Figure size 432x288 with 1 Axes>"
      ]
     },
     "metadata": {
      "needs_background": "light"
     },
     "output_type": "display_data"
    },
    {
     "name": "stdout",
     "output_type": "stream",
     "text": [
      "Accuracy: 0.91\n",
      "Train Epoch: 8 [0/60000 (0%)]\tLoss: 0.272191\n",
      "Train Epoch: 8 [5760/60000 (10%)]\tLoss: 0.293161\n",
      "Train Epoch: 8 [11520/60000 (19%)]\tLoss: 0.355274\n",
      "Train Epoch: 8 [17280/60000 (29%)]\tLoss: 0.235446\n",
      "Train Epoch: 8 [23040/60000 (38%)]\tLoss: 0.378812\n",
      "Train Epoch: 8 [28800/60000 (48%)]\tLoss: 0.236010\n",
      "Train Epoch: 8 [34560/60000 (58%)]\tLoss: 0.254800\n",
      "Train Epoch: 8 [40320/60000 (67%)]\tLoss: 0.489251\n",
      "Train Epoch: 8 [46080/60000 (77%)]\tLoss: 0.234001\n",
      "Train Epoch: 8 [51840/60000 (86%)]\tLoss: 0.190448\n",
      "Train Epoch: 8 [57600/60000 (96%)]\tLoss: 0.275940\n",
      "\n",
      "Test set: Average loss: 0.0023, Accuracy: 9091/10000 (91%)\n",
      "\n"
     ]
    },
    {
     "data": {
      "image/png": "[encoded data removed]",
      "text/plain": [
       "<Figure size 432x288 with 1 Axes>"
      ]
     },
     "metadata": {
      "needs_background": "light"
     },
     "output_type": "display_data"
    },
    {
     "name": "stdout",
     "output_type": "stream",
     "text": [
      "Accuracy: 0.9091\n",
      "Train Epoch: 9 [0/60000 (0%)]\tLoss: 0.306894\n",
      "Train Epoch: 9 [5760/60000 (10%)]\tLoss: 0.362695\n",
      "Train Epoch: 9 [11520/60000 (19%)]\tLoss: 0.243800\n",
      "Train Epoch: 9 [17280/60000 (29%)]\tLoss: 0.207000\n",
      "Train Epoch: 9 [23040/60000 (38%)]\tLoss: 0.243442\n",
      "Train Epoch: 9 [28800/60000 (48%)]\tLoss: 0.155864\n",
      "Train Epoch: 9 [34560/60000 (58%)]\tLoss: 0.434702\n",
      "Train Epoch: 9 [40320/60000 (67%)]\tLoss: 0.261543\n",
      "Train Epoch: 9 [46080/60000 (77%)]\tLoss: 0.268314\n",
      "Train Epoch: 9 [51840/60000 (86%)]\tLoss: 0.214133\n",
      "Train Epoch: 9 [57600/60000 (96%)]\tLoss: 0.270249\n",
      "\n",
      "Test set: Average loss: 0.0026, Accuracy: 8990/10000 (90%)\n",
      "\n"
     ]
    },
    {
     "data": {
      "image/png": "[encoded data removed]",
      "text/plain": [
       "<Figure size 432x288 with 1 Axes>"
      ]
     },
     "metadata": {
      "needs_background": "light"
     },
     "output_type": "display_data"
    },
    {
     "name": "stdout",
     "output_type": "stream",
     "text": [
      "Accuracy: 0.899\n",
      "Train Epoch: 10 [0/60000 (0%)]\tLoss: 0.304615\n",
      "Train Epoch: 10 [5760/60000 (10%)]\tLoss: 0.232907\n",
      "Train Epoch: 10 [11520/60000 (19%)]\tLoss: 0.240778\n",
      "Train Epoch: 10 [17280/60000 (29%)]\tLoss: 0.264882\n",
      "Train Epoch: 10 [23040/60000 (38%)]\tLoss: 0.253567\n",
      "Train Epoch: 10 [28800/60000 (48%)]\tLoss: 0.377334\n",
      "Train Epoch: 10 [34560/60000 (58%)]\tLoss: 0.345851\n",
      "Train Epoch: 10 [40320/60000 (67%)]\tLoss: 0.274520\n",
      "Train Epoch: 10 [46080/60000 (77%)]\tLoss: 0.268235\n",
      "Train Epoch: 10 [51840/60000 (86%)]\tLoss: 0.247087\n",
      "Train Epoch: 10 [57600/60000 (96%)]\tLoss: 0.304813\n",
      "\n",
      "Test set: Average loss: 0.0022, Accuracy: 9151/10000 (92%)\n",
      "\n"
     ]
    },
    {
     "data": {
      "image/png": "[encoded data removed]",
      "text/plain": [
       "<Figure size 432x288 with 1 Axes>"
      ]
     },
     "metadata": {
      "needs_background": "light"
     },
     "output_type": "display_data"
    },
    {
     "name": "stdout",
     "output_type": "stream",
     "text": [
      "Accuracy: 0.9151\n",
      "Train Epoch: 11 [0/60000 (0%)]\tLoss: 0.474807\n",
      "Train Epoch: 11 [5760/60000 (10%)]\tLoss: 0.376407\n",
      "Train Epoch: 11 [11520/60000 (19%)]\tLoss: 0.205112\n",
      "Train Epoch: 11 [17280/60000 (29%)]\tLoss: 0.214823\n",
      "Train Epoch: 11 [23040/60000 (38%)]\tLoss: 0.189688\n",
      "Train Epoch: 11 [28800/60000 (48%)]\tLoss: 0.306358\n",
      "Train Epoch: 11 [34560/60000 (58%)]\tLoss: 0.269502\n",
      "Train Epoch: 11 [40320/60000 (67%)]\tLoss: 0.393308\n",
      "Train Epoch: 11 [46080/60000 (77%)]\tLoss: 0.397998\n",
      "Train Epoch: 11 [51840/60000 (86%)]\tLoss: 0.232484\n",
      "Train Epoch: 11 [57600/60000 (96%)]\tLoss: 0.228839\n",
      "\n",
      "Test set: Average loss: 0.0021, Accuracy: 9160/10000 (92%)\n",
      "\n"
     ]
    },
    {
     "data": {
      "image/png": "[encoded data removed]",
      "text/plain": [
       "<Figure size 432x288 with 1 Axes>"
      ]
     },
     "metadata": {
      "needs_background": "light"
     },
     "output_type": "display_data"
    },
    {
     "name": "stdout",
     "output_type": "stream",
     "text": [
      "Accuracy: 0.916\n",
      "Train Epoch: 12 [0/60000 (0%)]\tLoss: 0.294824\n",
      "Train Epoch: 12 [5760/60000 (10%)]\tLoss: 0.216951\n",
      "Train Epoch: 12 [11520/60000 (19%)]\tLoss: 0.467684\n",
      "Train Epoch: 12 [17280/60000 (29%)]\tLoss: 0.372329\n",
      "Train Epoch: 12 [23040/60000 (38%)]\tLoss: 0.125278\n",
      "Train Epoch: 12 [28800/60000 (48%)]\tLoss: 0.273256\n",
      "Train Epoch: 12 [34560/60000 (58%)]\tLoss: 0.236296\n",
      "Train Epoch: 12 [40320/60000 (67%)]\tLoss: 0.219913\n",
      "Train Epoch: 12 [46080/60000 (77%)]\tLoss: 0.293933\n",
      "Train Epoch: 12 [51840/60000 (86%)]\tLoss: 0.324613\n",
      "Train Epoch: 12 [57600/60000 (96%)]\tLoss: 0.175365\n",
      "\n",
      "Test set: Average loss: 0.0020, Accuracy: 9213/10000 (92%)\n",
      "\n"
     ]
    },
    {
     "data": {
      "image/png": "[encoded data removed]",
      "text/plain": [
       "<Figure size 432x288 with 1 Axes>"
      ]
     },
     "metadata": {
      "needs_background": "light"
     },
     "output_type": "display_data"
    },
    {
     "name": "stdout",
     "output_type": "stream",
     "text": [
      "Accuracy: 0.9213\n",
      "Train Epoch: 13 [0/60000 (0%)]\tLoss: 0.318724\n",
      "Train Epoch: 13 [5760/60000 (10%)]\tLoss: 0.229023\n",
      "Train Epoch: 13 [11520/60000 (19%)]\tLoss: 0.258294\n",
      "Train Epoch: 13 [17280/60000 (29%)]\tLoss: 0.282750\n",
      "Train Epoch: 13 [23040/60000 (38%)]\tLoss: 0.283416\n",
      "Train Epoch: 13 [28800/60000 (48%)]\tLoss: 0.198544\n",
      "Train Epoch: 13 [34560/60000 (58%)]\tLoss: 0.164286\n",
      "Train Epoch: 13 [40320/60000 (67%)]\tLoss: 0.293859\n",
      "Train Epoch: 13 [46080/60000 (77%)]\tLoss: 0.303210\n",
      "Train Epoch: 13 [51840/60000 (86%)]\tLoss: 0.200121\n",
      "Train Epoch: 13 [57600/60000 (96%)]\tLoss: 0.183317\n",
      "\n",
      "Test set: Average loss: 0.0029, Accuracy: 8882/10000 (89%)\n",
      "\n"
     ]
    },
    {
     "data": {
      "image/png": "[encoded data removed]",
      "text/plain": [
       "<Figure size 432x288 with 1 Axes>"
      ]
     },
     "metadata": {
      "needs_background": "light"
     },
     "output_type": "display_data"
    },
    {
     "name": "stdout",
     "output_type": "stream",
     "text": [
      "Accuracy: 0.8882\n",
      "Train Epoch: 14 [0/60000 (0%)]\tLoss: 0.354854\n",
      "Train Epoch: 14 [5760/60000 (10%)]\tLoss: 0.296299\n",
      "Train Epoch: 14 [11520/60000 (19%)]\tLoss: 0.282551\n",
      "Train Epoch: 14 [17280/60000 (29%)]\tLoss: 0.175763\n",
      "Train Epoch: 14 [23040/60000 (38%)]\tLoss: 0.347144\n",
      "Train Epoch: 14 [28800/60000 (48%)]\tLoss: 0.270271\n",
      "Train Epoch: 14 [34560/60000 (58%)]\tLoss: 0.244670\n",
      "Train Epoch: 14 [40320/60000 (67%)]\tLoss: 0.348738\n",
      "Train Epoch: 14 [46080/60000 (77%)]\tLoss: 0.217657\n",
      "Train Epoch: 14 [51840/60000 (86%)]\tLoss: 0.169280\n",
      "Train Epoch: 14 [57600/60000 (96%)]\tLoss: 0.134056\n",
      "\n",
      "Test set: Average loss: 0.0020, Accuracy: 9204/10000 (92%)\n",
      "\n"
     ]
    },
    {
     "data": {
      "image/png": "[encoded data removed]",
      "text/plain": [
       "<Figure size 432x288 with 1 Axes>"
      ]
     },
     "metadata": {
      "needs_background": "light"
     },
     "output_type": "display_data"
    },
    {
     "name": "stdout",
     "output_type": "stream",
     "text": [
      "Accuracy: 0.9204\n",
      "Train Epoch: 15 [0/60000 (0%)]\tLoss: 0.254823\n",
      "Train Epoch: 15 [5760/60000 (10%)]\tLoss: 0.223600\n",
      "Train Epoch: 15 [11520/60000 (19%)]\tLoss: 0.375828\n",
      "Train Epoch: 15 [17280/60000 (29%)]\tLoss: 0.256825\n",
      "Train Epoch: 15 [23040/60000 (38%)]\tLoss: 0.374786\n",
      "Train Epoch: 15 [28800/60000 (48%)]\tLoss: 0.324814\n",
      "Train Epoch: 15 [34560/60000 (58%)]\tLoss: 0.179250\n",
      "Train Epoch: 15 [40320/60000 (67%)]\tLoss: 0.301263\n",
      "Train Epoch: 15 [46080/60000 (77%)]\tLoss: 0.347284\n",
      "Train Epoch: 15 [51840/60000 (86%)]\tLoss: 0.300954\n",
      "Train Epoch: 15 [57600/60000 (96%)]\tLoss: 0.275767\n",
      "\n",
      "Test set: Average loss: 0.0020, Accuracy: 9227/10000 (92%)\n",
      "\n"
     ]
    },
    {
     "data": {
      "image/png": "[encoded data removed]",
      "text/plain": [
       "<Figure size 432x288 with 1 Axes>"
      ]
     },
     "metadata": {
      "needs_background": "light"
     },
     "output_type": "display_data"
    },
    {
     "name": "stdout",
     "output_type": "stream",
     "text": [
      "Accuracy: 0.9227\n",
      "Train Epoch: 16 [0/60000 (0%)]\tLoss: 0.183117\n",
      "Train Epoch: 16 [5760/60000 (10%)]\tLoss: 0.237438\n",
      "Train Epoch: 16 [11520/60000 (19%)]\tLoss: 0.201968\n",
      "Train Epoch: 16 [17280/60000 (29%)]\tLoss: 0.246486\n",
      "Train Epoch: 16 [23040/60000 (38%)]\tLoss: 0.332482\n",
      "Train Epoch: 16 [28800/60000 (48%)]\tLoss: 0.402231\n",
      "Train Epoch: 16 [34560/60000 (58%)]\tLoss: 0.197683\n",
      "Train Epoch: 16 [40320/60000 (67%)]\tLoss: 0.235716\n",
      "Train Epoch: 16 [46080/60000 (77%)]\tLoss: 0.347630\n",
      "Train Epoch: 16 [51840/60000 (86%)]\tLoss: 0.245064\n",
      "Train Epoch: 16 [57600/60000 (96%)]\tLoss: 0.208257\n",
      "\n",
      "Test set: Average loss: 0.0021, Accuracy: 9182/10000 (92%)\n",
      "\n"
     ]
    },
    {
     "data": {
      "image/png": "[encoded data removed]",
      "text/plain": [
       "<Figure size 432x288 with 1 Axes>"
      ]
     },
     "metadata": {
      "needs_background": "light"
     },
     "output_type": "display_data"
    },
    {
     "name": "stdout",
     "output_type": "stream",
     "text": [
      "Accuracy: 0.9182\n",
      "Train Epoch: 17 [0/60000 (0%)]\tLoss: 0.232170\n",
      "Train Epoch: 17 [5760/60000 (10%)]\tLoss: 0.311418\n",
      "Train Epoch: 17 [11520/60000 (19%)]\tLoss: 0.274234\n",
      "Train Epoch: 17 [17280/60000 (29%)]\tLoss: 0.144963\n",
      "Train Epoch: 17 [23040/60000 (38%)]\tLoss: 0.315883\n",
      "Train Epoch: 17 [28800/60000 (48%)]\tLoss: 0.167080\n",
      "Train Epoch: 17 [34560/60000 (58%)]\tLoss: 0.378808\n",
      "Train Epoch: 17 [40320/60000 (67%)]\tLoss: 0.338811\n",
      "Train Epoch: 17 [46080/60000 (77%)]\tLoss: 0.364374\n",
      "Train Epoch: 17 [51840/60000 (86%)]\tLoss: 0.274910\n",
      "Train Epoch: 17 [57600/60000 (96%)]\tLoss: 0.234403\n",
      "\n",
      "Test set: Average loss: 0.0022, Accuracy: 9124/10000 (91%)\n",
      "\n"
     ]
    },
    {
     "data": {
      "image/png": "[encoded data removed]",
      "text/plain": [
       "<Figure size 432x288 with 1 Axes>"
      ]
     },
     "metadata": {
      "needs_background": "light"
     },
     "output_type": "display_data"
    },
    {
     "name": "stdout",
     "output_type": "stream",
     "text": [
      "Accuracy: 0.9124\n",
      "Train Epoch: 18 [0/60000 (0%)]\tLoss: 0.181836\n",
      "Train Epoch: 18 [5760/60000 (10%)]\tLoss: 0.209883\n",
      "Train Epoch: 18 [11520/60000 (19%)]\tLoss: 0.352114\n",
      "Train Epoch: 18 [17280/60000 (29%)]\tLoss: 0.227724\n",
      "Train Epoch: 18 [23040/60000 (38%)]\tLoss: 0.362859\n",
      "Train Epoch: 18 [28800/60000 (48%)]\tLoss: 0.188348\n",
      "Train Epoch: 18 [34560/60000 (58%)]\tLoss: 0.215948\n",
      "Train Epoch: 18 [40320/60000 (67%)]\tLoss: 0.231605\n",
      "Train Epoch: 18 [46080/60000 (77%)]\tLoss: 0.311205\n",
      "Train Epoch: 18 [51840/60000 (86%)]\tLoss: 0.446607\n",
      "Train Epoch: 18 [57600/60000 (96%)]\tLoss: 0.297670\n",
      "\n",
      "Test set: Average loss: 0.0019, Accuracy: 9223/10000 (92%)\n",
      "\n"
     ]
    },
    {
     "data": {
      "image/png": "[encoded data removed]",
      "text/plain": [
       "<Figure size 432x288 with 1 Axes>"
      ]
     },
     "metadata": {
      "needs_background": "light"
     },
     "output_type": "display_data"
    },
    {
     "name": "stdout",
     "output_type": "stream",
     "text": [
      "Accuracy: 0.9223\n",
      "Train Epoch: 19 [0/60000 (0%)]\tLoss: 0.174504\n",
      "Train Epoch: 19 [5760/60000 (10%)]\tLoss: 0.292053\n",
      "Train Epoch: 19 [11520/60000 (19%)]\tLoss: 0.401271\n",
      "Train Epoch: 19 [17280/60000 (29%)]\tLoss: 0.228611\n",
      "Train Epoch: 19 [23040/60000 (38%)]\tLoss: 0.378306\n",
      "Train Epoch: 19 [28800/60000 (48%)]\tLoss: 0.213654\n",
      "Train Epoch: 19 [34560/60000 (58%)]\tLoss: 0.263194\n",
      "Train Epoch: 19 [40320/60000 (67%)]\tLoss: 0.258049\n",
      "Train Epoch: 19 [46080/60000 (77%)]\tLoss: 0.161239\n",
      "Train Epoch: 19 [51840/60000 (86%)]\tLoss: 0.314895\n",
      "Train Epoch: 19 [57600/60000 (96%)]\tLoss: 0.416430\n",
      "\n",
      "Test set: Average loss: 0.0020, Accuracy: 9249/10000 (92%)\n",
      "\n"
     ]
    },
    {
     "data": {
      "image/png": "[encoded data removed]",
      "text/plain": [
       "<Figure size 432x288 with 1 Axes>"
      ]
     },
     "metadata": {
      "needs_background": "light"
     },
     "output_type": "display_data"
    },
    {
     "name": "stdout",
     "output_type": "stream",
     "text": [
      "Accuracy: 0.9249\n",
      "Train Epoch: 20 [0/60000 (0%)]\tLoss: 0.383709\n",
      "Train Epoch: 20 [5760/60000 (10%)]\tLoss: 0.252439\n",
      "Train Epoch: 20 [11520/60000 (19%)]\tLoss: 0.187043\n",
      "Train Epoch: 20 [17280/60000 (29%)]\tLoss: 0.303207\n",
      "Train Epoch: 20 [23040/60000 (38%)]\tLoss: 0.268924\n",
      "Train Epoch: 20 [28800/60000 (48%)]\tLoss: 0.314997\n",
      "Train Epoch: 20 [34560/60000 (58%)]\tLoss: 0.194139\n",
      "Train Epoch: 20 [40320/60000 (67%)]\tLoss: 0.212471\n",
      "Train Epoch: 20 [46080/60000 (77%)]\tLoss: 0.204355\n",
      "Train Epoch: 20 [51840/60000 (86%)]\tLoss: 0.292376\n",
      "Train Epoch: 20 [57600/60000 (96%)]\tLoss: 0.226784\n",
      "\n",
      "Test set: Average loss: 0.0022, Accuracy: 9112/10000 (91%)\n",
      "\n"
     ]
    },
    {
     "data": {
      "image/png": "[encoded data removed]",
      "text/plain": [
       "<Figure size 432x288 with 1 Axes>"
      ]
     },
     "metadata": {
      "needs_background": "light"
     },
     "output_type": "display_data"
    },
    {
     "name": "stdout",
     "output_type": "stream",
     "text": [
      "Accuracy: 0.9112\n",
      "Train Epoch: 21 [0/60000 (0%)]\tLoss: 0.338174\n",
      "Train Epoch: 21 [5760/60000 (10%)]\tLoss: 0.182027\n",
      "Train Epoch: 21 [11520/60000 (19%)]\tLoss: 0.337163\n",
      "Train Epoch: 21 [17280/60000 (29%)]\tLoss: 0.245788\n",
      "Train Epoch: 21 [23040/60000 (38%)]\tLoss: 0.232157\n",
      "Train Epoch: 21 [28800/60000 (48%)]\tLoss: 0.384565\n",
      "Train Epoch: 21 [34560/60000 (58%)]\tLoss: 0.233883\n",
      "Train Epoch: 21 [40320/60000 (67%)]\tLoss: 0.170112\n",
      "Train Epoch: 21 [46080/60000 (77%)]\tLoss: 0.248990\n",
      "Train Epoch: 21 [51840/60000 (86%)]\tLoss: 0.202915\n",
      "Train Epoch: 21 [57600/60000 (96%)]\tLoss: 0.292346\n",
      "\n",
      "Test set: Average loss: 0.0022, Accuracy: 9136/10000 (91%)\n",
      "\n"
     ]
    },
    {
     "data": {
      "image/png": "[encoded data removed]",
      "text/plain": [
       "<Figure size 432x288 with 1 Axes>"
      ]
     },
     "metadata": {
      "needs_background": "light"
     },
     "output_type": "display_data"
    },
    {
     "name": "stdout",
     "output_type": "stream",
     "text": [
      "Accuracy: 0.9136\n",
      "Train Epoch: 22 [0/60000 (0%)]\tLoss: 0.288999\n",
      "Train Epoch: 22 [5760/60000 (10%)]\tLoss: 0.185892\n",
      "Train Epoch: 22 [11520/60000 (19%)]\tLoss: 0.216414\n",
      "Train Epoch: 22 [17280/60000 (29%)]\tLoss: 0.209227\n",
      "Train Epoch: 22 [23040/60000 (38%)]\tLoss: 0.261959\n",
      "Train Epoch: 22 [28800/60000 (48%)]\tLoss: 0.382006\n",
      "Train Epoch: 22 [34560/60000 (58%)]\tLoss: 0.181923\n",
      "Train Epoch: 22 [40320/60000 (67%)]\tLoss: 0.195159\n",
      "Train Epoch: 22 [46080/60000 (77%)]\tLoss: 0.310674\n",
      "Train Epoch: 22 [51840/60000 (86%)]\tLoss: 0.224136\n",
      "Train Epoch: 22 [57600/60000 (96%)]\tLoss: 0.172382\n",
      "\n",
      "Test set: Average loss: 0.0021, Accuracy: 9204/10000 (92%)\n",
      "\n"
     ]
    },
    {
     "data": {
      "image/png": "[encoded data removed]",
      "text/plain": [
       "<Figure size 432x288 with 1 Axes>"
      ]
     },
     "metadata": {
      "needs_background": "light"
     },
     "output_type": "display_data"
    },
    {
     "name": "stdout",
     "output_type": "stream",
     "text": [
      "Accuracy: 0.9204\n",
      "Train Epoch: 23 [0/60000 (0%)]\tLoss: 0.285235\n",
      "Train Epoch: 23 [5760/60000 (10%)]\tLoss: 0.236154\n",
      "Train Epoch: 23 [11520/60000 (19%)]\tLoss: 0.235766\n",
      "Train Epoch: 23 [17280/60000 (29%)]\tLoss: 0.167262\n",
      "Train Epoch: 23 [23040/60000 (38%)]\tLoss: 0.327786\n",
      "Train Epoch: 23 [28800/60000 (48%)]\tLoss: 0.199157\n",
      "Train Epoch: 23 [34560/60000 (58%)]\tLoss: 0.309816\n",
      "Train Epoch: 23 [40320/60000 (67%)]\tLoss: 0.276768\n",
      "Train Epoch: 23 [46080/60000 (77%)]\tLoss: 0.157761\n",
      "Train Epoch: 23 [51840/60000 (86%)]\tLoss: 0.325948\n",
      "Train Epoch: 23 [57600/60000 (96%)]\tLoss: 0.283932\n",
      "\n",
      "Test set: Average loss: 0.0020, Accuracy: 9213/10000 (92%)\n",
      "\n"
     ]
    },
    {
     "data": {
      "image/png": "[encoded data removed]",
      "text/plain": [
       "<Figure size 432x288 with 1 Axes>"
      ]
     },
     "metadata": {
      "needs_background": "light"
     },
     "output_type": "display_data"
    },
    {
     "name": "stdout",
     "output_type": "stream",
     "text": [
      "Accuracy: 0.9213\n",
      "Train Epoch: 24 [0/60000 (0%)]\tLoss: 0.272148\n",
      "Train Epoch: 24 [5760/60000 (10%)]\tLoss: 0.274496\n",
      "Train Epoch: 24 [11520/60000 (19%)]\tLoss: 0.171821\n",
      "Train Epoch: 24 [17280/60000 (29%)]\tLoss: 0.305474\n",
      "Train Epoch: 24 [23040/60000 (38%)]\tLoss: 0.234031\n",
      "Train Epoch: 24 [28800/60000 (48%)]\tLoss: 0.217795\n",
      "Train Epoch: 24 [34560/60000 (58%)]\tLoss: 0.346383\n",
      "Train Epoch: 24 [40320/60000 (67%)]\tLoss: 0.238775\n",
      "Train Epoch: 24 [46080/60000 (77%)]\tLoss: 0.110189\n",
      "Train Epoch: 24 [51840/60000 (86%)]\tLoss: 0.210892\n",
      "Train Epoch: 24 [57600/60000 (96%)]\tLoss: 0.271382\n",
      "\n",
      "Test set: Average loss: 0.0023, Accuracy: 9089/10000 (91%)\n",
      "\n"
     ]
    },
    {
     "data": {
      "image/png": "[encoded data removed]",
      "text/plain": [
       "<Figure size 432x288 with 1 Axes>"
      ]
     },
     "metadata": {
      "needs_background": "light"
     },
     "output_type": "display_data"
    },
    {
     "name": "stdout",
     "output_type": "stream",
     "text": [
      "Accuracy: 0.9089\n",
      "Train Epoch: 25 [0/60000 (0%)]\tLoss: 0.249170\n",
      "Train Epoch: 25 [5760/60000 (10%)]\tLoss: 0.203615\n",
      "Train Epoch: 25 [11520/60000 (19%)]\tLoss: 0.274761\n",
      "Train Epoch: 25 [17280/60000 (29%)]\tLoss: 0.205839\n",
      "Train Epoch: 25 [23040/60000 (38%)]\tLoss: 0.207419\n",
      "Train Epoch: 25 [28800/60000 (48%)]\tLoss: 0.325303\n",
      "Train Epoch: 25 [34560/60000 (58%)]\tLoss: 0.294519\n",
      "Train Epoch: 25 [40320/60000 (67%)]\tLoss: 0.299698\n",
      "Train Epoch: 25 [46080/60000 (77%)]\tLoss: 0.430916\n",
      "Train Epoch: 25 [51840/60000 (86%)]\tLoss: 0.322161\n",
      "Train Epoch: 25 [57600/60000 (96%)]\tLoss: 0.305501\n",
      "\n",
      "Test set: Average loss: 0.0022, Accuracy: 9159/10000 (92%)\n",
      "\n"
     ]
    },
    {
     "data": {
      "image/png": "[encoded data removed]",
      "text/plain": [
       "<Figure size 432x288 with 1 Axes>"
      ]
     },
     "metadata": {
      "needs_background": "light"
     },
     "output_type": "display_data"
    },
    {
     "name": "stdout",
     "output_type": "stream",
     "text": [
      "Accuracy: 0.9159\n",
      "Train Epoch: 26 [0/60000 (0%)]\tLoss: 0.262849\n",
      "Train Epoch: 26 [5760/60000 (10%)]\tLoss: 0.330821\n",
      "Train Epoch: 26 [11520/60000 (19%)]\tLoss: 0.238452\n",
      "Train Epoch: 26 [17280/60000 (29%)]\tLoss: 0.252857\n",
      "Train Epoch: 26 [23040/60000 (38%)]\tLoss: 0.209355\n",
      "Train Epoch: 26 [28800/60000 (48%)]\tLoss: 0.218181\n",
      "Train Epoch: 26 [34560/60000 (58%)]\tLoss: 0.321280\n",
      "Train Epoch: 26 [40320/60000 (67%)]\tLoss: 0.191915\n",
      "Train Epoch: 26 [46080/60000 (77%)]\tLoss: 0.259691\n",
      "Train Epoch: 26 [51840/60000 (86%)]\tLoss: 0.308965\n",
      "Train Epoch: 26 [57600/60000 (96%)]\tLoss: 0.248976\n",
      "\n",
      "Test set: Average loss: 0.0021, Accuracy: 9193/10000 (92%)\n",
      "\n"
     ]
    },
    {
     "data": {
      "image/png": "[encoded data removed]",
      "text/plain": [
       "<Figure size 432x288 with 1 Axes>"
      ]
     },
     "metadata": {
      "needs_background": "light"
     },
     "output_type": "display_data"
    },
    {
     "name": "stdout",
     "output_type": "stream",
     "text": [
      "Accuracy: 0.9193\n",
      "Train Epoch: 27 [0/60000 (0%)]\tLoss: 0.212371\n",
      "Train Epoch: 27 [5760/60000 (10%)]\tLoss: 0.176470\n",
      "Train Epoch: 27 [11520/60000 (19%)]\tLoss: 0.173957\n",
      "Train Epoch: 27 [17280/60000 (29%)]\tLoss: 0.172569\n",
      "Train Epoch: 27 [23040/60000 (38%)]\tLoss: 0.233537\n",
      "Train Epoch: 27 [28800/60000 (48%)]\tLoss: 0.315351\n",
      "Train Epoch: 27 [34560/60000 (58%)]\tLoss: 0.262482\n",
      "Train Epoch: 27 [40320/60000 (67%)]\tLoss: 0.229716\n",
      "Train Epoch: 27 [46080/60000 (77%)]\tLoss: 0.269922\n",
      "Train Epoch: 27 [51840/60000 (86%)]\tLoss: 0.319576\n",
      "Train Epoch: 27 [57600/60000 (96%)]\tLoss: 0.280165\n",
      "\n",
      "Test set: Average loss: 0.0024, Accuracy: 9097/10000 (91%)\n",
      "\n"
     ]
    },
    {
     "data": {
      "image/png": "[encoded data removed]",
      "text/plain": [
       "<Figure size 432x288 with 1 Axes>"
      ]
     },
     "metadata": {
      "needs_background": "light"
     },
     "output_type": "display_data"
    },
    {
     "name": "stdout",
     "output_type": "stream",
     "text": [
      "Accuracy: 0.9097\n",
      "Train Epoch: 28 [0/60000 (0%)]\tLoss: 0.277935\n",
      "Train Epoch: 28 [5760/60000 (10%)]\tLoss: 0.174554\n",
      "Train Epoch: 28 [11520/60000 (19%)]\tLoss: 0.307206\n",
      "Train Epoch: 28 [17280/60000 (29%)]\tLoss: 0.135347\n",
      "Train Epoch: 28 [23040/60000 (38%)]\tLoss: 0.265368\n",
      "Train Epoch: 28 [28800/60000 (48%)]\tLoss: 0.251361\n",
      "Train Epoch: 28 [34560/60000 (58%)]\tLoss: 0.211762\n",
      "Train Epoch: 28 [40320/60000 (67%)]\tLoss: 0.357585\n",
      "Train Epoch: 28 [46080/60000 (77%)]\tLoss: 0.235009\n",
      "Train Epoch: 28 [51840/60000 (86%)]\tLoss: 0.554666\n",
      "Train Epoch: 28 [57600/60000 (96%)]\tLoss: 0.268938\n",
      "\n",
      "Test set: Average loss: 0.0020, Accuracy: 9271/10000 (93%)\n",
      "\n"
     ]
    },
    {
     "data": {
      "image/png": "[encoded data removed]",
      "text/plain": [
       "<Figure size 432x288 with 1 Axes>"
      ]
     },
     "metadata": {
      "needs_background": "light"
     },
     "output_type": "display_data"
    },
    {
     "name": "stdout",
     "output_type": "stream",
     "text": [
      "Accuracy: 0.9271\n",
      "Train Epoch: 29 [0/60000 (0%)]\tLoss: 0.220875\n",
      "Train Epoch: 29 [5760/60000 (10%)]\tLoss: 0.307033\n",
      "Train Epoch: 29 [11520/60000 (19%)]\tLoss: 0.120002\n",
      "Train Epoch: 29 [17280/60000 (29%)]\tLoss: 0.259437\n",
      "Train Epoch: 29 [23040/60000 (38%)]\tLoss: 0.211841\n",
      "Train Epoch: 29 [28800/60000 (48%)]\tLoss: 0.274477\n",
      "Train Epoch: 29 [34560/60000 (58%)]\tLoss: 0.189985\n",
      "Train Epoch: 29 [40320/60000 (67%)]\tLoss: 0.340380\n",
      "Train Epoch: 29 [46080/60000 (77%)]\tLoss: 0.243973\n",
      "Train Epoch: 29 [51840/60000 (86%)]\tLoss: 0.221342\n",
      "Train Epoch: 29 [57600/60000 (96%)]\tLoss: 0.219317\n",
      "\n",
      "Test set: Average loss: 0.0020, Accuracy: 9285/10000 (93%)\n",
      "\n"
     ]
    },
    {
     "data": {
      "image/png": "[encoded data removed]",
      "text/plain": [
       "<Figure size 432x288 with 1 Axes>"
      ]
     },
     "metadata": {
      "needs_background": "light"
     },
     "output_type": "display_data"
    },
    {
     "name": "stdout",
     "output_type": "stream",
     "text": [
      "Accuracy: 0.9285\n",
      "Train Epoch: 30 [0/60000 (0%)]\tLoss: 0.221168\n",
      "Train Epoch: 30 [5760/60000 (10%)]\tLoss: 0.375023\n",
      "Train Epoch: 30 [11520/60000 (19%)]\tLoss: 0.135552\n",
      "Train Epoch: 30 [17280/60000 (29%)]\tLoss: 0.175944\n",
      "Train Epoch: 30 [23040/60000 (38%)]\tLoss: 0.390518\n",
      "Train Epoch: 30 [28800/60000 (48%)]\tLoss: 0.161562\n",
      "Train Epoch: 30 [34560/60000 (58%)]\tLoss: 0.175199\n",
      "Train Epoch: 30 [40320/60000 (67%)]\tLoss: 0.218282\n",
      "Train Epoch: 30 [46080/60000 (77%)]\tLoss: 0.307711\n",
      "Train Epoch: 30 [51840/60000 (86%)]\tLoss: 0.200732\n",
      "Train Epoch: 30 [57600/60000 (96%)]\tLoss: 0.282828\n",
      "\n",
      "Test set: Average loss: 0.0020, Accuracy: 9223/10000 (92%)\n",
      "\n"
     ]
    },
    {
     "data": {
      "image/png": "[encoded data removed]",
      "text/plain": [
       "<Figure size 432x288 with 1 Axes>"
      ]
     },
     "metadata": {
      "needs_background": "light"
     },
     "output_type": "display_data"
    },
    {
     "name": "stdout",
     "output_type": "stream",
     "text": [
      "Accuracy: 0.9223\n",
      "Train Epoch: 31 [0/60000 (0%)]\tLoss: 0.275006\n",
      "Train Epoch: 31 [5760/60000 (10%)]\tLoss: 0.204940\n",
      "Train Epoch: 31 [11520/60000 (19%)]\tLoss: 0.206372\n",
      "Train Epoch: 31 [17280/60000 (29%)]\tLoss: 0.342821\n",
      "Train Epoch: 31 [23040/60000 (38%)]\tLoss: 0.139159\n",
      "Train Epoch: 31 [28800/60000 (48%)]\tLoss: 0.350861\n",
      "Train Epoch: 31 [34560/60000 (58%)]\tLoss: 0.189926\n",
      "Train Epoch: 31 [40320/60000 (67%)]\tLoss: 0.177910\n",
      "Train Epoch: 31 [46080/60000 (77%)]\tLoss: 0.287373\n",
      "Train Epoch: 31 [51840/60000 (86%)]\tLoss: 0.127307\n",
      "Train Epoch: 31 [57600/60000 (96%)]\tLoss: 0.307033\n",
      "\n",
      "Test set: Average loss: 0.0019, Accuracy: 9287/10000 (93%)\n",
      "\n"
     ]
    },
    {
     "data": {
      "image/png": "[encoded data removed]",
      "text/plain": [
       "<Figure size 432x288 with 1 Axes>"
      ]
     },
     "metadata": {
      "needs_background": "light"
     },
     "output_type": "display_data"
    },
    {
     "name": "stdout",
     "output_type": "stream",
     "text": [
      "Accuracy: 0.9287\n",
      "Train Epoch: 32 [0/60000 (0%)]\tLoss: 0.253689\n",
      "Train Epoch: 32 [5760/60000 (10%)]\tLoss: 0.291170\n",
      "Train Epoch: 32 [11520/60000 (19%)]\tLoss: 0.249268\n",
      "Train Epoch: 32 [17280/60000 (29%)]\tLoss: 0.179803\n",
      "Train Epoch: 32 [23040/60000 (38%)]\tLoss: 0.236163\n",
      "Train Epoch: 32 [28800/60000 (48%)]\tLoss: 0.266215\n",
      "Train Epoch: 32 [34560/60000 (58%)]\tLoss: 0.267674\n",
      "Train Epoch: 32 [40320/60000 (67%)]\tLoss: 0.342604\n",
      "Train Epoch: 32 [46080/60000 (77%)]\tLoss: 0.460342\n",
      "Train Epoch: 32 [51840/60000 (86%)]\tLoss: 0.355060\n",
      "Train Epoch: 32 [57600/60000 (96%)]\tLoss: 0.281377\n",
      "\n",
      "Test set: Average loss: 0.0022, Accuracy: 9187/10000 (92%)\n",
      "\n"
     ]
    },
    {
     "data": {
      "image/png": "[encoded data removed]",
      "text/plain": [
       "<Figure size 432x288 with 1 Axes>"
      ]
     },
     "metadata": {
      "needs_background": "light"
     },
     "output_type": "display_data"
    },
    {
     "name": "stdout",
     "output_type": "stream",
     "text": [
      "Accuracy: 0.9187\n",
      "Train Epoch: 33 [0/60000 (0%)]\tLoss: 0.561770\n",
      "Train Epoch: 33 [5760/60000 (10%)]\tLoss: 0.233742\n",
      "Train Epoch: 33 [11520/60000 (19%)]\tLoss: 0.258642\n",
      "Train Epoch: 33 [17280/60000 (29%)]\tLoss: 0.281159\n",
      "Train Epoch: 33 [23040/60000 (38%)]\tLoss: 0.416257\n",
      "Train Epoch: 33 [28800/60000 (48%)]\tLoss: 0.310610\n",
      "Train Epoch: 33 [34560/60000 (58%)]\tLoss: 0.238828\n",
      "Train Epoch: 33 [40320/60000 (67%)]\tLoss: 0.401901\n",
      "Train Epoch: 33 [46080/60000 (77%)]\tLoss: 0.226640\n",
      "Train Epoch: 33 [51840/60000 (86%)]\tLoss: 0.353384\n",
      "Train Epoch: 33 [57600/60000 (96%)]\tLoss: 0.229798\n",
      "\n",
      "Test set: Average loss: 0.0020, Accuracy: 9241/10000 (92%)\n",
      "\n"
     ]
    },
    {
     "data": {
      "image/png": "[encoded data removed]",
      "text/plain": [
       "<Figure size 432x288 with 1 Axes>"
      ]
     },
     "metadata": {
      "needs_background": "light"
     },
     "output_type": "display_data"
    },
    {
     "name": "stdout",
     "output_type": "stream",
     "text": [
      "Accuracy: 0.9241\n",
      "Train Epoch: 34 [0/60000 (0%)]\tLoss: 0.154605\n",
      "Train Epoch: 34 [5760/60000 (10%)]\tLoss: 0.300802\n",
      "Train Epoch: 34 [11520/60000 (19%)]\tLoss: 0.251562\n",
      "Train Epoch: 34 [17280/60000 (29%)]\tLoss: 0.255201\n",
      "Train Epoch: 34 [23040/60000 (38%)]\tLoss: 0.356633\n",
      "Train Epoch: 34 [28800/60000 (48%)]\tLoss: 0.193746\n",
      "Train Epoch: 34 [34560/60000 (58%)]\tLoss: 0.219505\n",
      "Train Epoch: 34 [40320/60000 (67%)]\tLoss: 0.313712\n",
      "Train Epoch: 34 [46080/60000 (77%)]\tLoss: 0.147811\n",
      "Train Epoch: 34 [51840/60000 (86%)]\tLoss: 0.355642\n",
      "Train Epoch: 34 [57600/60000 (96%)]\tLoss: 0.216648\n",
      "\n",
      "Test set: Average loss: 0.0019, Accuracy: 9300/10000 (93%)\n",
      "\n"
     ]
    },
    {
     "data": {
      "image/png": "[encoded data removed]",
      "text/plain": [
       "<Figure size 432x288 with 1 Axes>"
      ]
     },
     "metadata": {
      "needs_background": "light"
     },
     "output_type": "display_data"
    },
    {
     "name": "stdout",
     "output_type": "stream",
     "text": [
      "Accuracy: 0.93\n",
      "Train Epoch: 35 [0/60000 (0%)]\tLoss: 0.219475\n",
      "Train Epoch: 35 [5760/60000 (10%)]\tLoss: 0.158599\n",
      "Train Epoch: 35 [11520/60000 (19%)]\tLoss: 0.334948\n",
      "Train Epoch: 35 [17280/60000 (29%)]\tLoss: 0.161783\n",
      "Train Epoch: 35 [23040/60000 (38%)]\tLoss: 0.442718\n",
      "Train Epoch: 35 [28800/60000 (48%)]\tLoss: 0.538403\n",
      "Train Epoch: 35 [34560/60000 (58%)]\tLoss: 0.345245\n",
      "Train Epoch: 35 [40320/60000 (67%)]\tLoss: 0.284926\n",
      "Train Epoch: 35 [46080/60000 (77%)]\tLoss: 0.275576\n",
      "Train Epoch: 35 [51840/60000 (86%)]\tLoss: 0.180522\n",
      "Train Epoch: 35 [57600/60000 (96%)]\tLoss: 0.217962\n",
      "\n",
      "Test set: Average loss: 0.0023, Accuracy: 9110/10000 (91%)\n",
      "\n"
     ]
    },
    {
     "data": {
      "image/png": "[encoded data removed]",
      "text/plain": [
       "<Figure size 432x288 with 1 Axes>"
      ]
     },
     "metadata": {
      "needs_background": "light"
     },
     "output_type": "display_data"
    },
    {
     "name": "stdout",
     "output_type": "stream",
     "text": [
      "Accuracy: 0.911\n",
      "Train Epoch: 36 [0/60000 (0%)]\tLoss: 0.398696\n",
      "Train Epoch: 36 [5760/60000 (10%)]\tLoss: 0.262562\n",
      "Train Epoch: 36 [11520/60000 (19%)]\tLoss: 0.137575\n",
      "Train Epoch: 36 [17280/60000 (29%)]\tLoss: 0.314664\n",
      "Train Epoch: 36 [23040/60000 (38%)]\tLoss: 0.355144\n",
      "Train Epoch: 36 [28800/60000 (48%)]\tLoss: 0.212509\n",
      "Train Epoch: 36 [34560/60000 (58%)]\tLoss: 0.158699\n",
      "Train Epoch: 36 [40320/60000 (67%)]\tLoss: 0.227203\n",
      "Train Epoch: 36 [46080/60000 (77%)]\tLoss: 0.256018\n",
      "Train Epoch: 36 [51840/60000 (86%)]\tLoss: 0.176888\n",
      "Train Epoch: 36 [57600/60000 (96%)]\tLoss: 0.238192\n",
      "\n",
      "Test set: Average loss: 0.0021, Accuracy: 9163/10000 (92%)\n",
      "\n"
     ]
    },
    {
     "data": {
      "image/png": "[encoded data removed]",
      "text/plain": [
       "<Figure size 432x288 with 1 Axes>"
      ]
     },
     "metadata": {
      "needs_background": "light"
     },
     "output_type": "display_data"
    },
    {
     "name": "stdout",
     "output_type": "stream",
     "text": [
      "Accuracy: 0.9163\n",
      "Train Epoch: 37 [0/60000 (0%)]\tLoss: 0.288379\n",
      "Train Epoch: 37 [5760/60000 (10%)]\tLoss: 0.254524\n",
      "Train Epoch: 37 [11520/60000 (19%)]\tLoss: 0.352056\n",
      "Train Epoch: 37 [17280/60000 (29%)]\tLoss: 0.287173\n",
      "Train Epoch: 37 [23040/60000 (38%)]\tLoss: 0.248305\n",
      "Train Epoch: 37 [28800/60000 (48%)]\tLoss: 0.227814\n",
      "Train Epoch: 37 [34560/60000 (58%)]\tLoss: 0.253552\n",
      "Train Epoch: 37 [40320/60000 (67%)]\tLoss: 0.343254\n",
      "Train Epoch: 37 [46080/60000 (77%)]\tLoss: 0.335383\n",
      "Train Epoch: 37 [51840/60000 (86%)]\tLoss: 0.237624\n",
      "Train Epoch: 37 [57600/60000 (96%)]\tLoss: 0.109073\n",
      "\n",
      "Test set: Average loss: 0.0018, Accuracy: 9306/10000 (93%)\n",
      "\n"
     ]
    },
    {
     "data": {
      "image/png": "[encoded data removed]",
      "text/plain": [
       "<Figure size 432x288 with 1 Axes>"
      ]
     },
     "metadata": {
      "needs_background": "light"
     },
     "output_type": "display_data"
    },
    {
     "name": "stdout",
     "output_type": "stream",
     "text": [
      "Accuracy: 0.9306\n",
      "Train Epoch: 38 [0/60000 (0%)]\tLoss: 0.116428\n",
      "Train Epoch: 38 [5760/60000 (10%)]\tLoss: 0.151695\n",
      "Train Epoch: 38 [11520/60000 (19%)]\tLoss: 0.234212\n",
      "Train Epoch: 38 [17280/60000 (29%)]\tLoss: 0.271143\n",
      "Train Epoch: 38 [23040/60000 (38%)]\tLoss: 0.503242\n",
      "Train Epoch: 38 [28800/60000 (48%)]\tLoss: 0.222725\n",
      "Train Epoch: 38 [34560/60000 (58%)]\tLoss: 0.258027\n",
      "Train Epoch: 38 [40320/60000 (67%)]\tLoss: 0.209545\n",
      "Train Epoch: 38 [46080/60000 (77%)]\tLoss: 0.160009\n",
      "Train Epoch: 38 [51840/60000 (86%)]\tLoss: 0.231443\n",
      "Train Epoch: 38 [57600/60000 (96%)]\tLoss: 0.229129\n",
      "\n",
      "Test set: Average loss: 0.0019, Accuracy: 9271/10000 (93%)\n",
      "\n"
     ]
    },
    {
     "data": {
      "image/png": "[encoded data removed]",
      "text/plain": [
       "<Figure size 432x288 with 1 Axes>"
      ]
     },
     "metadata": {
      "needs_background": "light"
     },
     "output_type": "display_data"
    },
    {
     "name": "stdout",
     "output_type": "stream",
     "text": [
      "Accuracy: 0.9271\n",
      "Train Epoch: 39 [0/60000 (0%)]\tLoss: 0.258150\n",
      "Train Epoch: 39 [5760/60000 (10%)]\tLoss: 0.493113\n",
      "Train Epoch: 39 [11520/60000 (19%)]\tLoss: 0.259868\n",
      "Train Epoch: 39 [17280/60000 (29%)]\tLoss: 0.239817\n",
      "Train Epoch: 39 [23040/60000 (38%)]\tLoss: 0.252664\n",
      "Train Epoch: 39 [28800/60000 (48%)]\tLoss: 0.187234\n",
      "Train Epoch: 39 [34560/60000 (58%)]\tLoss: 0.333384\n",
      "Train Epoch: 39 [40320/60000 (67%)]\tLoss: 0.263308\n",
      "Train Epoch: 39 [46080/60000 (77%)]\tLoss: 0.313163\n",
      "Train Epoch: 39 [51840/60000 (86%)]\tLoss: 0.237507\n",
      "Train Epoch: 39 [57600/60000 (96%)]\tLoss: 0.099738\n",
      "\n",
      "Test set: Average loss: 0.0019, Accuracy: 9255/10000 (93%)\n",
      "\n"
     ]
    },
    {
     "data": {
      "image/png": "[encoded data removed]",
      "text/plain": [
       "<Figure size 432x288 with 1 Axes>"
      ]
     },
     "metadata": {
      "needs_background": "light"
     },
     "output_type": "display_data"
    },
    {
     "name": "stdout",
     "output_type": "stream",
     "text": [
      "Accuracy: 0.9255\n",
      "Train Epoch: 40 [0/60000 (0%)]\tLoss: 0.292100\n",
      "Train Epoch: 40 [5760/60000 (10%)]\tLoss: 0.214704\n",
      "Train Epoch: 40 [11520/60000 (19%)]\tLoss: 0.174655\n",
      "Train Epoch: 40 [17280/60000 (29%)]\tLoss: 0.221273\n",
      "Train Epoch: 40 [23040/60000 (38%)]\tLoss: 0.452305\n",
      "Train Epoch: 40 [28800/60000 (48%)]\tLoss: 0.282185\n",
      "Train Epoch: 40 [34560/60000 (58%)]\tLoss: 0.212022\n",
      "Train Epoch: 40 [40320/60000 (67%)]\tLoss: 0.196915\n",
      "Train Epoch: 40 [46080/60000 (77%)]\tLoss: 0.212268\n",
      "Train Epoch: 40 [51840/60000 (86%)]\tLoss: 0.272989\n",
      "Train Epoch: 40 [57600/60000 (96%)]\tLoss: 0.177460\n",
      "\n",
      "Test set: Average loss: 0.0022, Accuracy: 9166/10000 (92%)\n",
      "\n"
     ]
    },
    {
     "data": {
      "image/png": "[encoded data removed]",
      "text/plain": [
       "<Figure size 432x288 with 1 Axes>"
      ]
     },
     "metadata": {
      "needs_background": "light"
     },
     "output_type": "display_data"
    },
    {
     "name": "stdout",
     "output_type": "stream",
     "text": [
      "Accuracy: 0.9166\n",
      "Train Epoch: 41 [0/60000 (0%)]\tLoss: 0.257175\n",
      "Train Epoch: 41 [5760/60000 (10%)]\tLoss: 0.421490\n",
      "Train Epoch: 41 [11520/60000 (19%)]\tLoss: 0.249042\n",
      "Train Epoch: 41 [17280/60000 (29%)]\tLoss: 0.327211\n",
      "Train Epoch: 41 [23040/60000 (38%)]\tLoss: 0.135779\n",
      "Train Epoch: 41 [28800/60000 (48%)]\tLoss: 0.212425\n",
      "Train Epoch: 41 [34560/60000 (58%)]\tLoss: 0.536207\n",
      "Train Epoch: 41 [40320/60000 (67%)]\tLoss: 0.191407\n",
      "Train Epoch: 41 [46080/60000 (77%)]\tLoss: 0.275165\n",
      "Train Epoch: 41 [51840/60000 (86%)]\tLoss: 0.162662\n",
      "Train Epoch: 41 [57600/60000 (96%)]\tLoss: 0.236388\n",
      "\n",
      "Test set: Average loss: 0.0031, Accuracy: 8818/10000 (88%)\n",
      "\n"
     ]
    },
    {
     "data": {
      "image/png": "[encoded data removed]",
      "text/plain": [
       "<Figure size 432x288 with 1 Axes>"
      ]
     },
     "metadata": {
      "needs_background": "light"
     },
     "output_type": "display_data"
    },
    {
     "name": "stdout",
     "output_type": "stream",
     "text": [
      "Accuracy: 0.8818\n",
      "Train Epoch: 42 [0/60000 (0%)]\tLoss: 0.429781\n",
      "Train Epoch: 42 [5760/60000 (10%)]\tLoss: 0.178295\n",
      "Train Epoch: 42 [11520/60000 (19%)]\tLoss: 0.142584\n",
      "Train Epoch: 42 [17280/60000 (29%)]\tLoss: 0.191692\n",
      "Train Epoch: 42 [23040/60000 (38%)]\tLoss: 0.432756\n",
      "Train Epoch: 42 [28800/60000 (48%)]\tLoss: 0.292484\n",
      "Train Epoch: 42 [34560/60000 (58%)]\tLoss: 0.181159\n",
      "Train Epoch: 42 [40320/60000 (67%)]\tLoss: 0.115779\n",
      "Train Epoch: 42 [46080/60000 (77%)]\tLoss: 0.149186\n",
      "Train Epoch: 42 [51840/60000 (86%)]\tLoss: 0.410801\n",
      "Train Epoch: 42 [57600/60000 (96%)]\tLoss: 0.360976\n",
      "\n",
      "Test set: Average loss: 0.0022, Accuracy: 9135/10000 (91%)\n",
      "\n"
     ]
    },
    {
     "data": {
      "image/png": "[encoded data removed]",
      "text/plain": [
       "<Figure size 432x288 with 1 Axes>"
      ]
     },
     "metadata": {
      "needs_background": "light"
     },
     "output_type": "display_data"
    },
    {
     "name": "stdout",
     "output_type": "stream",
     "text": [
      "Accuracy: 0.9135\n",
      "Train Epoch: 43 [0/60000 (0%)]\tLoss: 0.188826\n",
      "Train Epoch: 43 [5760/60000 (10%)]\tLoss: 0.252929\n",
      "Train Epoch: 43 [11520/60000 (19%)]\tLoss: 0.266516\n",
      "Train Epoch: 43 [17280/60000 (29%)]\tLoss: 0.272405\n",
      "Train Epoch: 43 [23040/60000 (38%)]\tLoss: 0.287843\n",
      "Train Epoch: 43 [28800/60000 (48%)]\tLoss: 0.285706\n",
      "Train Epoch: 43 [34560/60000 (58%)]\tLoss: 0.244550\n",
      "Train Epoch: 43 [40320/60000 (67%)]\tLoss: 0.229563\n",
      "Train Epoch: 43 [46080/60000 (77%)]\tLoss: 0.505649\n",
      "Train Epoch: 43 [51840/60000 (86%)]\tLoss: 0.180406\n",
      "Train Epoch: 43 [57600/60000 (96%)]\tLoss: 0.348799\n",
      "\n",
      "Test set: Average loss: 0.0019, Accuracy: 9275/10000 (93%)\n",
      "\n"
     ]
    },
    {
     "data": {
      "image/png": "[encoded data removed]",
      "text/plain": [
       "<Figure size 432x288 with 1 Axes>"
      ]
     },
     "metadata": {
      "needs_background": "light"
     },
     "output_type": "display_data"
    },
    {
     "name": "stdout",
     "output_type": "stream",
     "text": [
      "Accuracy: 0.9275\n",
      "Train Epoch: 44 [0/60000 (0%)]\tLoss: 0.328511\n",
      "Train Epoch: 44 [5760/60000 (10%)]\tLoss: 0.324271\n",
      "Train Epoch: 44 [11520/60000 (19%)]\tLoss: 0.200569\n",
      "Train Epoch: 44 [17280/60000 (29%)]\tLoss: 0.187238\n",
      "Train Epoch: 44 [23040/60000 (38%)]\tLoss: 0.233332\n",
      "Train Epoch: 44 [28800/60000 (48%)]\tLoss: 0.289379\n",
      "Train Epoch: 44 [34560/60000 (58%)]\tLoss: 0.174628\n",
      "Train Epoch: 44 [40320/60000 (67%)]\tLoss: 0.255898\n",
      "Train Epoch: 44 [46080/60000 (77%)]\tLoss: 0.270646\n",
      "Train Epoch: 44 [51840/60000 (86%)]\tLoss: 0.602482\n",
      "Train Epoch: 44 [57600/60000 (96%)]\tLoss: 0.241706\n",
      "\n",
      "Test set: Average loss: 0.0021, Accuracy: 9206/10000 (92%)\n",
      "\n"
     ]
    },
    {
     "data": {
      "image/png": "[encoded data removed]",
      "text/plain": [
       "<Figure size 432x288 with 1 Axes>"
      ]
     },
     "metadata": {
      "needs_background": "light"
     },
     "output_type": "display_data"
    },
    {
     "name": "stdout",
     "output_type": "stream",
     "text": [
      "Accuracy: 0.9206\n",
      "Train Epoch: 45 [0/60000 (0%)]\tLoss: 0.215403\n",
      "Train Epoch: 45 [5760/60000 (10%)]\tLoss: 0.208736\n",
      "Train Epoch: 45 [11520/60000 (19%)]\tLoss: 0.330738\n",
      "Train Epoch: 45 [17280/60000 (29%)]\tLoss: 0.197448\n",
      "Train Epoch: 45 [23040/60000 (38%)]\tLoss: 0.245518\n",
      "Train Epoch: 45 [28800/60000 (48%)]\tLoss: 0.151815\n",
      "Train Epoch: 45 [34560/60000 (58%)]\tLoss: 0.174941\n",
      "Train Epoch: 45 [40320/60000 (67%)]\tLoss: 0.223688\n",
      "Train Epoch: 45 [46080/60000 (77%)]\tLoss: 0.391954\n",
      "Train Epoch: 45 [51840/60000 (86%)]\tLoss: 0.156796\n",
      "Train Epoch: 45 [57600/60000 (96%)]\tLoss: 0.161643\n",
      "\n",
      "Test set: Average loss: 0.0020, Accuracy: 9259/10000 (93%)\n",
      "\n"
     ]
    },
    {
     "data": {
      "image/png": "[encoded data removed]",
      "text/plain": [
       "<Figure size 432x288 with 1 Axes>"
      ]
     },
     "metadata": {
      "needs_background": "light"
     },
     "output_type": "display_data"
    },
    {
     "name": "stdout",
     "output_type": "stream",
     "text": [
      "Accuracy: 0.9259\n",
      "Train Epoch: 46 [0/60000 (0%)]\tLoss: 0.178037\n",
      "Train Epoch: 46 [5760/60000 (10%)]\tLoss: 0.186165\n",
      "Train Epoch: 46 [11520/60000 (19%)]\tLoss: 0.178155\n",
      "Train Epoch: 46 [17280/60000 (29%)]\tLoss: 0.199287\n",
      "Train Epoch: 46 [23040/60000 (38%)]\tLoss: 0.195604\n",
      "Train Epoch: 46 [28800/60000 (48%)]\tLoss: 0.172418\n",
      "Train Epoch: 46 [34560/60000 (58%)]\tLoss: 0.275804\n",
      "Train Epoch: 46 [40320/60000 (67%)]\tLoss: 0.259711\n",
      "Train Epoch: 46 [46080/60000 (77%)]\tLoss: 0.237444\n",
      "Train Epoch: 46 [51840/60000 (86%)]\tLoss: 0.199491\n",
      "Train Epoch: 46 [57600/60000 (96%)]\tLoss: 0.266356\n",
      "\n",
      "Test set: Average loss: 0.0019, Accuracy: 9311/10000 (93%)\n",
      "\n"
     ]
    },
    {
     "data": {
      "image/png": "[encoded data removed]",
      "text/plain": [
       "<Figure size 432x288 with 1 Axes>"
      ]
     },
     "metadata": {
      "needs_background": "light"
     },
     "output_type": "display_data"
    },
    {
     "name": "stdout",
     "output_type": "stream",
     "text": [
      "Accuracy: 0.9311\n",
      "Train Epoch: 47 [0/60000 (0%)]\tLoss: 0.176838\n",
      "Train Epoch: 47 [5760/60000 (10%)]\tLoss: 0.169144\n",
      "Train Epoch: 47 [11520/60000 (19%)]\tLoss: 0.143199\n",
      "Train Epoch: 47 [17280/60000 (29%)]\tLoss: 0.271835\n",
      "Train Epoch: 47 [23040/60000 (38%)]\tLoss: 0.273562\n",
      "Train Epoch: 47 [28800/60000 (48%)]\tLoss: 0.349857\n",
      "Train Epoch: 47 [34560/60000 (58%)]\tLoss: 0.327385\n",
      "Train Epoch: 47 [40320/60000 (67%)]\tLoss: 0.136890\n",
      "Train Epoch: 47 [46080/60000 (77%)]\tLoss: 0.287093\n",
      "Train Epoch: 47 [51840/60000 (86%)]\tLoss: 0.330416\n",
      "Train Epoch: 47 [57600/60000 (96%)]\tLoss: 0.246596\n",
      "\n",
      "Test set: Average loss: 0.0019, Accuracy: 9271/10000 (93%)\n",
      "\n"
     ]
    },
    {
     "data": {
      "image/png": "[encoded data removed]",
      "text/plain": [
       "<Figure size 432x288 with 1 Axes>"
      ]
     },
     "metadata": {
      "needs_background": "light"
     },
     "output_type": "display_data"
    },
    {
     "name": "stdout",
     "output_type": "stream",
     "text": [
      "Accuracy: 0.9271\n",
      "Train Epoch: 48 [0/60000 (0%)]\tLoss: 0.184405\n",
      "Train Epoch: 48 [5760/60000 (10%)]\tLoss: 0.119305\n",
      "Train Epoch: 48 [11520/60000 (19%)]\tLoss: 0.407183\n",
      "Train Epoch: 48 [17280/60000 (29%)]\tLoss: 0.302179\n",
      "Train Epoch: 48 [23040/60000 (38%)]\tLoss: 0.206622\n",
      "Train Epoch: 48 [28800/60000 (48%)]\tLoss: 0.158030\n",
      "Train Epoch: 48 [34560/60000 (58%)]\tLoss: 0.220100\n",
      "Train Epoch: 48 [40320/60000 (67%)]\tLoss: 0.242439\n",
      "Train Epoch: 48 [46080/60000 (77%)]\tLoss: 0.280111\n",
      "Train Epoch: 48 [51840/60000 (86%)]\tLoss: 0.225431\n",
      "Train Epoch: 48 [57600/60000 (96%)]\tLoss: 0.177383\n",
      "\n",
      "Test set: Average loss: 0.0018, Accuracy: 9279/10000 (93%)\n",
      "\n"
     ]
    },
    {
     "data": {
      "image/png": "[encoded data removed]",
      "text/plain": [
       "<Figure size 432x288 with 1 Axes>"
      ]
     },
     "metadata": {
      "needs_background": "light"
     },
     "output_type": "display_data"
    },
    {
     "name": "stdout",
     "output_type": "stream",
     "text": [
      "Accuracy: 0.9279\n",
      "Train Epoch: 49 [0/60000 (0%)]\tLoss: 0.155639\n",
      "Train Epoch: 49 [5760/60000 (10%)]\tLoss: 0.289856\n",
      "Train Epoch: 49 [11520/60000 (19%)]\tLoss: 0.259465\n",
      "Train Epoch: 49 [17280/60000 (29%)]\tLoss: 0.256428\n",
      "Train Epoch: 49 [23040/60000 (38%)]\tLoss: 0.279728\n",
      "Train Epoch: 49 [28800/60000 (48%)]\tLoss: 0.190716\n",
      "Train Epoch: 49 [34560/60000 (58%)]\tLoss: 0.302845\n",
      "Train Epoch: 49 [40320/60000 (67%)]\tLoss: 0.385507\n",
      "Train Epoch: 49 [46080/60000 (77%)]\tLoss: 0.281907\n",
      "Train Epoch: 49 [51840/60000 (86%)]\tLoss: 0.135769\n",
      "Train Epoch: 49 [57600/60000 (96%)]\tLoss: 0.276130\n",
      "\n",
      "Test set: Average loss: 0.0019, Accuracy: 9319/10000 (93%)\n",
      "\n"
     ]
    },
    {
     "data": {
      "image/png": "[encoded data removed]",
      "text/plain": [
       "<Figure size 432x288 with 1 Axes>"
      ]
     },
     "metadata": {
      "needs_background": "light"
     },
     "output_type": "display_data"
    },
    {
     "name": "stdout",
     "output_type": "stream",
     "text": [
      "Accuracy: 0.9319\n",
      "Train Epoch: 50 [0/60000 (0%)]\tLoss: 0.225158\n",
      "Train Epoch: 50 [5760/60000 (10%)]\tLoss: 0.188566\n",
      "Train Epoch: 50 [11520/60000 (19%)]\tLoss: 0.271318\n",
      "Train Epoch: 50 [17280/60000 (29%)]\tLoss: 0.323468\n",
      "Train Epoch: 50 [23040/60000 (38%)]\tLoss: 0.243027\n",
      "Train Epoch: 50 [28800/60000 (48%)]\tLoss: 0.159753\n",
      "Train Epoch: 50 [34560/60000 (58%)]\tLoss: 0.235595\n",
      "Train Epoch: 50 [40320/60000 (67%)]\tLoss: 0.200865\n",
      "Train Epoch: 50 [46080/60000 (77%)]\tLoss: 0.294922\n",
      "Train Epoch: 50 [51840/60000 (86%)]\tLoss: 0.177298\n",
      "Train Epoch: 50 [57600/60000 (96%)]\tLoss: 0.261689\n",
      "\n",
      "Test set: Average loss: 0.0020, Accuracy: 9254/10000 (93%)\n",
      "\n"
     ]
    },
    {
     "data": {
      "image/png": "[encoded data removed]",
      "text/plain": [
       "<Figure size 432x288 with 1 Axes>"
      ]
     },
     "metadata": {
      "needs_background": "light"
     },
     "output_type": "display_data"
    },
    {
     "name": "stdout",
     "output_type": "stream",
     "text": [
      "Accuracy: 0.9254\n",
      "Train Epoch: 51 [0/60000 (0%)]\tLoss: 0.133174\n",
      "Train Epoch: 51 [5760/60000 (10%)]\tLoss: 0.184712\n",
      "Train Epoch: 51 [11520/60000 (19%)]\tLoss: 0.254753\n",
      "Train Epoch: 51 [17280/60000 (29%)]\tLoss: 0.243868\n",
      "Train Epoch: 51 [23040/60000 (38%)]\tLoss: 0.266964\n",
      "Train Epoch: 51 [28800/60000 (48%)]\tLoss: 0.120900\n",
      "Train Epoch: 51 [34560/60000 (58%)]\tLoss: 0.291340\n",
      "Train Epoch: 51 [40320/60000 (67%)]\tLoss: 0.216591\n",
      "Train Epoch: 51 [46080/60000 (77%)]\tLoss: 0.323770\n",
      "Train Epoch: 51 [51840/60000 (86%)]\tLoss: 0.282080\n",
      "Train Epoch: 51 [57600/60000 (96%)]\tLoss: 0.235225\n",
      "\n",
      "Test set: Average loss: 0.0019, Accuracy: 9281/10000 (93%)\n",
      "\n"
     ]
    },
    {
     "data": {
      "image/png": "[encoded data removed]",
      "text/plain": [
       "<Figure size 432x288 with 1 Axes>"
      ]
     },
     "metadata": {
      "needs_background": "light"
     },
     "output_type": "display_data"
    },
    {
     "name": "stdout",
     "output_type": "stream",
     "text": [
      "Accuracy: 0.9281\n",
      "Train Epoch: 52 [0/60000 (0%)]\tLoss: 0.210043\n",
      "Train Epoch: 52 [5760/60000 (10%)]\tLoss: 0.216968\n",
      "Train Epoch: 52 [11520/60000 (19%)]\tLoss: 0.250214\n",
      "Train Epoch: 52 [17280/60000 (29%)]\tLoss: 0.218431\n",
      "Train Epoch: 52 [23040/60000 (38%)]\tLoss: 0.139870\n",
      "Train Epoch: 52 [28800/60000 (48%)]\tLoss: 0.119746\n",
      "Train Epoch: 52 [34560/60000 (58%)]\tLoss: 0.309424\n",
      "Train Epoch: 52 [40320/60000 (67%)]\tLoss: 0.200312\n",
      "Train Epoch: 52 [46080/60000 (77%)]\tLoss: 0.188060\n",
      "Train Epoch: 52 [51840/60000 (86%)]\tLoss: 0.195394\n",
      "Train Epoch: 52 [57600/60000 (96%)]\tLoss: 0.203636\n",
      "\n",
      "Test set: Average loss: 0.0017, Accuracy: 9345/10000 (93%)\n",
      "\n"
     ]
    },
    {
     "data": {
      "image/png": "[encoded data removed]",
      "text/plain": [
       "<Figure size 432x288 with 1 Axes>"
      ]
     },
     "metadata": {
      "needs_background": "light"
     },
     "output_type": "display_data"
    },
    {
     "name": "stdout",
     "output_type": "stream",
     "text": [
      "Accuracy: 0.9345\n",
      "Train Epoch: 53 [0/60000 (0%)]\tLoss: 0.261590\n",
      "Train Epoch: 53 [5760/60000 (10%)]\tLoss: 0.419515\n",
      "Train Epoch: 53 [11520/60000 (19%)]\tLoss: 0.160970\n",
      "Train Epoch: 53 [17280/60000 (29%)]\tLoss: 0.233917\n",
      "Train Epoch: 53 [23040/60000 (38%)]\tLoss: 0.144062\n",
      "Train Epoch: 53 [28800/60000 (48%)]\tLoss: 0.244326\n",
      "Train Epoch: 53 [34560/60000 (58%)]\tLoss: 0.278612\n",
      "Train Epoch: 53 [40320/60000 (67%)]\tLoss: 0.150252\n",
      "Train Epoch: 53 [46080/60000 (77%)]\tLoss: 0.157107\n",
      "Train Epoch: 53 [51840/60000 (86%)]\tLoss: 0.161898\n",
      "Train Epoch: 53 [57600/60000 (96%)]\tLoss: 0.277491\n",
      "\n",
      "Test set: Average loss: 0.0019, Accuracy: 9288/10000 (93%)\n",
      "\n"
     ]
    },
    {
     "data": {
      "image/png": "[encoded data removed]",
      "text/plain": [
       "<Figure size 432x288 with 1 Axes>"
      ]
     },
     "metadata": {
      "needs_background": "light"
     },
     "output_type": "display_data"
    },
    {
     "name": "stdout",
     "output_type": "stream",
     "text": [
      "Accuracy: 0.9288\n",
      "Train Epoch: 54 [0/60000 (0%)]\tLoss: 0.316990\n",
      "Train Epoch: 54 [5760/60000 (10%)]\tLoss: 0.265069\n",
      "Train Epoch: 54 [11520/60000 (19%)]\tLoss: 0.280148\n",
      "Train Epoch: 54 [17280/60000 (29%)]\tLoss: 0.513012\n",
      "Train Epoch: 54 [23040/60000 (38%)]\tLoss: 0.105269\n",
      "Train Epoch: 54 [28800/60000 (48%)]\tLoss: 0.202967\n",
      "Train Epoch: 54 [34560/60000 (58%)]\tLoss: 0.257699\n",
      "Train Epoch: 54 [40320/60000 (67%)]\tLoss: 0.343308\n",
      "Train Epoch: 54 [46080/60000 (77%)]\tLoss: 0.236674\n",
      "Train Epoch: 54 [51840/60000 (86%)]\tLoss: 0.246408\n",
      "Train Epoch: 54 [57600/60000 (96%)]\tLoss: 0.127656\n",
      "\n",
      "Test set: Average loss: 0.0020, Accuracy: 9224/10000 (92%)\n",
      "\n"
     ]
    },
    {
     "data": {
      "image/png": "[encoded data removed]",
      "text/plain": [
       "<Figure size 432x288 with 1 Axes>"
      ]
     },
     "metadata": {
      "needs_background": "light"
     },
     "output_type": "display_data"
    },
    {
     "name": "stdout",
     "output_type": "stream",
     "text": [
      "Accuracy: 0.9224\n",
      "Train Epoch: 55 [0/60000 (0%)]\tLoss: 0.186925\n",
      "Train Epoch: 55 [5760/60000 (10%)]\tLoss: 0.108743\n",
      "Train Epoch: 55 [11520/60000 (19%)]\tLoss: 0.212160\n",
      "Train Epoch: 55 [17280/60000 (29%)]\tLoss: 0.253233\n",
      "Train Epoch: 55 [23040/60000 (38%)]\tLoss: 0.208549\n",
      "Train Epoch: 55 [28800/60000 (48%)]\tLoss: 0.293257\n",
      "Train Epoch: 55 [34560/60000 (58%)]\tLoss: 0.229988\n",
      "Train Epoch: 55 [40320/60000 (67%)]\tLoss: 0.236737\n",
      "Train Epoch: 55 [46080/60000 (77%)]\tLoss: 0.234931\n",
      "Train Epoch: 55 [51840/60000 (86%)]\tLoss: 0.214720\n",
      "Train Epoch: 55 [57600/60000 (96%)]\tLoss: 0.277584\n",
      "\n",
      "Test set: Average loss: 0.0018, Accuracy: 9278/10000 (93%)\n",
      "\n"
     ]
    },
    {
     "data": {
      "image/png": "[encoded data removed]",
      "text/plain": [
       "<Figure size 432x288 with 1 Axes>"
      ]
     },
     "metadata": {
      "needs_background": "light"
     },
     "output_type": "display_data"
    },
    {
     "name": "stdout",
     "output_type": "stream",
     "text": [
      "Accuracy: 0.9278\n",
      "Train Epoch: 56 [0/60000 (0%)]\tLoss: 0.220314\n",
      "Train Epoch: 56 [5760/60000 (10%)]\tLoss: 0.363886\n",
      "Train Epoch: 56 [11520/60000 (19%)]\tLoss: 0.363207\n",
      "Train Epoch: 56 [17280/60000 (29%)]\tLoss: 0.248361\n",
      "Train Epoch: 56 [23040/60000 (38%)]\tLoss: 0.187816\n",
      "Train Epoch: 56 [28800/60000 (48%)]\tLoss: 0.318790\n",
      "Train Epoch: 56 [34560/60000 (58%)]\tLoss: 0.333187\n",
      "Train Epoch: 56 [40320/60000 (67%)]\tLoss: 0.258637\n",
      "Train Epoch: 56 [46080/60000 (77%)]\tLoss: 0.186931\n",
      "Train Epoch: 56 [51840/60000 (86%)]\tLoss: 0.197534\n",
      "Train Epoch: 56 [57600/60000 (96%)]\tLoss: 0.334403\n",
      "\n",
      "Test set: Average loss: 0.0019, Accuracy: 9297/10000 (93%)\n",
      "\n"
     ]
    },
    {
     "data": {
      "image/png": "[encoded data removed]",
      "text/plain": [
       "<Figure size 432x288 with 1 Axes>"
      ]
     },
     "metadata": {
      "needs_background": "light"
     },
     "output_type": "display_data"
    },
    {
     "name": "stdout",
     "output_type": "stream",
     "text": [
      "Accuracy: 0.9297\n",
      "Train Epoch: 57 [0/60000 (0%)]\tLoss: 0.109183\n",
      "Train Epoch: 57 [5760/60000 (10%)]\tLoss: 0.243465\n",
      "Train Epoch: 57 [11520/60000 (19%)]\tLoss: 0.218740\n",
      "Train Epoch: 57 [17280/60000 (29%)]\tLoss: 0.186202\n",
      "Train Epoch: 57 [23040/60000 (38%)]\tLoss: 0.139618\n",
      "Train Epoch: 57 [28800/60000 (48%)]\tLoss: 0.160983\n",
      "Train Epoch: 57 [34560/60000 (58%)]\tLoss: 0.306514\n",
      "Train Epoch: 57 [40320/60000 (67%)]\tLoss: 0.331192\n",
      "Train Epoch: 57 [46080/60000 (77%)]\tLoss: 0.263840\n",
      "Train Epoch: 57 [51840/60000 (86%)]\tLoss: 0.296175\n",
      "Train Epoch: 57 [57600/60000 (96%)]\tLoss: 0.256163\n",
      "\n",
      "Test set: Average loss: 0.0020, Accuracy: 9201/10000 (92%)\n",
      "\n"
     ]
    },
    {
     "data": {
      "image/png": "[encoded data removed]",
      "text/plain": [
       "<Figure size 432x288 with 1 Axes>"
      ]
     },
     "metadata": {
      "needs_background": "light"
     },
     "output_type": "display_data"
    },
    {
     "name": "stdout",
     "output_type": "stream",
     "text": [
      "Accuracy: 0.9201\n",
      "Train Epoch: 58 [0/60000 (0%)]\tLoss: 0.283104\n",
      "Train Epoch: 58 [5760/60000 (10%)]\tLoss: 0.204093\n",
      "Train Epoch: 58 [11520/60000 (19%)]\tLoss: 0.183098\n",
      "Train Epoch: 58 [17280/60000 (29%)]\tLoss: 0.205167\n",
      "Train Epoch: 58 [23040/60000 (38%)]\tLoss: 0.104938\n",
      "Train Epoch: 58 [28800/60000 (48%)]\tLoss: 0.160513\n",
      "Train Epoch: 58 [34560/60000 (58%)]\tLoss: 0.135219\n",
      "Train Epoch: 58 [40320/60000 (67%)]\tLoss: 0.162071\n",
      "Train Epoch: 58 [46080/60000 (77%)]\tLoss: 0.146655\n",
      "Train Epoch: 58 [51840/60000 (86%)]\tLoss: 0.329416\n",
      "Train Epoch: 58 [57600/60000 (96%)]\tLoss: 0.410170\n",
      "\n",
      "Test set: Average loss: 0.0018, Accuracy: 9323/10000 (93%)\n",
      "\n"
     ]
    },
    {
     "data": {
      "image/png": "[encoded data removed]",
      "text/plain": [
       "<Figure size 432x288 with 1 Axes>"
      ]
     },
     "metadata": {
      "needs_background": "light"
     },
     "output_type": "display_data"
    },
    {
     "name": "stdout",
     "output_type": "stream",
     "text": [
      "Accuracy: 0.9323\n",
      "Train Epoch: 59 [0/60000 (0%)]\tLoss: 0.239835\n",
      "Train Epoch: 59 [5760/60000 (10%)]\tLoss: 0.297451\n",
      "Train Epoch: 59 [11520/60000 (19%)]\tLoss: 0.301594\n",
      "Train Epoch: 59 [17280/60000 (29%)]\tLoss: 0.171047\n",
      "Train Epoch: 59 [23040/60000 (38%)]\tLoss: 0.282708\n",
      "Train Epoch: 59 [28800/60000 (48%)]\tLoss: 0.249642\n",
      "Train Epoch: 59 [34560/60000 (58%)]\tLoss: 0.240568\n",
      "Train Epoch: 59 [40320/60000 (67%)]\tLoss: 0.297698\n",
      "Train Epoch: 59 [46080/60000 (77%)]\tLoss: 0.134630\n",
      "Train Epoch: 59 [51840/60000 (86%)]\tLoss: 0.097868\n",
      "Train Epoch: 59 [57600/60000 (96%)]\tLoss: 0.271932\n",
      "\n",
      "Test set: Average loss: 0.0018, Accuracy: 9324/10000 (93%)\n",
      "\n"
     ]
    },
    {
     "data": {
      "image/png": "[encoded data removed]",
      "text/plain": [
       "<Figure size 432x288 with 1 Axes>"
      ]
     },
     "metadata": {
      "needs_background": "light"
     },
     "output_type": "display_data"
    },
    {
     "name": "stdout",
     "output_type": "stream",
     "text": [
      "Accuracy: 0.9324\n",
      "Train Epoch: 60 [0/60000 (0%)]\tLoss: 0.333077\n",
      "Train Epoch: 60 [5760/60000 (10%)]\tLoss: 0.230928\n",
      "Train Epoch: 60 [11520/60000 (19%)]\tLoss: 0.175117\n",
      "Train Epoch: 60 [17280/60000 (29%)]\tLoss: 0.135594\n",
      "Train Epoch: 60 [23040/60000 (38%)]\tLoss: 0.200999\n",
      "Train Epoch: 60 [28800/60000 (48%)]\tLoss: 0.164960\n",
      "Train Epoch: 60 [34560/60000 (58%)]\tLoss: 0.357286\n",
      "Train Epoch: 60 [40320/60000 (67%)]\tLoss: 0.260256\n",
      "Train Epoch: 60 [46080/60000 (77%)]\tLoss: 0.235614\n",
      "Train Epoch: 60 [51840/60000 (86%)]\tLoss: 0.307132\n",
      "Train Epoch: 60 [57600/60000 (96%)]\tLoss: 0.247407\n",
      "\n",
      "Test set: Average loss: 0.0017, Accuracy: 9361/10000 (94%)\n",
      "\n"
     ]
    },
    {
     "data": {
      "image/png": "[encoded data removed]",
      "text/plain": [
       "<Figure size 432x288 with 1 Axes>"
      ]
     },
     "metadata": {
      "needs_background": "light"
     },
     "output_type": "display_data"
    },
    {
     "name": "stdout",
     "output_type": "stream",
     "text": [
      "Accuracy: 0.9361\n",
      "Train Epoch: 61 [0/60000 (0%)]\tLoss: 0.196388\n",
      "Train Epoch: 61 [5760/60000 (10%)]\tLoss: 0.252192\n",
      "Train Epoch: 61 [11520/60000 (19%)]\tLoss: 0.146698\n",
      "Train Epoch: 61 [17280/60000 (29%)]\tLoss: 0.160700\n",
      "Train Epoch: 61 [23040/60000 (38%)]\tLoss: 0.125122\n",
      "Train Epoch: 61 [28800/60000 (48%)]\tLoss: 0.236032\n",
      "Train Epoch: 61 [34560/60000 (58%)]\tLoss: 0.517525\n",
      "Train Epoch: 61 [40320/60000 (67%)]\tLoss: 0.275788\n",
      "Train Epoch: 61 [46080/60000 (77%)]\tLoss: 0.241906\n",
      "Train Epoch: 61 [51840/60000 (86%)]\tLoss: 0.284871\n",
      "Train Epoch: 61 [57600/60000 (96%)]\tLoss: 0.151166\n",
      "\n",
      "Test set: Average loss: 0.0018, Accuracy: 9292/10000 (93%)\n",
      "\n"
     ]
    },
    {
     "data": {
      "image/png": "[encoded data removed]",
      "text/plain": [
       "<Figure size 432x288 with 1 Axes>"
      ]
     },
     "metadata": {
      "needs_background": "light"
     },
     "output_type": "display_data"
    },
    {
     "name": "stdout",
     "output_type": "stream",
     "text": [
      "Accuracy: 0.9292\n",
      "Train Epoch: 62 [0/60000 (0%)]\tLoss: 0.228750\n",
      "Train Epoch: 62 [5760/60000 (10%)]\tLoss: 0.237085\n",
      "Train Epoch: 62 [11520/60000 (19%)]\tLoss: 0.162802\n",
      "Train Epoch: 62 [17280/60000 (29%)]\tLoss: 0.255625\n",
      "Train Epoch: 62 [23040/60000 (38%)]\tLoss: 0.171970\n",
      "Train Epoch: 62 [28800/60000 (48%)]\tLoss: 0.132988\n",
      "Train Epoch: 62 [34560/60000 (58%)]\tLoss: 0.223989\n",
      "Train Epoch: 62 [40320/60000 (67%)]\tLoss: 0.239484\n",
      "Train Epoch: 62 [46080/60000 (77%)]\tLoss: 0.231734\n",
      "Train Epoch: 62 [51840/60000 (86%)]\tLoss: 0.224715\n",
      "Train Epoch: 62 [57600/60000 (96%)]\tLoss: 0.219654\n",
      "\n",
      "Test set: Average loss: 0.0018, Accuracy: 9346/10000 (93%)\n",
      "\n"
     ]
    },
    {
     "data": {
      "image/png": "[encoded data removed]",
      "text/plain": [
       "<Figure size 432x288 with 1 Axes>"
      ]
     },
     "metadata": {
      "needs_background": "light"
     },
     "output_type": "display_data"
    },
    {
     "name": "stdout",
     "output_type": "stream",
     "text": [
      "Accuracy: 0.9346\n",
      "Train Epoch: 63 [0/60000 (0%)]\tLoss: 0.132669\n",
      "Train Epoch: 63 [5760/60000 (10%)]\tLoss: 0.216729\n",
      "Train Epoch: 63 [11520/60000 (19%)]\tLoss: 0.197307\n",
      "Train Epoch: 63 [17280/60000 (29%)]\tLoss: 0.233566\n",
      "Train Epoch: 63 [23040/60000 (38%)]\tLoss: 0.282831\n",
      "Train Epoch: 63 [28800/60000 (48%)]\tLoss: 0.342628\n",
      "Train Epoch: 63 [34560/60000 (58%)]\tLoss: 0.234151\n",
      "Train Epoch: 63 [40320/60000 (67%)]\tLoss: 0.225733\n",
      "Train Epoch: 63 [46080/60000 (77%)]\tLoss: 0.223362\n",
      "Train Epoch: 63 [51840/60000 (86%)]\tLoss: 0.249666\n",
      "Train Epoch: 63 [57600/60000 (96%)]\tLoss: 0.166944\n",
      "\n",
      "Test set: Average loss: 0.0022, Accuracy: 9177/10000 (92%)\n",
      "\n"
     ]
    },
    {
     "data": {
      "image/png": "[encoded data removed]",
      "text/plain": [
       "<Figure size 432x288 with 1 Axes>"
      ]
     },
     "metadata": {
      "needs_background": "light"
     },
     "output_type": "display_data"
    },
    {
     "name": "stdout",
     "output_type": "stream",
     "text": [
      "Accuracy: 0.9177\n",
      "Train Epoch: 64 [0/60000 (0%)]\tLoss: 0.188821\n",
      "Train Epoch: 64 [5760/60000 (10%)]\tLoss: 0.387580\n",
      "Train Epoch: 64 [11520/60000 (19%)]\tLoss: 0.332354\n",
      "Train Epoch: 64 [17280/60000 (29%)]\tLoss: 0.297726\n",
      "Train Epoch: 64 [23040/60000 (38%)]\tLoss: 0.332865\n",
      "Train Epoch: 64 [28800/60000 (48%)]\tLoss: 0.247300\n",
      "Train Epoch: 64 [34560/60000 (58%)]\tLoss: 0.290118\n",
      "Train Epoch: 64 [40320/60000 (67%)]\tLoss: 0.344910\n",
      "Train Epoch: 64 [46080/60000 (77%)]\tLoss: 0.226173\n",
      "Train Epoch: 64 [51840/60000 (86%)]\tLoss: 0.188924\n",
      "Train Epoch: 64 [57600/60000 (96%)]\tLoss: 0.214643\n",
      "\n",
      "Test set: Average loss: 0.0018, Accuracy: 9329/10000 (93%)\n",
      "\n"
     ]
    },
    {
     "data": {
      "image/png": "[encoded data removed]",
      "text/plain": [
       "<Figure size 432x288 with 1 Axes>"
      ]
     },
     "metadata": {
      "needs_background": "light"
     },
     "output_type": "display_data"
    },
    {
     "name": "stdout",
     "output_type": "stream",
     "text": [
      "Accuracy: 0.9329\n",
      "Train Epoch: 65 [0/60000 (0%)]\tLoss: 0.149443\n",
      "Train Epoch: 65 [5760/60000 (10%)]\tLoss: 0.180504\n",
      "Train Epoch: 65 [11520/60000 (19%)]\tLoss: 0.232094\n",
      "Train Epoch: 65 [17280/60000 (29%)]\tLoss: 0.114120\n",
      "Train Epoch: 65 [23040/60000 (38%)]\tLoss: 0.148924\n",
      "Train Epoch: 65 [28800/60000 (48%)]\tLoss: 0.148406\n",
      "Train Epoch: 65 [34560/60000 (58%)]\tLoss: 0.221294\n",
      "Train Epoch: 65 [40320/60000 (67%)]\tLoss: 0.203089\n",
      "Train Epoch: 65 [46080/60000 (77%)]\tLoss: 0.302682\n",
      "Train Epoch: 65 [51840/60000 (86%)]\tLoss: 0.304688\n",
      "Train Epoch: 65 [57600/60000 (96%)]\tLoss: 0.261856\n",
      "\n",
      "Test set: Average loss: 0.0019, Accuracy: 9289/10000 (93%)\n",
      "\n"
     ]
    },
    {
     "data": {
      "image/png": "[encoded data removed]",
      "text/plain": [
       "<Figure size 432x288 with 1 Axes>"
      ]
     },
     "metadata": {
      "needs_background": "light"
     },
     "output_type": "display_data"
    },
    {
     "name": "stdout",
     "output_type": "stream",
     "text": [
      "Accuracy: 0.9289\n",
      "Train Epoch: 66 [0/60000 (0%)]\tLoss: 0.279032\n",
      "Train Epoch: 66 [5760/60000 (10%)]\tLoss: 0.358021\n",
      "Train Epoch: 66 [11520/60000 (19%)]\tLoss: 0.233524\n",
      "Train Epoch: 66 [17280/60000 (29%)]\tLoss: 0.224048\n",
      "Train Epoch: 66 [23040/60000 (38%)]\tLoss: 0.130363\n",
      "Train Epoch: 66 [28800/60000 (48%)]\tLoss: 0.322775\n",
      "Train Epoch: 66 [34560/60000 (58%)]\tLoss: 0.323451\n",
      "Train Epoch: 66 [40320/60000 (67%)]\tLoss: 0.167271\n",
      "Train Epoch: 66 [46080/60000 (77%)]\tLoss: 0.180035\n",
      "Train Epoch: 66 [51840/60000 (86%)]\tLoss: 0.377923\n",
      "Train Epoch: 66 [57600/60000 (96%)]\tLoss: 0.185875\n",
      "\n",
      "Test set: Average loss: 0.0022, Accuracy: 9120/10000 (91%)\n",
      "\n"
     ]
    },
    {
     "data": {
      "image/png": "[encoded data removed]",
      "text/plain": [
       "<Figure size 432x288 with 1 Axes>"
      ]
     },
     "metadata": {
      "needs_background": "light"
     },
     "output_type": "display_data"
    },
    {
     "name": "stdout",
     "output_type": "stream",
     "text": [
      "Accuracy: 0.912\n",
      "Train Epoch: 67 [0/60000 (0%)]\tLoss: 0.233316\n",
      "Train Epoch: 67 [5760/60000 (10%)]\tLoss: 0.421420\n",
      "Train Epoch: 67 [11520/60000 (19%)]\tLoss: 0.208255\n",
      "Train Epoch: 67 [17280/60000 (29%)]\tLoss: 0.180933\n",
      "Train Epoch: 67 [23040/60000 (38%)]\tLoss: 0.156570\n",
      "Train Epoch: 67 [28800/60000 (48%)]\tLoss: 0.218995\n",
      "Train Epoch: 67 [34560/60000 (58%)]\tLoss: 0.168504\n",
      "Train Epoch: 67 [40320/60000 (67%)]\tLoss: 0.189173\n",
      "Train Epoch: 67 [46080/60000 (77%)]\tLoss: 0.266529\n",
      "Train Epoch: 67 [51840/60000 (86%)]\tLoss: 0.163184\n",
      "Train Epoch: 67 [57600/60000 (96%)]\tLoss: 0.293131\n",
      "\n",
      "Test set: Average loss: 0.0018, Accuracy: 9322/10000 (93%)\n",
      "\n"
     ]
    },
    {
     "data": {
      "image/png": "[encoded data removed]",
      "text/plain": [
       "<Figure size 432x288 with 1 Axes>"
      ]
     },
     "metadata": {
      "needs_background": "light"
     },
     "output_type": "display_data"
    },
    {
     "name": "stdout",
     "output_type": "stream",
     "text": [
      "Accuracy: 0.9322\n",
      "Train Epoch: 68 [0/60000 (0%)]\tLoss: 0.318524\n",
      "Train Epoch: 68 [5760/60000 (10%)]\tLoss: 0.191374\n",
      "Train Epoch: 68 [11520/60000 (19%)]\tLoss: 0.184984\n",
      "Train Epoch: 68 [17280/60000 (29%)]\tLoss: 0.226202\n",
      "Train Epoch: 68 [23040/60000 (38%)]\tLoss: 0.297377\n",
      "Train Epoch: 68 [28800/60000 (48%)]\tLoss: 0.389952\n",
      "Train Epoch: 68 [34560/60000 (58%)]\tLoss: 0.276714\n",
      "Train Epoch: 68 [40320/60000 (67%)]\tLoss: 0.213034\n",
      "Train Epoch: 68 [46080/60000 (77%)]\tLoss: 0.153008\n",
      "Train Epoch: 68 [51840/60000 (86%)]\tLoss: 0.312020\n",
      "Train Epoch: 68 [57600/60000 (96%)]\tLoss: 0.344330\n",
      "\n",
      "Test set: Average loss: 0.0021, Accuracy: 9219/10000 (92%)\n",
      "\n"
     ]
    },
    {
     "data": {
      "image/png": "[encoded data removed]",
      "text/plain": [
       "<Figure size 432x288 with 1 Axes>"
      ]
     },
     "metadata": {
      "needs_background": "light"
     },
     "output_type": "display_data"
    },
    {
     "name": "stdout",
     "output_type": "stream",
     "text": [
      "Accuracy: 0.9219\n",
      "Train Epoch: 69 [0/60000 (0%)]\tLoss: 0.350664\n",
      "Train Epoch: 69 [5760/60000 (10%)]\tLoss: 0.157967\n",
      "Train Epoch: 69 [11520/60000 (19%)]\tLoss: 0.295855\n",
      "Train Epoch: 69 [17280/60000 (29%)]\tLoss: 0.240151\n",
      "Train Epoch: 69 [23040/60000 (38%)]\tLoss: 0.342811\n",
      "Train Epoch: 69 [28800/60000 (48%)]\tLoss: 0.215752\n",
      "Train Epoch: 69 [34560/60000 (58%)]\tLoss: 0.150881\n",
      "Train Epoch: 69 [40320/60000 (67%)]\tLoss: 0.555661\n",
      "Train Epoch: 69 [46080/60000 (77%)]\tLoss: 0.185238\n",
      "Train Epoch: 69 [51840/60000 (86%)]\tLoss: 0.333449\n",
      "Train Epoch: 69 [57600/60000 (96%)]\tLoss: 0.280065\n",
      "\n",
      "Test set: Average loss: 0.0018, Accuracy: 9273/10000 (93%)\n",
      "\n"
     ]
    },
    {
     "data": {
      "image/png": "[encoded data removed]",
      "text/plain": [
       "<Figure size 432x288 with 1 Axes>"
      ]
     },
     "metadata": {
      "needs_background": "light"
     },
     "output_type": "display_data"
    },
    {
     "name": "stdout",
     "output_type": "stream",
     "text": [
      "Accuracy: 0.9273\n",
      "Train Epoch: 70 [0/60000 (0%)]\tLoss: 0.123182\n",
      "Train Epoch: 70 [5760/60000 (10%)]\tLoss: 0.303059\n",
      "Train Epoch: 70 [11520/60000 (19%)]\tLoss: 0.141309\n",
      "Train Epoch: 70 [17280/60000 (29%)]\tLoss: 0.342397\n",
      "Train Epoch: 70 [23040/60000 (38%)]\tLoss: 0.387243\n",
      "Train Epoch: 70 [28800/60000 (48%)]\tLoss: 0.162361\n",
      "Train Epoch: 70 [34560/60000 (58%)]\tLoss: 0.264498\n",
      "Train Epoch: 70 [40320/60000 (67%)]\tLoss: 0.163254\n",
      "Train Epoch: 70 [46080/60000 (77%)]\tLoss: 0.309950\n",
      "Train Epoch: 70 [51840/60000 (86%)]\tLoss: 0.183975\n",
      "Train Epoch: 70 [57600/60000 (96%)]\tLoss: 0.195734\n",
      "\n",
      "Test set: Average loss: 0.0019, Accuracy: 9282/10000 (93%)\n",
      "\n"
     ]
    },
    {
     "data": {
      "image/png": "[encoded data removed]",
      "text/plain": [
       "<Figure size 432x288 with 1 Axes>"
      ]
     },
     "metadata": {
      "needs_background": "light"
     },
     "output_type": "display_data"
    },
    {
     "name": "stdout",
     "output_type": "stream",
     "text": [
      "Accuracy: 0.9282\n",
      "Train Epoch: 71 [0/60000 (0%)]\tLoss: 0.236956\n",
      "Train Epoch: 71 [5760/60000 (10%)]\tLoss: 0.117684\n",
      "Train Epoch: 71 [11520/60000 (19%)]\tLoss: 0.216238\n",
      "Train Epoch: 71 [17280/60000 (29%)]\tLoss: 0.164199\n",
      "Train Epoch: 71 [23040/60000 (38%)]\tLoss: 0.387086\n",
      "Train Epoch: 71 [28800/60000 (48%)]\tLoss: 0.381515\n",
      "Train Epoch: 71 [34560/60000 (58%)]\tLoss: 0.363912\n",
      "Train Epoch: 71 [40320/60000 (67%)]\tLoss: 0.268218\n",
      "Train Epoch: 71 [46080/60000 (77%)]\tLoss: 0.194377\n",
      "Train Epoch: 71 [51840/60000 (86%)]\tLoss: 0.381397\n",
      "Train Epoch: 71 [57600/60000 (96%)]\tLoss: 0.340548\n",
      "\n",
      "Test set: Average loss: 0.0017, Accuracy: 9339/10000 (93%)\n",
      "\n"
     ]
    },
    {
     "data": {
      "image/png": "[encoded data removed]",
      "text/plain": [
       "<Figure size 432x288 with 1 Axes>"
      ]
     },
     "metadata": {
      "needs_background": "light"
     },
     "output_type": "display_data"
    },
    {
     "name": "stdout",
     "output_type": "stream",
     "text": [
      "Accuracy: 0.9339\n",
      "Train Epoch: 72 [0/60000 (0%)]\tLoss: 0.121705\n",
      "Train Epoch: 72 [5760/60000 (10%)]\tLoss: 0.305407\n",
      "Train Epoch: 72 [11520/60000 (19%)]\tLoss: 0.169947\n",
      "Train Epoch: 72 [17280/60000 (29%)]\tLoss: 0.311354\n",
      "Train Epoch: 72 [23040/60000 (38%)]\tLoss: 0.220520\n",
      "Train Epoch: 72 [28800/60000 (48%)]\tLoss: 0.267968\n",
      "Train Epoch: 72 [34560/60000 (58%)]\tLoss: 0.309705\n",
      "Train Epoch: 72 [40320/60000 (67%)]\tLoss: 0.261994\n",
      "Train Epoch: 72 [46080/60000 (77%)]\tLoss: 0.291460\n",
      "Train Epoch: 72 [51840/60000 (86%)]\tLoss: 0.241721\n",
      "Train Epoch: 72 [57600/60000 (96%)]\tLoss: 0.180701\n",
      "\n",
      "Test set: Average loss: 0.0019, Accuracy: 9292/10000 (93%)\n",
      "\n"
     ]
    },
    {
     "data": {
      "image/png": "[encoded data removed]",
      "text/plain": [
       "<Figure size 432x288 with 1 Axes>"
      ]
     },
     "metadata": {
      "needs_background": "light"
     },
     "output_type": "display_data"
    },
    {
     "name": "stdout",
     "output_type": "stream",
     "text": [
      "Accuracy: 0.9292\n",
      "Train Epoch: 73 [0/60000 (0%)]\tLoss: 0.252495\n",
      "Train Epoch: 73 [5760/60000 (10%)]\tLoss: 0.306449\n",
      "Train Epoch: 73 [11520/60000 (19%)]\tLoss: 0.097694\n",
      "Train Epoch: 73 [17280/60000 (29%)]\tLoss: 0.237614\n",
      "Train Epoch: 73 [23040/60000 (38%)]\tLoss: 0.256664\n",
      "Train Epoch: 73 [28800/60000 (48%)]\tLoss: 0.317421\n",
      "Train Epoch: 73 [34560/60000 (58%)]\tLoss: 0.210210\n",
      "Train Epoch: 73 [40320/60000 (67%)]\tLoss: 0.219998\n",
      "Train Epoch: 73 [46080/60000 (77%)]\tLoss: 0.230925\n",
      "Train Epoch: 73 [51840/60000 (86%)]\tLoss: 0.346869\n",
      "Train Epoch: 73 [57600/60000 (96%)]\tLoss: 0.243781\n",
      "\n",
      "Test set: Average loss: 0.0017, Accuracy: 9356/10000 (94%)\n",
      "\n"
     ]
    },
    {
     "data": {
      "image/png": "[encoded data removed]",
      "text/plain": [
       "<Figure size 432x288 with 1 Axes>"
      ]
     },
     "metadata": {
      "needs_background": "light"
     },
     "output_type": "display_data"
    },
    {
     "name": "stdout",
     "output_type": "stream",
     "text": [
      "Accuracy: 0.9356\n",
      "Train Epoch: 74 [0/60000 (0%)]\tLoss: 0.191165\n",
      "Train Epoch: 74 [5760/60000 (10%)]\tLoss: 0.499165\n",
      "Train Epoch: 74 [11520/60000 (19%)]\tLoss: 0.182810\n",
      "Train Epoch: 74 [17280/60000 (29%)]\tLoss: 0.149092\n",
      "Train Epoch: 74 [23040/60000 (38%)]\tLoss: 0.250493\n",
      "Train Epoch: 74 [28800/60000 (48%)]\tLoss: 0.420637\n",
      "Train Epoch: 74 [34560/60000 (58%)]\tLoss: 0.299018\n",
      "Train Epoch: 74 [40320/60000 (67%)]\tLoss: 0.198805\n",
      "Train Epoch: 74 [46080/60000 (77%)]\tLoss: 0.184694\n",
      "Train Epoch: 74 [51840/60000 (86%)]\tLoss: 0.188861\n",
      "Train Epoch: 74 [57600/60000 (96%)]\tLoss: 0.264565\n",
      "\n",
      "Test set: Average loss: 0.0017, Accuracy: 9334/10000 (93%)\n",
      "\n"
     ]
    },
    {
     "data": {
      "image/png": "[encoded data removed]",
      "text/plain": [
       "<Figure size 432x288 with 1 Axes>"
      ]
     },
     "metadata": {
      "needs_background": "light"
     },
     "output_type": "display_data"
    },
    {
     "name": "stdout",
     "output_type": "stream",
     "text": [
      "Accuracy: 0.9334\n",
      "Train Epoch: 75 [0/60000 (0%)]\tLoss: 0.279154\n",
      "Train Epoch: 75 [5760/60000 (10%)]\tLoss: 0.215493\n",
      "Train Epoch: 75 [11520/60000 (19%)]\tLoss: 0.449718\n",
      "Train Epoch: 75 [17280/60000 (29%)]\tLoss: 0.108062\n",
      "Train Epoch: 75 [23040/60000 (38%)]\tLoss: 0.139031\n",
      "Train Epoch: 75 [28800/60000 (48%)]\tLoss: 0.377736\n",
      "Train Epoch: 75 [34560/60000 (58%)]\tLoss: 0.211285\n",
      "Train Epoch: 75 [40320/60000 (67%)]\tLoss: 0.223835\n",
      "Train Epoch: 75 [46080/60000 (77%)]\tLoss: 0.269404\n",
      "Train Epoch: 75 [51840/60000 (86%)]\tLoss: 0.273041\n",
      "Train Epoch: 75 [57600/60000 (96%)]\tLoss: 0.334828\n",
      "\n",
      "Test set: Average loss: 0.0019, Accuracy: 9264/10000 (93%)\n",
      "\n"
     ]
    },
    {
     "data": {
      "image/png": "[encoded data removed]",
      "text/plain": [
       "<Figure size 432x288 with 1 Axes>"
      ]
     },
     "metadata": {
      "needs_background": "light"
     },
     "output_type": "display_data"
    },
    {
     "name": "stdout",
     "output_type": "stream",
     "text": [
      "Accuracy: 0.9264\n",
      "Train Epoch: 76 [0/60000 (0%)]\tLoss: 0.320619\n",
      "Train Epoch: 76 [5760/60000 (10%)]\tLoss: 0.162887\n",
      "Train Epoch: 76 [11520/60000 (19%)]\tLoss: 0.230146\n",
      "Train Epoch: 76 [17280/60000 (29%)]\tLoss: 0.273794\n",
      "Train Epoch: 76 [23040/60000 (38%)]\tLoss: 0.172046\n",
      "Train Epoch: 76 [28800/60000 (48%)]\tLoss: 0.405721\n",
      "Train Epoch: 76 [34560/60000 (58%)]\tLoss: 0.373043\n",
      "Train Epoch: 76 [40320/60000 (67%)]\tLoss: 0.194492\n",
      "Train Epoch: 76 [46080/60000 (77%)]\tLoss: 0.170618\n",
      "Train Epoch: 76 [51840/60000 (86%)]\tLoss: 0.252033\n",
      "Train Epoch: 76 [57600/60000 (96%)]\tLoss: 0.304803\n",
      "\n",
      "Test set: Average loss: 0.0018, Accuracy: 9322/10000 (93%)\n",
      "\n"
     ]
    },
    {
     "data": {
      "image/png": "[encoded data removed]",
      "text/plain": [
       "<Figure size 432x288 with 1 Axes>"
      ]
     },
     "metadata": {
      "needs_background": "light"
     },
     "output_type": "display_data"
    },
    {
     "name": "stdout",
     "output_type": "stream",
     "text": [
      "Accuracy: 0.9322\n",
      "Train Epoch: 77 [0/60000 (0%)]\tLoss: 0.124062\n",
      "Train Epoch: 77 [5760/60000 (10%)]\tLoss: 0.262053\n",
      "Train Epoch: 77 [11520/60000 (19%)]\tLoss: 0.274370\n",
      "Train Epoch: 77 [17280/60000 (29%)]\tLoss: 0.264713\n",
      "Train Epoch: 77 [23040/60000 (38%)]\tLoss: 0.157464\n",
      "Train Epoch: 77 [28800/60000 (48%)]\tLoss: 0.254986\n",
      "Train Epoch: 77 [34560/60000 (58%)]\tLoss: 0.200609\n",
      "Train Epoch: 77 [40320/60000 (67%)]\tLoss: 0.263759\n",
      "Train Epoch: 77 [46080/60000 (77%)]\tLoss: 0.119661\n",
      "Train Epoch: 77 [51840/60000 (86%)]\tLoss: 0.207787\n",
      "Train Epoch: 77 [57600/60000 (96%)]\tLoss: 0.174641\n",
      "\n",
      "Test set: Average loss: 0.0017, Accuracy: 9365/10000 (94%)\n",
      "\n"
     ]
    },
    {
     "data": {
      "image/png": "[encoded data removed]",
      "text/plain": [
       "<Figure size 432x288 with 1 Axes>"
      ]
     },
     "metadata": {
      "needs_background": "light"
     },
     "output_type": "display_data"
    },
    {
     "name": "stdout",
     "output_type": "stream",
     "text": [
      "Accuracy: 0.9365\n",
      "Train Epoch: 78 [0/60000 (0%)]\tLoss: 0.104332\n",
      "Train Epoch: 78 [5760/60000 (10%)]\tLoss: 0.206913\n",
      "Train Epoch: 78 [11520/60000 (19%)]\tLoss: 0.173207\n",
      "Train Epoch: 78 [17280/60000 (29%)]\tLoss: 0.270867\n",
      "Train Epoch: 78 [23040/60000 (38%)]\tLoss: 0.246003\n",
      "Train Epoch: 78 [28800/60000 (48%)]\tLoss: 0.135362\n",
      "Train Epoch: 78 [34560/60000 (58%)]\tLoss: 0.330757\n",
      "Train Epoch: 78 [40320/60000 (67%)]\tLoss: 0.303941\n",
      "Train Epoch: 78 [46080/60000 (77%)]\tLoss: 0.233608\n",
      "Train Epoch: 78 [51840/60000 (86%)]\tLoss: 0.213712\n",
      "Train Epoch: 78 [57600/60000 (96%)]\tLoss: 0.261651\n",
      "\n",
      "Test set: Average loss: 0.0017, Accuracy: 9358/10000 (94%)\n",
      "\n"
     ]
    },
    {
     "data": {
      "image/png": "[encoded data removed]",
      "text/plain": [
       "<Figure size 432x288 with 1 Axes>"
      ]
     },
     "metadata": {
      "needs_background": "light"
     },
     "output_type": "display_data"
    },
    {
     "name": "stdout",
     "output_type": "stream",
     "text": [
      "Accuracy: 0.9358\n",
      "Train Epoch: 79 [0/60000 (0%)]\tLoss: 0.194317\n",
      "Train Epoch: 79 [5760/60000 (10%)]\tLoss: 0.176904\n",
      "Train Epoch: 79 [11520/60000 (19%)]\tLoss: 0.159433\n",
      "Train Epoch: 79 [17280/60000 (29%)]\tLoss: 0.250878\n",
      "Train Epoch: 79 [23040/60000 (38%)]\tLoss: 0.202363\n",
      "Train Epoch: 79 [28800/60000 (48%)]\tLoss: 0.365762\n",
      "Train Epoch: 79 [34560/60000 (58%)]\tLoss: 0.327607\n",
      "Train Epoch: 79 [40320/60000 (67%)]\tLoss: 0.265221\n",
      "Train Epoch: 79 [46080/60000 (77%)]\tLoss: 0.237379\n",
      "Train Epoch: 79 [51840/60000 (86%)]\tLoss: 0.224271\n",
      "Train Epoch: 79 [57600/60000 (96%)]\tLoss: 0.154548\n",
      "\n",
      "Test set: Average loss: 0.0019, Accuracy: 9259/10000 (93%)\n",
      "\n"
     ]
    },
    {
     "data": {
      "image/png": "[encoded data removed]",
      "text/plain": [
       "<Figure size 432x288 with 1 Axes>"
      ]
     },
     "metadata": {
      "needs_background": "light"
     },
     "output_type": "display_data"
    },
    {
     "name": "stdout",
     "output_type": "stream",
     "text": [
      "Accuracy: 0.9259\n",
      "Train Epoch: 80 [0/60000 (0%)]\tLoss: 0.311427\n",
      "Train Epoch: 80 [5760/60000 (10%)]\tLoss: 0.173355\n",
      "Train Epoch: 80 [11520/60000 (19%)]\tLoss: 0.273498\n",
      "Train Epoch: 80 [17280/60000 (29%)]\tLoss: 0.218060\n",
      "Train Epoch: 80 [23040/60000 (38%)]\tLoss: 0.223822\n",
      "Train Epoch: 80 [28800/60000 (48%)]\tLoss: 0.154666\n",
      "Train Epoch: 80 [34560/60000 (58%)]\tLoss: 0.177754\n",
      "Train Epoch: 80 [40320/60000 (67%)]\tLoss: 0.437879\n",
      "Train Epoch: 80 [46080/60000 (77%)]\tLoss: 0.299591\n",
      "Train Epoch: 80 [51840/60000 (86%)]\tLoss: 0.175466\n",
      "Train Epoch: 80 [57600/60000 (96%)]\tLoss: 0.129903\n",
      "\n",
      "Test set: Average loss: 0.0018, Accuracy: 9325/10000 (93%)\n",
      "\n"
     ]
    },
    {
     "data": {
      "image/png": "[encoded data removed]",
      "text/plain": [
       "<Figure size 432x288 with 1 Axes>"
      ]
     },
     "metadata": {
      "needs_background": "light"
     },
     "output_type": "display_data"
    },
    {
     "name": "stdout",
     "output_type": "stream",
     "text": [
      "Accuracy: 0.9325\n",
      "Train Epoch: 81 [0/60000 (0%)]\tLoss: 0.167187\n",
      "Train Epoch: 81 [5760/60000 (10%)]\tLoss: 0.196738\n",
      "Train Epoch: 81 [11520/60000 (19%)]\tLoss: 0.224118\n",
      "Train Epoch: 81 [17280/60000 (29%)]\tLoss: 0.334326\n",
      "Train Epoch: 81 [23040/60000 (38%)]\tLoss: 0.137787\n",
      "Train Epoch: 81 [28800/60000 (48%)]\tLoss: 0.257615\n",
      "Train Epoch: 81 [34560/60000 (58%)]\tLoss: 0.289933\n",
      "Train Epoch: 81 [40320/60000 (67%)]\tLoss: 0.267603\n",
      "Train Epoch: 81 [46080/60000 (77%)]\tLoss: 0.257567\n",
      "Train Epoch: 81 [51840/60000 (86%)]\tLoss: 0.223480\n",
      "Train Epoch: 81 [57600/60000 (96%)]\tLoss: 0.187731\n",
      "\n",
      "Test set: Average loss: 0.0017, Accuracy: 9349/10000 (93%)\n",
      "\n"
     ]
    },
    {
     "data": {
      "image/png": "[encoded data removed]",
      "text/plain": [
       "<Figure size 432x288 with 1 Axes>"
      ]
     },
     "metadata": {
      "needs_background": "light"
     },
     "output_type": "display_data"
    },
    {
     "name": "stdout",
     "output_type": "stream",
     "text": [
      "Accuracy: 0.9349\n",
      "Train Epoch: 82 [0/60000 (0%)]\tLoss: 0.182345\n",
      "Train Epoch: 82 [5760/60000 (10%)]\tLoss: 0.462372\n",
      "Train Epoch: 82 [11520/60000 (19%)]\tLoss: 0.180081\n",
      "Train Epoch: 82 [17280/60000 (29%)]\tLoss: 0.165261\n",
      "Train Epoch: 82 [23040/60000 (38%)]\tLoss: 0.193808\n",
      "Train Epoch: 82 [28800/60000 (48%)]\tLoss: 0.336658\n",
      "Train Epoch: 82 [34560/60000 (58%)]\tLoss: 0.292264\n",
      "Train Epoch: 82 [40320/60000 (67%)]\tLoss: 0.143670\n",
      "Train Epoch: 82 [46080/60000 (77%)]\tLoss: 0.278247\n",
      "Train Epoch: 82 [51840/60000 (86%)]\tLoss: 0.174025\n",
      "Train Epoch: 82 [57600/60000 (96%)]\tLoss: 0.232896\n",
      "\n",
      "Test set: Average loss: 0.0020, Accuracy: 9231/10000 (92%)\n",
      "\n"
     ]
    },
    {
     "data": {
      "image/png": "[encoded data removed]",
      "text/plain": [
       "<Figure size 432x288 with 1 Axes>"
      ]
     },
     "metadata": {
      "needs_background": "light"
     },
     "output_type": "display_data"
    },
    {
     "name": "stdout",
     "output_type": "stream",
     "text": [
      "Accuracy: 0.9231\n",
      "Train Epoch: 83 [0/60000 (0%)]\tLoss: 0.212444\n",
      "Train Epoch: 83 [5760/60000 (10%)]\tLoss: 0.289820\n",
      "Train Epoch: 83 [11520/60000 (19%)]\tLoss: 0.175357\n",
      "Train Epoch: 83 [17280/60000 (29%)]\tLoss: 0.256386\n",
      "Train Epoch: 83 [23040/60000 (38%)]\tLoss: 0.188708\n",
      "Train Epoch: 83 [28800/60000 (48%)]\tLoss: 0.215606\n",
      "Train Epoch: 83 [34560/60000 (58%)]\tLoss: 0.129847\n",
      "Train Epoch: 83 [40320/60000 (67%)]\tLoss: 0.317105\n",
      "Train Epoch: 83 [46080/60000 (77%)]\tLoss: 0.250757\n",
      "Train Epoch: 83 [51840/60000 (86%)]\tLoss: 0.260818\n",
      "Train Epoch: 83 [57600/60000 (96%)]\tLoss: 0.354125\n",
      "\n",
      "Test set: Average loss: 0.0017, Accuracy: 9319/10000 (93%)\n",
      "\n"
     ]
    },
    {
     "data": {
      "image/png": "[encoded data removed]",
      "text/plain": [
       "<Figure size 432x288 with 1 Axes>"
      ]
     },
     "metadata": {
      "needs_background": "light"
     },
     "output_type": "display_data"
    },
    {
     "name": "stdout",
     "output_type": "stream",
     "text": [
      "Accuracy: 0.9319\n",
      "Train Epoch: 84 [0/60000 (0%)]\tLoss: 0.194029\n",
      "Train Epoch: 84 [5760/60000 (10%)]\tLoss: 0.191062\n",
      "Train Epoch: 84 [11520/60000 (19%)]\tLoss: 0.275663\n",
      "Train Epoch: 84 [17280/60000 (29%)]\tLoss: 0.233083\n",
      "Train Epoch: 84 [23040/60000 (38%)]\tLoss: 0.130133\n",
      "Train Epoch: 84 [28800/60000 (48%)]\tLoss: 0.391295\n",
      "Train Epoch: 84 [34560/60000 (58%)]\tLoss: 0.234046\n",
      "Train Epoch: 84 [40320/60000 (67%)]\tLoss: 0.375487\n",
      "Train Epoch: 84 [46080/60000 (77%)]\tLoss: 0.276037\n",
      "Train Epoch: 84 [51840/60000 (86%)]\tLoss: 0.157403\n",
      "Train Epoch: 84 [57600/60000 (96%)]\tLoss: 0.142144\n",
      "\n",
      "Test set: Average loss: 0.0017, Accuracy: 9322/10000 (93%)\n",
      "\n"
     ]
    },
    {
     "data": {
      "image/png": "[encoded data removed]",
      "text/plain": [
       "<Figure size 432x288 with 1 Axes>"
      ]
     },
     "metadata": {
      "needs_background": "light"
     },
     "output_type": "display_data"
    },
    {
     "name": "stdout",
     "output_type": "stream",
     "text": [
      "Accuracy: 0.9322\n",
      "Train Epoch: 85 [0/60000 (0%)]\tLoss: 0.158390\n",
      "Train Epoch: 85 [5760/60000 (10%)]\tLoss: 0.289749\n",
      "Train Epoch: 85 [11520/60000 (19%)]\tLoss: 0.215248\n",
      "Train Epoch: 85 [17280/60000 (29%)]\tLoss: 0.225195\n",
      "Train Epoch: 85 [23040/60000 (38%)]\tLoss: 0.196672\n",
      "Train Epoch: 85 [28800/60000 (48%)]\tLoss: 0.212402\n",
      "Train Epoch: 85 [34560/60000 (58%)]\tLoss: 0.282604\n",
      "Train Epoch: 85 [40320/60000 (67%)]\tLoss: 0.109022\n",
      "Train Epoch: 85 [46080/60000 (77%)]\tLoss: 0.169422\n",
      "Train Epoch: 85 [51840/60000 (86%)]\tLoss: 0.184822\n",
      "Train Epoch: 85 [57600/60000 (96%)]\tLoss: 0.105547\n",
      "\n",
      "Test set: Average loss: 0.0018, Accuracy: 9251/10000 (93%)\n",
      "\n"
     ]
    },
    {
     "data": {
      "image/png": "[encoded data removed]",
      "text/plain": [
       "<Figure size 432x288 with 1 Axes>"
      ]
     },
     "metadata": {
      "needs_background": "light"
     },
     "output_type": "display_data"
    },
    {
     "name": "stdout",
     "output_type": "stream",
     "text": [
      "Accuracy: 0.9251\n",
      "Train Epoch: 86 [0/60000 (0%)]\tLoss: 0.303280\n",
      "Train Epoch: 86 [5760/60000 (10%)]\tLoss: 0.221844\n",
      "Train Epoch: 86 [11520/60000 (19%)]\tLoss: 0.208876\n",
      "Train Epoch: 86 [17280/60000 (29%)]\tLoss: 0.226738\n",
      "Train Epoch: 86 [23040/60000 (38%)]\tLoss: 0.294413\n",
      "Train Epoch: 86 [28800/60000 (48%)]\tLoss: 0.118534\n",
      "Train Epoch: 86 [34560/60000 (58%)]\tLoss: 0.333223\n",
      "Train Epoch: 86 [40320/60000 (67%)]\tLoss: 0.239663\n",
      "Train Epoch: 86 [46080/60000 (77%)]\tLoss: 0.213911\n",
      "Train Epoch: 86 [51840/60000 (86%)]\tLoss: 0.197392\n",
      "Train Epoch: 86 [57600/60000 (96%)]\tLoss: 0.174828\n",
      "\n",
      "Test set: Average loss: 0.0018, Accuracy: 9305/10000 (93%)\n",
      "\n"
     ]
    },
    {
     "data": {
      "image/png": "[encoded data removed]",
      "text/plain": [
       "<Figure size 432x288 with 1 Axes>"
      ]
     },
     "metadata": {
      "needs_background": "light"
     },
     "output_type": "display_data"
    },
    {
     "name": "stdout",
     "output_type": "stream",
     "text": [
      "Accuracy: 0.9305\n",
      "Train Epoch: 87 [0/60000 (0%)]\tLoss: 0.277874\n",
      "Train Epoch: 87 [5760/60000 (10%)]\tLoss: 0.293798\n",
      "Train Epoch: 87 [11520/60000 (19%)]\tLoss: 0.331697\n",
      "Train Epoch: 87 [17280/60000 (29%)]\tLoss: 0.301468\n",
      "Train Epoch: 87 [23040/60000 (38%)]\tLoss: 0.209398\n",
      "Train Epoch: 87 [28800/60000 (48%)]\tLoss: 0.213250\n",
      "Train Epoch: 87 [34560/60000 (58%)]\tLoss: 0.183968\n",
      "Train Epoch: 87 [40320/60000 (67%)]\tLoss: 0.245110\n",
      "Train Epoch: 87 [46080/60000 (77%)]\tLoss: 0.251462\n",
      "Train Epoch: 87 [51840/60000 (86%)]\tLoss: 0.213669\n",
      "Train Epoch: 87 [57600/60000 (96%)]\tLoss: 0.208542\n",
      "\n",
      "Test set: Average loss: 0.0016, Accuracy: 9358/10000 (94%)\n",
      "\n"
     ]
    },
    {
     "data": {
      "image/png": "[encoded data removed]",
      "text/plain": [
       "<Figure size 432x288 with 1 Axes>"
      ]
     },
     "metadata": {
      "needs_background": "light"
     },
     "output_type": "display_data"
    },
    {
     "name": "stdout",
     "output_type": "stream",
     "text": [
      "Accuracy: 0.9358\n",
      "Train Epoch: 88 [0/60000 (0%)]\tLoss: 0.167369\n",
      "Train Epoch: 88 [5760/60000 (10%)]\tLoss: 0.282365\n",
      "Train Epoch: 88 [11520/60000 (19%)]\tLoss: 0.228584\n",
      "Train Epoch: 88 [17280/60000 (29%)]\tLoss: 0.289502\n",
      "Train Epoch: 88 [23040/60000 (38%)]\tLoss: 0.273716\n",
      "Train Epoch: 88 [28800/60000 (48%)]\tLoss: 0.203709\n",
      "Train Epoch: 88 [34560/60000 (58%)]\tLoss: 0.331643\n",
      "Train Epoch: 88 [40320/60000 (67%)]\tLoss: 0.154083\n",
      "Train Epoch: 88 [46080/60000 (77%)]\tLoss: 0.297086\n",
      "Train Epoch: 88 [51840/60000 (86%)]\tLoss: 0.258212\n",
      "Train Epoch: 88 [57600/60000 (96%)]\tLoss: 0.122125\n",
      "\n",
      "Test set: Average loss: 0.0017, Accuracy: 9339/10000 (93%)\n",
      "\n"
     ]
    },
    {
     "data": {
      "image/png": "[encoded data removed]",
      "text/plain": [
       "<Figure size 432x288 with 1 Axes>"
      ]
     },
     "metadata": {
      "needs_background": "light"
     },
     "output_type": "display_data"
    },
    {
     "name": "stdout",
     "output_type": "stream",
     "text": [
      "Accuracy: 0.9339\n",
      "Train Epoch: 89 [0/60000 (0%)]\tLoss: 0.230272\n",
      "Train Epoch: 89 [5760/60000 (10%)]\tLoss: 0.173844\n",
      "Train Epoch: 89 [11520/60000 (19%)]\tLoss: 0.301710\n",
      "Train Epoch: 89 [17280/60000 (29%)]\tLoss: 0.150215\n",
      "Train Epoch: 89 [23040/60000 (38%)]\tLoss: 0.297922\n",
      "Train Epoch: 89 [28800/60000 (48%)]\tLoss: 0.171812\n",
      "Train Epoch: 89 [34560/60000 (58%)]\tLoss: 0.314018\n",
      "Train Epoch: 89 [40320/60000 (67%)]\tLoss: 0.118042\n",
      "Train Epoch: 89 [46080/60000 (77%)]\tLoss: 0.111265\n",
      "Train Epoch: 89 [51840/60000 (86%)]\tLoss: 0.280008\n",
      "Train Epoch: 89 [57600/60000 (96%)]\tLoss: 0.177191\n",
      "\n",
      "Test set: Average loss: 0.0017, Accuracy: 9315/10000 (93%)\n",
      "\n"
     ]
    },
    {
     "data": {
      "image/png": "[encoded data removed]",
      "text/plain": [
       "<Figure size 432x288 with 1 Axes>"
      ]
     },
     "metadata": {
      "needs_background": "light"
     },
     "output_type": "display_data"
    },
    {
     "name": "stdout",
     "output_type": "stream",
     "text": [
      "Accuracy: 0.9315\n",
      "Train Epoch: 90 [0/60000 (0%)]\tLoss: 0.164272\n",
      "Train Epoch: 90 [5760/60000 (10%)]\tLoss: 0.377420\n",
      "Train Epoch: 90 [11520/60000 (19%)]\tLoss: 0.286142\n",
      "Train Epoch: 90 [17280/60000 (29%)]\tLoss: 0.198827\n",
      "Train Epoch: 90 [23040/60000 (38%)]\tLoss: 0.233714\n",
      "Train Epoch: 90 [28800/60000 (48%)]\tLoss: 0.137266\n",
      "Train Epoch: 90 [34560/60000 (58%)]\tLoss: 0.209057\n",
      "Train Epoch: 90 [40320/60000 (67%)]\tLoss: 0.119866\n",
      "Train Epoch: 90 [46080/60000 (77%)]\tLoss: 0.389993\n",
      "Train Epoch: 90 [51840/60000 (86%)]\tLoss: 0.170369\n",
      "Train Epoch: 90 [57600/60000 (96%)]\tLoss: 0.248765\n",
      "\n",
      "Test set: Average loss: 0.0018, Accuracy: 9288/10000 (93%)\n",
      "\n"
     ]
    },
    {
     "data": {
      "image/png": "[encoded data removed]",
      "text/plain": [
       "<Figure size 432x288 with 1 Axes>"
      ]
     },
     "metadata": {
      "needs_background": "light"
     },
     "output_type": "display_data"
    },
    {
     "name": "stdout",
     "output_type": "stream",
     "text": [
      "Accuracy: 0.9288\n",
      "Train Epoch: 91 [0/60000 (0%)]\tLoss: 0.229352\n",
      "Train Epoch: 91 [5760/60000 (10%)]\tLoss: 0.228918\n",
      "Train Epoch: 91 [11520/60000 (19%)]\tLoss: 0.186554\n",
      "Train Epoch: 91 [17280/60000 (29%)]\tLoss: 0.161129\n",
      "Train Epoch: 91 [23040/60000 (38%)]\tLoss: 0.344757\n",
      "Train Epoch: 91 [28800/60000 (48%)]\tLoss: 0.251941\n",
      "Train Epoch: 91 [34560/60000 (58%)]\tLoss: 0.203551\n",
      "Train Epoch: 91 [40320/60000 (67%)]\tLoss: 0.313097\n",
      "Train Epoch: 91 [46080/60000 (77%)]\tLoss: 0.288348\n",
      "Train Epoch: 91 [51840/60000 (86%)]\tLoss: 0.276728\n",
      "Train Epoch: 91 [57600/60000 (96%)]\tLoss: 0.166322\n",
      "\n",
      "Test set: Average loss: 0.0017, Accuracy: 9321/10000 (93%)\n",
      "\n"
     ]
    },
    {
     "data": {
      "image/png": "[encoded data removed]",
      "text/plain": [
       "<Figure size 432x288 with 1 Axes>"
      ]
     },
     "metadata": {
      "needs_background": "light"
     },
     "output_type": "display_data"
    },
    {
     "name": "stdout",
     "output_type": "stream",
     "text": [
      "Accuracy: 0.9321\n",
      "Train Epoch: 92 [0/60000 (0%)]\tLoss: 0.174912\n",
      "Train Epoch: 92 [5760/60000 (10%)]\tLoss: 0.217995\n",
      "Train Epoch: 92 [11520/60000 (19%)]\tLoss: 0.226322\n",
      "Train Epoch: 92 [17280/60000 (29%)]\tLoss: 0.316711\n",
      "Train Epoch: 92 [23040/60000 (38%)]\tLoss: 0.138790\n",
      "Train Epoch: 92 [28800/60000 (48%)]\tLoss: 0.266011\n",
      "Train Epoch: 92 [34560/60000 (58%)]\tLoss: 0.200908\n",
      "Train Epoch: 92 [40320/60000 (67%)]\tLoss: 0.216621\n",
      "Train Epoch: 92 [46080/60000 (77%)]\tLoss: 0.376254\n",
      "Train Epoch: 92 [51840/60000 (86%)]\tLoss: 0.244275\n",
      "Train Epoch: 92 [57600/60000 (96%)]\tLoss: 0.230417\n",
      "\n",
      "Test set: Average loss: 0.0016, Accuracy: 9353/10000 (94%)\n",
      "\n"
     ]
    },
    {
     "data": {
      "image/png": "[encoded data removed]",
      "text/plain": [
       "<Figure size 432x288 with 1 Axes>"
      ]
     },
     "metadata": {
      "needs_background": "light"
     },
     "output_type": "display_data"
    },
    {
     "name": "stdout",
     "output_type": "stream",
     "text": [
      "Accuracy: 0.9353\n",
      "Train Epoch: 93 [0/60000 (0%)]\tLoss: 0.136840\n",
      "Train Epoch: 93 [5760/60000 (10%)]\tLoss: 0.283079\n",
      "Train Epoch: 93 [11520/60000 (19%)]\tLoss: 0.195763\n",
      "Train Epoch: 93 [17280/60000 (29%)]\tLoss: 0.169045\n",
      "Train Epoch: 93 [23040/60000 (38%)]\tLoss: 0.249257\n",
      "Train Epoch: 93 [28800/60000 (48%)]\tLoss: 0.257977\n",
      "Train Epoch: 93 [34560/60000 (58%)]\tLoss: 0.120656\n",
      "Train Epoch: 93 [40320/60000 (67%)]\tLoss: 0.235009\n",
      "Train Epoch: 93 [46080/60000 (77%)]\tLoss: 0.150177\n",
      "Train Epoch: 93 [51840/60000 (86%)]\tLoss: 0.422951\n",
      "Train Epoch: 93 [57600/60000 (96%)]\tLoss: 0.256562\n",
      "\n",
      "Test set: Average loss: 0.0017, Accuracy: 9317/10000 (93%)\n",
      "\n"
     ]
    },
    {
     "data": {
      "image/png": "[encoded data removed]",
      "text/plain": [
       "<Figure size 432x288 with 1 Axes>"
      ]
     },
     "metadata": {
      "needs_background": "light"
     },
     "output_type": "display_data"
    },
    {
     "name": "stdout",
     "output_type": "stream",
     "text": [
      "Accuracy: 0.9317\n",
      "Train Epoch: 94 [0/60000 (0%)]\tLoss: 0.271952\n",
      "Train Epoch: 94 [5760/60000 (10%)]\tLoss: 0.275154\n",
      "Train Epoch: 94 [11520/60000 (19%)]\tLoss: 0.345967\n",
      "Train Epoch: 94 [17280/60000 (29%)]\tLoss: 0.109038\n",
      "Train Epoch: 94 [23040/60000 (38%)]\tLoss: 0.285563\n",
      "Train Epoch: 94 [28800/60000 (48%)]\tLoss: 0.226432\n",
      "Train Epoch: 94 [34560/60000 (58%)]\tLoss: 0.190897\n",
      "Train Epoch: 94 [40320/60000 (67%)]\tLoss: 0.299768\n",
      "Train Epoch: 94 [46080/60000 (77%)]\tLoss: 0.116635\n",
      "Train Epoch: 94 [51840/60000 (86%)]\tLoss: 0.324958\n",
      "Train Epoch: 94 [57600/60000 (96%)]\tLoss: 0.267527\n",
      "\n",
      "Test set: Average loss: 0.0022, Accuracy: 9107/10000 (91%)\n",
      "\n"
     ]
    },
    {
     "data": {
      "image/png": "[encoded data removed]",
      "text/plain": [
       "<Figure size 432x288 with 1 Axes>"
      ]
     },
     "metadata": {
      "needs_background": "light"
     },
     "output_type": "display_data"
    },
    {
     "name": "stdout",
     "output_type": "stream",
     "text": [
      "Accuracy: 0.9107\n",
      "Train Epoch: 95 [0/60000 (0%)]\tLoss: 0.162008\n",
      "Train Epoch: 95 [5760/60000 (10%)]\tLoss: 0.200682\n",
      "Train Epoch: 95 [11520/60000 (19%)]\tLoss: 0.175864\n",
      "Train Epoch: 95 [17280/60000 (29%)]\tLoss: 0.288405\n",
      "Train Epoch: 95 [23040/60000 (38%)]\tLoss: 0.183848\n",
      "Train Epoch: 95 [28800/60000 (48%)]\tLoss: 0.195309\n",
      "Train Epoch: 95 [34560/60000 (58%)]\tLoss: 0.204040\n",
      "Train Epoch: 95 [40320/60000 (67%)]\tLoss: 0.237569\n",
      "Train Epoch: 95 [46080/60000 (77%)]\tLoss: 0.153100\n",
      "Train Epoch: 95 [51840/60000 (86%)]\tLoss: 0.206616\n",
      "Train Epoch: 95 [57600/60000 (96%)]\tLoss: 0.297224\n",
      "\n",
      "Test set: Average loss: 0.0016, Accuracy: 9344/10000 (93%)\n",
      "\n"
     ]
    },
    {
     "data": {
      "image/png": "[encoded data removed]",
      "text/plain": [
       "<Figure size 432x288 with 1 Axes>"
      ]
     },
     "metadata": {
      "needs_background": "light"
     },
     "output_type": "display_data"
    },
    {
     "name": "stdout",
     "output_type": "stream",
     "text": [
      "Accuracy: 0.9344\n",
      "Train Epoch: 96 [0/60000 (0%)]\tLoss: 0.269564\n",
      "Train Epoch: 96 [5760/60000 (10%)]\tLoss: 0.379892\n",
      "Train Epoch: 96 [11520/60000 (19%)]\tLoss: 0.153382\n",
      "Train Epoch: 96 [17280/60000 (29%)]\tLoss: 0.142875\n",
      "Train Epoch: 96 [23040/60000 (38%)]\tLoss: 0.193606\n",
      "Train Epoch: 96 [28800/60000 (48%)]\tLoss: 0.267532\n",
      "Train Epoch: 96 [34560/60000 (58%)]\tLoss: 0.168980\n",
      "Train Epoch: 96 [40320/60000 (67%)]\tLoss: 0.139873\n",
      "Train Epoch: 96 [46080/60000 (77%)]\tLoss: 0.290799\n",
      "Train Epoch: 96 [51840/60000 (86%)]\tLoss: 0.160263\n",
      "Train Epoch: 96 [57600/60000 (96%)]\tLoss: 0.257174\n",
      "\n",
      "Test set: Average loss: 0.0017, Accuracy: 9319/10000 (93%)\n",
      "\n"
     ]
    },
    {
     "data": {
      "image/png": "[encoded data removed]",
      "text/plain": [
       "<Figure size 432x288 with 1 Axes>"
      ]
     },
     "metadata": {
      "needs_background": "light"
     },
     "output_type": "display_data"
    },
    {
     "name": "stdout",
     "output_type": "stream",
     "text": [
      "Accuracy: 0.9319\n",
      "Train Epoch: 97 [0/60000 (0%)]\tLoss: 0.297152\n",
      "Train Epoch: 97 [5760/60000 (10%)]\tLoss: 0.220738\n",
      "Train Epoch: 97 [11520/60000 (19%)]\tLoss: 0.157580\n",
      "Train Epoch: 97 [17280/60000 (29%)]\tLoss: 0.325440\n",
      "Train Epoch: 97 [23040/60000 (38%)]\tLoss: 0.233811\n",
      "Train Epoch: 97 [28800/60000 (48%)]\tLoss: 0.198436\n",
      "Train Epoch: 97 [34560/60000 (58%)]\tLoss: 0.142882\n",
      "Train Epoch: 97 [40320/60000 (67%)]\tLoss: 0.279102\n",
      "Train Epoch: 97 [46080/60000 (77%)]\tLoss: 0.203958\n",
      "Train Epoch: 97 [51840/60000 (86%)]\tLoss: 0.158281\n",
      "Train Epoch: 97 [57600/60000 (96%)]\tLoss: 0.339734\n",
      "\n",
      "Test set: Average loss: 0.0017, Accuracy: 9310/10000 (93%)\n",
      "\n"
     ]
    },
    {
     "data": {
      "image/png": "[encoded data removed]",
      "text/plain": [
       "<Figure size 432x288 with 1 Axes>"
      ]
     },
     "metadata": {
      "needs_background": "light"
     },
     "output_type": "display_data"
    },
    {
     "name": "stdout",
     "output_type": "stream",
     "text": [
      "Accuracy: 0.931\n",
      "Train Epoch: 98 [0/60000 (0%)]\tLoss: 0.150062\n",
      "Train Epoch: 98 [5760/60000 (10%)]\tLoss: 0.337361\n",
      "Train Epoch: 98 [11520/60000 (19%)]\tLoss: 0.395677\n",
      "Train Epoch: 98 [17280/60000 (29%)]\tLoss: 0.142379\n",
      "Train Epoch: 98 [23040/60000 (38%)]\tLoss: 0.262959\n",
      "Train Epoch: 98 [28800/60000 (48%)]\tLoss: 0.161527\n",
      "Train Epoch: 98 [34560/60000 (58%)]\tLoss: 0.226412\n",
      "Train Epoch: 98 [40320/60000 (67%)]\tLoss: 0.209794\n",
      "Train Epoch: 98 [46080/60000 (77%)]\tLoss: 0.332166\n",
      "Train Epoch: 98 [51840/60000 (86%)]\tLoss: 0.143621\n",
      "Train Epoch: 98 [57600/60000 (96%)]\tLoss: 0.252668\n",
      "\n",
      "Test set: Average loss: 0.0019, Accuracy: 9249/10000 (92%)\n",
      "\n"
     ]
    },
    {
     "data": {
      "image/png": "[encoded data removed]",
      "text/plain": [
       "<Figure size 432x288 with 1 Axes>"
      ]
     },
     "metadata": {
      "needs_background": "light"
     },
     "output_type": "display_data"
    },
    {
     "name": "stdout",
     "output_type": "stream",
     "text": [
      "Accuracy: 0.9249\n",
      "Train Epoch: 99 [0/60000 (0%)]\tLoss: 0.332114\n",
      "Train Epoch: 99 [5760/60000 (10%)]\tLoss: 0.234768\n",
      "Train Epoch: 99 [11520/60000 (19%)]\tLoss: 0.090827\n",
      "Train Epoch: 99 [17280/60000 (29%)]\tLoss: 0.106777\n",
      "Train Epoch: 99 [23040/60000 (38%)]\tLoss: 0.137536\n",
      "Train Epoch: 99 [28800/60000 (48%)]\tLoss: 0.321434\n",
      "Train Epoch: 99 [34560/60000 (58%)]\tLoss: 0.223078\n",
      "Train Epoch: 99 [40320/60000 (67%)]\tLoss: 0.242268\n",
      "Train Epoch: 99 [46080/60000 (77%)]\tLoss: 0.264366\n",
      "Train Epoch: 99 [51840/60000 (86%)]\tLoss: 0.262970\n",
      "Train Epoch: 99 [57600/60000 (96%)]\tLoss: 0.156105\n",
      "\n",
      "Test set: Average loss: 0.0016, Accuracy: 9387/10000 (94%)\n",
      "\n"
     ]
    },
    {
     "data": {
      "image/png": "[encoded data removed]",
      "text/plain": [
       "<Figure size 432x288 with 1 Axes>"
      ]
     },
     "metadata": {
      "needs_background": "light"
     },
     "output_type": "display_data"
    },
    {
     "name": "stdout",
     "output_type": "stream",
     "text": [
      "Accuracy: 0.9387\n"
     ]
    }
   ],
   "source": [
    "torch.autograd.set_detect_anomaly(True)\n",
    "# train the model\n",
    "\n",
    "# training step\n",
    "def train(model, train_loader, optimizer, epoch):\n",
    "    model.train()\n",
    "    #train_loss_averager = make_averager()  # mantain a running average of the loss\n",
    "\n",
    "    # TRAIN\n",
    "    #tqdm_iterator = tqdm(\n",
    "    #    enumerate(train_dl),\n",
    "    #    total=len(train_dl),\n",
    "    #    desc=f\"batch [loss: None]\",\n",
    "    #    leave=False,)\n",
    "\n",
    "    for batch_idx, (data, target) in enumerate(train_loader):\n",
    "        data, target = data.to(device), target.to(device)\n",
    "        output = model(data)\n",
    "        loss = F.cross_entropy(output, target)\n",
    "        loss.backward()\n",
    "        optimizer.step()\n",
    "        optimizer.zero_grad()\n",
    "\n",
    "        #train_loss_averager(loss.item())\n",
    "\n",
    "        #tqdm_iterator.set_description(\n",
    "        #    f\"train batch [avg loss: {train_loss_averager(None):.3f}]\"\n",
    "        #)\n",
    "        #tqdm_iterator.refresh()\n",
    "\n",
    "        if batch_idx % 45 == 0:\n",
    "            print(\n",
    "                \"Train Epoch: {} [{}/{} ({:.0f}%)]\\tLoss: {:.6f}\".format(\n",
    "                    epoch,\n",
    "                    batch_idx * len(data),\n",
    "                    len(train_loader.dataset),\n",
    "                    100.0 * batch_idx / len(train_loader),\n",
    "                    loss.item(),\n",
    "                )\n",
    "            )\n",
    "\n",
    "\n",
    "# testing step\n",
    "def test(model, test_loader):\n",
    "    model.eval()\n",
    "    test_loss = 0\n",
    "    correct = 0\n",
    "    with torch.no_grad():\n",
    "        for data, target in test_loader:\n",
    "            data, target = data.to(device), target.to(device)\n",
    "            output = model(data)\n",
    "            test_loss += F.cross_entropy(output, target).item()  # sum up batch loss\n",
    "            # get the index of the max probability\n",
    "            pred = output.max(1, keepdim=True)[1]\n",
    "            correct += pred.eq(target.view_as(pred)).cpu().sum().item()\n",
    "\n",
    "    test_loss /= len(test_loader.dataset)\n",
    "    print(\n",
    "        \"\\nTest set: Average loss: {:.4f}, Accuracy: {}/{} ({:.0f}%)\\n\".format(\n",
    "            test_loss,\n",
    "            correct,\n",
    "            len(test_loader.dataset),\n",
    "            100.0 * correct / len(test_loader.dataset),\n",
    "        )\n",
    "    )\n",
    "    # show an histogram of the weights of the model\n",
    "    start = -1\n",
    "    stop = 1\n",
    "    bins = 30\n",
    "    for param in model.parameters():\n",
    "        if param.requires_grad:\n",
    "            \n",
    "            hist = torch.histc(param.data, bins = bins, min = start, max = stop)\n",
    "            x = np.arange(start, stop, (stop-start)/bins)\n",
    "            plt.bar(x, hist.cpu(), align='center')\n",
    "            plt.ylabel('Frequency')\n",
    "            plt.show()\n",
    "\n",
    "    return correct / len(test_loader.dataset)\n",
    "\n",
    "\n",
    "optimizer = optim.SGD(model_intrinsic.parameters(), lr=0.01)\n",
    "# train the model\n",
    "for epoch in range(1, 100):\n",
    "    train(model_intrinsic, train_dataloader, optimizer, epoch)\n",
    "    accuracy = test(model_intrinsic, test_dataloader)\n",
    "    print(\"Accuracy: {}\".format(accuracy))\n"
   ]
  }
 ],
 "metadata": {
  "kernelspec": {
   "display_name": "Python 3.9.12 64-bit",
   "language": "python",
   "name": "python3"
  },
  "language_info": {
   "codemirror_mode": {
    "name": "ipython",
    "version": 3
   },
   "file_extension": ".py",
   "mimetype": "text/x-python",
   "name": "python",
   "nbconvert_exporter": "python",
   "pygments_lexer": "ipython3",
   "version": "3.9.12"
  },
  "orig_nbformat": 4,
  "vscode": {
   "interpreter": {
    "hash": "e13549091eeb6d212316983f0d9bb375e4ef3e549472c705cc2bde65fe2521f7"
   }
  }
 },
 "nbformat": 4,
 "nbformat_minor": 2
}
