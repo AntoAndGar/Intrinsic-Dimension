{
 "cells": [
  {
   "cell_type": "code",
   "execution_count": 1,
   "metadata": {},
   "outputs": [],
   "source": [
    "import plotly.graph_objects as go\n",
    "import json"
   ]
  },
  {
   "cell_type": "code",
   "execution_count": 2,
   "metadata": {},
   "outputs": [],
   "source": [
    "with open('results.json') as f:\n",
    "    data = json.load(f)\n",
    "f.close()\n",
    "\n",
    "num_params_50, hidden_dim_50, num_layers_50, intrinsic_dim_50 = [], [], [], []\n",
    "num_params_100, hidden_dim_100, num_layers_100, intrinsic_dim_100 = [], [], [], []\n",
    "num_params_200, hidden_dim_200, num_layers_200, intrinsic_dim_200 = [], [], [], []\n",
    "num_params_400, hidden_dim_400, num_layers_400, intrinsic_dim_400 = [], [], [], []\n",
    "for k,v in data.items():\n",
    "    if v['validation_accuracy'] >= 0.9:\n",
    "        if v['hidden_dimension'] == 50:\n",
    "            num_params_50.append(v['number_parameter'])\n",
    "            hidden_dim_50.append(v['hidden_dimension'])\n",
    "            num_layers_50.append(v['number_layers'])\n",
    "            intrinsic_dim_50.append(v['intrinsic_dimension'])\n",
    "        elif v['hidden_dimension'] == 100:\n",
    "            num_params_100.append(v['number_parameter'])\n",
    "            hidden_dim_100.append(v['hidden_dimension'])\n",
    "            num_layers_100.append(v['number_layers'])\n",
    "            intrinsic_dim_100.append(v['intrinsic_dimension'])\n",
    "        elif v['hidden_dimension'] == 200:\n",
    "            num_params_200.append(v['number_parameter'])\n",
    "            hidden_dim_200.append(v['hidden_dimension'])\n",
    "            num_layers_200.append(v['number_layers'])\n",
    "            intrinsic_dim_200.append(v['intrinsic_dimension'])\n",
    "        elif v['hidden_dimension'] == 400:\n",
    "            num_params_400.append(v['number_parameter'])\n",
    "            hidden_dim_400.append(v['hidden_dimension'])\n",
    "            num_layers_400.append(v['number_layers'])\n",
    "            intrinsic_dim_400.append(v['intrinsic_dimension'])\n",
    "        else:\n",
    "            print('Error')"
   ]
  },
  {
   "cell_type": "code",
   "execution_count": 3,
   "metadata": {},
   "outputs": [
    {
     "data": {
      "application/vnd.plotly.v1+json": {
       "config": {
        "plotlyServerURL": "https://plot.ly"
       },
       "data": [
        {
         "error_y": {
          "array": [
           1,
           2,
           3,
           4,
           5
          ],
          "type": "data",
          "visible": true
         },
         "marker": {
          "color": [
           1,
           2,
           3,
           4,
           5,
           0
          ],
          "showscale": true,
          "size": 30
         },
         "mode": "markers",
         "name": "layer width: 50",
         "type": "scatter",
         "x": [
          42310,
          44860,
          47410,
          49960,
          52510,
          39760
         ],
         "y": [
          750,
          750,
          750,
          800,
          750,
          750
         ]
        },
        {
         "error_y": {
          "array": [
           1,
           2,
           3,
           4,
           5
          ],
          "type": "data",
          "visible": true
         },
         "marker": {
          "color": [
           1,
           2,
           3,
           4,
           4,
           5,
           0
          ],
          "showscale": true,
          "size": 55
         },
         "mode": "markers",
         "name": "layer width: 100",
         "type": "scatter",
         "x": [
          89610,
          99710,
          109810,
          119910,
          119910,
          130010,
          79510
         ],
         "y": [
          750,
          750,
          800,
          900,
          875,
          750,
          750
         ]
        },
        {
         "error_y": {
          "array": [
           1,
           2,
           3,
           4,
           5
          ],
          "type": "data",
          "visible": true
         },
         "marker": {
          "color": [
           1,
           2,
           2,
           3,
           4,
           4,
           5,
           5,
           5,
           0,
           1,
           1,
           1
          ],
          "showscale": true,
          "size": 70
         },
         "mode": "markers",
         "name": "layer width: 200",
         "type": "scatter",
         "x": [
          199210,
          239410,
          239410,
          279610,
          319810,
          319810,
          360010,
          360010,
          360010,
          159010,
          199210,
          199210,
          199210
         ],
         "y": [
          750,
          800,
          775,
          850,
          1100,
          1050,
          750,
          1300,
          1250,
          750,
          600,
          700,
          675
         ]
        },
        {
         "error_y": {
          "array": [
           1,
           2,
           3,
           4,
           5
          ],
          "type": "data",
          "visible": true
         },
         "marker": {
          "color": [
           1,
           1,
           2,
           2,
           2,
           3,
           4,
           4,
           4,
           0
          ],
          "showscale": true,
          "size": 90
         },
         "mode": "markers",
         "name": "layer width: 400",
         "type": "scatter",
         "x": [
          478410,
          478410,
          638810,
          638810,
          638810,
          799210,
          959610,
          959610,
          959610,
          318010
         ],
         "y": [
          850,
          800,
          1000,
          985,
          970,
          1100,
          1300,
          1250,
          1225,
          750
         ]
        }
       ],
       "layout": {
        "legend": {
         "itemsizing": "trace",
         "x": 0.01,
         "xanchor": "left",
         "y": 0.99,
         "yanchor": "top"
        },
        "template": {
         "data": {
          "bar": [
           {
            "error_x": {
             "color": "#2a3f5f"
            },
            "error_y": {
             "color": "#2a3f5f"
            },
            "marker": {
             "line": {
              "color": "#E5ECF6",
              "width": 0.5
             },
             "pattern": {
              "fillmode": "overlay",
              "size": 10,
              "solidity": 0.2
             }
            },
            "type": "bar"
           }
          ],
          "barpolar": [
           {
            "marker": {
             "line": {
              "color": "#E5ECF6",
              "width": 0.5
             },
             "pattern": {
              "fillmode": "overlay",
              "size": 10,
              "solidity": 0.2
             }
            },
            "type": "barpolar"
           }
          ],
          "carpet": [
           {
            "aaxis": {
             "endlinecolor": "#2a3f5f",
             "gridcolor": "white",
             "linecolor": "white",
             "minorgridcolor": "white",
             "startlinecolor": "#2a3f5f"
            },
            "baxis": {
             "endlinecolor": "#2a3f5f",
             "gridcolor": "white",
             "linecolor": "white",
             "minorgridcolor": "white",
             "startlinecolor": "#2a3f5f"
            },
            "type": "carpet"
           }
          ],
          "choropleth": [
           {
            "colorbar": {
             "outlinewidth": 0,
             "ticks": ""
            },
            "type": "choropleth"
           }
          ],
          "contour": [
           {
            "colorbar": {
             "outlinewidth": 0,
             "ticks": ""
            },
            "colorscale": [
             [
              0,
              "#0d0887"
             ],
             [
              0.1111111111111111,
              "#46039f"
             ],
             [
              0.2222222222222222,
              "#7201a8"
             ],
             [
              0.3333333333333333,
              "#9c179e"
             ],
             [
              0.4444444444444444,
              "#bd3786"
             ],
             [
              0.5555555555555556,
              "#d8576b"
             ],
             [
              0.6666666666666666,
              "#ed7953"
             ],
             [
              0.7777777777777778,
              "#fb9f3a"
             ],
             [
              0.8888888888888888,
              "#fdca26"
             ],
             [
              1,
              "#f0f921"
             ]
            ],
            "type": "contour"
           }
          ],
          "contourcarpet": [
           {
            "colorbar": {
             "outlinewidth": 0,
             "ticks": ""
            },
            "type": "contourcarpet"
           }
          ],
          "heatmap": [
           {
            "colorbar": {
             "outlinewidth": 0,
             "ticks": ""
            },
            "colorscale": [
             [
              0,
              "#0d0887"
             ],
             [
              0.1111111111111111,
              "#46039f"
             ],
             [
              0.2222222222222222,
              "#7201a8"
             ],
             [
              0.3333333333333333,
              "#9c179e"
             ],
             [
              0.4444444444444444,
              "#bd3786"
             ],
             [
              0.5555555555555556,
              "#d8576b"
             ],
             [
              0.6666666666666666,
              "#ed7953"
             ],
             [
              0.7777777777777778,
              "#fb9f3a"
             ],
             [
              0.8888888888888888,
              "#fdca26"
             ],
             [
              1,
              "#f0f921"
             ]
            ],
            "type": "heatmap"
           }
          ],
          "heatmapgl": [
           {
            "colorbar": {
             "outlinewidth": 0,
             "ticks": ""
            },
            "colorscale": [
             [
              0,
              "#0d0887"
             ],
             [
              0.1111111111111111,
              "#46039f"
             ],
             [
              0.2222222222222222,
              "#7201a8"
             ],
             [
              0.3333333333333333,
              "#9c179e"
             ],
             [
              0.4444444444444444,
              "#bd3786"
             ],
             [
              0.5555555555555556,
              "#d8576b"
             ],
             [
              0.6666666666666666,
              "#ed7953"
             ],
             [
              0.7777777777777778,
              "#fb9f3a"
             ],
             [
              0.8888888888888888,
              "#fdca26"
             ],
             [
              1,
              "#f0f921"
             ]
            ],
            "type": "heatmapgl"
           }
          ],
          "histogram": [
           {
            "marker": {
             "pattern": {
              "fillmode": "overlay",
              "size": 10,
              "solidity": 0.2
             }
            },
            "type": "histogram"
           }
          ],
          "histogram2d": [
           {
            "colorbar": {
             "outlinewidth": 0,
             "ticks": ""
            },
            "colorscale": [
             [
              0,
              "#0d0887"
             ],
             [
              0.1111111111111111,
              "#46039f"
             ],
             [
              0.2222222222222222,
              "#7201a8"
             ],
             [
              0.3333333333333333,
              "#9c179e"
             ],
             [
              0.4444444444444444,
              "#bd3786"
             ],
             [
              0.5555555555555556,
              "#d8576b"
             ],
             [
              0.6666666666666666,
              "#ed7953"
             ],
             [
              0.7777777777777778,
              "#fb9f3a"
             ],
             [
              0.8888888888888888,
              "#fdca26"
             ],
             [
              1,
              "#f0f921"
             ]
            ],
            "type": "histogram2d"
           }
          ],
          "histogram2dcontour": [
           {
            "colorbar": {
             "outlinewidth": 0,
             "ticks": ""
            },
            "colorscale": [
             [
              0,
              "#0d0887"
             ],
             [
              0.1111111111111111,
              "#46039f"
             ],
             [
              0.2222222222222222,
              "#7201a8"
             ],
             [
              0.3333333333333333,
              "#9c179e"
             ],
             [
              0.4444444444444444,
              "#bd3786"
             ],
             [
              0.5555555555555556,
              "#d8576b"
             ],
             [
              0.6666666666666666,
              "#ed7953"
             ],
             [
              0.7777777777777778,
              "#fb9f3a"
             ],
             [
              0.8888888888888888,
              "#fdca26"
             ],
             [
              1,
              "#f0f921"
             ]
            ],
            "type": "histogram2dcontour"
           }
          ],
          "mesh3d": [
           {
            "colorbar": {
             "outlinewidth": 0,
             "ticks": ""
            },
            "type": "mesh3d"
           }
          ],
          "parcoords": [
           {
            "line": {
             "colorbar": {
              "outlinewidth": 0,
              "ticks": ""
             }
            },
            "type": "parcoords"
           }
          ],
          "pie": [
           {
            "automargin": true,
            "type": "pie"
           }
          ],
          "scatter": [
           {
            "fillpattern": {
             "fillmode": "overlay",
             "size": 10,
             "solidity": 0.2
            },
            "type": "scatter"
           }
          ],
          "scatter3d": [
           {
            "line": {
             "colorbar": {
              "outlinewidth": 0,
              "ticks": ""
             }
            },
            "marker": {
             "colorbar": {
              "outlinewidth": 0,
              "ticks": ""
             }
            },
            "type": "scatter3d"
           }
          ],
          "scattercarpet": [
           {
            "marker": {
             "colorbar": {
              "outlinewidth": 0,
              "ticks": ""
             }
            },
            "type": "scattercarpet"
           }
          ],
          "scattergeo": [
           {
            "marker": {
             "colorbar": {
              "outlinewidth": 0,
              "ticks": ""
             }
            },
            "type": "scattergeo"
           }
          ],
          "scattergl": [
           {
            "marker": {
             "colorbar": {
              "outlinewidth": 0,
              "ticks": ""
             }
            },
            "type": "scattergl"
           }
          ],
          "scattermapbox": [
           {
            "marker": {
             "colorbar": {
              "outlinewidth": 0,
              "ticks": ""
             }
            },
            "type": "scattermapbox"
           }
          ],
          "scatterpolar": [
           {
            "marker": {
             "colorbar": {
              "outlinewidth": 0,
              "ticks": ""
             }
            },
            "type": "scatterpolar"
           }
          ],
          "scatterpolargl": [
           {
            "marker": {
             "colorbar": {
              "outlinewidth": 0,
              "ticks": ""
             }
            },
            "type": "scatterpolargl"
           }
          ],
          "scatterternary": [
           {
            "marker": {
             "colorbar": {
              "outlinewidth": 0,
              "ticks": ""
             }
            },
            "type": "scatterternary"
           }
          ],
          "surface": [
           {
            "colorbar": {
             "outlinewidth": 0,
             "ticks": ""
            },
            "colorscale": [
             [
              0,
              "#0d0887"
             ],
             [
              0.1111111111111111,
              "#46039f"
             ],
             [
              0.2222222222222222,
              "#7201a8"
             ],
             [
              0.3333333333333333,
              "#9c179e"
             ],
             [
              0.4444444444444444,
              "#bd3786"
             ],
             [
              0.5555555555555556,
              "#d8576b"
             ],
             [
              0.6666666666666666,
              "#ed7953"
             ],
             [
              0.7777777777777778,
              "#fb9f3a"
             ],
             [
              0.8888888888888888,
              "#fdca26"
             ],
             [
              1,
              "#f0f921"
             ]
            ],
            "type": "surface"
           }
          ],
          "table": [
           {
            "cells": {
             "fill": {
              "color": "#EBF0F8"
             },
             "line": {
              "color": "white"
             }
            },
            "header": {
             "fill": {
              "color": "#C8D4E3"
             },
             "line": {
              "color": "white"
             }
            },
            "type": "table"
           }
          ]
         },
         "layout": {
          "annotationdefaults": {
           "arrowcolor": "#2a3f5f",
           "arrowhead": 0,
           "arrowwidth": 1
          },
          "autotypenumbers": "strict",
          "coloraxis": {
           "colorbar": {
            "outlinewidth": 0,
            "ticks": ""
           }
          },
          "colorscale": {
           "diverging": [
            [
             0,
             "#8e0152"
            ],
            [
             0.1,
             "#c51b7d"
            ],
            [
             0.2,
             "#de77ae"
            ],
            [
             0.3,
             "#f1b6da"
            ],
            [
             0.4,
             "#fde0ef"
            ],
            [
             0.5,
             "#f7f7f7"
            ],
            [
             0.6,
             "#e6f5d0"
            ],
            [
             0.7,
             "#b8e186"
            ],
            [
             0.8,
             "#7fbc41"
            ],
            [
             0.9,
             "#4d9221"
            ],
            [
             1,
             "#276419"
            ]
           ],
           "sequential": [
            [
             0,
             "#0d0887"
            ],
            [
             0.1111111111111111,
             "#46039f"
            ],
            [
             0.2222222222222222,
             "#7201a8"
            ],
            [
             0.3333333333333333,
             "#9c179e"
            ],
            [
             0.4444444444444444,
             "#bd3786"
            ],
            [
             0.5555555555555556,
             "#d8576b"
            ],
            [
             0.6666666666666666,
             "#ed7953"
            ],
            [
             0.7777777777777778,
             "#fb9f3a"
            ],
            [
             0.8888888888888888,
             "#fdca26"
            ],
            [
             1,
             "#f0f921"
            ]
           ],
           "sequentialminus": [
            [
             0,
             "#0d0887"
            ],
            [
             0.1111111111111111,
             "#46039f"
            ],
            [
             0.2222222222222222,
             "#7201a8"
            ],
            [
             0.3333333333333333,
             "#9c179e"
            ],
            [
             0.4444444444444444,
             "#bd3786"
            ],
            [
             0.5555555555555556,
             "#d8576b"
            ],
            [
             0.6666666666666666,
             "#ed7953"
            ],
            [
             0.7777777777777778,
             "#fb9f3a"
            ],
            [
             0.8888888888888888,
             "#fdca26"
            ],
            [
             1,
             "#f0f921"
            ]
           ]
          },
          "colorway": [
           "#636efa",
           "#EF553B",
           "#00cc96",
           "#ab63fa",
           "#FFA15A",
           "#19d3f3",
           "#FF6692",
           "#B6E880",
           "#FF97FF",
           "#FECB52"
          ],
          "font": {
           "color": "#2a3f5f"
          },
          "geo": {
           "bgcolor": "white",
           "lakecolor": "white",
           "landcolor": "#E5ECF6",
           "showlakes": true,
           "showland": true,
           "subunitcolor": "white"
          },
          "hoverlabel": {
           "align": "left"
          },
          "hovermode": "closest",
          "mapbox": {
           "style": "light"
          },
          "paper_bgcolor": "white",
          "plot_bgcolor": "#E5ECF6",
          "polar": {
           "angularaxis": {
            "gridcolor": "white",
            "linecolor": "white",
            "ticks": ""
           },
           "bgcolor": "#E5ECF6",
           "radialaxis": {
            "gridcolor": "white",
            "linecolor": "white",
            "ticks": ""
           }
          },
          "scene": {
           "xaxis": {
            "backgroundcolor": "#E5ECF6",
            "gridcolor": "white",
            "gridwidth": 2,
            "linecolor": "white",
            "showbackground": true,
            "ticks": "",
            "zerolinecolor": "white"
           },
           "yaxis": {
            "backgroundcolor": "#E5ECF6",
            "gridcolor": "white",
            "gridwidth": 2,
            "linecolor": "white",
            "showbackground": true,
            "ticks": "",
            "zerolinecolor": "white"
           },
           "zaxis": {
            "backgroundcolor": "#E5ECF6",
            "gridcolor": "white",
            "gridwidth": 2,
            "linecolor": "white",
            "showbackground": true,
            "ticks": "",
            "zerolinecolor": "white"
           }
          },
          "shapedefaults": {
           "line": {
            "color": "#2a3f5f"
           }
          },
          "ternary": {
           "aaxis": {
            "gridcolor": "white",
            "linecolor": "white",
            "ticks": ""
           },
           "baxis": {
            "gridcolor": "white",
            "linecolor": "white",
            "ticks": ""
           },
           "bgcolor": "#E5ECF6",
           "caxis": {
            "gridcolor": "white",
            "linecolor": "white",
            "ticks": ""
           }
          },
          "title": {
           "x": 0.05
          },
          "xaxis": {
           "automargin": true,
           "gridcolor": "white",
           "linecolor": "white",
           "ticks": "",
           "title": {
            "standoff": 15
           },
           "zerolinecolor": "white",
           "zerolinewidth": 2
          },
          "yaxis": {
           "automargin": true,
           "gridcolor": "white",
           "linecolor": "white",
           "ticks": "",
           "title": {
            "standoff": 15
           },
           "zerolinecolor": "white",
           "zerolinewidth": 2
          }
         }
        }
       }
      }
     },
     "metadata": {},
     "output_type": "display_data"
    }
   ],
   "source": [
    "fig = go.Figure()\n",
    "\n",
    "fig.add_trace(go.Scatter(\n",
    "    x=num_params_50,\n",
    "    y=intrinsic_dim_50,\n",
    "    mode='markers',\n",
    "    marker=dict(\n",
    "        color=num_layers_50,\n",
    "        size=30,\n",
    "        showscale=True\n",
    "        ),\n",
    "    error_y=dict(\n",
    "            type='data', # value of error bar given in data coordinates\n",
    "            array=[1, 2, 3, 4, 5],\n",
    "            visible=True),\n",
    "    name='layer width: 50',\n",
    "))\n",
    "\n",
    "fig.add_trace(go.Scatter(\n",
    "    x=num_params_100,\n",
    "    y=intrinsic_dim_100,\n",
    "    mode='markers',\n",
    "    marker=dict(\n",
    "        color=num_layers_100,\n",
    "        size=55,\n",
    "        showscale=True\n",
    "        ),\n",
    "    error_y=dict(\n",
    "            type='data', # value of error bar given in data coordinates\n",
    "            array=[1, 2, 3, 4, 5],\n",
    "            visible=True),\n",
    "    name='layer width: 100',\n",
    "))\n",
    "\n",
    "fig.add_trace(go.Scatter(\n",
    "    x=num_params_200,\n",
    "    y=intrinsic_dim_200,\n",
    "    mode='markers',\n",
    "    marker=dict(\n",
    "        color=num_layers_200,\n",
    "        size=70,\n",
    "        showscale=True\n",
    "        ),\n",
    "    error_y=dict(\n",
    "            type='data', # value of error bar given in data coordinates\n",
    "            array=[1, 2, 3, 4, 5],\n",
    "            visible=True),\n",
    "    name='layer width: 200'\n",
    "))\n",
    "\n",
    "fig.add_trace(go.Scatter(\n",
    "    x=num_params_400,\n",
    "    y=intrinsic_dim_400,\n",
    "    mode='markers',\n",
    "    marker=dict(\n",
    "        color=num_layers_400,\n",
    "        size=90,\n",
    "        showscale=True\n",
    "        ),\n",
    "    error_y=dict(\n",
    "            type='data', # value of error bar given in data coordinates\n",
    "            array=[1, 2, 3, 4, 5],\n",
    "            visible=True),\n",
    "    name='layer width: 400'\n",
    "))\n",
    "\n",
    "fig.update_layout(\n",
    "    legend=dict(\n",
    "        itemsizing='trace',\n",
    "        yanchor=\"top\",\n",
    "        y=0.99,\n",
    "        xanchor=\"left\",\n",
    "        x=0.01,\n",
    "        )\n",
    "    )\n",
    "\n",
    "fig.show()"
   ]
  },
  {
   "cell_type": "code",
   "execution_count": 6,
   "metadata": {},
   "outputs": [
    {
     "data": {
      "application/vnd.plotly.v1+json": {
       "config": {
        "plotlyServerURL": "https://plot.ly"
       },
       "data": [
        {
         "marker": {
          "color": [
           2,
           2,
           2,
           2,
           2,
           3,
           3,
           3,
           3,
           3,
           3,
           3,
           4,
           4,
           4,
           4,
           5,
           5,
           5,
           5,
           5,
           5,
           5,
           5,
           6,
           6,
           6,
           6,
           6,
           1,
           1,
           1,
           1,
           2,
           2,
           2
          ],
          "showscale": true,
          "size": [
           200,
           100,
           50,
           400,
           400,
           50,
           100,
           200,
           200,
           400,
           400,
           400,
           50,
           100,
           200,
           400,
           50,
           100,
           100,
           200,
           200,
           400,
           400,
           400,
           50,
           100,
           200,
           200,
           200,
           50,
           100,
           200,
           400,
           200,
           200,
           200
          ],
          "sizemin": 2,
          "sizemode": "area",
          "sizeref": 0.4444444444444444
         },
         "mode": "markers",
         "type": "scatter",
         "x": [
          199210,
          89610,
          42310,
          478410,
          478410,
          44860,
          99710,
          239410,
          239410,
          638810,
          638810,
          638810,
          47410,
          109810,
          279610,
          799210,
          49960,
          119910,
          119910,
          319810,
          319810,
          959610,
          959610,
          959610,
          52510,
          130010,
          360010,
          360010,
          360010,
          39760,
          79510,
          159010,
          318010,
          199210,
          199210,
          199210
         ],
         "y": [
          750,
          750,
          750,
          850,
          800,
          750,
          750,
          800,
          775,
          1000,
          985,
          970,
          750,
          800,
          850,
          1100,
          800,
          900,
          875,
          1100,
          1050,
          1300,
          1250,
          1225,
          750,
          750,
          750,
          1300,
          1250,
          750,
          750,
          750,
          750,
          600,
          700,
          675
         ]
        }
       ],
       "layout": {
        "legend": {
         "x": 0.01,
         "xanchor": "left",
         "y": 0.99,
         "yanchor": "top"
        },
        "template": {
         "data": {
          "bar": [
           {
            "error_x": {
             "color": "#2a3f5f"
            },
            "error_y": {
             "color": "#2a3f5f"
            },
            "marker": {
             "line": {
              "color": "#E5ECF6",
              "width": 0.5
             },
             "pattern": {
              "fillmode": "overlay",
              "size": 10,
              "solidity": 0.2
             }
            },
            "type": "bar"
           }
          ],
          "barpolar": [
           {
            "marker": {
             "line": {
              "color": "#E5ECF6",
              "width": 0.5
             },
             "pattern": {
              "fillmode": "overlay",
              "size": 10,
              "solidity": 0.2
             }
            },
            "type": "barpolar"
           }
          ],
          "carpet": [
           {
            "aaxis": {
             "endlinecolor": "#2a3f5f",
             "gridcolor": "white",
             "linecolor": "white",
             "minorgridcolor": "white",
             "startlinecolor": "#2a3f5f"
            },
            "baxis": {
             "endlinecolor": "#2a3f5f",
             "gridcolor": "white",
             "linecolor": "white",
             "minorgridcolor": "white",
             "startlinecolor": "#2a3f5f"
            },
            "type": "carpet"
           }
          ],
          "choropleth": [
           {
            "colorbar": {
             "outlinewidth": 0,
             "ticks": ""
            },
            "type": "choropleth"
           }
          ],
          "contour": [
           {
            "colorbar": {
             "outlinewidth": 0,
             "ticks": ""
            },
            "colorscale": [
             [
              0,
              "#0d0887"
             ],
             [
              0.1111111111111111,
              "#46039f"
             ],
             [
              0.2222222222222222,
              "#7201a8"
             ],
             [
              0.3333333333333333,
              "#9c179e"
             ],
             [
              0.4444444444444444,
              "#bd3786"
             ],
             [
              0.5555555555555556,
              "#d8576b"
             ],
             [
              0.6666666666666666,
              "#ed7953"
             ],
             [
              0.7777777777777778,
              "#fb9f3a"
             ],
             [
              0.8888888888888888,
              "#fdca26"
             ],
             [
              1,
              "#f0f921"
             ]
            ],
            "type": "contour"
           }
          ],
          "contourcarpet": [
           {
            "colorbar": {
             "outlinewidth": 0,
             "ticks": ""
            },
            "type": "contourcarpet"
           }
          ],
          "heatmap": [
           {
            "colorbar": {
             "outlinewidth": 0,
             "ticks": ""
            },
            "colorscale": [
             [
              0,
              "#0d0887"
             ],
             [
              0.1111111111111111,
              "#46039f"
             ],
             [
              0.2222222222222222,
              "#7201a8"
             ],
             [
              0.3333333333333333,
              "#9c179e"
             ],
             [
              0.4444444444444444,
              "#bd3786"
             ],
             [
              0.5555555555555556,
              "#d8576b"
             ],
             [
              0.6666666666666666,
              "#ed7953"
             ],
             [
              0.7777777777777778,
              "#fb9f3a"
             ],
             [
              0.8888888888888888,
              "#fdca26"
             ],
             [
              1,
              "#f0f921"
             ]
            ],
            "type": "heatmap"
           }
          ],
          "heatmapgl": [
           {
            "colorbar": {
             "outlinewidth": 0,
             "ticks": ""
            },
            "colorscale": [
             [
              0,
              "#0d0887"
             ],
             [
              0.1111111111111111,
              "#46039f"
             ],
             [
              0.2222222222222222,
              "#7201a8"
             ],
             [
              0.3333333333333333,
              "#9c179e"
             ],
             [
              0.4444444444444444,
              "#bd3786"
             ],
             [
              0.5555555555555556,
              "#d8576b"
             ],
             [
              0.6666666666666666,
              "#ed7953"
             ],
             [
              0.7777777777777778,
              "#fb9f3a"
             ],
             [
              0.8888888888888888,
              "#fdca26"
             ],
             [
              1,
              "#f0f921"
             ]
            ],
            "type": "heatmapgl"
           }
          ],
          "histogram": [
           {
            "marker": {
             "pattern": {
              "fillmode": "overlay",
              "size": 10,
              "solidity": 0.2
             }
            },
            "type": "histogram"
           }
          ],
          "histogram2d": [
           {
            "colorbar": {
             "outlinewidth": 0,
             "ticks": ""
            },
            "colorscale": [
             [
              0,
              "#0d0887"
             ],
             [
              0.1111111111111111,
              "#46039f"
             ],
             [
              0.2222222222222222,
              "#7201a8"
             ],
             [
              0.3333333333333333,
              "#9c179e"
             ],
             [
              0.4444444444444444,
              "#bd3786"
             ],
             [
              0.5555555555555556,
              "#d8576b"
             ],
             [
              0.6666666666666666,
              "#ed7953"
             ],
             [
              0.7777777777777778,
              "#fb9f3a"
             ],
             [
              0.8888888888888888,
              "#fdca26"
             ],
             [
              1,
              "#f0f921"
             ]
            ],
            "type": "histogram2d"
           }
          ],
          "histogram2dcontour": [
           {
            "colorbar": {
             "outlinewidth": 0,
             "ticks": ""
            },
            "colorscale": [
             [
              0,
              "#0d0887"
             ],
             [
              0.1111111111111111,
              "#46039f"
             ],
             [
              0.2222222222222222,
              "#7201a8"
             ],
             [
              0.3333333333333333,
              "#9c179e"
             ],
             [
              0.4444444444444444,
              "#bd3786"
             ],
             [
              0.5555555555555556,
              "#d8576b"
             ],
             [
              0.6666666666666666,
              "#ed7953"
             ],
             [
              0.7777777777777778,
              "#fb9f3a"
             ],
             [
              0.8888888888888888,
              "#fdca26"
             ],
             [
              1,
              "#f0f921"
             ]
            ],
            "type": "histogram2dcontour"
           }
          ],
          "mesh3d": [
           {
            "colorbar": {
             "outlinewidth": 0,
             "ticks": ""
            },
            "type": "mesh3d"
           }
          ],
          "parcoords": [
           {
            "line": {
             "colorbar": {
              "outlinewidth": 0,
              "ticks": ""
             }
            },
            "type": "parcoords"
           }
          ],
          "pie": [
           {
            "automargin": true,
            "type": "pie"
           }
          ],
          "scatter": [
           {
            "fillpattern": {
             "fillmode": "overlay",
             "size": 10,
             "solidity": 0.2
            },
            "type": "scatter"
           }
          ],
          "scatter3d": [
           {
            "line": {
             "colorbar": {
              "outlinewidth": 0,
              "ticks": ""
             }
            },
            "marker": {
             "colorbar": {
              "outlinewidth": 0,
              "ticks": ""
             }
            },
            "type": "scatter3d"
           }
          ],
          "scattercarpet": [
           {
            "marker": {
             "colorbar": {
              "outlinewidth": 0,
              "ticks": ""
             }
            },
            "type": "scattercarpet"
           }
          ],
          "scattergeo": [
           {
            "marker": {
             "colorbar": {
              "outlinewidth": 0,
              "ticks": ""
             }
            },
            "type": "scattergeo"
           }
          ],
          "scattergl": [
           {
            "marker": {
             "colorbar": {
              "outlinewidth": 0,
              "ticks": ""
             }
            },
            "type": "scattergl"
           }
          ],
          "scattermapbox": [
           {
            "marker": {
             "colorbar": {
              "outlinewidth": 0,
              "ticks": ""
             }
            },
            "type": "scattermapbox"
           }
          ],
          "scatterpolar": [
           {
            "marker": {
             "colorbar": {
              "outlinewidth": 0,
              "ticks": ""
             }
            },
            "type": "scatterpolar"
           }
          ],
          "scatterpolargl": [
           {
            "marker": {
             "colorbar": {
              "outlinewidth": 0,
              "ticks": ""
             }
            },
            "type": "scatterpolargl"
           }
          ],
          "scatterternary": [
           {
            "marker": {
             "colorbar": {
              "outlinewidth": 0,
              "ticks": ""
             }
            },
            "type": "scatterternary"
           }
          ],
          "surface": [
           {
            "colorbar": {
             "outlinewidth": 0,
             "ticks": ""
            },
            "colorscale": [
             [
              0,
              "#0d0887"
             ],
             [
              0.1111111111111111,
              "#46039f"
             ],
             [
              0.2222222222222222,
              "#7201a8"
             ],
             [
              0.3333333333333333,
              "#9c179e"
             ],
             [
              0.4444444444444444,
              "#bd3786"
             ],
             [
              0.5555555555555556,
              "#d8576b"
             ],
             [
              0.6666666666666666,
              "#ed7953"
             ],
             [
              0.7777777777777778,
              "#fb9f3a"
             ],
             [
              0.8888888888888888,
              "#fdca26"
             ],
             [
              1,
              "#f0f921"
             ]
            ],
            "type": "surface"
           }
          ],
          "table": [
           {
            "cells": {
             "fill": {
              "color": "#EBF0F8"
             },
             "line": {
              "color": "white"
             }
            },
            "header": {
             "fill": {
              "color": "#C8D4E3"
             },
             "line": {
              "color": "white"
             }
            },
            "type": "table"
           }
          ]
         },
         "layout": {
          "annotationdefaults": {
           "arrowcolor": "#2a3f5f",
           "arrowhead": 0,
           "arrowwidth": 1
          },
          "autotypenumbers": "strict",
          "coloraxis": {
           "colorbar": {
            "outlinewidth": 0,
            "ticks": ""
           }
          },
          "colorscale": {
           "diverging": [
            [
             0,
             "#8e0152"
            ],
            [
             0.1,
             "#c51b7d"
            ],
            [
             0.2,
             "#de77ae"
            ],
            [
             0.3,
             "#f1b6da"
            ],
            [
             0.4,
             "#fde0ef"
            ],
            [
             0.5,
             "#f7f7f7"
            ],
            [
             0.6,
             "#e6f5d0"
            ],
            [
             0.7,
             "#b8e186"
            ],
            [
             0.8,
             "#7fbc41"
            ],
            [
             0.9,
             "#4d9221"
            ],
            [
             1,
             "#276419"
            ]
           ],
           "sequential": [
            [
             0,
             "#0d0887"
            ],
            [
             0.1111111111111111,
             "#46039f"
            ],
            [
             0.2222222222222222,
             "#7201a8"
            ],
            [
             0.3333333333333333,
             "#9c179e"
            ],
            [
             0.4444444444444444,
             "#bd3786"
            ],
            [
             0.5555555555555556,
             "#d8576b"
            ],
            [
             0.6666666666666666,
             "#ed7953"
            ],
            [
             0.7777777777777778,
             "#fb9f3a"
            ],
            [
             0.8888888888888888,
             "#fdca26"
            ],
            [
             1,
             "#f0f921"
            ]
           ],
           "sequentialminus": [
            [
             0,
             "#0d0887"
            ],
            [
             0.1111111111111111,
             "#46039f"
            ],
            [
             0.2222222222222222,
             "#7201a8"
            ],
            [
             0.3333333333333333,
             "#9c179e"
            ],
            [
             0.4444444444444444,
             "#bd3786"
            ],
            [
             0.5555555555555556,
             "#d8576b"
            ],
            [
             0.6666666666666666,
             "#ed7953"
            ],
            [
             0.7777777777777778,
             "#fb9f3a"
            ],
            [
             0.8888888888888888,
             "#fdca26"
            ],
            [
             1,
             "#f0f921"
            ]
           ]
          },
          "colorway": [
           "#636efa",
           "#EF553B",
           "#00cc96",
           "#ab63fa",
           "#FFA15A",
           "#19d3f3",
           "#FF6692",
           "#B6E880",
           "#FF97FF",
           "#FECB52"
          ],
          "font": {
           "color": "#2a3f5f"
          },
          "geo": {
           "bgcolor": "white",
           "lakecolor": "white",
           "landcolor": "#E5ECF6",
           "showlakes": true,
           "showland": true,
           "subunitcolor": "white"
          },
          "hoverlabel": {
           "align": "left"
          },
          "hovermode": "closest",
          "mapbox": {
           "style": "light"
          },
          "paper_bgcolor": "white",
          "plot_bgcolor": "#E5ECF6",
          "polar": {
           "angularaxis": {
            "gridcolor": "white",
            "linecolor": "white",
            "ticks": ""
           },
           "bgcolor": "#E5ECF6",
           "radialaxis": {
            "gridcolor": "white",
            "linecolor": "white",
            "ticks": ""
           }
          },
          "scene": {
           "xaxis": {
            "backgroundcolor": "#E5ECF6",
            "gridcolor": "white",
            "gridwidth": 2,
            "linecolor": "white",
            "showbackground": true,
            "ticks": "",
            "zerolinecolor": "white"
           },
           "yaxis": {
            "backgroundcolor": "#E5ECF6",
            "gridcolor": "white",
            "gridwidth": 2,
            "linecolor": "white",
            "showbackground": true,
            "ticks": "",
            "zerolinecolor": "white"
           },
           "zaxis": {
            "backgroundcolor": "#E5ECF6",
            "gridcolor": "white",
            "gridwidth": 2,
            "linecolor": "white",
            "showbackground": true,
            "ticks": "",
            "zerolinecolor": "white"
           }
          },
          "shapedefaults": {
           "line": {
            "color": "#2a3f5f"
           }
          },
          "ternary": {
           "aaxis": {
            "gridcolor": "white",
            "linecolor": "white",
            "ticks": ""
           },
           "baxis": {
            "gridcolor": "white",
            "linecolor": "white",
            "ticks": ""
           },
           "bgcolor": "#E5ECF6",
           "caxis": {
            "gridcolor": "white",
            "linecolor": "white",
            "ticks": ""
           }
          },
          "title": {
           "x": 0.05
          },
          "xaxis": {
           "automargin": true,
           "gridcolor": "white",
           "linecolor": "white",
           "ticks": "",
           "title": {
            "standoff": 15
           },
           "zerolinecolor": "white",
           "zerolinewidth": 2
          },
          "yaxis": {
           "automargin": true,
           "gridcolor": "white",
           "linecolor": "white",
           "ticks": "",
           "title": {
            "standoff": 15
           },
           "zerolinecolor": "white",
           "zerolinewidth": 2
          }
         }
        }
       }
      }
     },
     "metadata": {},
     "output_type": "display_data"
    }
   ],
   "source": [
    "with open('results.json') as f:\n",
    "    data = json.load(f)\n",
    "f.close()\n",
    "\n",
    "num_params, hidden_dim, num_layers, intrinsic_dim = [], [], [], []\n",
    "for k,v in data.items():\n",
    "    if v['validation_accuracy'] >= 0.9:\n",
    "        num_params.append(v['number_parameter'])\n",
    "        hidden_dim.append(v['hidden_dimension'])\n",
    "        num_layers.append(v['number_layers'] + 1)\n",
    "        intrinsic_dim.append(v['intrinsic_dimension'])\n",
    "\n",
    "sizeref = max(hidden_dim)/(30**2)\n",
    "\n",
    "fig = go.Figure()\n",
    "\n",
    "fig.add_trace(go.Scatter(\n",
    "    x=num_params,\n",
    "    y=intrinsic_dim,\n",
    "    mode='markers',\n",
    "    marker=dict(\n",
    "        color=num_layers, size=hidden_dim,\n",
    "        sizemode = 'area', sizeref=sizeref,\n",
    "        sizemin=2, showscale = True\n",
    "        ),\n",
    "#    error_y=dict(\n",
    "#            type='data', # value of error bar given in data coordinates\n",
    "#            array=[1, 2, 3, 4, 5],\n",
    "#            visible=True),\n",
    "))\n",
    "\n",
    "fig.update_layout(\n",
    "    legend=dict(\n",
    "        yanchor=\"top\",\n",
    "        y=0.99,\n",
    "        xanchor=\"left\",\n",
    "        x=0.01,\n",
    "        )\n",
    "    )\n",
    "\n",
    "fig.show()"
   ]
  },
  {
   "cell_type": "code",
   "execution_count": 43,
   "metadata": {},
   "outputs": [
    {
     "name": "stdout",
     "output_type": "stream",
     "text": [
      "torch.Size([1000])\n"
     ]
    },
    {
     "data": {
      "application/vnd.plotly.v1+json": {
       "config": {
        "plotlyServerURL": "https://plot.ly"
       },
       "data": [
        {
         "type": "scatter",
         "x": [
          0,
          1,
          2,
          3,
          4,
          5,
          6,
          7,
          8,
          9,
          10,
          11,
          12,
          13,
          14,
          15,
          16,
          17,
          18,
          19,
          20,
          21,
          22,
          23,
          24,
          25,
          26,
          27,
          28,
          29,
          30,
          31,
          32,
          33,
          34,
          35,
          36,
          37,
          38,
          39,
          40,
          41,
          42,
          43,
          44,
          45,
          46,
          47,
          48,
          49,
          50,
          51,
          52,
          53,
          54,
          55,
          56,
          57,
          58,
          59,
          60,
          61,
          62,
          63,
          64,
          65,
          66,
          67,
          68,
          69,
          70,
          71,
          72,
          73,
          74,
          75,
          76,
          77,
          78,
          79,
          80,
          81,
          82,
          83,
          84,
          85,
          86,
          87,
          88,
          89,
          90,
          91,
          92,
          93,
          94,
          95,
          96,
          97,
          98,
          99,
          100,
          101,
          102,
          103,
          104,
          105,
          106,
          107,
          108,
          109,
          110,
          111,
          112,
          113,
          114,
          115,
          116,
          117,
          118,
          119,
          120,
          121,
          122,
          123,
          124,
          125,
          126,
          127,
          128,
          129,
          130,
          131,
          132,
          133,
          134,
          135,
          136,
          137,
          138,
          139,
          140,
          141,
          142,
          143,
          144,
          145,
          146,
          147,
          148,
          149,
          150,
          151,
          152,
          153,
          154,
          155,
          156,
          157,
          158,
          159,
          160,
          161,
          162,
          163,
          164,
          165,
          166,
          167,
          168,
          169,
          170,
          171,
          172,
          173,
          174,
          175,
          176,
          177,
          178,
          179,
          180,
          181,
          182,
          183,
          184,
          185,
          186,
          187,
          188,
          189,
          190,
          191,
          192,
          193,
          194,
          195,
          196,
          197,
          198,
          199,
          200,
          201,
          202,
          203,
          204,
          205,
          206,
          207,
          208,
          209,
          210,
          211,
          212,
          213,
          214,
          215,
          216,
          217,
          218,
          219,
          220,
          221,
          222,
          223,
          224,
          225,
          226,
          227,
          228,
          229,
          230,
          231,
          232,
          233,
          234,
          235,
          236,
          237,
          238,
          239,
          240,
          241,
          242,
          243,
          244,
          245,
          246,
          247,
          248,
          249,
          250,
          251,
          252,
          253,
          254,
          255,
          256,
          257,
          258,
          259,
          260,
          261,
          262,
          263,
          264,
          265,
          266,
          267,
          268,
          269,
          270,
          271,
          272,
          273,
          274,
          275,
          276,
          277,
          278,
          279,
          280,
          281,
          282,
          283,
          284,
          285,
          286,
          287,
          288,
          289,
          290,
          291,
          292,
          293,
          294,
          295,
          296,
          297,
          298,
          299,
          300,
          301,
          302,
          303,
          304,
          305,
          306,
          307,
          308,
          309,
          310,
          311,
          312,
          313,
          314,
          315,
          316,
          317,
          318,
          319,
          320,
          321,
          322,
          323,
          324,
          325,
          326,
          327,
          328,
          329,
          330,
          331,
          332,
          333,
          334,
          335,
          336,
          337,
          338,
          339,
          340,
          341,
          342,
          343,
          344,
          345,
          346,
          347,
          348,
          349,
          350,
          351,
          352,
          353,
          354,
          355,
          356,
          357,
          358,
          359,
          360,
          361,
          362,
          363,
          364,
          365,
          366,
          367,
          368,
          369,
          370,
          371,
          372,
          373,
          374,
          375,
          376,
          377,
          378,
          379,
          380,
          381,
          382,
          383,
          384,
          385,
          386,
          387,
          388,
          389,
          390,
          391,
          392,
          393,
          394,
          395,
          396,
          397,
          398,
          399,
          400,
          401,
          402,
          403,
          404,
          405,
          406,
          407,
          408,
          409,
          410,
          411,
          412,
          413,
          414,
          415,
          416,
          417,
          418,
          419,
          420,
          421,
          422,
          423,
          424,
          425,
          426,
          427,
          428,
          429,
          430,
          431,
          432,
          433,
          434,
          435,
          436,
          437,
          438,
          439,
          440,
          441,
          442,
          443,
          444,
          445,
          446,
          447,
          448,
          449,
          450,
          451,
          452,
          453,
          454,
          455,
          456,
          457,
          458,
          459,
          460,
          461,
          462,
          463,
          464,
          465,
          466,
          467,
          468,
          469,
          470,
          471,
          472,
          473,
          474,
          475,
          476,
          477,
          478,
          479,
          480,
          481,
          482,
          483,
          484,
          485,
          486,
          487,
          488,
          489,
          490,
          491,
          492,
          493,
          494,
          495,
          496,
          497,
          498,
          499,
          500,
          501,
          502,
          503,
          504,
          505,
          506,
          507,
          508,
          509,
          510,
          511,
          512,
          513,
          514,
          515,
          516,
          517,
          518,
          519,
          520,
          521,
          522,
          523,
          524,
          525,
          526,
          527,
          528,
          529,
          530,
          531,
          532,
          533,
          534,
          535,
          536,
          537,
          538,
          539,
          540,
          541,
          542,
          543,
          544,
          545,
          546,
          547,
          548,
          549,
          550,
          551,
          552,
          553,
          554,
          555,
          556,
          557,
          558,
          559,
          560,
          561,
          562,
          563,
          564,
          565,
          566,
          567,
          568,
          569,
          570,
          571,
          572,
          573,
          574,
          575,
          576,
          577,
          578,
          579,
          580,
          581,
          582,
          583,
          584,
          585,
          586,
          587,
          588,
          589,
          590,
          591,
          592,
          593,
          594,
          595,
          596,
          597,
          598,
          599,
          600,
          601,
          602,
          603,
          604,
          605,
          606,
          607,
          608,
          609,
          610,
          611,
          612,
          613,
          614,
          615,
          616,
          617,
          618,
          619,
          620,
          621,
          622,
          623,
          624,
          625,
          626,
          627,
          628,
          629,
          630,
          631,
          632,
          633,
          634,
          635,
          636,
          637,
          638,
          639,
          640,
          641,
          642,
          643,
          644,
          645,
          646,
          647,
          648,
          649,
          650,
          651,
          652,
          653,
          654,
          655,
          656,
          657,
          658,
          659,
          660,
          661,
          662,
          663,
          664,
          665,
          666,
          667,
          668,
          669,
          670,
          671,
          672,
          673,
          674,
          675,
          676,
          677,
          678,
          679,
          680,
          681,
          682,
          683,
          684,
          685,
          686,
          687,
          688,
          689,
          690,
          691,
          692,
          693,
          694,
          695,
          696,
          697,
          698,
          699,
          700,
          701,
          702,
          703,
          704,
          705,
          706,
          707,
          708,
          709,
          710,
          711,
          712,
          713,
          714,
          715,
          716,
          717,
          718,
          719,
          720,
          721,
          722,
          723,
          724,
          725,
          726,
          727,
          728,
          729,
          730,
          731,
          732,
          733,
          734,
          735,
          736,
          737,
          738,
          739,
          740,
          741,
          742,
          743,
          744,
          745,
          746,
          747,
          748,
          749,
          750,
          751,
          752,
          753,
          754,
          755,
          756,
          757,
          758,
          759,
          760,
          761,
          762,
          763,
          764,
          765,
          766,
          767,
          768,
          769,
          770,
          771,
          772,
          773,
          774,
          775,
          776,
          777,
          778,
          779,
          780,
          781,
          782,
          783,
          784,
          785,
          786,
          787,
          788,
          789,
          790,
          791,
          792,
          793,
          794,
          795,
          796,
          797,
          798,
          799,
          800,
          801,
          802,
          803,
          804,
          805,
          806,
          807,
          808,
          809,
          810,
          811,
          812,
          813,
          814,
          815,
          816,
          817,
          818,
          819,
          820,
          821,
          822,
          823,
          824,
          825,
          826,
          827,
          828,
          829,
          830,
          831,
          832,
          833,
          834,
          835,
          836,
          837,
          838,
          839,
          840,
          841,
          842,
          843,
          844,
          845,
          846,
          847,
          848,
          849,
          850,
          851,
          852,
          853,
          854,
          855,
          856,
          857,
          858,
          859,
          860,
          861,
          862,
          863,
          864,
          865,
          866,
          867,
          868,
          869,
          870,
          871,
          872,
          873,
          874,
          875,
          876,
          877,
          878,
          879,
          880,
          881,
          882,
          883,
          884,
          885,
          886,
          887,
          888,
          889,
          890,
          891,
          892,
          893,
          894,
          895,
          896,
          897,
          898,
          899,
          900,
          901,
          902,
          903,
          904,
          905,
          906,
          907,
          908,
          909,
          910,
          911,
          912,
          913,
          914,
          915,
          916,
          917,
          918,
          919,
          920,
          921,
          922,
          923,
          924,
          925,
          926,
          927,
          928,
          929,
          930,
          931,
          932,
          933,
          934,
          935,
          936,
          937,
          938,
          939,
          940,
          941,
          942,
          943,
          944,
          945,
          946,
          947,
          948,
          949,
          950,
          951,
          952,
          953,
          954,
          955,
          956,
          957,
          958,
          959,
          960,
          961,
          962,
          963,
          964,
          965,
          966,
          967,
          968,
          969,
          970,
          971,
          972,
          973,
          974,
          975,
          976,
          977,
          978,
          979,
          980,
          981,
          982,
          983,
          984,
          985,
          986,
          987,
          988,
          989,
          990,
          991,
          992,
          993,
          994,
          995,
          996,
          997,
          998,
          999
         ],
         "y": [
          -0.4928969144821167,
          -0.4546167850494385,
          -0.44063153862953186,
          -0.4269331991672516,
          -0.41215428709983826,
          -0.41062772274017334,
          -0.4004601836204529,
          -0.39247894287109375,
          -0.3741663992404938,
          -0.37173303961753845,
          -0.3631850481033325,
          -0.3626680374145508,
          -0.36050310730934143,
          -0.3589608073234558,
          -0.35565996170043945,
          -0.3449787497520447,
          -0.34155797958374023,
          -0.3359088897705078,
          -0.33257728815078735,
          -0.3285882771015167,
          -0.31796109676361084,
          -0.31796035170555115,
          -0.3167058229446411,
          -0.3166362941265106,
          -0.3141760528087616,
          -0.31317567825317383,
          -0.311600923538208,
          -0.3091525733470917,
          -0.308022677898407,
          -0.3073771595954895,
          -0.3071645200252533,
          -0.30711016058921814,
          -0.3033351004123688,
          -0.30284395813941956,
          -0.29505491256713867,
          -0.2948383390903473,
          -0.29446348547935486,
          -0.2944212257862091,
          -0.2925894558429718,
          -0.2905999422073364,
          -0.28258535265922546,
          -0.2811239957809448,
          -0.27891549468040466,
          -0.27882108092308044,
          -0.27508479356765747,
          -0.274326890707016,
          -0.27214035391807556,
          -0.2698531746864319,
          -0.2695370614528656,
          -0.26940834522247314,
          -0.2685076594352722,
          -0.2631587088108063,
          -0.26266369223594666,
          -0.26200395822525024,
          -0.26148563623428345,
          -0.25971171259880066,
          -0.25957125425338745,
          -0.2582527697086334,
          -0.256904274225235,
          -0.2560785114765167,
          -0.25333714485168457,
          -0.24981689453125,
          -0.24978916347026825,
          -0.24841825664043427,
          -0.24729163944721222,
          -0.2472771853208542,
          -0.24661865830421448,
          -0.24479523301124573,
          -0.24322789907455444,
          -0.24196162819862366,
          -0.24036119878292084,
          -0.23791895806789398,
          -0.23687607049942017,
          -0.23487381637096405,
          -0.23452860116958618,
          -0.23212362825870514,
          -0.2315559983253479,
          -0.23112459480762482,
          -0.22627213597297668,
          -0.22510622441768646,
          -0.22394788265228271,
          -0.2232607901096344,
          -0.2213555872440338,
          -0.22016510367393494,
          -0.2198909968137741,
          -0.21947599947452545,
          -0.2183557152748108,
          -0.2176627814769745,
          -0.21575896441936493,
          -0.21257701516151428,
          -0.21187667548656464,
          -0.2111348807811737,
          -0.21057888865470886,
          -0.20923227071762085,
          -0.2077820897102356,
          -0.2052011340856552,
          -0.20486922562122345,
          -0.20486219227313995,
          -0.20428036153316498,
          -0.20377704501152039,
          -0.20374412834644318,
          -0.2034924477338791,
          -0.2031603306531906,
          -0.20272938907146454,
          -0.20129746198654175,
          -0.20020237565040588,
          -0.19952274858951569,
          -0.19739149510860443,
          -0.1970156580209732,
          -0.1945725381374359,
          -0.19402793049812317,
          -0.19326476752758026,
          -0.19291485846042633,
          -0.19269594550132751,
          -0.19255143404006958,
          -0.19253073632717133,
          -0.1924581676721573,
          -0.19197939336299896,
          -0.1913316696882248,
          -0.19050322473049164,
          -0.19015717506408691,
          -0.18859344720840454,
          -0.18849904835224152,
          -0.18643738329410553,
          -0.18543174862861633,
          -0.18465463817119598,
          -0.18435664474964142,
          -0.18395105004310608,
          -0.1827152818441391,
          -0.18165592849254608,
          -0.18102774024009705,
          -0.17930997908115387,
          -0.17896832525730133,
          -0.1786336749792099,
          -0.17743492126464844,
          -0.17717555165290833,
          -0.17705877125263214,
          -0.17700445652008057,
          -0.175805002450943,
          -0.17532603442668915,
          -0.17490063607692719,
          -0.17386838793754578,
          -0.17199699580669403,
          -0.1713375300168991,
          -0.17015084624290466,
          -0.16999845206737518,
          -0.169406920671463,
          -0.1669662445783615,
          -0.16676536202430725,
          -0.166232168674469,
          -0.16550500690937042,
          -0.165263831615448,
          -0.1651357114315033,
          -0.16408343613147736,
          -0.1640690118074417,
          -0.16326968371868134,
          -0.16247883439064026,
          -0.16198445856571198,
          -0.1613747775554657,
          -0.16103467345237732,
          -0.1610167771577835,
          -0.16082881391048431,
          -0.16028520464897156,
          -0.15995852649211884,
          -0.15837068855762482,
          -0.1578310877084732,
          -0.1571701169013977,
          -0.15701346099376678,
          -0.1563224047422409,
          -0.15565769374370575,
          -0.15528380870819092,
          -0.15514840185642242,
          -0.1545807272195816,
          -0.15329425036907196,
          -0.15322020649909973,
          -0.15293411910533905,
          -0.15018346905708313,
          -0.15017069876194,
          -0.1499827355146408,
          -0.14969703555107117,
          -0.1495271772146225,
          -0.14816689491271973,
          -0.14776873588562012,
          -0.1468016803264618,
          -0.1448805332183838,
          -0.14475834369659424,
          -0.14425364136695862,
          -0.1439777910709381,
          -0.1414012312889099,
          -0.14082610607147217,
          -0.13968458771705627,
          -0.13950371742248535,
          -0.13856753706932068,
          -0.13810181617736816,
          -0.13807934522628784,
          -0.1380261778831482,
          -0.13798952102661133,
          -0.1366831511259079,
          -0.13639651238918304,
          -0.13558520376682281,
          -0.13548707962036133,
          -0.13411834836006165,
          -0.13407687842845917,
          -0.1337178349494934,
          -0.1334976851940155,
          -0.1332811713218689,
          -0.13269434869289398,
          -0.13223209977149963,
          -0.13212795555591583,
          -0.13072635233402252,
          -0.13057005405426025,
          -0.13000112771987915,
          -0.12875238060951233,
          -0.1285732090473175,
          -0.1283935159444809,
          -0.12664750218391418,
          -0.1265205442905426,
          -0.1261856108903885,
          -0.12547168135643005,
          -0.12535330653190613,
          -0.12462020665407181,
          -0.12393204122781754,
          -0.12365400791168213,
          -0.1215207576751709,
          -0.12145886570215225,
          -0.1211804673075676,
          -0.12104376405477524,
          -0.1207391768693924,
          -0.12062563747167587,
          -0.11939065158367157,
          -0.118967704474926,
          -0.11881982535123825,
          -0.11826713383197784,
          -0.117498978972435,
          -0.11739743500947952,
          -0.11632335186004639,
          -0.11616717278957367,
          -0.11532317101955414,
          -0.11463303118944168,
          -0.11416002362966537,
          -0.11314055323600769,
          -0.11291106790304184,
          -0.11221068352460861,
          -0.11211231350898743,
          -0.11172378063201904,
          -0.110442616045475,
          -0.10991993546485901,
          -0.10963918268680573,
          -0.1095573827624321,
          -0.10901203006505966,
          -0.10897635668516159,
          -0.10873030871152878,
          -0.10798000544309616,
          -0.10781195759773254,
          -0.1073807030916214,
          -0.10703916847705841,
          -0.10585309565067291,
          -0.10545926541090012,
          -0.10527310520410538,
          -0.10382077097892761,
          -0.10370093584060669,
          -0.10264500975608826,
          -0.10226164758205414,
          -0.10200890898704529,
          -0.10174667090177536,
          -0.10162083059549332,
          -0.1012982428073883,
          -0.10126005113124847,
          -0.10062017291784286,
          -0.10055291652679443,
          -0.1004767119884491,
          -0.1002611368894577,
          -0.10008417814970016,
          -0.0995289608836174,
          -0.09936295449733734,
          -0.09921113401651382,
          -0.09885141998529434,
          -0.09863444417715073,
          -0.09695138037204742,
          -0.09582653641700745,
          -0.09581370651721954,
          -0.0954475998878479,
          -0.09520844370126724,
          -0.09408888220787048,
          -0.0940864309668541,
          -0.09341749548912048,
          -0.09279554337263107,
          -0.09263785183429718,
          -0.09246177226305008,
          -0.09182936698198318,
          -0.09070633351802826,
          -0.09037935733795166,
          -0.08981788158416748,
          -0.08950881659984589,
          -0.08897588402032852,
          -0.08864429593086243,
          -0.08793412894010544,
          -0.08734636753797531,
          -0.08732777088880539,
          -0.08697374165058136,
          -0.08658312261104584,
          -0.08653590083122253,
          -0.08595670759677887,
          -0.08574012666940689,
          -0.08560451120138168,
          -0.08511275053024292,
          -0.0848146602511406,
          -0.08444017171859741,
          -0.08416769653558731,
          -0.08410562574863434,
          -0.08278995752334595,
          -0.08275457471609116,
          -0.08256681263446808,
          -0.08235200494527817,
          -0.08231018483638763,
          -0.0822317898273468,
          -0.08086366951465607,
          -0.07927924394607544,
          -0.07891706377267838,
          -0.07887843251228333,
          -0.0787152498960495,
          -0.07773833721876144,
          -0.07730080187320709,
          -0.07730059325695038,
          -0.07725825160741806,
          -0.07701118290424347,
          -0.07663103193044662,
          -0.076432965695858,
          -0.07630439847707748,
          -0.07629592716693878,
          -0.07591801136732101,
          -0.07541889697313309,
          -0.07526514679193497,
          -0.0750284269452095,
          -0.07493973523378372,
          -0.0745888352394104,
          -0.07457859069108963,
          -0.07410527765750885,
          -0.07291265577077866,
          -0.07255756855010986,
          -0.07245106250047684,
          -0.07219494134187698,
          -0.07209742814302444,
          -0.07172178477048874,
          -0.07156344503164291,
          -0.07067477703094482,
          -0.07032696157693863,
          -0.0693967342376709,
          -0.06877002865076065,
          -0.06861741840839386,
          -0.06851989775896072,
          -0.06851454079151154,
          -0.06841020286083221,
          -0.06835426390171051,
          -0.068064846098423,
          -0.06726747751235962,
          -0.06719593703746796,
          -0.06707050651311874,
          -0.06685758382081985,
          -0.06671623885631561,
          -0.06604959070682526,
          -0.06431087106466293,
          -0.06427330523729324,
          -0.06412902474403381,
          -0.062661312520504,
          -0.061455730348825455,
          -0.060782402753829956,
          -0.060240648686885834,
          -0.06015393137931824,
          -0.059853874146938324,
          -0.05983034893870354,
          -0.05891013890504837,
          -0.05876012146472931,
          -0.058368608355522156,
          -0.05834262818098068,
          -0.058209456503391266,
          -0.05677716061472893,
          -0.05491496995091438,
          -0.05422341823577881,
          -0.05413369834423065,
          -0.05369098111987114,
          -0.052787721157073975,
          -0.05248842015862465,
          -0.05228478088974953,
          -0.05192560702562332,
          -0.05180976539850235,
          -0.05166568607091904,
          -0.051254112273454666,
          -0.05112895742058754,
          -0.05095236375927925,
          -0.05082274600863457,
          -0.05039893835783005,
          -0.05007094517350197,
          -0.04939797893166542,
          -0.04918258264660835,
          -0.0485287643969059,
          -0.048401787877082825,
          -0.04789571091532707,
          -0.0454200804233551,
          -0.04522623494267464,
          -0.04494089633226395,
          -0.04455979913473129,
          -0.04440923407673836,
          -0.042897917330265045,
          -0.04260314628481865,
          -0.042087458074092865,
          -0.04110495746135712,
          -0.040740516036748886,
          -0.04043802246451378,
          -0.04010971263051033,
          -0.03956994414329529,
          -0.03921970725059509,
          -0.03903082013130188,
          -0.03848779946565628,
          -0.03758782148361206,
          -0.03732328861951828,
          -0.03726113215088844,
          -0.036820098757743835,
          -0.036579377949237823,
          -0.03622572496533394,
          -0.03621538728475571,
          -0.03607533499598503,
          -0.03577607125043869,
          -0.03550682216882706,
          -0.03478819876909256,
          -0.033924054354429245,
          -0.033811796456575394,
          -0.0333048477768898,
          -0.032582901418209076,
          -0.03246176615357399,
          -0.03213770315051079,
          -0.03145119175314903,
          -0.03136948496103287,
          -0.031189966946840286,
          -0.030231138691306114,
          -0.02990763820707798,
          -0.02987053617835045,
          -0.02956072986125946,
          -0.02916327305138111,
          -0.029134975746273994,
          -0.028686190024018288,
          -0.028435761108994484,
          -0.028179170563817024,
          -0.026922671124339104,
          -0.026665696874260902,
          -0.026632746681571007,
          -0.02652396261692047,
          -0.026462402194738388,
          -0.026309173554182053,
          -0.025137506425380707,
          -0.024942483752965927,
          -0.024688387289643288,
          -0.02457081712782383,
          -0.02433105558156967,
          -0.024308979511260986,
          -0.024172356352210045,
          -0.024055583402514458,
          -0.024045079946517944,
          -0.02341819554567337,
          -0.022862089797854424,
          -0.022099465131759644,
          -0.020890099927783012,
          -0.020194560289382935,
          -0.02017558179795742,
          -0.020051676779985428,
          -0.01997223123908043,
          -0.01899624988436699,
          -0.017814889550209045,
          -0.017632143571972847,
          -0.017551688477396965,
          -0.017526688054203987,
          -0.01750364527106285,
          -0.017500702291727066,
          -0.01682085543870926,
          -0.016811726614832878,
          -0.01656220480799675,
          -0.01613781973719597,
          -0.01579945534467697,
          -0.015714872628450394,
          -0.01542642991989851,
          -0.014801419340074062,
          -0.014576850458979607,
          -0.014009406790137291,
          -0.01364991720765829,
          -0.013572903349995613,
          -0.013409296050667763,
          -0.013354351744055748,
          -0.01335084717720747,
          -0.01334127876907587,
          -0.01323981024324894,
          -0.011816156096756458,
          -0.011304862797260284,
          -0.01118499506264925,
          -0.010832066647708416,
          -0.010482002049684525,
          -0.009960555471479893,
          -0.009433988481760025,
          -0.008662723936140537,
          -0.008426557295024395,
          -0.008341668173670769,
          -0.007639193907380104,
          -0.007635859772562981,
          -0.007475212216377258,
          -0.006989144720137119,
          -0.006836520507931709,
          -0.006560077890753746,
          -0.00618179515004158,
          -0.006013205740600824,
          -0.005202701315283775,
          -0.005086502991616726,
          -0.004670510534197092,
          -0.004090578760951757,
          -0.0036971967201679945,
          -0.0019594160839915276,
          -0.0019132414599880576,
          -0.0016673560021445155,
          -0.0009541187318973243,
          -0.0007724004099145532,
          0.0009145516669377685,
          0.0015392425702884793,
          0.0018352288752794266,
          0.0019944568630307913,
          0.0020190489012748003,
          0.0023012342862784863,
          0.0023529748432338238,
          0.002731002401560545,
          0.002783501986414194,
          0.00492040766403079,
          0.005774090066552162,
          0.005927311722189188,
          0.006489446386694908,
          0.006719897501170635,
          0.007076028734445572,
          0.007091372739523649,
          0.007353791501373053,
          0.0077027827501297,
          0.007971392944455147,
          0.008376081474125385,
          0.009683729149401188,
          0.009747995994985104,
          0.009807434864342213,
          0.009879674762487411,
          0.009970220737159252,
          0.010753300972282887,
          0.010902998968958855,
          0.011206206865608692,
          0.0119410939514637,
          0.012900655157864094,
          0.01322921272367239,
          0.01331192534416914,
          0.014827342703938484,
          0.01500741858035326,
          0.015367343090474606,
          0.015456455759704113,
          0.016113562509417534,
          0.01611768640577793,
          0.016911452636122704,
          0.016930626705288887,
          0.01707470789551735,
          0.01734999194741249,
          0.017915504053235054,
          0.018159104511141777,
          0.01819269359111786,
          0.01862620748579502,
          0.019126951694488525,
          0.019715553149580956,
          0.020608607679605484,
          0.02118833176791668,
          0.021568328142166138,
          0.022642459720373154,
          0.024203216657042503,
          0.02431502379477024,
          0.02499474585056305,
          0.025888413190841675,
          0.026417182758450508,
          0.02643229067325592,
          0.026674501597881317,
          0.02683219313621521,
          0.02687634900212288,
          0.02693014033138752,
          0.026999138295650482,
          0.02709740772843361,
          0.027220413088798523,
          0.027665842324495316,
          0.02868899703025818,
          0.028962058946490288,
          0.029929224401712418,
          0.030951693654060364,
          0.030992209911346436,
          0.031148619949817657,
          0.0326036736369133,
          0.03294874355196953,
          0.03342854604125023,
          0.03360579162836075,
          0.03416867554187775,
          0.03530605137348175,
          0.035784054547548294,
          0.036606162786483765,
          0.03671973571181297,
          0.03677068650722504,
          0.03826199844479561,
          0.038288235664367676,
          0.03832290321588516,
          0.04091096669435501,
          0.0410631000995636,
          0.04140579700469971,
          0.04148876667022705,
          0.041760560125112534,
          0.041961438953876495,
          0.04246468469500542,
          0.04293682426214218,
          0.04330454394221306,
          0.044226497411727905,
          0.044349730014801025,
          0.04483771324157715,
          0.045081235468387604,
          0.04650604724884033,
          0.04742572456598282,
          0.04787483811378479,
          0.04789012297987938,
          0.047943733632564545,
          0.04862488433718681,
          0.049117833375930786,
          0.04923281446099281,
          0.04968101531267166,
          0.04980215057730675,
          0.049912746995687485,
          0.04998355731368065,
          0.05067858844995499,
          0.05135885998606682,
          0.051885344088077545,
          0.052582111209630966,
          0.05303029716014862,
          0.05370808765292168,
          0.05411596596240997,
          0.05450012534856796,
          0.05540620908141136,
          0.05566210299730301,
          0.05567210167646408,
          0.05658956617116928,
          0.056733567267656326,
          0.05693667009472847,
          0.05721859633922577,
          0.057295843958854675,
          0.05758841708302498,
          0.057807039469480515,
          0.05871746316552162,
          0.05875830724835396,
          0.058944255113601685,
          0.0592833049595356,
          0.06123578920960426,
          0.0615786537528038,
          0.062380675226449966,
          0.06242953985929489,
          0.06244339793920517,
          0.06434933841228485,
          0.06467350572347641,
          0.06479314714670181,
          0.06512465327978134,
          0.06538314372301102,
          0.06543466448783875,
          0.06718110293149948,
          0.06898047029972076,
          0.06907892972230911,
          0.06909358501434326,
          0.07003133744001389,
          0.0702892392873764,
          0.07040221989154816,
          0.07076515257358551,
          0.07114629447460175,
          0.07192356139421463,
          0.07229320704936981,
          0.07326973974704742,
          0.07349305599927902,
          0.07440190017223358,
          0.07441963255405426,
          0.07457518577575684,
          0.07458356022834778,
          0.07636407762765884,
          0.07642336189746857,
          0.07654517889022827,
          0.07688108086585999,
          0.07775546610355377,
          0.07814991474151611,
          0.0782892107963562,
          0.07885826379060745,
          0.078983835875988,
          0.07939749956130981,
          0.0809905156493187,
          0.08117590099573135,
          0.08120273798704147,
          0.081444650888443,
          0.08179353177547455,
          0.08217078447341919,
          0.08232992887496948,
          0.082442507147789,
          0.0835915058851242,
          0.08367563784122467,
          0.08391468226909637,
          0.08392313867807388,
          0.08414345979690552,
          0.08421814441680908,
          0.08422153443098068,
          0.08552657067775726,
          0.08608558773994446,
          0.08609174191951752,
          0.08639126271009445,
          0.08647503703832626,
          0.08667687326669693,
          0.08803234994411469,
          0.08896275609731674,
          0.08898971974849701,
          0.08899087458848953,
          0.09004191309213638,
          0.090120330452919,
          0.0903521403670311,
          0.09059950709342957,
          0.09062391519546509,
          0.09095442295074463,
          0.09146725386381149,
          0.09251315891742706,
          0.09306321293115616,
          0.09435413777828217,
          0.09451492875814438,
          0.0948183611035347,
          0.09514039009809494,
          0.09523364156484604,
          0.09684964269399643,
          0.09690821170806885,
          0.09715170413255692,
          0.09815143048763275,
          0.09884505718946457,
          0.09947657585144043,
          0.10012530535459518,
          0.10114818066358566,
          0.10128023475408554,
          0.10160022974014282,
          0.10165786743164062,
          0.10188154876232147,
          0.10221588611602783,
          0.10226514935493469,
          0.10227525979280472,
          0.10235997289419174,
          0.10324007272720337,
          0.1032538190484047,
          0.10451482236385345,
          0.10470893234014511,
          0.10475316643714905,
          0.10506182163953781,
          0.10523267835378647,
          0.10544655472040176,
          0.10547825694084167,
          0.10608594864606857,
          0.10648444294929504,
          0.10692345350980759,
          0.11022736132144928,
          0.11044401675462723,
          0.11205107718706131,
          0.1140037477016449,
          0.11450778692960739,
          0.11505945026874542,
          0.11544673144817352,
          0.11550496518611908,
          0.1156872808933258,
          0.11601843684911728,
          0.11708367615938187,
          0.11761091649532318,
          0.11797424405813217,
          0.11806154996156693,
          0.11896813660860062,
          0.11945746839046478,
          0.11998732388019562,
          0.12035179883241653,
          0.12221378087997437,
          0.12251626700162888,
          0.12412682920694351,
          0.12545256316661835,
          0.12611228227615356,
          0.1263463795185089,
          0.12669263780117035,
          0.1269628256559372,
          0.12722812592983246,
          0.12790437042713165,
          0.12792611122131348,
          0.12848635017871857,
          0.12859700620174408,
          0.1286342740058899,
          0.1291559934616089,
          0.12998344004154205,
          0.1308089941740036,
          0.1316148042678833,
          0.13162948191165924,
          0.13180305063724518,
          0.13228654861450195,
          0.13231955468654633,
          0.13318732380867004,
          0.13464325666427612,
          0.13472621142864227,
          0.13608047366142273,
          0.138496533036232,
          0.13869933784008026,
          0.13892337679862976,
          0.139101043343544,
          0.13939720392227173,
          0.13947439193725586,
          0.1422925442457199,
          0.14310801029205322,
          0.14403767883777618,
          0.14428117871284485,
          0.14503945410251617,
          0.14591577649116516,
          0.1462498903274536,
          0.14745289087295532,
          0.1486203372478485,
          0.14880213141441345,
          0.14902591705322266,
          0.14956782758235931,
          0.1502045840024948,
          0.15146814286708832,
          0.15212982892990112,
          0.15282534062862396,
          0.153142049908638,
          0.153526172041893,
          0.15474048256874084,
          0.1551346331834793,
          0.15519466996192932,
          0.15535466372966766,
          0.1554183065891266,
          0.15577279031276703,
          0.1559954285621643,
          0.15677973628044128,
          0.15712624788284302,
          0.15938645601272583,
          0.15949100255966187,
          0.1605992466211319,
          0.16063657402992249,
          0.1607440561056137,
          0.1611490249633789,
          0.16243162751197815,
          0.16245391964912415,
          0.16411538422107697,
          0.16428527235984802,
          0.16566714644432068,
          0.16636613011360168,
          0.16647633910179138,
          0.16807766258716583,
          0.16890250146389008,
          0.16915516555309296,
          0.1697048395872116,
          0.17089509963989258,
          0.17205710709095,
          0.1730998307466507,
          0.17319948971271515,
          0.17378093302249908,
          0.1739807277917862,
          0.17414270341396332,
          0.17414943873882294,
          0.17558728158473969,
          0.17701537907123566,
          0.17767298221588135,
          0.17806696891784668,
          0.17807073891162872,
          0.17823539674282074,
          0.17838801443576813,
          0.1785801500082016,
          0.17935574054718018,
          0.17987151443958282,
          0.18031162023544312,
          0.18090038001537323,
          0.1816515177488327,
          0.18276046216487885,
          0.1828209012746811,
          0.18339726328849792,
          0.18426546454429626,
          0.18518619239330292,
          0.18616162240505219,
          0.18676213920116425,
          0.18690526485443115,
          0.18827545642852783,
          0.1885918825864792,
          0.18946410715579987,
          0.18977627158164978,
          0.18979153037071228,
          0.19144640862941742,
          0.19166523218154907,
          0.19263342022895813,
          0.19288429617881775,
          0.19331352412700653,
          0.19381511211395264,
          0.19493235647678375,
          0.19502495229244232,
          0.19507774710655212,
          0.19582638144493103,
          0.19704636931419373,
          0.19734017550945282,
          0.19752240180969238,
          0.19784390926361084,
          0.1982198804616928,
          0.19825498759746552,
          0.1982724368572235,
          0.19853730499744415,
          0.1986405998468399,
          0.1987408846616745,
          0.19895413517951965,
          0.19900323450565338,
          0.1991710215806961,
          0.1996154487133026,
          0.20057789981365204,
          0.200760617852211,
          0.20090609788894653,
          0.20109835267066956,
          0.2011934369802475,
          0.20196539163589478,
          0.20282481610774994,
          0.20450887084007263,
          0.20585322380065918,
          0.2093185931444168,
          0.21205033361911774,
          0.21346156299114227,
          0.21386341750621796,
          0.21809153258800507,
          0.21984656155109406,
          0.22184769809246063,
          0.2231828272342682,
          0.2235860973596573,
          0.22375550866127014,
          0.22491678595542908,
          0.22513523697853088,
          0.22606346011161804,
          0.22624324262142181,
          0.226634681224823,
          0.2272958606481552,
          0.22916191816329956,
          0.2354201078414917,
          0.23592130839824677,
          0.2372133582830429,
          0.24113400280475616,
          0.24152785539627075,
          0.24334906041622162,
          0.24449332058429718,
          0.24452826380729675,
          0.24864058196544647,
          0.2506229281425476,
          0.25230661034584045,
          0.25249966979026794,
          0.2537176012992859,
          0.2540765702724457,
          0.2548621892929077,
          0.2558543384075165,
          0.25634294748306274,
          0.2588769793510437,
          0.25947344303131104,
          0.2642679512500763,
          0.2650674879550934,
          0.2665824294090271,
          0.27393242716789246,
          0.2813435196876526,
          0.2845713496208191,
          0.2860174775123596,
          0.2865374982357025,
          0.29076823592185974,
          0.29339858889579773,
          0.2984935939311981,
          0.3005041778087616,
          0.30089280009269714,
          0.30370858311653137,
          0.3053266704082489,
          0.3083038032054901,
          0.309097558259964,
          0.31002527475357056,
          0.3110522925853729,
          0.31642836332321167,
          0.3186272084712982,
          0.3205040395259857,
          0.323554128408432,
          0.32472437620162964,
          0.32673147320747375,
          0.32835596799850464,
          0.33435577154159546,
          0.3389522433280945,
          0.3410555422306061,
          0.3423841595649719,
          0.3502582907676697,
          0.35182636976242065,
          0.35236313939094543,
          0.3665900230407715,
          0.3687669634819031,
          0.3722812831401825,
          0.37625253200531006,
          0.3837291896343231,
          0.3858898878097534,
          0.38857337832450867,
          0.4156306982040405,
          0.4268825054168701,
          0.4485089182853699,
          0.450508713722229,
          0.4698818325996399,
          0.4792056977748871,
          0.5175045728683472,
          0.5822712182998657
         ]
        }
       ],
       "layout": {
        "template": {
         "data": {
          "bar": [
           {
            "error_x": {
             "color": "#2a3f5f"
            },
            "error_y": {
             "color": "#2a3f5f"
            },
            "marker": {
             "line": {
              "color": "#E5ECF6",
              "width": 0.5
             },
             "pattern": {
              "fillmode": "overlay",
              "size": 10,
              "solidity": 0.2
             }
            },
            "type": "bar"
           }
          ],
          "barpolar": [
           {
            "marker": {
             "line": {
              "color": "#E5ECF6",
              "width": 0.5
             },
             "pattern": {
              "fillmode": "overlay",
              "size": 10,
              "solidity": 0.2
             }
            },
            "type": "barpolar"
           }
          ],
          "carpet": [
           {
            "aaxis": {
             "endlinecolor": "#2a3f5f",
             "gridcolor": "white",
             "linecolor": "white",
             "minorgridcolor": "white",
             "startlinecolor": "#2a3f5f"
            },
            "baxis": {
             "endlinecolor": "#2a3f5f",
             "gridcolor": "white",
             "linecolor": "white",
             "minorgridcolor": "white",
             "startlinecolor": "#2a3f5f"
            },
            "type": "carpet"
           }
          ],
          "choropleth": [
           {
            "colorbar": {
             "outlinewidth": 0,
             "ticks": ""
            },
            "type": "choropleth"
           }
          ],
          "contour": [
           {
            "colorbar": {
             "outlinewidth": 0,
             "ticks": ""
            },
            "colorscale": [
             [
              0,
              "#0d0887"
             ],
             [
              0.1111111111111111,
              "#46039f"
             ],
             [
              0.2222222222222222,
              "#7201a8"
             ],
             [
              0.3333333333333333,
              "#9c179e"
             ],
             [
              0.4444444444444444,
              "#bd3786"
             ],
             [
              0.5555555555555556,
              "#d8576b"
             ],
             [
              0.6666666666666666,
              "#ed7953"
             ],
             [
              0.7777777777777778,
              "#fb9f3a"
             ],
             [
              0.8888888888888888,
              "#fdca26"
             ],
             [
              1,
              "#f0f921"
             ]
            ],
            "type": "contour"
           }
          ],
          "contourcarpet": [
           {
            "colorbar": {
             "outlinewidth": 0,
             "ticks": ""
            },
            "type": "contourcarpet"
           }
          ],
          "heatmap": [
           {
            "colorbar": {
             "outlinewidth": 0,
             "ticks": ""
            },
            "colorscale": [
             [
              0,
              "#0d0887"
             ],
             [
              0.1111111111111111,
              "#46039f"
             ],
             [
              0.2222222222222222,
              "#7201a8"
             ],
             [
              0.3333333333333333,
              "#9c179e"
             ],
             [
              0.4444444444444444,
              "#bd3786"
             ],
             [
              0.5555555555555556,
              "#d8576b"
             ],
             [
              0.6666666666666666,
              "#ed7953"
             ],
             [
              0.7777777777777778,
              "#fb9f3a"
             ],
             [
              0.8888888888888888,
              "#fdca26"
             ],
             [
              1,
              "#f0f921"
             ]
            ],
            "type": "heatmap"
           }
          ],
          "heatmapgl": [
           {
            "colorbar": {
             "outlinewidth": 0,
             "ticks": ""
            },
            "colorscale": [
             [
              0,
              "#0d0887"
             ],
             [
              0.1111111111111111,
              "#46039f"
             ],
             [
              0.2222222222222222,
              "#7201a8"
             ],
             [
              0.3333333333333333,
              "#9c179e"
             ],
             [
              0.4444444444444444,
              "#bd3786"
             ],
             [
              0.5555555555555556,
              "#d8576b"
             ],
             [
              0.6666666666666666,
              "#ed7953"
             ],
             [
              0.7777777777777778,
              "#fb9f3a"
             ],
             [
              0.8888888888888888,
              "#fdca26"
             ],
             [
              1,
              "#f0f921"
             ]
            ],
            "type": "heatmapgl"
           }
          ],
          "histogram": [
           {
            "marker": {
             "pattern": {
              "fillmode": "overlay",
              "size": 10,
              "solidity": 0.2
             }
            },
            "type": "histogram"
           }
          ],
          "histogram2d": [
           {
            "colorbar": {
             "outlinewidth": 0,
             "ticks": ""
            },
            "colorscale": [
             [
              0,
              "#0d0887"
             ],
             [
              0.1111111111111111,
              "#46039f"
             ],
             [
              0.2222222222222222,
              "#7201a8"
             ],
             [
              0.3333333333333333,
              "#9c179e"
             ],
             [
              0.4444444444444444,
              "#bd3786"
             ],
             [
              0.5555555555555556,
              "#d8576b"
             ],
             [
              0.6666666666666666,
              "#ed7953"
             ],
             [
              0.7777777777777778,
              "#fb9f3a"
             ],
             [
              0.8888888888888888,
              "#fdca26"
             ],
             [
              1,
              "#f0f921"
             ]
            ],
            "type": "histogram2d"
           }
          ],
          "histogram2dcontour": [
           {
            "colorbar": {
             "outlinewidth": 0,
             "ticks": ""
            },
            "colorscale": [
             [
              0,
              "#0d0887"
             ],
             [
              0.1111111111111111,
              "#46039f"
             ],
             [
              0.2222222222222222,
              "#7201a8"
             ],
             [
              0.3333333333333333,
              "#9c179e"
             ],
             [
              0.4444444444444444,
              "#bd3786"
             ],
             [
              0.5555555555555556,
              "#d8576b"
             ],
             [
              0.6666666666666666,
              "#ed7953"
             ],
             [
              0.7777777777777778,
              "#fb9f3a"
             ],
             [
              0.8888888888888888,
              "#fdca26"
             ],
             [
              1,
              "#f0f921"
             ]
            ],
            "type": "histogram2dcontour"
           }
          ],
          "mesh3d": [
           {
            "colorbar": {
             "outlinewidth": 0,
             "ticks": ""
            },
            "type": "mesh3d"
           }
          ],
          "parcoords": [
           {
            "line": {
             "colorbar": {
              "outlinewidth": 0,
              "ticks": ""
             }
            },
            "type": "parcoords"
           }
          ],
          "pie": [
           {
            "automargin": true,
            "type": "pie"
           }
          ],
          "scatter": [
           {
            "fillpattern": {
             "fillmode": "overlay",
             "size": 10,
             "solidity": 0.2
            },
            "type": "scatter"
           }
          ],
          "scatter3d": [
           {
            "line": {
             "colorbar": {
              "outlinewidth": 0,
              "ticks": ""
             }
            },
            "marker": {
             "colorbar": {
              "outlinewidth": 0,
              "ticks": ""
             }
            },
            "type": "scatter3d"
           }
          ],
          "scattercarpet": [
           {
            "marker": {
             "colorbar": {
              "outlinewidth": 0,
              "ticks": ""
             }
            },
            "type": "scattercarpet"
           }
          ],
          "scattergeo": [
           {
            "marker": {
             "colorbar": {
              "outlinewidth": 0,
              "ticks": ""
             }
            },
            "type": "scattergeo"
           }
          ],
          "scattergl": [
           {
            "marker": {
             "colorbar": {
              "outlinewidth": 0,
              "ticks": ""
             }
            },
            "type": "scattergl"
           }
          ],
          "scattermapbox": [
           {
            "marker": {
             "colorbar": {
              "outlinewidth": 0,
              "ticks": ""
             }
            },
            "type": "scattermapbox"
           }
          ],
          "scatterpolar": [
           {
            "marker": {
             "colorbar": {
              "outlinewidth": 0,
              "ticks": ""
             }
            },
            "type": "scatterpolar"
           }
          ],
          "scatterpolargl": [
           {
            "marker": {
             "colorbar": {
              "outlinewidth": 0,
              "ticks": ""
             }
            },
            "type": "scatterpolargl"
           }
          ],
          "scatterternary": [
           {
            "marker": {
             "colorbar": {
              "outlinewidth": 0,
              "ticks": ""
             }
            },
            "type": "scatterternary"
           }
          ],
          "surface": [
           {
            "colorbar": {
             "outlinewidth": 0,
             "ticks": ""
            },
            "colorscale": [
             [
              0,
              "#0d0887"
             ],
             [
              0.1111111111111111,
              "#46039f"
             ],
             [
              0.2222222222222222,
              "#7201a8"
             ],
             [
              0.3333333333333333,
              "#9c179e"
             ],
             [
              0.4444444444444444,
              "#bd3786"
             ],
             [
              0.5555555555555556,
              "#d8576b"
             ],
             [
              0.6666666666666666,
              "#ed7953"
             ],
             [
              0.7777777777777778,
              "#fb9f3a"
             ],
             [
              0.8888888888888888,
              "#fdca26"
             ],
             [
              1,
              "#f0f921"
             ]
            ],
            "type": "surface"
           }
          ],
          "table": [
           {
            "cells": {
             "fill": {
              "color": "#EBF0F8"
             },
             "line": {
              "color": "white"
             }
            },
            "header": {
             "fill": {
              "color": "#C8D4E3"
             },
             "line": {
              "color": "white"
             }
            },
            "type": "table"
           }
          ]
         },
         "layout": {
          "annotationdefaults": {
           "arrowcolor": "#2a3f5f",
           "arrowhead": 0,
           "arrowwidth": 1
          },
          "autotypenumbers": "strict",
          "coloraxis": {
           "colorbar": {
            "outlinewidth": 0,
            "ticks": ""
           }
          },
          "colorscale": {
           "diverging": [
            [
             0,
             "#8e0152"
            ],
            [
             0.1,
             "#c51b7d"
            ],
            [
             0.2,
             "#de77ae"
            ],
            [
             0.3,
             "#f1b6da"
            ],
            [
             0.4,
             "#fde0ef"
            ],
            [
             0.5,
             "#f7f7f7"
            ],
            [
             0.6,
             "#e6f5d0"
            ],
            [
             0.7,
             "#b8e186"
            ],
            [
             0.8,
             "#7fbc41"
            ],
            [
             0.9,
             "#4d9221"
            ],
            [
             1,
             "#276419"
            ]
           ],
           "sequential": [
            [
             0,
             "#0d0887"
            ],
            [
             0.1111111111111111,
             "#46039f"
            ],
            [
             0.2222222222222222,
             "#7201a8"
            ],
            [
             0.3333333333333333,
             "#9c179e"
            ],
            [
             0.4444444444444444,
             "#bd3786"
            ],
            [
             0.5555555555555556,
             "#d8576b"
            ],
            [
             0.6666666666666666,
             "#ed7953"
            ],
            [
             0.7777777777777778,
             "#fb9f3a"
            ],
            [
             0.8888888888888888,
             "#fdca26"
            ],
            [
             1,
             "#f0f921"
            ]
           ],
           "sequentialminus": [
            [
             0,
             "#0d0887"
            ],
            [
             0.1111111111111111,
             "#46039f"
            ],
            [
             0.2222222222222222,
             "#7201a8"
            ],
            [
             0.3333333333333333,
             "#9c179e"
            ],
            [
             0.4444444444444444,
             "#bd3786"
            ],
            [
             0.5555555555555556,
             "#d8576b"
            ],
            [
             0.6666666666666666,
             "#ed7953"
            ],
            [
             0.7777777777777778,
             "#fb9f3a"
            ],
            [
             0.8888888888888888,
             "#fdca26"
            ],
            [
             1,
             "#f0f921"
            ]
           ]
          },
          "colorway": [
           "#636efa",
           "#EF553B",
           "#00cc96",
           "#ab63fa",
           "#FFA15A",
           "#19d3f3",
           "#FF6692",
           "#B6E880",
           "#FF97FF",
           "#FECB52"
          ],
          "font": {
           "color": "#2a3f5f"
          },
          "geo": {
           "bgcolor": "white",
           "lakecolor": "white",
           "landcolor": "#E5ECF6",
           "showlakes": true,
           "showland": true,
           "subunitcolor": "white"
          },
          "hoverlabel": {
           "align": "left"
          },
          "hovermode": "closest",
          "mapbox": {
           "style": "light"
          },
          "paper_bgcolor": "white",
          "plot_bgcolor": "#E5ECF6",
          "polar": {
           "angularaxis": {
            "gridcolor": "white",
            "linecolor": "white",
            "ticks": ""
           },
           "bgcolor": "#E5ECF6",
           "radialaxis": {
            "gridcolor": "white",
            "linecolor": "white",
            "ticks": ""
           }
          },
          "scene": {
           "xaxis": {
            "backgroundcolor": "#E5ECF6",
            "gridcolor": "white",
            "gridwidth": 2,
            "linecolor": "white",
            "showbackground": true,
            "ticks": "",
            "zerolinecolor": "white"
           },
           "yaxis": {
            "backgroundcolor": "#E5ECF6",
            "gridcolor": "white",
            "gridwidth": 2,
            "linecolor": "white",
            "showbackground": true,
            "ticks": "",
            "zerolinecolor": "white"
           },
           "zaxis": {
            "backgroundcolor": "#E5ECF6",
            "gridcolor": "white",
            "gridwidth": 2,
            "linecolor": "white",
            "showbackground": true,
            "ticks": "",
            "zerolinecolor": "white"
           }
          },
          "shapedefaults": {
           "line": {
            "color": "#2a3f5f"
           }
          },
          "ternary": {
           "aaxis": {
            "gridcolor": "white",
            "linecolor": "white",
            "ticks": ""
           },
           "baxis": {
            "gridcolor": "white",
            "linecolor": "white",
            "ticks": ""
           },
           "bgcolor": "#E5ECF6",
           "caxis": {
            "gridcolor": "white",
            "linecolor": "white",
            "ticks": ""
           }
          },
          "title": {
           "x": 0.05
          },
          "xaxis": {
           "automargin": true,
           "gridcolor": "white",
           "linecolor": "white",
           "ticks": "",
           "title": {
            "standoff": 15
           },
           "zerolinecolor": "white",
           "zerolinewidth": 2
          },
          "yaxis": {
           "automargin": true,
           "gridcolor": "white",
           "linecolor": "white",
           "ticks": "",
           "title": {
            "standoff": 15
           },
           "zerolinecolor": "white",
           "zerolinewidth": 2
          }
         }
        }
       }
      }
     },
     "metadata": {},
     "output_type": "display_data"
    },
    {
     "name": "stdout",
     "output_type": "stream",
     "text": [
      "torch.Size([170])\n"
     ]
    },
    {
     "data": {
      "application/vnd.plotly.v1+json": {
       "config": {
        "plotlyServerURL": "https://plot.ly"
       },
       "data": [
        {
         "type": "scatter",
         "x": [
          0,
          1,
          2,
          3,
          4,
          5,
          6,
          7,
          8,
          9,
          10,
          11,
          12,
          13,
          14,
          15,
          16,
          17,
          18,
          19,
          20,
          21,
          22,
          23,
          24,
          25,
          26,
          27,
          28,
          29,
          30,
          31,
          32,
          33,
          34,
          35,
          36,
          37,
          38,
          39,
          40,
          41,
          42,
          43,
          44,
          45,
          46,
          47,
          48,
          49,
          50,
          51,
          52,
          53,
          54,
          55,
          56,
          57,
          58,
          59,
          60,
          61,
          62,
          63,
          64,
          65,
          66,
          67,
          68,
          69,
          70,
          71,
          72,
          73,
          74,
          75,
          76,
          77,
          78,
          79,
          80,
          81,
          82,
          83,
          84,
          85,
          86,
          87,
          88,
          89,
          90,
          91,
          92,
          93,
          94,
          95,
          96,
          97,
          98,
          99,
          100,
          101,
          102,
          103,
          104,
          105,
          106,
          107,
          108,
          109,
          110,
          111,
          112,
          113,
          114,
          115,
          116,
          117,
          118,
          119,
          120,
          121,
          122,
          123,
          124,
          125,
          126,
          127,
          128,
          129,
          130,
          131,
          132,
          133,
          134,
          135,
          136,
          137,
          138,
          139,
          140,
          141,
          142,
          143,
          144,
          145,
          146,
          147,
          148,
          149,
          150,
          151,
          152,
          153,
          154,
          155,
          156,
          157,
          158,
          159,
          160,
          161,
          162,
          163,
          164,
          165,
          166,
          167,
          168,
          169
         ],
         "y": [
          -0.4785362780094147,
          -0.45950689911842346,
          -0.36538705229759216,
          -0.3355206251144409,
          -0.31236615777015686,
          -0.2796188294887543,
          -0.277518630027771,
          -0.2766054570674896,
          -0.2733820676803589,
          -0.25853848457336426,
          -0.257664293050766,
          -0.25659650564193726,
          -0.24731990694999695,
          -0.24581609666347504,
          -0.24532103538513184,
          -0.24503952264785767,
          -0.23106786608695984,
          -0.23091775178909302,
          -0.2297649085521698,
          -0.22824059426784515,
          -0.22558143734931946,
          -0.22050239145755768,
          -0.20716138184070587,
          -0.19813388586044312,
          -0.1850876361131668,
          -0.16519524157047272,
          -0.16488485038280487,
          -0.1609494835138321,
          -0.15818843245506287,
          -0.15695399045944214,
          -0.15608257055282593,
          -0.15113262832164764,
          -0.14969147741794586,
          -0.14960160851478577,
          -0.14469964802265167,
          -0.1428651213645935,
          -0.14131103456020355,
          -0.13395512104034424,
          -0.13218484818935394,
          -0.1308801770210266,
          -0.12827405333518982,
          -0.12698349356651306,
          -0.12638431787490845,
          -0.11651410162448883,
          -0.1153804287314415,
          -0.11422882974147797,
          -0.1116650179028511,
          -0.10828524082899094,
          -0.10803835093975067,
          -0.10645373165607452,
          -0.10133551806211472,
          -0.09839051216840744,
          -0.09646833688020706,
          -0.08509103208780289,
          -0.08487328141927719,
          -0.08389811217784882,
          -0.08320707827806473,
          -0.08190104365348816,
          -0.0809701606631279,
          -0.07911290973424911,
          -0.07047852128744125,
          -0.06673779338598251,
          -0.06629499793052673,
          -0.06609075516462326,
          -0.06452318280935287,
          -0.0590844564139843,
          -0.05446932092308998,
          -0.05155283957719803,
          -0.050139717757701874,
          -0.04893067479133606,
          -0.04850161820650101,
          -0.04673333838582039,
          -0.043080687522888184,
          -0.04050749912858009,
          -0.04026830196380615,
          -0.03804216533899307,
          -0.030497074127197266,
          -0.02924211509525776,
          -0.024553844705224037,
          -0.024549352005124092,
          -0.024495236575603485,
          -0.01640588976442814,
          -0.012409255839884281,
          -0.0017051276518031955,
          -0.0014336927561089396,
          0.004152448382228613,
          0.007915801368653774,
          0.010373053140938282,
          0.012783228419721127,
          0.013201300986111164,
          0.014692566357553005,
          0.017711369320750237,
          0.018598690629005432,
          0.026711268350481987,
          0.029238197952508926,
          0.029255889356136322,
          0.039028119295835495,
          0.041050758212804794,
          0.042810313403606415,
          0.04329567402601242,
          0.04437263309955597,
          0.051003243774175644,
          0.05255924165248871,
          0.05439568683505058,
          0.06013874709606171,
          0.0632626935839653,
          0.06589414924383163,
          0.06757838279008865,
          0.06826948374509811,
          0.06838178634643555,
          0.07280410081148148,
          0.07885045558214188,
          0.0797041803598404,
          0.08634211122989655,
          0.09137353301048279,
          0.09430379420518875,
          0.0983777716755867,
          0.10093449801206589,
          0.1026596799492836,
          0.10890714079141617,
          0.1124543845653534,
          0.11419154703617096,
          0.11811388283967972,
          0.1182277724146843,
          0.1183614730834961,
          0.12005724757909775,
          0.12221787124872208,
          0.12546546757221222,
          0.1310405135154724,
          0.13317683339118958,
          0.13377876579761505,
          0.1344074159860611,
          0.13625742495059967,
          0.13920514285564423,
          0.14204621315002441,
          0.1437971591949463,
          0.14556150138378143,
          0.14727433025836945,
          0.1476510614156723,
          0.15763947367668152,
          0.16178447008132935,
          0.16971713304519653,
          0.17196089029312134,
          0.1834113597869873,
          0.18710944056510925,
          0.19198070466518402,
          0.19582712650299072,
          0.1996072232723236,
          0.20647379755973816,
          0.22364412248134613,
          0.22372379899024963,
          0.22892312705516815,
          0.24237681925296783,
          0.24670666456222534,
          0.25248774886131287,
          0.25401344895362854,
          0.25452810525894165,
          0.26558881998062134,
          0.26744893193244934,
          0.28343042731285095,
          0.29457393288612366,
          0.31404826045036316,
          0.33134111762046814,
          0.33631062507629395,
          0.3398702144622803,
          0.350722998380661,
          0.3564091622829437,
          0.3595602214336395,
          0.3928993344306946,
          0.40682071447372437
         ]
        }
       ],
       "layout": {
        "template": {
         "data": {
          "bar": [
           {
            "error_x": {
             "color": "#2a3f5f"
            },
            "error_y": {
             "color": "#2a3f5f"
            },
            "marker": {
             "line": {
              "color": "#E5ECF6",
              "width": 0.5
             },
             "pattern": {
              "fillmode": "overlay",
              "size": 10,
              "solidity": 0.2
             }
            },
            "type": "bar"
           }
          ],
          "barpolar": [
           {
            "marker": {
             "line": {
              "color": "#E5ECF6",
              "width": 0.5
             },
             "pattern": {
              "fillmode": "overlay",
              "size": 10,
              "solidity": 0.2
             }
            },
            "type": "barpolar"
           }
          ],
          "carpet": [
           {
            "aaxis": {
             "endlinecolor": "#2a3f5f",
             "gridcolor": "white",
             "linecolor": "white",
             "minorgridcolor": "white",
             "startlinecolor": "#2a3f5f"
            },
            "baxis": {
             "endlinecolor": "#2a3f5f",
             "gridcolor": "white",
             "linecolor": "white",
             "minorgridcolor": "white",
             "startlinecolor": "#2a3f5f"
            },
            "type": "carpet"
           }
          ],
          "choropleth": [
           {
            "colorbar": {
             "outlinewidth": 0,
             "ticks": ""
            },
            "type": "choropleth"
           }
          ],
          "contour": [
           {
            "colorbar": {
             "outlinewidth": 0,
             "ticks": ""
            },
            "colorscale": [
             [
              0,
              "#0d0887"
             ],
             [
              0.1111111111111111,
              "#46039f"
             ],
             [
              0.2222222222222222,
              "#7201a8"
             ],
             [
              0.3333333333333333,
              "#9c179e"
             ],
             [
              0.4444444444444444,
              "#bd3786"
             ],
             [
              0.5555555555555556,
              "#d8576b"
             ],
             [
              0.6666666666666666,
              "#ed7953"
             ],
             [
              0.7777777777777778,
              "#fb9f3a"
             ],
             [
              0.8888888888888888,
              "#fdca26"
             ],
             [
              1,
              "#f0f921"
             ]
            ],
            "type": "contour"
           }
          ],
          "contourcarpet": [
           {
            "colorbar": {
             "outlinewidth": 0,
             "ticks": ""
            },
            "type": "contourcarpet"
           }
          ],
          "heatmap": [
           {
            "colorbar": {
             "outlinewidth": 0,
             "ticks": ""
            },
            "colorscale": [
             [
              0,
              "#0d0887"
             ],
             [
              0.1111111111111111,
              "#46039f"
             ],
             [
              0.2222222222222222,
              "#7201a8"
             ],
             [
              0.3333333333333333,
              "#9c179e"
             ],
             [
              0.4444444444444444,
              "#bd3786"
             ],
             [
              0.5555555555555556,
              "#d8576b"
             ],
             [
              0.6666666666666666,
              "#ed7953"
             ],
             [
              0.7777777777777778,
              "#fb9f3a"
             ],
             [
              0.8888888888888888,
              "#fdca26"
             ],
             [
              1,
              "#f0f921"
             ]
            ],
            "type": "heatmap"
           }
          ],
          "heatmapgl": [
           {
            "colorbar": {
             "outlinewidth": 0,
             "ticks": ""
            },
            "colorscale": [
             [
              0,
              "#0d0887"
             ],
             [
              0.1111111111111111,
              "#46039f"
             ],
             [
              0.2222222222222222,
              "#7201a8"
             ],
             [
              0.3333333333333333,
              "#9c179e"
             ],
             [
              0.4444444444444444,
              "#bd3786"
             ],
             [
              0.5555555555555556,
              "#d8576b"
             ],
             [
              0.6666666666666666,
              "#ed7953"
             ],
             [
              0.7777777777777778,
              "#fb9f3a"
             ],
             [
              0.8888888888888888,
              "#fdca26"
             ],
             [
              1,
              "#f0f921"
             ]
            ],
            "type": "heatmapgl"
           }
          ],
          "histogram": [
           {
            "marker": {
             "pattern": {
              "fillmode": "overlay",
              "size": 10,
              "solidity": 0.2
             }
            },
            "type": "histogram"
           }
          ],
          "histogram2d": [
           {
            "colorbar": {
             "outlinewidth": 0,
             "ticks": ""
            },
            "colorscale": [
             [
              0,
              "#0d0887"
             ],
             [
              0.1111111111111111,
              "#46039f"
             ],
             [
              0.2222222222222222,
              "#7201a8"
             ],
             [
              0.3333333333333333,
              "#9c179e"
             ],
             [
              0.4444444444444444,
              "#bd3786"
             ],
             [
              0.5555555555555556,
              "#d8576b"
             ],
             [
              0.6666666666666666,
              "#ed7953"
             ],
             [
              0.7777777777777778,
              "#fb9f3a"
             ],
             [
              0.8888888888888888,
              "#fdca26"
             ],
             [
              1,
              "#f0f921"
             ]
            ],
            "type": "histogram2d"
           }
          ],
          "histogram2dcontour": [
           {
            "colorbar": {
             "outlinewidth": 0,
             "ticks": ""
            },
            "colorscale": [
             [
              0,
              "#0d0887"
             ],
             [
              0.1111111111111111,
              "#46039f"
             ],
             [
              0.2222222222222222,
              "#7201a8"
             ],
             [
              0.3333333333333333,
              "#9c179e"
             ],
             [
              0.4444444444444444,
              "#bd3786"
             ],
             [
              0.5555555555555556,
              "#d8576b"
             ],
             [
              0.6666666666666666,
              "#ed7953"
             ],
             [
              0.7777777777777778,
              "#fb9f3a"
             ],
             [
              0.8888888888888888,
              "#fdca26"
             ],
             [
              1,
              "#f0f921"
             ]
            ],
            "type": "histogram2dcontour"
           }
          ],
          "mesh3d": [
           {
            "colorbar": {
             "outlinewidth": 0,
             "ticks": ""
            },
            "type": "mesh3d"
           }
          ],
          "parcoords": [
           {
            "line": {
             "colorbar": {
              "outlinewidth": 0,
              "ticks": ""
             }
            },
            "type": "parcoords"
           }
          ],
          "pie": [
           {
            "automargin": true,
            "type": "pie"
           }
          ],
          "scatter": [
           {
            "fillpattern": {
             "fillmode": "overlay",
             "size": 10,
             "solidity": 0.2
            },
            "type": "scatter"
           }
          ],
          "scatter3d": [
           {
            "line": {
             "colorbar": {
              "outlinewidth": 0,
              "ticks": ""
             }
            },
            "marker": {
             "colorbar": {
              "outlinewidth": 0,
              "ticks": ""
             }
            },
            "type": "scatter3d"
           }
          ],
          "scattercarpet": [
           {
            "marker": {
             "colorbar": {
              "outlinewidth": 0,
              "ticks": ""
             }
            },
            "type": "scattercarpet"
           }
          ],
          "scattergeo": [
           {
            "marker": {
             "colorbar": {
              "outlinewidth": 0,
              "ticks": ""
             }
            },
            "type": "scattergeo"
           }
          ],
          "scattergl": [
           {
            "marker": {
             "colorbar": {
              "outlinewidth": 0,
              "ticks": ""
             }
            },
            "type": "scattergl"
           }
          ],
          "scattermapbox": [
           {
            "marker": {
             "colorbar": {
              "outlinewidth": 0,
              "ticks": ""
             }
            },
            "type": "scattermapbox"
           }
          ],
          "scatterpolar": [
           {
            "marker": {
             "colorbar": {
              "outlinewidth": 0,
              "ticks": ""
             }
            },
            "type": "scatterpolar"
           }
          ],
          "scatterpolargl": [
           {
            "marker": {
             "colorbar": {
              "outlinewidth": 0,
              "ticks": ""
             }
            },
            "type": "scatterpolargl"
           }
          ],
          "scatterternary": [
           {
            "marker": {
             "colorbar": {
              "outlinewidth": 0,
              "ticks": ""
             }
            },
            "type": "scatterternary"
           }
          ],
          "surface": [
           {
            "colorbar": {
             "outlinewidth": 0,
             "ticks": ""
            },
            "colorscale": [
             [
              0,
              "#0d0887"
             ],
             [
              0.1111111111111111,
              "#46039f"
             ],
             [
              0.2222222222222222,
              "#7201a8"
             ],
             [
              0.3333333333333333,
              "#9c179e"
             ],
             [
              0.4444444444444444,
              "#bd3786"
             ],
             [
              0.5555555555555556,
              "#d8576b"
             ],
             [
              0.6666666666666666,
              "#ed7953"
             ],
             [
              0.7777777777777778,
              "#fb9f3a"
             ],
             [
              0.8888888888888888,
              "#fdca26"
             ],
             [
              1,
              "#f0f921"
             ]
            ],
            "type": "surface"
           }
          ],
          "table": [
           {
            "cells": {
             "fill": {
              "color": "#EBF0F8"
             },
             "line": {
              "color": "white"
             }
            },
            "header": {
             "fill": {
              "color": "#C8D4E3"
             },
             "line": {
              "color": "white"
             }
            },
            "type": "table"
           }
          ]
         },
         "layout": {
          "annotationdefaults": {
           "arrowcolor": "#2a3f5f",
           "arrowhead": 0,
           "arrowwidth": 1
          },
          "autotypenumbers": "strict",
          "coloraxis": {
           "colorbar": {
            "outlinewidth": 0,
            "ticks": ""
           }
          },
          "colorscale": {
           "diverging": [
            [
             0,
             "#8e0152"
            ],
            [
             0.1,
             "#c51b7d"
            ],
            [
             0.2,
             "#de77ae"
            ],
            [
             0.3,
             "#f1b6da"
            ],
            [
             0.4,
             "#fde0ef"
            ],
            [
             0.5,
             "#f7f7f7"
            ],
            [
             0.6,
             "#e6f5d0"
            ],
            [
             0.7,
             "#b8e186"
            ],
            [
             0.8,
             "#7fbc41"
            ],
            [
             0.9,
             "#4d9221"
            ],
            [
             1,
             "#276419"
            ]
           ],
           "sequential": [
            [
             0,
             "#0d0887"
            ],
            [
             0.1111111111111111,
             "#46039f"
            ],
            [
             0.2222222222222222,
             "#7201a8"
            ],
            [
             0.3333333333333333,
             "#9c179e"
            ],
            [
             0.4444444444444444,
             "#bd3786"
            ],
            [
             0.5555555555555556,
             "#d8576b"
            ],
            [
             0.6666666666666666,
             "#ed7953"
            ],
            [
             0.7777777777777778,
             "#fb9f3a"
            ],
            [
             0.8888888888888888,
             "#fdca26"
            ],
            [
             1,
             "#f0f921"
            ]
           ],
           "sequentialminus": [
            [
             0,
             "#0d0887"
            ],
            [
             0.1111111111111111,
             "#46039f"
            ],
            [
             0.2222222222222222,
             "#7201a8"
            ],
            [
             0.3333333333333333,
             "#9c179e"
            ],
            [
             0.4444444444444444,
             "#bd3786"
            ],
            [
             0.5555555555555556,
             "#d8576b"
            ],
            [
             0.6666666666666666,
             "#ed7953"
            ],
            [
             0.7777777777777778,
             "#fb9f3a"
            ],
            [
             0.8888888888888888,
             "#fdca26"
            ],
            [
             1,
             "#f0f921"
            ]
           ]
          },
          "colorway": [
           "#636efa",
           "#EF553B",
           "#00cc96",
           "#ab63fa",
           "#FFA15A",
           "#19d3f3",
           "#FF6692",
           "#B6E880",
           "#FF97FF",
           "#FECB52"
          ],
          "font": {
           "color": "#2a3f5f"
          },
          "geo": {
           "bgcolor": "white",
           "lakecolor": "white",
           "landcolor": "#E5ECF6",
           "showlakes": true,
           "showland": true,
           "subunitcolor": "white"
          },
          "hoverlabel": {
           "align": "left"
          },
          "hovermode": "closest",
          "mapbox": {
           "style": "light"
          },
          "paper_bgcolor": "white",
          "plot_bgcolor": "#E5ECF6",
          "polar": {
           "angularaxis": {
            "gridcolor": "white",
            "linecolor": "white",
            "ticks": ""
           },
           "bgcolor": "#E5ECF6",
           "radialaxis": {
            "gridcolor": "white",
            "linecolor": "white",
            "ticks": ""
           }
          },
          "scene": {
           "xaxis": {
            "backgroundcolor": "#E5ECF6",
            "gridcolor": "white",
            "gridwidth": 2,
            "linecolor": "white",
            "showbackground": true,
            "ticks": "",
            "zerolinecolor": "white"
           },
           "yaxis": {
            "backgroundcolor": "#E5ECF6",
            "gridcolor": "white",
            "gridwidth": 2,
            "linecolor": "white",
            "showbackground": true,
            "ticks": "",
            "zerolinecolor": "white"
           },
           "zaxis": {
            "backgroundcolor": "#E5ECF6",
            "gridcolor": "white",
            "gridwidth": 2,
            "linecolor": "white",
            "showbackground": true,
            "ticks": "",
            "zerolinecolor": "white"
           }
          },
          "shapedefaults": {
           "line": {
            "color": "#2a3f5f"
           }
          },
          "ternary": {
           "aaxis": {
            "gridcolor": "white",
            "linecolor": "white",
            "ticks": ""
           },
           "baxis": {
            "gridcolor": "white",
            "linecolor": "white",
            "ticks": ""
           },
           "bgcolor": "#E5ECF6",
           "caxis": {
            "gridcolor": "white",
            "linecolor": "white",
            "ticks": ""
           }
          },
          "title": {
           "x": 0.05
          },
          "xaxis": {
           "automargin": true,
           "gridcolor": "white",
           "linecolor": "white",
           "ticks": "",
           "title": {
            "standoff": 15
           },
           "zerolinecolor": "white",
           "zerolinewidth": 2
          },
          "yaxis": {
           "automargin": true,
           "gridcolor": "white",
           "linecolor": "white",
           "ticks": "",
           "title": {
            "standoff": 15
           },
           "zerolinecolor": "white",
           "zerolinewidth": 2
          }
         }
        }
       }
      }
     },
     "metadata": {},
     "output_type": "display_data"
    },
    {
     "name": "stdout",
     "output_type": "stream",
     "text": [
      "torch.Size([175])\n"
     ]
    },
    {
     "data": {
      "application/vnd.plotly.v1+json": {
       "config": {
        "plotlyServerURL": "https://plot.ly"
       },
       "data": [
        {
         "type": "scatter",
         "x": [
          0,
          1,
          2,
          3,
          4,
          5,
          6,
          7,
          8,
          9,
          10,
          11,
          12,
          13,
          14,
          15,
          16,
          17,
          18,
          19,
          20,
          21,
          22,
          23,
          24,
          25,
          26,
          27,
          28,
          29,
          30,
          31,
          32,
          33,
          34,
          35,
          36,
          37,
          38,
          39,
          40,
          41,
          42,
          43,
          44,
          45,
          46,
          47,
          48,
          49,
          50,
          51,
          52,
          53,
          54,
          55,
          56,
          57,
          58,
          59,
          60,
          61,
          62,
          63,
          64,
          65,
          66,
          67,
          68,
          69,
          70,
          71,
          72,
          73,
          74,
          75,
          76,
          77,
          78,
          79,
          80,
          81,
          82,
          83,
          84,
          85,
          86,
          87,
          88,
          89,
          90,
          91,
          92,
          93,
          94,
          95,
          96,
          97,
          98,
          99,
          100,
          101,
          102,
          103,
          104,
          105,
          106,
          107,
          108,
          109,
          110,
          111,
          112,
          113,
          114,
          115,
          116,
          117,
          118,
          119,
          120,
          121,
          122,
          123,
          124,
          125,
          126,
          127,
          128,
          129,
          130,
          131,
          132,
          133,
          134,
          135,
          136,
          137,
          138,
          139,
          140,
          141,
          142,
          143,
          144,
          145,
          146,
          147,
          148,
          149,
          150,
          151,
          152,
          153,
          154,
          155,
          156,
          157,
          158,
          159,
          160,
          161,
          162,
          163,
          164,
          165,
          166,
          167,
          168,
          169,
          170,
          171,
          172,
          173,
          174
         ],
         "y": [
          -0.5968379378318787,
          -0.4481126666069031,
          -0.3810526430606842,
          -0.33471086621284485,
          -0.3270948827266693,
          -0.30423107743263245,
          -0.30086129903793335,
          -0.2969267666339874,
          -0.28532442450523376,
          -0.28433069586753845,
          -0.2797214090824127,
          -0.2784135937690735,
          -0.27085354924201965,
          -0.2609751224517822,
          -0.26069486141204834,
          -0.259285569190979,
          -0.23328779637813568,
          -0.22800813615322113,
          -0.22648407518863678,
          -0.2225496619939804,
          -0.22060082852840424,
          -0.20871959626674652,
          -0.20210222899913788,
          -0.20021122694015503,
          -0.19929015636444092,
          -0.19618460536003113,
          -0.19424542784690857,
          -0.19395722448825836,
          -0.19352547824382782,
          -0.1917896270751953,
          -0.18839924037456512,
          -0.18703687191009521,
          -0.18108835816383362,
          -0.17426633834838867,
          -0.1725936383008957,
          -0.17031614482402802,
          -0.16924433410167694,
          -0.16433945298194885,
          -0.1631898581981659,
          -0.15716499090194702,
          -0.15214617550373077,
          -0.14643026888370514,
          -0.1410658210515976,
          -0.1331702470779419,
          -0.12756088376045227,
          -0.1260441392660141,
          -0.12495116889476776,
          -0.11809588223695755,
          -0.11725646257400513,
          -0.11696406453847885,
          -0.1109885722398758,
          -0.10996004939079285,
          -0.10442626476287842,
          -0.1010926365852356,
          -0.09861278533935547,
          -0.09688146412372589,
          -0.0903279110789299,
          -0.0893690213561058,
          -0.08801931887865067,
          -0.08520731329917908,
          -0.08512193709611893,
          -0.08481567353010178,
          -0.08384811133146286,
          -0.07871127873659134,
          -0.07781876623630524,
          -0.07567864656448364,
          -0.0729326456785202,
          -0.07065209746360779,
          -0.06710445135831833,
          -0.06310576945543289,
          -0.06298437714576721,
          -0.05284368246793747,
          -0.04472806304693222,
          -0.037928756326436996,
          -0.034424345940351486,
          -0.0338556133210659,
          -0.03243226557970047,
          -0.029437078163027763,
          -0.028455162420868874,
          -0.024996470659971237,
          -0.023508867248892784,
          -0.020011713728308678,
          -0.01845591701567173,
          -0.01602325029671192,
          -0.013165122829377651,
          -0.009333694353699684,
          -0.004322174470871687,
          0.0003077138098888099,
          0.00045447066077031195,
          0.0021924308966845274,
          0.008771765977144241,
          0.01002530101686716,
          0.022878864780068398,
          0.02811916545033455,
          0.02929306961596012,
          0.03302265703678131,
          0.03522337228059769,
          0.03618661314249039,
          0.04064242169260979,
          0.04088699817657471,
          0.04663407802581787,
          0.049784377217292786,
          0.05108387768268585,
          0.05582161992788315,
          0.058504898101091385,
          0.05918832868337631,
          0.0620080940425396,
          0.0641789436340332,
          0.0705241858959198,
          0.07338773459196091,
          0.07397200912237167,
          0.07443346828222275,
          0.07894996553659439,
          0.079377181828022,
          0.07998795062303543,
          0.08052212744951248,
          0.08295628428459167,
          0.08315844088792801,
          0.08349408954381943,
          0.08464041352272034,
          0.08674965053796768,
          0.09138589352369308,
          0.09141087532043457,
          0.09909755736589432,
          0.0996655598282814,
          0.09984447807073593,
          0.10110803693532944,
          0.10221875458955765,
          0.10789046436548233,
          0.10823826491832733,
          0.109764963388443,
          0.11382046341896057,
          0.11620038747787476,
          0.11895128339529037,
          0.11918621510267258,
          0.1293897032737732,
          0.12966640293598175,
          0.1344701200723648,
          0.13693659007549286,
          0.14543047547340393,
          0.14924189448356628,
          0.15530088543891907,
          0.15635840594768524,
          0.15751543641090393,
          0.16562339663505554,
          0.16580845415592194,
          0.16721390187740326,
          0.1674956977367401,
          0.16833890974521637,
          0.17780832946300507,
          0.18186575174331665,
          0.18752066791057587,
          0.19085007905960083,
          0.20146426558494568,
          0.2170952558517456,
          0.22217752039432526,
          0.22668953239917755,
          0.2293790727853775,
          0.23859471082687378,
          0.2442331612110138,
          0.2460583597421646,
          0.25952544808387756,
          0.2613244354724884,
          0.26618847250938416,
          0.2865567207336426,
          0.2935173511505127,
          0.309909462928772,
          0.31229367852211,
          0.31271806359291077,
          0.32916638255119324,
          0.34004685282707214,
          0.37266355752944946,
          0.3879607617855072,
          0.39825549721717834,
          0.4864266514778137
         ]
        }
       ],
       "layout": {
        "template": {
         "data": {
          "bar": [
           {
            "error_x": {
             "color": "#2a3f5f"
            },
            "error_y": {
             "color": "#2a3f5f"
            },
            "marker": {
             "line": {
              "color": "#E5ECF6",
              "width": 0.5
             },
             "pattern": {
              "fillmode": "overlay",
              "size": 10,
              "solidity": 0.2
             }
            },
            "type": "bar"
           }
          ],
          "barpolar": [
           {
            "marker": {
             "line": {
              "color": "#E5ECF6",
              "width": 0.5
             },
             "pattern": {
              "fillmode": "overlay",
              "size": 10,
              "solidity": 0.2
             }
            },
            "type": "barpolar"
           }
          ],
          "carpet": [
           {
            "aaxis": {
             "endlinecolor": "#2a3f5f",
             "gridcolor": "white",
             "linecolor": "white",
             "minorgridcolor": "white",
             "startlinecolor": "#2a3f5f"
            },
            "baxis": {
             "endlinecolor": "#2a3f5f",
             "gridcolor": "white",
             "linecolor": "white",
             "minorgridcolor": "white",
             "startlinecolor": "#2a3f5f"
            },
            "type": "carpet"
           }
          ],
          "choropleth": [
           {
            "colorbar": {
             "outlinewidth": 0,
             "ticks": ""
            },
            "type": "choropleth"
           }
          ],
          "contour": [
           {
            "colorbar": {
             "outlinewidth": 0,
             "ticks": ""
            },
            "colorscale": [
             [
              0,
              "#0d0887"
             ],
             [
              0.1111111111111111,
              "#46039f"
             ],
             [
              0.2222222222222222,
              "#7201a8"
             ],
             [
              0.3333333333333333,
              "#9c179e"
             ],
             [
              0.4444444444444444,
              "#bd3786"
             ],
             [
              0.5555555555555556,
              "#d8576b"
             ],
             [
              0.6666666666666666,
              "#ed7953"
             ],
             [
              0.7777777777777778,
              "#fb9f3a"
             ],
             [
              0.8888888888888888,
              "#fdca26"
             ],
             [
              1,
              "#f0f921"
             ]
            ],
            "type": "contour"
           }
          ],
          "contourcarpet": [
           {
            "colorbar": {
             "outlinewidth": 0,
             "ticks": ""
            },
            "type": "contourcarpet"
           }
          ],
          "heatmap": [
           {
            "colorbar": {
             "outlinewidth": 0,
             "ticks": ""
            },
            "colorscale": [
             [
              0,
              "#0d0887"
             ],
             [
              0.1111111111111111,
              "#46039f"
             ],
             [
              0.2222222222222222,
              "#7201a8"
             ],
             [
              0.3333333333333333,
              "#9c179e"
             ],
             [
              0.4444444444444444,
              "#bd3786"
             ],
             [
              0.5555555555555556,
              "#d8576b"
             ],
             [
              0.6666666666666666,
              "#ed7953"
             ],
             [
              0.7777777777777778,
              "#fb9f3a"
             ],
             [
              0.8888888888888888,
              "#fdca26"
             ],
             [
              1,
              "#f0f921"
             ]
            ],
            "type": "heatmap"
           }
          ],
          "heatmapgl": [
           {
            "colorbar": {
             "outlinewidth": 0,
             "ticks": ""
            },
            "colorscale": [
             [
              0,
              "#0d0887"
             ],
             [
              0.1111111111111111,
              "#46039f"
             ],
             [
              0.2222222222222222,
              "#7201a8"
             ],
             [
              0.3333333333333333,
              "#9c179e"
             ],
             [
              0.4444444444444444,
              "#bd3786"
             ],
             [
              0.5555555555555556,
              "#d8576b"
             ],
             [
              0.6666666666666666,
              "#ed7953"
             ],
             [
              0.7777777777777778,
              "#fb9f3a"
             ],
             [
              0.8888888888888888,
              "#fdca26"
             ],
             [
              1,
              "#f0f921"
             ]
            ],
            "type": "heatmapgl"
           }
          ],
          "histogram": [
           {
            "marker": {
             "pattern": {
              "fillmode": "overlay",
              "size": 10,
              "solidity": 0.2
             }
            },
            "type": "histogram"
           }
          ],
          "histogram2d": [
           {
            "colorbar": {
             "outlinewidth": 0,
             "ticks": ""
            },
            "colorscale": [
             [
              0,
              "#0d0887"
             ],
             [
              0.1111111111111111,
              "#46039f"
             ],
             [
              0.2222222222222222,
              "#7201a8"
             ],
             [
              0.3333333333333333,
              "#9c179e"
             ],
             [
              0.4444444444444444,
              "#bd3786"
             ],
             [
              0.5555555555555556,
              "#d8576b"
             ],
             [
              0.6666666666666666,
              "#ed7953"
             ],
             [
              0.7777777777777778,
              "#fb9f3a"
             ],
             [
              0.8888888888888888,
              "#fdca26"
             ],
             [
              1,
              "#f0f921"
             ]
            ],
            "type": "histogram2d"
           }
          ],
          "histogram2dcontour": [
           {
            "colorbar": {
             "outlinewidth": 0,
             "ticks": ""
            },
            "colorscale": [
             [
              0,
              "#0d0887"
             ],
             [
              0.1111111111111111,
              "#46039f"
             ],
             [
              0.2222222222222222,
              "#7201a8"
             ],
             [
              0.3333333333333333,
              "#9c179e"
             ],
             [
              0.4444444444444444,
              "#bd3786"
             ],
             [
              0.5555555555555556,
              "#d8576b"
             ],
             [
              0.6666666666666666,
              "#ed7953"
             ],
             [
              0.7777777777777778,
              "#fb9f3a"
             ],
             [
              0.8888888888888888,
              "#fdca26"
             ],
             [
              1,
              "#f0f921"
             ]
            ],
            "type": "histogram2dcontour"
           }
          ],
          "mesh3d": [
           {
            "colorbar": {
             "outlinewidth": 0,
             "ticks": ""
            },
            "type": "mesh3d"
           }
          ],
          "parcoords": [
           {
            "line": {
             "colorbar": {
              "outlinewidth": 0,
              "ticks": ""
             }
            },
            "type": "parcoords"
           }
          ],
          "pie": [
           {
            "automargin": true,
            "type": "pie"
           }
          ],
          "scatter": [
           {
            "fillpattern": {
             "fillmode": "overlay",
             "size": 10,
             "solidity": 0.2
            },
            "type": "scatter"
           }
          ],
          "scatter3d": [
           {
            "line": {
             "colorbar": {
              "outlinewidth": 0,
              "ticks": ""
             }
            },
            "marker": {
             "colorbar": {
              "outlinewidth": 0,
              "ticks": ""
             }
            },
            "type": "scatter3d"
           }
          ],
          "scattercarpet": [
           {
            "marker": {
             "colorbar": {
              "outlinewidth": 0,
              "ticks": ""
             }
            },
            "type": "scattercarpet"
           }
          ],
          "scattergeo": [
           {
            "marker": {
             "colorbar": {
              "outlinewidth": 0,
              "ticks": ""
             }
            },
            "type": "scattergeo"
           }
          ],
          "scattergl": [
           {
            "marker": {
             "colorbar": {
              "outlinewidth": 0,
              "ticks": ""
             }
            },
            "type": "scattergl"
           }
          ],
          "scattermapbox": [
           {
            "marker": {
             "colorbar": {
              "outlinewidth": 0,
              "ticks": ""
             }
            },
            "type": "scattermapbox"
           }
          ],
          "scatterpolar": [
           {
            "marker": {
             "colorbar": {
              "outlinewidth": 0,
              "ticks": ""
             }
            },
            "type": "scatterpolar"
           }
          ],
          "scatterpolargl": [
           {
            "marker": {
             "colorbar": {
              "outlinewidth": 0,
              "ticks": ""
             }
            },
            "type": "scatterpolargl"
           }
          ],
          "scatterternary": [
           {
            "marker": {
             "colorbar": {
              "outlinewidth": 0,
              "ticks": ""
             }
            },
            "type": "scatterternary"
           }
          ],
          "surface": [
           {
            "colorbar": {
             "outlinewidth": 0,
             "ticks": ""
            },
            "colorscale": [
             [
              0,
              "#0d0887"
             ],
             [
              0.1111111111111111,
              "#46039f"
             ],
             [
              0.2222222222222222,
              "#7201a8"
             ],
             [
              0.3333333333333333,
              "#9c179e"
             ],
             [
              0.4444444444444444,
              "#bd3786"
             ],
             [
              0.5555555555555556,
              "#d8576b"
             ],
             [
              0.6666666666666666,
              "#ed7953"
             ],
             [
              0.7777777777777778,
              "#fb9f3a"
             ],
             [
              0.8888888888888888,
              "#fdca26"
             ],
             [
              1,
              "#f0f921"
             ]
            ],
            "type": "surface"
           }
          ],
          "table": [
           {
            "cells": {
             "fill": {
              "color": "#EBF0F8"
             },
             "line": {
              "color": "white"
             }
            },
            "header": {
             "fill": {
              "color": "#C8D4E3"
             },
             "line": {
              "color": "white"
             }
            },
            "type": "table"
           }
          ]
         },
         "layout": {
          "annotationdefaults": {
           "arrowcolor": "#2a3f5f",
           "arrowhead": 0,
           "arrowwidth": 1
          },
          "autotypenumbers": "strict",
          "coloraxis": {
           "colorbar": {
            "outlinewidth": 0,
            "ticks": ""
           }
          },
          "colorscale": {
           "diverging": [
            [
             0,
             "#8e0152"
            ],
            [
             0.1,
             "#c51b7d"
            ],
            [
             0.2,
             "#de77ae"
            ],
            [
             0.3,
             "#f1b6da"
            ],
            [
             0.4,
             "#fde0ef"
            ],
            [
             0.5,
             "#f7f7f7"
            ],
            [
             0.6,
             "#e6f5d0"
            ],
            [
             0.7,
             "#b8e186"
            ],
            [
             0.8,
             "#7fbc41"
            ],
            [
             0.9,
             "#4d9221"
            ],
            [
             1,
             "#276419"
            ]
           ],
           "sequential": [
            [
             0,
             "#0d0887"
            ],
            [
             0.1111111111111111,
             "#46039f"
            ],
            [
             0.2222222222222222,
             "#7201a8"
            ],
            [
             0.3333333333333333,
             "#9c179e"
            ],
            [
             0.4444444444444444,
             "#bd3786"
            ],
            [
             0.5555555555555556,
             "#d8576b"
            ],
            [
             0.6666666666666666,
             "#ed7953"
            ],
            [
             0.7777777777777778,
             "#fb9f3a"
            ],
            [
             0.8888888888888888,
             "#fdca26"
            ],
            [
             1,
             "#f0f921"
            ]
           ],
           "sequentialminus": [
            [
             0,
             "#0d0887"
            ],
            [
             0.1111111111111111,
             "#46039f"
            ],
            [
             0.2222222222222222,
             "#7201a8"
            ],
            [
             0.3333333333333333,
             "#9c179e"
            ],
            [
             0.4444444444444444,
             "#bd3786"
            ],
            [
             0.5555555555555556,
             "#d8576b"
            ],
            [
             0.6666666666666666,
             "#ed7953"
            ],
            [
             0.7777777777777778,
             "#fb9f3a"
            ],
            [
             0.8888888888888888,
             "#fdca26"
            ],
            [
             1,
             "#f0f921"
            ]
           ]
          },
          "colorway": [
           "#636efa",
           "#EF553B",
           "#00cc96",
           "#ab63fa",
           "#FFA15A",
           "#19d3f3",
           "#FF6692",
           "#B6E880",
           "#FF97FF",
           "#FECB52"
          ],
          "font": {
           "color": "#2a3f5f"
          },
          "geo": {
           "bgcolor": "white",
           "lakecolor": "white",
           "landcolor": "#E5ECF6",
           "showlakes": true,
           "showland": true,
           "subunitcolor": "white"
          },
          "hoverlabel": {
           "align": "left"
          },
          "hovermode": "closest",
          "mapbox": {
           "style": "light"
          },
          "paper_bgcolor": "white",
          "plot_bgcolor": "#E5ECF6",
          "polar": {
           "angularaxis": {
            "gridcolor": "white",
            "linecolor": "white",
            "ticks": ""
           },
           "bgcolor": "#E5ECF6",
           "radialaxis": {
            "gridcolor": "white",
            "linecolor": "white",
            "ticks": ""
           }
          },
          "scene": {
           "xaxis": {
            "backgroundcolor": "#E5ECF6",
            "gridcolor": "white",
            "gridwidth": 2,
            "linecolor": "white",
            "showbackground": true,
            "ticks": "",
            "zerolinecolor": "white"
           },
           "yaxis": {
            "backgroundcolor": "#E5ECF6",
            "gridcolor": "white",
            "gridwidth": 2,
            "linecolor": "white",
            "showbackground": true,
            "ticks": "",
            "zerolinecolor": "white"
           },
           "zaxis": {
            "backgroundcolor": "#E5ECF6",
            "gridcolor": "white",
            "gridwidth": 2,
            "linecolor": "white",
            "showbackground": true,
            "ticks": "",
            "zerolinecolor": "white"
           }
          },
          "shapedefaults": {
           "line": {
            "color": "#2a3f5f"
           }
          },
          "ternary": {
           "aaxis": {
            "gridcolor": "white",
            "linecolor": "white",
            "ticks": ""
           },
           "baxis": {
            "gridcolor": "white",
            "linecolor": "white",
            "ticks": ""
           },
           "bgcolor": "#E5ECF6",
           "caxis": {
            "gridcolor": "white",
            "linecolor": "white",
            "ticks": ""
           }
          },
          "title": {
           "x": 0.05
          },
          "xaxis": {
           "automargin": true,
           "gridcolor": "white",
           "linecolor": "white",
           "ticks": "",
           "title": {
            "standoff": 15
           },
           "zerolinecolor": "white",
           "zerolinewidth": 2
          },
          "yaxis": {
           "automargin": true,
           "gridcolor": "white",
           "linecolor": "white",
           "ticks": "",
           "title": {
            "standoff": 15
           },
           "zerolinecolor": "white",
           "zerolinewidth": 2
          }
         }
        }
       }
      }
     },
     "metadata": {},
     "output_type": "display_data"
    },
    {
     "name": "stdout",
     "output_type": "stream",
     "text": [
      "torch.Size([195])\n"
     ]
    },
    {
     "data": {
      "application/vnd.plotly.v1+json": {
       "config": {
        "plotlyServerURL": "https://plot.ly"
       },
       "data": [
        {
         "type": "scatter",
         "x": [
          0,
          1,
          2,
          3,
          4,
          5,
          6,
          7,
          8,
          9,
          10,
          11,
          12,
          13,
          14,
          15,
          16,
          17,
          18,
          19,
          20,
          21,
          22,
          23,
          24,
          25,
          26,
          27,
          28,
          29,
          30,
          31,
          32,
          33,
          34,
          35,
          36,
          37,
          38,
          39,
          40,
          41,
          42,
          43,
          44,
          45,
          46,
          47,
          48,
          49,
          50,
          51,
          52,
          53,
          54,
          55,
          56,
          57,
          58,
          59,
          60,
          61,
          62,
          63,
          64,
          65,
          66,
          67,
          68,
          69,
          70,
          71,
          72,
          73,
          74,
          75,
          76,
          77,
          78,
          79,
          80,
          81,
          82,
          83,
          84,
          85,
          86,
          87,
          88,
          89,
          90,
          91,
          92,
          93,
          94,
          95,
          96,
          97,
          98,
          99,
          100,
          101,
          102,
          103,
          104,
          105,
          106,
          107,
          108,
          109,
          110,
          111,
          112,
          113,
          114,
          115,
          116,
          117,
          118,
          119,
          120,
          121,
          122,
          123,
          124,
          125,
          126,
          127,
          128,
          129,
          130,
          131,
          132,
          133,
          134,
          135,
          136,
          137,
          138,
          139,
          140,
          141,
          142,
          143,
          144,
          145,
          146,
          147,
          148,
          149,
          150,
          151,
          152,
          153,
          154,
          155,
          156,
          157,
          158,
          159,
          160,
          161,
          162,
          163,
          164,
          165,
          166,
          167,
          168,
          169,
          170,
          171,
          172,
          173,
          174,
          175,
          176,
          177,
          178,
          179,
          180,
          181,
          182,
          183,
          184,
          185,
          186,
          187,
          188,
          189,
          190,
          191,
          192,
          193,
          194
         ],
         "y": [
          -0.41214779019355774,
          -0.34994107484817505,
          -0.3474961817264557,
          -0.3382886052131653,
          -0.3267539441585541,
          -0.3259177803993225,
          -0.3255767822265625,
          -0.3174293041229248,
          -0.31721124053001404,
          -0.3031660318374634,
          -0.26372814178466797,
          -0.25801584124565125,
          -0.2544662356376648,
          -0.2540706694126129,
          -0.2491626739501953,
          -0.22841809689998627,
          -0.22179368138313293,
          -0.21550920605659485,
          -0.2134973406791687,
          -0.2101593166589737,
          -0.21011190116405487,
          -0.20119358599185944,
          -0.1865547001361847,
          -0.183619886636734,
          -0.179318368434906,
          -0.17411187291145325,
          -0.16594664752483368,
          -0.16132882237434387,
          -0.16094474494457245,
          -0.15817515552043915,
          -0.15529632568359375,
          -0.154568612575531,
          -0.15185242891311646,
          -0.1485104113817215,
          -0.14518585801124573,
          -0.14227893948554993,
          -0.1382407397031784,
          -0.13653025031089783,
          -0.13525447249412537,
          -0.13427570462226868,
          -0.13244447112083435,
          -0.12460382282733917,
          -0.12457845360040665,
          -0.12109518051147461,
          -0.11140631884336472,
          -0.11005245894193649,
          -0.10607508569955826,
          -0.10044007003307343,
          -0.09999437630176544,
          -0.09800443798303604,
          -0.09404110908508301,
          -0.0905129536986351,
          -0.09000112861394882,
          -0.08896473050117493,
          -0.08813298493623734,
          -0.08643769472837448,
          -0.08537118881940842,
          -0.07700372487306595,
          -0.07583773136138916,
          -0.07556362450122833,
          -0.06622841209173203,
          -0.06386783719062805,
          -0.060453999787569046,
          -0.057297687977552414,
          -0.05615805834531784,
          -0.0417596735060215,
          -0.04020445793867111,
          -0.038390811532735825,
          -0.03641272708773613,
          -0.026782279834151268,
          -0.01980089768767357,
          -0.017197709530591965,
          -0.016894228756427765,
          -0.011673466302454472,
          -0.006600875873118639,
          -0.005737594328820705,
          -0.0043289754539728165,
          -0.0025175681803375483,
          -0.001927830744534731,
          -0.0000033772000733733876,
          0.004639964085072279,
          0.008279884234070778,
          0.009591530077159405,
          0.009918522089719772,
          0.010798431932926178,
          0.011870738118886948,
          0.01239646878093481,
          0.021527627483010292,
          0.02286047302186489,
          0.02343781851232052,
          0.02475581131875515,
          0.02515288256108761,
          0.03031332790851593,
          0.032692182809114456,
          0.033228613436222076,
          0.03599485754966736,
          0.03743210807442665,
          0.038196392357349396,
          0.04004361853003502,
          0.04071060195565224,
          0.04205003380775452,
          0.04228996858000755,
          0.04238254949450493,
          0.04376107081770897,
          0.04623197391629219,
          0.050106871873140335,
          0.05406426265835762,
          0.05412357673048973,
          0.05622834339737892,
          0.05782940238714218,
          0.05869167670607567,
          0.05979189649224281,
          0.061433758586645126,
          0.06447795778512955,
          0.06663347035646439,
          0.06797106564044952,
          0.07160599529743195,
          0.07282952964305878,
          0.07400520145893097,
          0.07723569869995117,
          0.07826801389455795,
          0.07978346943855286,
          0.08019062876701355,
          0.08325377851724625,
          0.08354823291301727,
          0.08455019444227219,
          0.0858629122376442,
          0.08838599920272827,
          0.08844271302223206,
          0.09178037196397781,
          0.09195359796285629,
          0.09271150082349777,
          0.09276873618364334,
          0.09854202717542648,
          0.09932443499565125,
          0.10338174551725388,
          0.10912502557039261,
          0.11134148389101028,
          0.11409871280193329,
          0.11624427139759064,
          0.11664389818906784,
          0.12909634411334991,
          0.1302407830953598,
          0.13818933069705963,
          0.14011253416538239,
          0.14511069655418396,
          0.14670157432556152,
          0.15016508102416992,
          0.15205153822898865,
          0.1522015929222107,
          0.15333516895771027,
          0.15791629254817963,
          0.15966784954071045,
          0.16017228364944458,
          0.16604399681091309,
          0.1665811985731125,
          0.16720987856388092,
          0.1700366586446762,
          0.17195983231067657,
          0.17643706500530243,
          0.18706513941287994,
          0.18739937245845795,
          0.1922656148672104,
          0.1959078013896942,
          0.20515543222427368,
          0.20608898997306824,
          0.20883530378341675,
          0.20970860123634338,
          0.22096166014671326,
          0.22168132662773132,
          0.22322387993335724,
          0.22556112706661224,
          0.2293364554643631,
          0.23615624010562897,
          0.2595748007297516,
          0.2615657448768616,
          0.264089971780777,
          0.2768554091453552,
          0.28951296210289,
          0.29563167691230774,
          0.29828745126724243,
          0.3004150986671448,
          0.302462637424469,
          0.3071172535419464,
          0.31330713629722595,
          0.318075567483902,
          0.3191191852092743,
          0.3196089267730713,
          0.3264160752296448,
          0.3276546001434326,
          0.33449989557266235,
          0.3687145411968231,
          0.3842264711856842,
          0.38767996430397034,
          0.7269076108932495
         ]
        }
       ],
       "layout": {
        "template": {
         "data": {
          "bar": [
           {
            "error_x": {
             "color": "#2a3f5f"
            },
            "error_y": {
             "color": "#2a3f5f"
            },
            "marker": {
             "line": {
              "color": "#E5ECF6",
              "width": 0.5
             },
             "pattern": {
              "fillmode": "overlay",
              "size": 10,
              "solidity": 0.2
             }
            },
            "type": "bar"
           }
          ],
          "barpolar": [
           {
            "marker": {
             "line": {
              "color": "#E5ECF6",
              "width": 0.5
             },
             "pattern": {
              "fillmode": "overlay",
              "size": 10,
              "solidity": 0.2
             }
            },
            "type": "barpolar"
           }
          ],
          "carpet": [
           {
            "aaxis": {
             "endlinecolor": "#2a3f5f",
             "gridcolor": "white",
             "linecolor": "white",
             "minorgridcolor": "white",
             "startlinecolor": "#2a3f5f"
            },
            "baxis": {
             "endlinecolor": "#2a3f5f",
             "gridcolor": "white",
             "linecolor": "white",
             "minorgridcolor": "white",
             "startlinecolor": "#2a3f5f"
            },
            "type": "carpet"
           }
          ],
          "choropleth": [
           {
            "colorbar": {
             "outlinewidth": 0,
             "ticks": ""
            },
            "type": "choropleth"
           }
          ],
          "contour": [
           {
            "colorbar": {
             "outlinewidth": 0,
             "ticks": ""
            },
            "colorscale": [
             [
              0,
              "#0d0887"
             ],
             [
              0.1111111111111111,
              "#46039f"
             ],
             [
              0.2222222222222222,
              "#7201a8"
             ],
             [
              0.3333333333333333,
              "#9c179e"
             ],
             [
              0.4444444444444444,
              "#bd3786"
             ],
             [
              0.5555555555555556,
              "#d8576b"
             ],
             [
              0.6666666666666666,
              "#ed7953"
             ],
             [
              0.7777777777777778,
              "#fb9f3a"
             ],
             [
              0.8888888888888888,
              "#fdca26"
             ],
             [
              1,
              "#f0f921"
             ]
            ],
            "type": "contour"
           }
          ],
          "contourcarpet": [
           {
            "colorbar": {
             "outlinewidth": 0,
             "ticks": ""
            },
            "type": "contourcarpet"
           }
          ],
          "heatmap": [
           {
            "colorbar": {
             "outlinewidth": 0,
             "ticks": ""
            },
            "colorscale": [
             [
              0,
              "#0d0887"
             ],
             [
              0.1111111111111111,
              "#46039f"
             ],
             [
              0.2222222222222222,
              "#7201a8"
             ],
             [
              0.3333333333333333,
              "#9c179e"
             ],
             [
              0.4444444444444444,
              "#bd3786"
             ],
             [
              0.5555555555555556,
              "#d8576b"
             ],
             [
              0.6666666666666666,
              "#ed7953"
             ],
             [
              0.7777777777777778,
              "#fb9f3a"
             ],
             [
              0.8888888888888888,
              "#fdca26"
             ],
             [
              1,
              "#f0f921"
             ]
            ],
            "type": "heatmap"
           }
          ],
          "heatmapgl": [
           {
            "colorbar": {
             "outlinewidth": 0,
             "ticks": ""
            },
            "colorscale": [
             [
              0,
              "#0d0887"
             ],
             [
              0.1111111111111111,
              "#46039f"
             ],
             [
              0.2222222222222222,
              "#7201a8"
             ],
             [
              0.3333333333333333,
              "#9c179e"
             ],
             [
              0.4444444444444444,
              "#bd3786"
             ],
             [
              0.5555555555555556,
              "#d8576b"
             ],
             [
              0.6666666666666666,
              "#ed7953"
             ],
             [
              0.7777777777777778,
              "#fb9f3a"
             ],
             [
              0.8888888888888888,
              "#fdca26"
             ],
             [
              1,
              "#f0f921"
             ]
            ],
            "type": "heatmapgl"
           }
          ],
          "histogram": [
           {
            "marker": {
             "pattern": {
              "fillmode": "overlay",
              "size": 10,
              "solidity": 0.2
             }
            },
            "type": "histogram"
           }
          ],
          "histogram2d": [
           {
            "colorbar": {
             "outlinewidth": 0,
             "ticks": ""
            },
            "colorscale": [
             [
              0,
              "#0d0887"
             ],
             [
              0.1111111111111111,
              "#46039f"
             ],
             [
              0.2222222222222222,
              "#7201a8"
             ],
             [
              0.3333333333333333,
              "#9c179e"
             ],
             [
              0.4444444444444444,
              "#bd3786"
             ],
             [
              0.5555555555555556,
              "#d8576b"
             ],
             [
              0.6666666666666666,
              "#ed7953"
             ],
             [
              0.7777777777777778,
              "#fb9f3a"
             ],
             [
              0.8888888888888888,
              "#fdca26"
             ],
             [
              1,
              "#f0f921"
             ]
            ],
            "type": "histogram2d"
           }
          ],
          "histogram2dcontour": [
           {
            "colorbar": {
             "outlinewidth": 0,
             "ticks": ""
            },
            "colorscale": [
             [
              0,
              "#0d0887"
             ],
             [
              0.1111111111111111,
              "#46039f"
             ],
             [
              0.2222222222222222,
              "#7201a8"
             ],
             [
              0.3333333333333333,
              "#9c179e"
             ],
             [
              0.4444444444444444,
              "#bd3786"
             ],
             [
              0.5555555555555556,
              "#d8576b"
             ],
             [
              0.6666666666666666,
              "#ed7953"
             ],
             [
              0.7777777777777778,
              "#fb9f3a"
             ],
             [
              0.8888888888888888,
              "#fdca26"
             ],
             [
              1,
              "#f0f921"
             ]
            ],
            "type": "histogram2dcontour"
           }
          ],
          "mesh3d": [
           {
            "colorbar": {
             "outlinewidth": 0,
             "ticks": ""
            },
            "type": "mesh3d"
           }
          ],
          "parcoords": [
           {
            "line": {
             "colorbar": {
              "outlinewidth": 0,
              "ticks": ""
             }
            },
            "type": "parcoords"
           }
          ],
          "pie": [
           {
            "automargin": true,
            "type": "pie"
           }
          ],
          "scatter": [
           {
            "fillpattern": {
             "fillmode": "overlay",
             "size": 10,
             "solidity": 0.2
            },
            "type": "scatter"
           }
          ],
          "scatter3d": [
           {
            "line": {
             "colorbar": {
              "outlinewidth": 0,
              "ticks": ""
             }
            },
            "marker": {
             "colorbar": {
              "outlinewidth": 0,
              "ticks": ""
             }
            },
            "type": "scatter3d"
           }
          ],
          "scattercarpet": [
           {
            "marker": {
             "colorbar": {
              "outlinewidth": 0,
              "ticks": ""
             }
            },
            "type": "scattercarpet"
           }
          ],
          "scattergeo": [
           {
            "marker": {
             "colorbar": {
              "outlinewidth": 0,
              "ticks": ""
             }
            },
            "type": "scattergeo"
           }
          ],
          "scattergl": [
           {
            "marker": {
             "colorbar": {
              "outlinewidth": 0,
              "ticks": ""
             }
            },
            "type": "scattergl"
           }
          ],
          "scattermapbox": [
           {
            "marker": {
             "colorbar": {
              "outlinewidth": 0,
              "ticks": ""
             }
            },
            "type": "scattermapbox"
           }
          ],
          "scatterpolar": [
           {
            "marker": {
             "colorbar": {
              "outlinewidth": 0,
              "ticks": ""
             }
            },
            "type": "scatterpolar"
           }
          ],
          "scatterpolargl": [
           {
            "marker": {
             "colorbar": {
              "outlinewidth": 0,
              "ticks": ""
             }
            },
            "type": "scatterpolargl"
           }
          ],
          "scatterternary": [
           {
            "marker": {
             "colorbar": {
              "outlinewidth": 0,
              "ticks": ""
             }
            },
            "type": "scatterternary"
           }
          ],
          "surface": [
           {
            "colorbar": {
             "outlinewidth": 0,
             "ticks": ""
            },
            "colorscale": [
             [
              0,
              "#0d0887"
             ],
             [
              0.1111111111111111,
              "#46039f"
             ],
             [
              0.2222222222222222,
              "#7201a8"
             ],
             [
              0.3333333333333333,
              "#9c179e"
             ],
             [
              0.4444444444444444,
              "#bd3786"
             ],
             [
              0.5555555555555556,
              "#d8576b"
             ],
             [
              0.6666666666666666,
              "#ed7953"
             ],
             [
              0.7777777777777778,
              "#fb9f3a"
             ],
             [
              0.8888888888888888,
              "#fdca26"
             ],
             [
              1,
              "#f0f921"
             ]
            ],
            "type": "surface"
           }
          ],
          "table": [
           {
            "cells": {
             "fill": {
              "color": "#EBF0F8"
             },
             "line": {
              "color": "white"
             }
            },
            "header": {
             "fill": {
              "color": "#C8D4E3"
             },
             "line": {
              "color": "white"
             }
            },
            "type": "table"
           }
          ]
         },
         "layout": {
          "annotationdefaults": {
           "arrowcolor": "#2a3f5f",
           "arrowhead": 0,
           "arrowwidth": 1
          },
          "autotypenumbers": "strict",
          "coloraxis": {
           "colorbar": {
            "outlinewidth": 0,
            "ticks": ""
           }
          },
          "colorscale": {
           "diverging": [
            [
             0,
             "#8e0152"
            ],
            [
             0.1,
             "#c51b7d"
            ],
            [
             0.2,
             "#de77ae"
            ],
            [
             0.3,
             "#f1b6da"
            ],
            [
             0.4,
             "#fde0ef"
            ],
            [
             0.5,
             "#f7f7f7"
            ],
            [
             0.6,
             "#e6f5d0"
            ],
            [
             0.7,
             "#b8e186"
            ],
            [
             0.8,
             "#7fbc41"
            ],
            [
             0.9,
             "#4d9221"
            ],
            [
             1,
             "#276419"
            ]
           ],
           "sequential": [
            [
             0,
             "#0d0887"
            ],
            [
             0.1111111111111111,
             "#46039f"
            ],
            [
             0.2222222222222222,
             "#7201a8"
            ],
            [
             0.3333333333333333,
             "#9c179e"
            ],
            [
             0.4444444444444444,
             "#bd3786"
            ],
            [
             0.5555555555555556,
             "#d8576b"
            ],
            [
             0.6666666666666666,
             "#ed7953"
            ],
            [
             0.7777777777777778,
             "#fb9f3a"
            ],
            [
             0.8888888888888888,
             "#fdca26"
            ],
            [
             1,
             "#f0f921"
            ]
           ],
           "sequentialminus": [
            [
             0,
             "#0d0887"
            ],
            [
             0.1111111111111111,
             "#46039f"
            ],
            [
             0.2222222222222222,
             "#7201a8"
            ],
            [
             0.3333333333333333,
             "#9c179e"
            ],
            [
             0.4444444444444444,
             "#bd3786"
            ],
            [
             0.5555555555555556,
             "#d8576b"
            ],
            [
             0.6666666666666666,
             "#ed7953"
            ],
            [
             0.7777777777777778,
             "#fb9f3a"
            ],
            [
             0.8888888888888888,
             "#fdca26"
            ],
            [
             1,
             "#f0f921"
            ]
           ]
          },
          "colorway": [
           "#636efa",
           "#EF553B",
           "#00cc96",
           "#ab63fa",
           "#FFA15A",
           "#19d3f3",
           "#FF6692",
           "#B6E880",
           "#FF97FF",
           "#FECB52"
          ],
          "font": {
           "color": "#2a3f5f"
          },
          "geo": {
           "bgcolor": "white",
           "lakecolor": "white",
           "landcolor": "#E5ECF6",
           "showlakes": true,
           "showland": true,
           "subunitcolor": "white"
          },
          "hoverlabel": {
           "align": "left"
          },
          "hovermode": "closest",
          "mapbox": {
           "style": "light"
          },
          "paper_bgcolor": "white",
          "plot_bgcolor": "#E5ECF6",
          "polar": {
           "angularaxis": {
            "gridcolor": "white",
            "linecolor": "white",
            "ticks": ""
           },
           "bgcolor": "#E5ECF6",
           "radialaxis": {
            "gridcolor": "white",
            "linecolor": "white",
            "ticks": ""
           }
          },
          "scene": {
           "xaxis": {
            "backgroundcolor": "#E5ECF6",
            "gridcolor": "white",
            "gridwidth": 2,
            "linecolor": "white",
            "showbackground": true,
            "ticks": "",
            "zerolinecolor": "white"
           },
           "yaxis": {
            "backgroundcolor": "#E5ECF6",
            "gridcolor": "white",
            "gridwidth": 2,
            "linecolor": "white",
            "showbackground": true,
            "ticks": "",
            "zerolinecolor": "white"
           },
           "zaxis": {
            "backgroundcolor": "#E5ECF6",
            "gridcolor": "white",
            "gridwidth": 2,
            "linecolor": "white",
            "showbackground": true,
            "ticks": "",
            "zerolinecolor": "white"
           }
          },
          "shapedefaults": {
           "line": {
            "color": "#2a3f5f"
           }
          },
          "ternary": {
           "aaxis": {
            "gridcolor": "white",
            "linecolor": "white",
            "ticks": ""
           },
           "baxis": {
            "gridcolor": "white",
            "linecolor": "white",
            "ticks": ""
           },
           "bgcolor": "#E5ECF6",
           "caxis": {
            "gridcolor": "white",
            "linecolor": "white",
            "ticks": ""
           }
          },
          "title": {
           "x": 0.05
          },
          "xaxis": {
           "automargin": true,
           "gridcolor": "white",
           "linecolor": "white",
           "ticks": "",
           "title": {
            "standoff": 15
           },
           "zerolinecolor": "white",
           "zerolinewidth": 2
          },
          "yaxis": {
           "automargin": true,
           "gridcolor": "white",
           "linecolor": "white",
           "ticks": "",
           "title": {
            "standoff": 15
           },
           "zerolinecolor": "white",
           "zerolinewidth": 2
          }
         }
        }
       }
      }
     },
     "metadata": {},
     "output_type": "display_data"
    },
    {
     "name": "stdout",
     "output_type": "stream",
     "text": [
      "torch.Size([205])\n"
     ]
    },
    {
     "data": {
      "application/vnd.plotly.v1+json": {
       "config": {
        "plotlyServerURL": "https://plot.ly"
       },
       "data": [
        {
         "type": "scatter",
         "x": [
          0,
          1,
          2,
          3,
          4,
          5,
          6,
          7,
          8,
          9,
          10,
          11,
          12,
          13,
          14,
          15,
          16,
          17,
          18,
          19,
          20,
          21,
          22,
          23,
          24,
          25,
          26,
          27,
          28,
          29,
          30,
          31,
          32,
          33,
          34,
          35,
          36,
          37,
          38,
          39,
          40,
          41,
          42,
          43,
          44,
          45,
          46,
          47,
          48,
          49,
          50,
          51,
          52,
          53,
          54,
          55,
          56,
          57,
          58,
          59,
          60,
          61,
          62,
          63,
          64,
          65,
          66,
          67,
          68,
          69,
          70,
          71,
          72,
          73,
          74,
          75,
          76,
          77,
          78,
          79,
          80,
          81,
          82,
          83,
          84,
          85,
          86,
          87,
          88,
          89,
          90,
          91,
          92,
          93,
          94,
          95,
          96,
          97,
          98,
          99,
          100,
          101,
          102,
          103,
          104,
          105,
          106,
          107,
          108,
          109,
          110,
          111,
          112,
          113,
          114,
          115,
          116,
          117,
          118,
          119,
          120,
          121,
          122,
          123,
          124,
          125,
          126,
          127,
          128,
          129,
          130,
          131,
          132,
          133,
          134,
          135,
          136,
          137,
          138,
          139,
          140,
          141,
          142,
          143,
          144,
          145,
          146,
          147,
          148,
          149,
          150,
          151,
          152,
          153,
          154,
          155,
          156,
          157,
          158,
          159,
          160,
          161,
          162,
          163,
          164,
          165,
          166,
          167,
          168,
          169,
          170,
          171,
          172,
          173,
          174,
          175,
          176,
          177,
          178,
          179,
          180,
          181,
          182,
          183,
          184,
          185,
          186,
          187,
          188,
          189,
          190,
          191,
          192,
          193,
          194,
          195,
          196,
          197,
          198,
          199,
          200,
          201,
          202,
          203,
          204
         ],
         "y": [
          -0.4639618396759033,
          -0.4316660761833191,
          -0.4102568030357361,
          -0.4074717164039612,
          -0.406635582447052,
          -0.3676798343658447,
          -0.36220377683639526,
          -0.34215468168258667,
          -0.3361600637435913,
          -0.3130600154399872,
          -0.31037428975105286,
          -0.3053363859653473,
          -0.2963371276855469,
          -0.29275083541870117,
          -0.2649809420108795,
          -0.25162217020988464,
          -0.24690254032611847,
          -0.22434763610363007,
          -0.22362655401229858,
          -0.219376802444458,
          -0.21600836515426636,
          -0.21558037400245667,
          -0.2150058001279831,
          -0.2116207480430603,
          -0.20098206400871277,
          -0.19848963618278503,
          -0.1935310810804367,
          -0.1931726634502411,
          -0.18199624121189117,
          -0.17737145721912384,
          -0.17541541159152985,
          -0.17203374207019806,
          -0.17189575731754303,
          -0.16761134564876556,
          -0.16751672327518463,
          -0.16709358990192413,
          -0.1658797711133957,
          -0.1654568612575531,
          -0.1637137234210968,
          -0.16353124380111694,
          -0.16191770136356354,
          -0.1570846438407898,
          -0.15388350188732147,
          -0.15189528465270996,
          -0.14898990094661713,
          -0.1449694186449051,
          -0.1440310776233673,
          -0.1390177607536316,
          -0.13670192658901215,
          -0.13276517391204834,
          -0.1302764117717743,
          -0.12882398068904877,
          -0.12829142808914185,
          -0.124542236328125,
          -0.12075812369585037,
          -0.1158553957939148,
          -0.11295881867408752,
          -0.10824412852525711,
          -0.10077261179685593,
          -0.10035126656293869,
          -0.09822528064250946,
          -0.09578988701105118,
          -0.09343720972537994,
          -0.08870837092399597,
          -0.08723589777946472,
          -0.08703801780939102,
          -0.08634933084249496,
          -0.08435969054698944,
          -0.08351162821054459,
          -0.08298855274915695,
          -0.07483784854412079,
          -0.07101845741271973,
          -0.0702826976776123,
          -0.06916980445384979,
          -0.06878773868083954,
          -0.05997617542743683,
          -0.05108770355582237,
          -0.04859606921672821,
          -0.04796529561281204,
          -0.044612035155296326,
          -0.044248152524232864,
          -0.04312536120414734,
          -0.0421440452337265,
          -0.039270102977752686,
          -0.03460298478603363,
          -0.03311805799603462,
          -0.03080180659890175,
          -0.030591433867812157,
          -0.02991470880806446,
          -0.029393872246146202,
          -0.025270992890000343,
          -0.024799691513180733,
          -0.02458760514855385,
          -0.023273492231965065,
          -0.02255977876484394,
          -0.02064375951886177,
          -0.017186541110277176,
          -0.015192678198218346,
          -0.012841865420341492,
          -0.011804204434156418,
          -0.011653049848973751,
          -0.010139650665223598,
          -0.0001359883463010192,
          0.0024860845878720284,
          0.0035644453018903732,
          0.00845593586564064,
          0.010790744796395302,
          0.013416890054941177,
          0.01928945817053318,
          0.024562161415815353,
          0.027534348890185356,
          0.02905205637216568,
          0.029876315966248512,
          0.03195234760642052,
          0.03210240229964256,
          0.03443239629268646,
          0.03516596555709839,
          0.04166756942868233,
          0.04346049204468727,
          0.04387234151363373,
          0.04774114489555359,
          0.05144454538822174,
          0.052152764052152634,
          0.05235927551984787,
          0.05382724106311798,
          0.05400053784251213,
          0.05906284600496292,
          0.06014174595475197,
          0.06134171783924103,
          0.06522997468709946,
          0.0670778676867485,
          0.07034376263618469,
          0.07436960190534592,
          0.07888046652078629,
          0.07978813350200653,
          0.08192112296819687,
          0.08728068321943283,
          0.08858703076839447,
          0.08963067084550858,
          0.09024051576852798,
          0.09030759334564209,
          0.09465167671442032,
          0.0955011248588562,
          0.09671308845281601,
          0.09962926805019379,
          0.10221710056066513,
          0.10229070484638214,
          0.10291875898838043,
          0.10693316161632538,
          0.11488357931375504,
          0.1165427416563034,
          0.11761774122714996,
          0.11804083734750748,
          0.12349600344896317,
          0.1242682933807373,
          0.12498513609170914,
          0.12598706781864166,
          0.12915842235088348,
          0.13723266124725342,
          0.1395508497953415,
          0.1456632763147354,
          0.1497383713722229,
          0.1503375768661499,
          0.15978282690048218,
          0.1607292741537094,
          0.1635756939649582,
          0.167734757065773,
          0.17006561160087585,
          0.17530052363872528,
          0.17654074728488922,
          0.18026626110076904,
          0.18028120696544647,
          0.18338622152805328,
          0.18341003358364105,
          0.19123847782611847,
          0.19201883673667908,
          0.19226506352424622,
          0.19803977012634277,
          0.19913481175899506,
          0.20041677355766296,
          0.20074273645877838,
          0.20336174964904785,
          0.2063804417848587,
          0.21527601778507233,
          0.22471527755260468,
          0.23334357142448425,
          0.23423099517822266,
          0.23598472774028778,
          0.23881767690181732,
          0.25467291474342346,
          0.2588968873023987,
          0.26021721959114075,
          0.26031777262687683,
          0.2629649043083191,
          0.2673664093017578,
          0.27762189507484436,
          0.3032417297363281,
          0.3099476397037506,
          0.31057000160217285,
          0.313596248626709,
          0.31779980659484863,
          0.3303356170654297,
          0.3317539095878601,
          0.4084911644458771,
          0.618323802947998
         ]
        }
       ],
       "layout": {
        "template": {
         "data": {
          "bar": [
           {
            "error_x": {
             "color": "#2a3f5f"
            },
            "error_y": {
             "color": "#2a3f5f"
            },
            "marker": {
             "line": {
              "color": "#E5ECF6",
              "width": 0.5
             },
             "pattern": {
              "fillmode": "overlay",
              "size": 10,
              "solidity": 0.2
             }
            },
            "type": "bar"
           }
          ],
          "barpolar": [
           {
            "marker": {
             "line": {
              "color": "#E5ECF6",
              "width": 0.5
             },
             "pattern": {
              "fillmode": "overlay",
              "size": 10,
              "solidity": 0.2
             }
            },
            "type": "barpolar"
           }
          ],
          "carpet": [
           {
            "aaxis": {
             "endlinecolor": "#2a3f5f",
             "gridcolor": "white",
             "linecolor": "white",
             "minorgridcolor": "white",
             "startlinecolor": "#2a3f5f"
            },
            "baxis": {
             "endlinecolor": "#2a3f5f",
             "gridcolor": "white",
             "linecolor": "white",
             "minorgridcolor": "white",
             "startlinecolor": "#2a3f5f"
            },
            "type": "carpet"
           }
          ],
          "choropleth": [
           {
            "colorbar": {
             "outlinewidth": 0,
             "ticks": ""
            },
            "type": "choropleth"
           }
          ],
          "contour": [
           {
            "colorbar": {
             "outlinewidth": 0,
             "ticks": ""
            },
            "colorscale": [
             [
              0,
              "#0d0887"
             ],
             [
              0.1111111111111111,
              "#46039f"
             ],
             [
              0.2222222222222222,
              "#7201a8"
             ],
             [
              0.3333333333333333,
              "#9c179e"
             ],
             [
              0.4444444444444444,
              "#bd3786"
             ],
             [
              0.5555555555555556,
              "#d8576b"
             ],
             [
              0.6666666666666666,
              "#ed7953"
             ],
             [
              0.7777777777777778,
              "#fb9f3a"
             ],
             [
              0.8888888888888888,
              "#fdca26"
             ],
             [
              1,
              "#f0f921"
             ]
            ],
            "type": "contour"
           }
          ],
          "contourcarpet": [
           {
            "colorbar": {
             "outlinewidth": 0,
             "ticks": ""
            },
            "type": "contourcarpet"
           }
          ],
          "heatmap": [
           {
            "colorbar": {
             "outlinewidth": 0,
             "ticks": ""
            },
            "colorscale": [
             [
              0,
              "#0d0887"
             ],
             [
              0.1111111111111111,
              "#46039f"
             ],
             [
              0.2222222222222222,
              "#7201a8"
             ],
             [
              0.3333333333333333,
              "#9c179e"
             ],
             [
              0.4444444444444444,
              "#bd3786"
             ],
             [
              0.5555555555555556,
              "#d8576b"
             ],
             [
              0.6666666666666666,
              "#ed7953"
             ],
             [
              0.7777777777777778,
              "#fb9f3a"
             ],
             [
              0.8888888888888888,
              "#fdca26"
             ],
             [
              1,
              "#f0f921"
             ]
            ],
            "type": "heatmap"
           }
          ],
          "heatmapgl": [
           {
            "colorbar": {
             "outlinewidth": 0,
             "ticks": ""
            },
            "colorscale": [
             [
              0,
              "#0d0887"
             ],
             [
              0.1111111111111111,
              "#46039f"
             ],
             [
              0.2222222222222222,
              "#7201a8"
             ],
             [
              0.3333333333333333,
              "#9c179e"
             ],
             [
              0.4444444444444444,
              "#bd3786"
             ],
             [
              0.5555555555555556,
              "#d8576b"
             ],
             [
              0.6666666666666666,
              "#ed7953"
             ],
             [
              0.7777777777777778,
              "#fb9f3a"
             ],
             [
              0.8888888888888888,
              "#fdca26"
             ],
             [
              1,
              "#f0f921"
             ]
            ],
            "type": "heatmapgl"
           }
          ],
          "histogram": [
           {
            "marker": {
             "pattern": {
              "fillmode": "overlay",
              "size": 10,
              "solidity": 0.2
             }
            },
            "type": "histogram"
           }
          ],
          "histogram2d": [
           {
            "colorbar": {
             "outlinewidth": 0,
             "ticks": ""
            },
            "colorscale": [
             [
              0,
              "#0d0887"
             ],
             [
              0.1111111111111111,
              "#46039f"
             ],
             [
              0.2222222222222222,
              "#7201a8"
             ],
             [
              0.3333333333333333,
              "#9c179e"
             ],
             [
              0.4444444444444444,
              "#bd3786"
             ],
             [
              0.5555555555555556,
              "#d8576b"
             ],
             [
              0.6666666666666666,
              "#ed7953"
             ],
             [
              0.7777777777777778,
              "#fb9f3a"
             ],
             [
              0.8888888888888888,
              "#fdca26"
             ],
             [
              1,
              "#f0f921"
             ]
            ],
            "type": "histogram2d"
           }
          ],
          "histogram2dcontour": [
           {
            "colorbar": {
             "outlinewidth": 0,
             "ticks": ""
            },
            "colorscale": [
             [
              0,
              "#0d0887"
             ],
             [
              0.1111111111111111,
              "#46039f"
             ],
             [
              0.2222222222222222,
              "#7201a8"
             ],
             [
              0.3333333333333333,
              "#9c179e"
             ],
             [
              0.4444444444444444,
              "#bd3786"
             ],
             [
              0.5555555555555556,
              "#d8576b"
             ],
             [
              0.6666666666666666,
              "#ed7953"
             ],
             [
              0.7777777777777778,
              "#fb9f3a"
             ],
             [
              0.8888888888888888,
              "#fdca26"
             ],
             [
              1,
              "#f0f921"
             ]
            ],
            "type": "histogram2dcontour"
           }
          ],
          "mesh3d": [
           {
            "colorbar": {
             "outlinewidth": 0,
             "ticks": ""
            },
            "type": "mesh3d"
           }
          ],
          "parcoords": [
           {
            "line": {
             "colorbar": {
              "outlinewidth": 0,
              "ticks": ""
             }
            },
            "type": "parcoords"
           }
          ],
          "pie": [
           {
            "automargin": true,
            "type": "pie"
           }
          ],
          "scatter": [
           {
            "fillpattern": {
             "fillmode": "overlay",
             "size": 10,
             "solidity": 0.2
            },
            "type": "scatter"
           }
          ],
          "scatter3d": [
           {
            "line": {
             "colorbar": {
              "outlinewidth": 0,
              "ticks": ""
             }
            },
            "marker": {
             "colorbar": {
              "outlinewidth": 0,
              "ticks": ""
             }
            },
            "type": "scatter3d"
           }
          ],
          "scattercarpet": [
           {
            "marker": {
             "colorbar": {
              "outlinewidth": 0,
              "ticks": ""
             }
            },
            "type": "scattercarpet"
           }
          ],
          "scattergeo": [
           {
            "marker": {
             "colorbar": {
              "outlinewidth": 0,
              "ticks": ""
             }
            },
            "type": "scattergeo"
           }
          ],
          "scattergl": [
           {
            "marker": {
             "colorbar": {
              "outlinewidth": 0,
              "ticks": ""
             }
            },
            "type": "scattergl"
           }
          ],
          "scattermapbox": [
           {
            "marker": {
             "colorbar": {
              "outlinewidth": 0,
              "ticks": ""
             }
            },
            "type": "scattermapbox"
           }
          ],
          "scatterpolar": [
           {
            "marker": {
             "colorbar": {
              "outlinewidth": 0,
              "ticks": ""
             }
            },
            "type": "scatterpolar"
           }
          ],
          "scatterpolargl": [
           {
            "marker": {
             "colorbar": {
              "outlinewidth": 0,
              "ticks": ""
             }
            },
            "type": "scatterpolargl"
           }
          ],
          "scatterternary": [
           {
            "marker": {
             "colorbar": {
              "outlinewidth": 0,
              "ticks": ""
             }
            },
            "type": "scatterternary"
           }
          ],
          "surface": [
           {
            "colorbar": {
             "outlinewidth": 0,
             "ticks": ""
            },
            "colorscale": [
             [
              0,
              "#0d0887"
             ],
             [
              0.1111111111111111,
              "#46039f"
             ],
             [
              0.2222222222222222,
              "#7201a8"
             ],
             [
              0.3333333333333333,
              "#9c179e"
             ],
             [
              0.4444444444444444,
              "#bd3786"
             ],
             [
              0.5555555555555556,
              "#d8576b"
             ],
             [
              0.6666666666666666,
              "#ed7953"
             ],
             [
              0.7777777777777778,
              "#fb9f3a"
             ],
             [
              0.8888888888888888,
              "#fdca26"
             ],
             [
              1,
              "#f0f921"
             ]
            ],
            "type": "surface"
           }
          ],
          "table": [
           {
            "cells": {
             "fill": {
              "color": "#EBF0F8"
             },
             "line": {
              "color": "white"
             }
            },
            "header": {
             "fill": {
              "color": "#C8D4E3"
             },
             "line": {
              "color": "white"
             }
            },
            "type": "table"
           }
          ]
         },
         "layout": {
          "annotationdefaults": {
           "arrowcolor": "#2a3f5f",
           "arrowhead": 0,
           "arrowwidth": 1
          },
          "autotypenumbers": "strict",
          "coloraxis": {
           "colorbar": {
            "outlinewidth": 0,
            "ticks": ""
           }
          },
          "colorscale": {
           "diverging": [
            [
             0,
             "#8e0152"
            ],
            [
             0.1,
             "#c51b7d"
            ],
            [
             0.2,
             "#de77ae"
            ],
            [
             0.3,
             "#f1b6da"
            ],
            [
             0.4,
             "#fde0ef"
            ],
            [
             0.5,
             "#f7f7f7"
            ],
            [
             0.6,
             "#e6f5d0"
            ],
            [
             0.7,
             "#b8e186"
            ],
            [
             0.8,
             "#7fbc41"
            ],
            [
             0.9,
             "#4d9221"
            ],
            [
             1,
             "#276419"
            ]
           ],
           "sequential": [
            [
             0,
             "#0d0887"
            ],
            [
             0.1111111111111111,
             "#46039f"
            ],
            [
             0.2222222222222222,
             "#7201a8"
            ],
            [
             0.3333333333333333,
             "#9c179e"
            ],
            [
             0.4444444444444444,
             "#bd3786"
            ],
            [
             0.5555555555555556,
             "#d8576b"
            ],
            [
             0.6666666666666666,
             "#ed7953"
            ],
            [
             0.7777777777777778,
             "#fb9f3a"
            ],
            [
             0.8888888888888888,
             "#fdca26"
            ],
            [
             1,
             "#f0f921"
            ]
           ],
           "sequentialminus": [
            [
             0,
             "#0d0887"
            ],
            [
             0.1111111111111111,
             "#46039f"
            ],
            [
             0.2222222222222222,
             "#7201a8"
            ],
            [
             0.3333333333333333,
             "#9c179e"
            ],
            [
             0.4444444444444444,
             "#bd3786"
            ],
            [
             0.5555555555555556,
             "#d8576b"
            ],
            [
             0.6666666666666666,
             "#ed7953"
            ],
            [
             0.7777777777777778,
             "#fb9f3a"
            ],
            [
             0.8888888888888888,
             "#fdca26"
            ],
            [
             1,
             "#f0f921"
            ]
           ]
          },
          "colorway": [
           "#636efa",
           "#EF553B",
           "#00cc96",
           "#ab63fa",
           "#FFA15A",
           "#19d3f3",
           "#FF6692",
           "#B6E880",
           "#FF97FF",
           "#FECB52"
          ],
          "font": {
           "color": "#2a3f5f"
          },
          "geo": {
           "bgcolor": "white",
           "lakecolor": "white",
           "landcolor": "#E5ECF6",
           "showlakes": true,
           "showland": true,
           "subunitcolor": "white"
          },
          "hoverlabel": {
           "align": "left"
          },
          "hovermode": "closest",
          "mapbox": {
           "style": "light"
          },
          "paper_bgcolor": "white",
          "plot_bgcolor": "#E5ECF6",
          "polar": {
           "angularaxis": {
            "gridcolor": "white",
            "linecolor": "white",
            "ticks": ""
           },
           "bgcolor": "#E5ECF6",
           "radialaxis": {
            "gridcolor": "white",
            "linecolor": "white",
            "ticks": ""
           }
          },
          "scene": {
           "xaxis": {
            "backgroundcolor": "#E5ECF6",
            "gridcolor": "white",
            "gridwidth": 2,
            "linecolor": "white",
            "showbackground": true,
            "ticks": "",
            "zerolinecolor": "white"
           },
           "yaxis": {
            "backgroundcolor": "#E5ECF6",
            "gridcolor": "white",
            "gridwidth": 2,
            "linecolor": "white",
            "showbackground": true,
            "ticks": "",
            "zerolinecolor": "white"
           },
           "zaxis": {
            "backgroundcolor": "#E5ECF6",
            "gridcolor": "white",
            "gridwidth": 2,
            "linecolor": "white",
            "showbackground": true,
            "ticks": "",
            "zerolinecolor": "white"
           }
          },
          "shapedefaults": {
           "line": {
            "color": "#2a3f5f"
           }
          },
          "ternary": {
           "aaxis": {
            "gridcolor": "white",
            "linecolor": "white",
            "ticks": ""
           },
           "baxis": {
            "gridcolor": "white",
            "linecolor": "white",
            "ticks": ""
           },
           "bgcolor": "#E5ECF6",
           "caxis": {
            "gridcolor": "white",
            "linecolor": "white",
            "ticks": ""
           }
          },
          "title": {
           "x": 0.05
          },
          "xaxis": {
           "automargin": true,
           "gridcolor": "white",
           "linecolor": "white",
           "ticks": "",
           "title": {
            "standoff": 15
           },
           "zerolinecolor": "white",
           "zerolinewidth": 2
          },
          "yaxis": {
           "automargin": true,
           "gridcolor": "white",
           "linecolor": "white",
           "ticks": "",
           "title": {
            "standoff": 15
           },
           "zerolinecolor": "white",
           "zerolinewidth": 2
          }
         }
        }
       }
      }
     },
     "metadata": {},
     "output_type": "display_data"
    },
    {
     "name": "stdout",
     "output_type": "stream",
     "text": [
      "torch.Size([210])\n"
     ]
    },
    {
     "data": {
      "application/vnd.plotly.v1+json": {
       "config": {
        "plotlyServerURL": "https://plot.ly"
       },
       "data": [
        {
         "type": "scatter",
         "x": [
          0,
          1,
          2,
          3,
          4,
          5,
          6,
          7,
          8,
          9,
          10,
          11,
          12,
          13,
          14,
          15,
          16,
          17,
          18,
          19,
          20,
          21,
          22,
          23,
          24,
          25,
          26,
          27,
          28,
          29,
          30,
          31,
          32,
          33,
          34,
          35,
          36,
          37,
          38,
          39,
          40,
          41,
          42,
          43,
          44,
          45,
          46,
          47,
          48,
          49,
          50,
          51,
          52,
          53,
          54,
          55,
          56,
          57,
          58,
          59,
          60,
          61,
          62,
          63,
          64,
          65,
          66,
          67,
          68,
          69,
          70,
          71,
          72,
          73,
          74,
          75,
          76,
          77,
          78,
          79,
          80,
          81,
          82,
          83,
          84,
          85,
          86,
          87,
          88,
          89,
          90,
          91,
          92,
          93,
          94,
          95,
          96,
          97,
          98,
          99,
          100,
          101,
          102,
          103,
          104,
          105,
          106,
          107,
          108,
          109,
          110,
          111,
          112,
          113,
          114,
          115,
          116,
          117,
          118,
          119,
          120,
          121,
          122,
          123,
          124,
          125,
          126,
          127,
          128,
          129,
          130,
          131,
          132,
          133,
          134,
          135,
          136,
          137,
          138,
          139,
          140,
          141,
          142,
          143,
          144,
          145,
          146,
          147,
          148,
          149,
          150,
          151,
          152,
          153,
          154,
          155,
          156,
          157,
          158,
          159,
          160,
          161,
          162,
          163,
          164,
          165,
          166,
          167,
          168,
          169,
          170,
          171,
          172,
          173,
          174,
          175,
          176,
          177,
          178,
          179,
          180,
          181,
          182,
          183,
          184,
          185,
          186,
          187,
          188,
          189,
          190,
          191,
          192,
          193,
          194,
          195,
          196,
          197,
          198,
          199,
          200,
          201,
          202,
          203,
          204,
          205,
          206,
          207,
          208,
          209
         ],
         "y": [
          -0.4141753017902374,
          -0.4022730588912964,
          -0.3688512146472931,
          -0.3588360548019409,
          -0.35741832852363586,
          -0.3262646198272705,
          -0.30758151412010193,
          -0.30544155836105347,
          -0.29703137278556824,
          -0.2929157614707947,
          -0.28958892822265625,
          -0.287366658449173,
          -0.28374016284942627,
          -0.2670477330684662,
          -0.2643102705478668,
          -0.25928640365600586,
          -0.24267546832561493,
          -0.23871883749961853,
          -0.22038067877292633,
          -0.22003532946109772,
          -0.21853742003440857,
          -0.21400822699069977,
          -0.20589309930801392,
          -0.20503337681293488,
          -0.20316193997859955,
          -0.2016407996416092,
          -0.19473697245121002,
          -0.18973574042320251,
          -0.1894744634628296,
          -0.18359607458114624,
          -0.16839493811130524,
          -0.16495177149772644,
          -0.158207967877388,
          -0.1580074578523636,
          -0.1504511684179306,
          -0.15040943026542664,
          -0.13997140526771545,
          -0.13846257328987122,
          -0.13076508045196533,
          -0.1272299438714981,
          -0.126300647854805,
          -0.12559662759304047,
          -0.12424828112125397,
          -0.12421039491891861,
          -0.11971811205148697,
          -0.1132957935333252,
          -0.10526666790246964,
          -0.09990847110748291,
          -0.0989713966846466,
          -0.09741640836000443,
          -0.08853062987327576,
          -0.08096521347761154,
          -0.07976845651865005,
          -0.07951298356056213,
          -0.07879330962896347,
          -0.07876501977443695,
          -0.07732658833265305,
          -0.07326744496822357,
          -0.0703604519367218,
          -0.0691145583987236,
          -0.06489749252796173,
          -0.06373810023069382,
          -0.061508968472480774,
          -0.06060014292597771,
          -0.05796024575829506,
          -0.05795116350054741,
          -0.05631745234131813,
          -0.05569116026163101,
          -0.0533965528011322,
          -0.05095182731747627,
          -0.05052638053894043,
          -0.046049825847148895,
          -0.0402756929397583,
          -0.03715076297521591,
          -0.03541140258312225,
          -0.034387413412332535,
          -0.029627272859215736,
          -0.017996802926063538,
          -0.017273608595132828,
          -0.016077402979135513,
          -0.014497189782559872,
          -0.014361875131726265,
          -0.012284108437597752,
          -0.011151276528835297,
          -0.0059023210778832436,
          -0.004177947528660297,
          -0.000035112279874738306,
          0.002357364632189274,
          0.0026923834811896086,
          0.004969779867678881,
          0.007130469661206007,
          0.008103233762085438,
          0.013759982772171497,
          0.016755204647779465,
          0.01799376867711544,
          0.01805085316300392,
          0.021011056378483772,
          0.023455582559108734,
          0.024844491854310036,
          0.025200897827744484,
          0.029246371239423752,
          0.02997520938515663,
          0.03412666916847229,
          0.035811543464660645,
          0.03638680279254913,
          0.03803704306483269,
          0.038071755319833755,
          0.04285363107919693,
          0.043108049780130386,
          0.043834492564201355,
          0.04812910407781601,
          0.049187857657670975,
          0.05207207053899765,
          0.052896931767463684,
          0.05495723709464073,
          0.056441329419612885,
          0.05910251662135124,
          0.05964180827140808,
          0.061974503099918365,
          0.0627039298415184,
          0.06433703750371933,
          0.07006307691335678,
          0.07066280394792557,
          0.07090653479099274,
          0.07157497107982635,
          0.07558440417051315,
          0.07666676491498947,
          0.0782882496714592,
          0.08088839799165726,
          0.08391934633255005,
          0.08422297984361649,
          0.08765234053134918,
          0.08990248292684555,
          0.09018456190824509,
          0.09873853623867035,
          0.10234182327985764,
          0.10327678173780441,
          0.11128317564725876,
          0.11195320636034012,
          0.11316126585006714,
          0.11839579790830612,
          0.11950080841779709,
          0.12196534126996994,
          0.12555529177188873,
          0.12652182579040527,
          0.12910231947898865,
          0.12964178621768951,
          0.1307811588048935,
          0.13093027472496033,
          0.1352018266916275,
          0.13614392280578613,
          0.13728412985801697,
          0.13906805217266083,
          0.1411404013633728,
          0.14183247089385986,
          0.14602862298488617,
          0.14983829855918884,
          0.15158483386039734,
          0.15375208854675293,
          0.16266672313213348,
          0.16335421800613403,
          0.16637124121189117,
          0.17148204147815704,
          0.17411132156848907,
          0.17594127357006073,
          0.18316173553466797,
          0.1836937963962555,
          0.1844109296798706,
          0.18858659267425537,
          0.1900586634874344,
          0.19030694663524628,
          0.19778002798557281,
          0.20179438591003418,
          0.20658673346042633,
          0.20687809586524963,
          0.20958736538887024,
          0.21128018200397491,
          0.22639334201812744,
          0.22834038734436035,
          0.2351655811071396,
          0.23568515479564667,
          0.23661074042320251,
          0.24152103066444397,
          0.24499288201332092,
          0.2463139444589615,
          0.24685236811637878,
          0.25191977620124817,
          0.25278955698013306,
          0.2536829710006714,
          0.2541823387145996,
          0.2578776478767395,
          0.2796763479709625,
          0.28023114800453186,
          0.2830978333950043,
          0.2968582510948181,
          0.30983132123947144,
          0.31455016136169434,
          0.31628406047821045,
          0.319276362657547,
          0.33601996302604675,
          0.34430885314941406,
          0.35067349672317505,
          0.3623720705509186,
          0.3863678276538849,
          0.38897955417633057,
          0.4415547549724579,
          0.44511938095092773,
          0.4570368528366089,
          0.4831312894821167,
          0.49646130204200745
         ]
        }
       ],
       "layout": {
        "template": {
         "data": {
          "bar": [
           {
            "error_x": {
             "color": "#2a3f5f"
            },
            "error_y": {
             "color": "#2a3f5f"
            },
            "marker": {
             "line": {
              "color": "#E5ECF6",
              "width": 0.5
             },
             "pattern": {
              "fillmode": "overlay",
              "size": 10,
              "solidity": 0.2
             }
            },
            "type": "bar"
           }
          ],
          "barpolar": [
           {
            "marker": {
             "line": {
              "color": "#E5ECF6",
              "width": 0.5
             },
             "pattern": {
              "fillmode": "overlay",
              "size": 10,
              "solidity": 0.2
             }
            },
            "type": "barpolar"
           }
          ],
          "carpet": [
           {
            "aaxis": {
             "endlinecolor": "#2a3f5f",
             "gridcolor": "white",
             "linecolor": "white",
             "minorgridcolor": "white",
             "startlinecolor": "#2a3f5f"
            },
            "baxis": {
             "endlinecolor": "#2a3f5f",
             "gridcolor": "white",
             "linecolor": "white",
             "minorgridcolor": "white",
             "startlinecolor": "#2a3f5f"
            },
            "type": "carpet"
           }
          ],
          "choropleth": [
           {
            "colorbar": {
             "outlinewidth": 0,
             "ticks": ""
            },
            "type": "choropleth"
           }
          ],
          "contour": [
           {
            "colorbar": {
             "outlinewidth": 0,
             "ticks": ""
            },
            "colorscale": [
             [
              0,
              "#0d0887"
             ],
             [
              0.1111111111111111,
              "#46039f"
             ],
             [
              0.2222222222222222,
              "#7201a8"
             ],
             [
              0.3333333333333333,
              "#9c179e"
             ],
             [
              0.4444444444444444,
              "#bd3786"
             ],
             [
              0.5555555555555556,
              "#d8576b"
             ],
             [
              0.6666666666666666,
              "#ed7953"
             ],
             [
              0.7777777777777778,
              "#fb9f3a"
             ],
             [
              0.8888888888888888,
              "#fdca26"
             ],
             [
              1,
              "#f0f921"
             ]
            ],
            "type": "contour"
           }
          ],
          "contourcarpet": [
           {
            "colorbar": {
             "outlinewidth": 0,
             "ticks": ""
            },
            "type": "contourcarpet"
           }
          ],
          "heatmap": [
           {
            "colorbar": {
             "outlinewidth": 0,
             "ticks": ""
            },
            "colorscale": [
             [
              0,
              "#0d0887"
             ],
             [
              0.1111111111111111,
              "#46039f"
             ],
             [
              0.2222222222222222,
              "#7201a8"
             ],
             [
              0.3333333333333333,
              "#9c179e"
             ],
             [
              0.4444444444444444,
              "#bd3786"
             ],
             [
              0.5555555555555556,
              "#d8576b"
             ],
             [
              0.6666666666666666,
              "#ed7953"
             ],
             [
              0.7777777777777778,
              "#fb9f3a"
             ],
             [
              0.8888888888888888,
              "#fdca26"
             ],
             [
              1,
              "#f0f921"
             ]
            ],
            "type": "heatmap"
           }
          ],
          "heatmapgl": [
           {
            "colorbar": {
             "outlinewidth": 0,
             "ticks": ""
            },
            "colorscale": [
             [
              0,
              "#0d0887"
             ],
             [
              0.1111111111111111,
              "#46039f"
             ],
             [
              0.2222222222222222,
              "#7201a8"
             ],
             [
              0.3333333333333333,
              "#9c179e"
             ],
             [
              0.4444444444444444,
              "#bd3786"
             ],
             [
              0.5555555555555556,
              "#d8576b"
             ],
             [
              0.6666666666666666,
              "#ed7953"
             ],
             [
              0.7777777777777778,
              "#fb9f3a"
             ],
             [
              0.8888888888888888,
              "#fdca26"
             ],
             [
              1,
              "#f0f921"
             ]
            ],
            "type": "heatmapgl"
           }
          ],
          "histogram": [
           {
            "marker": {
             "pattern": {
              "fillmode": "overlay",
              "size": 10,
              "solidity": 0.2
             }
            },
            "type": "histogram"
           }
          ],
          "histogram2d": [
           {
            "colorbar": {
             "outlinewidth": 0,
             "ticks": ""
            },
            "colorscale": [
             [
              0,
              "#0d0887"
             ],
             [
              0.1111111111111111,
              "#46039f"
             ],
             [
              0.2222222222222222,
              "#7201a8"
             ],
             [
              0.3333333333333333,
              "#9c179e"
             ],
             [
              0.4444444444444444,
              "#bd3786"
             ],
             [
              0.5555555555555556,
              "#d8576b"
             ],
             [
              0.6666666666666666,
              "#ed7953"
             ],
             [
              0.7777777777777778,
              "#fb9f3a"
             ],
             [
              0.8888888888888888,
              "#fdca26"
             ],
             [
              1,
              "#f0f921"
             ]
            ],
            "type": "histogram2d"
           }
          ],
          "histogram2dcontour": [
           {
            "colorbar": {
             "outlinewidth": 0,
             "ticks": ""
            },
            "colorscale": [
             [
              0,
              "#0d0887"
             ],
             [
              0.1111111111111111,
              "#46039f"
             ],
             [
              0.2222222222222222,
              "#7201a8"
             ],
             [
              0.3333333333333333,
              "#9c179e"
             ],
             [
              0.4444444444444444,
              "#bd3786"
             ],
             [
              0.5555555555555556,
              "#d8576b"
             ],
             [
              0.6666666666666666,
              "#ed7953"
             ],
             [
              0.7777777777777778,
              "#fb9f3a"
             ],
             [
              0.8888888888888888,
              "#fdca26"
             ],
             [
              1,
              "#f0f921"
             ]
            ],
            "type": "histogram2dcontour"
           }
          ],
          "mesh3d": [
           {
            "colorbar": {
             "outlinewidth": 0,
             "ticks": ""
            },
            "type": "mesh3d"
           }
          ],
          "parcoords": [
           {
            "line": {
             "colorbar": {
              "outlinewidth": 0,
              "ticks": ""
             }
            },
            "type": "parcoords"
           }
          ],
          "pie": [
           {
            "automargin": true,
            "type": "pie"
           }
          ],
          "scatter": [
           {
            "fillpattern": {
             "fillmode": "overlay",
             "size": 10,
             "solidity": 0.2
            },
            "type": "scatter"
           }
          ],
          "scatter3d": [
           {
            "line": {
             "colorbar": {
              "outlinewidth": 0,
              "ticks": ""
             }
            },
            "marker": {
             "colorbar": {
              "outlinewidth": 0,
              "ticks": ""
             }
            },
            "type": "scatter3d"
           }
          ],
          "scattercarpet": [
           {
            "marker": {
             "colorbar": {
              "outlinewidth": 0,
              "ticks": ""
             }
            },
            "type": "scattercarpet"
           }
          ],
          "scattergeo": [
           {
            "marker": {
             "colorbar": {
              "outlinewidth": 0,
              "ticks": ""
             }
            },
            "type": "scattergeo"
           }
          ],
          "scattergl": [
           {
            "marker": {
             "colorbar": {
              "outlinewidth": 0,
              "ticks": ""
             }
            },
            "type": "scattergl"
           }
          ],
          "scattermapbox": [
           {
            "marker": {
             "colorbar": {
              "outlinewidth": 0,
              "ticks": ""
             }
            },
            "type": "scattermapbox"
           }
          ],
          "scatterpolar": [
           {
            "marker": {
             "colorbar": {
              "outlinewidth": 0,
              "ticks": ""
             }
            },
            "type": "scatterpolar"
           }
          ],
          "scatterpolargl": [
           {
            "marker": {
             "colorbar": {
              "outlinewidth": 0,
              "ticks": ""
             }
            },
            "type": "scatterpolargl"
           }
          ],
          "scatterternary": [
           {
            "marker": {
             "colorbar": {
              "outlinewidth": 0,
              "ticks": ""
             }
            },
            "type": "scatterternary"
           }
          ],
          "surface": [
           {
            "colorbar": {
             "outlinewidth": 0,
             "ticks": ""
            },
            "colorscale": [
             [
              0,
              "#0d0887"
             ],
             [
              0.1111111111111111,
              "#46039f"
             ],
             [
              0.2222222222222222,
              "#7201a8"
             ],
             [
              0.3333333333333333,
              "#9c179e"
             ],
             [
              0.4444444444444444,
              "#bd3786"
             ],
             [
              0.5555555555555556,
              "#d8576b"
             ],
             [
              0.6666666666666666,
              "#ed7953"
             ],
             [
              0.7777777777777778,
              "#fb9f3a"
             ],
             [
              0.8888888888888888,
              "#fdca26"
             ],
             [
              1,
              "#f0f921"
             ]
            ],
            "type": "surface"
           }
          ],
          "table": [
           {
            "cells": {
             "fill": {
              "color": "#EBF0F8"
             },
             "line": {
              "color": "white"
             }
            },
            "header": {
             "fill": {
              "color": "#C8D4E3"
             },
             "line": {
              "color": "white"
             }
            },
            "type": "table"
           }
          ]
         },
         "layout": {
          "annotationdefaults": {
           "arrowcolor": "#2a3f5f",
           "arrowhead": 0,
           "arrowwidth": 1
          },
          "autotypenumbers": "strict",
          "coloraxis": {
           "colorbar": {
            "outlinewidth": 0,
            "ticks": ""
           }
          },
          "colorscale": {
           "diverging": [
            [
             0,
             "#8e0152"
            ],
            [
             0.1,
             "#c51b7d"
            ],
            [
             0.2,
             "#de77ae"
            ],
            [
             0.3,
             "#f1b6da"
            ],
            [
             0.4,
             "#fde0ef"
            ],
            [
             0.5,
             "#f7f7f7"
            ],
            [
             0.6,
             "#e6f5d0"
            ],
            [
             0.7,
             "#b8e186"
            ],
            [
             0.8,
             "#7fbc41"
            ],
            [
             0.9,
             "#4d9221"
            ],
            [
             1,
             "#276419"
            ]
           ],
           "sequential": [
            [
             0,
             "#0d0887"
            ],
            [
             0.1111111111111111,
             "#46039f"
            ],
            [
             0.2222222222222222,
             "#7201a8"
            ],
            [
             0.3333333333333333,
             "#9c179e"
            ],
            [
             0.4444444444444444,
             "#bd3786"
            ],
            [
             0.5555555555555556,
             "#d8576b"
            ],
            [
             0.6666666666666666,
             "#ed7953"
            ],
            [
             0.7777777777777778,
             "#fb9f3a"
            ],
            [
             0.8888888888888888,
             "#fdca26"
            ],
            [
             1,
             "#f0f921"
            ]
           ],
           "sequentialminus": [
            [
             0,
             "#0d0887"
            ],
            [
             0.1111111111111111,
             "#46039f"
            ],
            [
             0.2222222222222222,
             "#7201a8"
            ],
            [
             0.3333333333333333,
             "#9c179e"
            ],
            [
             0.4444444444444444,
             "#bd3786"
            ],
            [
             0.5555555555555556,
             "#d8576b"
            ],
            [
             0.6666666666666666,
             "#ed7953"
            ],
            [
             0.7777777777777778,
             "#fb9f3a"
            ],
            [
             0.8888888888888888,
             "#fdca26"
            ],
            [
             1,
             "#f0f921"
            ]
           ]
          },
          "colorway": [
           "#636efa",
           "#EF553B",
           "#00cc96",
           "#ab63fa",
           "#FFA15A",
           "#19d3f3",
           "#FF6692",
           "#B6E880",
           "#FF97FF",
           "#FECB52"
          ],
          "font": {
           "color": "#2a3f5f"
          },
          "geo": {
           "bgcolor": "white",
           "lakecolor": "white",
           "landcolor": "#E5ECF6",
           "showlakes": true,
           "showland": true,
           "subunitcolor": "white"
          },
          "hoverlabel": {
           "align": "left"
          },
          "hovermode": "closest",
          "mapbox": {
           "style": "light"
          },
          "paper_bgcolor": "white",
          "plot_bgcolor": "#E5ECF6",
          "polar": {
           "angularaxis": {
            "gridcolor": "white",
            "linecolor": "white",
            "ticks": ""
           },
           "bgcolor": "#E5ECF6",
           "radialaxis": {
            "gridcolor": "white",
            "linecolor": "white",
            "ticks": ""
           }
          },
          "scene": {
           "xaxis": {
            "backgroundcolor": "#E5ECF6",
            "gridcolor": "white",
            "gridwidth": 2,
            "linecolor": "white",
            "showbackground": true,
            "ticks": "",
            "zerolinecolor": "white"
           },
           "yaxis": {
            "backgroundcolor": "#E5ECF6",
            "gridcolor": "white",
            "gridwidth": 2,
            "linecolor": "white",
            "showbackground": true,
            "ticks": "",
            "zerolinecolor": "white"
           },
           "zaxis": {
            "backgroundcolor": "#E5ECF6",
            "gridcolor": "white",
            "gridwidth": 2,
            "linecolor": "white",
            "showbackground": true,
            "ticks": "",
            "zerolinecolor": "white"
           }
          },
          "shapedefaults": {
           "line": {
            "color": "#2a3f5f"
           }
          },
          "ternary": {
           "aaxis": {
            "gridcolor": "white",
            "linecolor": "white",
            "ticks": ""
           },
           "baxis": {
            "gridcolor": "white",
            "linecolor": "white",
            "ticks": ""
           },
           "bgcolor": "#E5ECF6",
           "caxis": {
            "gridcolor": "white",
            "linecolor": "white",
            "ticks": ""
           }
          },
          "title": {
           "x": 0.05
          },
          "xaxis": {
           "automargin": true,
           "gridcolor": "white",
           "linecolor": "white",
           "ticks": "",
           "title": {
            "standoff": 15
           },
           "zerolinecolor": "white",
           "zerolinewidth": 2
          },
          "yaxis": {
           "automargin": true,
           "gridcolor": "white",
           "linecolor": "white",
           "ticks": "",
           "title": {
            "standoff": 15
           },
           "zerolinecolor": "white",
           "zerolinewidth": 2
          }
         }
        }
       }
      }
     },
     "metadata": {},
     "output_type": "display_data"
    },
    {
     "name": "stdout",
     "output_type": "stream",
     "text": [
      "torch.Size([225])\n"
     ]
    },
    {
     "data": {
      "application/vnd.plotly.v1+json": {
       "config": {
        "plotlyServerURL": "https://plot.ly"
       },
       "data": [
        {
         "type": "scatter",
         "x": [
          0,
          1,
          2,
          3,
          4,
          5,
          6,
          7,
          8,
          9,
          10,
          11,
          12,
          13,
          14,
          15,
          16,
          17,
          18,
          19,
          20,
          21,
          22,
          23,
          24,
          25,
          26,
          27,
          28,
          29,
          30,
          31,
          32,
          33,
          34,
          35,
          36,
          37,
          38,
          39,
          40,
          41,
          42,
          43,
          44,
          45,
          46,
          47,
          48,
          49,
          50,
          51,
          52,
          53,
          54,
          55,
          56,
          57,
          58,
          59,
          60,
          61,
          62,
          63,
          64,
          65,
          66,
          67,
          68,
          69,
          70,
          71,
          72,
          73,
          74,
          75,
          76,
          77,
          78,
          79,
          80,
          81,
          82,
          83,
          84,
          85,
          86,
          87,
          88,
          89,
          90,
          91,
          92,
          93,
          94,
          95,
          96,
          97,
          98,
          99,
          100,
          101,
          102,
          103,
          104,
          105,
          106,
          107,
          108,
          109,
          110,
          111,
          112,
          113,
          114,
          115,
          116,
          117,
          118,
          119,
          120,
          121,
          122,
          123,
          124,
          125,
          126,
          127,
          128,
          129,
          130,
          131,
          132,
          133,
          134,
          135,
          136,
          137,
          138,
          139,
          140,
          141,
          142,
          143,
          144,
          145,
          146,
          147,
          148,
          149,
          150,
          151,
          152,
          153,
          154,
          155,
          156,
          157,
          158,
          159,
          160,
          161,
          162,
          163,
          164,
          165,
          166,
          167,
          168,
          169,
          170,
          171,
          172,
          173,
          174,
          175,
          176,
          177,
          178,
          179,
          180,
          181,
          182,
          183,
          184,
          185,
          186,
          187,
          188,
          189,
          190,
          191,
          192,
          193,
          194,
          195,
          196,
          197,
          198,
          199,
          200,
          201,
          202,
          203,
          204,
          205,
          206,
          207,
          208,
          209,
          210,
          211,
          212,
          213,
          214,
          215,
          216,
          217,
          218,
          219,
          220,
          221,
          222,
          223,
          224
         ],
         "y": [
          -0.5120984315872192,
          -0.44517266750335693,
          -0.4227134883403778,
          -0.40327462553977966,
          -0.4010901153087616,
          -0.3723212778568268,
          -0.3693668246269226,
          -0.33827704191207886,
          -0.3287919759750366,
          -0.3251897096633911,
          -0.2992485761642456,
          -0.28753799200057983,
          -0.2866367697715759,
          -0.27075445652008057,
          -0.2648025453090668,
          -0.26048630475997925,
          -0.25282102823257446,
          -0.24397693574428558,
          -0.2400287240743637,
          -0.23988033831119537,
          -0.23183327913284302,
          -0.23121875524520874,
          -0.230138897895813,
          -0.2298208326101303,
          -0.22819441556930542,
          -0.21381308138370514,
          -0.21252423524856567,
          -0.21247614920139313,
          -0.21147488057613373,
          -0.20813007652759552,
          -0.1983090490102768,
          -0.19433481991291046,
          -0.19297762215137482,
          -0.1928068846464157,
          -0.18956318497657776,
          -0.1826966255903244,
          -0.17977683246135712,
          -0.17678359150886536,
          -0.16580726206302643,
          -0.16511158645153046,
          -0.1630869209766388,
          -0.16041803359985352,
          -0.16022278368473053,
          -0.15969514846801758,
          -0.158503457903862,
          -0.1541396826505661,
          -0.1539844423532486,
          -0.15230759978294373,
          -0.15103398263454437,
          -0.14974570274353027,
          -0.14408867061138153,
          -0.14150546491146088,
          -0.14034593105316162,
          -0.13982269167900085,
          -0.13834324479103088,
          -0.1367695927619934,
          -0.1366073340177536,
          -0.1365460306406021,
          -0.12711948156356812,
          -0.12479742616415024,
          -0.12451145797967911,
          -0.12019723653793335,
          -0.11654145270586014,
          -0.11572306603193283,
          -0.1155068650841713,
          -0.11368884891271591,
          -0.11221858114004135,
          -0.11107517033815384,
          -0.09797270596027374,
          -0.0924435406923294,
          -0.09047310799360275,
          -0.08701640367507935,
          -0.08660393208265305,
          -0.08356965333223343,
          -0.07894075661897659,
          -0.07723642140626907,
          -0.07588959485292435,
          -0.07522483915090561,
          -0.07479731738567352,
          -0.06741062551736832,
          -0.06452364474534988,
          -0.06386826932430267,
          -0.05352262407541275,
          -0.05326024070382118,
          -0.05220123752951622,
          -0.05034388601779938,
          -0.04695720970630646,
          -0.046529728919267654,
          -0.04466785117983818,
          -0.04240589216351509,
          -0.035199735313653946,
          -0.03437101095914841,
          -0.033945102244615555,
          -0.03236619755625725,
          -0.03232026845216751,
          -0.0309296902269125,
          -0.03013937920331955,
          -0.0298225786536932,
          -0.025372177362442017,
          -0.023632830008864403,
          -0.023506825789809227,
          -0.02340526320040226,
          -0.02309839427471161,
          -0.020734502002596855,
          -0.020139049738645554,
          -0.017505114898085594,
          -0.013732613064348698,
          -0.012739046476781368,
          -0.011387743055820465,
          -0.010819666087627411,
          -0.010038657113909721,
          -0.00951659306883812,
          -0.00724571431055665,
          -0.0062383865006268024,
          -0.004217039328068495,
          -0.0037146720569580793,
          -0.0020573053043335676,
          -0.001266386592760682,
          0.00031150755239650607,
          0.008488306775689125,
          0.008701704442501068,
          0.01301795057952404,
          0.013362803496420383,
          0.016728077083826065,
          0.018017739057540894,
          0.019958704710006714,
          0.021373039111495018,
          0.02153933420777321,
          0.0226801335811615,
          0.03462518751621246,
          0.03604617342352867,
          0.0371919684112072,
          0.04209992662072182,
          0.04285374656319618,
          0.043934162706136703,
          0.04481060057878494,
          0.04507803916931152,
          0.047573965042829514,
          0.05240726098418236,
          0.053812071681022644,
          0.05483037978410721,
          0.05702412873506546,
          0.05916554108262062,
          0.0611547976732254,
          0.06176729500293732,
          0.06359385699033737,
          0.06684567779302597,
          0.07064110785722733,
          0.07633482664823532,
          0.0797245129942894,
          0.0798487439751625,
          0.08248866349458694,
          0.08352172374725342,
          0.08552359789609909,
          0.08744722604751587,
          0.0936012864112854,
          0.09406378120183945,
          0.09464498609304428,
          0.09598147124052048,
          0.09735369682312012,
          0.09945934265851974,
          0.10034128278493881,
          0.10411704331636429,
          0.10706730931997299,
          0.10778773576021194,
          0.10819278657436371,
          0.11293280869722366,
          0.11366618424654007,
          0.1154494360089302,
          0.12004277110099792,
          0.12743449211120605,
          0.12825512886047363,
          0.12848585844039917,
          0.13295644521713257,
          0.1370665580034256,
          0.1471886783838272,
          0.14872470498085022,
          0.15312279760837555,
          0.1532856971025467,
          0.15391162037849426,
          0.15672333538532257,
          0.16104935109615326,
          0.1624155044555664,
          0.16485917568206787,
          0.17347903549671173,
          0.17348243296146393,
          0.17833445966243744,
          0.18296988308429718,
          0.18757909536361694,
          0.18855907022953033,
          0.1921650469303131,
          0.1926821768283844,
          0.1959010362625122,
          0.19624187052249908,
          0.21026846766471863,
          0.21841540932655334,
          0.2199208289384842,
          0.22077414393424988,
          0.22170233726501465,
          0.22535677254199982,
          0.23128940165042877,
          0.2379317730665207,
          0.2432272732257843,
          0.24579229950904846,
          0.24700677394866943,
          0.2471688687801361,
          0.25528615713119507,
          0.2562738060951233,
          0.263001412153244,
          0.277141809463501,
          0.28179287910461426,
          0.28632307052612305,
          0.29668161273002625,
          0.2974567711353302,
          0.3114809989929199,
          0.32748690247535706,
          0.33073216676712036,
          0.3332924246788025,
          0.3389357924461365,
          0.3400324583053589,
          0.3402943015098572,
          0.40263426303863525,
          0.4152940511703491,
          0.4389737546443939,
          0.44292640686035156
         ]
        }
       ],
       "layout": {
        "template": {
         "data": {
          "bar": [
           {
            "error_x": {
             "color": "#2a3f5f"
            },
            "error_y": {
             "color": "#2a3f5f"
            },
            "marker": {
             "line": {
              "color": "#E5ECF6",
              "width": 0.5
             },
             "pattern": {
              "fillmode": "overlay",
              "size": 10,
              "solidity": 0.2
             }
            },
            "type": "bar"
           }
          ],
          "barpolar": [
           {
            "marker": {
             "line": {
              "color": "#E5ECF6",
              "width": 0.5
             },
             "pattern": {
              "fillmode": "overlay",
              "size": 10,
              "solidity": 0.2
             }
            },
            "type": "barpolar"
           }
          ],
          "carpet": [
           {
            "aaxis": {
             "endlinecolor": "#2a3f5f",
             "gridcolor": "white",
             "linecolor": "white",
             "minorgridcolor": "white",
             "startlinecolor": "#2a3f5f"
            },
            "baxis": {
             "endlinecolor": "#2a3f5f",
             "gridcolor": "white",
             "linecolor": "white",
             "minorgridcolor": "white",
             "startlinecolor": "#2a3f5f"
            },
            "type": "carpet"
           }
          ],
          "choropleth": [
           {
            "colorbar": {
             "outlinewidth": 0,
             "ticks": ""
            },
            "type": "choropleth"
           }
          ],
          "contour": [
           {
            "colorbar": {
             "outlinewidth": 0,
             "ticks": ""
            },
            "colorscale": [
             [
              0,
              "#0d0887"
             ],
             [
              0.1111111111111111,
              "#46039f"
             ],
             [
              0.2222222222222222,
              "#7201a8"
             ],
             [
              0.3333333333333333,
              "#9c179e"
             ],
             [
              0.4444444444444444,
              "#bd3786"
             ],
             [
              0.5555555555555556,
              "#d8576b"
             ],
             [
              0.6666666666666666,
              "#ed7953"
             ],
             [
              0.7777777777777778,
              "#fb9f3a"
             ],
             [
              0.8888888888888888,
              "#fdca26"
             ],
             [
              1,
              "#f0f921"
             ]
            ],
            "type": "contour"
           }
          ],
          "contourcarpet": [
           {
            "colorbar": {
             "outlinewidth": 0,
             "ticks": ""
            },
            "type": "contourcarpet"
           }
          ],
          "heatmap": [
           {
            "colorbar": {
             "outlinewidth": 0,
             "ticks": ""
            },
            "colorscale": [
             [
              0,
              "#0d0887"
             ],
             [
              0.1111111111111111,
              "#46039f"
             ],
             [
              0.2222222222222222,
              "#7201a8"
             ],
             [
              0.3333333333333333,
              "#9c179e"
             ],
             [
              0.4444444444444444,
              "#bd3786"
             ],
             [
              0.5555555555555556,
              "#d8576b"
             ],
             [
              0.6666666666666666,
              "#ed7953"
             ],
             [
              0.7777777777777778,
              "#fb9f3a"
             ],
             [
              0.8888888888888888,
              "#fdca26"
             ],
             [
              1,
              "#f0f921"
             ]
            ],
            "type": "heatmap"
           }
          ],
          "heatmapgl": [
           {
            "colorbar": {
             "outlinewidth": 0,
             "ticks": ""
            },
            "colorscale": [
             [
              0,
              "#0d0887"
             ],
             [
              0.1111111111111111,
              "#46039f"
             ],
             [
              0.2222222222222222,
              "#7201a8"
             ],
             [
              0.3333333333333333,
              "#9c179e"
             ],
             [
              0.4444444444444444,
              "#bd3786"
             ],
             [
              0.5555555555555556,
              "#d8576b"
             ],
             [
              0.6666666666666666,
              "#ed7953"
             ],
             [
              0.7777777777777778,
              "#fb9f3a"
             ],
             [
              0.8888888888888888,
              "#fdca26"
             ],
             [
              1,
              "#f0f921"
             ]
            ],
            "type": "heatmapgl"
           }
          ],
          "histogram": [
           {
            "marker": {
             "pattern": {
              "fillmode": "overlay",
              "size": 10,
              "solidity": 0.2
             }
            },
            "type": "histogram"
           }
          ],
          "histogram2d": [
           {
            "colorbar": {
             "outlinewidth": 0,
             "ticks": ""
            },
            "colorscale": [
             [
              0,
              "#0d0887"
             ],
             [
              0.1111111111111111,
              "#46039f"
             ],
             [
              0.2222222222222222,
              "#7201a8"
             ],
             [
              0.3333333333333333,
              "#9c179e"
             ],
             [
              0.4444444444444444,
              "#bd3786"
             ],
             [
              0.5555555555555556,
              "#d8576b"
             ],
             [
              0.6666666666666666,
              "#ed7953"
             ],
             [
              0.7777777777777778,
              "#fb9f3a"
             ],
             [
              0.8888888888888888,
              "#fdca26"
             ],
             [
              1,
              "#f0f921"
             ]
            ],
            "type": "histogram2d"
           }
          ],
          "histogram2dcontour": [
           {
            "colorbar": {
             "outlinewidth": 0,
             "ticks": ""
            },
            "colorscale": [
             [
              0,
              "#0d0887"
             ],
             [
              0.1111111111111111,
              "#46039f"
             ],
             [
              0.2222222222222222,
              "#7201a8"
             ],
             [
              0.3333333333333333,
              "#9c179e"
             ],
             [
              0.4444444444444444,
              "#bd3786"
             ],
             [
              0.5555555555555556,
              "#d8576b"
             ],
             [
              0.6666666666666666,
              "#ed7953"
             ],
             [
              0.7777777777777778,
              "#fb9f3a"
             ],
             [
              0.8888888888888888,
              "#fdca26"
             ],
             [
              1,
              "#f0f921"
             ]
            ],
            "type": "histogram2dcontour"
           }
          ],
          "mesh3d": [
           {
            "colorbar": {
             "outlinewidth": 0,
             "ticks": ""
            },
            "type": "mesh3d"
           }
          ],
          "parcoords": [
           {
            "line": {
             "colorbar": {
              "outlinewidth": 0,
              "ticks": ""
             }
            },
            "type": "parcoords"
           }
          ],
          "pie": [
           {
            "automargin": true,
            "type": "pie"
           }
          ],
          "scatter": [
           {
            "fillpattern": {
             "fillmode": "overlay",
             "size": 10,
             "solidity": 0.2
            },
            "type": "scatter"
           }
          ],
          "scatter3d": [
           {
            "line": {
             "colorbar": {
              "outlinewidth": 0,
              "ticks": ""
             }
            },
            "marker": {
             "colorbar": {
              "outlinewidth": 0,
              "ticks": ""
             }
            },
            "type": "scatter3d"
           }
          ],
          "scattercarpet": [
           {
            "marker": {
             "colorbar": {
              "outlinewidth": 0,
              "ticks": ""
             }
            },
            "type": "scattercarpet"
           }
          ],
          "scattergeo": [
           {
            "marker": {
             "colorbar": {
              "outlinewidth": 0,
              "ticks": ""
             }
            },
            "type": "scattergeo"
           }
          ],
          "scattergl": [
           {
            "marker": {
             "colorbar": {
              "outlinewidth": 0,
              "ticks": ""
             }
            },
            "type": "scattergl"
           }
          ],
          "scattermapbox": [
           {
            "marker": {
             "colorbar": {
              "outlinewidth": 0,
              "ticks": ""
             }
            },
            "type": "scattermapbox"
           }
          ],
          "scatterpolar": [
           {
            "marker": {
             "colorbar": {
              "outlinewidth": 0,
              "ticks": ""
             }
            },
            "type": "scatterpolar"
           }
          ],
          "scatterpolargl": [
           {
            "marker": {
             "colorbar": {
              "outlinewidth": 0,
              "ticks": ""
             }
            },
            "type": "scatterpolargl"
           }
          ],
          "scatterternary": [
           {
            "marker": {
             "colorbar": {
              "outlinewidth": 0,
              "ticks": ""
             }
            },
            "type": "scatterternary"
           }
          ],
          "surface": [
           {
            "colorbar": {
             "outlinewidth": 0,
             "ticks": ""
            },
            "colorscale": [
             [
              0,
              "#0d0887"
             ],
             [
              0.1111111111111111,
              "#46039f"
             ],
             [
              0.2222222222222222,
              "#7201a8"
             ],
             [
              0.3333333333333333,
              "#9c179e"
             ],
             [
              0.4444444444444444,
              "#bd3786"
             ],
             [
              0.5555555555555556,
              "#d8576b"
             ],
             [
              0.6666666666666666,
              "#ed7953"
             ],
             [
              0.7777777777777778,
              "#fb9f3a"
             ],
             [
              0.8888888888888888,
              "#fdca26"
             ],
             [
              1,
              "#f0f921"
             ]
            ],
            "type": "surface"
           }
          ],
          "table": [
           {
            "cells": {
             "fill": {
              "color": "#EBF0F8"
             },
             "line": {
              "color": "white"
             }
            },
            "header": {
             "fill": {
              "color": "#C8D4E3"
             },
             "line": {
              "color": "white"
             }
            },
            "type": "table"
           }
          ]
         },
         "layout": {
          "annotationdefaults": {
           "arrowcolor": "#2a3f5f",
           "arrowhead": 0,
           "arrowwidth": 1
          },
          "autotypenumbers": "strict",
          "coloraxis": {
           "colorbar": {
            "outlinewidth": 0,
            "ticks": ""
           }
          },
          "colorscale": {
           "diverging": [
            [
             0,
             "#8e0152"
            ],
            [
             0.1,
             "#c51b7d"
            ],
            [
             0.2,
             "#de77ae"
            ],
            [
             0.3,
             "#f1b6da"
            ],
            [
             0.4,
             "#fde0ef"
            ],
            [
             0.5,
             "#f7f7f7"
            ],
            [
             0.6,
             "#e6f5d0"
            ],
            [
             0.7,
             "#b8e186"
            ],
            [
             0.8,
             "#7fbc41"
            ],
            [
             0.9,
             "#4d9221"
            ],
            [
             1,
             "#276419"
            ]
           ],
           "sequential": [
            [
             0,
             "#0d0887"
            ],
            [
             0.1111111111111111,
             "#46039f"
            ],
            [
             0.2222222222222222,
             "#7201a8"
            ],
            [
             0.3333333333333333,
             "#9c179e"
            ],
            [
             0.4444444444444444,
             "#bd3786"
            ],
            [
             0.5555555555555556,
             "#d8576b"
            ],
            [
             0.6666666666666666,
             "#ed7953"
            ],
            [
             0.7777777777777778,
             "#fb9f3a"
            ],
            [
             0.8888888888888888,
             "#fdca26"
            ],
            [
             1,
             "#f0f921"
            ]
           ],
           "sequentialminus": [
            [
             0,
             "#0d0887"
            ],
            [
             0.1111111111111111,
             "#46039f"
            ],
            [
             0.2222222222222222,
             "#7201a8"
            ],
            [
             0.3333333333333333,
             "#9c179e"
            ],
            [
             0.4444444444444444,
             "#bd3786"
            ],
            [
             0.5555555555555556,
             "#d8576b"
            ],
            [
             0.6666666666666666,
             "#ed7953"
            ],
            [
             0.7777777777777778,
             "#fb9f3a"
            ],
            [
             0.8888888888888888,
             "#fdca26"
            ],
            [
             1,
             "#f0f921"
            ]
           ]
          },
          "colorway": [
           "#636efa",
           "#EF553B",
           "#00cc96",
           "#ab63fa",
           "#FFA15A",
           "#19d3f3",
           "#FF6692",
           "#B6E880",
           "#FF97FF",
           "#FECB52"
          ],
          "font": {
           "color": "#2a3f5f"
          },
          "geo": {
           "bgcolor": "white",
           "lakecolor": "white",
           "landcolor": "#E5ECF6",
           "showlakes": true,
           "showland": true,
           "subunitcolor": "white"
          },
          "hoverlabel": {
           "align": "left"
          },
          "hovermode": "closest",
          "mapbox": {
           "style": "light"
          },
          "paper_bgcolor": "white",
          "plot_bgcolor": "#E5ECF6",
          "polar": {
           "angularaxis": {
            "gridcolor": "white",
            "linecolor": "white",
            "ticks": ""
           },
           "bgcolor": "#E5ECF6",
           "radialaxis": {
            "gridcolor": "white",
            "linecolor": "white",
            "ticks": ""
           }
          },
          "scene": {
           "xaxis": {
            "backgroundcolor": "#E5ECF6",
            "gridcolor": "white",
            "gridwidth": 2,
            "linecolor": "white",
            "showbackground": true,
            "ticks": "",
            "zerolinecolor": "white"
           },
           "yaxis": {
            "backgroundcolor": "#E5ECF6",
            "gridcolor": "white",
            "gridwidth": 2,
            "linecolor": "white",
            "showbackground": true,
            "ticks": "",
            "zerolinecolor": "white"
           },
           "zaxis": {
            "backgroundcolor": "#E5ECF6",
            "gridcolor": "white",
            "gridwidth": 2,
            "linecolor": "white",
            "showbackground": true,
            "ticks": "",
            "zerolinecolor": "white"
           }
          },
          "shapedefaults": {
           "line": {
            "color": "#2a3f5f"
           }
          },
          "ternary": {
           "aaxis": {
            "gridcolor": "white",
            "linecolor": "white",
            "ticks": ""
           },
           "baxis": {
            "gridcolor": "white",
            "linecolor": "white",
            "ticks": ""
           },
           "bgcolor": "#E5ECF6",
           "caxis": {
            "gridcolor": "white",
            "linecolor": "white",
            "ticks": ""
           }
          },
          "title": {
           "x": 0.05
          },
          "xaxis": {
           "automargin": true,
           "gridcolor": "white",
           "linecolor": "white",
           "ticks": "",
           "title": {
            "standoff": 15
           },
           "zerolinecolor": "white",
           "zerolinewidth": 2
          },
          "yaxis": {
           "automargin": true,
           "gridcolor": "white",
           "linecolor": "white",
           "ticks": "",
           "title": {
            "standoff": 15
           },
           "zerolinecolor": "white",
           "zerolinewidth": 2
          }
         }
        }
       }
      }
     },
     "metadata": {},
     "output_type": "display_data"
    },
    {
     "name": "stdout",
     "output_type": "stream",
     "text": [
      "torch.Size([250])\n"
     ]
    },
    {
     "data": {
      "application/vnd.plotly.v1+json": {
       "config": {
        "plotlyServerURL": "https://plot.ly"
       },
       "data": [
        {
         "type": "scatter",
         "x": [
          0,
          1,
          2,
          3,
          4,
          5,
          6,
          7,
          8,
          9,
          10,
          11,
          12,
          13,
          14,
          15,
          16,
          17,
          18,
          19,
          20,
          21,
          22,
          23,
          24,
          25,
          26,
          27,
          28,
          29,
          30,
          31,
          32,
          33,
          34,
          35,
          36,
          37,
          38,
          39,
          40,
          41,
          42,
          43,
          44,
          45,
          46,
          47,
          48,
          49,
          50,
          51,
          52,
          53,
          54,
          55,
          56,
          57,
          58,
          59,
          60,
          61,
          62,
          63,
          64,
          65,
          66,
          67,
          68,
          69,
          70,
          71,
          72,
          73,
          74,
          75,
          76,
          77,
          78,
          79,
          80,
          81,
          82,
          83,
          84,
          85,
          86,
          87,
          88,
          89,
          90,
          91,
          92,
          93,
          94,
          95,
          96,
          97,
          98,
          99,
          100,
          101,
          102,
          103,
          104,
          105,
          106,
          107,
          108,
          109,
          110,
          111,
          112,
          113,
          114,
          115,
          116,
          117,
          118,
          119,
          120,
          121,
          122,
          123,
          124,
          125,
          126,
          127,
          128,
          129,
          130,
          131,
          132,
          133,
          134,
          135,
          136,
          137,
          138,
          139,
          140,
          141,
          142,
          143,
          144,
          145,
          146,
          147,
          148,
          149,
          150,
          151,
          152,
          153,
          154,
          155,
          156,
          157,
          158,
          159,
          160,
          161,
          162,
          163,
          164,
          165,
          166,
          167,
          168,
          169,
          170,
          171,
          172,
          173,
          174,
          175,
          176,
          177,
          178,
          179,
          180,
          181,
          182,
          183,
          184,
          185,
          186,
          187,
          188,
          189,
          190,
          191,
          192,
          193,
          194,
          195,
          196,
          197,
          198,
          199,
          200,
          201,
          202,
          203,
          204,
          205,
          206,
          207,
          208,
          209,
          210,
          211,
          212,
          213,
          214,
          215,
          216,
          217,
          218,
          219,
          220,
          221,
          222,
          223,
          224,
          225,
          226,
          227,
          228,
          229,
          230,
          231,
          232,
          233,
          234,
          235,
          236,
          237,
          238,
          239,
          240,
          241,
          242,
          243,
          244,
          245,
          246,
          247,
          248,
          249
         ],
         "y": [
          -0.48285621404647827,
          -0.4351905286312103,
          -0.3986949026584625,
          -0.3688127398490906,
          -0.36071622371673584,
          -0.35392361879348755,
          -0.34083518385887146,
          -0.32733154296875,
          -0.32150983810424805,
          -0.3164840340614319,
          -0.3134952783584595,
          -0.3014861047267914,
          -0.2880590558052063,
          -0.2842935621738434,
          -0.2729001045227051,
          -0.26432326436042786,
          -0.26411041617393494,
          -0.25892290472984314,
          -0.252215713262558,
          -0.2486061453819275,
          -0.2362794131040573,
          -0.23313069343566895,
          -0.22778436541557312,
          -0.22509939968585968,
          -0.22178663313388824,
          -0.22002670168876648,
          -0.21219615638256073,
          -0.20953015983104706,
          -0.20717741549015045,
          -0.20680345594882965,
          -0.2024661749601364,
          -0.20214714109897614,
          -0.19692042469978333,
          -0.1949871927499771,
          -0.19204331934452057,
          -0.19168643653392792,
          -0.1904837042093277,
          -0.18846167623996735,
          -0.18301305174827576,
          -0.18255582451820374,
          -0.18181507289409637,
          -0.17562498152256012,
          -0.17559820413589478,
          -0.17090961337089539,
          -0.16908550262451172,
          -0.16453969478607178,
          -0.16329754889011383,
          -0.16296879947185516,
          -0.16267581284046173,
          -0.16221556067466736,
          -0.16197994351387024,
          -0.16101466119289398,
          -0.15996511280536652,
          -0.15697617828845978,
          -0.15502412617206573,
          -0.1532495766878128,
          -0.15103940665721893,
          -0.14960163831710815,
          -0.1491488516330719,
          -0.1439041793346405,
          -0.1433526873588562,
          -0.14044727385044098,
          -0.13967958092689514,
          -0.13808296620845795,
          -0.13068439066410065,
          -0.12803292274475098,
          -0.1278233379125595,
          -0.12123411148786545,
          -0.12052353471517563,
          -0.11787217110395432,
          -0.1176423579454422,
          -0.11756227910518646,
          -0.11628805845975876,
          -0.11362816393375397,
          -0.11282667517662048,
          -0.10949509590864182,
          -0.1077868714928627,
          -0.10650236159563065,
          -0.10314683616161346,
          -0.09608133137226105,
          -0.09459784626960754,
          -0.09145213663578033,
          -0.08929847925901413,
          -0.08721324801445007,
          -0.08408242464065552,
          -0.07930758595466614,
          -0.07750935852527618,
          -0.07583963871002197,
          -0.07310067117214203,
          -0.06608675420284271,
          -0.06512460112571716,
          -0.06421978771686554,
          -0.06317147612571716,
          -0.06195930019021034,
          -0.05696761980652809,
          -0.055737193673849106,
          -0.05470368266105652,
          -0.05270218476653099,
          -0.049534231424331665,
          -0.04919440671801567,
          -0.046516843140125275,
          -0.045067064464092255,
          -0.04319237545132637,
          -0.042195361107587814,
          -0.0377638004720211,
          -0.03757547214627266,
          -0.03724577650427818,
          -0.036471448838710785,
          -0.03319327533245087,
          -0.03292056545615196,
          -0.029575739055871964,
          -0.029470345005393028,
          -0.02943958155810833,
          -0.02916111797094345,
          -0.026866886764764786,
          -0.02126607671380043,
          -0.01661287434399128,
          -0.01457073912024498,
          -0.013654785230755806,
          -0.013205723837018013,
          -0.011552155017852783,
          -0.006547789555042982,
          -0.006077922880649567,
          -0.004967676009982824,
          -0.0019378724973648787,
          -0.0006489821244031191,
          0.0012969027739018202,
          0.0029169267509132624,
          0.003029880113899708,
          0.004492719657719135,
          0.007155707571655512,
          0.0073122684843838215,
          0.010088743641972542,
          0.010769725777208805,
          0.011735320091247559,
          0.014577112160623074,
          0.01663413643836975,
          0.020616479218006134,
          0.023297682404518127,
          0.027379659935832024,
          0.02738106995820999,
          0.030329594388604164,
          0.031657855957746506,
          0.03293147683143616,
          0.04046474024653435,
          0.041571974754333496,
          0.04387570172548294,
          0.044182054698467255,
          0.05147681385278702,
          0.05270291492342949,
          0.05614957585930824,
          0.05867196246981621,
          0.0588189959526062,
          0.0592309832572937,
          0.06010827794671059,
          0.06449950486421585,
          0.06590356677770615,
          0.06777305155992508,
          0.07016383856534958,
          0.07273709028959274,
          0.07277961075305939,
          0.07733824104070663,
          0.07853493094444275,
          0.0798124223947525,
          0.07990165054798126,
          0.08224248886108398,
          0.08275479078292847,
          0.08395160734653473,
          0.08579649031162262,
          0.0858948677778244,
          0.09212499111890793,
          0.09865910559892654,
          0.09906183183193207,
          0.09916180372238159,
          0.1028623878955841,
          0.10698508471250534,
          0.10763199627399445,
          0.10767962038516998,
          0.11106336861848831,
          0.11179060488939285,
          0.11220411956310272,
          0.11725810915231705,
          0.1173536404967308,
          0.12161731719970703,
          0.12216135114431381,
          0.12829133868217468,
          0.12899149954319,
          0.12921738624572754,
          0.13352800905704498,
          0.1339903473854065,
          0.13479700684547424,
          0.13611233234405518,
          0.13848963379859924,
          0.14125122129917145,
          0.14233282208442688,
          0.1426880955696106,
          0.14570468664169312,
          0.14841677248477936,
          0.16908201575279236,
          0.1731160581111908,
          0.18420301377773285,
          0.18431903421878815,
          0.18497924506664276,
          0.18645328283309937,
          0.19125406444072723,
          0.192134290933609,
          0.20162978768348694,
          0.20272919535636902,
          0.20297373831272125,
          0.20336000621318817,
          0.2046513557434082,
          0.2080143690109253,
          0.20965778827667236,
          0.2112865000963211,
          0.21440006792545319,
          0.21787872910499573,
          0.2213393896818161,
          0.22446636855602264,
          0.22709383070468903,
          0.23075616359710693,
          0.2313947230577469,
          0.23366497457027435,
          0.24395471811294556,
          0.24506612122058868,
          0.24737687408924103,
          0.2601182162761688,
          0.2626158893108368,
          0.2636636793613434,
          0.26423925161361694,
          0.2776443660259247,
          0.27808135747909546,
          0.28717824816703796,
          0.29075393080711365,
          0.29307183623313904,
          0.29398828744888306,
          0.3015144169330597,
          0.31458580493927,
          0.3217914402484894,
          0.3422943949699402,
          0.34407320618629456,
          0.35584405064582825,
          0.3639198839664459,
          0.374398410320282,
          0.3781096339225769,
          0.3784467279911041,
          0.4024900496006012,
          0.4398212432861328,
          0.4692147672176361,
          0.4738521873950958,
          0.5193332433700562
         ]
        }
       ],
       "layout": {
        "template": {
         "data": {
          "bar": [
           {
            "error_x": {
             "color": "#2a3f5f"
            },
            "error_y": {
             "color": "#2a3f5f"
            },
            "marker": {
             "line": {
              "color": "#E5ECF6",
              "width": 0.5
             },
             "pattern": {
              "fillmode": "overlay",
              "size": 10,
              "solidity": 0.2
             }
            },
            "type": "bar"
           }
          ],
          "barpolar": [
           {
            "marker": {
             "line": {
              "color": "#E5ECF6",
              "width": 0.5
             },
             "pattern": {
              "fillmode": "overlay",
              "size": 10,
              "solidity": 0.2
             }
            },
            "type": "barpolar"
           }
          ],
          "carpet": [
           {
            "aaxis": {
             "endlinecolor": "#2a3f5f",
             "gridcolor": "white",
             "linecolor": "white",
             "minorgridcolor": "white",
             "startlinecolor": "#2a3f5f"
            },
            "baxis": {
             "endlinecolor": "#2a3f5f",
             "gridcolor": "white",
             "linecolor": "white",
             "minorgridcolor": "white",
             "startlinecolor": "#2a3f5f"
            },
            "type": "carpet"
           }
          ],
          "choropleth": [
           {
            "colorbar": {
             "outlinewidth": 0,
             "ticks": ""
            },
            "type": "choropleth"
           }
          ],
          "contour": [
           {
            "colorbar": {
             "outlinewidth": 0,
             "ticks": ""
            },
            "colorscale": [
             [
              0,
              "#0d0887"
             ],
             [
              0.1111111111111111,
              "#46039f"
             ],
             [
              0.2222222222222222,
              "#7201a8"
             ],
             [
              0.3333333333333333,
              "#9c179e"
             ],
             [
              0.4444444444444444,
              "#bd3786"
             ],
             [
              0.5555555555555556,
              "#d8576b"
             ],
             [
              0.6666666666666666,
              "#ed7953"
             ],
             [
              0.7777777777777778,
              "#fb9f3a"
             ],
             [
              0.8888888888888888,
              "#fdca26"
             ],
             [
              1,
              "#f0f921"
             ]
            ],
            "type": "contour"
           }
          ],
          "contourcarpet": [
           {
            "colorbar": {
             "outlinewidth": 0,
             "ticks": ""
            },
            "type": "contourcarpet"
           }
          ],
          "heatmap": [
           {
            "colorbar": {
             "outlinewidth": 0,
             "ticks": ""
            },
            "colorscale": [
             [
              0,
              "#0d0887"
             ],
             [
              0.1111111111111111,
              "#46039f"
             ],
             [
              0.2222222222222222,
              "#7201a8"
             ],
             [
              0.3333333333333333,
              "#9c179e"
             ],
             [
              0.4444444444444444,
              "#bd3786"
             ],
             [
              0.5555555555555556,
              "#d8576b"
             ],
             [
              0.6666666666666666,
              "#ed7953"
             ],
             [
              0.7777777777777778,
              "#fb9f3a"
             ],
             [
              0.8888888888888888,
              "#fdca26"
             ],
             [
              1,
              "#f0f921"
             ]
            ],
            "type": "heatmap"
           }
          ],
          "heatmapgl": [
           {
            "colorbar": {
             "outlinewidth": 0,
             "ticks": ""
            },
            "colorscale": [
             [
              0,
              "#0d0887"
             ],
             [
              0.1111111111111111,
              "#46039f"
             ],
             [
              0.2222222222222222,
              "#7201a8"
             ],
             [
              0.3333333333333333,
              "#9c179e"
             ],
             [
              0.4444444444444444,
              "#bd3786"
             ],
             [
              0.5555555555555556,
              "#d8576b"
             ],
             [
              0.6666666666666666,
              "#ed7953"
             ],
             [
              0.7777777777777778,
              "#fb9f3a"
             ],
             [
              0.8888888888888888,
              "#fdca26"
             ],
             [
              1,
              "#f0f921"
             ]
            ],
            "type": "heatmapgl"
           }
          ],
          "histogram": [
           {
            "marker": {
             "pattern": {
              "fillmode": "overlay",
              "size": 10,
              "solidity": 0.2
             }
            },
            "type": "histogram"
           }
          ],
          "histogram2d": [
           {
            "colorbar": {
             "outlinewidth": 0,
             "ticks": ""
            },
            "colorscale": [
             [
              0,
              "#0d0887"
             ],
             [
              0.1111111111111111,
              "#46039f"
             ],
             [
              0.2222222222222222,
              "#7201a8"
             ],
             [
              0.3333333333333333,
              "#9c179e"
             ],
             [
              0.4444444444444444,
              "#bd3786"
             ],
             [
              0.5555555555555556,
              "#d8576b"
             ],
             [
              0.6666666666666666,
              "#ed7953"
             ],
             [
              0.7777777777777778,
              "#fb9f3a"
             ],
             [
              0.8888888888888888,
              "#fdca26"
             ],
             [
              1,
              "#f0f921"
             ]
            ],
            "type": "histogram2d"
           }
          ],
          "histogram2dcontour": [
           {
            "colorbar": {
             "outlinewidth": 0,
             "ticks": ""
            },
            "colorscale": [
             [
              0,
              "#0d0887"
             ],
             [
              0.1111111111111111,
              "#46039f"
             ],
             [
              0.2222222222222222,
              "#7201a8"
             ],
             [
              0.3333333333333333,
              "#9c179e"
             ],
             [
              0.4444444444444444,
              "#bd3786"
             ],
             [
              0.5555555555555556,
              "#d8576b"
             ],
             [
              0.6666666666666666,
              "#ed7953"
             ],
             [
              0.7777777777777778,
              "#fb9f3a"
             ],
             [
              0.8888888888888888,
              "#fdca26"
             ],
             [
              1,
              "#f0f921"
             ]
            ],
            "type": "histogram2dcontour"
           }
          ],
          "mesh3d": [
           {
            "colorbar": {
             "outlinewidth": 0,
             "ticks": ""
            },
            "type": "mesh3d"
           }
          ],
          "parcoords": [
           {
            "line": {
             "colorbar": {
              "outlinewidth": 0,
              "ticks": ""
             }
            },
            "type": "parcoords"
           }
          ],
          "pie": [
           {
            "automargin": true,
            "type": "pie"
           }
          ],
          "scatter": [
           {
            "fillpattern": {
             "fillmode": "overlay",
             "size": 10,
             "solidity": 0.2
            },
            "type": "scatter"
           }
          ],
          "scatter3d": [
           {
            "line": {
             "colorbar": {
              "outlinewidth": 0,
              "ticks": ""
             }
            },
            "marker": {
             "colorbar": {
              "outlinewidth": 0,
              "ticks": ""
             }
            },
            "type": "scatter3d"
           }
          ],
          "scattercarpet": [
           {
            "marker": {
             "colorbar": {
              "outlinewidth": 0,
              "ticks": ""
             }
            },
            "type": "scattercarpet"
           }
          ],
          "scattergeo": [
           {
            "marker": {
             "colorbar": {
              "outlinewidth": 0,
              "ticks": ""
             }
            },
            "type": "scattergeo"
           }
          ],
          "scattergl": [
           {
            "marker": {
             "colorbar": {
              "outlinewidth": 0,
              "ticks": ""
             }
            },
            "type": "scattergl"
           }
          ],
          "scattermapbox": [
           {
            "marker": {
             "colorbar": {
              "outlinewidth": 0,
              "ticks": ""
             }
            },
            "type": "scattermapbox"
           }
          ],
          "scatterpolar": [
           {
            "marker": {
             "colorbar": {
              "outlinewidth": 0,
              "ticks": ""
             }
            },
            "type": "scatterpolar"
           }
          ],
          "scatterpolargl": [
           {
            "marker": {
             "colorbar": {
              "outlinewidth": 0,
              "ticks": ""
             }
            },
            "type": "scatterpolargl"
           }
          ],
          "scatterternary": [
           {
            "marker": {
             "colorbar": {
              "outlinewidth": 0,
              "ticks": ""
             }
            },
            "type": "scatterternary"
           }
          ],
          "surface": [
           {
            "colorbar": {
             "outlinewidth": 0,
             "ticks": ""
            },
            "colorscale": [
             [
              0,
              "#0d0887"
             ],
             [
              0.1111111111111111,
              "#46039f"
             ],
             [
              0.2222222222222222,
              "#7201a8"
             ],
             [
              0.3333333333333333,
              "#9c179e"
             ],
             [
              0.4444444444444444,
              "#bd3786"
             ],
             [
              0.5555555555555556,
              "#d8576b"
             ],
             [
              0.6666666666666666,
              "#ed7953"
             ],
             [
              0.7777777777777778,
              "#fb9f3a"
             ],
             [
              0.8888888888888888,
              "#fdca26"
             ],
             [
              1,
              "#f0f921"
             ]
            ],
            "type": "surface"
           }
          ],
          "table": [
           {
            "cells": {
             "fill": {
              "color": "#EBF0F8"
             },
             "line": {
              "color": "white"
             }
            },
            "header": {
             "fill": {
              "color": "#C8D4E3"
             },
             "line": {
              "color": "white"
             }
            },
            "type": "table"
           }
          ]
         },
         "layout": {
          "annotationdefaults": {
           "arrowcolor": "#2a3f5f",
           "arrowhead": 0,
           "arrowwidth": 1
          },
          "autotypenumbers": "strict",
          "coloraxis": {
           "colorbar": {
            "outlinewidth": 0,
            "ticks": ""
           }
          },
          "colorscale": {
           "diverging": [
            [
             0,
             "#8e0152"
            ],
            [
             0.1,
             "#c51b7d"
            ],
            [
             0.2,
             "#de77ae"
            ],
            [
             0.3,
             "#f1b6da"
            ],
            [
             0.4,
             "#fde0ef"
            ],
            [
             0.5,
             "#f7f7f7"
            ],
            [
             0.6,
             "#e6f5d0"
            ],
            [
             0.7,
             "#b8e186"
            ],
            [
             0.8,
             "#7fbc41"
            ],
            [
             0.9,
             "#4d9221"
            ],
            [
             1,
             "#276419"
            ]
           ],
           "sequential": [
            [
             0,
             "#0d0887"
            ],
            [
             0.1111111111111111,
             "#46039f"
            ],
            [
             0.2222222222222222,
             "#7201a8"
            ],
            [
             0.3333333333333333,
             "#9c179e"
            ],
            [
             0.4444444444444444,
             "#bd3786"
            ],
            [
             0.5555555555555556,
             "#d8576b"
            ],
            [
             0.6666666666666666,
             "#ed7953"
            ],
            [
             0.7777777777777778,
             "#fb9f3a"
            ],
            [
             0.8888888888888888,
             "#fdca26"
            ],
            [
             1,
             "#f0f921"
            ]
           ],
           "sequentialminus": [
            [
             0,
             "#0d0887"
            ],
            [
             0.1111111111111111,
             "#46039f"
            ],
            [
             0.2222222222222222,
             "#7201a8"
            ],
            [
             0.3333333333333333,
             "#9c179e"
            ],
            [
             0.4444444444444444,
             "#bd3786"
            ],
            [
             0.5555555555555556,
             "#d8576b"
            ],
            [
             0.6666666666666666,
             "#ed7953"
            ],
            [
             0.7777777777777778,
             "#fb9f3a"
            ],
            [
             0.8888888888888888,
             "#fdca26"
            ],
            [
             1,
             "#f0f921"
            ]
           ]
          },
          "colorway": [
           "#636efa",
           "#EF553B",
           "#00cc96",
           "#ab63fa",
           "#FFA15A",
           "#19d3f3",
           "#FF6692",
           "#B6E880",
           "#FF97FF",
           "#FECB52"
          ],
          "font": {
           "color": "#2a3f5f"
          },
          "geo": {
           "bgcolor": "white",
           "lakecolor": "white",
           "landcolor": "#E5ECF6",
           "showlakes": true,
           "showland": true,
           "subunitcolor": "white"
          },
          "hoverlabel": {
           "align": "left"
          },
          "hovermode": "closest",
          "mapbox": {
           "style": "light"
          },
          "paper_bgcolor": "white",
          "plot_bgcolor": "#E5ECF6",
          "polar": {
           "angularaxis": {
            "gridcolor": "white",
            "linecolor": "white",
            "ticks": ""
           },
           "bgcolor": "#E5ECF6",
           "radialaxis": {
            "gridcolor": "white",
            "linecolor": "white",
            "ticks": ""
           }
          },
          "scene": {
           "xaxis": {
            "backgroundcolor": "#E5ECF6",
            "gridcolor": "white",
            "gridwidth": 2,
            "linecolor": "white",
            "showbackground": true,
            "ticks": "",
            "zerolinecolor": "white"
           },
           "yaxis": {
            "backgroundcolor": "#E5ECF6",
            "gridcolor": "white",
            "gridwidth": 2,
            "linecolor": "white",
            "showbackground": true,
            "ticks": "",
            "zerolinecolor": "white"
           },
           "zaxis": {
            "backgroundcolor": "#E5ECF6",
            "gridcolor": "white",
            "gridwidth": 2,
            "linecolor": "white",
            "showbackground": true,
            "ticks": "",
            "zerolinecolor": "white"
           }
          },
          "shapedefaults": {
           "line": {
            "color": "#2a3f5f"
           }
          },
          "ternary": {
           "aaxis": {
            "gridcolor": "white",
            "linecolor": "white",
            "ticks": ""
           },
           "baxis": {
            "gridcolor": "white",
            "linecolor": "white",
            "ticks": ""
           },
           "bgcolor": "#E5ECF6",
           "caxis": {
            "gridcolor": "white",
            "linecolor": "white",
            "ticks": ""
           }
          },
          "title": {
           "x": 0.05
          },
          "xaxis": {
           "automargin": true,
           "gridcolor": "white",
           "linecolor": "white",
           "ticks": "",
           "title": {
            "standoff": 15
           },
           "zerolinecolor": "white",
           "zerolinewidth": 2
          },
          "yaxis": {
           "automargin": true,
           "gridcolor": "white",
           "linecolor": "white",
           "ticks": "",
           "title": {
            "standoff": 15
           },
           "zerolinecolor": "white",
           "zerolinewidth": 2
          }
         }
        }
       }
      }
     },
     "metadata": {},
     "output_type": "display_data"
    },
    {
     "name": "stdout",
     "output_type": "stream",
     "text": [
      "torch.Size([275])\n"
     ]
    },
    {
     "data": {
      "application/vnd.plotly.v1+json": {
       "config": {
        "plotlyServerURL": "https://plot.ly"
       },
       "data": [
        {
         "type": "scatter",
         "x": [
          0,
          1,
          2,
          3,
          4,
          5,
          6,
          7,
          8,
          9,
          10,
          11,
          12,
          13,
          14,
          15,
          16,
          17,
          18,
          19,
          20,
          21,
          22,
          23,
          24,
          25,
          26,
          27,
          28,
          29,
          30,
          31,
          32,
          33,
          34,
          35,
          36,
          37,
          38,
          39,
          40,
          41,
          42,
          43,
          44,
          45,
          46,
          47,
          48,
          49,
          50,
          51,
          52,
          53,
          54,
          55,
          56,
          57,
          58,
          59,
          60,
          61,
          62,
          63,
          64,
          65,
          66,
          67,
          68,
          69,
          70,
          71,
          72,
          73,
          74,
          75,
          76,
          77,
          78,
          79,
          80,
          81,
          82,
          83,
          84,
          85,
          86,
          87,
          88,
          89,
          90,
          91,
          92,
          93,
          94,
          95,
          96,
          97,
          98,
          99,
          100,
          101,
          102,
          103,
          104,
          105,
          106,
          107,
          108,
          109,
          110,
          111,
          112,
          113,
          114,
          115,
          116,
          117,
          118,
          119,
          120,
          121,
          122,
          123,
          124,
          125,
          126,
          127,
          128,
          129,
          130,
          131,
          132,
          133,
          134,
          135,
          136,
          137,
          138,
          139,
          140,
          141,
          142,
          143,
          144,
          145,
          146,
          147,
          148,
          149,
          150,
          151,
          152,
          153,
          154,
          155,
          156,
          157,
          158,
          159,
          160,
          161,
          162,
          163,
          164,
          165,
          166,
          167,
          168,
          169,
          170,
          171,
          172,
          173,
          174,
          175,
          176,
          177,
          178,
          179,
          180,
          181,
          182,
          183,
          184,
          185,
          186,
          187,
          188,
          189,
          190,
          191,
          192,
          193,
          194,
          195,
          196,
          197,
          198,
          199,
          200,
          201,
          202,
          203,
          204,
          205,
          206,
          207,
          208,
          209,
          210,
          211,
          212,
          213,
          214,
          215,
          216,
          217,
          218,
          219,
          220,
          221,
          222,
          223,
          224,
          225,
          226,
          227,
          228,
          229,
          230,
          231,
          232,
          233,
          234,
          235,
          236,
          237,
          238,
          239,
          240,
          241,
          242,
          243,
          244,
          245,
          246,
          247,
          248,
          249,
          250,
          251,
          252,
          253,
          254,
          255,
          256,
          257,
          258,
          259,
          260,
          261,
          262,
          263,
          264,
          265,
          266,
          267,
          268,
          269,
          270,
          271,
          272,
          273,
          274
         ],
         "y": [
          -0.7690220475196838,
          -0.7040723562240601,
          -0.48947474360466003,
          -0.44660526514053345,
          -0.4445955753326416,
          -0.44017651677131653,
          -0.3892011046409607,
          -0.37036851048469543,
          -0.3619939684867859,
          -0.34129780530929565,
          -0.3394051790237427,
          -0.331986665725708,
          -0.32278162240982056,
          -0.32181236147880554,
          -0.3194930851459503,
          -0.31639987230300903,
          -0.3026486933231354,
          -0.29972994327545166,
          -0.2927771508693695,
          -0.28268206119537354,
          -0.2685520648956299,
          -0.268147736787796,
          -0.2678000330924988,
          -0.26551178097724915,
          -0.26519978046417236,
          -0.26146021485328674,
          -0.25720229744911194,
          -0.25627535581588745,
          -0.2536778748035431,
          -0.2492770105600357,
          -0.24877779185771942,
          -0.245596781373024,
          -0.24509090185165405,
          -0.2398577779531479,
          -0.2356848120689392,
          -0.2271479368209839,
          -0.2270938903093338,
          -0.21248066425323486,
          -0.21211080253124237,
          -0.20853538811206818,
          -0.20500461757183075,
          -0.20247870683670044,
          -0.1966300755739212,
          -0.19587627053260803,
          -0.19102369248867035,
          -0.18515722453594208,
          -0.1820390820503235,
          -0.17972177267074585,
          -0.17969314754009247,
          -0.16995659470558167,
          -0.169612854719162,
          -0.1687799096107483,
          -0.16793353855609894,
          -0.1642255038022995,
          -0.16302748024463654,
          -0.16223621368408203,
          -0.1518024355173111,
          -0.15167061984539032,
          -0.14899422228336334,
          -0.14384260773658752,
          -0.14300395548343658,
          -0.14069601893424988,
          -0.13244454562664032,
          -0.13076335191726685,
          -0.13037459552288055,
          -0.1279868483543396,
          -0.1268491894006729,
          -0.12146378308534622,
          -0.12075524032115936,
          -0.11982744932174683,
          -0.11796453595161438,
          -0.11466298252344131,
          -0.11410149931907654,
          -0.11265317350625992,
          -0.11128149926662445,
          -0.10843845456838608,
          -0.1077210083603859,
          -0.10343816876411438,
          -0.10092353075742722,
          -0.09705208986997604,
          -0.08998667448759079,
          -0.0891188532114029,
          -0.08876504749059677,
          -0.08745966851711273,
          -0.08259090036153793,
          -0.08240565657615662,
          -0.07972348481416702,
          -0.07639554888010025,
          -0.07537244260311127,
          -0.07487040013074875,
          -0.07279189676046371,
          -0.0704982802271843,
          -0.06741662323474884,
          -0.061811141669750214,
          -0.06098133698105812,
          -0.05986867472529411,
          -0.059512268751859665,
          -0.05661396309733391,
          -0.055401213467121124,
          -0.05418886989355087,
          -0.05311914160847664,
          -0.052061114460229874,
          -0.052002932876348495,
          -0.05147198960185051,
          -0.048678208142519,
          -0.047025103121995926,
          -0.04701010882854462,
          -0.04670550674200058,
          -0.04666612669825554,
          -0.046513501554727554,
          -0.04443581774830818,
          -0.04386937618255615,
          -0.043319396674633026,
          -0.042980533093214035,
          -0.042975328862667084,
          -0.03960905969142914,
          -0.035808809101581573,
          -0.032011449337005615,
          -0.02937903255224228,
          -0.02918953076004982,
          -0.028917571529746056,
          -0.028363188728690147,
          -0.025229761376976967,
          -0.02363485097885132,
          -0.02240675874054432,
          -0.022388672456145287,
          -0.021725190803408623,
          -0.020545387640595436,
          -0.016641587018966675,
          -0.01557098887860775,
          -0.01273750327527523,
          -0.011770711280405521,
          -0.011266928166151047,
          -0.008033125661313534,
          -0.006642874795943499,
          -0.0021163157653063536,
          0.002241215668618679,
          0.0043514929711818695,
          0.006949549075216055,
          0.007642388343811035,
          0.00851342361420393,
          0.008791571483016014,
          0.009136928245425224,
          0.009420674294233322,
          0.009634207002818584,
          0.01106907520443201,
          0.013438274152576923,
          0.015142862685024738,
          0.015226930379867554,
          0.01767791248857975,
          0.021090565249323845,
          0.023973044008016586,
          0.025520583614706993,
          0.028925510123372078,
          0.032355885952711105,
          0.03253861516714096,
          0.03786037489771843,
          0.038459938019514084,
          0.039100125432014465,
          0.039481908082962036,
          0.043892715126276016,
          0.04443829879164696,
          0.044701315462589264,
          0.048150304704904556,
          0.048617154359817505,
          0.05141406133770943,
          0.05215034261345863,
          0.052539028227329254,
          0.05453469231724739,
          0.05650041624903679,
          0.05694590508937836,
          0.06191137060523033,
          0.06301824748516083,
          0.06542856246232986,
          0.06627810746431351,
          0.06773611158132553,
          0.06777596473693848,
          0.07188040763139725,
          0.07510995119810104,
          0.08396492898464203,
          0.08779222518205643,
          0.08969015628099442,
          0.09379488974809647,
          0.09467235207557678,
          0.09584090113639832,
          0.09691634774208069,
          0.09713476151227951,
          0.0979243591427803,
          0.0989512950181961,
          0.10166636109352112,
          0.10298571735620499,
          0.10315258800983429,
          0.10435318201780319,
          0.10457968711853027,
          0.10474731028079987,
          0.10742497444152832,
          0.10797172039747238,
          0.11000220477581024,
          0.11035379022359848,
          0.11113040894269943,
          0.11195918917655945,
          0.11249633878469467,
          0.11323834955692291,
          0.11467698961496353,
          0.11788135766983032,
          0.11948776245117188,
          0.11985353380441666,
          0.12032420188188553,
          0.12493269890546799,
          0.12503141164779663,
          0.12531058490276337,
          0.1262117177248001,
          0.1263369470834732,
          0.1299307942390442,
          0.13054126501083374,
          0.13244755566120148,
          0.13336041569709778,
          0.13338221609592438,
          0.13601133227348328,
          0.13619641959667206,
          0.1384950578212738,
          0.14027100801467896,
          0.14089269936084747,
          0.14307008683681488,
          0.1452217847108841,
          0.1477879136800766,
          0.1482739895582199,
          0.15440471470355988,
          0.15897248685359955,
          0.1632663756608963,
          0.16970020532608032,
          0.1742078810930252,
          0.1757860630750656,
          0.17925219237804413,
          0.18578030169010162,
          0.1957768201828003,
          0.19603504240512848,
          0.19812864065170288,
          0.20049233734607697,
          0.20127926766872406,
          0.2016298472881317,
          0.20172648131847382,
          0.20271003246307373,
          0.2070988565683365,
          0.21022889018058777,
          0.21230727434158325,
          0.21539629995822906,
          0.21908947825431824,
          0.22496363520622253,
          0.23007774353027344,
          0.23276078701019287,
          0.23527276515960693,
          0.23762837052345276,
          0.24656321108341217,
          0.24681411683559418,
          0.25239261984825134,
          0.2581161558628082,
          0.2597339451313019,
          0.26078009605407715,
          0.26267945766448975,
          0.27141818404197693,
          0.2756689488887787,
          0.2765222191810608,
          0.299959659576416,
          0.3075532913208008,
          0.3136788010597229,
          0.31902772188186646,
          0.3258688449859619,
          0.3383531868457794,
          0.3390704393386841,
          0.344866544008255,
          0.34942540526390076,
          0.3631095290184021,
          0.3660982549190521,
          0.36873188614845276
         ]
        }
       ],
       "layout": {
        "template": {
         "data": {
          "bar": [
           {
            "error_x": {
             "color": "#2a3f5f"
            },
            "error_y": {
             "color": "#2a3f5f"
            },
            "marker": {
             "line": {
              "color": "#E5ECF6",
              "width": 0.5
             },
             "pattern": {
              "fillmode": "overlay",
              "size": 10,
              "solidity": 0.2
             }
            },
            "type": "bar"
           }
          ],
          "barpolar": [
           {
            "marker": {
             "line": {
              "color": "#E5ECF6",
              "width": 0.5
             },
             "pattern": {
              "fillmode": "overlay",
              "size": 10,
              "solidity": 0.2
             }
            },
            "type": "barpolar"
           }
          ],
          "carpet": [
           {
            "aaxis": {
             "endlinecolor": "#2a3f5f",
             "gridcolor": "white",
             "linecolor": "white",
             "minorgridcolor": "white",
             "startlinecolor": "#2a3f5f"
            },
            "baxis": {
             "endlinecolor": "#2a3f5f",
             "gridcolor": "white",
             "linecolor": "white",
             "minorgridcolor": "white",
             "startlinecolor": "#2a3f5f"
            },
            "type": "carpet"
           }
          ],
          "choropleth": [
           {
            "colorbar": {
             "outlinewidth": 0,
             "ticks": ""
            },
            "type": "choropleth"
           }
          ],
          "contour": [
           {
            "colorbar": {
             "outlinewidth": 0,
             "ticks": ""
            },
            "colorscale": [
             [
              0,
              "#0d0887"
             ],
             [
              0.1111111111111111,
              "#46039f"
             ],
             [
              0.2222222222222222,
              "#7201a8"
             ],
             [
              0.3333333333333333,
              "#9c179e"
             ],
             [
              0.4444444444444444,
              "#bd3786"
             ],
             [
              0.5555555555555556,
              "#d8576b"
             ],
             [
              0.6666666666666666,
              "#ed7953"
             ],
             [
              0.7777777777777778,
              "#fb9f3a"
             ],
             [
              0.8888888888888888,
              "#fdca26"
             ],
             [
              1,
              "#f0f921"
             ]
            ],
            "type": "contour"
           }
          ],
          "contourcarpet": [
           {
            "colorbar": {
             "outlinewidth": 0,
             "ticks": ""
            },
            "type": "contourcarpet"
           }
          ],
          "heatmap": [
           {
            "colorbar": {
             "outlinewidth": 0,
             "ticks": ""
            },
            "colorscale": [
             [
              0,
              "#0d0887"
             ],
             [
              0.1111111111111111,
              "#46039f"
             ],
             [
              0.2222222222222222,
              "#7201a8"
             ],
             [
              0.3333333333333333,
              "#9c179e"
             ],
             [
              0.4444444444444444,
              "#bd3786"
             ],
             [
              0.5555555555555556,
              "#d8576b"
             ],
             [
              0.6666666666666666,
              "#ed7953"
             ],
             [
              0.7777777777777778,
              "#fb9f3a"
             ],
             [
              0.8888888888888888,
              "#fdca26"
             ],
             [
              1,
              "#f0f921"
             ]
            ],
            "type": "heatmap"
           }
          ],
          "heatmapgl": [
           {
            "colorbar": {
             "outlinewidth": 0,
             "ticks": ""
            },
            "colorscale": [
             [
              0,
              "#0d0887"
             ],
             [
              0.1111111111111111,
              "#46039f"
             ],
             [
              0.2222222222222222,
              "#7201a8"
             ],
             [
              0.3333333333333333,
              "#9c179e"
             ],
             [
              0.4444444444444444,
              "#bd3786"
             ],
             [
              0.5555555555555556,
              "#d8576b"
             ],
             [
              0.6666666666666666,
              "#ed7953"
             ],
             [
              0.7777777777777778,
              "#fb9f3a"
             ],
             [
              0.8888888888888888,
              "#fdca26"
             ],
             [
              1,
              "#f0f921"
             ]
            ],
            "type": "heatmapgl"
           }
          ],
          "histogram": [
           {
            "marker": {
             "pattern": {
              "fillmode": "overlay",
              "size": 10,
              "solidity": 0.2
             }
            },
            "type": "histogram"
           }
          ],
          "histogram2d": [
           {
            "colorbar": {
             "outlinewidth": 0,
             "ticks": ""
            },
            "colorscale": [
             [
              0,
              "#0d0887"
             ],
             [
              0.1111111111111111,
              "#46039f"
             ],
             [
              0.2222222222222222,
              "#7201a8"
             ],
             [
              0.3333333333333333,
              "#9c179e"
             ],
             [
              0.4444444444444444,
              "#bd3786"
             ],
             [
              0.5555555555555556,
              "#d8576b"
             ],
             [
              0.6666666666666666,
              "#ed7953"
             ],
             [
              0.7777777777777778,
              "#fb9f3a"
             ],
             [
              0.8888888888888888,
              "#fdca26"
             ],
             [
              1,
              "#f0f921"
             ]
            ],
            "type": "histogram2d"
           }
          ],
          "histogram2dcontour": [
           {
            "colorbar": {
             "outlinewidth": 0,
             "ticks": ""
            },
            "colorscale": [
             [
              0,
              "#0d0887"
             ],
             [
              0.1111111111111111,
              "#46039f"
             ],
             [
              0.2222222222222222,
              "#7201a8"
             ],
             [
              0.3333333333333333,
              "#9c179e"
             ],
             [
              0.4444444444444444,
              "#bd3786"
             ],
             [
              0.5555555555555556,
              "#d8576b"
             ],
             [
              0.6666666666666666,
              "#ed7953"
             ],
             [
              0.7777777777777778,
              "#fb9f3a"
             ],
             [
              0.8888888888888888,
              "#fdca26"
             ],
             [
              1,
              "#f0f921"
             ]
            ],
            "type": "histogram2dcontour"
           }
          ],
          "mesh3d": [
           {
            "colorbar": {
             "outlinewidth": 0,
             "ticks": ""
            },
            "type": "mesh3d"
           }
          ],
          "parcoords": [
           {
            "line": {
             "colorbar": {
              "outlinewidth": 0,
              "ticks": ""
             }
            },
            "type": "parcoords"
           }
          ],
          "pie": [
           {
            "automargin": true,
            "type": "pie"
           }
          ],
          "scatter": [
           {
            "fillpattern": {
             "fillmode": "overlay",
             "size": 10,
             "solidity": 0.2
            },
            "type": "scatter"
           }
          ],
          "scatter3d": [
           {
            "line": {
             "colorbar": {
              "outlinewidth": 0,
              "ticks": ""
             }
            },
            "marker": {
             "colorbar": {
              "outlinewidth": 0,
              "ticks": ""
             }
            },
            "type": "scatter3d"
           }
          ],
          "scattercarpet": [
           {
            "marker": {
             "colorbar": {
              "outlinewidth": 0,
              "ticks": ""
             }
            },
            "type": "scattercarpet"
           }
          ],
          "scattergeo": [
           {
            "marker": {
             "colorbar": {
              "outlinewidth": 0,
              "ticks": ""
             }
            },
            "type": "scattergeo"
           }
          ],
          "scattergl": [
           {
            "marker": {
             "colorbar": {
              "outlinewidth": 0,
              "ticks": ""
             }
            },
            "type": "scattergl"
           }
          ],
          "scattermapbox": [
           {
            "marker": {
             "colorbar": {
              "outlinewidth": 0,
              "ticks": ""
             }
            },
            "type": "scattermapbox"
           }
          ],
          "scatterpolar": [
           {
            "marker": {
             "colorbar": {
              "outlinewidth": 0,
              "ticks": ""
             }
            },
            "type": "scatterpolar"
           }
          ],
          "scatterpolargl": [
           {
            "marker": {
             "colorbar": {
              "outlinewidth": 0,
              "ticks": ""
             }
            },
            "type": "scatterpolargl"
           }
          ],
          "scatterternary": [
           {
            "marker": {
             "colorbar": {
              "outlinewidth": 0,
              "ticks": ""
             }
            },
            "type": "scatterternary"
           }
          ],
          "surface": [
           {
            "colorbar": {
             "outlinewidth": 0,
             "ticks": ""
            },
            "colorscale": [
             [
              0,
              "#0d0887"
             ],
             [
              0.1111111111111111,
              "#46039f"
             ],
             [
              0.2222222222222222,
              "#7201a8"
             ],
             [
              0.3333333333333333,
              "#9c179e"
             ],
             [
              0.4444444444444444,
              "#bd3786"
             ],
             [
              0.5555555555555556,
              "#d8576b"
             ],
             [
              0.6666666666666666,
              "#ed7953"
             ],
             [
              0.7777777777777778,
              "#fb9f3a"
             ],
             [
              0.8888888888888888,
              "#fdca26"
             ],
             [
              1,
              "#f0f921"
             ]
            ],
            "type": "surface"
           }
          ],
          "table": [
           {
            "cells": {
             "fill": {
              "color": "#EBF0F8"
             },
             "line": {
              "color": "white"
             }
            },
            "header": {
             "fill": {
              "color": "#C8D4E3"
             },
             "line": {
              "color": "white"
             }
            },
            "type": "table"
           }
          ]
         },
         "layout": {
          "annotationdefaults": {
           "arrowcolor": "#2a3f5f",
           "arrowhead": 0,
           "arrowwidth": 1
          },
          "autotypenumbers": "strict",
          "coloraxis": {
           "colorbar": {
            "outlinewidth": 0,
            "ticks": ""
           }
          },
          "colorscale": {
           "diverging": [
            [
             0,
             "#8e0152"
            ],
            [
             0.1,
             "#c51b7d"
            ],
            [
             0.2,
             "#de77ae"
            ],
            [
             0.3,
             "#f1b6da"
            ],
            [
             0.4,
             "#fde0ef"
            ],
            [
             0.5,
             "#f7f7f7"
            ],
            [
             0.6,
             "#e6f5d0"
            ],
            [
             0.7,
             "#b8e186"
            ],
            [
             0.8,
             "#7fbc41"
            ],
            [
             0.9,
             "#4d9221"
            ],
            [
             1,
             "#276419"
            ]
           ],
           "sequential": [
            [
             0,
             "#0d0887"
            ],
            [
             0.1111111111111111,
             "#46039f"
            ],
            [
             0.2222222222222222,
             "#7201a8"
            ],
            [
             0.3333333333333333,
             "#9c179e"
            ],
            [
             0.4444444444444444,
             "#bd3786"
            ],
            [
             0.5555555555555556,
             "#d8576b"
            ],
            [
             0.6666666666666666,
             "#ed7953"
            ],
            [
             0.7777777777777778,
             "#fb9f3a"
            ],
            [
             0.8888888888888888,
             "#fdca26"
            ],
            [
             1,
             "#f0f921"
            ]
           ],
           "sequentialminus": [
            [
             0,
             "#0d0887"
            ],
            [
             0.1111111111111111,
             "#46039f"
            ],
            [
             0.2222222222222222,
             "#7201a8"
            ],
            [
             0.3333333333333333,
             "#9c179e"
            ],
            [
             0.4444444444444444,
             "#bd3786"
            ],
            [
             0.5555555555555556,
             "#d8576b"
            ],
            [
             0.6666666666666666,
             "#ed7953"
            ],
            [
             0.7777777777777778,
             "#fb9f3a"
            ],
            [
             0.8888888888888888,
             "#fdca26"
            ],
            [
             1,
             "#f0f921"
            ]
           ]
          },
          "colorway": [
           "#636efa",
           "#EF553B",
           "#00cc96",
           "#ab63fa",
           "#FFA15A",
           "#19d3f3",
           "#FF6692",
           "#B6E880",
           "#FF97FF",
           "#FECB52"
          ],
          "font": {
           "color": "#2a3f5f"
          },
          "geo": {
           "bgcolor": "white",
           "lakecolor": "white",
           "landcolor": "#E5ECF6",
           "showlakes": true,
           "showland": true,
           "subunitcolor": "white"
          },
          "hoverlabel": {
           "align": "left"
          },
          "hovermode": "closest",
          "mapbox": {
           "style": "light"
          },
          "paper_bgcolor": "white",
          "plot_bgcolor": "#E5ECF6",
          "polar": {
           "angularaxis": {
            "gridcolor": "white",
            "linecolor": "white",
            "ticks": ""
           },
           "bgcolor": "#E5ECF6",
           "radialaxis": {
            "gridcolor": "white",
            "linecolor": "white",
            "ticks": ""
           }
          },
          "scene": {
           "xaxis": {
            "backgroundcolor": "#E5ECF6",
            "gridcolor": "white",
            "gridwidth": 2,
            "linecolor": "white",
            "showbackground": true,
            "ticks": "",
            "zerolinecolor": "white"
           },
           "yaxis": {
            "backgroundcolor": "#E5ECF6",
            "gridcolor": "white",
            "gridwidth": 2,
            "linecolor": "white",
            "showbackground": true,
            "ticks": "",
            "zerolinecolor": "white"
           },
           "zaxis": {
            "backgroundcolor": "#E5ECF6",
            "gridcolor": "white",
            "gridwidth": 2,
            "linecolor": "white",
            "showbackground": true,
            "ticks": "",
            "zerolinecolor": "white"
           }
          },
          "shapedefaults": {
           "line": {
            "color": "#2a3f5f"
           }
          },
          "ternary": {
           "aaxis": {
            "gridcolor": "white",
            "linecolor": "white",
            "ticks": ""
           },
           "baxis": {
            "gridcolor": "white",
            "linecolor": "white",
            "ticks": ""
           },
           "bgcolor": "#E5ECF6",
           "caxis": {
            "gridcolor": "white",
            "linecolor": "white",
            "ticks": ""
           }
          },
          "title": {
           "x": 0.05
          },
          "xaxis": {
           "automargin": true,
           "gridcolor": "white",
           "linecolor": "white",
           "ticks": "",
           "title": {
            "standoff": 15
           },
           "zerolinecolor": "white",
           "zerolinewidth": 2
          },
          "yaxis": {
           "automargin": true,
           "gridcolor": "white",
           "linecolor": "white",
           "ticks": "",
           "title": {
            "standoff": 15
           },
           "zerolinecolor": "white",
           "zerolinewidth": 2
          }
         }
        }
       }
      }
     },
     "metadata": {},
     "output_type": "display_data"
    },
    {
     "name": "stdout",
     "output_type": "stream",
     "text": [
      "torch.Size([300])\n"
     ]
    },
    {
     "data": {
      "application/vnd.plotly.v1+json": {
       "config": {
        "plotlyServerURL": "https://plot.ly"
       },
       "data": [
        {
         "type": "scatter",
         "x": [
          0,
          1,
          2,
          3,
          4,
          5,
          6,
          7,
          8,
          9,
          10,
          11,
          12,
          13,
          14,
          15,
          16,
          17,
          18,
          19,
          20,
          21,
          22,
          23,
          24,
          25,
          26,
          27,
          28,
          29,
          30,
          31,
          32,
          33,
          34,
          35,
          36,
          37,
          38,
          39,
          40,
          41,
          42,
          43,
          44,
          45,
          46,
          47,
          48,
          49,
          50,
          51,
          52,
          53,
          54,
          55,
          56,
          57,
          58,
          59,
          60,
          61,
          62,
          63,
          64,
          65,
          66,
          67,
          68,
          69,
          70,
          71,
          72,
          73,
          74,
          75,
          76,
          77,
          78,
          79,
          80,
          81,
          82,
          83,
          84,
          85,
          86,
          87,
          88,
          89,
          90,
          91,
          92,
          93,
          94,
          95,
          96,
          97,
          98,
          99,
          100,
          101,
          102,
          103,
          104,
          105,
          106,
          107,
          108,
          109,
          110,
          111,
          112,
          113,
          114,
          115,
          116,
          117,
          118,
          119,
          120,
          121,
          122,
          123,
          124,
          125,
          126,
          127,
          128,
          129,
          130,
          131,
          132,
          133,
          134,
          135,
          136,
          137,
          138,
          139,
          140,
          141,
          142,
          143,
          144,
          145,
          146,
          147,
          148,
          149,
          150,
          151,
          152,
          153,
          154,
          155,
          156,
          157,
          158,
          159,
          160,
          161,
          162,
          163,
          164,
          165,
          166,
          167,
          168,
          169,
          170,
          171,
          172,
          173,
          174,
          175,
          176,
          177,
          178,
          179,
          180,
          181,
          182,
          183,
          184,
          185,
          186,
          187,
          188,
          189,
          190,
          191,
          192,
          193,
          194,
          195,
          196,
          197,
          198,
          199,
          200,
          201,
          202,
          203,
          204,
          205,
          206,
          207,
          208,
          209,
          210,
          211,
          212,
          213,
          214,
          215,
          216,
          217,
          218,
          219,
          220,
          221,
          222,
          223,
          224,
          225,
          226,
          227,
          228,
          229,
          230,
          231,
          232,
          233,
          234,
          235,
          236,
          237,
          238,
          239,
          240,
          241,
          242,
          243,
          244,
          245,
          246,
          247,
          248,
          249,
          250,
          251,
          252,
          253,
          254,
          255,
          256,
          257,
          258,
          259,
          260,
          261,
          262,
          263,
          264,
          265,
          266,
          267,
          268,
          269,
          270,
          271,
          272,
          273,
          274,
          275,
          276,
          277,
          278,
          279,
          280,
          281,
          282,
          283,
          284,
          285,
          286,
          287,
          288,
          289,
          290,
          291,
          292,
          293,
          294,
          295,
          296,
          297,
          298,
          299
         ],
         "y": [
          -0.5264499187469482,
          -0.5246036052703857,
          -0.4781903624534607,
          -0.46046218276023865,
          -0.4550442397594452,
          -0.42769911885261536,
          -0.4269263744354248,
          -0.41826027631759644,
          -0.394543319940567,
          -0.37701481580734253,
          -0.3682235777378082,
          -0.34695956110954285,
          -0.3430815637111664,
          -0.3247079849243164,
          -0.3243827819824219,
          -0.28706708550453186,
          -0.2782864272594452,
          -0.27583515644073486,
          -0.2734313905239105,
          -0.27323639392852783,
          -0.2724459767341614,
          -0.27017882466316223,
          -0.26799577474594116,
          -0.26704785227775574,
          -0.2598899304866791,
          -0.25311604142189026,
          -0.24585305154323578,
          -0.23934119939804077,
          -0.237980917096138,
          -0.234635129570961,
          -0.23435190320014954,
          -0.23318618535995483,
          -0.2319048047065735,
          -0.22825326025485992,
          -0.22062742710113525,
          -0.21148724853992462,
          -0.20252147316932678,
          -0.19994714856147766,
          -0.19715827703475952,
          -0.1935935914516449,
          -0.1901891976594925,
          -0.18914921581745148,
          -0.18896569311618805,
          -0.18887795507907867,
          -0.18520432710647583,
          -0.17984241247177124,
          -0.17828364670276642,
          -0.17150215804576874,
          -0.16844378411769867,
          -0.1658671498298645,
          -0.15877670049667358,
          -0.15794380009174347,
          -0.15205927193164825,
          -0.151960089802742,
          -0.14668725430965424,
          -0.1450377255678177,
          -0.14380118250846863,
          -0.14346852898597717,
          -0.14081859588623047,
          -0.1393224596977234,
          -0.13787667453289032,
          -0.13579195737838745,
          -0.13516302406787872,
          -0.13064174354076385,
          -0.12901219725608826,
          -0.12721893191337585,
          -0.12427987158298492,
          -0.12427494674921036,
          -0.12350571900606155,
          -0.1177406758069992,
          -0.11689526587724686,
          -0.11562378704547882,
          -0.11543389409780502,
          -0.11528702080249786,
          -0.11369401216506958,
          -0.11330661177635193,
          -0.11177826672792435,
          -0.11151926219463348,
          -0.10662436485290527,
          -0.1058521643280983,
          -0.10498172789812088,
          -0.10366155207157135,
          -0.10154461860656738,
          -0.10014495998620987,
          -0.09775327891111374,
          -0.09428367018699646,
          -0.09383637458086014,
          -0.09255632758140564,
          -0.08848629146814346,
          -0.0868149846792221,
          -0.08449936658143997,
          -0.07961065322160721,
          -0.07901934534311295,
          -0.07815000414848328,
          -0.07699061930179596,
          -0.07590928673744202,
          -0.07473728060722351,
          -0.0740886777639389,
          -0.07128340750932693,
          -0.06611073762178421,
          -0.06275199353694916,
          -0.06273888051509857,
          -0.06253040581941605,
          -0.05964686721563339,
          -0.058949969708919525,
          -0.05831485614180565,
          -0.05432390794157982,
          -0.05414549633860588,
          -0.0541180856525898,
          -0.05346503481268883,
          -0.05300265550613403,
          -0.046057309955358505,
          -0.045809369534254074,
          -0.04464513063430786,
          -0.044148460030555725,
          -0.04176986217498779,
          -0.04138520732522011,
          -0.04001709446310997,
          -0.038452401757240295,
          -0.0367957279086113,
          -0.03500153869390488,
          -0.032355647534132004,
          -0.03130188211798668,
          -0.029131682589650154,
          -0.028990300372242928,
          -0.027974817901849747,
          -0.027751147747039795,
          -0.027690209448337555,
          -0.021601449698209763,
          -0.018780920654535294,
          -0.01872781477868557,
          -0.018038084730505943,
          -0.01162541750818491,
          -0.01133716944605112,
          -0.009517418220639229,
          -0.007757438346743584,
          -0.006827592384070158,
          -0.004386343993246555,
          0.0015688753919675946,
          0.004316230304539204,
          0.005685502663254738,
          0.007656708359718323,
          0.008122785948216915,
          0.009396755136549473,
          0.01002771221101284,
          0.012136691249907017,
          0.01219256967306137,
          0.01296915765851736,
          0.01425456628203392,
          0.014708423055708408,
          0.014986824244260788,
          0.015882093459367752,
          0.016053488478064537,
          0.016094068065285683,
          0.016391003504395485,
          0.017120741307735443,
          0.01723681017756462,
          0.02042691968381405,
          0.021931197494268417,
          0.022973570972681046,
          0.02384665235877037,
          0.02929718792438507,
          0.030069269239902496,
          0.033075734972953796,
          0.038288895040750504,
          0.039431869983673096,
          0.04375862702727318,
          0.043900515884160995,
          0.04664991796016693,
          0.04764825478196144,
          0.0515514500439167,
          0.05393294245004654,
          0.054164230823516846,
          0.056113991886377335,
          0.05742061138153076,
          0.058894217014312744,
          0.059519823640584946,
          0.059778690338134766,
          0.06046585366129875,
          0.061022210866212845,
          0.06493385881185532,
          0.06675712019205093,
          0.06705817580223083,
          0.06827258318662643,
          0.07019766420125961,
          0.07174762338399887,
          0.07360497862100601,
          0.07413849234580994,
          0.0749586746096611,
          0.07521931082010269,
          0.07627090811729431,
          0.07651738822460175,
          0.0783071517944336,
          0.08126094192266464,
          0.08252095431089401,
          0.08535656332969666,
          0.0865665152668953,
          0.08858177810907364,
          0.08912505954504013,
          0.08942487835884094,
          0.08979319781064987,
          0.0898810550570488,
          0.09000784158706665,
          0.09042719006538391,
          0.09213533997535706,
          0.09308464080095291,
          0.09522856771945953,
          0.09688441455364227,
          0.09775274246931076,
          0.09850691258907318,
          0.10001709312200546,
          0.10130667686462402,
          0.10151692479848862,
          0.10678139328956604,
          0.10752473026514053,
          0.10793405771255493,
          0.11022982746362686,
          0.11052507907152176,
          0.11075916886329651,
          0.11134664714336395,
          0.1126599907875061,
          0.11323782056570053,
          0.11376301944255829,
          0.1142536923289299,
          0.11465604603290558,
          0.11584482342004776,
          0.11605918407440186,
          0.11806564778089523,
          0.11853880435228348,
          0.11923900246620178,
          0.12045195698738098,
          0.12149164825677872,
          0.12870103120803833,
          0.13167685270309448,
          0.1327827125787735,
          0.13357633352279663,
          0.13421301543712616,
          0.1348375827074051,
          0.13559754192829132,
          0.13838502764701843,
          0.13906970620155334,
          0.13941079378128052,
          0.14442183077335358,
          0.1445101797580719,
          0.15022233128547668,
          0.15054234862327576,
          0.15256164968013763,
          0.15731900930404663,
          0.159749835729599,
          0.16116563975811005,
          0.16261932253837585,
          0.16569668054580688,
          0.16924726963043213,
          0.17154885828495026,
          0.17833618819713593,
          0.1804085671901703,
          0.181330606341362,
          0.18405772745609283,
          0.18598967790603638,
          0.19203662872314453,
          0.19375617802143097,
          0.1944040209054947,
          0.19770421087741852,
          0.20032188296318054,
          0.20571252703666687,
          0.2062494307756424,
          0.21065658330917358,
          0.21139590442180634,
          0.21141932904720306,
          0.2344578206539154,
          0.2345106452703476,
          0.23793992400169373,
          0.24851448833942413,
          0.2503036558628082,
          0.2505044937133789,
          0.25225645303726196,
          0.25673940777778625,
          0.2593301832675934,
          0.26173263788223267,
          0.2631681263446808,
          0.2681730091571808,
          0.2687239944934845,
          0.270652174949646,
          0.27121126651763916,
          0.28283900022506714,
          0.2860967218875885,
          0.29115691781044006,
          0.29135191440582275,
          0.291672021150589,
          0.30902180075645447,
          0.32057830691337585,
          0.32502543926239014,
          0.3297174870967865,
          0.34405213594436646,
          0.35380062460899353,
          0.35748976469039917,
          0.36307665705680847,
          0.3639732003211975,
          0.45322149991989136,
          0.4709891378879547
         ]
        }
       ],
       "layout": {
        "template": {
         "data": {
          "bar": [
           {
            "error_x": {
             "color": "#2a3f5f"
            },
            "error_y": {
             "color": "#2a3f5f"
            },
            "marker": {
             "line": {
              "color": "#E5ECF6",
              "width": 0.5
             },
             "pattern": {
              "fillmode": "overlay",
              "size": 10,
              "solidity": 0.2
             }
            },
            "type": "bar"
           }
          ],
          "barpolar": [
           {
            "marker": {
             "line": {
              "color": "#E5ECF6",
              "width": 0.5
             },
             "pattern": {
              "fillmode": "overlay",
              "size": 10,
              "solidity": 0.2
             }
            },
            "type": "barpolar"
           }
          ],
          "carpet": [
           {
            "aaxis": {
             "endlinecolor": "#2a3f5f",
             "gridcolor": "white",
             "linecolor": "white",
             "minorgridcolor": "white",
             "startlinecolor": "#2a3f5f"
            },
            "baxis": {
             "endlinecolor": "#2a3f5f",
             "gridcolor": "white",
             "linecolor": "white",
             "minorgridcolor": "white",
             "startlinecolor": "#2a3f5f"
            },
            "type": "carpet"
           }
          ],
          "choropleth": [
           {
            "colorbar": {
             "outlinewidth": 0,
             "ticks": ""
            },
            "type": "choropleth"
           }
          ],
          "contour": [
           {
            "colorbar": {
             "outlinewidth": 0,
             "ticks": ""
            },
            "colorscale": [
             [
              0,
              "#0d0887"
             ],
             [
              0.1111111111111111,
              "#46039f"
             ],
             [
              0.2222222222222222,
              "#7201a8"
             ],
             [
              0.3333333333333333,
              "#9c179e"
             ],
             [
              0.4444444444444444,
              "#bd3786"
             ],
             [
              0.5555555555555556,
              "#d8576b"
             ],
             [
              0.6666666666666666,
              "#ed7953"
             ],
             [
              0.7777777777777778,
              "#fb9f3a"
             ],
             [
              0.8888888888888888,
              "#fdca26"
             ],
             [
              1,
              "#f0f921"
             ]
            ],
            "type": "contour"
           }
          ],
          "contourcarpet": [
           {
            "colorbar": {
             "outlinewidth": 0,
             "ticks": ""
            },
            "type": "contourcarpet"
           }
          ],
          "heatmap": [
           {
            "colorbar": {
             "outlinewidth": 0,
             "ticks": ""
            },
            "colorscale": [
             [
              0,
              "#0d0887"
             ],
             [
              0.1111111111111111,
              "#46039f"
             ],
             [
              0.2222222222222222,
              "#7201a8"
             ],
             [
              0.3333333333333333,
              "#9c179e"
             ],
             [
              0.4444444444444444,
              "#bd3786"
             ],
             [
              0.5555555555555556,
              "#d8576b"
             ],
             [
              0.6666666666666666,
              "#ed7953"
             ],
             [
              0.7777777777777778,
              "#fb9f3a"
             ],
             [
              0.8888888888888888,
              "#fdca26"
             ],
             [
              1,
              "#f0f921"
             ]
            ],
            "type": "heatmap"
           }
          ],
          "heatmapgl": [
           {
            "colorbar": {
             "outlinewidth": 0,
             "ticks": ""
            },
            "colorscale": [
             [
              0,
              "#0d0887"
             ],
             [
              0.1111111111111111,
              "#46039f"
             ],
             [
              0.2222222222222222,
              "#7201a8"
             ],
             [
              0.3333333333333333,
              "#9c179e"
             ],
             [
              0.4444444444444444,
              "#bd3786"
             ],
             [
              0.5555555555555556,
              "#d8576b"
             ],
             [
              0.6666666666666666,
              "#ed7953"
             ],
             [
              0.7777777777777778,
              "#fb9f3a"
             ],
             [
              0.8888888888888888,
              "#fdca26"
             ],
             [
              1,
              "#f0f921"
             ]
            ],
            "type": "heatmapgl"
           }
          ],
          "histogram": [
           {
            "marker": {
             "pattern": {
              "fillmode": "overlay",
              "size": 10,
              "solidity": 0.2
             }
            },
            "type": "histogram"
           }
          ],
          "histogram2d": [
           {
            "colorbar": {
             "outlinewidth": 0,
             "ticks": ""
            },
            "colorscale": [
             [
              0,
              "#0d0887"
             ],
             [
              0.1111111111111111,
              "#46039f"
             ],
             [
              0.2222222222222222,
              "#7201a8"
             ],
             [
              0.3333333333333333,
              "#9c179e"
             ],
             [
              0.4444444444444444,
              "#bd3786"
             ],
             [
              0.5555555555555556,
              "#d8576b"
             ],
             [
              0.6666666666666666,
              "#ed7953"
             ],
             [
              0.7777777777777778,
              "#fb9f3a"
             ],
             [
              0.8888888888888888,
              "#fdca26"
             ],
             [
              1,
              "#f0f921"
             ]
            ],
            "type": "histogram2d"
           }
          ],
          "histogram2dcontour": [
           {
            "colorbar": {
             "outlinewidth": 0,
             "ticks": ""
            },
            "colorscale": [
             [
              0,
              "#0d0887"
             ],
             [
              0.1111111111111111,
              "#46039f"
             ],
             [
              0.2222222222222222,
              "#7201a8"
             ],
             [
              0.3333333333333333,
              "#9c179e"
             ],
             [
              0.4444444444444444,
              "#bd3786"
             ],
             [
              0.5555555555555556,
              "#d8576b"
             ],
             [
              0.6666666666666666,
              "#ed7953"
             ],
             [
              0.7777777777777778,
              "#fb9f3a"
             ],
             [
              0.8888888888888888,
              "#fdca26"
             ],
             [
              1,
              "#f0f921"
             ]
            ],
            "type": "histogram2dcontour"
           }
          ],
          "mesh3d": [
           {
            "colorbar": {
             "outlinewidth": 0,
             "ticks": ""
            },
            "type": "mesh3d"
           }
          ],
          "parcoords": [
           {
            "line": {
             "colorbar": {
              "outlinewidth": 0,
              "ticks": ""
             }
            },
            "type": "parcoords"
           }
          ],
          "pie": [
           {
            "automargin": true,
            "type": "pie"
           }
          ],
          "scatter": [
           {
            "fillpattern": {
             "fillmode": "overlay",
             "size": 10,
             "solidity": 0.2
            },
            "type": "scatter"
           }
          ],
          "scatter3d": [
           {
            "line": {
             "colorbar": {
              "outlinewidth": 0,
              "ticks": ""
             }
            },
            "marker": {
             "colorbar": {
              "outlinewidth": 0,
              "ticks": ""
             }
            },
            "type": "scatter3d"
           }
          ],
          "scattercarpet": [
           {
            "marker": {
             "colorbar": {
              "outlinewidth": 0,
              "ticks": ""
             }
            },
            "type": "scattercarpet"
           }
          ],
          "scattergeo": [
           {
            "marker": {
             "colorbar": {
              "outlinewidth": 0,
              "ticks": ""
             }
            },
            "type": "scattergeo"
           }
          ],
          "scattergl": [
           {
            "marker": {
             "colorbar": {
              "outlinewidth": 0,
              "ticks": ""
             }
            },
            "type": "scattergl"
           }
          ],
          "scattermapbox": [
           {
            "marker": {
             "colorbar": {
              "outlinewidth": 0,
              "ticks": ""
             }
            },
            "type": "scattermapbox"
           }
          ],
          "scatterpolar": [
           {
            "marker": {
             "colorbar": {
              "outlinewidth": 0,
              "ticks": ""
             }
            },
            "type": "scatterpolar"
           }
          ],
          "scatterpolargl": [
           {
            "marker": {
             "colorbar": {
              "outlinewidth": 0,
              "ticks": ""
             }
            },
            "type": "scatterpolargl"
           }
          ],
          "scatterternary": [
           {
            "marker": {
             "colorbar": {
              "outlinewidth": 0,
              "ticks": ""
             }
            },
            "type": "scatterternary"
           }
          ],
          "surface": [
           {
            "colorbar": {
             "outlinewidth": 0,
             "ticks": ""
            },
            "colorscale": [
             [
              0,
              "#0d0887"
             ],
             [
              0.1111111111111111,
              "#46039f"
             ],
             [
              0.2222222222222222,
              "#7201a8"
             ],
             [
              0.3333333333333333,
              "#9c179e"
             ],
             [
              0.4444444444444444,
              "#bd3786"
             ],
             [
              0.5555555555555556,
              "#d8576b"
             ],
             [
              0.6666666666666666,
              "#ed7953"
             ],
             [
              0.7777777777777778,
              "#fb9f3a"
             ],
             [
              0.8888888888888888,
              "#fdca26"
             ],
             [
              1,
              "#f0f921"
             ]
            ],
            "type": "surface"
           }
          ],
          "table": [
           {
            "cells": {
             "fill": {
              "color": "#EBF0F8"
             },
             "line": {
              "color": "white"
             }
            },
            "header": {
             "fill": {
              "color": "#C8D4E3"
             },
             "line": {
              "color": "white"
             }
            },
            "type": "table"
           }
          ]
         },
         "layout": {
          "annotationdefaults": {
           "arrowcolor": "#2a3f5f",
           "arrowhead": 0,
           "arrowwidth": 1
          },
          "autotypenumbers": "strict",
          "coloraxis": {
           "colorbar": {
            "outlinewidth": 0,
            "ticks": ""
           }
          },
          "colorscale": {
           "diverging": [
            [
             0,
             "#8e0152"
            ],
            [
             0.1,
             "#c51b7d"
            ],
            [
             0.2,
             "#de77ae"
            ],
            [
             0.3,
             "#f1b6da"
            ],
            [
             0.4,
             "#fde0ef"
            ],
            [
             0.5,
             "#f7f7f7"
            ],
            [
             0.6,
             "#e6f5d0"
            ],
            [
             0.7,
             "#b8e186"
            ],
            [
             0.8,
             "#7fbc41"
            ],
            [
             0.9,
             "#4d9221"
            ],
            [
             1,
             "#276419"
            ]
           ],
           "sequential": [
            [
             0,
             "#0d0887"
            ],
            [
             0.1111111111111111,
             "#46039f"
            ],
            [
             0.2222222222222222,
             "#7201a8"
            ],
            [
             0.3333333333333333,
             "#9c179e"
            ],
            [
             0.4444444444444444,
             "#bd3786"
            ],
            [
             0.5555555555555556,
             "#d8576b"
            ],
            [
             0.6666666666666666,
             "#ed7953"
            ],
            [
             0.7777777777777778,
             "#fb9f3a"
            ],
            [
             0.8888888888888888,
             "#fdca26"
            ],
            [
             1,
             "#f0f921"
            ]
           ],
           "sequentialminus": [
            [
             0,
             "#0d0887"
            ],
            [
             0.1111111111111111,
             "#46039f"
            ],
            [
             0.2222222222222222,
             "#7201a8"
            ],
            [
             0.3333333333333333,
             "#9c179e"
            ],
            [
             0.4444444444444444,
             "#bd3786"
            ],
            [
             0.5555555555555556,
             "#d8576b"
            ],
            [
             0.6666666666666666,
             "#ed7953"
            ],
            [
             0.7777777777777778,
             "#fb9f3a"
            ],
            [
             0.8888888888888888,
             "#fdca26"
            ],
            [
             1,
             "#f0f921"
            ]
           ]
          },
          "colorway": [
           "#636efa",
           "#EF553B",
           "#00cc96",
           "#ab63fa",
           "#FFA15A",
           "#19d3f3",
           "#FF6692",
           "#B6E880",
           "#FF97FF",
           "#FECB52"
          ],
          "font": {
           "color": "#2a3f5f"
          },
          "geo": {
           "bgcolor": "white",
           "lakecolor": "white",
           "landcolor": "#E5ECF6",
           "showlakes": true,
           "showland": true,
           "subunitcolor": "white"
          },
          "hoverlabel": {
           "align": "left"
          },
          "hovermode": "closest",
          "mapbox": {
           "style": "light"
          },
          "paper_bgcolor": "white",
          "plot_bgcolor": "#E5ECF6",
          "polar": {
           "angularaxis": {
            "gridcolor": "white",
            "linecolor": "white",
            "ticks": ""
           },
           "bgcolor": "#E5ECF6",
           "radialaxis": {
            "gridcolor": "white",
            "linecolor": "white",
            "ticks": ""
           }
          },
          "scene": {
           "xaxis": {
            "backgroundcolor": "#E5ECF6",
            "gridcolor": "white",
            "gridwidth": 2,
            "linecolor": "white",
            "showbackground": true,
            "ticks": "",
            "zerolinecolor": "white"
           },
           "yaxis": {
            "backgroundcolor": "#E5ECF6",
            "gridcolor": "white",
            "gridwidth": 2,
            "linecolor": "white",
            "showbackground": true,
            "ticks": "",
            "zerolinecolor": "white"
           },
           "zaxis": {
            "backgroundcolor": "#E5ECF6",
            "gridcolor": "white",
            "gridwidth": 2,
            "linecolor": "white",
            "showbackground": true,
            "ticks": "",
            "zerolinecolor": "white"
           }
          },
          "shapedefaults": {
           "line": {
            "color": "#2a3f5f"
           }
          },
          "ternary": {
           "aaxis": {
            "gridcolor": "white",
            "linecolor": "white",
            "ticks": ""
           },
           "baxis": {
            "gridcolor": "white",
            "linecolor": "white",
            "ticks": ""
           },
           "bgcolor": "#E5ECF6",
           "caxis": {
            "gridcolor": "white",
            "linecolor": "white",
            "ticks": ""
           }
          },
          "title": {
           "x": 0.05
          },
          "xaxis": {
           "automargin": true,
           "gridcolor": "white",
           "linecolor": "white",
           "ticks": "",
           "title": {
            "standoff": 15
           },
           "zerolinecolor": "white",
           "zerolinewidth": 2
          },
          "yaxis": {
           "automargin": true,
           "gridcolor": "white",
           "linecolor": "white",
           "ticks": "",
           "title": {
            "standoff": 15
           },
           "zerolinecolor": "white",
           "zerolinewidth": 2
          }
         }
        }
       }
      }
     },
     "metadata": {},
     "output_type": "display_data"
    },
    {
     "name": "stdout",
     "output_type": "stream",
     "text": [
      "torch.Size([400])\n"
     ]
    },
    {
     "data": {
      "application/vnd.plotly.v1+json": {
       "config": {
        "plotlyServerURL": "https://plot.ly"
       },
       "data": [
        {
         "type": "scatter",
         "x": [
          0,
          1,
          2,
          3,
          4,
          5,
          6,
          7,
          8,
          9,
          10,
          11,
          12,
          13,
          14,
          15,
          16,
          17,
          18,
          19,
          20,
          21,
          22,
          23,
          24,
          25,
          26,
          27,
          28,
          29,
          30,
          31,
          32,
          33,
          34,
          35,
          36,
          37,
          38,
          39,
          40,
          41,
          42,
          43,
          44,
          45,
          46,
          47,
          48,
          49,
          50,
          51,
          52,
          53,
          54,
          55,
          56,
          57,
          58,
          59,
          60,
          61,
          62,
          63,
          64,
          65,
          66,
          67,
          68,
          69,
          70,
          71,
          72,
          73,
          74,
          75,
          76,
          77,
          78,
          79,
          80,
          81,
          82,
          83,
          84,
          85,
          86,
          87,
          88,
          89,
          90,
          91,
          92,
          93,
          94,
          95,
          96,
          97,
          98,
          99,
          100,
          101,
          102,
          103,
          104,
          105,
          106,
          107,
          108,
          109,
          110,
          111,
          112,
          113,
          114,
          115,
          116,
          117,
          118,
          119,
          120,
          121,
          122,
          123,
          124,
          125,
          126,
          127,
          128,
          129,
          130,
          131,
          132,
          133,
          134,
          135,
          136,
          137,
          138,
          139,
          140,
          141,
          142,
          143,
          144,
          145,
          146,
          147,
          148,
          149,
          150,
          151,
          152,
          153,
          154,
          155,
          156,
          157,
          158,
          159,
          160,
          161,
          162,
          163,
          164,
          165,
          166,
          167,
          168,
          169,
          170,
          171,
          172,
          173,
          174,
          175,
          176,
          177,
          178,
          179,
          180,
          181,
          182,
          183,
          184,
          185,
          186,
          187,
          188,
          189,
          190,
          191,
          192,
          193,
          194,
          195,
          196,
          197,
          198,
          199,
          200,
          201,
          202,
          203,
          204,
          205,
          206,
          207,
          208,
          209,
          210,
          211,
          212,
          213,
          214,
          215,
          216,
          217,
          218,
          219,
          220,
          221,
          222,
          223,
          224,
          225,
          226,
          227,
          228,
          229,
          230,
          231,
          232,
          233,
          234,
          235,
          236,
          237,
          238,
          239,
          240,
          241,
          242,
          243,
          244,
          245,
          246,
          247,
          248,
          249,
          250,
          251,
          252,
          253,
          254,
          255,
          256,
          257,
          258,
          259,
          260,
          261,
          262,
          263,
          264,
          265,
          266,
          267,
          268,
          269,
          270,
          271,
          272,
          273,
          274,
          275,
          276,
          277,
          278,
          279,
          280,
          281,
          282,
          283,
          284,
          285,
          286,
          287,
          288,
          289,
          290,
          291,
          292,
          293,
          294,
          295,
          296,
          297,
          298,
          299,
          300,
          301,
          302,
          303,
          304,
          305,
          306,
          307,
          308,
          309,
          310,
          311,
          312,
          313,
          314,
          315,
          316,
          317,
          318,
          319,
          320,
          321,
          322,
          323,
          324,
          325,
          326,
          327,
          328,
          329,
          330,
          331,
          332,
          333,
          334,
          335,
          336,
          337,
          338,
          339,
          340,
          341,
          342,
          343,
          344,
          345,
          346,
          347,
          348,
          349,
          350,
          351,
          352,
          353,
          354,
          355,
          356,
          357,
          358,
          359,
          360,
          361,
          362,
          363,
          364,
          365,
          366,
          367,
          368,
          369,
          370,
          371,
          372,
          373,
          374,
          375,
          376,
          377,
          378,
          379,
          380,
          381,
          382,
          383,
          384,
          385,
          386,
          387,
          388,
          389,
          390,
          391,
          392,
          393,
          394,
          395,
          396,
          397,
          398,
          399
         ],
         "y": [
          -0.49966874718666077,
          -0.4520125389099121,
          -0.42786550521850586,
          -0.4094686210155487,
          -0.40670084953308105,
          -0.39780333638191223,
          -0.3801113963127136,
          -0.376871258020401,
          -0.3735422194004059,
          -0.3713436424732208,
          -0.36604902148246765,
          -0.3451307713985443,
          -0.3448539078235626,
          -0.3300134241580963,
          -0.30370333790779114,
          -0.2992609143257141,
          -0.2963413894176483,
          -0.29305365681648254,
          -0.28762105107307434,
          -0.28343576192855835,
          -0.2788375914096832,
          -0.2781263589859009,
          -0.26909077167510986,
          -0.26007285714149475,
          -0.2575724422931671,
          -0.2554246783256531,
          -0.24470432102680206,
          -0.24396222829818726,
          -0.24350595474243164,
          -0.2426987588405609,
          -0.23407632112503052,
          -0.23362109065055847,
          -0.22710803151130676,
          -0.22666843235492706,
          -0.22589825093746185,
          -0.2240939885377884,
          -0.22377899289131165,
          -0.21866968274116516,
          -0.2174709588289261,
          -0.21556931734085083,
          -0.21172912418842316,
          -0.20823010802268982,
          -0.20761340856552124,
          -0.20547406375408173,
          -0.20505163073539734,
          -0.20151890814304352,
          -0.19902411103248596,
          -0.19733434915542603,
          -0.19324372708797455,
          -0.18986336886882782,
          -0.1854695826768875,
          -0.18538185954093933,
          -0.18429763615131378,
          -0.18371476233005524,
          -0.175331249833107,
          -0.17381654679775238,
          -0.17372889816761017,
          -0.17219728231430054,
          -0.17067833244800568,
          -0.1675848513841629,
          -0.1653738170862198,
          -0.1644633561372757,
          -0.16354478895664215,
          -0.1629694551229477,
          -0.15696269273757935,
          -0.15605910122394562,
          -0.1550576090812683,
          -0.15088561177253723,
          -0.1470811814069748,
          -0.14525006711483002,
          -0.14258623123168945,
          -0.13974468410015106,
          -0.13874217867851257,
          -0.13559550046920776,
          -0.13508377969264984,
          -0.1318240612745285,
          -0.1303764432668686,
          -0.12902262806892395,
          -0.12840373814105988,
          -0.12331581860780716,
          -0.12247351557016373,
          -0.12146292626857758,
          -0.12106304615736008,
          -0.11967062205076218,
          -0.11673203855752945,
          -0.11667381972074509,
          -0.1159685030579567,
          -0.11380394548177719,
          -0.11345414072275162,
          -0.11334053426980972,
          -0.1130119040608406,
          -0.11149468272924423,
          -0.11129244416952133,
          -0.11096707731485367,
          -0.1098795160651207,
          -0.10969634354114532,
          -0.10843554884195328,
          -0.10688824951648712,
          -0.10394327342510223,
          -0.10348796844482422,
          -0.10301119834184647,
          -0.10176319628953934,
          -0.10110235959291458,
          -0.09965987503528595,
          -0.09928996115922928,
          -0.09793984889984131,
          -0.09619056433439255,
          -0.09427081793546677,
          -0.09323267638683319,
          -0.0928177535533905,
          -0.09264862537384033,
          -0.09234393388032913,
          -0.08840696513652802,
          -0.08725034445524216,
          -0.08207336813211441,
          -0.08177529275417328,
          -0.08141636103391647,
          -0.07952375710010529,
          -0.0788610652089119,
          -0.07869996130466461,
          -0.07751493155956268,
          -0.0756024643778801,
          -0.07415100187063217,
          -0.07208520919084549,
          -0.07091403007507324,
          -0.0702873170375824,
          -0.06998200714588165,
          -0.0675044059753418,
          -0.06673353165388107,
          -0.06505440175533295,
          -0.06357697397470474,
          -0.06329204142093658,
          -0.06317213922739029,
          -0.06054820865392685,
          -0.06044293940067291,
          -0.05920053645968437,
          -0.05766217038035393,
          -0.05681363493204117,
          -0.05646767094731331,
          -0.054813940078020096,
          -0.054792165756225586,
          -0.05286707356572151,
          -0.05214850232005119,
          -0.05144210532307625,
          -0.05131134018301964,
          -0.051090262830257416,
          -0.05093756690621376,
          -0.049577485769987106,
          -0.049207914620637894,
          -0.04832153022289276,
          -0.04792403057217598,
          -0.04782111942768097,
          -0.04758631810545921,
          -0.04670960456132889,
          -0.04562089964747429,
          -0.04464106261730194,
          -0.043632928282022476,
          -0.04139100760221481,
          -0.041204363107681274,
          -0.04066860303282738,
          -0.03911178559064865,
          -0.03594241291284561,
          -0.034940969198942184,
          -0.03336654230952263,
          -0.03153045102953911,
          -0.030675126239657402,
          -0.029372211545705795,
          -0.029370084404945374,
          -0.02921764738857746,
          -0.026744119822978973,
          -0.026616612449288368,
          -0.0265676099807024,
          -0.025690145790576935,
          -0.02549881488084793,
          -0.023788822814822197,
          -0.023499900475144386,
          -0.02047344669699669,
          -0.019988277927041054,
          -0.019890837371349335,
          -0.017516329884529114,
          -0.017019687220454216,
          -0.015851246193051338,
          -0.014146792702376842,
          -0.012338085100054741,
          -0.012019905261695385,
          -0.011869050562381744,
          -0.009755054488778114,
          -0.00974198803305626,
          -0.008705591782927513,
          -0.008110151626169682,
          -0.007246148306876421,
          -0.005850982386618853,
          -0.0056375437416136265,
          -0.00557777751237154,
          -0.005056237336248159,
          -0.004834035411477089,
          -0.004339195322245359,
          -0.0012898010900244117,
          0.00030669706757180393,
          0.0008930088952183723,
          0.003177446313202381,
          0.0055793654173612595,
          0.005671529099345207,
          0.005750522017478943,
          0.006362579762935638,
          0.0069196708500385284,
          0.0077169896103441715,
          0.010005663149058819,
          0.010123203508555889,
          0.010282205417752266,
          0.010380339808762074,
          0.014785636216402054,
          0.01640099287033081,
          0.01643943227827549,
          0.01945101097226143,
          0.0207287035882473,
          0.021314023062586784,
          0.024758553132414818,
          0.025414831936359406,
          0.026490168645977974,
          0.028607111424207687,
          0.029084544628858566,
          0.0300198495388031,
          0.030727354809641838,
          0.03097507916390896,
          0.031003445386886597,
          0.03235573321580887,
          0.03250349313020706,
          0.03382137790322304,
          0.035758599638938904,
          0.03740811347961426,
          0.037773437798023224,
          0.03833014890551567,
          0.039499662816524506,
          0.04160218685865402,
          0.04840124770998955,
          0.050390735268592834,
          0.05119872838258743,
          0.05246011167764664,
          0.052976321429014206,
          0.05301349237561226,
          0.053655896335840225,
          0.05366050824522972,
          0.05582994222640991,
          0.05583023652434349,
          0.057383786886930466,
          0.05763382092118263,
          0.05848300829529762,
          0.05939619988203049,
          0.06135693937540054,
          0.06156899034976959,
          0.06280304491519928,
          0.06302033364772797,
          0.06346037983894348,
          0.06371995061635971,
          0.06545845419168472,
          0.06664449721574783,
          0.06738530844449997,
          0.06887493282556534,
          0.0698130652308464,
          0.0700799748301506,
          0.07077488303184509,
          0.07124930620193481,
          0.07164183259010315,
          0.0720999538898468,
          0.07224299758672714,
          0.07226542383432388,
          0.07253962755203247,
          0.0747024416923523,
          0.07574809342622757,
          0.07582437247037888,
          0.078333280980587,
          0.07953401654958725,
          0.08131960034370422,
          0.08146607130765915,
          0.08183032274246216,
          0.08311651647090912,
          0.08517433702945709,
          0.08871965110301971,
          0.09004136174917221,
          0.09101599454879761,
          0.09152643382549286,
          0.09278207272291183,
          0.09670837968587875,
          0.09685572236776352,
          0.09812231361865997,
          0.09857892245054245,
          0.09927701205015182,
          0.0998120829463005,
          0.10008279979228973,
          0.1016019731760025,
          0.10311804711818695,
          0.10415025055408478,
          0.10443760454654694,
          0.10477538406848907,
          0.10590208321809769,
          0.10857129096984863,
          0.11015064269304276,
          0.1114775612950325,
          0.11265387386083603,
          0.11366149038076401,
          0.11456050723791122,
          0.11705488711595535,
          0.11705586314201355,
          0.11873035132884979,
          0.11903960257768631,
          0.11951616406440735,
          0.12021468579769135,
          0.12045881897211075,
          0.12563656270503998,
          0.12638910114765167,
          0.13045738637447357,
          0.13078443706035614,
          0.13248001039028168,
          0.13354773819446564,
          0.13438190519809723,
          0.13583151996135712,
          0.137288436293602,
          0.13812370598316193,
          0.13836055994033813,
          0.13960815966129303,
          0.14102400839328766,
          0.14237046241760254,
          0.14246822893619537,
          0.14477600157260895,
          0.14486825466156006,
          0.14518877863883972,
          0.146424800157547,
          0.14779947698116302,
          0.1479099690914154,
          0.14835621416568756,
          0.1492333710193634,
          0.15179893374443054,
          0.1555691808462143,
          0.15575142204761505,
          0.15731292963027954,
          0.1602228283882141,
          0.16231057047843933,
          0.16926337778568268,
          0.17102070152759552,
          0.1759444773197174,
          0.1777046173810959,
          0.17794138193130493,
          0.18007361888885498,
          0.18568846583366394,
          0.18914522230625153,
          0.18917424976825714,
          0.19267752766609192,
          0.19388122856616974,
          0.1947144716978073,
          0.19477184116840363,
          0.19827131927013397,
          0.20547159016132355,
          0.20562615990638733,
          0.20650739967823029,
          0.20826980471611023,
          0.20959770679473877,
          0.21195046603679657,
          0.21445362269878387,
          0.21469736099243164,
          0.2153962403535843,
          0.21629829704761505,
          0.21757282316684723,
          0.22083459794521332,
          0.22469323873519897,
          0.22652865946292877,
          0.2277633249759674,
          0.2285180538892746,
          0.23512694239616394,
          0.235539972782135,
          0.2377110868692398,
          0.24125085771083832,
          0.2473248839378357,
          0.25363078713417053,
          0.2554216980934143,
          0.2595106363296509,
          0.2678851783275604,
          0.27196964621543884,
          0.2743082046508789,
          0.2746073007583618,
          0.2747367024421692,
          0.2776195704936981,
          0.27956345677375793,
          0.2911592125892639,
          0.291883647441864,
          0.2991408407688141,
          0.29934918880462646,
          0.30319368839263916,
          0.31540828943252563,
          0.3237725794315338,
          0.34484100341796875,
          0.3466300666332245,
          0.3585849106311798,
          0.37534135580062866,
          0.3753698468208313,
          0.3791763186454773,
          0.41198721528053284,
          0.46464112401008606,
          0.4737842082977295,
          0.5217439532279968
         ]
        }
       ],
       "layout": {
        "template": {
         "data": {
          "bar": [
           {
            "error_x": {
             "color": "#2a3f5f"
            },
            "error_y": {
             "color": "#2a3f5f"
            },
            "marker": {
             "line": {
              "color": "#E5ECF6",
              "width": 0.5
             },
             "pattern": {
              "fillmode": "overlay",
              "size": 10,
              "solidity": 0.2
             }
            },
            "type": "bar"
           }
          ],
          "barpolar": [
           {
            "marker": {
             "line": {
              "color": "#E5ECF6",
              "width": 0.5
             },
             "pattern": {
              "fillmode": "overlay",
              "size": 10,
              "solidity": 0.2
             }
            },
            "type": "barpolar"
           }
          ],
          "carpet": [
           {
            "aaxis": {
             "endlinecolor": "#2a3f5f",
             "gridcolor": "white",
             "linecolor": "white",
             "minorgridcolor": "white",
             "startlinecolor": "#2a3f5f"
            },
            "baxis": {
             "endlinecolor": "#2a3f5f",
             "gridcolor": "white",
             "linecolor": "white",
             "minorgridcolor": "white",
             "startlinecolor": "#2a3f5f"
            },
            "type": "carpet"
           }
          ],
          "choropleth": [
           {
            "colorbar": {
             "outlinewidth": 0,
             "ticks": ""
            },
            "type": "choropleth"
           }
          ],
          "contour": [
           {
            "colorbar": {
             "outlinewidth": 0,
             "ticks": ""
            },
            "colorscale": [
             [
              0,
              "#0d0887"
             ],
             [
              0.1111111111111111,
              "#46039f"
             ],
             [
              0.2222222222222222,
              "#7201a8"
             ],
             [
              0.3333333333333333,
              "#9c179e"
             ],
             [
              0.4444444444444444,
              "#bd3786"
             ],
             [
              0.5555555555555556,
              "#d8576b"
             ],
             [
              0.6666666666666666,
              "#ed7953"
             ],
             [
              0.7777777777777778,
              "#fb9f3a"
             ],
             [
              0.8888888888888888,
              "#fdca26"
             ],
             [
              1,
              "#f0f921"
             ]
            ],
            "type": "contour"
           }
          ],
          "contourcarpet": [
           {
            "colorbar": {
             "outlinewidth": 0,
             "ticks": ""
            },
            "type": "contourcarpet"
           }
          ],
          "heatmap": [
           {
            "colorbar": {
             "outlinewidth": 0,
             "ticks": ""
            },
            "colorscale": [
             [
              0,
              "#0d0887"
             ],
             [
              0.1111111111111111,
              "#46039f"
             ],
             [
              0.2222222222222222,
              "#7201a8"
             ],
             [
              0.3333333333333333,
              "#9c179e"
             ],
             [
              0.4444444444444444,
              "#bd3786"
             ],
             [
              0.5555555555555556,
              "#d8576b"
             ],
             [
              0.6666666666666666,
              "#ed7953"
             ],
             [
              0.7777777777777778,
              "#fb9f3a"
             ],
             [
              0.8888888888888888,
              "#fdca26"
             ],
             [
              1,
              "#f0f921"
             ]
            ],
            "type": "heatmap"
           }
          ],
          "heatmapgl": [
           {
            "colorbar": {
             "outlinewidth": 0,
             "ticks": ""
            },
            "colorscale": [
             [
              0,
              "#0d0887"
             ],
             [
              0.1111111111111111,
              "#46039f"
             ],
             [
              0.2222222222222222,
              "#7201a8"
             ],
             [
              0.3333333333333333,
              "#9c179e"
             ],
             [
              0.4444444444444444,
              "#bd3786"
             ],
             [
              0.5555555555555556,
              "#d8576b"
             ],
             [
              0.6666666666666666,
              "#ed7953"
             ],
             [
              0.7777777777777778,
              "#fb9f3a"
             ],
             [
              0.8888888888888888,
              "#fdca26"
             ],
             [
              1,
              "#f0f921"
             ]
            ],
            "type": "heatmapgl"
           }
          ],
          "histogram": [
           {
            "marker": {
             "pattern": {
              "fillmode": "overlay",
              "size": 10,
              "solidity": 0.2
             }
            },
            "type": "histogram"
           }
          ],
          "histogram2d": [
           {
            "colorbar": {
             "outlinewidth": 0,
             "ticks": ""
            },
            "colorscale": [
             [
              0,
              "#0d0887"
             ],
             [
              0.1111111111111111,
              "#46039f"
             ],
             [
              0.2222222222222222,
              "#7201a8"
             ],
             [
              0.3333333333333333,
              "#9c179e"
             ],
             [
              0.4444444444444444,
              "#bd3786"
             ],
             [
              0.5555555555555556,
              "#d8576b"
             ],
             [
              0.6666666666666666,
              "#ed7953"
             ],
             [
              0.7777777777777778,
              "#fb9f3a"
             ],
             [
              0.8888888888888888,
              "#fdca26"
             ],
             [
              1,
              "#f0f921"
             ]
            ],
            "type": "histogram2d"
           }
          ],
          "histogram2dcontour": [
           {
            "colorbar": {
             "outlinewidth": 0,
             "ticks": ""
            },
            "colorscale": [
             [
              0,
              "#0d0887"
             ],
             [
              0.1111111111111111,
              "#46039f"
             ],
             [
              0.2222222222222222,
              "#7201a8"
             ],
             [
              0.3333333333333333,
              "#9c179e"
             ],
             [
              0.4444444444444444,
              "#bd3786"
             ],
             [
              0.5555555555555556,
              "#d8576b"
             ],
             [
              0.6666666666666666,
              "#ed7953"
             ],
             [
              0.7777777777777778,
              "#fb9f3a"
             ],
             [
              0.8888888888888888,
              "#fdca26"
             ],
             [
              1,
              "#f0f921"
             ]
            ],
            "type": "histogram2dcontour"
           }
          ],
          "mesh3d": [
           {
            "colorbar": {
             "outlinewidth": 0,
             "ticks": ""
            },
            "type": "mesh3d"
           }
          ],
          "parcoords": [
           {
            "line": {
             "colorbar": {
              "outlinewidth": 0,
              "ticks": ""
             }
            },
            "type": "parcoords"
           }
          ],
          "pie": [
           {
            "automargin": true,
            "type": "pie"
           }
          ],
          "scatter": [
           {
            "fillpattern": {
             "fillmode": "overlay",
             "size": 10,
             "solidity": 0.2
            },
            "type": "scatter"
           }
          ],
          "scatter3d": [
           {
            "line": {
             "colorbar": {
              "outlinewidth": 0,
              "ticks": ""
             }
            },
            "marker": {
             "colorbar": {
              "outlinewidth": 0,
              "ticks": ""
             }
            },
            "type": "scatter3d"
           }
          ],
          "scattercarpet": [
           {
            "marker": {
             "colorbar": {
              "outlinewidth": 0,
              "ticks": ""
             }
            },
            "type": "scattercarpet"
           }
          ],
          "scattergeo": [
           {
            "marker": {
             "colorbar": {
              "outlinewidth": 0,
              "ticks": ""
             }
            },
            "type": "scattergeo"
           }
          ],
          "scattergl": [
           {
            "marker": {
             "colorbar": {
              "outlinewidth": 0,
              "ticks": ""
             }
            },
            "type": "scattergl"
           }
          ],
          "scattermapbox": [
           {
            "marker": {
             "colorbar": {
              "outlinewidth": 0,
              "ticks": ""
             }
            },
            "type": "scattermapbox"
           }
          ],
          "scatterpolar": [
           {
            "marker": {
             "colorbar": {
              "outlinewidth": 0,
              "ticks": ""
             }
            },
            "type": "scatterpolar"
           }
          ],
          "scatterpolargl": [
           {
            "marker": {
             "colorbar": {
              "outlinewidth": 0,
              "ticks": ""
             }
            },
            "type": "scatterpolargl"
           }
          ],
          "scatterternary": [
           {
            "marker": {
             "colorbar": {
              "outlinewidth": 0,
              "ticks": ""
             }
            },
            "type": "scatterternary"
           }
          ],
          "surface": [
           {
            "colorbar": {
             "outlinewidth": 0,
             "ticks": ""
            },
            "colorscale": [
             [
              0,
              "#0d0887"
             ],
             [
              0.1111111111111111,
              "#46039f"
             ],
             [
              0.2222222222222222,
              "#7201a8"
             ],
             [
              0.3333333333333333,
              "#9c179e"
             ],
             [
              0.4444444444444444,
              "#bd3786"
             ],
             [
              0.5555555555555556,
              "#d8576b"
             ],
             [
              0.6666666666666666,
              "#ed7953"
             ],
             [
              0.7777777777777778,
              "#fb9f3a"
             ],
             [
              0.8888888888888888,
              "#fdca26"
             ],
             [
              1,
              "#f0f921"
             ]
            ],
            "type": "surface"
           }
          ],
          "table": [
           {
            "cells": {
             "fill": {
              "color": "#EBF0F8"
             },
             "line": {
              "color": "white"
             }
            },
            "header": {
             "fill": {
              "color": "#C8D4E3"
             },
             "line": {
              "color": "white"
             }
            },
            "type": "table"
           }
          ]
         },
         "layout": {
          "annotationdefaults": {
           "arrowcolor": "#2a3f5f",
           "arrowhead": 0,
           "arrowwidth": 1
          },
          "autotypenumbers": "strict",
          "coloraxis": {
           "colorbar": {
            "outlinewidth": 0,
            "ticks": ""
           }
          },
          "colorscale": {
           "diverging": [
            [
             0,
             "#8e0152"
            ],
            [
             0.1,
             "#c51b7d"
            ],
            [
             0.2,
             "#de77ae"
            ],
            [
             0.3,
             "#f1b6da"
            ],
            [
             0.4,
             "#fde0ef"
            ],
            [
             0.5,
             "#f7f7f7"
            ],
            [
             0.6,
             "#e6f5d0"
            ],
            [
             0.7,
             "#b8e186"
            ],
            [
             0.8,
             "#7fbc41"
            ],
            [
             0.9,
             "#4d9221"
            ],
            [
             1,
             "#276419"
            ]
           ],
           "sequential": [
            [
             0,
             "#0d0887"
            ],
            [
             0.1111111111111111,
             "#46039f"
            ],
            [
             0.2222222222222222,
             "#7201a8"
            ],
            [
             0.3333333333333333,
             "#9c179e"
            ],
            [
             0.4444444444444444,
             "#bd3786"
            ],
            [
             0.5555555555555556,
             "#d8576b"
            ],
            [
             0.6666666666666666,
             "#ed7953"
            ],
            [
             0.7777777777777778,
             "#fb9f3a"
            ],
            [
             0.8888888888888888,
             "#fdca26"
            ],
            [
             1,
             "#f0f921"
            ]
           ],
           "sequentialminus": [
            [
             0,
             "#0d0887"
            ],
            [
             0.1111111111111111,
             "#46039f"
            ],
            [
             0.2222222222222222,
             "#7201a8"
            ],
            [
             0.3333333333333333,
             "#9c179e"
            ],
            [
             0.4444444444444444,
             "#bd3786"
            ],
            [
             0.5555555555555556,
             "#d8576b"
            ],
            [
             0.6666666666666666,
             "#ed7953"
            ],
            [
             0.7777777777777778,
             "#fb9f3a"
            ],
            [
             0.8888888888888888,
             "#fdca26"
            ],
            [
             1,
             "#f0f921"
            ]
           ]
          },
          "colorway": [
           "#636efa",
           "#EF553B",
           "#00cc96",
           "#ab63fa",
           "#FFA15A",
           "#19d3f3",
           "#FF6692",
           "#B6E880",
           "#FF97FF",
           "#FECB52"
          ],
          "font": {
           "color": "#2a3f5f"
          },
          "geo": {
           "bgcolor": "white",
           "lakecolor": "white",
           "landcolor": "#E5ECF6",
           "showlakes": true,
           "showland": true,
           "subunitcolor": "white"
          },
          "hoverlabel": {
           "align": "left"
          },
          "hovermode": "closest",
          "mapbox": {
           "style": "light"
          },
          "paper_bgcolor": "white",
          "plot_bgcolor": "#E5ECF6",
          "polar": {
           "angularaxis": {
            "gridcolor": "white",
            "linecolor": "white",
            "ticks": ""
           },
           "bgcolor": "#E5ECF6",
           "radialaxis": {
            "gridcolor": "white",
            "linecolor": "white",
            "ticks": ""
           }
          },
          "scene": {
           "xaxis": {
            "backgroundcolor": "#E5ECF6",
            "gridcolor": "white",
            "gridwidth": 2,
            "linecolor": "white",
            "showbackground": true,
            "ticks": "",
            "zerolinecolor": "white"
           },
           "yaxis": {
            "backgroundcolor": "#E5ECF6",
            "gridcolor": "white",
            "gridwidth": 2,
            "linecolor": "white",
            "showbackground": true,
            "ticks": "",
            "zerolinecolor": "white"
           },
           "zaxis": {
            "backgroundcolor": "#E5ECF6",
            "gridcolor": "white",
            "gridwidth": 2,
            "linecolor": "white",
            "showbackground": true,
            "ticks": "",
            "zerolinecolor": "white"
           }
          },
          "shapedefaults": {
           "line": {
            "color": "#2a3f5f"
           }
          },
          "ternary": {
           "aaxis": {
            "gridcolor": "white",
            "linecolor": "white",
            "ticks": ""
           },
           "baxis": {
            "gridcolor": "white",
            "linecolor": "white",
            "ticks": ""
           },
           "bgcolor": "#E5ECF6",
           "caxis": {
            "gridcolor": "white",
            "linecolor": "white",
            "ticks": ""
           }
          },
          "title": {
           "x": 0.05
          },
          "xaxis": {
           "automargin": true,
           "gridcolor": "white",
           "linecolor": "white",
           "ticks": "",
           "title": {
            "standoff": 15
           },
           "zerolinecolor": "white",
           "zerolinewidth": 2
          },
          "yaxis": {
           "automargin": true,
           "gridcolor": "white",
           "linecolor": "white",
           "ticks": "",
           "title": {
            "standoff": 15
           },
           "zerolinecolor": "white",
           "zerolinewidth": 2
          }
         }
        }
       }
      }
     },
     "metadata": {},
     "output_type": "display_data"
    },
    {
     "name": "stdout",
     "output_type": "stream",
     "text": [
      "torch.Size([500])\n"
     ]
    },
    {
     "data": {
      "application/vnd.plotly.v1+json": {
       "config": {
        "plotlyServerURL": "https://plot.ly"
       },
       "data": [
        {
         "type": "scatter",
         "x": [
          0,
          1,
          2,
          3,
          4,
          5,
          6,
          7,
          8,
          9,
          10,
          11,
          12,
          13,
          14,
          15,
          16,
          17,
          18,
          19,
          20,
          21,
          22,
          23,
          24,
          25,
          26,
          27,
          28,
          29,
          30,
          31,
          32,
          33,
          34,
          35,
          36,
          37,
          38,
          39,
          40,
          41,
          42,
          43,
          44,
          45,
          46,
          47,
          48,
          49,
          50,
          51,
          52,
          53,
          54,
          55,
          56,
          57,
          58,
          59,
          60,
          61,
          62,
          63,
          64,
          65,
          66,
          67,
          68,
          69,
          70,
          71,
          72,
          73,
          74,
          75,
          76,
          77,
          78,
          79,
          80,
          81,
          82,
          83,
          84,
          85,
          86,
          87,
          88,
          89,
          90,
          91,
          92,
          93,
          94,
          95,
          96,
          97,
          98,
          99,
          100,
          101,
          102,
          103,
          104,
          105,
          106,
          107,
          108,
          109,
          110,
          111,
          112,
          113,
          114,
          115,
          116,
          117,
          118,
          119,
          120,
          121,
          122,
          123,
          124,
          125,
          126,
          127,
          128,
          129,
          130,
          131,
          132,
          133,
          134,
          135,
          136,
          137,
          138,
          139,
          140,
          141,
          142,
          143,
          144,
          145,
          146,
          147,
          148,
          149,
          150,
          151,
          152,
          153,
          154,
          155,
          156,
          157,
          158,
          159,
          160,
          161,
          162,
          163,
          164,
          165,
          166,
          167,
          168,
          169,
          170,
          171,
          172,
          173,
          174,
          175,
          176,
          177,
          178,
          179,
          180,
          181,
          182,
          183,
          184,
          185,
          186,
          187,
          188,
          189,
          190,
          191,
          192,
          193,
          194,
          195,
          196,
          197,
          198,
          199,
          200,
          201,
          202,
          203,
          204,
          205,
          206,
          207,
          208,
          209,
          210,
          211,
          212,
          213,
          214,
          215,
          216,
          217,
          218,
          219,
          220,
          221,
          222,
          223,
          224,
          225,
          226,
          227,
          228,
          229,
          230,
          231,
          232,
          233,
          234,
          235,
          236,
          237,
          238,
          239,
          240,
          241,
          242,
          243,
          244,
          245,
          246,
          247,
          248,
          249,
          250,
          251,
          252,
          253,
          254,
          255,
          256,
          257,
          258,
          259,
          260,
          261,
          262,
          263,
          264,
          265,
          266,
          267,
          268,
          269,
          270,
          271,
          272,
          273,
          274,
          275,
          276,
          277,
          278,
          279,
          280,
          281,
          282,
          283,
          284,
          285,
          286,
          287,
          288,
          289,
          290,
          291,
          292,
          293,
          294,
          295,
          296,
          297,
          298,
          299,
          300,
          301,
          302,
          303,
          304,
          305,
          306,
          307,
          308,
          309,
          310,
          311,
          312,
          313,
          314,
          315,
          316,
          317,
          318,
          319,
          320,
          321,
          322,
          323,
          324,
          325,
          326,
          327,
          328,
          329,
          330,
          331,
          332,
          333,
          334,
          335,
          336,
          337,
          338,
          339,
          340,
          341,
          342,
          343,
          344,
          345,
          346,
          347,
          348,
          349,
          350,
          351,
          352,
          353,
          354,
          355,
          356,
          357,
          358,
          359,
          360,
          361,
          362,
          363,
          364,
          365,
          366,
          367,
          368,
          369,
          370,
          371,
          372,
          373,
          374,
          375,
          376,
          377,
          378,
          379,
          380,
          381,
          382,
          383,
          384,
          385,
          386,
          387,
          388,
          389,
          390,
          391,
          392,
          393,
          394,
          395,
          396,
          397,
          398,
          399,
          400,
          401,
          402,
          403,
          404,
          405,
          406,
          407,
          408,
          409,
          410,
          411,
          412,
          413,
          414,
          415,
          416,
          417,
          418,
          419,
          420,
          421,
          422,
          423,
          424,
          425,
          426,
          427,
          428,
          429,
          430,
          431,
          432,
          433,
          434,
          435,
          436,
          437,
          438,
          439,
          440,
          441,
          442,
          443,
          444,
          445,
          446,
          447,
          448,
          449,
          450,
          451,
          452,
          453,
          454,
          455,
          456,
          457,
          458,
          459,
          460,
          461,
          462,
          463,
          464,
          465,
          466,
          467,
          468,
          469,
          470,
          471,
          472,
          473,
          474,
          475,
          476,
          477,
          478,
          479,
          480,
          481,
          482,
          483,
          484,
          485,
          486,
          487,
          488,
          489,
          490,
          491,
          492,
          493,
          494,
          495,
          496,
          497,
          498,
          499
         ],
         "y": [
          -0.5368008017539978,
          -0.5308695435523987,
          -0.49089163541793823,
          -0.48912012577056885,
          -0.4476735293865204,
          -0.4382166266441345,
          -0.4301643371582031,
          -0.42323729395866394,
          -0.40734344720840454,
          -0.3843356966972351,
          -0.3801990747451782,
          -0.3685319721698761,
          -0.3640150725841522,
          -0.35335561633110046,
          -0.3530084192752838,
          -0.3487624526023865,
          -0.34488970041275024,
          -0.3419901132583618,
          -0.33021965622901917,
          -0.32071352005004883,
          -0.32065486907958984,
          -0.3158011734485626,
          -0.3123702108860016,
          -0.2969074547290802,
          -0.28604331612586975,
          -0.2835250496864319,
          -0.2830597162246704,
          -0.28028714656829834,
          -0.2794632017612457,
          -0.27612805366516113,
          -0.2721012830734253,
          -0.26942887902259827,
          -0.26589903235435486,
          -0.2568655014038086,
          -0.2568167448043823,
          -0.2565730810165405,
          -0.25134381651878357,
          -0.24234354496002197,
          -0.24179381132125854,
          -0.24174506962299347,
          -0.24124938249588013,
          -0.24053135514259338,
          -0.2404666692018509,
          -0.2400832623243332,
          -0.23959171772003174,
          -0.23951132595539093,
          -0.23750834167003632,
          -0.23742634057998657,
          -0.2366897016763687,
          -0.23245938122272491,
          -0.22718805074691772,
          -0.2225029021501541,
          -0.2207975685596466,
          -0.22051936388015747,
          -0.22015799582004547,
          -0.21962970495224,
          -0.2193642556667328,
          -0.21795575320720673,
          -0.21603496372699738,
          -0.21531711518764496,
          -0.2150629162788391,
          -0.2130957394838333,
          -0.21308286488056183,
          -0.21261225640773773,
          -0.21194209158420563,
          -0.2091672718524933,
          -0.20685531198978424,
          -0.2023608535528183,
          -0.20091144740581512,
          -0.20004267990589142,
          -0.19922755658626556,
          -0.19854751229286194,
          -0.19848184287548065,
          -0.1981733739376068,
          -0.19514764845371246,
          -0.19494208693504333,
          -0.19436286389827728,
          -0.19306573271751404,
          -0.1924147754907608,
          -0.1921200305223465,
          -0.19151324033737183,
          -0.1913982480764389,
          -0.19020457565784454,
          -0.18600976467132568,
          -0.18328078091144562,
          -0.18284331262111664,
          -0.18196462094783783,
          -0.18028464913368225,
          -0.17788666486740112,
          -0.17725229263305664,
          -0.1771901249885559,
          -0.1754136085510254,
          -0.17394131422042847,
          -0.17218440771102905,
          -0.1715080291032791,
          -0.17118164896965027,
          -0.17063076794147491,
          -0.16867981851100922,
          -0.16850462555885315,
          -0.16740089654922485,
          -0.1655811369419098,
          -0.1654394119977951,
          -0.16531310975551605,
          -0.16490113735198975,
          -0.16157568991184235,
          -0.1606663018465042,
          -0.15933187305927277,
          -0.1585713028907776,
          -0.15695905685424805,
          -0.1563592553138733,
          -0.1561100035905838,
          -0.15523427724838257,
          -0.15476512908935547,
          -0.15357764065265656,
          -0.15328021347522736,
          -0.14913907647132874,
          -0.14909465610980988,
          -0.148699551820755,
          -0.1463252156972885,
          -0.14507894217967987,
          -0.1330663561820984,
          -0.13126757740974426,
          -0.12911809980869293,
          -0.1275046467781067,
          -0.1264970749616623,
          -0.12409014999866486,
          -0.1238844245672226,
          -0.12127269059419632,
          -0.12023964524269104,
          -0.11922682076692581,
          -0.11612597107887268,
          -0.11508318036794662,
          -0.11436008661985397,
          -0.11284925043582916,
          -0.11230304837226868,
          -0.11131249368190765,
          -0.10963643342256546,
          -0.10910653322935104,
          -0.10883273929357529,
          -0.10543707758188248,
          -0.10478660464286804,
          -0.1045113131403923,
          -0.10397499054670334,
          -0.10282452404499054,
          -0.10136324167251587,
          -0.10126525908708572,
          -0.10049665719270706,
          -0.09968426823616028,
          -0.09928808361291885,
          -0.09748314321041107,
          -0.09610731899738312,
          -0.09559900313615799,
          -0.09407388418912888,
          -0.09205690771341324,
          -0.09016703814268112,
          -0.08799388259649277,
          -0.08727336674928665,
          -0.0846661627292633,
          -0.08350156992673874,
          -0.08342242985963821,
          -0.08123332262039185,
          -0.08077443391084671,
          -0.07819310575723648,
          -0.07806847989559174,
          -0.07644318789243698,
          -0.07642384618520737,
          -0.07572095841169357,
          -0.07433845102787018,
          -0.07375353574752808,
          -0.0722828283905983,
          -0.0712873563170433,
          -0.07065726816654205,
          -0.06872530281543732,
          -0.06787914782762527,
          -0.06683147698640823,
          -0.06654257327318192,
          -0.06632672250270844,
          -0.0659615620970726,
          -0.06490998715162277,
          -0.06370332837104797,
          -0.06323930621147156,
          -0.06132468208670616,
          -0.06127588823437691,
          -0.058901671320199966,
          -0.058529891073703766,
          -0.05604194477200508,
          -0.05534648522734642,
          -0.05527091771364212,
          -0.052496638149023056,
          -0.050589896738529205,
          -0.050456225872039795,
          -0.050357136875391006,
          -0.05028915777802467,
          -0.048260290175676346,
          -0.04808896780014038,
          -0.04756084829568863,
          -0.04737070947885513,
          -0.046085815876722336,
          -0.045864179730415344,
          -0.04567043483257294,
          -0.04547787457704544,
          -0.04315187782049179,
          -0.042723946273326874,
          -0.04182127118110657,
          -0.039304137229919434,
          -0.03805402293801308,
          -0.03576390817761421,
          -0.034776102751493454,
          -0.03348356485366821,
          -0.03343529254198074,
          -0.03262856602668762,
          -0.03162028267979622,
          -0.03159071132540703,
          -0.03130774945020676,
          -0.031248992308974266,
          -0.030869025737047195,
          -0.030343014746904373,
          -0.027502816170454025,
          -0.026769714429974556,
          -0.026456564664840698,
          -0.026175182312726974,
          -0.025837024673819542,
          -0.02173086628317833,
          -0.02046641893684864,
          -0.019024383276700974,
          -0.018689604476094246,
          -0.018399858847260475,
          -0.017122909426689148,
          -0.0160503052175045,
          -0.015756402164697647,
          -0.015328096225857735,
          -0.014269375242292881,
          -0.012791589833796024,
          -0.012387118302285671,
          -0.012148669920861721,
          -0.011900603771209717,
          -0.011800792068243027,
          -0.010920566506683826,
          -0.01052295882254839,
          -0.009892689064145088,
          -0.008490723557770252,
          -0.008394228294491768,
          -0.008035250008106232,
          -0.0065445504151284695,
          -0.00579378567636013,
          -0.005420442670583725,
          -0.003301299409940839,
          -0.0031634496990591288,
          -0.0014354324666783214,
          -0.0011138058034703135,
          0.0005330108688212931,
          0.000811763689853251,
          0.0017915003700181842,
          0.001931808772496879,
          0.0025743525475263596,
          0.007086405996233225,
          0.009452593512833118,
          0.010833373293280602,
          0.011010353453457355,
          0.011016986332833767,
          0.013090848922729492,
          0.013206147588789463,
          0.01408666092902422,
          0.01811479963362217,
          0.018993450328707695,
          0.01939806342124939,
          0.0194624662399292,
          0.019777920097112656,
          0.020108627155423164,
          0.02109154500067234,
          0.025151565670967102,
          0.02536657266318798,
          0.02649763599038124,
          0.029691794887185097,
          0.03000100702047348,
          0.031408872455358505,
          0.03145759925246239,
          0.03154027834534645,
          0.03185627609491348,
          0.03188137710094452,
          0.0319511704146862,
          0.03232843428850174,
          0.0333518348634243,
          0.03621886298060417,
          0.03865741565823555,
          0.03994124382734299,
          0.04303405061364174,
          0.04332077503204346,
          0.04505876451730728,
          0.04526163637638092,
          0.04563077166676521,
          0.045863792300224304,
          0.046355050057172775,
          0.047101981937885284,
          0.04735135659575462,
          0.047697898000478745,
          0.04849014803767204,
          0.04886411502957344,
          0.050111882388591766,
          0.05316781625151634,
          0.05427182838320732,
          0.054513514041900635,
          0.056333910673856735,
          0.056738417595624924,
          0.062008921056985855,
          0.06250661611557007,
          0.06502625346183777,
          0.06632957607507706,
          0.06667984277009964,
          0.06752512603998184,
          0.06755463033914566,
          0.06856430321931839,
          0.06901633739471436,
          0.07263609766960144,
          0.0729014202952385,
          0.07358131557703018,
          0.0740913450717926,
          0.0745355635881424,
          0.0745902806520462,
          0.07516638934612274,
          0.07523797452449799,
          0.0756889283657074,
          0.07638828456401825,
          0.07647548615932465,
          0.0784594863653183,
          0.07935116440057755,
          0.08036935329437256,
          0.08106762915849686,
          0.08291908353567123,
          0.08301328122615814,
          0.08460115641355515,
          0.08465790003538132,
          0.08784884959459305,
          0.08812357485294342,
          0.0881388857960701,
          0.0882585197687149,
          0.08870526403188705,
          0.08951006829738617,
          0.09194600582122803,
          0.09454681724309921,
          0.09527880698442459,
          0.09956702589988708,
          0.10032092034816742,
          0.101999431848526,
          0.10306111723184586,
          0.1038391962647438,
          0.10450433194637299,
          0.10452031344175339,
          0.1047077402472496,
          0.10546089708805084,
          0.10829353332519531,
          0.1085079163312912,
          0.1092885285615921,
          0.11203936487436295,
          0.1136394515633583,
          0.11588983237743378,
          0.11591191589832306,
          0.11594986170530319,
          0.11774291098117828,
          0.11791767179965973,
          0.11836565285921097,
          0.11969728022813797,
          0.12147747725248337,
          0.1216476708650589,
          0.12365508079528809,
          0.12412805110216141,
          0.12456076592206955,
          0.12459690123796463,
          0.125137060880661,
          0.12655290961265564,
          0.1296832263469696,
          0.13167192041873932,
          0.13389061391353607,
          0.13411161303520203,
          0.13444747030735016,
          0.13950400054454803,
          0.13962891697883606,
          0.13975347578525543,
          0.13996686041355133,
          0.13997067511081696,
          0.14073413610458374,
          0.1409914195537567,
          0.14159739017486572,
          0.14320585131645203,
          0.14654171466827393,
          0.1481136977672577,
          0.14919014275074005,
          0.15252771973609924,
          0.15267737209796906,
          0.15376533567905426,
          0.15539683401584625,
          0.15554910898208618,
          0.15684574842453003,
          0.15701016783714294,
          0.1592295914888382,
          0.1608799695968628,
          0.16369037330150604,
          0.16377010941505432,
          0.1639707088470459,
          0.16400468349456787,
          0.16654880344867706,
          0.16660091280937195,
          0.16672921180725098,
          0.16687840223312378,
          0.16920234262943268,
          0.1698996126651764,
          0.17074039578437805,
          0.17266440391540527,
          0.17352207005023956,
          0.17431019246578217,
          0.17599453032016754,
          0.17690125107765198,
          0.1772654801607132,
          0.1789834350347519,
          0.17909273505210876,
          0.18002088367938995,
          0.1828245371580124,
          0.18538641929626465,
          0.18630070984363556,
          0.18657973408699036,
          0.18669961392879486,
          0.18703299760818481,
          0.18831008672714233,
          0.18838413059711456,
          0.18948164582252502,
          0.1913669854402542,
          0.19567398726940155,
          0.19568385183811188,
          0.19584153592586517,
          0.19945195317268372,
          0.2018016129732132,
          0.20499548316001892,
          0.20505154132843018,
          0.2052088975906372,
          0.20663724839687347,
          0.2141147255897522,
          0.2174421101808548,
          0.21830494701862335,
          0.22071082890033722,
          0.2226121723651886,
          0.22290007770061493,
          0.22424565255641937,
          0.22500313818454742,
          0.22783824801445007,
          0.2281910926103592,
          0.23063257336616516,
          0.2310027778148651,
          0.23355786502361298,
          0.23421525955200195,
          0.23449072241783142,
          0.23518361151218414,
          0.23741674423217773,
          0.23742584884166718,
          0.24418231844902039,
          0.25245028734207153,
          0.25258928537368774,
          0.2544060945510864,
          0.2550329566001892,
          0.2569344937801361,
          0.2594113349914551,
          0.2626795470714569,
          0.26883745193481445,
          0.27113062143325806,
          0.2729473114013672,
          0.2749646306037903,
          0.27745088934898376,
          0.2809716761112213,
          0.285086989402771,
          0.2898963689804077,
          0.2907809019088745,
          0.2944337725639343,
          0.29643499851226807,
          0.2976393401622772,
          0.2983293831348419,
          0.29894354939460754,
          0.30061134696006775,
          0.3028697669506073,
          0.3044099807739258,
          0.3129047453403473,
          0.3223266303539276,
          0.322404682636261,
          0.32328909635543823,
          0.32356300950050354,
          0.33775782585144043,
          0.3437947928905487,
          0.3439519703388214,
          0.3442235291004181,
          0.3506978154182434,
          0.35373419523239136,
          0.3644190728664398,
          0.37359002232551575,
          0.3902703821659088,
          0.39300787448883057,
          0.40521079301834106,
          0.4422782063484192,
          0.4514695405960083,
          0.4533580541610718,
          0.47520387172698975,
          0.49836552143096924,
          0.7983052730560303
         ]
        }
       ],
       "layout": {
        "template": {
         "data": {
          "bar": [
           {
            "error_x": {
             "color": "#2a3f5f"
            },
            "error_y": {
             "color": "#2a3f5f"
            },
            "marker": {
             "line": {
              "color": "#E5ECF6",
              "width": 0.5
             },
             "pattern": {
              "fillmode": "overlay",
              "size": 10,
              "solidity": 0.2
             }
            },
            "type": "bar"
           }
          ],
          "barpolar": [
           {
            "marker": {
             "line": {
              "color": "#E5ECF6",
              "width": 0.5
             },
             "pattern": {
              "fillmode": "overlay",
              "size": 10,
              "solidity": 0.2
             }
            },
            "type": "barpolar"
           }
          ],
          "carpet": [
           {
            "aaxis": {
             "endlinecolor": "#2a3f5f",
             "gridcolor": "white",
             "linecolor": "white",
             "minorgridcolor": "white",
             "startlinecolor": "#2a3f5f"
            },
            "baxis": {
             "endlinecolor": "#2a3f5f",
             "gridcolor": "white",
             "linecolor": "white",
             "minorgridcolor": "white",
             "startlinecolor": "#2a3f5f"
            },
            "type": "carpet"
           }
          ],
          "choropleth": [
           {
            "colorbar": {
             "outlinewidth": 0,
             "ticks": ""
            },
            "type": "choropleth"
           }
          ],
          "contour": [
           {
            "colorbar": {
             "outlinewidth": 0,
             "ticks": ""
            },
            "colorscale": [
             [
              0,
              "#0d0887"
             ],
             [
              0.1111111111111111,
              "#46039f"
             ],
             [
              0.2222222222222222,
              "#7201a8"
             ],
             [
              0.3333333333333333,
              "#9c179e"
             ],
             [
              0.4444444444444444,
              "#bd3786"
             ],
             [
              0.5555555555555556,
              "#d8576b"
             ],
             [
              0.6666666666666666,
              "#ed7953"
             ],
             [
              0.7777777777777778,
              "#fb9f3a"
             ],
             [
              0.8888888888888888,
              "#fdca26"
             ],
             [
              1,
              "#f0f921"
             ]
            ],
            "type": "contour"
           }
          ],
          "contourcarpet": [
           {
            "colorbar": {
             "outlinewidth": 0,
             "ticks": ""
            },
            "type": "contourcarpet"
           }
          ],
          "heatmap": [
           {
            "colorbar": {
             "outlinewidth": 0,
             "ticks": ""
            },
            "colorscale": [
             [
              0,
              "#0d0887"
             ],
             [
              0.1111111111111111,
              "#46039f"
             ],
             [
              0.2222222222222222,
              "#7201a8"
             ],
             [
              0.3333333333333333,
              "#9c179e"
             ],
             [
              0.4444444444444444,
              "#bd3786"
             ],
             [
              0.5555555555555556,
              "#d8576b"
             ],
             [
              0.6666666666666666,
              "#ed7953"
             ],
             [
              0.7777777777777778,
              "#fb9f3a"
             ],
             [
              0.8888888888888888,
              "#fdca26"
             ],
             [
              1,
              "#f0f921"
             ]
            ],
            "type": "heatmap"
           }
          ],
          "heatmapgl": [
           {
            "colorbar": {
             "outlinewidth": 0,
             "ticks": ""
            },
            "colorscale": [
             [
              0,
              "#0d0887"
             ],
             [
              0.1111111111111111,
              "#46039f"
             ],
             [
              0.2222222222222222,
              "#7201a8"
             ],
             [
              0.3333333333333333,
              "#9c179e"
             ],
             [
              0.4444444444444444,
              "#bd3786"
             ],
             [
              0.5555555555555556,
              "#d8576b"
             ],
             [
              0.6666666666666666,
              "#ed7953"
             ],
             [
              0.7777777777777778,
              "#fb9f3a"
             ],
             [
              0.8888888888888888,
              "#fdca26"
             ],
             [
              1,
              "#f0f921"
             ]
            ],
            "type": "heatmapgl"
           }
          ],
          "histogram": [
           {
            "marker": {
             "pattern": {
              "fillmode": "overlay",
              "size": 10,
              "solidity": 0.2
             }
            },
            "type": "histogram"
           }
          ],
          "histogram2d": [
           {
            "colorbar": {
             "outlinewidth": 0,
             "ticks": ""
            },
            "colorscale": [
             [
              0,
              "#0d0887"
             ],
             [
              0.1111111111111111,
              "#46039f"
             ],
             [
              0.2222222222222222,
              "#7201a8"
             ],
             [
              0.3333333333333333,
              "#9c179e"
             ],
             [
              0.4444444444444444,
              "#bd3786"
             ],
             [
              0.5555555555555556,
              "#d8576b"
             ],
             [
              0.6666666666666666,
              "#ed7953"
             ],
             [
              0.7777777777777778,
              "#fb9f3a"
             ],
             [
              0.8888888888888888,
              "#fdca26"
             ],
             [
              1,
              "#f0f921"
             ]
            ],
            "type": "histogram2d"
           }
          ],
          "histogram2dcontour": [
           {
            "colorbar": {
             "outlinewidth": 0,
             "ticks": ""
            },
            "colorscale": [
             [
              0,
              "#0d0887"
             ],
             [
              0.1111111111111111,
              "#46039f"
             ],
             [
              0.2222222222222222,
              "#7201a8"
             ],
             [
              0.3333333333333333,
              "#9c179e"
             ],
             [
              0.4444444444444444,
              "#bd3786"
             ],
             [
              0.5555555555555556,
              "#d8576b"
             ],
             [
              0.6666666666666666,
              "#ed7953"
             ],
             [
              0.7777777777777778,
              "#fb9f3a"
             ],
             [
              0.8888888888888888,
              "#fdca26"
             ],
             [
              1,
              "#f0f921"
             ]
            ],
            "type": "histogram2dcontour"
           }
          ],
          "mesh3d": [
           {
            "colorbar": {
             "outlinewidth": 0,
             "ticks": ""
            },
            "type": "mesh3d"
           }
          ],
          "parcoords": [
           {
            "line": {
             "colorbar": {
              "outlinewidth": 0,
              "ticks": ""
             }
            },
            "type": "parcoords"
           }
          ],
          "pie": [
           {
            "automargin": true,
            "type": "pie"
           }
          ],
          "scatter": [
           {
            "fillpattern": {
             "fillmode": "overlay",
             "size": 10,
             "solidity": 0.2
            },
            "type": "scatter"
           }
          ],
          "scatter3d": [
           {
            "line": {
             "colorbar": {
              "outlinewidth": 0,
              "ticks": ""
             }
            },
            "marker": {
             "colorbar": {
              "outlinewidth": 0,
              "ticks": ""
             }
            },
            "type": "scatter3d"
           }
          ],
          "scattercarpet": [
           {
            "marker": {
             "colorbar": {
              "outlinewidth": 0,
              "ticks": ""
             }
            },
            "type": "scattercarpet"
           }
          ],
          "scattergeo": [
           {
            "marker": {
             "colorbar": {
              "outlinewidth": 0,
              "ticks": ""
             }
            },
            "type": "scattergeo"
           }
          ],
          "scattergl": [
           {
            "marker": {
             "colorbar": {
              "outlinewidth": 0,
              "ticks": ""
             }
            },
            "type": "scattergl"
           }
          ],
          "scattermapbox": [
           {
            "marker": {
             "colorbar": {
              "outlinewidth": 0,
              "ticks": ""
             }
            },
            "type": "scattermapbox"
           }
          ],
          "scatterpolar": [
           {
            "marker": {
             "colorbar": {
              "outlinewidth": 0,
              "ticks": ""
             }
            },
            "type": "scatterpolar"
           }
          ],
          "scatterpolargl": [
           {
            "marker": {
             "colorbar": {
              "outlinewidth": 0,
              "ticks": ""
             }
            },
            "type": "scatterpolargl"
           }
          ],
          "scatterternary": [
           {
            "marker": {
             "colorbar": {
              "outlinewidth": 0,
              "ticks": ""
             }
            },
            "type": "scatterternary"
           }
          ],
          "surface": [
           {
            "colorbar": {
             "outlinewidth": 0,
             "ticks": ""
            },
            "colorscale": [
             [
              0,
              "#0d0887"
             ],
             [
              0.1111111111111111,
              "#46039f"
             ],
             [
              0.2222222222222222,
              "#7201a8"
             ],
             [
              0.3333333333333333,
              "#9c179e"
             ],
             [
              0.4444444444444444,
              "#bd3786"
             ],
             [
              0.5555555555555556,
              "#d8576b"
             ],
             [
              0.6666666666666666,
              "#ed7953"
             ],
             [
              0.7777777777777778,
              "#fb9f3a"
             ],
             [
              0.8888888888888888,
              "#fdca26"
             ],
             [
              1,
              "#f0f921"
             ]
            ],
            "type": "surface"
           }
          ],
          "table": [
           {
            "cells": {
             "fill": {
              "color": "#EBF0F8"
             },
             "line": {
              "color": "white"
             }
            },
            "header": {
             "fill": {
              "color": "#C8D4E3"
             },
             "line": {
              "color": "white"
             }
            },
            "type": "table"
           }
          ]
         },
         "layout": {
          "annotationdefaults": {
           "arrowcolor": "#2a3f5f",
           "arrowhead": 0,
           "arrowwidth": 1
          },
          "autotypenumbers": "strict",
          "coloraxis": {
           "colorbar": {
            "outlinewidth": 0,
            "ticks": ""
           }
          },
          "colorscale": {
           "diverging": [
            [
             0,
             "#8e0152"
            ],
            [
             0.1,
             "#c51b7d"
            ],
            [
             0.2,
             "#de77ae"
            ],
            [
             0.3,
             "#f1b6da"
            ],
            [
             0.4,
             "#fde0ef"
            ],
            [
             0.5,
             "#f7f7f7"
            ],
            [
             0.6,
             "#e6f5d0"
            ],
            [
             0.7,
             "#b8e186"
            ],
            [
             0.8,
             "#7fbc41"
            ],
            [
             0.9,
             "#4d9221"
            ],
            [
             1,
             "#276419"
            ]
           ],
           "sequential": [
            [
             0,
             "#0d0887"
            ],
            [
             0.1111111111111111,
             "#46039f"
            ],
            [
             0.2222222222222222,
             "#7201a8"
            ],
            [
             0.3333333333333333,
             "#9c179e"
            ],
            [
             0.4444444444444444,
             "#bd3786"
            ],
            [
             0.5555555555555556,
             "#d8576b"
            ],
            [
             0.6666666666666666,
             "#ed7953"
            ],
            [
             0.7777777777777778,
             "#fb9f3a"
            ],
            [
             0.8888888888888888,
             "#fdca26"
            ],
            [
             1,
             "#f0f921"
            ]
           ],
           "sequentialminus": [
            [
             0,
             "#0d0887"
            ],
            [
             0.1111111111111111,
             "#46039f"
            ],
            [
             0.2222222222222222,
             "#7201a8"
            ],
            [
             0.3333333333333333,
             "#9c179e"
            ],
            [
             0.4444444444444444,
             "#bd3786"
            ],
            [
             0.5555555555555556,
             "#d8576b"
            ],
            [
             0.6666666666666666,
             "#ed7953"
            ],
            [
             0.7777777777777778,
             "#fb9f3a"
            ],
            [
             0.8888888888888888,
             "#fdca26"
            ],
            [
             1,
             "#f0f921"
            ]
           ]
          },
          "colorway": [
           "#636efa",
           "#EF553B",
           "#00cc96",
           "#ab63fa",
           "#FFA15A",
           "#19d3f3",
           "#FF6692",
           "#B6E880",
           "#FF97FF",
           "#FECB52"
          ],
          "font": {
           "color": "#2a3f5f"
          },
          "geo": {
           "bgcolor": "white",
           "lakecolor": "white",
           "landcolor": "#E5ECF6",
           "showlakes": true,
           "showland": true,
           "subunitcolor": "white"
          },
          "hoverlabel": {
           "align": "left"
          },
          "hovermode": "closest",
          "mapbox": {
           "style": "light"
          },
          "paper_bgcolor": "white",
          "plot_bgcolor": "#E5ECF6",
          "polar": {
           "angularaxis": {
            "gridcolor": "white",
            "linecolor": "white",
            "ticks": ""
           },
           "bgcolor": "#E5ECF6",
           "radialaxis": {
            "gridcolor": "white",
            "linecolor": "white",
            "ticks": ""
           }
          },
          "scene": {
           "xaxis": {
            "backgroundcolor": "#E5ECF6",
            "gridcolor": "white",
            "gridwidth": 2,
            "linecolor": "white",
            "showbackground": true,
            "ticks": "",
            "zerolinecolor": "white"
           },
           "yaxis": {
            "backgroundcolor": "#E5ECF6",
            "gridcolor": "white",
            "gridwidth": 2,
            "linecolor": "white",
            "showbackground": true,
            "ticks": "",
            "zerolinecolor": "white"
           },
           "zaxis": {
            "backgroundcolor": "#E5ECF6",
            "gridcolor": "white",
            "gridwidth": 2,
            "linecolor": "white",
            "showbackground": true,
            "ticks": "",
            "zerolinecolor": "white"
           }
          },
          "shapedefaults": {
           "line": {
            "color": "#2a3f5f"
           }
          },
          "ternary": {
           "aaxis": {
            "gridcolor": "white",
            "linecolor": "white",
            "ticks": ""
           },
           "baxis": {
            "gridcolor": "white",
            "linecolor": "white",
            "ticks": ""
           },
           "bgcolor": "#E5ECF6",
           "caxis": {
            "gridcolor": "white",
            "linecolor": "white",
            "ticks": ""
           }
          },
          "title": {
           "x": 0.05
          },
          "xaxis": {
           "automargin": true,
           "gridcolor": "white",
           "linecolor": "white",
           "ticks": "",
           "title": {
            "standoff": 15
           },
           "zerolinecolor": "white",
           "zerolinewidth": 2
          },
          "yaxis": {
           "automargin": true,
           "gridcolor": "white",
           "linecolor": "white",
           "ticks": "",
           "title": {
            "standoff": 15
           },
           "zerolinecolor": "white",
           "zerolinewidth": 2
          }
         }
        }
       }
      }
     },
     "metadata": {},
     "output_type": "display_data"
    }
   ],
   "source": [
    "# load all weights in this folder of .pt into an array then plot the weights\n",
    "#pay attention that all the images of the weight tensor are padded with zero to the start of the tensor to match the size  of a perfect square\n",
    "import torch\n",
    "import plotly.express as px\n",
    "import os\n",
    "import math\n",
    "import plotly.graph_objects as go\n",
    "\n",
    "def plot_kernels_3d(tensors):\n",
    "    for tensor in tensors:\n",
    "        root = math.sqrt(tensor.shape[0])        \n",
    "        if int(root) * int(root) == tensor.shape[0]:\n",
    "            num_cols = int(root)\n",
    "            num_rows = int(root)\n",
    "            fig = go.Figure(data=go.Surface(z=tensor.reshape(num_rows, num_cols)))\n",
    "            fig.update_traces(contours_z=dict(show=True, usecolormap=True,\n",
    "                                 highlightcolor=\"limegreen\", project_z=True))\n",
    "            fig.show() \n",
    "        else:\n",
    "            num_cols = int(root) + 1\n",
    "            num_rows = int(root) + 1\n",
    "            a = torch.zeros(num_rows * num_cols)\n",
    "            print(a.shape)\n",
    "            a[a.shape[0]-tensor.shape[0]:,] = tensor\n",
    "            fig = go.Figure(data=go.Surface(z=a.reshape(num_rows, num_cols)))\n",
    "            fig.update_traces(contours_z=dict(show=True, usecolormap=True,\n",
    "                                 highlightcolor=\"limegreen\", project_z=True))\n",
    "            fig.show() \n",
    "\n",
    "def plot_kernels_2d(tensors):\n",
    "    for tensor in tensors:\n",
    "        root = math.sqrt(tensor.shape[0])        \n",
    "        if int(root) * int(root) == tensor.shape[0]:\n",
    "            num_cols = int(root)\n",
    "            num_rows = int(root)\n",
    "            fig = px.imshow(tensor.reshape(num_rows, num_cols))\n",
    "            fig.show() \n",
    "        else:\n",
    "            num_cols = int(root) + 1\n",
    "            num_rows = int(root) + 1\n",
    "            a = torch.zeros(num_rows * num_cols)\n",
    "            print(a.shape)\n",
    "            a[a.shape[0]-tensor.shape[0]:,] = tensor\n",
    "            fig = px.imshow(a.reshape(num_rows, num_cols))\n",
    "            fig.show() \n",
    "         \n",
    "def plot_kernels_1d(tensors):\n",
    "    for tensor in tensors:\n",
    "        fig = go.Figure()\n",
    "        print(tensor.size())\n",
    "        fig.add_trace(go.Scatter(x=[i for i in range(0,int(tensor.size()[0]))], y=tensor ))\n",
    "        fig.show()       \n",
    "\n",
    "def plot_kernels_1d_sorted(tensors):\n",
    "    for tensor in tensors:\n",
    "        fig = go.Figure()\n",
    "        print(tensor.size())\n",
    "        fig.add_trace(go.Scatter(x=[i for i in range(0,int(tensor.size()[0]))], y=tensor.sort()[0] ))\n",
    "        fig.show()    \n",
    "\n",
    "def load_model(path):\n",
    "    model = torch.load(path)\n",
    "    return model\n",
    "\n",
    "def get_weights(model):\n",
    "    weights = model['V']\n",
    "    return weights.t()[0].cpu()\n",
    "\n",
    "def get_weights_from_folder(folder):\n",
    "    weights = []\n",
    "    for file in os.listdir(folder):\n",
    "        if file.endswith(\".pt\") and not \"id0\" in file:\n",
    "            model = load_model(folder+'/'+file)\n",
    "            weights.append(get_weights(model))\n",
    "    plot_kernels_1d_sorted(weights)\n",
    "\n",
    "get_weights_from_folder('./model/lenet/mnist/')\n",
    "\n"
   ]
  }
 ],
 "metadata": {
  "kernelspec": {
   "display_name": "Python 3.9.12 64-bit",
   "language": "python",
   "name": "python3"
  },
  "language_info": {
   "codemirror_mode": {
    "name": "ipython",
    "version": 3
   },
   "file_extension": ".py",
   "mimetype": "text/x-python",
   "name": "python",
   "nbconvert_exporter": "python",
   "pygments_lexer": "ipython3",
   "version": "3.9.12"
  },
  "orig_nbformat": 4,
  "vscode": {
   "interpreter": {
    "hash": "e13549091eeb6d212316983f0d9bb375e4ef3e549472c705cc2bde65fe2521f7"
   }
  }
 },
 "nbformat": 4,
 "nbformat_minor": 2
}
