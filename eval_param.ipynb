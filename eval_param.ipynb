{
 "cells": [
  {
   "cell_type": "code",
   "execution_count": 1,
   "metadata": {},
   "outputs": [
    {
     "name": "stdout",
     "output_type": "stream",
     "text": [
      "GPU is available\n"
     ]
    }
   ],
   "source": [
    "import argparse\n",
    "\n",
    "import torch\n",
    "import torch.optim as optim\n",
    "from torchvision import transforms\n",
    "import json\n",
    "import os\n",
    "\n",
    "from train import fit\n",
    "from intrinsic_wrappers import *\n",
    "from utils import get_input_args\n",
    "from model_builder import *\n",
    "from dataset_builder import build_dataset\n",
    "\n",
    "\n",
    "if torch.cuda.is_available():\n",
    "    device = torch.device(\"cuda\")\n",
    "    print(\"GPU is available\")\n",
    "else:\n",
    "    device = torch.device(\"cpu\")\n",
    "    print(\"GPU is not available\")\n",
    "\n",
    "# add reproducibility stuff\n",
    "torch.manual_seed(42)\n",
    "torch.cuda.manual_seed_all(42)\n",
    "np.random.seed(42)\n",
    "torch.backends.cudnn.deterministic = True\n",
    "torch.backends.cudnn.benchmark = False"
   ]
  },
  {
   "cell_type": "code",
   "execution_count": 2,
   "metadata": {},
   "outputs": [
    {
     "name": "stdout",
     "output_type": "stream",
     "text": [
      "Namespace(dataset='mnist', intrinsic_dim=600, learning_rate=0.01, architecture='fcn', hidden_dim=200, num_layers=1, training_result_file='results.txt', projection='dense', model_save_path='model', optimizer='sgd', num_epochs=100, l2_reg=0.0)\n"
     ]
    }
   ],
   "source": [
    "args = argparse.Namespace(dataset='mnist', intrinsic_dim=600, learning_rate=0.01, architecture='fcn', hidden_dim=200, num_layers=1, training_result_file='results.txt', projection='dense', model_save_path=\"model\", optimizer='sgd', num_epochs=100, l2_reg=0.0)\n",
    "\n",
    "print(args)"
   ]
  },
  {
   "cell_type": "code",
   "execution_count": 3,
   "metadata": {},
   "outputs": [
    {
     "name": "stdout",
     "output_type": "stream",
     "text": [
      "Number of parameters: 199210\n",
      "FullyConnectedNetwork(\n",
      "  (fc_in): Linear(in_features=784, out_features=200, bias=True)\n",
      "  (fcs): ModuleList(\n",
      "    (0): Linear(in_features=200, out_features=200, bias=True)\n",
      "  )\n",
      "  (fc_out): Linear(in_features=200, out_features=10, bias=True)\n",
      ")\n",
      "Number of intrinsic parameters: 600\n"
     ]
    },
    {
     "data": {
      "text/plain": [
       "DenseWrap()"
      ]
     },
     "execution_count": 3,
     "metadata": {},
     "output_type": "execute_result"
    }
   ],
   "source": [
    "# load the dataset and all the cooresponding parameters\n",
    "(\n",
    "    train_dataset,\n",
    "    test_dataset,\n",
    "    CHANNEL_IN,\n",
    "    INPUT_HEIGHT,\n",
    "    INPUT_WIDTH,\n",
    "    OUTPUT_DIM,\n",
    "    VAL_GLOBAL_ACCURACY,\n",
    ") = build_dataset(\n",
    "    dataset_name=args.dataset.upper(),\n",
    "    img_transform=transforms.Compose([transforms.ToTensor()]),\n",
    ")\n",
    "\n",
    "# load the model\n",
    "model, num_params = build_model(\n",
    "    args.architecture,\n",
    "    INPUT_HEIGHT,\n",
    "    INPUT_WIDTH,\n",
    "    args.hidden_dim,\n",
    "    OUTPUT_DIM,\n",
    "    args.num_layers,\n",
    "    CHANNEL_IN,\n",
    "    args.training_result_file,\n",
    "    args.dataset,\n",
    "    device, # the function already push the model to specific device!\n",
    ")\n",
    "\n",
    "# it is a little bit ugly: 0 hidden dimension means that we do not want to use the intrinsic dimension method to train our network and we use a normal training\n",
    "if args.intrinsic_dim > 0:\n",
    "    # project the model on the subspace of dimension equal to intrinsic dimension\n",
    "    if args.projection == \"dense\":\n",
    "        # dense projection\n",
    "        model_intrinsic = DenseWrap(model, args.intrinsic_dim, device)\n",
    "    elif args.projection == \"fastfood\":\n",
    "        # fastfood projection\n",
    "        model_intrinsic = FastfoodWrapper(model, args.intrinsic_dim, device)\n",
    "        # TODO: add the other projection methods like sparse and others\n",
    "    else:\n",
    "        raise Exception(\"Name of projection not in: [dense, fastfood]\")\n",
    "else:\n",
    "    # standard training\n",
    "    model_intrinsic = model\n",
    "\n",
    "count_params(model=model_intrinsic, msg=\"Number of intrinsic parameters: \")\n",
    "\n",
    "model_intrinsic.to(device)\n",
    "\n",
    "saving_path = f\"./{args.model_save_path}/{args.architecture}/{args.dataset}/\"\n",
    "pretrained_path = f\"{saving_path}{args.architecture}_h{args.hidden_dim}_id{args.intrinsic_dim}_lay{args.num_layers}_lr{args.learning_rate}_proj_{args.projection}_opt_{args.optimizer}.pt\" if args.architecture == \"fcn\" else f\"{saving_path}{args.architecture}_id{args.intrinsic_dim}_lr{args.learning_rate}_proj_{args.projection}_opt_{args.optimizer}.pt\"\n",
    "\n",
    "model_intrinsic.load_state_dict(torch.load(f\"{saving_path}fcn_h200_id600_lay1.pt\", map_location=device))\n",
    "model_intrinsic.eval()\n"
   ]
  },
  {
   "cell_type": "code",
   "execution_count": 4,
   "metadata": {},
   "outputs": [],
   "source": [
    "from torch.utils.data import DataLoader\n",
    "test_dataloader = DataLoader(\n",
    "        test_dataset,\n",
    "        batch_size=128,\n",
    "        shuffle=True,\n",
    "        num_workers=2,\n",
    "        pin_memory=True,\n",
    "        persistent_workers=True,  # on Winzoz system this is needed, if you don't want wait forever for the creation of the workers at each epoch\n",
    "    )"
   ]
  },
  {
   "cell_type": "code",
   "execution_count": 5,
   "metadata": {},
   "outputs": [
    {
     "name": "stderr",
     "output_type": "stream",
     "text": [
      "Test Epoch: 1 [1248/10000 \tLoss: 25.295899, Accuracy: 9053/10000 (90.53%): 100%|██████████| 79/79 [00:02<00:00, 31.92it/s]"
     ]
    },
    {
     "name": "stdout",
     "output_type": "stream",
     "text": [
      "Validation Average loss: 0.002530\n",
      "0.9053 0.0025295899376273157\n"
     ]
    },
    {
     "name": "stderr",
     "output_type": "stream",
     "text": [
      "\n"
     ]
    }
   ],
   "source": [
    "from tqdm import tqdm\n",
    "\n",
    "test_loss = 0\n",
    "correct = 0\n",
    "\n",
    "tqdm_iterator = tqdm(\n",
    "    enumerate(test_dataloader),\n",
    "    total=len(test_dataloader),\n",
    "    desc=\"\",\n",
    "    leave=True,\n",
    ")\n",
    "\n",
    "len_ts_dl_ds = len(test_dataloader.dataset)\n",
    "\n",
    "with torch.no_grad():\n",
    "    for batch_idx, (data, target) in tqdm_iterator:\n",
    "        data, target = data.to(device, non_blocking=True), target.to(\n",
    "            device, non_blocking=True\n",
    "        )\n",
    "        output = model_intrinsic(data)\n",
    "        test_loss += F.cross_entropy(output, target).item()  # sum up batch loss\n",
    "        # get the index of the max probability\n",
    "        pred = output.max(1, keepdim=True)[1] # equal to argmax\n",
    "        correct += pred.eq(target.view_as(pred)).cpu().sum().item()\n",
    "        tqdm_iterator.set_description(\n",
    "            f\"Test Epoch: 1 [{batch_idx * len(data)}/{len_ts_dl_ds} \\tLoss: {test_loss:.6f}, Accuracy: {correct}/{len_ts_dl_ds} ({100.0 * correct / len_ts_dl_ds}%)\"\n",
    "        )\n",
    "    test_loss /= len(test_dataloader.dataset)\n",
    "    print(f\"Validation Average loss: {test_loss:.6f}\")\n",
    "\n",
    "    tqdm_iterator.close()\n",
    "\n",
    "# show an histogram of the weights of the model\n",
    "\"\"\"start = -1\n",
    "stop = 1\n",
    "bins = 30\n",
    "for param in model.parameters():\n",
    "    if param.requires_grad:\n",
    "        \n",
    "        hist = torch.histc(param.data, bins = bins, min = start, max = stop)\n",
    "        x = np.arange(start, stop, (stop-start)/bins)\n",
    "        plt.bar(x, hist.cpu(), align='center')\n",
    "        plt.ylabel('Frequency')\n",
    "        plt.show() \"\"\"\n",
    "\n",
    "print(correct / len(test_dataloader.dataset), test_loss)"
   ]
  },
  {
   "cell_type": "code",
   "execution_count": 6,
   "metadata": {},
   "outputs": [
    {
     "name": "stdout",
     "output_type": "stream",
     "text": [
      "name:  V\n",
      "<class 'torch.nn.parameter.Parameter'>\n",
      "param.shape:  torch.Size([600, 1])\n",
      "param.requires_grad:  True\n",
      "=====\n"
     ]
    }
   ],
   "source": [
    "for name, param in model_intrinsic.named_parameters():\n",
    "    print('name: ', name)\n",
    "    print(type(param))\n",
    "    print('param.shape: ', param.shape)\n",
    "    print('param.requires_grad: ', param.requires_grad)\n",
    "    print('=====')"
   ]
  }
 ],
 "metadata": {
  "kernelspec": {
   "display_name": "Python 3.9.12 64-bit",
   "language": "python",
   "name": "python3"
  },
  "language_info": {
   "codemirror_mode": {
    "name": "ipython",
    "version": 3
   },
   "file_extension": ".py",
   "mimetype": "text/x-python",
   "name": "python",
   "nbconvert_exporter": "python",
   "pygments_lexer": "ipython3",
   "version": "3.9.12"
  },
  "orig_nbformat": 4,
  "vscode": {
   "interpreter": {
    "hash": "e13549091eeb6d212316983f0d9bb375e4ef3e549472c705cc2bde65fe2521f7"
   }
  }
 },
 "nbformat": 4,
 "nbformat_minor": 2
}
